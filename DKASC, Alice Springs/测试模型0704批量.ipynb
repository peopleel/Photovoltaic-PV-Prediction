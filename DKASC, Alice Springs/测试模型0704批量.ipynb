{
 "cells": [
  {
   "cell_type": "markdown",
   "metadata": {},
   "source": [
    "# 九个站点批量计算"
   ]
  },
  {
   "cell_type": "code",
   "execution_count": 1,
   "metadata": {},
   "outputs": [
    {
     "name": "stderr",
     "output_type": "stream",
     "text": [
      "C:\\ProgramData\\Anaconda3\\lib\\site-packages\\tensorflow\\python\\framework\\dtypes.py:469: FutureWarning: Passing (type, 1) or '1type' as a synonym of type is deprecated; in a future version of numpy, it will be understood as (type, (1,)) / '(1,)type'.\n",
      "  _np_qint8 = np.dtype([(\"qint8\", np.int8, 1)])\n",
      "C:\\ProgramData\\Anaconda3\\lib\\site-packages\\tensorflow\\python\\framework\\dtypes.py:470: FutureWarning: Passing (type, 1) or '1type' as a synonym of type is deprecated; in a future version of numpy, it will be understood as (type, (1,)) / '(1,)type'.\n",
      "  _np_quint8 = np.dtype([(\"quint8\", np.uint8, 1)])\n",
      "C:\\ProgramData\\Anaconda3\\lib\\site-packages\\tensorflow\\python\\framework\\dtypes.py:471: FutureWarning: Passing (type, 1) or '1type' as a synonym of type is deprecated; in a future version of numpy, it will be understood as (type, (1,)) / '(1,)type'.\n",
      "  _np_qint16 = np.dtype([(\"qint16\", np.int16, 1)])\n",
      "C:\\ProgramData\\Anaconda3\\lib\\site-packages\\tensorflow\\python\\framework\\dtypes.py:472: FutureWarning: Passing (type, 1) or '1type' as a synonym of type is deprecated; in a future version of numpy, it will be understood as (type, (1,)) / '(1,)type'.\n",
      "  _np_quint16 = np.dtype([(\"quint16\", np.uint16, 1)])\n",
      "C:\\ProgramData\\Anaconda3\\lib\\site-packages\\tensorflow\\python\\framework\\dtypes.py:473: FutureWarning: Passing (type, 1) or '1type' as a synonym of type is deprecated; in a future version of numpy, it will be understood as (type, (1,)) / '(1,)type'.\n",
      "  _np_qint32 = np.dtype([(\"qint32\", np.int32, 1)])\n",
      "C:\\ProgramData\\Anaconda3\\lib\\site-packages\\tensorflow\\python\\framework\\dtypes.py:476: FutureWarning: Passing (type, 1) or '1type' as a synonym of type is deprecated; in a future version of numpy, it will be understood as (type, (1,)) / '(1,)type'.\n",
      "  np_resource = np.dtype([(\"resource\", np.ubyte, 1)])\n",
      "C:\\ProgramData\\Anaconda3\\lib\\site-packages\\h5py\\__init__.py:36: FutureWarning: Conversion of the second argument of issubdtype from `float` to `np.floating` is deprecated. In future, it will be treated as `np.float64 == np.dtype(float).type`.\n",
      "  from ._conv import register_converters as _register_converters\n",
      "Using TensorFlow backend.\n"
     ]
    }
   ],
   "source": [
    "import os\n",
    "import random\n",
    "import pandas as pd\n",
    "import numpy as np\n",
    "import matplotlib.pyplot as plt\n",
    "import math\n",
    "import tensorflow as tf\n",
    "import keras\n",
    "import catboost as cb\n",
    "from pandas import read_csv\n",
    "from math import sqrt\n",
    "from numpy import concatenate\n",
    "from keras.models import Sequential\n",
    "from keras.layers import Dense\n",
    "from keras.layers import Dropout\n",
    "from keras.layers import LSTM\n",
    "from sklearn.preprocessing import MinMaxScaler\n",
    "from sklearn.metrics import mean_squared_error\n",
    "from sklearn import metrics\n",
    "from sklearn import svm\n",
    "from keras.layers.core import Dense, Activation, Dropout\n",
    "from sklearn.externals import joblib\n",
    "%matplotlib inline"
   ]
  },
  {
   "cell_type": "code",
   "execution_count": 2,
   "metadata": {},
   "outputs": [],
   "source": [
    "import os\n",
    "os.environ[\"CUDA_VISIBLE_DEVICES\"] = \"0\"\n",
    "config = tf.ConfigProto(allow_soft_placement = True)\n",
    "gpu_options = tf.GPUOptions(per_process_gpu_memory_fraction = 0.5)\n",
    "config.gpu_options.allow_growth = True\n",
    "sess0 = tf.InteractiveSession(config = config)"
   ]
  },
  {
   "cell_type": "code",
   "execution_count": 3,
   "metadata": {},
   "outputs": [
    {
     "name": "stdout",
     "output_type": "stream",
     "text": [
      "E:\\Research Project\\DKASC, Alice Springs\n"
     ]
    }
   ],
   "source": [
    "print(os.getcwd()) # 打印当前工作目录"
   ]
  },
  {
   "cell_type": "code",
   "execution_count": 4,
   "metadata": {},
   "outputs": [
    {
     "data": {
      "text/plain": [
       "['.idea',\n",
       " '.ipynb_checkpoints',\n",
       " '101-Site_DKA-WeatherStation',\n",
       " '96-Site_DKA-MasterMeter1',\n",
       " 'Alice_Springs_2016-2020',\n",
       " 'Dataset',\n",
       " 'logs',\n",
       " 'picture',\n",
       " 'Predict',\n",
       " 'Program backups',\n",
       " 'temp',\n",
       " 'venv',\n",
       " '数据集_小波包分解重构数据.ipynb',\n",
       " '数据集_预处理_第二版0702.ipynb',\n",
       " '测试小波分解.ipynb',\n",
       " '测试模型0622.ipynb',\n",
       " '测试模型0704.ipynb',\n",
       " '测试模型0704批量.ipynb',\n",
       " '画图.ipynb',\n",
       " '画图0704.ipynb',\n",
       " '笔记.ipynb',\n",
       " '训练模型0622.ipynb',\n",
       " '训练模型0702.ipynb',\n",
       " '训练模型0703 WPD.ipynb']"
      ]
     },
     "execution_count": 4,
     "metadata": {},
     "output_type": "execute_result"
    }
   ],
   "source": [
    "os.listdir(os.getcwd())"
   ]
  },
  {
   "cell_type": "code",
   "execution_count": 5,
   "metadata": {},
   "outputs": [],
   "source": [
    "os.chdir(\"./Dataset/test0702/\")"
   ]
  },
  {
   "cell_type": "code",
   "execution_count": 6,
   "metadata": {},
   "outputs": [
    {
     "data": {
      "text/plain": [
       "['test_Station_1.csv',\n",
       " 'test_Station_2.csv',\n",
       " 'test_Station_3.csv',\n",
       " 'test_Station_4.csv',\n",
       " 'test_Station_5.csv',\n",
       " 'test_Station_6.csv',\n",
       " 'test_Station_7.csv',\n",
       " 'test_Station_8.csv',\n",
       " 'test_Station_9.csv']"
      ]
     },
     "execution_count": 6,
     "metadata": {},
     "output_type": "execute_result"
    }
   ],
   "source": [
    "os.listdir()"
   ]
  },
  {
   "cell_type": "code",
   "execution_count": 7,
   "metadata": {},
   "outputs": [],
   "source": [
    "file_chdir = os.getcwd()"
   ]
  },
  {
   "cell_type": "code",
   "execution_count": 8,
   "metadata": {},
   "outputs": [
    {
     "data": {
      "text/plain": [
       "'E:\\\\Research Project\\\\DKASC, Alice Springs\\\\Dataset\\\\test0702'"
      ]
     },
     "execution_count": 8,
     "metadata": {},
     "output_type": "execute_result"
    }
   ],
   "source": [
    "file_chdir"
   ]
  },
  {
   "cell_type": "code",
   "execution_count": 9,
   "metadata": {},
   "outputs": [],
   "source": [
    "filecsv_list = []\n",
    "for root,dirs,files in os.walk(file_chdir):\n",
    "    for file in files:\n",
    "        if os.path.splitext(file)[1] == '.csv':\n",
    "            filecsv_list.append(file)"
   ]
  },
  {
   "cell_type": "code",
   "execution_count": 10,
   "metadata": {
    "scrolled": true
   },
   "outputs": [
    {
     "data": {
      "text/plain": [
       "['test_Station_1.csv',\n",
       " 'test_Station_2.csv',\n",
       " 'test_Station_3.csv',\n",
       " 'test_Station_4.csv',\n",
       " 'test_Station_5.csv',\n",
       " 'test_Station_6.csv',\n",
       " 'test_Station_7.csv',\n",
       " 'test_Station_8.csv',\n",
       " 'test_Station_9.csv']"
      ]
     },
     "execution_count": 10,
     "metadata": {},
     "output_type": "execute_result"
    }
   ],
   "source": [
    "filecsv_list"
   ]
  },
  {
   "cell_type": "code",
   "execution_count": 11,
   "metadata": {},
   "outputs": [],
   "source": [
    "testnames=list()\n",
    "testnames += [('test_%d' % (j)) for j in range(len(filecsv_list))]"
   ]
  },
  {
   "cell_type": "code",
   "execution_count": 12,
   "metadata": {},
   "outputs": [
    {
     "data": {
      "text/plain": [
       "['test_0',\n",
       " 'test_1',\n",
       " 'test_2',\n",
       " 'test_3',\n",
       " 'test_4',\n",
       " 'test_5',\n",
       " 'test_6',\n",
       " 'test_7',\n",
       " 'test_8']"
      ]
     },
     "execution_count": 12,
     "metadata": {},
     "output_type": "execute_result"
    }
   ],
   "source": [
    "testnames"
   ]
  },
  {
   "cell_type": "code",
   "execution_count": 13,
   "metadata": {},
   "outputs": [],
   "source": [
    "for csv in filecsv_list:\n",
    "    testnames[filecsv_list.index(csv)]=pd.read_csv(csv)"
   ]
  },
  {
   "cell_type": "code",
   "execution_count": 14,
   "metadata": {},
   "outputs": [
    {
     "data": {
      "text/html": [
       "<div>\n",
       "<style scoped>\n",
       "    .dataframe tbody tr th:only-of-type {\n",
       "        vertical-align: middle;\n",
       "    }\n",
       "\n",
       "    .dataframe tbody tr th {\n",
       "        vertical-align: top;\n",
       "    }\n",
       "\n",
       "    .dataframe thead th {\n",
       "        text-align: right;\n",
       "    }\n",
       "</style>\n",
       "<table border=\"1\" class=\"dataframe\">\n",
       "  <thead>\n",
       "    <tr style=\"text-align: right;\">\n",
       "      <th></th>\n",
       "      <th>Timestamp</th>\n",
       "      <th>Year</th>\n",
       "      <th>Month</th>\n",
       "      <th>Day</th>\n",
       "      <th>Hour</th>\n",
       "      <th>Minutes</th>\n",
       "      <th>Temperature(°C)</th>\n",
       "      <th>Relative Humidity(%)</th>\n",
       "      <th>Wind Direction(Degrees)</th>\n",
       "      <th>Daily Rainfall(mm)</th>\n",
       "      <th>Global Horizontal Radiation(W/m²)</th>\n",
       "      <th>Diffuse Horizontal Radiation(W/m²)</th>\n",
       "      <th>Station_1</th>\n",
       "    </tr>\n",
       "  </thead>\n",
       "  <tbody>\n",
       "    <tr>\n",
       "      <th>0</th>\n",
       "      <td>2019/1/1 0:00</td>\n",
       "      <td>2019</td>\n",
       "      <td>1</td>\n",
       "      <td>1</td>\n",
       "      <td>0</td>\n",
       "      <td>0</td>\n",
       "      <td>30.020723</td>\n",
       "      <td>20.125513</td>\n",
       "      <td>32.213470</td>\n",
       "      <td>0.0</td>\n",
       "      <td>1.543787</td>\n",
       "      <td>1.349848</td>\n",
       "      <td>0.0</td>\n",
       "    </tr>\n",
       "    <tr>\n",
       "      <th>1</th>\n",
       "      <td>2019/1/1 0:05</td>\n",
       "      <td>2019</td>\n",
       "      <td>1</td>\n",
       "      <td>1</td>\n",
       "      <td>0</td>\n",
       "      <td>5</td>\n",
       "      <td>29.958653</td>\n",
       "      <td>20.040049</td>\n",
       "      <td>32.158791</td>\n",
       "      <td>0.0</td>\n",
       "      <td>1.373370</td>\n",
       "      <td>1.244123</td>\n",
       "      <td>0.0</td>\n",
       "    </tr>\n",
       "    <tr>\n",
       "      <th>2</th>\n",
       "      <td>2019/1/1 0:10</td>\n",
       "      <td>2019</td>\n",
       "      <td>1</td>\n",
       "      <td>1</td>\n",
       "      <td>0</td>\n",
       "      <td>10</td>\n",
       "      <td>29.884491</td>\n",
       "      <td>20.013313</td>\n",
       "      <td>32.155808</td>\n",
       "      <td>0.0</td>\n",
       "      <td>1.142953</td>\n",
       "      <td>0.992849</td>\n",
       "      <td>0.0</td>\n",
       "    </tr>\n",
       "    <tr>\n",
       "      <th>3</th>\n",
       "      <td>2019/1/1 0:15</td>\n",
       "      <td>2019</td>\n",
       "      <td>1</td>\n",
       "      <td>1</td>\n",
       "      <td>0</td>\n",
       "      <td>15</td>\n",
       "      <td>29.831554</td>\n",
       "      <td>20.068233</td>\n",
       "      <td>32.178555</td>\n",
       "      <td>0.0</td>\n",
       "      <td>0.709036</td>\n",
       "      <td>0.611533</td>\n",
       "      <td>0.0</td>\n",
       "    </tr>\n",
       "    <tr>\n",
       "      <th>4</th>\n",
       "      <td>2019/1/1 0:20</td>\n",
       "      <td>2019</td>\n",
       "      <td>1</td>\n",
       "      <td>1</td>\n",
       "      <td>0</td>\n",
       "      <td>20</td>\n",
       "      <td>29.750330</td>\n",
       "      <td>20.086567</td>\n",
       "      <td>32.166214</td>\n",
       "      <td>0.0</td>\n",
       "      <td>1.058623</td>\n",
       "      <td>0.814599</td>\n",
       "      <td>0.0</td>\n",
       "    </tr>\n",
       "    <tr>\n",
       "      <th>5</th>\n",
       "      <td>2019/1/1 0:25</td>\n",
       "      <td>2019</td>\n",
       "      <td>1</td>\n",
       "      <td>1</td>\n",
       "      <td>0</td>\n",
       "      <td>25</td>\n",
       "      <td>29.532784</td>\n",
       "      <td>20.429800</td>\n",
       "      <td>32.247841</td>\n",
       "      <td>0.0</td>\n",
       "      <td>1.458448</td>\n",
       "      <td>1.263590</td>\n",
       "      <td>0.0</td>\n",
       "    </tr>\n",
       "    <tr>\n",
       "      <th>6</th>\n",
       "      <td>2019/1/1 0:30</td>\n",
       "      <td>2019</td>\n",
       "      <td>1</td>\n",
       "      <td>1</td>\n",
       "      <td>0</td>\n",
       "      <td>30</td>\n",
       "      <td>29.333590</td>\n",
       "      <td>20.735050</td>\n",
       "      <td>32.305141</td>\n",
       "      <td>0.0</td>\n",
       "      <td>1.684532</td>\n",
       "      <td>1.487528</td>\n",
       "      <td>0.0</td>\n",
       "    </tr>\n",
       "    <tr>\n",
       "      <th>7</th>\n",
       "      <td>2019/1/1 0:35</td>\n",
       "      <td>2019</td>\n",
       "      <td>1</td>\n",
       "      <td>1</td>\n",
       "      <td>0</td>\n",
       "      <td>35</td>\n",
       "      <td>29.115730</td>\n",
       "      <td>20.767771</td>\n",
       "      <td>32.390381</td>\n",
       "      <td>0.0</td>\n",
       "      <td>1.785272</td>\n",
       "      <td>1.607798</td>\n",
       "      <td>0.0</td>\n",
       "    </tr>\n",
       "    <tr>\n",
       "      <th>8</th>\n",
       "      <td>2019/1/1 0:40</td>\n",
       "      <td>2019</td>\n",
       "      <td>1</td>\n",
       "      <td>1</td>\n",
       "      <td>0</td>\n",
       "      <td>40</td>\n",
       "      <td>28.895197</td>\n",
       "      <td>21.143364</td>\n",
       "      <td>32.458775</td>\n",
       "      <td>0.0</td>\n",
       "      <td>1.507639</td>\n",
       "      <td>1.279625</td>\n",
       "      <td>0.0</td>\n",
       "    </tr>\n",
       "    <tr>\n",
       "      <th>9</th>\n",
       "      <td>2019/1/1 0:45</td>\n",
       "      <td>2019</td>\n",
       "      <td>1</td>\n",
       "      <td>1</td>\n",
       "      <td>0</td>\n",
       "      <td>45</td>\n",
       "      <td>28.870382</td>\n",
       "      <td>21.860403</td>\n",
       "      <td>32.498596</td>\n",
       "      <td>0.0</td>\n",
       "      <td>1.136652</td>\n",
       "      <td>0.865316</td>\n",
       "      <td>0.0</td>\n",
       "    </tr>\n",
       "    <tr>\n",
       "      <th>10</th>\n",
       "      <td>2019/1/1 0:50</td>\n",
       "      <td>2019</td>\n",
       "      <td>1</td>\n",
       "      <td>1</td>\n",
       "      <td>0</td>\n",
       "      <td>50</td>\n",
       "      <td>28.844110</td>\n",
       "      <td>22.845982</td>\n",
       "      <td>32.609760</td>\n",
       "      <td>0.0</td>\n",
       "      <td>1.151793</td>\n",
       "      <td>0.939747</td>\n",
       "      <td>0.0</td>\n",
       "    </tr>\n",
       "    <tr>\n",
       "      <th>11</th>\n",
       "      <td>2019/1/1 0:55</td>\n",
       "      <td>2019</td>\n",
       "      <td>1</td>\n",
       "      <td>1</td>\n",
       "      <td>0</td>\n",
       "      <td>55</td>\n",
       "      <td>28.717377</td>\n",
       "      <td>23.092876</td>\n",
       "      <td>32.669178</td>\n",
       "      <td>0.0</td>\n",
       "      <td>1.362498</td>\n",
       "      <td>1.160679</td>\n",
       "      <td>0.0</td>\n",
       "    </tr>\n",
       "    <tr>\n",
       "      <th>12</th>\n",
       "      <td>2019/1/1 1:00</td>\n",
       "      <td>2019</td>\n",
       "      <td>1</td>\n",
       "      <td>1</td>\n",
       "      <td>1</td>\n",
       "      <td>0</td>\n",
       "      <td>28.702896</td>\n",
       "      <td>22.910830</td>\n",
       "      <td>32.757442</td>\n",
       "      <td>0.0</td>\n",
       "      <td>1.406728</td>\n",
       "      <td>1.139707</td>\n",
       "      <td>0.0</td>\n",
       "    </tr>\n",
       "    <tr>\n",
       "      <th>13</th>\n",
       "      <td>2019/1/1 1:05</td>\n",
       "      <td>2019</td>\n",
       "      <td>1</td>\n",
       "      <td>1</td>\n",
       "      <td>1</td>\n",
       "      <td>5</td>\n",
       "      <td>28.701187</td>\n",
       "      <td>22.651331</td>\n",
       "      <td>32.814003</td>\n",
       "      <td>0.0</td>\n",
       "      <td>1.140046</td>\n",
       "      <td>0.939262</td>\n",
       "      <td>0.0</td>\n",
       "    </tr>\n",
       "    <tr>\n",
       "      <th>14</th>\n",
       "      <td>2019/1/1 1:10</td>\n",
       "      <td>2019</td>\n",
       "      <td>1</td>\n",
       "      <td>1</td>\n",
       "      <td>1</td>\n",
       "      <td>10</td>\n",
       "      <td>28.662622</td>\n",
       "      <td>21.774225</td>\n",
       "      <td>32.874065</td>\n",
       "      <td>0.0</td>\n",
       "      <td>0.949268</td>\n",
       "      <td>0.798798</td>\n",
       "      <td>0.0</td>\n",
       "    </tr>\n",
       "    <tr>\n",
       "      <th>15</th>\n",
       "      <td>2019/1/1 1:15</td>\n",
       "      <td>2019</td>\n",
       "      <td>1</td>\n",
       "      <td>1</td>\n",
       "      <td>1</td>\n",
       "      <td>15</td>\n",
       "      <td>28.844805</td>\n",
       "      <td>21.462774</td>\n",
       "      <td>32.924637</td>\n",
       "      <td>0.0</td>\n",
       "      <td>0.736785</td>\n",
       "      <td>0.627749</td>\n",
       "      <td>0.0</td>\n",
       "    </tr>\n",
       "    <tr>\n",
       "      <th>16</th>\n",
       "      <td>2019/1/1 1:20</td>\n",
       "      <td>2019</td>\n",
       "      <td>1</td>\n",
       "      <td>1</td>\n",
       "      <td>1</td>\n",
       "      <td>20</td>\n",
       "      <td>29.389601</td>\n",
       "      <td>20.178635</td>\n",
       "      <td>32.975529</td>\n",
       "      <td>0.0</td>\n",
       "      <td>0.372044</td>\n",
       "      <td>0.600179</td>\n",
       "      <td>0.0</td>\n",
       "    </tr>\n",
       "    <tr>\n",
       "      <th>17</th>\n",
       "      <td>2019/1/1 1:25</td>\n",
       "      <td>2019</td>\n",
       "      <td>1</td>\n",
       "      <td>1</td>\n",
       "      <td>1</td>\n",
       "      <td>25</td>\n",
       "      <td>30.003380</td>\n",
       "      <td>19.424627</td>\n",
       "      <td>32.931320</td>\n",
       "      <td>0.0</td>\n",
       "      <td>0.351594</td>\n",
       "      <td>0.603412</td>\n",
       "      <td>0.0</td>\n",
       "    </tr>\n",
       "    <tr>\n",
       "      <th>18</th>\n",
       "      <td>2019/1/1 1:30</td>\n",
       "      <td>2019</td>\n",
       "      <td>1</td>\n",
       "      <td>1</td>\n",
       "      <td>1</td>\n",
       "      <td>30</td>\n",
       "      <td>30.191591</td>\n",
       "      <td>19.369425</td>\n",
       "      <td>32.905235</td>\n",
       "      <td>0.0</td>\n",
       "      <td>0.507697</td>\n",
       "      <td>0.610065</td>\n",
       "      <td>0.0</td>\n",
       "    </tr>\n",
       "    <tr>\n",
       "      <th>19</th>\n",
       "      <td>2019/1/1 1:35</td>\n",
       "      <td>2019</td>\n",
       "      <td>1</td>\n",
       "      <td>1</td>\n",
       "      <td>1</td>\n",
       "      <td>35</td>\n",
       "      <td>30.349762</td>\n",
       "      <td>19.277098</td>\n",
       "      <td>32.853760</td>\n",
       "      <td>0.0</td>\n",
       "      <td>0.496211</td>\n",
       "      <td>0.613844</td>\n",
       "      <td>0.0</td>\n",
       "    </tr>\n",
       "    <tr>\n",
       "      <th>20</th>\n",
       "      <td>2019/1/1 1:40</td>\n",
       "      <td>2019</td>\n",
       "      <td>1</td>\n",
       "      <td>1</td>\n",
       "      <td>1</td>\n",
       "      <td>40</td>\n",
       "      <td>30.253325</td>\n",
       "      <td>19.428797</td>\n",
       "      <td>32.824333</td>\n",
       "      <td>0.0</td>\n",
       "      <td>0.560727</td>\n",
       "      <td>0.612675</td>\n",
       "      <td>0.0</td>\n",
       "    </tr>\n",
       "    <tr>\n",
       "      <th>21</th>\n",
       "      <td>2019/1/1 1:45</td>\n",
       "      <td>2019</td>\n",
       "      <td>1</td>\n",
       "      <td>1</td>\n",
       "      <td>1</td>\n",
       "      <td>45</td>\n",
       "      <td>29.668095</td>\n",
       "      <td>20.064316</td>\n",
       "      <td>32.840916</td>\n",
       "      <td>0.0</td>\n",
       "      <td>1.206447</td>\n",
       "      <td>1.001625</td>\n",
       "      <td>0.0</td>\n",
       "    </tr>\n",
       "    <tr>\n",
       "      <th>22</th>\n",
       "      <td>2019/1/1 1:50</td>\n",
       "      <td>2019</td>\n",
       "      <td>1</td>\n",
       "      <td>1</td>\n",
       "      <td>1</td>\n",
       "      <td>50</td>\n",
       "      <td>29.148050</td>\n",
       "      <td>20.747871</td>\n",
       "      <td>32.922089</td>\n",
       "      <td>0.0</td>\n",
       "      <td>1.364443</td>\n",
       "      <td>1.177960</td>\n",
       "      <td>0.0</td>\n",
       "    </tr>\n",
       "    <tr>\n",
       "      <th>23</th>\n",
       "      <td>2019/1/1 1:55</td>\n",
       "      <td>2019</td>\n",
       "      <td>1</td>\n",
       "      <td>1</td>\n",
       "      <td>1</td>\n",
       "      <td>55</td>\n",
       "      <td>29.482159</td>\n",
       "      <td>20.583193</td>\n",
       "      <td>32.946362</td>\n",
       "      <td>0.0</td>\n",
       "      <td>0.653764</td>\n",
       "      <td>0.712767</td>\n",
       "      <td>0.0</td>\n",
       "    </tr>\n",
       "    <tr>\n",
       "      <th>24</th>\n",
       "      <td>2019/1/1 2:00</td>\n",
       "      <td>2019</td>\n",
       "      <td>1</td>\n",
       "      <td>1</td>\n",
       "      <td>2</td>\n",
       "      <td>0</td>\n",
       "      <td>29.759039</td>\n",
       "      <td>20.139929</td>\n",
       "      <td>32.923679</td>\n",
       "      <td>0.0</td>\n",
       "      <td>0.831343</td>\n",
       "      <td>0.687531</td>\n",
       "      <td>0.0</td>\n",
       "    </tr>\n",
       "    <tr>\n",
       "      <th>25</th>\n",
       "      <td>2019/1/1 2:05</td>\n",
       "      <td>2019</td>\n",
       "      <td>1</td>\n",
       "      <td>1</td>\n",
       "      <td>2</td>\n",
       "      <td>5</td>\n",
       "      <td>29.592545</td>\n",
       "      <td>20.445204</td>\n",
       "      <td>32.937229</td>\n",
       "      <td>0.0</td>\n",
       "      <td>0.998519</td>\n",
       "      <td>0.787476</td>\n",
       "      <td>0.0</td>\n",
       "    </tr>\n",
       "    <tr>\n",
       "      <th>26</th>\n",
       "      <td>2019/1/1 2:10</td>\n",
       "      <td>2019</td>\n",
       "      <td>1</td>\n",
       "      <td>1</td>\n",
       "      <td>2</td>\n",
       "      <td>10</td>\n",
       "      <td>29.456694</td>\n",
       "      <td>20.808155</td>\n",
       "      <td>32.939537</td>\n",
       "      <td>0.0</td>\n",
       "      <td>1.035480</td>\n",
       "      <td>0.794068</td>\n",
       "      <td>0.0</td>\n",
       "    </tr>\n",
       "    <tr>\n",
       "      <th>27</th>\n",
       "      <td>2019/1/1 2:15</td>\n",
       "      <td>2019</td>\n",
       "      <td>1</td>\n",
       "      <td>1</td>\n",
       "      <td>2</td>\n",
       "      <td>15</td>\n",
       "      <td>29.235744</td>\n",
       "      <td>21.114159</td>\n",
       "      <td>32.929886</td>\n",
       "      <td>0.0</td>\n",
       "      <td>1.479693</td>\n",
       "      <td>1.210941</td>\n",
       "      <td>0.0</td>\n",
       "    </tr>\n",
       "    <tr>\n",
       "      <th>28</th>\n",
       "      <td>2019/1/1 2:20</td>\n",
       "      <td>2019</td>\n",
       "      <td>1</td>\n",
       "      <td>1</td>\n",
       "      <td>2</td>\n",
       "      <td>20</td>\n",
       "      <td>28.912735</td>\n",
       "      <td>21.651110</td>\n",
       "      <td>32.967049</td>\n",
       "      <td>0.0</td>\n",
       "      <td>1.967896</td>\n",
       "      <td>1.735687</td>\n",
       "      <td>0.0</td>\n",
       "    </tr>\n",
       "    <tr>\n",
       "      <th>29</th>\n",
       "      <td>2019/1/1 2:25</td>\n",
       "      <td>2019</td>\n",
       "      <td>1</td>\n",
       "      <td>1</td>\n",
       "      <td>2</td>\n",
       "      <td>25</td>\n",
       "      <td>28.703390</td>\n",
       "      <td>22.005430</td>\n",
       "      <td>32.975849</td>\n",
       "      <td>0.0</td>\n",
       "      <td>1.788238</td>\n",
       "      <td>1.616220</td>\n",
       "      <td>0.0</td>\n",
       "    </tr>\n",
       "    <tr>\n",
       "      <th>...</th>\n",
       "      <td>...</td>\n",
       "      <td>...</td>\n",
       "      <td>...</td>\n",
       "      <td>...</td>\n",
       "      <td>...</td>\n",
       "      <td>...</td>\n",
       "      <td>...</td>\n",
       "      <td>...</td>\n",
       "      <td>...</td>\n",
       "      <td>...</td>\n",
       "      <td>...</td>\n",
       "      <td>...</td>\n",
       "      <td>...</td>\n",
       "    </tr>\n",
       "    <tr>\n",
       "      <th>102858</th>\n",
       "      <td>2019/12/31 21:30</td>\n",
       "      <td>2019</td>\n",
       "      <td>12</td>\n",
       "      <td>31</td>\n",
       "      <td>21</td>\n",
       "      <td>30</td>\n",
       "      <td>32.454887</td>\n",
       "      <td>21.202938</td>\n",
       "      <td>31.530151</td>\n",
       "      <td>0.2</td>\n",
       "      <td>1.480785</td>\n",
       "      <td>1.317525</td>\n",
       "      <td>0.0</td>\n",
       "    </tr>\n",
       "    <tr>\n",
       "      <th>102859</th>\n",
       "      <td>2019/12/31 21:35</td>\n",
       "      <td>2019</td>\n",
       "      <td>12</td>\n",
       "      <td>31</td>\n",
       "      <td>21</td>\n",
       "      <td>35</td>\n",
       "      <td>32.379871</td>\n",
       "      <td>21.154861</td>\n",
       "      <td>31.572145</td>\n",
       "      <td>0.2</td>\n",
       "      <td>1.029500</td>\n",
       "      <td>0.891855</td>\n",
       "      <td>0.0</td>\n",
       "    </tr>\n",
       "    <tr>\n",
       "      <th>102860</th>\n",
       "      <td>2019/12/31 21:40</td>\n",
       "      <td>2019</td>\n",
       "      <td>12</td>\n",
       "      <td>31</td>\n",
       "      <td>21</td>\n",
       "      <td>40</td>\n",
       "      <td>32.270977</td>\n",
       "      <td>21.101870</td>\n",
       "      <td>31.656649</td>\n",
       "      <td>0.2</td>\n",
       "      <td>1.034365</td>\n",
       "      <td>0.845959</td>\n",
       "      <td>0.0</td>\n",
       "    </tr>\n",
       "    <tr>\n",
       "      <th>102861</th>\n",
       "      <td>2019/12/31 21:45</td>\n",
       "      <td>2019</td>\n",
       "      <td>12</td>\n",
       "      <td>31</td>\n",
       "      <td>21</td>\n",
       "      <td>45</td>\n",
       "      <td>32.139584</td>\n",
       "      <td>21.010782</td>\n",
       "      <td>31.706886</td>\n",
       "      <td>0.2</td>\n",
       "      <td>1.317907</td>\n",
       "      <td>1.184201</td>\n",
       "      <td>0.0</td>\n",
       "    </tr>\n",
       "    <tr>\n",
       "      <th>102862</th>\n",
       "      <td>2019/12/31 21:50</td>\n",
       "      <td>2019</td>\n",
       "      <td>12</td>\n",
       "      <td>31</td>\n",
       "      <td>21</td>\n",
       "      <td>50</td>\n",
       "      <td>31.968740</td>\n",
       "      <td>21.068098</td>\n",
       "      <td>31.787859</td>\n",
       "      <td>0.2</td>\n",
       "      <td>1.644638</td>\n",
       "      <td>1.431293</td>\n",
       "      <td>0.0</td>\n",
       "    </tr>\n",
       "    <tr>\n",
       "      <th>102863</th>\n",
       "      <td>2019/12/31 21:55</td>\n",
       "      <td>2019</td>\n",
       "      <td>12</td>\n",
       "      <td>31</td>\n",
       "      <td>21</td>\n",
       "      <td>55</td>\n",
       "      <td>31.890812</td>\n",
       "      <td>20.964174</td>\n",
       "      <td>31.864025</td>\n",
       "      <td>0.2</td>\n",
       "      <td>1.501274</td>\n",
       "      <td>1.341175</td>\n",
       "      <td>0.0</td>\n",
       "    </tr>\n",
       "    <tr>\n",
       "      <th>102864</th>\n",
       "      <td>2019/12/31 22:00</td>\n",
       "      <td>2019</td>\n",
       "      <td>12</td>\n",
       "      <td>31</td>\n",
       "      <td>22</td>\n",
       "      <td>0</td>\n",
       "      <td>31.816862</td>\n",
       "      <td>20.817696</td>\n",
       "      <td>31.912882</td>\n",
       "      <td>0.2</td>\n",
       "      <td>1.127037</td>\n",
       "      <td>1.008125</td>\n",
       "      <td>0.0</td>\n",
       "    </tr>\n",
       "    <tr>\n",
       "      <th>102865</th>\n",
       "      <td>2019/12/31 22:05</td>\n",
       "      <td>2019</td>\n",
       "      <td>12</td>\n",
       "      <td>31</td>\n",
       "      <td>22</td>\n",
       "      <td>5</td>\n",
       "      <td>31.748964</td>\n",
       "      <td>20.739473</td>\n",
       "      <td>31.994402</td>\n",
       "      <td>0.2</td>\n",
       "      <td>1.262087</td>\n",
       "      <td>1.062599</td>\n",
       "      <td>0.0</td>\n",
       "    </tr>\n",
       "    <tr>\n",
       "      <th>102866</th>\n",
       "      <td>2019/12/31 22:10</td>\n",
       "      <td>2019</td>\n",
       "      <td>12</td>\n",
       "      <td>31</td>\n",
       "      <td>22</td>\n",
       "      <td>10</td>\n",
       "      <td>31.657833</td>\n",
       "      <td>20.720348</td>\n",
       "      <td>32.070663</td>\n",
       "      <td>0.2</td>\n",
       "      <td>1.140850</td>\n",
       "      <td>1.022048</td>\n",
       "      <td>0.0</td>\n",
       "    </tr>\n",
       "    <tr>\n",
       "      <th>102867</th>\n",
       "      <td>2019/12/31 22:15</td>\n",
       "      <td>2019</td>\n",
       "      <td>12</td>\n",
       "      <td>31</td>\n",
       "      <td>22</td>\n",
       "      <td>15</td>\n",
       "      <td>31.501961</td>\n",
       "      <td>20.808071</td>\n",
       "      <td>32.127964</td>\n",
       "      <td>0.2</td>\n",
       "      <td>1.514290</td>\n",
       "      <td>1.429496</td>\n",
       "      <td>0.0</td>\n",
       "    </tr>\n",
       "    <tr>\n",
       "      <th>102868</th>\n",
       "      <td>2019/12/31 22:20</td>\n",
       "      <td>2019</td>\n",
       "      <td>12</td>\n",
       "      <td>31</td>\n",
       "      <td>22</td>\n",
       "      <td>20</td>\n",
       "      <td>31.367474</td>\n",
       "      <td>20.899158</td>\n",
       "      <td>32.188854</td>\n",
       "      <td>0.2</td>\n",
       "      <td>1.577844</td>\n",
       "      <td>1.543480</td>\n",
       "      <td>0.0</td>\n",
       "    </tr>\n",
       "    <tr>\n",
       "      <th>102869</th>\n",
       "      <td>2019/12/31 22:25</td>\n",
       "      <td>2019</td>\n",
       "      <td>12</td>\n",
       "      <td>31</td>\n",
       "      <td>22</td>\n",
       "      <td>25</td>\n",
       "      <td>31.202694</td>\n",
       "      <td>21.003687</td>\n",
       "      <td>32.270916</td>\n",
       "      <td>0.2</td>\n",
       "      <td>1.826926</td>\n",
       "      <td>1.730712</td>\n",
       "      <td>0.0</td>\n",
       "    </tr>\n",
       "    <tr>\n",
       "      <th>102870</th>\n",
       "      <td>2019/12/31 22:30</td>\n",
       "      <td>2019</td>\n",
       "      <td>12</td>\n",
       "      <td>31</td>\n",
       "      <td>22</td>\n",
       "      <td>30</td>\n",
       "      <td>31.094898</td>\n",
       "      <td>21.087387</td>\n",
       "      <td>32.346336</td>\n",
       "      <td>0.2</td>\n",
       "      <td>1.492986</td>\n",
       "      <td>1.310438</td>\n",
       "      <td>0.0</td>\n",
       "    </tr>\n",
       "    <tr>\n",
       "      <th>102871</th>\n",
       "      <td>2019/12/31 22:35</td>\n",
       "      <td>2019</td>\n",
       "      <td>12</td>\n",
       "      <td>31</td>\n",
       "      <td>22</td>\n",
       "      <td>35</td>\n",
       "      <td>31.025242</td>\n",
       "      <td>21.126497</td>\n",
       "      <td>32.413357</td>\n",
       "      <td>0.2</td>\n",
       "      <td>1.500674</td>\n",
       "      <td>1.371514</td>\n",
       "      <td>0.0</td>\n",
       "    </tr>\n",
       "    <tr>\n",
       "      <th>102872</th>\n",
       "      <td>2019/12/31 22:40</td>\n",
       "      <td>2019</td>\n",
       "      <td>12</td>\n",
       "      <td>31</td>\n",
       "      <td>22</td>\n",
       "      <td>40</td>\n",
       "      <td>30.859026</td>\n",
       "      <td>21.286917</td>\n",
       "      <td>32.491856</td>\n",
       "      <td>0.2</td>\n",
       "      <td>1.776621</td>\n",
       "      <td>1.627822</td>\n",
       "      <td>0.0</td>\n",
       "    </tr>\n",
       "    <tr>\n",
       "      <th>102873</th>\n",
       "      <td>2019/12/31 22:45</td>\n",
       "      <td>2019</td>\n",
       "      <td>12</td>\n",
       "      <td>31</td>\n",
       "      <td>22</td>\n",
       "      <td>45</td>\n",
       "      <td>30.720379</td>\n",
       "      <td>21.404707</td>\n",
       "      <td>32.555447</td>\n",
       "      <td>0.2</td>\n",
       "      <td>1.712080</td>\n",
       "      <td>1.565143</td>\n",
       "      <td>0.0</td>\n",
       "    </tr>\n",
       "    <tr>\n",
       "      <th>102874</th>\n",
       "      <td>2019/12/31 22:50</td>\n",
       "      <td>2019</td>\n",
       "      <td>12</td>\n",
       "      <td>31</td>\n",
       "      <td>22</td>\n",
       "      <td>50</td>\n",
       "      <td>30.648829</td>\n",
       "      <td>21.432579</td>\n",
       "      <td>32.630802</td>\n",
       "      <td>0.2</td>\n",
       "      <td>1.506877</td>\n",
       "      <td>1.198937</td>\n",
       "      <td>0.0</td>\n",
       "    </tr>\n",
       "    <tr>\n",
       "      <th>102875</th>\n",
       "      <td>2019/12/31 22:55</td>\n",
       "      <td>2019</td>\n",
       "      <td>12</td>\n",
       "      <td>31</td>\n",
       "      <td>22</td>\n",
       "      <td>55</td>\n",
       "      <td>30.676096</td>\n",
       "      <td>21.333782</td>\n",
       "      <td>32.691612</td>\n",
       "      <td>0.2</td>\n",
       "      <td>0.858020</td>\n",
       "      <td>0.832827</td>\n",
       "      <td>0.0</td>\n",
       "    </tr>\n",
       "    <tr>\n",
       "      <th>102876</th>\n",
       "      <td>2019/12/31 23:00</td>\n",
       "      <td>2019</td>\n",
       "      <td>12</td>\n",
       "      <td>31</td>\n",
       "      <td>23</td>\n",
       "      <td>0</td>\n",
       "      <td>30.536377</td>\n",
       "      <td>21.448887</td>\n",
       "      <td>32.732422</td>\n",
       "      <td>0.2</td>\n",
       "      <td>1.261681</td>\n",
       "      <td>1.003754</td>\n",
       "      <td>0.0</td>\n",
       "    </tr>\n",
       "    <tr>\n",
       "      <th>102877</th>\n",
       "      <td>2019/12/31 23:05</td>\n",
       "      <td>2019</td>\n",
       "      <td>12</td>\n",
       "      <td>31</td>\n",
       "      <td>23</td>\n",
       "      <td>5</td>\n",
       "      <td>30.454031</td>\n",
       "      <td>21.483761</td>\n",
       "      <td>32.792229</td>\n",
       "      <td>0.2</td>\n",
       "      <td>1.105396</td>\n",
       "      <td>0.955374</td>\n",
       "      <td>0.0</td>\n",
       "    </tr>\n",
       "    <tr>\n",
       "      <th>102878</th>\n",
       "      <td>2019/12/31 23:10</td>\n",
       "      <td>2019</td>\n",
       "      <td>12</td>\n",
       "      <td>31</td>\n",
       "      <td>23</td>\n",
       "      <td>10</td>\n",
       "      <td>30.395794</td>\n",
       "      <td>21.484453</td>\n",
       "      <td>32.844650</td>\n",
       "      <td>0.2</td>\n",
       "      <td>1.027124</td>\n",
       "      <td>0.838097</td>\n",
       "      <td>0.0</td>\n",
       "    </tr>\n",
       "    <tr>\n",
       "      <th>102879</th>\n",
       "      <td>2019/12/31 23:15</td>\n",
       "      <td>2019</td>\n",
       "      <td>12</td>\n",
       "      <td>31</td>\n",
       "      <td>23</td>\n",
       "      <td>15</td>\n",
       "      <td>30.289991</td>\n",
       "      <td>21.674326</td>\n",
       "      <td>32.879181</td>\n",
       "      <td>0.2</td>\n",
       "      <td>1.187620</td>\n",
       "      <td>0.963597</td>\n",
       "      <td>0.0</td>\n",
       "    </tr>\n",
       "    <tr>\n",
       "      <th>102880</th>\n",
       "      <td>2019/12/31 23:20</td>\n",
       "      <td>2019</td>\n",
       "      <td>12</td>\n",
       "      <td>31</td>\n",
       "      <td>23</td>\n",
       "      <td>20</td>\n",
       "      <td>30.139839</td>\n",
       "      <td>21.937941</td>\n",
       "      <td>32.937740</td>\n",
       "      <td>0.2</td>\n",
       "      <td>1.570068</td>\n",
       "      <td>1.402366</td>\n",
       "      <td>0.0</td>\n",
       "    </tr>\n",
       "    <tr>\n",
       "      <th>102881</th>\n",
       "      <td>2019/12/31 23:25</td>\n",
       "      <td>2019</td>\n",
       "      <td>12</td>\n",
       "      <td>31</td>\n",
       "      <td>23</td>\n",
       "      <td>25</td>\n",
       "      <td>30.043087</td>\n",
       "      <td>22.035086</td>\n",
       "      <td>32.990490</td>\n",
       "      <td>0.2</td>\n",
       "      <td>1.284098</td>\n",
       "      <td>1.213849</td>\n",
       "      <td>0.0</td>\n",
       "    </tr>\n",
       "    <tr>\n",
       "      <th>102882</th>\n",
       "      <td>2019/12/31 23:30</td>\n",
       "      <td>2019</td>\n",
       "      <td>12</td>\n",
       "      <td>31</td>\n",
       "      <td>23</td>\n",
       "      <td>30</td>\n",
       "      <td>30.032537</td>\n",
       "      <td>21.918310</td>\n",
       "      <td>33.057541</td>\n",
       "      <td>0.2</td>\n",
       "      <td>0.881683</td>\n",
       "      <td>0.746663</td>\n",
       "      <td>0.0</td>\n",
       "    </tr>\n",
       "    <tr>\n",
       "      <th>102883</th>\n",
       "      <td>2019/12/31 23:35</td>\n",
       "      <td>2019</td>\n",
       "      <td>12</td>\n",
       "      <td>31</td>\n",
       "      <td>23</td>\n",
       "      <td>35</td>\n",
       "      <td>29.984341</td>\n",
       "      <td>21.846844</td>\n",
       "      <td>33.086002</td>\n",
       "      <td>0.2</td>\n",
       "      <td>0.915584</td>\n",
       "      <td>0.817822</td>\n",
       "      <td>0.0</td>\n",
       "    </tr>\n",
       "    <tr>\n",
       "      <th>102884</th>\n",
       "      <td>2019/12/31 23:40</td>\n",
       "      <td>2019</td>\n",
       "      <td>12</td>\n",
       "      <td>31</td>\n",
       "      <td>23</td>\n",
       "      <td>40</td>\n",
       "      <td>29.960859</td>\n",
       "      <td>21.698957</td>\n",
       "      <td>33.135098</td>\n",
       "      <td>0.2</td>\n",
       "      <td>0.818077</td>\n",
       "      <td>0.644404</td>\n",
       "      <td>0.0</td>\n",
       "    </tr>\n",
       "    <tr>\n",
       "      <th>102885</th>\n",
       "      <td>2019/12/31 23:45</td>\n",
       "      <td>2019</td>\n",
       "      <td>12</td>\n",
       "      <td>31</td>\n",
       "      <td>23</td>\n",
       "      <td>45</td>\n",
       "      <td>29.955965</td>\n",
       "      <td>21.564404</td>\n",
       "      <td>33.130482</td>\n",
       "      <td>0.2</td>\n",
       "      <td>0.690323</td>\n",
       "      <td>0.627243</td>\n",
       "      <td>0.0</td>\n",
       "    </tr>\n",
       "    <tr>\n",
       "      <th>102886</th>\n",
       "      <td>2019/12/31 23:50</td>\n",
       "      <td>2019</td>\n",
       "      <td>12</td>\n",
       "      <td>31</td>\n",
       "      <td>23</td>\n",
       "      <td>50</td>\n",
       "      <td>29.849651</td>\n",
       "      <td>21.630070</td>\n",
       "      <td>33.163658</td>\n",
       "      <td>0.2</td>\n",
       "      <td>0.924088</td>\n",
       "      <td>0.786829</td>\n",
       "      <td>0.0</td>\n",
       "    </tr>\n",
       "    <tr>\n",
       "      <th>102887</th>\n",
       "      <td>2019/12/31 23:55</td>\n",
       "      <td>2019</td>\n",
       "      <td>12</td>\n",
       "      <td>31</td>\n",
       "      <td>23</td>\n",
       "      <td>55</td>\n",
       "      <td>29.837481</td>\n",
       "      <td>21.602827</td>\n",
       "      <td>33.192440</td>\n",
       "      <td>0.2</td>\n",
       "      <td>0.809160</td>\n",
       "      <td>0.652423</td>\n",
       "      <td>0.0</td>\n",
       "    </tr>\n",
       "  </tbody>\n",
       "</table>\n",
       "<p>102888 rows × 13 columns</p>\n",
       "</div>"
      ],
      "text/plain": [
       "               Timestamp  Year  Month  Day  Hour  Minutes  Temperature(°C)  \\\n",
       "0          2019/1/1 0:00  2019      1    1     0        0        30.020723   \n",
       "1          2019/1/1 0:05  2019      1    1     0        5        29.958653   \n",
       "2          2019/1/1 0:10  2019      1    1     0       10        29.884491   \n",
       "3          2019/1/1 0:15  2019      1    1     0       15        29.831554   \n",
       "4          2019/1/1 0:20  2019      1    1     0       20        29.750330   \n",
       "5          2019/1/1 0:25  2019      1    1     0       25        29.532784   \n",
       "6          2019/1/1 0:30  2019      1    1     0       30        29.333590   \n",
       "7          2019/1/1 0:35  2019      1    1     0       35        29.115730   \n",
       "8          2019/1/1 0:40  2019      1    1     0       40        28.895197   \n",
       "9          2019/1/1 0:45  2019      1    1     0       45        28.870382   \n",
       "10         2019/1/1 0:50  2019      1    1     0       50        28.844110   \n",
       "11         2019/1/1 0:55  2019      1    1     0       55        28.717377   \n",
       "12         2019/1/1 1:00  2019      1    1     1        0        28.702896   \n",
       "13         2019/1/1 1:05  2019      1    1     1        5        28.701187   \n",
       "14         2019/1/1 1:10  2019      1    1     1       10        28.662622   \n",
       "15         2019/1/1 1:15  2019      1    1     1       15        28.844805   \n",
       "16         2019/1/1 1:20  2019      1    1     1       20        29.389601   \n",
       "17         2019/1/1 1:25  2019      1    1     1       25        30.003380   \n",
       "18         2019/1/1 1:30  2019      1    1     1       30        30.191591   \n",
       "19         2019/1/1 1:35  2019      1    1     1       35        30.349762   \n",
       "20         2019/1/1 1:40  2019      1    1     1       40        30.253325   \n",
       "21         2019/1/1 1:45  2019      1    1     1       45        29.668095   \n",
       "22         2019/1/1 1:50  2019      1    1     1       50        29.148050   \n",
       "23         2019/1/1 1:55  2019      1    1     1       55        29.482159   \n",
       "24         2019/1/1 2:00  2019      1    1     2        0        29.759039   \n",
       "25         2019/1/1 2:05  2019      1    1     2        5        29.592545   \n",
       "26         2019/1/1 2:10  2019      1    1     2       10        29.456694   \n",
       "27         2019/1/1 2:15  2019      1    1     2       15        29.235744   \n",
       "28         2019/1/1 2:20  2019      1    1     2       20        28.912735   \n",
       "29         2019/1/1 2:25  2019      1    1     2       25        28.703390   \n",
       "...                  ...   ...    ...  ...   ...      ...              ...   \n",
       "102858  2019/12/31 21:30  2019     12   31    21       30        32.454887   \n",
       "102859  2019/12/31 21:35  2019     12   31    21       35        32.379871   \n",
       "102860  2019/12/31 21:40  2019     12   31    21       40        32.270977   \n",
       "102861  2019/12/31 21:45  2019     12   31    21       45        32.139584   \n",
       "102862  2019/12/31 21:50  2019     12   31    21       50        31.968740   \n",
       "102863  2019/12/31 21:55  2019     12   31    21       55        31.890812   \n",
       "102864  2019/12/31 22:00  2019     12   31    22        0        31.816862   \n",
       "102865  2019/12/31 22:05  2019     12   31    22        5        31.748964   \n",
       "102866  2019/12/31 22:10  2019     12   31    22       10        31.657833   \n",
       "102867  2019/12/31 22:15  2019     12   31    22       15        31.501961   \n",
       "102868  2019/12/31 22:20  2019     12   31    22       20        31.367474   \n",
       "102869  2019/12/31 22:25  2019     12   31    22       25        31.202694   \n",
       "102870  2019/12/31 22:30  2019     12   31    22       30        31.094898   \n",
       "102871  2019/12/31 22:35  2019     12   31    22       35        31.025242   \n",
       "102872  2019/12/31 22:40  2019     12   31    22       40        30.859026   \n",
       "102873  2019/12/31 22:45  2019     12   31    22       45        30.720379   \n",
       "102874  2019/12/31 22:50  2019     12   31    22       50        30.648829   \n",
       "102875  2019/12/31 22:55  2019     12   31    22       55        30.676096   \n",
       "102876  2019/12/31 23:00  2019     12   31    23        0        30.536377   \n",
       "102877  2019/12/31 23:05  2019     12   31    23        5        30.454031   \n",
       "102878  2019/12/31 23:10  2019     12   31    23       10        30.395794   \n",
       "102879  2019/12/31 23:15  2019     12   31    23       15        30.289991   \n",
       "102880  2019/12/31 23:20  2019     12   31    23       20        30.139839   \n",
       "102881  2019/12/31 23:25  2019     12   31    23       25        30.043087   \n",
       "102882  2019/12/31 23:30  2019     12   31    23       30        30.032537   \n",
       "102883  2019/12/31 23:35  2019     12   31    23       35        29.984341   \n",
       "102884  2019/12/31 23:40  2019     12   31    23       40        29.960859   \n",
       "102885  2019/12/31 23:45  2019     12   31    23       45        29.955965   \n",
       "102886  2019/12/31 23:50  2019     12   31    23       50        29.849651   \n",
       "102887  2019/12/31 23:55  2019     12   31    23       55        29.837481   \n",
       "\n",
       "        Relative Humidity(%)  Wind Direction(Degrees)  Daily Rainfall(mm)  \\\n",
       "0                  20.125513                32.213470                 0.0   \n",
       "1                  20.040049                32.158791                 0.0   \n",
       "2                  20.013313                32.155808                 0.0   \n",
       "3                  20.068233                32.178555                 0.0   \n",
       "4                  20.086567                32.166214                 0.0   \n",
       "5                  20.429800                32.247841                 0.0   \n",
       "6                  20.735050                32.305141                 0.0   \n",
       "7                  20.767771                32.390381                 0.0   \n",
       "8                  21.143364                32.458775                 0.0   \n",
       "9                  21.860403                32.498596                 0.0   \n",
       "10                 22.845982                32.609760                 0.0   \n",
       "11                 23.092876                32.669178                 0.0   \n",
       "12                 22.910830                32.757442                 0.0   \n",
       "13                 22.651331                32.814003                 0.0   \n",
       "14                 21.774225                32.874065                 0.0   \n",
       "15                 21.462774                32.924637                 0.0   \n",
       "16                 20.178635                32.975529                 0.0   \n",
       "17                 19.424627                32.931320                 0.0   \n",
       "18                 19.369425                32.905235                 0.0   \n",
       "19                 19.277098                32.853760                 0.0   \n",
       "20                 19.428797                32.824333                 0.0   \n",
       "21                 20.064316                32.840916                 0.0   \n",
       "22                 20.747871                32.922089                 0.0   \n",
       "23                 20.583193                32.946362                 0.0   \n",
       "24                 20.139929                32.923679                 0.0   \n",
       "25                 20.445204                32.937229                 0.0   \n",
       "26                 20.808155                32.939537                 0.0   \n",
       "27                 21.114159                32.929886                 0.0   \n",
       "28                 21.651110                32.967049                 0.0   \n",
       "29                 22.005430                32.975849                 0.0   \n",
       "...                      ...                      ...                 ...   \n",
       "102858             21.202938                31.530151                 0.2   \n",
       "102859             21.154861                31.572145                 0.2   \n",
       "102860             21.101870                31.656649                 0.2   \n",
       "102861             21.010782                31.706886                 0.2   \n",
       "102862             21.068098                31.787859                 0.2   \n",
       "102863             20.964174                31.864025                 0.2   \n",
       "102864             20.817696                31.912882                 0.2   \n",
       "102865             20.739473                31.994402                 0.2   \n",
       "102866             20.720348                32.070663                 0.2   \n",
       "102867             20.808071                32.127964                 0.2   \n",
       "102868             20.899158                32.188854                 0.2   \n",
       "102869             21.003687                32.270916                 0.2   \n",
       "102870             21.087387                32.346336                 0.2   \n",
       "102871             21.126497                32.413357                 0.2   \n",
       "102872             21.286917                32.491856                 0.2   \n",
       "102873             21.404707                32.555447                 0.2   \n",
       "102874             21.432579                32.630802                 0.2   \n",
       "102875             21.333782                32.691612                 0.2   \n",
       "102876             21.448887                32.732422                 0.2   \n",
       "102877             21.483761                32.792229                 0.2   \n",
       "102878             21.484453                32.844650                 0.2   \n",
       "102879             21.674326                32.879181                 0.2   \n",
       "102880             21.937941                32.937740                 0.2   \n",
       "102881             22.035086                32.990490                 0.2   \n",
       "102882             21.918310                33.057541                 0.2   \n",
       "102883             21.846844                33.086002                 0.2   \n",
       "102884             21.698957                33.135098                 0.2   \n",
       "102885             21.564404                33.130482                 0.2   \n",
       "102886             21.630070                33.163658                 0.2   \n",
       "102887             21.602827                33.192440                 0.2   \n",
       "\n",
       "        Global Horizontal Radiation(W/m²)  Diffuse Horizontal Radiation(W/m²)  \\\n",
       "0                                1.543787                            1.349848   \n",
       "1                                1.373370                            1.244123   \n",
       "2                                1.142953                            0.992849   \n",
       "3                                0.709036                            0.611533   \n",
       "4                                1.058623                            0.814599   \n",
       "5                                1.458448                            1.263590   \n",
       "6                                1.684532                            1.487528   \n",
       "7                                1.785272                            1.607798   \n",
       "8                                1.507639                            1.279625   \n",
       "9                                1.136652                            0.865316   \n",
       "10                               1.151793                            0.939747   \n",
       "11                               1.362498                            1.160679   \n",
       "12                               1.406728                            1.139707   \n",
       "13                               1.140046                            0.939262   \n",
       "14                               0.949268                            0.798798   \n",
       "15                               0.736785                            0.627749   \n",
       "16                               0.372044                            0.600179   \n",
       "17                               0.351594                            0.603412   \n",
       "18                               0.507697                            0.610065   \n",
       "19                               0.496211                            0.613844   \n",
       "20                               0.560727                            0.612675   \n",
       "21                               1.206447                            1.001625   \n",
       "22                               1.364443                            1.177960   \n",
       "23                               0.653764                            0.712767   \n",
       "24                               0.831343                            0.687531   \n",
       "25                               0.998519                            0.787476   \n",
       "26                               1.035480                            0.794068   \n",
       "27                               1.479693                            1.210941   \n",
       "28                               1.967896                            1.735687   \n",
       "29                               1.788238                            1.616220   \n",
       "...                                   ...                                 ...   \n",
       "102858                           1.480785                            1.317525   \n",
       "102859                           1.029500                            0.891855   \n",
       "102860                           1.034365                            0.845959   \n",
       "102861                           1.317907                            1.184201   \n",
       "102862                           1.644638                            1.431293   \n",
       "102863                           1.501274                            1.341175   \n",
       "102864                           1.127037                            1.008125   \n",
       "102865                           1.262087                            1.062599   \n",
       "102866                           1.140850                            1.022048   \n",
       "102867                           1.514290                            1.429496   \n",
       "102868                           1.577844                            1.543480   \n",
       "102869                           1.826926                            1.730712   \n",
       "102870                           1.492986                            1.310438   \n",
       "102871                           1.500674                            1.371514   \n",
       "102872                           1.776621                            1.627822   \n",
       "102873                           1.712080                            1.565143   \n",
       "102874                           1.506877                            1.198937   \n",
       "102875                           0.858020                            0.832827   \n",
       "102876                           1.261681                            1.003754   \n",
       "102877                           1.105396                            0.955374   \n",
       "102878                           1.027124                            0.838097   \n",
       "102879                           1.187620                            0.963597   \n",
       "102880                           1.570068                            1.402366   \n",
       "102881                           1.284098                            1.213849   \n",
       "102882                           0.881683                            0.746663   \n",
       "102883                           0.915584                            0.817822   \n",
       "102884                           0.818077                            0.644404   \n",
       "102885                           0.690323                            0.627243   \n",
       "102886                           0.924088                            0.786829   \n",
       "102887                           0.809160                            0.652423   \n",
       "\n",
       "        Station_1  \n",
       "0             0.0  \n",
       "1             0.0  \n",
       "2             0.0  \n",
       "3             0.0  \n",
       "4             0.0  \n",
       "5             0.0  \n",
       "6             0.0  \n",
       "7             0.0  \n",
       "8             0.0  \n",
       "9             0.0  \n",
       "10            0.0  \n",
       "11            0.0  \n",
       "12            0.0  \n",
       "13            0.0  \n",
       "14            0.0  \n",
       "15            0.0  \n",
       "16            0.0  \n",
       "17            0.0  \n",
       "18            0.0  \n",
       "19            0.0  \n",
       "20            0.0  \n",
       "21            0.0  \n",
       "22            0.0  \n",
       "23            0.0  \n",
       "24            0.0  \n",
       "25            0.0  \n",
       "26            0.0  \n",
       "27            0.0  \n",
       "28            0.0  \n",
       "29            0.0  \n",
       "...           ...  \n",
       "102858        0.0  \n",
       "102859        0.0  \n",
       "102860        0.0  \n",
       "102861        0.0  \n",
       "102862        0.0  \n",
       "102863        0.0  \n",
       "102864        0.0  \n",
       "102865        0.0  \n",
       "102866        0.0  \n",
       "102867        0.0  \n",
       "102868        0.0  \n",
       "102869        0.0  \n",
       "102870        0.0  \n",
       "102871        0.0  \n",
       "102872        0.0  \n",
       "102873        0.0  \n",
       "102874        0.0  \n",
       "102875        0.0  \n",
       "102876        0.0  \n",
       "102877        0.0  \n",
       "102878        0.0  \n",
       "102879        0.0  \n",
       "102880        0.0  \n",
       "102881        0.0  \n",
       "102882        0.0  \n",
       "102883        0.0  \n",
       "102884        0.0  \n",
       "102885        0.0  \n",
       "102886        0.0  \n",
       "102887        0.0  \n",
       "\n",
       "[102888 rows x 13 columns]"
      ]
     },
     "execution_count": 14,
     "metadata": {},
     "output_type": "execute_result"
    }
   ],
   "source": [
    "testnames[0]"
   ]
  },
  {
   "cell_type": "code",
   "execution_count": 15,
   "metadata": {},
   "outputs": [
    {
     "name": "stdout",
     "output_type": "stream",
     "text": [
      "(102888, 13)\n",
      "(102888, 13)\n",
      "(102888, 13)\n",
      "(102888, 13)\n",
      "(102888, 13)\n",
      "(102888, 13)\n",
      "(102888, 13)\n",
      "(102888, 13)\n",
      "(102888, 13)\n"
     ]
    }
   ],
   "source": [
    "#查看输入数据维度\n",
    "# print(train.shape)\n",
    "for tena in testnames:\n",
    "    print(tena.shape)"
   ]
  },
  {
   "cell_type": "code",
   "execution_count": 16,
   "metadata": {},
   "outputs": [
    {
     "name": "stdout",
     "output_type": "stream",
     "text": [
      "       Timestamp  Year  Month  Day  Hour  Minutes  Temperature(°C)  \\\n",
      "0  2019/1/1 0:00  2019      1    1     0        0        30.020723   \n",
      "\n",
      "   Relative Humidity(%)  Wind Direction(Degrees)  Daily Rainfall(mm)  \\\n",
      "0             20.125513                 32.21347                 0.0   \n",
      "\n",
      "   Global Horizontal Radiation(W/m²)  Diffuse Horizontal Radiation(W/m²)  \\\n",
      "0                           1.543787                            1.349848   \n",
      "\n",
      "   Station_1  \n",
      "0        0.0  \n",
      "       Timestamp  Year  Month  Day  Hour  Minutes  Temperature(°C)  \\\n",
      "0  2019/1/1 0:00  2019      1    1     0        0        30.020723   \n",
      "\n",
      "   Relative Humidity(%)  Wind Direction(Degrees)  Daily Rainfall(mm)  \\\n",
      "0             20.125513                 32.21347                 0.0   \n",
      "\n",
      "   Global Horizontal Radiation(W/m²)  Diffuse Horizontal Radiation(W/m²)  \\\n",
      "0                           1.543787                            1.349848   \n",
      "\n",
      "   Station_2  \n",
      "0        0.0  \n",
      "       Timestamp  Year  Month  Day  Hour  Minutes  Temperature(°C)  \\\n",
      "0  2019/1/1 0:00  2019      1    1     0        0        30.020723   \n",
      "\n",
      "   Relative Humidity(%)  Wind Direction(Degrees)  Daily Rainfall(mm)  \\\n",
      "0             20.125513                 32.21347                 0.0   \n",
      "\n",
      "   Global Horizontal Radiation(W/m²)  Diffuse Horizontal Radiation(W/m²)  \\\n",
      "0                           1.543787                            1.349848   \n",
      "\n",
      "   Station_3  \n",
      "0     0.0036  \n",
      "       Timestamp  Year  Month  Day  Hour  Minutes  Temperature(°C)  \\\n",
      "0  2019/1/1 0:00  2019      1    1     0        0        30.020723   \n",
      "\n",
      "   Relative Humidity(%)  Wind Direction(Degrees)  Daily Rainfall(mm)  \\\n",
      "0             20.125513                 32.21347                 0.0   \n",
      "\n",
      "   Global Horizontal Radiation(W/m²)  Diffuse Horizontal Radiation(W/m²)  \\\n",
      "0                           1.543787                            1.349848   \n",
      "\n",
      "   Station_4  \n",
      "0   0.000533  \n",
      "       Timestamp  Year  Month  Day  Hour  Minutes  Temperature(°C)  \\\n",
      "0  2019/1/1 0:00  2019      1    1     0        0        30.020723   \n",
      "\n",
      "   Relative Humidity(%)  Wind Direction(Degrees)  Daily Rainfall(mm)  \\\n",
      "0             20.125513                 32.21347                 0.0   \n",
      "\n",
      "   Global Horizontal Radiation(W/m²)  Diffuse Horizontal Radiation(W/m²)  \\\n",
      "0                           1.543787                            1.349848   \n",
      "\n",
      "   Station_5  \n",
      "0    -0.0003  \n",
      "       Timestamp  Year  Month  Day  Hour  Minutes  Temperature(°C)  \\\n",
      "0  2019/1/1 0:00  2019      1    1     0        0        30.020723   \n",
      "\n",
      "   Relative Humidity(%)  Wind Direction(Degrees)  Daily Rainfall(mm)  \\\n",
      "0             20.125513                 32.21347                 0.0   \n",
      "\n",
      "   Global Horizontal Radiation(W/m²)  Diffuse Horizontal Radiation(W/m²)  \\\n",
      "0                           1.543787                            1.349848   \n",
      "\n",
      "   Station_6  \n",
      "0        0.0  \n",
      "       Timestamp  Year  Month  Day  Hour  Minutes  Temperature(°C)  \\\n",
      "0  2019/1/1 0:00  2019      1    1     0        0        30.020723   \n",
      "\n",
      "   Relative Humidity(%)  Wind Direction(Degrees)  Daily Rainfall(mm)  \\\n",
      "0             20.125513                 32.21347                 0.0   \n",
      "\n",
      "   Global Horizontal Radiation(W/m²)  Diffuse Horizontal Radiation(W/m²)  \\\n",
      "0                           1.543787                            1.349848   \n",
      "\n",
      "   Station_7  \n",
      "0      -0.02  \n",
      "       Timestamp  Year  Month  Day  Hour  Minutes  Temperature(°C)  \\\n",
      "0  2019/1/1 0:00  2019      1    1     0        0        30.020723   \n",
      "\n",
      "   Relative Humidity(%)  Wind Direction(Degrees)  Daily Rainfall(mm)  \\\n",
      "0             20.125513                 32.21347                 0.0   \n",
      "\n",
      "   Global Horizontal Radiation(W/m²)  Diffuse Horizontal Radiation(W/m²)  \\\n",
      "0                           1.543787                            1.349848   \n",
      "\n",
      "   Station_8  \n",
      "0      -0.01  \n",
      "       Timestamp  Year  Month  Day  Hour  Minutes  Temperature(°C)  \\\n",
      "0  2019/1/1 0:00  2019      1    1     0        0        30.020723   \n",
      "\n",
      "   Relative Humidity(%)  Wind Direction(Degrees)  Daily Rainfall(mm)  \\\n",
      "0             20.125513                 32.21347                 0.0   \n",
      "\n",
      "   Global Horizontal Radiation(W/m²)  Diffuse Horizontal Radiation(W/m²)  \\\n",
      "0                           1.543787                            1.349848   \n",
      "\n",
      "   Station_9  \n",
      "0        0.0  \n"
     ]
    }
   ],
   "source": [
    "for tena in testnames:\n",
    "    print(tena.head(1))\n",
    "# test.head(5)"
   ]
  },
  {
   "cell_type": "markdown",
   "metadata": {},
   "source": [
    "# 数据预处理训练集去异常值"
   ]
  },
  {
   "cell_type": "code",
   "execution_count": 17,
   "metadata": {},
   "outputs": [
    {
     "name": "stdout",
     "output_type": "stream",
     "text": [
      "Timestamp                             0\n",
      "Year                                  0\n",
      "Month                                 0\n",
      "Day                                   0\n",
      "Hour                                  0\n",
      "Minutes                               0\n",
      "Temperature(°C)                       0\n",
      "Relative Humidity(%)                  0\n",
      "Wind Direction(Degrees)               0\n",
      "Daily Rainfall(mm)                    0\n",
      "Global Horizontal Radiation(W/m²)     0\n",
      "Diffuse Horizontal Radiation(W/m²)    0\n",
      "Station_1                             0\n",
      "dtype: int64\n",
      "Timestamp                             0\n",
      "Year                                  0\n",
      "Month                                 0\n",
      "Day                                   0\n",
      "Hour                                  0\n",
      "Minutes                               0\n",
      "Temperature(°C)                       0\n",
      "Relative Humidity(%)                  0\n",
      "Wind Direction(Degrees)               0\n",
      "Daily Rainfall(mm)                    0\n",
      "Global Horizontal Radiation(W/m²)     0\n",
      "Diffuse Horizontal Radiation(W/m²)    0\n",
      "Station_2                             0\n",
      "dtype: int64\n",
      "Timestamp                             0\n",
      "Year                                  0\n",
      "Month                                 0\n",
      "Day                                   0\n",
      "Hour                                  0\n",
      "Minutes                               0\n",
      "Temperature(°C)                       0\n",
      "Relative Humidity(%)                  0\n",
      "Wind Direction(Degrees)               0\n",
      "Daily Rainfall(mm)                    0\n",
      "Global Horizontal Radiation(W/m²)     0\n",
      "Diffuse Horizontal Radiation(W/m²)    0\n",
      "Station_3                             0\n",
      "dtype: int64\n",
      "Timestamp                             0\n",
      "Year                                  0\n",
      "Month                                 0\n",
      "Day                                   0\n",
      "Hour                                  0\n",
      "Minutes                               0\n",
      "Temperature(°C)                       0\n",
      "Relative Humidity(%)                  0\n",
      "Wind Direction(Degrees)               0\n",
      "Daily Rainfall(mm)                    0\n",
      "Global Horizontal Radiation(W/m²)     0\n",
      "Diffuse Horizontal Radiation(W/m²)    0\n",
      "Station_4                             0\n",
      "dtype: int64\n",
      "Timestamp                             0\n",
      "Year                                  0\n",
      "Month                                 0\n",
      "Day                                   0\n",
      "Hour                                  0\n",
      "Minutes                               0\n",
      "Temperature(°C)                       0\n",
      "Relative Humidity(%)                  0\n",
      "Wind Direction(Degrees)               0\n",
      "Daily Rainfall(mm)                    0\n",
      "Global Horizontal Radiation(W/m²)     0\n",
      "Diffuse Horizontal Radiation(W/m²)    0\n",
      "Station_5                             0\n",
      "dtype: int64\n",
      "Timestamp                             0\n",
      "Year                                  0\n",
      "Month                                 0\n",
      "Day                                   0\n",
      "Hour                                  0\n",
      "Minutes                               0\n",
      "Temperature(°C)                       0\n",
      "Relative Humidity(%)                  0\n",
      "Wind Direction(Degrees)               0\n",
      "Daily Rainfall(mm)                    0\n",
      "Global Horizontal Radiation(W/m²)     0\n",
      "Diffuse Horizontal Radiation(W/m²)    0\n",
      "Station_6                             0\n",
      "dtype: int64\n",
      "Timestamp                             0\n",
      "Year                                  0\n",
      "Month                                 0\n",
      "Day                                   0\n",
      "Hour                                  0\n",
      "Minutes                               0\n",
      "Temperature(°C)                       0\n",
      "Relative Humidity(%)                  0\n",
      "Wind Direction(Degrees)               0\n",
      "Daily Rainfall(mm)                    0\n",
      "Global Horizontal Radiation(W/m²)     0\n",
      "Diffuse Horizontal Radiation(W/m²)    0\n",
      "Station_7                             0\n",
      "dtype: int64\n",
      "Timestamp                             0\n",
      "Year                                  0\n",
      "Month                                 0\n",
      "Day                                   0\n",
      "Hour                                  0\n",
      "Minutes                               0\n",
      "Temperature(°C)                       0\n",
      "Relative Humidity(%)                  0\n",
      "Wind Direction(Degrees)               0\n",
      "Daily Rainfall(mm)                    0\n",
      "Global Horizontal Radiation(W/m²)     0\n",
      "Diffuse Horizontal Radiation(W/m²)    0\n",
      "Station_8                             0\n",
      "dtype: int64\n",
      "Timestamp                             0\n",
      "Year                                  0\n",
      "Month                                 0\n",
      "Day                                   0\n",
      "Hour                                  0\n",
      "Minutes                               0\n",
      "Temperature(°C)                       0\n",
      "Relative Humidity(%)                  0\n",
      "Wind Direction(Degrees)               0\n",
      "Daily Rainfall(mm)                    0\n",
      "Global Horizontal Radiation(W/m²)     0\n",
      "Diffuse Horizontal Radiation(W/m²)    0\n",
      "Station_9                             0\n",
      "dtype: int64\n"
     ]
    }
   ],
   "source": [
    "# test.isnull().sum()\n",
    "for tena in testnames:\n",
    "    print(tena.isnull().sum())"
   ]
  },
  {
   "cell_type": "code",
   "execution_count": 18,
   "metadata": {},
   "outputs": [
    {
     "name": "stdout",
     "output_type": "stream",
     "text": [
      "Index(['Timestamp', 'Year', 'Month', 'Day', 'Hour', 'Minutes',\n",
      "       'Temperature(°C)', 'Relative Humidity(%)', 'Wind Direction(Degrees)',\n",
      "       'Daily Rainfall(mm)', 'Global Horizontal Radiation(W/m²)',\n",
      "       'Diffuse Horizontal Radiation(W/m²)', 'Station_1'],\n",
      "      dtype='object')\n",
      "Index(['Timestamp', 'Year', 'Month', 'Day', 'Hour', 'Minutes',\n",
      "       'Temperature(°C)', 'Relative Humidity(%)', 'Wind Direction(Degrees)',\n",
      "       'Daily Rainfall(mm)', 'Global Horizontal Radiation(W/m²)',\n",
      "       'Diffuse Horizontal Radiation(W/m²)', 'Station_2'],\n",
      "      dtype='object')\n",
      "Index(['Timestamp', 'Year', 'Month', 'Day', 'Hour', 'Minutes',\n",
      "       'Temperature(°C)', 'Relative Humidity(%)', 'Wind Direction(Degrees)',\n",
      "       'Daily Rainfall(mm)', 'Global Horizontal Radiation(W/m²)',\n",
      "       'Diffuse Horizontal Radiation(W/m²)', 'Station_3'],\n",
      "      dtype='object')\n",
      "Index(['Timestamp', 'Year', 'Month', 'Day', 'Hour', 'Minutes',\n",
      "       'Temperature(°C)', 'Relative Humidity(%)', 'Wind Direction(Degrees)',\n",
      "       'Daily Rainfall(mm)', 'Global Horizontal Radiation(W/m²)',\n",
      "       'Diffuse Horizontal Radiation(W/m²)', 'Station_4'],\n",
      "      dtype='object')\n",
      "Index(['Timestamp', 'Year', 'Month', 'Day', 'Hour', 'Minutes',\n",
      "       'Temperature(°C)', 'Relative Humidity(%)', 'Wind Direction(Degrees)',\n",
      "       'Daily Rainfall(mm)', 'Global Horizontal Radiation(W/m²)',\n",
      "       'Diffuse Horizontal Radiation(W/m²)', 'Station_5'],\n",
      "      dtype='object')\n",
      "Index(['Timestamp', 'Year', 'Month', 'Day', 'Hour', 'Minutes',\n",
      "       'Temperature(°C)', 'Relative Humidity(%)', 'Wind Direction(Degrees)',\n",
      "       'Daily Rainfall(mm)', 'Global Horizontal Radiation(W/m²)',\n",
      "       'Diffuse Horizontal Radiation(W/m²)', 'Station_6'],\n",
      "      dtype='object')\n",
      "Index(['Timestamp', 'Year', 'Month', 'Day', 'Hour', 'Minutes',\n",
      "       'Temperature(°C)', 'Relative Humidity(%)', 'Wind Direction(Degrees)',\n",
      "       'Daily Rainfall(mm)', 'Global Horizontal Radiation(W/m²)',\n",
      "       'Diffuse Horizontal Radiation(W/m²)', 'Station_7'],\n",
      "      dtype='object')\n",
      "Index(['Timestamp', 'Year', 'Month', 'Day', 'Hour', 'Minutes',\n",
      "       'Temperature(°C)', 'Relative Humidity(%)', 'Wind Direction(Degrees)',\n",
      "       'Daily Rainfall(mm)', 'Global Horizontal Radiation(W/m²)',\n",
      "       'Diffuse Horizontal Radiation(W/m²)', 'Station_8'],\n",
      "      dtype='object')\n",
      "Index(['Timestamp', 'Year', 'Month', 'Day', 'Hour', 'Minutes',\n",
      "       'Temperature(°C)', 'Relative Humidity(%)', 'Wind Direction(Degrees)',\n",
      "       'Daily Rainfall(mm)', 'Global Horizontal Radiation(W/m²)',\n",
      "       'Diffuse Horizontal Radiation(W/m²)', 'Station_9'],\n",
      "      dtype='object')\n"
     ]
    }
   ],
   "source": [
    "# test.columns\n",
    "for tena in testnames:\n",
    "    print(tena.columns)"
   ]
  },
  {
   "cell_type": "code",
   "execution_count": 19,
   "metadata": {},
   "outputs": [
    {
     "data": {
      "text/plain": [
       "9"
      ]
     },
     "execution_count": 19,
     "metadata": {},
     "output_type": "execute_result"
    }
   ],
   "source": [
    "len(testnames)"
   ]
  },
  {
   "cell_type": "code",
   "execution_count": 20,
   "metadata": {},
   "outputs": [
    {
     "name": "stdout",
     "output_type": "stream",
     "text": [
      "Index(['Month', 'Day', 'Hour', 'Minutes', 'Temperature(°C)',\n",
      "       'Relative Humidity(%)', 'Wind Direction(Degrees)', 'Daily Rainfall(mm)',\n",
      "       'Global Horizontal Radiation(W/m²)',\n",
      "       'Diffuse Horizontal Radiation(W/m²)', 'Station_1'],\n",
      "      dtype='object')\n",
      "Index(['Month', 'Day', 'Hour', 'Minutes', 'Temperature(°C)',\n",
      "       'Relative Humidity(%)', 'Wind Direction(Degrees)', 'Daily Rainfall(mm)',\n",
      "       'Global Horizontal Radiation(W/m²)',\n",
      "       'Diffuse Horizontal Radiation(W/m²)', 'Station_2'],\n",
      "      dtype='object')\n",
      "Index(['Month', 'Day', 'Hour', 'Minutes', 'Temperature(°C)',\n",
      "       'Relative Humidity(%)', 'Wind Direction(Degrees)', 'Daily Rainfall(mm)',\n",
      "       'Global Horizontal Radiation(W/m²)',\n",
      "       'Diffuse Horizontal Radiation(W/m²)', 'Station_3'],\n",
      "      dtype='object')\n",
      "Index(['Month', 'Day', 'Hour', 'Minutes', 'Temperature(°C)',\n",
      "       'Relative Humidity(%)', 'Wind Direction(Degrees)', 'Daily Rainfall(mm)',\n",
      "       'Global Horizontal Radiation(W/m²)',\n",
      "       'Diffuse Horizontal Radiation(W/m²)', 'Station_4'],\n",
      "      dtype='object')\n",
      "Index(['Month', 'Day', 'Hour', 'Minutes', 'Temperature(°C)',\n",
      "       'Relative Humidity(%)', 'Wind Direction(Degrees)', 'Daily Rainfall(mm)',\n",
      "       'Global Horizontal Radiation(W/m²)',\n",
      "       'Diffuse Horizontal Radiation(W/m²)', 'Station_5'],\n",
      "      dtype='object')\n",
      "Index(['Month', 'Day', 'Hour', 'Minutes', 'Temperature(°C)',\n",
      "       'Relative Humidity(%)', 'Wind Direction(Degrees)', 'Daily Rainfall(mm)',\n",
      "       'Global Horizontal Radiation(W/m²)',\n",
      "       'Diffuse Horizontal Radiation(W/m²)', 'Station_6'],\n",
      "      dtype='object')\n",
      "Index(['Month', 'Day', 'Hour', 'Minutes', 'Temperature(°C)',\n",
      "       'Relative Humidity(%)', 'Wind Direction(Degrees)', 'Daily Rainfall(mm)',\n",
      "       'Global Horizontal Radiation(W/m²)',\n",
      "       'Diffuse Horizontal Radiation(W/m²)', 'Station_7'],\n",
      "      dtype='object')\n",
      "Index(['Month', 'Day', 'Hour', 'Minutes', 'Temperature(°C)',\n",
      "       'Relative Humidity(%)', 'Wind Direction(Degrees)', 'Daily Rainfall(mm)',\n",
      "       'Global Horizontal Radiation(W/m²)',\n",
      "       'Diffuse Horizontal Radiation(W/m²)', 'Station_8'],\n",
      "      dtype='object')\n",
      "Index(['Month', 'Day', 'Hour', 'Minutes', 'Temperature(°C)',\n",
      "       'Relative Humidity(%)', 'Wind Direction(Degrees)', 'Daily Rainfall(mm)',\n",
      "       'Global Horizontal Radiation(W/m²)',\n",
      "       'Diffuse Horizontal Radiation(W/m²)', 'Station_9'],\n",
      "      dtype='object')\n"
     ]
    }
   ],
   "source": [
    "for tena in range(0,len(testnames)):\n",
    "    testnames[tena] = testnames[tena].drop(columns=['Timestamp','Year'])\n",
    "    print(testnames[tena].columns)"
   ]
  },
  {
   "cell_type": "code",
   "execution_count": 22,
   "metadata": {},
   "outputs": [
    {
     "data": {
      "text/html": [
       "<div>\n",
       "<style scoped>\n",
       "    .dataframe tbody tr th:only-of-type {\n",
       "        vertical-align: middle;\n",
       "    }\n",
       "\n",
       "    .dataframe tbody tr th {\n",
       "        vertical-align: top;\n",
       "    }\n",
       "\n",
       "    .dataframe thead th {\n",
       "        text-align: right;\n",
       "    }\n",
       "</style>\n",
       "<table border=\"1\" class=\"dataframe\">\n",
       "  <thead>\n",
       "    <tr style=\"text-align: right;\">\n",
       "      <th></th>\n",
       "      <th>Month</th>\n",
       "      <th>Day</th>\n",
       "      <th>Hour</th>\n",
       "      <th>Minutes</th>\n",
       "      <th>Temperature(°C)</th>\n",
       "      <th>Relative Humidity(%)</th>\n",
       "      <th>Wind Direction(Degrees)</th>\n",
       "      <th>Daily Rainfall(mm)</th>\n",
       "      <th>Global Horizontal Radiation(W/m²)</th>\n",
       "      <th>Diffuse Horizontal Radiation(W/m²)</th>\n",
       "      <th>Station_1</th>\n",
       "    </tr>\n",
       "  </thead>\n",
       "  <tbody>\n",
       "    <tr>\n",
       "      <th>0</th>\n",
       "      <td>1</td>\n",
       "      <td>1</td>\n",
       "      <td>0</td>\n",
       "      <td>0</td>\n",
       "      <td>30.020723</td>\n",
       "      <td>20.125513</td>\n",
       "      <td>32.213470</td>\n",
       "      <td>0.0</td>\n",
       "      <td>1.543787</td>\n",
       "      <td>1.349848</td>\n",
       "      <td>0.0</td>\n",
       "    </tr>\n",
       "    <tr>\n",
       "      <th>1</th>\n",
       "      <td>1</td>\n",
       "      <td>1</td>\n",
       "      <td>0</td>\n",
       "      <td>5</td>\n",
       "      <td>29.958653</td>\n",
       "      <td>20.040049</td>\n",
       "      <td>32.158791</td>\n",
       "      <td>0.0</td>\n",
       "      <td>1.373370</td>\n",
       "      <td>1.244123</td>\n",
       "      <td>0.0</td>\n",
       "    </tr>\n",
       "    <tr>\n",
       "      <th>2</th>\n",
       "      <td>1</td>\n",
       "      <td>1</td>\n",
       "      <td>0</td>\n",
       "      <td>10</td>\n",
       "      <td>29.884491</td>\n",
       "      <td>20.013313</td>\n",
       "      <td>32.155808</td>\n",
       "      <td>0.0</td>\n",
       "      <td>1.142953</td>\n",
       "      <td>0.992849</td>\n",
       "      <td>0.0</td>\n",
       "    </tr>\n",
       "    <tr>\n",
       "      <th>3</th>\n",
       "      <td>1</td>\n",
       "      <td>1</td>\n",
       "      <td>0</td>\n",
       "      <td>15</td>\n",
       "      <td>29.831554</td>\n",
       "      <td>20.068233</td>\n",
       "      <td>32.178555</td>\n",
       "      <td>0.0</td>\n",
       "      <td>0.709036</td>\n",
       "      <td>0.611533</td>\n",
       "      <td>0.0</td>\n",
       "    </tr>\n",
       "    <tr>\n",
       "      <th>4</th>\n",
       "      <td>1</td>\n",
       "      <td>1</td>\n",
       "      <td>0</td>\n",
       "      <td>20</td>\n",
       "      <td>29.750330</td>\n",
       "      <td>20.086567</td>\n",
       "      <td>32.166214</td>\n",
       "      <td>0.0</td>\n",
       "      <td>1.058623</td>\n",
       "      <td>0.814599</td>\n",
       "      <td>0.0</td>\n",
       "    </tr>\n",
       "  </tbody>\n",
       "</table>\n",
       "</div>"
      ],
      "text/plain": [
       "   Month  Day  Hour  Minutes  Temperature(°C)  Relative Humidity(%)  \\\n",
       "0      1    1     0        0        30.020723             20.125513   \n",
       "1      1    1     0        5        29.958653             20.040049   \n",
       "2      1    1     0       10        29.884491             20.013313   \n",
       "3      1    1     0       15        29.831554             20.068233   \n",
       "4      1    1     0       20        29.750330             20.086567   \n",
       "\n",
       "   Wind Direction(Degrees)  Daily Rainfall(mm)  \\\n",
       "0                32.213470                 0.0   \n",
       "1                32.158791                 0.0   \n",
       "2                32.155808                 0.0   \n",
       "3                32.178555                 0.0   \n",
       "4                32.166214                 0.0   \n",
       "\n",
       "   Global Horizontal Radiation(W/m²)  Diffuse Horizontal Radiation(W/m²)  \\\n",
       "0                           1.543787                            1.349848   \n",
       "1                           1.373370                            1.244123   \n",
       "2                           1.142953                            0.992849   \n",
       "3                           0.709036                            0.611533   \n",
       "4                           1.058623                            0.814599   \n",
       "\n",
       "   Station_1  \n",
       "0        0.0  \n",
       "1        0.0  \n",
       "2        0.0  \n",
       "3        0.0  \n",
       "4        0.0  "
      ]
     },
     "execution_count": 22,
     "metadata": {},
     "output_type": "execute_result"
    }
   ],
   "source": [
    "testnames[0].head()"
   ]
  },
  {
   "cell_type": "code",
   "execution_count": 23,
   "metadata": {},
   "outputs": [
    {
     "data": {
      "text/html": [
       "<div>\n",
       "<style scoped>\n",
       "    .dataframe tbody tr th:only-of-type {\n",
       "        vertical-align: middle;\n",
       "    }\n",
       "\n",
       "    .dataframe tbody tr th {\n",
       "        vertical-align: top;\n",
       "    }\n",
       "\n",
       "    .dataframe thead th {\n",
       "        text-align: right;\n",
       "    }\n",
       "</style>\n",
       "<table border=\"1\" class=\"dataframe\">\n",
       "  <thead>\n",
       "    <tr style=\"text-align: right;\">\n",
       "      <th></th>\n",
       "      <th>Month</th>\n",
       "      <th>Day</th>\n",
       "      <th>Hour</th>\n",
       "      <th>Minutes</th>\n",
       "      <th>Temperature(°C)</th>\n",
       "      <th>Relative Humidity(%)</th>\n",
       "      <th>Wind Direction(Degrees)</th>\n",
       "      <th>Daily Rainfall(mm)</th>\n",
       "      <th>Global Horizontal Radiation(W/m²)</th>\n",
       "      <th>Diffuse Horizontal Radiation(W/m²)</th>\n",
       "      <th>Station_1</th>\n",
       "    </tr>\n",
       "  </thead>\n",
       "  <tbody>\n",
       "    <tr>\n",
       "      <th>0</th>\n",
       "      <td>1</td>\n",
       "      <td>1</td>\n",
       "      <td>0</td>\n",
       "      <td>0</td>\n",
       "      <td>30.020723</td>\n",
       "      <td>20.125513</td>\n",
       "      <td>32.213470</td>\n",
       "      <td>0.0</td>\n",
       "      <td>1.543787</td>\n",
       "      <td>1.349848</td>\n",
       "      <td>0.0</td>\n",
       "    </tr>\n",
       "    <tr>\n",
       "      <th>1</th>\n",
       "      <td>1</td>\n",
       "      <td>1</td>\n",
       "      <td>0</td>\n",
       "      <td>5</td>\n",
       "      <td>29.958653</td>\n",
       "      <td>20.040049</td>\n",
       "      <td>32.158791</td>\n",
       "      <td>0.0</td>\n",
       "      <td>1.373370</td>\n",
       "      <td>1.244123</td>\n",
       "      <td>0.0</td>\n",
       "    </tr>\n",
       "    <tr>\n",
       "      <th>2</th>\n",
       "      <td>1</td>\n",
       "      <td>1</td>\n",
       "      <td>0</td>\n",
       "      <td>10</td>\n",
       "      <td>29.884491</td>\n",
       "      <td>20.013313</td>\n",
       "      <td>32.155808</td>\n",
       "      <td>0.0</td>\n",
       "      <td>1.142953</td>\n",
       "      <td>0.992849</td>\n",
       "      <td>0.0</td>\n",
       "    </tr>\n",
       "    <tr>\n",
       "      <th>3</th>\n",
       "      <td>1</td>\n",
       "      <td>1</td>\n",
       "      <td>0</td>\n",
       "      <td>15</td>\n",
       "      <td>29.831554</td>\n",
       "      <td>20.068233</td>\n",
       "      <td>32.178555</td>\n",
       "      <td>0.0</td>\n",
       "      <td>0.709036</td>\n",
       "      <td>0.611533</td>\n",
       "      <td>0.0</td>\n",
       "    </tr>\n",
       "    <tr>\n",
       "      <th>4</th>\n",
       "      <td>1</td>\n",
       "      <td>1</td>\n",
       "      <td>0</td>\n",
       "      <td>20</td>\n",
       "      <td>29.750330</td>\n",
       "      <td>20.086567</td>\n",
       "      <td>32.166214</td>\n",
       "      <td>0.0</td>\n",
       "      <td>1.058623</td>\n",
       "      <td>0.814599</td>\n",
       "      <td>0.0</td>\n",
       "    </tr>\n",
       "  </tbody>\n",
       "</table>\n",
       "</div>"
      ],
      "text/plain": [
       "   Month  Day  Hour  Minutes  Temperature(°C)  Relative Humidity(%)  \\\n",
       "0      1    1     0        0        30.020723             20.125513   \n",
       "1      1    1     0        5        29.958653             20.040049   \n",
       "2      1    1     0       10        29.884491             20.013313   \n",
       "3      1    1     0       15        29.831554             20.068233   \n",
       "4      1    1     0       20        29.750330             20.086567   \n",
       "\n",
       "   Wind Direction(Degrees)  Daily Rainfall(mm)  \\\n",
       "0                32.213470                 0.0   \n",
       "1                32.158791                 0.0   \n",
       "2                32.155808                 0.0   \n",
       "3                32.178555                 0.0   \n",
       "4                32.166214                 0.0   \n",
       "\n",
       "   Global Horizontal Radiation(W/m²)  Diffuse Horizontal Radiation(W/m²)  \\\n",
       "0                           1.543787                            1.349848   \n",
       "1                           1.373370                            1.244123   \n",
       "2                           1.142953                            0.992849   \n",
       "3                           0.709036                            0.611533   \n",
       "4                           1.058623                            0.814599   \n",
       "\n",
       "   Station_1  \n",
       "0        0.0  \n",
       "1        0.0  \n",
       "2        0.0  \n",
       "3        0.0  \n",
       "4        0.0  "
      ]
     },
     "execution_count": 23,
     "metadata": {},
     "output_type": "execute_result"
    }
   ],
   "source": [
    "testnames[0].head()"
   ]
  },
  {
   "cell_type": "markdown",
   "metadata": {},
   "source": [
    "# keras模型训练"
   ]
  },
  {
   "cell_type": "markdown",
   "metadata": {},
   "source": [
    "准备数据"
   ]
  },
  {
   "cell_type": "code",
   "execution_count": 24,
   "metadata": {},
   "outputs": [
    {
     "name": "stdout",
     "output_type": "stream",
     "text": [
      "   Month  Day  Hour  Minutes  Temperature(°C)  Relative Humidity(%)  \\\n",
      "0      1    1     0        0        30.020723             20.125513   \n",
      "1      1    1     0        5        29.958653             20.040049   \n",
      "2      1    1     0       10        29.884491             20.013313   \n",
      "3      1    1     0       15        29.831554             20.068233   \n",
      "4      1    1     0       20        29.750330             20.086567   \n",
      "\n",
      "   Wind Direction(Degrees)  Daily Rainfall(mm)  \\\n",
      "0                32.213470                 0.0   \n",
      "1                32.158791                 0.0   \n",
      "2                32.155808                 0.0   \n",
      "3                32.178555                 0.0   \n",
      "4                32.166214                 0.0   \n",
      "\n",
      "   Global Horizontal Radiation(W/m²)  Diffuse Horizontal Radiation(W/m²)  \\\n",
      "0                           1.543787                            1.349848   \n",
      "1                           1.373370                            1.244123   \n",
      "2                           1.142953                            0.992849   \n",
      "3                           0.709036                            0.611533   \n",
      "4                           1.058623                            0.814599   \n",
      "\n",
      "   Station_1  \n",
      "0        0.0  \n",
      "1        0.0  \n",
      "2        0.0  \n",
      "3        0.0  \n",
      "4        0.0  \n",
      "   Month  Day  Hour  Minutes  Temperature(°C)  Relative Humidity(%)  \\\n",
      "0      1    1     0        0        30.020723             20.125513   \n",
      "1      1    1     0        5        29.958653             20.040049   \n",
      "2      1    1     0       10        29.884491             20.013313   \n",
      "3      1    1     0       15        29.831554             20.068233   \n",
      "4      1    1     0       20        29.750330             20.086567   \n",
      "\n",
      "   Wind Direction(Degrees)  Daily Rainfall(mm)  \\\n",
      "0                32.213470                 0.0   \n",
      "1                32.158791                 0.0   \n",
      "2                32.155808                 0.0   \n",
      "3                32.178555                 0.0   \n",
      "4                32.166214                 0.0   \n",
      "\n",
      "   Global Horizontal Radiation(W/m²)  Diffuse Horizontal Radiation(W/m²)  \\\n",
      "0                           1.543787                            1.349848   \n",
      "1                           1.373370                            1.244123   \n",
      "2                           1.142953                            0.992849   \n",
      "3                           0.709036                            0.611533   \n",
      "4                           1.058623                            0.814599   \n",
      "\n",
      "   Station_2  \n",
      "0        0.0  \n",
      "1        0.0  \n",
      "2        0.0  \n",
      "3        0.0  \n",
      "4        0.0  \n",
      "   Month  Day  Hour  Minutes  Temperature(°C)  Relative Humidity(%)  \\\n",
      "0      1    1     0        0        30.020723             20.125513   \n",
      "1      1    1     0        5        29.958653             20.040049   \n",
      "2      1    1     0       10        29.884491             20.013313   \n",
      "3      1    1     0       15        29.831554             20.068233   \n",
      "4      1    1     0       20        29.750330             20.086567   \n",
      "\n",
      "   Wind Direction(Degrees)  Daily Rainfall(mm)  \\\n",
      "0                32.213470                 0.0   \n",
      "1                32.158791                 0.0   \n",
      "2                32.155808                 0.0   \n",
      "3                32.178555                 0.0   \n",
      "4                32.166214                 0.0   \n",
      "\n",
      "   Global Horizontal Radiation(W/m²)  Diffuse Horizontal Radiation(W/m²)  \\\n",
      "0                           1.543787                            1.349848   \n",
      "1                           1.373370                            1.244123   \n",
      "2                           1.142953                            0.992849   \n",
      "3                           0.709036                            0.611533   \n",
      "4                           1.058623                            0.814599   \n",
      "\n",
      "   Station_3  \n",
      "0   0.003600  \n",
      "1   0.003267  \n",
      "2   0.003867  \n",
      "3   0.002933  \n",
      "4   0.003333  \n",
      "   Month  Day  Hour  Minutes  Temperature(°C)  Relative Humidity(%)  \\\n",
      "0      1    1     0        0        30.020723             20.125513   \n",
      "1      1    1     0        5        29.958653             20.040049   \n",
      "2      1    1     0       10        29.884491             20.013313   \n",
      "3      1    1     0       15        29.831554             20.068233   \n",
      "4      1    1     0       20        29.750330             20.086567   \n",
      "\n",
      "   Wind Direction(Degrees)  Daily Rainfall(mm)  \\\n",
      "0                32.213470                 0.0   \n",
      "1                32.158791                 0.0   \n",
      "2                32.155808                 0.0   \n",
      "3                32.178555                 0.0   \n",
      "4                32.166214                 0.0   \n",
      "\n",
      "   Global Horizontal Radiation(W/m²)  Diffuse Horizontal Radiation(W/m²)  \\\n",
      "0                           1.543787                            1.349848   \n",
      "1                           1.373370                            1.244123   \n",
      "2                           1.142953                            0.992849   \n",
      "3                           0.709036                            0.611533   \n",
      "4                           1.058623                            0.814599   \n",
      "\n",
      "   Station_4  \n",
      "0   0.000533  \n",
      "1   0.000433  \n",
      "2   0.000867  \n",
      "3   0.000767  \n",
      "4   0.000533  \n",
      "   Month  Day  Hour  Minutes  Temperature(°C)  Relative Humidity(%)  \\\n",
      "0      1    1     0        0        30.020723             20.125513   \n",
      "1      1    1     0        5        29.958653             20.040049   \n",
      "2      1    1     0       10        29.884491             20.013313   \n",
      "3      1    1     0       15        29.831554             20.068233   \n",
      "4      1    1     0       20        29.750330             20.086567   \n",
      "\n",
      "   Wind Direction(Degrees)  Daily Rainfall(mm)  \\\n",
      "0                32.213470                 0.0   \n",
      "1                32.158791                 0.0   \n",
      "2                32.155808                 0.0   \n",
      "3                32.178555                 0.0   \n",
      "4                32.166214                 0.0   \n",
      "\n",
      "   Global Horizontal Radiation(W/m²)  Diffuse Horizontal Radiation(W/m²)  \\\n",
      "0                           1.543787                            1.349848   \n",
      "1                           1.373370                            1.244123   \n",
      "2                           1.142953                            0.992849   \n",
      "3                           0.709036                            0.611533   \n",
      "4                           1.058623                            0.814599   \n",
      "\n",
      "   Station_5  \n",
      "0  -0.000300  \n",
      "1  -0.000167  \n",
      "2  -0.000300  \n",
      "3  -0.000100  \n",
      "4  -0.000100  \n",
      "   Month  Day  Hour  Minutes  Temperature(°C)  Relative Humidity(%)  \\\n",
      "0      1    1     0        0        30.020723             20.125513   \n",
      "1      1    1     0        5        29.958653             20.040049   \n",
      "2      1    1     0       10        29.884491             20.013313   \n",
      "3      1    1     0       15        29.831554             20.068233   \n",
      "4      1    1     0       20        29.750330             20.086567   \n",
      "\n",
      "   Wind Direction(Degrees)  Daily Rainfall(mm)  \\\n",
      "0                32.213470                 0.0   \n",
      "1                32.158791                 0.0   \n",
      "2                32.155808                 0.0   \n",
      "3                32.178555                 0.0   \n",
      "4                32.166214                 0.0   \n",
      "\n",
      "   Global Horizontal Radiation(W/m²)  Diffuse Horizontal Radiation(W/m²)  \\\n",
      "0                           1.543787                            1.349848   \n",
      "1                           1.373370                            1.244123   \n",
      "2                           1.142953                            0.992849   \n",
      "3                           0.709036                            0.611533   \n",
      "4                           1.058623                            0.814599   \n",
      "\n",
      "   Station_6  \n",
      "0        0.0  \n",
      "1        0.0  \n",
      "2        0.0  \n",
      "3        0.0  \n",
      "4        0.0  \n",
      "   Month  Day  Hour  Minutes  Temperature(°C)  Relative Humidity(%)  \\\n",
      "0      1    1     0        0        30.020723             20.125513   \n",
      "1      1    1     0        5        29.958653             20.040049   \n",
      "2      1    1     0       10        29.884491             20.013313   \n",
      "3      1    1     0       15        29.831554             20.068233   \n",
      "4      1    1     0       20        29.750330             20.086567   \n",
      "\n",
      "   Wind Direction(Degrees)  Daily Rainfall(mm)  \\\n",
      "0                32.213470                 0.0   \n",
      "1                32.158791                 0.0   \n",
      "2                32.155808                 0.0   \n",
      "3                32.178555                 0.0   \n",
      "4                32.166214                 0.0   \n",
      "\n",
      "   Global Horizontal Radiation(W/m²)  Diffuse Horizontal Radiation(W/m²)  \\\n",
      "0                           1.543787                            1.349848   \n",
      "1                           1.373370                            1.244123   \n",
      "2                           1.142953                            0.992849   \n",
      "3                           0.709036                            0.611533   \n",
      "4                           1.058623                            0.814599   \n",
      "\n",
      "   Station_7  \n",
      "0      -0.02  \n",
      "1      -0.02  \n",
      "2      -0.02  \n",
      "3      -0.02  \n",
      "4      -0.02  \n",
      "   Month  Day  Hour  Minutes  Temperature(°C)  Relative Humidity(%)  \\\n",
      "0      1    1     0        0        30.020723             20.125513   \n",
      "1      1    1     0        5        29.958653             20.040049   \n",
      "2      1    1     0       10        29.884491             20.013313   \n",
      "3      1    1     0       15        29.831554             20.068233   \n",
      "4      1    1     0       20        29.750330             20.086567   \n",
      "\n",
      "   Wind Direction(Degrees)  Daily Rainfall(mm)  \\\n",
      "0                32.213470                 0.0   \n",
      "1                32.158791                 0.0   \n",
      "2                32.155808                 0.0   \n",
      "3                32.178555                 0.0   \n",
      "4                32.166214                 0.0   \n",
      "\n",
      "   Global Horizontal Radiation(W/m²)  Diffuse Horizontal Radiation(W/m²)  \\\n",
      "0                           1.543787                            1.349848   \n",
      "1                           1.373370                            1.244123   \n",
      "2                           1.142953                            0.992849   \n",
      "3                           0.709036                            0.611533   \n",
      "4                           1.058623                            0.814599   \n",
      "\n",
      "   Station_8  \n",
      "0      -0.01  \n",
      "1      -0.01  \n",
      "2      -0.01  \n",
      "3      -0.01  \n",
      "4      -0.01  \n",
      "   Month  Day  Hour  Minutes  Temperature(°C)  Relative Humidity(%)  \\\n",
      "0      1    1     0        0        30.020723             20.125513   \n",
      "1      1    1     0        5        29.958653             20.040049   \n",
      "2      1    1     0       10        29.884491             20.013313   \n",
      "3      1    1     0       15        29.831554             20.068233   \n",
      "4      1    1     0       20        29.750330             20.086567   \n",
      "\n",
      "   Wind Direction(Degrees)  Daily Rainfall(mm)  \\\n",
      "0                32.213470                 0.0   \n",
      "1                32.158791                 0.0   \n",
      "2                32.155808                 0.0   \n",
      "3                32.178555                 0.0   \n",
      "4                32.166214                 0.0   \n",
      "\n",
      "   Global Horizontal Radiation(W/m²)  Diffuse Horizontal Radiation(W/m²)  \\\n",
      "0                           1.543787                            1.349848   \n",
      "1                           1.373370                            1.244123   \n",
      "2                           1.142953                            0.992849   \n",
      "3                           0.709036                            0.611533   \n",
      "4                           1.058623                            0.814599   \n",
      "\n",
      "   Station_9  \n",
      "0        0.0  \n",
      "1        0.0  \n",
      "2        0.0  \n",
      "3        0.0  \n",
      "4        0.0  \n"
     ]
    }
   ],
   "source": [
    "for tena in testnames:\n",
    "    print(tena.head())"
   ]
  },
  {
   "cell_type": "markdown",
   "metadata": {},
   "source": [
    "# 构建序列"
   ]
  },
  {
   "cell_type": "code",
   "execution_count": 25,
   "metadata": {},
   "outputs": [],
   "source": [
    "# convert series to supervised learning\n",
    "def series_to_supervised(data, n_in=1, n_out=1, dropnan=True):\n",
    "#     n_vars = 1 if type(data) is list else data.shape[1]\n",
    "    n_vars = list(data)\n",
    "    df = pd.DataFrame(data)\n",
    "    cols, names = list(), list()\n",
    "    # input sequence (t-n, ... t-1)\n",
    "    for i in range(n_in, 0, -1):\n",
    "        cols.append(df.shift(i))\n",
    "        names += [('%s(t-%d)' % (j, i)) for j in n_vars]\n",
    "    # forecast sequence (t, t+1, ... t+n)\n",
    "    for i in range(0, n_out):\n",
    "        cols.append(df.shift(-i))\n",
    "        if i == 0:\n",
    "            names += [('%s(t)' % (j) )for j in n_vars]\n",
    "        else:\n",
    "            names += [('%s(t+%d)' % (j, i)) for j in n_vars]\n",
    "    # put it all together\n",
    "    agg = pd.concat(cols, axis=1)\n",
    "    agg.columns = names\n",
    "    # drop rows with NaN values\n",
    "    if dropnan:\n",
    "        agg.dropna(inplace=True)\n",
    "    return agg"
   ]
  },
  {
   "cell_type": "code",
   "execution_count": 26,
   "metadata": {},
   "outputs": [],
   "source": [
    "# test=glocals()\n",
    "# test += [('test%d' % (j)) for j in range(len(testnames))]"
   ]
  },
  {
   "cell_type": "code",
   "execution_count": 27,
   "metadata": {},
   "outputs": [],
   "source": [
    "for i in range(0, 9):\n",
    "    exec(\"test%d=series_to_supervised(testnames[i],12,1)\"%i)\n"
   ]
  },
  {
   "cell_type": "code",
   "execution_count": 28,
   "metadata": {
    "scrolled": true
   },
   "outputs": [
    {
     "data": {
      "text/plain": [
       "Index(['Month(t-12)', 'Day(t-12)', 'Hour(t-12)', 'Minutes(t-12)',\n",
       "       'Temperature(°C)(t-12)', 'Relative Humidity(%)(t-12)',\n",
       "       'Wind Direction(Degrees)(t-12)', 'Daily Rainfall(mm)(t-12)',\n",
       "       'Global Horizontal Radiation(W/m²)(t-12)',\n",
       "       'Diffuse Horizontal Radiation(W/m²)(t-12)',\n",
       "       ...\n",
       "       'Day(t)', 'Hour(t)', 'Minutes(t)', 'Temperature(°C)(t)',\n",
       "       'Relative Humidity(%)(t)', 'Wind Direction(Degrees)(t)',\n",
       "       'Daily Rainfall(mm)(t)', 'Global Horizontal Radiation(W/m²)(t)',\n",
       "       'Diffuse Horizontal Radiation(W/m²)(t)', 'Station_1(t)'],\n",
       "      dtype='object', length=143)"
      ]
     },
     "execution_count": 28,
     "metadata": {},
     "output_type": "execute_result"
    }
   ],
   "source": [
    "test0.columns"
   ]
  },
  {
   "cell_type": "code",
   "execution_count": 29,
   "metadata": {
    "scrolled": false
   },
   "outputs": [],
   "source": [
    "# for i in range(0, 9):\n",
    "#     exec(\"test%d=test%d.drop(test%d.columns[[0,14,15,16,17,18,19,20,21,22,23,24,25,26,28,29,30,31,32,33,34,35,36,37,38,39,40]],axis=1,inplace=True)\"%i)"
   ]
  },
  {
   "cell_type": "markdown",
   "metadata": {},
   "source": [
    "# 重新选择"
   ]
  },
  {
   "cell_type": "code",
   "execution_count": 30,
   "metadata": {},
   "outputs": [],
   "source": [
    "test0.drop(test0.columns[11:142],axis=1,inplace=True)"
   ]
  },
  {
   "cell_type": "code",
   "execution_count": 31,
   "metadata": {},
   "outputs": [],
   "source": [
    "test1.drop(test1.columns[11:142],axis=1,inplace=True)"
   ]
  },
  {
   "cell_type": "code",
   "execution_count": 32,
   "metadata": {},
   "outputs": [],
   "source": [
    "test2.drop(test2.columns[11:142],axis=1,inplace=True)"
   ]
  },
  {
   "cell_type": "code",
   "execution_count": 33,
   "metadata": {},
   "outputs": [],
   "source": [
    "test3.drop(test3.columns[11:142],axis=1,inplace=True)"
   ]
  },
  {
   "cell_type": "code",
   "execution_count": 34,
   "metadata": {},
   "outputs": [],
   "source": [
    "test4.drop(test4.columns[11:142],axis=1,inplace=True)"
   ]
  },
  {
   "cell_type": "code",
   "execution_count": 35,
   "metadata": {},
   "outputs": [],
   "source": [
    "test5.drop(test5.columns[11:142],axis=1,inplace=True)"
   ]
  },
  {
   "cell_type": "code",
   "execution_count": 36,
   "metadata": {},
   "outputs": [],
   "source": [
    "test6.drop(test6.columns[11:142],axis=1,inplace=True)"
   ]
  },
  {
   "cell_type": "code",
   "execution_count": 37,
   "metadata": {},
   "outputs": [],
   "source": [
    "test7.drop(test7.columns[11:142],axis=1,inplace=True)"
   ]
  },
  {
   "cell_type": "code",
   "execution_count": 38,
   "metadata": {},
   "outputs": [],
   "source": [
    "test8.drop(test8.columns[11:142],axis=1,inplace=True)"
   ]
  },
  {
   "cell_type": "code",
   "execution_count": 39,
   "metadata": {},
   "outputs": [
    {
     "name": "stdout",
     "output_type": "stream",
     "text": [
      "(102876, 12) (102876, 12) (102876, 12) (102876, 12) (102876, 12) (102876, 12) (102876, 12) (102876, 12) (102876, 12)\n"
     ]
    }
   ],
   "source": [
    "print(test0.shape,test1.shape,test2.shape,test3.shape,test4.shape,test5.shape,test6.shape,test7.shape,test8.shape,)"
   ]
  },
  {
   "cell_type": "code",
   "execution_count": 40,
   "metadata": {},
   "outputs": [
    {
     "data": {
      "text/plain": [
       "Index(['Month(t-12)', 'Day(t-12)', 'Hour(t-12)', 'Minutes(t-12)',\n",
       "       'Temperature(°C)(t-12)', 'Relative Humidity(%)(t-12)',\n",
       "       'Wind Direction(Degrees)(t-12)', 'Daily Rainfall(mm)(t-12)',\n",
       "       'Global Horizontal Radiation(W/m²)(t-12)',\n",
       "       'Diffuse Horizontal Radiation(W/m²)(t-12)', 'Station_1(t-12)',\n",
       "       'Station_1(t)'],\n",
       "      dtype='object')"
      ]
     },
     "execution_count": 40,
     "metadata": {},
     "output_type": "execute_result"
    }
   ],
   "source": [
    "test0.columns"
   ]
  },
  {
   "cell_type": "markdown",
   "metadata": {},
   "source": [
    "# 归一化数据"
   ]
  },
  {
   "cell_type": "code",
   "execution_count": null,
   "metadata": {},
   "outputs": [],
   "source": [
    "# train1 = train1.values\n",
    "# train1 = train1.astype('float32')     # 将整型变为float\n",
    "# scaler = MinMaxScaler(feature_range=(0, 1)) # 数据处理，归一化至0~1之间\n",
    "# train1 = scaler.fit_transform(train1)\n",
    "\n",
    "# test1 = test1.values\n",
    "# test1 = test1.astype('float32')     # 将整型变为float\n",
    "# scaler = MinMaxScaler(feature_range=(0, 1)) # 数据处理，归一化至0~1之间\n",
    "# test1 = scaler.fit_transform(test1)\n",
    "\n",
    "# inds = np.arange(train1.shape[0])\n",
    "# train1_inds = inds[0:int(train1.shape[0]*0.8)]\n",
    "# eval1_inds = inds[int(train1.shape[0]*0.8):train1.shape[0]]\n",
    "\n",
    "\n",
    "# train_X, train_y = train1[train1_inds,:-1], train1[train1_inds,-1:]\n",
    "# eval_X,eval_y = train1[eval1_inds,:-1], train1[eval1_inds,-1:]\n",
    "# test_X, test_y = test1[:, :-1], test1[:,-1:]\n",
    "\n",
    "# # reshape input to be 3D [samples, timesteps, features]\n",
    "# train_Xl = train_X.reshape((train_X.shape[0], 1, train_X.shape[1]))\n",
    "# eval_Xl = eval_X.reshape((eval_X.shape[0],1,eval_X.shape[1]))\n",
    "# test_Xl = test_X.reshape((test_X.shape[0], 1, test_X.shape[1]))\n",
    "# print(train_X.shape, train_y.shape,eval_X.shape,eval_y.shape, test_X.shape, test_y.shape)\n",
    "# print(train_Xl.shape, train_y.shape,eval_Xl.shape,eval_y.shape, test_Xl.shape, test_y.shape)"
   ]
  },
  {
   "cell_type": "markdown",
   "metadata": {},
   "source": [
    "0"
   ]
  },
  {
   "cell_type": "code",
   "execution_count": 41,
   "metadata": {},
   "outputs": [
    {
     "name": "stdout",
     "output_type": "stream",
     "text": [
      "(102876, 11) (102876, 1)\n",
      "(102876, 1, 11) (102876, 1)\n"
     ]
    }
   ],
   "source": [
    "test0 = test0.values\n",
    "test0 = test0.astype('float32')     # 将整型变为float\n",
    "scaler = MinMaxScaler(feature_range=(0, 1)) # 数据处理，归一化至0~1之间\n",
    "test0 = scaler.fit_transform(test0)\n",
    "\n",
    "test0_X, test0_y = test0[:, :-1], test0[:,-1:]\n",
    "\n",
    "# reshape input to be 3D [samples, timesteps, features]\n",
    "test0_Xl = test0_X.reshape((test0_X.shape[0], 1, test0_X.shape[1]))\n",
    "print(test0_X.shape, test0_y.shape)\n",
    "print(test0_Xl.shape, test0_y.shape)"
   ]
  },
  {
   "cell_type": "markdown",
   "metadata": {},
   "source": [
    "1"
   ]
  },
  {
   "cell_type": "code",
   "execution_count": 42,
   "metadata": {},
   "outputs": [
    {
     "name": "stdout",
     "output_type": "stream",
     "text": [
      "(102876, 11) (102876, 1)\n",
      "(102876, 1, 11) (102876, 1)\n"
     ]
    }
   ],
   "source": [
    "test1 = test1.values\n",
    "test1 = test1.astype('float32')     # 将整型变为float\n",
    "scaler = MinMaxScaler(feature_range=(0, 1)) # 数据处理，归一化至0~1之间\n",
    "test1 = scaler.fit_transform(test1)\n",
    "\n",
    "test1_X, test1_y = test1[:, :-1], test1[:,-1:]\n",
    "\n",
    "# reshape input to be 3D [samples, timesteps, features]\n",
    "test1_Xl = test1_X.reshape((test1_X.shape[0], 1, test1_X.shape[1]))\n",
    "print(test1_X.shape, test1_y.shape)\n",
    "print(test1_Xl.shape, test1_y.shape)"
   ]
  },
  {
   "cell_type": "markdown",
   "metadata": {},
   "source": [
    "2"
   ]
  },
  {
   "cell_type": "code",
   "execution_count": 43,
   "metadata": {},
   "outputs": [
    {
     "name": "stdout",
     "output_type": "stream",
     "text": [
      "(102876, 11) (102876, 1)\n",
      "(102876, 1, 11) (102876, 1)\n"
     ]
    }
   ],
   "source": [
    "test2 = test2.values\n",
    "test2 = test2.astype('float32')     # 将整型变为float\n",
    "scaler = MinMaxScaler(feature_range=(0, 1)) # 数据处理，归一化至0~1之间\n",
    "test2 = scaler.fit_transform(test2)\n",
    "\n",
    "test2_X, test2_y = test2[:, :-1], test2[:,-1:]\n",
    "\n",
    "# reshape input to be 3D [samples, timesteps, features]\n",
    "test2_Xl = test2_X.reshape((test2_X.shape[0], 1, test2_X.shape[1]))\n",
    "print(test2_X.shape, test2_y.shape)\n",
    "print(test2_Xl.shape, test2_y.shape)"
   ]
  },
  {
   "cell_type": "markdown",
   "metadata": {},
   "source": [
    "3"
   ]
  },
  {
   "cell_type": "code",
   "execution_count": 44,
   "metadata": {},
   "outputs": [
    {
     "name": "stdout",
     "output_type": "stream",
     "text": [
      "(102876, 11) (102876, 1)\n",
      "(102876, 1, 11) (102876, 1)\n"
     ]
    }
   ],
   "source": [
    "test3 = test3.values\n",
    "test3 = test3.astype('float32')     # 将整型变为float\n",
    "scaler = MinMaxScaler(feature_range=(0, 1)) # 数据处理，归一化至0~1之间\n",
    "test3 = scaler.fit_transform(test3)\n",
    "\n",
    "test3_X, test3_y = test3[:, :-1], test3[:,-1:]\n",
    "\n",
    "# reshape input to be 3D [samples, timesteps, features]\n",
    "test3_Xl = test3_X.reshape((test3_X.shape[0], 1, test3_X.shape[1]))\n",
    "print(test3_X.shape, test3_y.shape)\n",
    "print(test3_Xl.shape, test3_y.shape)"
   ]
  },
  {
   "cell_type": "markdown",
   "metadata": {},
   "source": [
    "4"
   ]
  },
  {
   "cell_type": "code",
   "execution_count": 45,
   "metadata": {},
   "outputs": [
    {
     "name": "stdout",
     "output_type": "stream",
     "text": [
      "(102876, 11) (102876, 1)\n",
      "(102876, 1, 11) (102876, 1)\n"
     ]
    }
   ],
   "source": [
    "test4 = test4.values\n",
    "test4 = test4.astype('float32')     # 将整型变为float\n",
    "scaler = MinMaxScaler(feature_range=(0, 1)) # 数据处理，归一化至0~1之间\n",
    "test4 = scaler.fit_transform(test4)\n",
    "\n",
    "test4_X, test4_y = test4[:, :-1], test4[:,-1:]\n",
    "\n",
    "# reshape input to be 3D [samples, timesteps, features]\n",
    "test4_Xl = test4_X.reshape((test4_X.shape[0], 1, test4_X.shape[1]))\n",
    "print(test4_X.shape, test4_y.shape)\n",
    "print(test4_Xl.shape, test4_y.shape)"
   ]
  },
  {
   "cell_type": "markdown",
   "metadata": {},
   "source": [
    "5"
   ]
  },
  {
   "cell_type": "code",
   "execution_count": 46,
   "metadata": {},
   "outputs": [
    {
     "name": "stdout",
     "output_type": "stream",
     "text": [
      "(102876, 11) (102876, 1)\n",
      "(102876, 1, 11) (102876, 1)\n"
     ]
    }
   ],
   "source": [
    "test5 = test5.values\n",
    "test5 = test5.astype('float32')     # 将整型变为float\n",
    "scaler = MinMaxScaler(feature_range=(0, 1)) # 数据处理，归一化至0~1之间\n",
    "test5 = scaler.fit_transform(test5)\n",
    "\n",
    "test5_X, test5_y = test5[:, :-1], test5[:,-1:]\n",
    "\n",
    "# reshape input to be 3D [samples, timesteps, features]\n",
    "test5_Xl = test5_X.reshape((test5_X.shape[0], 1, test5_X.shape[1]))\n",
    "print(test5_X.shape, test5_y.shape)\n",
    "print(test5_Xl.shape, test5_y.shape)"
   ]
  },
  {
   "cell_type": "markdown",
   "metadata": {},
   "source": [
    "6"
   ]
  },
  {
   "cell_type": "code",
   "execution_count": 47,
   "metadata": {},
   "outputs": [
    {
     "name": "stdout",
     "output_type": "stream",
     "text": [
      "(102876, 11) (102876, 1)\n",
      "(102876, 1, 11) (102876, 1)\n"
     ]
    }
   ],
   "source": [
    "test6 = test6.values\n",
    "test6 = test6.astype('float32')     # 将整型变为float\n",
    "scaler = MinMaxScaler(feature_range=(0, 1)) # 数据处理，归一化至0~1之间\n",
    "test6 = scaler.fit_transform(test6)\n",
    "\n",
    "test6_X, test6_y = test6[:, :-1], test6[:,-1:]\n",
    "\n",
    "# reshape input to be 3D [samples, timesteps, features]\n",
    "test6_Xl = test6_X.reshape((test6_X.shape[0], 1, test6_X.shape[1]))\n",
    "print(test6_X.shape, test6_y.shape)\n",
    "print(test6_Xl.shape, test6_y.shape)"
   ]
  },
  {
   "cell_type": "markdown",
   "metadata": {},
   "source": [
    "7"
   ]
  },
  {
   "cell_type": "code",
   "execution_count": 48,
   "metadata": {},
   "outputs": [
    {
     "name": "stdout",
     "output_type": "stream",
     "text": [
      "(102876, 11) (102876, 1)\n",
      "(102876, 1, 11) (102876, 1)\n"
     ]
    }
   ],
   "source": [
    "test7 = test7.values\n",
    "test7 = test7.astype('float32')     # 将整型变为float\n",
    "scaler = MinMaxScaler(feature_range=(0, 1)) # 数据处理，归一化至0~1之间\n",
    "test7 = scaler.fit_transform(test7)\n",
    "\n",
    "test7_X, test7_y = test7[:, :-1], test7[:,-1:]\n",
    "\n",
    "# reshape input to be 3D [samples, timesteps, features]\n",
    "test7_Xl = test7_X.reshape((test7_X.shape[0], 1, test7_X.shape[1]))\n",
    "print(test7_X.shape, test7_y.shape)\n",
    "print(test7_Xl.shape, test7_y.shape)"
   ]
  },
  {
   "cell_type": "markdown",
   "metadata": {},
   "source": [
    "8"
   ]
  },
  {
   "cell_type": "code",
   "execution_count": 49,
   "metadata": {},
   "outputs": [
    {
     "name": "stdout",
     "output_type": "stream",
     "text": [
      "(102876, 11) (102876, 1)\n",
      "(102876, 1, 11) (102876, 1)\n"
     ]
    }
   ],
   "source": [
    "test8 = test8.values\n",
    "test8 = test8.astype('float32')     # 将整型变为float\n",
    "scaler = MinMaxScaler(feature_range=(0, 1)) # 数据处理，归一化至0~1之间\n",
    "test8 = scaler.fit_transform(test8)\n",
    "\n",
    "test8_X, test8_y = test8[:, :-1], test8[:,-1:]\n",
    "\n",
    "# reshape input to be 3D [samples, timesteps, features]\n",
    "test8_Xl = test8_X.reshape((test8_X.shape[0], 1, test8_X.shape[1]))\n",
    "print(test8_X.shape, test8_y.shape)\n",
    "print(test8_Xl.shape, test8_y.shape)"
   ]
  },
  {
   "cell_type": "code",
   "execution_count": null,
   "metadata": {},
   "outputs": [],
   "source": []
  },
  {
   "cell_type": "markdown",
   "metadata": {},
   "source": [
    "# SVM model"
   ]
  },
  {
   "cell_type": "code",
   "execution_count": 50,
   "metadata": {},
   "outputs": [],
   "source": [
    "os.chdir(\"../\")"
   ]
  },
  {
   "cell_type": "code",
   "execution_count": 51,
   "metadata": {},
   "outputs": [
    {
     "name": "stdout",
     "output_type": "stream",
     "text": [
      "E:\\Research Project\\DKASC, Alice Springs\\Dataset\n"
     ]
    }
   ],
   "source": [
    "print(os.getcwd()) # 打印当前工作目录"
   ]
  },
  {
   "cell_type": "code",
   "execution_count": 52,
   "metadata": {
    "scrolled": true
   },
   "outputs": [
    {
     "data": {
      "text/plain": [
       "['DKA.Station_1-9.csv',\n",
       " 'NaN_DKA.Station.csv',\n",
       " 'raw_DKA.Station_1-9.csv',\n",
       " 'test',\n",
       " 'test0702',\n",
       " 'testdata.csv',\n",
       " 'testWPD',\n",
       " 'test_1A.csv',\n",
       " 'train',\n",
       " 'train0702',\n",
       " 'traindata.csv',\n",
       " 'trainWPD',\n",
       " 'train_1A.csv',\n",
       " '测试集8个站点.csv',\n",
       " '训练集8个站点.csv']"
      ]
     },
     "execution_count": 52,
     "metadata": {},
     "output_type": "execute_result"
    }
   ],
   "source": [
    "os.listdir()"
   ]
  },
  {
   "cell_type": "markdown",
   "metadata": {},
   "source": [
    "# BP model"
   ]
  },
  {
   "cell_type": "code",
   "execution_count": 57,
   "metadata": {},
   "outputs": [
    {
     "name": "stdout",
     "output_type": "stream",
     "text": [
      "E:\\Research Project\\DKASC, Alice Springs\\Dataset\n"
     ]
    }
   ],
   "source": [
    "print(os.getcwd()) # 打印当前工作目录"
   ]
  },
  {
   "cell_type": "code",
   "execution_count": 60,
   "metadata": {},
   "outputs": [],
   "source": [
    "#模型加载\n",
    "from keras.models import load_model\n",
    "modelbp = load_model('../logs/BP0702.h5') "
   ]
  },
  {
   "cell_type": "markdown",
   "metadata": {},
   "source": [
    "# DNN model"
   ]
  },
  {
   "cell_type": "code",
   "execution_count": 64,
   "metadata": {},
   "outputs": [],
   "source": [
    "#模型加载\n",
    "modeldnn = load_model('../logs/DNN0702.h5') "
   ]
  },
  {
   "cell_type": "markdown",
   "metadata": {},
   "source": [
    "# LSTM model"
   ]
  },
  {
   "cell_type": "code",
   "execution_count": 68,
   "metadata": {},
   "outputs": [],
   "source": [
    "#模型加载\n",
    "modellstm = load_model('../logs/LSTM0702.h5') "
   ]
  },
  {
   "cell_type": "markdown",
   "metadata": {},
   "source": [
    "# 结果对比"
   ]
  },
  {
   "cell_type": "markdown",
   "metadata": {},
   "source": [
    "反归一化"
   ]
  },
  {
   "cell_type": "code",
   "execution_count": 69,
   "metadata": {},
   "outputs": [],
   "source": [
    "def inv(testPredictML,test_X,test_y):\n",
    "    # invert scaling for forecast\n",
    "    inv_testPredictML = concatenate((test_X[:,:],testPredictML), axis=1)\n",
    "    inv_testPredictML = scaler.inverse_transform(inv_testPredictML)\n",
    "    testPredictML = inv_testPredictML[:,-1:]\n",
    "    # invert scaling for actual\n",
    "    test_y = test_y.reshape((len(test_y), 1))\n",
    "    inv_test = concatenate((test_X[:,:],test_y), axis=1)\n",
    "    inv_test = scaler.inverse_transform(inv_test)\n",
    "    testReal = inv_test[:,-1:]\n",
    "    return testPredictML,testReal,inv_test"
   ]
  },
  {
   "cell_type": "code",
   "execution_count": 70,
   "metadata": {},
   "outputs": [],
   "source": [
    "def mape(y_true, y_pred):\n",
    "    return np.mean(np.abs((y_pred - y_true) / y_true)) * 100\n",
    "\n",
    "def smape(y_true, y_pred):\n",
    "    return 2.0 * np.mean(np.abs(y_pred - y_true) / (np.abs(y_pred) + np.abs(y_true))) * 100"
   ]
  },
  {
   "cell_type": "markdown",
   "metadata": {},
   "source": [
    "# 0"
   ]
  },
  {
   "cell_type": "code",
   "execution_count": 71,
   "metadata": {},
   "outputs": [],
   "source": [
    "test_X,test_Xl,test_y= test0_X,test0_Xl,test0_y"
   ]
  },
  {
   "cell_type": "markdown",
   "metadata": {},
   "source": [
    "bp"
   ]
  },
  {
   "cell_type": "code",
   "execution_count": 76,
   "metadata": {},
   "outputs": [],
   "source": [
    "bp_pred = modelbp.predict(test_X)\n",
    "bp_pred,y_true,inv_test=inv(bp_pred,test_X,test_y)\n",
    "\n",
    "bp_mse = metrics.mean_squared_error(y_true, bp_pred)\n",
    "bp_rmse = math.sqrt(mean_squared_error(y_true[:,0], bp_pred[:,0]))\n",
    "bp_mae = metrics.mean_absolute_error(y_true, bp_pred)\n",
    "bp_mape = mape(y_true, bp_pred)\n",
    "bp_smape = smape(y_true, bp_pred)"
   ]
  },
  {
   "cell_type": "code",
   "execution_count": 77,
   "metadata": {},
   "outputs": [
    {
     "name": "stdout",
     "output_type": "stream",
     "text": [
      "0.27908564 0.5282855630612254 0.26321155 400.7814407348633 79.80666756629944\n"
     ]
    }
   ],
   "source": [
    "print(bp_mse,bp_rmse,bp_mae,bp_mape,bp_smape)"
   ]
  },
  {
   "cell_type": "markdown",
   "metadata": {},
   "source": [
    "dnn"
   ]
  },
  {
   "cell_type": "code",
   "execution_count": 78,
   "metadata": {},
   "outputs": [],
   "source": [
    "dnn_pred = modeldnn.predict(test_X)\n",
    "# dnn_pred,y_true,inv_test=inv(dnn_pred,test_year,test_X,test_y)\n",
    "dnn_pred,y_true,inv_test=inv(dnn_pred,test_X,test_y)\n",
    "\n",
    "dnn_mse = metrics.mean_squared_error(y_true, dnn_pred)\n",
    "dnn_rmse = math.sqrt(mean_squared_error(y_true[:,0], dnn_pred[:,0]))\n",
    "dnn_mae = metrics.mean_absolute_error(y_true, dnn_pred)\n",
    "dnn_mape = mape(y_true, dnn_pred)\n",
    "dnn_smape = smape(y_true, dnn_pred)"
   ]
  },
  {
   "cell_type": "code",
   "execution_count": 79,
   "metadata": {
    "scrolled": false
   },
   "outputs": [
    {
     "name": "stdout",
     "output_type": "stream",
     "text": [
      "0.24960808 0.49960793084121535 0.23988028 134.10544395446777 74.14579391479492\n"
     ]
    }
   ],
   "source": [
    "print(dnn_mse,dnn_rmse,dnn_mae,dnn_mape,dnn_smape)"
   ]
  },
  {
   "cell_type": "markdown",
   "metadata": {},
   "source": [
    "LSTM\n"
   ]
  },
  {
   "cell_type": "code",
   "execution_count": 80,
   "metadata": {},
   "outputs": [],
   "source": [
    "# make a prediction\n",
    "lstm_pred = modellstm.predict(test_Xl)\n",
    "# test_X = test_X.reshape((test_X.shape[0], test_X.shape[2]))\n",
    "lstm_pred,y_true,inv_test=inv(lstm_pred,test_X,test_y)\n",
    "lstm_mse = metrics.mean_squared_error(y_true, lstm_pred)\n",
    "lstm_rmse = math.sqrt(mean_squared_error(y_true[:,0], lstm_pred[:,0]))\n",
    "lstm_mae = metrics.mean_absolute_error(y_true, lstm_pred)\n",
    "lstm_mape = mape(y_true, lstm_pred)\n",
    "lstm_smape = smape(y_true, lstm_pred)\n"
   ]
  },
  {
   "cell_type": "code",
   "execution_count": 81,
   "metadata": {},
   "outputs": [
    {
     "name": "stdout",
     "output_type": "stream",
     "text": [
      "0.29763654 0.5455607562352454 0.28134742 139.33480978012085 59.062641859054565\n"
     ]
    }
   ],
   "source": [
    "print(lstm_mse,lstm_rmse,lstm_mae,lstm_mape,lstm_smape)"
   ]
  },
  {
   "cell_type": "code",
   "execution_count": 82,
   "metadata": {},
   "outputs": [],
   "source": [
    "bp0_mse,bp0_rmse,bp0_mae,bp0_mape,bp0_smape = bp_mse,bp_rmse,bp_mae,bp_mape,bp_smape"
   ]
  },
  {
   "cell_type": "code",
   "execution_count": 83,
   "metadata": {},
   "outputs": [],
   "source": [
    "dnn0_mse,dnn0_rmse,dnn0_mae,dnn0_mape,dnn0_smape = dnn_mse,dnn_rmse,dnn_mae,dnn_mape,dnn_smape"
   ]
  },
  {
   "cell_type": "code",
   "execution_count": 84,
   "metadata": {},
   "outputs": [],
   "source": [
    "lstm0_mse,lstm0_rmse,lstm0_mae,lstm0_mape,lstm0_smape = lstm_mse,lstm_rmse,lstm_mae,lstm_mape,lstm_smape"
   ]
  },
  {
   "cell_type": "markdown",
   "metadata": {},
   "source": [
    "# 1"
   ]
  },
  {
   "cell_type": "code",
   "execution_count": 85,
   "metadata": {},
   "outputs": [],
   "source": [
    "test_X,test_Xl,test_y= test1_X,test1_Xl,test1_y"
   ]
  },
  {
   "cell_type": "markdown",
   "metadata": {},
   "source": [
    "bp"
   ]
  },
  {
   "cell_type": "code",
   "execution_count": 86,
   "metadata": {},
   "outputs": [],
   "source": [
    "bp_pred = modelbp.predict(test_X)\n",
    "bp_pred,y_true,inv_test=inv(bp_pred,test_X,test_y)\n",
    "\n",
    "bp_mse = metrics.mean_squared_error(y_true, bp_pred)\n",
    "bp_rmse = math.sqrt(mean_squared_error(y_true[:,0], bp_pred[:,0]))\n",
    "bp_mae = metrics.mean_absolute_error(y_true, bp_pred)\n",
    "bp_mape = mape(y_true, bp_pred)\n",
    "bp_smape = smape(y_true, bp_pred)"
   ]
  },
  {
   "cell_type": "code",
   "execution_count": 87,
   "metadata": {},
   "outputs": [
    {
     "name": "stdout",
     "output_type": "stream",
     "text": [
      "0.23526673 0.48504301890587337 0.26173678 195.05741596221924 70.66615223884583\n"
     ]
    }
   ],
   "source": [
    "print(bp_mse,bp_rmse,bp_mae,bp_mape,bp_smape)"
   ]
  },
  {
   "cell_type": "markdown",
   "metadata": {},
   "source": [
    "dnn"
   ]
  },
  {
   "cell_type": "code",
   "execution_count": 88,
   "metadata": {},
   "outputs": [],
   "source": [
    "dnn_pred = modeldnn.predict(test_X)\n",
    "# dnn_pred,y_true,inv_test=inv(dnn_pred,test_year,test_X,test_y)\n",
    "dnn_pred,y_true,inv_test=inv(dnn_pred,test_X,test_y)\n",
    "\n",
    "dnn_mse = metrics.mean_squared_error(y_true, dnn_pred)\n",
    "dnn_rmse = math.sqrt(mean_squared_error(y_true[:,0], dnn_pred[:,0]))\n",
    "dnn_mae = metrics.mean_absolute_error(y_true, dnn_pred)\n",
    "dnn_mape = mape(y_true, dnn_pred)\n",
    "dnn_smape = smape(y_true, dnn_pred)"
   ]
  },
  {
   "cell_type": "code",
   "execution_count": 89,
   "metadata": {
    "scrolled": false
   },
   "outputs": [
    {
     "name": "stdout",
     "output_type": "stream",
     "text": [
      "0.2188498 0.46781384446862534 0.25022665 95.65991163253784 89.05004858970642\n"
     ]
    }
   ],
   "source": [
    "print(dnn_mse,dnn_rmse,dnn_mae,dnn_mape,dnn_smape)"
   ]
  },
  {
   "cell_type": "markdown",
   "metadata": {},
   "source": [
    "LSTM\n"
   ]
  },
  {
   "cell_type": "code",
   "execution_count": 90,
   "metadata": {},
   "outputs": [],
   "source": [
    "# make a prediction\n",
    "lstm_pred = modellstm.predict(test_Xl)\n",
    "# test_X = test_X.reshape((test_X.shape[0], test_X.shape[2]))\n",
    "lstm_pred,y_true,inv_test=inv(lstm_pred,test_X,test_y)\n",
    "lstm_mse = metrics.mean_squared_error(y_true, lstm_pred)\n",
    "lstm_rmse = math.sqrt(mean_squared_error(y_true[:,0], lstm_pred[:,0]))\n",
    "lstm_mae = metrics.mean_absolute_error(y_true, lstm_pred)\n",
    "lstm_mape = mape(y_true, lstm_pred)\n",
    "lstm_smape = smape(y_true, lstm_pred)\n"
   ]
  },
  {
   "cell_type": "code",
   "execution_count": 91,
   "metadata": {},
   "outputs": [
    {
     "name": "stdout",
     "output_type": "stream",
     "text": [
      "0.24340823 0.49336419907338475 0.26057783 99.77616667747498 71.02371454238892\n"
     ]
    }
   ],
   "source": [
    "print(lstm_mse,lstm_rmse,lstm_mae,lstm_mape,lstm_smape)"
   ]
  },
  {
   "cell_type": "code",
   "execution_count": 92,
   "metadata": {},
   "outputs": [],
   "source": [
    "bp1_mse,bp1_rmse,bp1_mae,bp1_mape,bp1_smape = bp_mse,bp_rmse,bp_mae,bp_mape,bp_smape"
   ]
  },
  {
   "cell_type": "code",
   "execution_count": 93,
   "metadata": {},
   "outputs": [],
   "source": [
    "dnn1_mse,dnn1_rmse,dnn1_mae,dnn1_mape,dnn1_smape = dnn_mse,dnn_rmse,dnn_mae,dnn_mape,dnn_smape"
   ]
  },
  {
   "cell_type": "code",
   "execution_count": 94,
   "metadata": {},
   "outputs": [],
   "source": [
    "lstm1_mse,lstm1_rmse,lstm1_mae,lstm1_mape,lstm1_smape = lstm_mse,lstm_rmse,lstm_mae,lstm_mape,lstm_smape"
   ]
  },
  {
   "cell_type": "markdown",
   "metadata": {},
   "source": [
    "# 2"
   ]
  },
  {
   "cell_type": "code",
   "execution_count": 95,
   "metadata": {},
   "outputs": [],
   "source": [
    "test_X,test_Xl,test_y= test2_X,test2_Xl,test2_y"
   ]
  },
  {
   "cell_type": "code",
   "execution_count": 96,
   "metadata": {},
   "outputs": [],
   "source": [
    "# svm_mse = metrics.mean_squared_error(y_true, svm_pred)\n",
    "# # svm_rmse = math.sqrt(mean_squared_error(y_true[:,0], svm_pred[:,0]))\n",
    "# svm_rmse = math.sqrt(mean_squared_error(y_true, svm_pred))\n",
    "# svm_mae = metrics.mean_absolute_error(y_true, svm_pred)\n",
    "# svm_mape = mape(y_true, svm_pred)\n",
    "# svm_smape = smape(y_true, svm_pred)"
   ]
  },
  {
   "cell_type": "code",
   "execution_count": 97,
   "metadata": {
    "scrolled": false
   },
   "outputs": [],
   "source": [
    "# print(svm_mse,svm_rmse,svm_mae,svm_mape,svm_smape)"
   ]
  },
  {
   "cell_type": "markdown",
   "metadata": {},
   "source": [
    "bp"
   ]
  },
  {
   "cell_type": "code",
   "execution_count": 98,
   "metadata": {},
   "outputs": [],
   "source": [
    "bp_pred = modelbp.predict(test_X)\n",
    "bp_pred,y_true,inv_test=inv(bp_pred,test_X,test_y)\n",
    "\n",
    "bp_mse = metrics.mean_squared_error(y_true, bp_pred)\n",
    "bp_rmse = math.sqrt(mean_squared_error(y_true[:,0], bp_pred[:,0]))\n",
    "bp_mae = metrics.mean_absolute_error(y_true, bp_pred)\n",
    "bp_mape = mape(y_true, bp_pred)\n",
    "bp_smape = smape(y_true, bp_pred)"
   ]
  },
  {
   "cell_type": "code",
   "execution_count": 99,
   "metadata": {},
   "outputs": [
    {
     "name": "stdout",
     "output_type": "stream",
     "text": [
      "0.11718605 0.34232447639160074 0.14815888 764.2271518707275 55.739933252334595\n"
     ]
    }
   ],
   "source": [
    "print(bp_mse,bp_rmse,bp_mae,bp_mape,bp_smape)"
   ]
  },
  {
   "cell_type": "markdown",
   "metadata": {},
   "source": [
    "dnn"
   ]
  },
  {
   "cell_type": "code",
   "execution_count": 100,
   "metadata": {},
   "outputs": [],
   "source": [
    "dnn_pred = modeldnn.predict(test_X)\n",
    "# dnn_pred,y_true,inv_test=inv(dnn_pred,test_year,test_X,test_y)\n",
    "dnn_pred,y_true,inv_test=inv(dnn_pred,test_X,test_y)\n",
    "\n",
    "dnn_mse = metrics.mean_squared_error(y_true, dnn_pred)\n",
    "dnn_rmse = math.sqrt(mean_squared_error(y_true[:,0], dnn_pred[:,0]))\n",
    "dnn_mae = metrics.mean_absolute_error(y_true, dnn_pred)\n",
    "dnn_mape = mape(y_true, dnn_pred)\n",
    "dnn_smape = smape(y_true, dnn_pred)"
   ]
  },
  {
   "cell_type": "code",
   "execution_count": 101,
   "metadata": {
    "scrolled": false
   },
   "outputs": [
    {
     "name": "stdout",
     "output_type": "stream",
     "text": [
      "0.10333169 0.3214524731850787 0.14059035 322.71130084991455 99.73500370979309\n"
     ]
    }
   ],
   "source": [
    "print(dnn_mse,dnn_rmse,dnn_mae,dnn_mape,dnn_smape)"
   ]
  },
  {
   "cell_type": "markdown",
   "metadata": {},
   "source": [
    "LSTM\n"
   ]
  },
  {
   "cell_type": "code",
   "execution_count": 102,
   "metadata": {},
   "outputs": [],
   "source": [
    "# make a prediction\n",
    "lstm_pred = modellstm.predict(test_Xl)\n",
    "# test_X = test_X.reshape((test_X.shape[0], test_X.shape[2]))\n",
    "lstm_pred,y_true,inv_test=inv(lstm_pred,test_X,test_y)\n",
    "lstm_mse = metrics.mean_squared_error(y_true, lstm_pred)\n",
    "lstm_rmse = math.sqrt(mean_squared_error(y_true[:,0], lstm_pred[:,0]))\n",
    "lstm_mae = metrics.mean_absolute_error(y_true, lstm_pred)\n",
    "lstm_mape = mape(y_true, lstm_pred)\n",
    "lstm_smape = smape(y_true, lstm_pred)\n"
   ]
  },
  {
   "cell_type": "code",
   "execution_count": 103,
   "metadata": {},
   "outputs": [
    {
     "name": "stdout",
     "output_type": "stream",
     "text": [
      "0.11144693 0.333836684560278 0.15925887 706.6081523895264 91.61741137504578\n"
     ]
    }
   ],
   "source": [
    "print(lstm_mse,lstm_rmse,lstm_mae,lstm_mape,lstm_smape)"
   ]
  },
  {
   "cell_type": "code",
   "execution_count": 104,
   "metadata": {},
   "outputs": [],
   "source": [
    "# svm2_mse,svm2_rmse,svm2_mae,svm2_mape,svm2_smape = svm_mse,svm_rmse,svm_mae,svm_mape,svm_smape"
   ]
  },
  {
   "cell_type": "code",
   "execution_count": 105,
   "metadata": {},
   "outputs": [],
   "source": [
    "bp2_mse,bp2_rmse,bp2_mae,bp2_mape,bp2_smape = bp_mse,bp_rmse,bp_mae,bp_mape,bp_smape"
   ]
  },
  {
   "cell_type": "code",
   "execution_count": 106,
   "metadata": {},
   "outputs": [],
   "source": [
    "dnn2_mse,dnn2_rmse,dnn2_mae,dnn2_mape,dnn2_smape = dnn_mse,dnn_rmse,dnn_mae,dnn_mape,dnn_smape"
   ]
  },
  {
   "cell_type": "code",
   "execution_count": 107,
   "metadata": {},
   "outputs": [],
   "source": [
    "lstm2_mse,lstm2_rmse,lstm2_mae,lstm2_mape,lstm2_smape = lstm_mse,lstm_rmse,lstm_mae,lstm_mape,lstm_smape"
   ]
  },
  {
   "cell_type": "markdown",
   "metadata": {},
   "source": [
    "# 3"
   ]
  },
  {
   "cell_type": "markdown",
   "metadata": {},
   "source": [
    "svm"
   ]
  },
  {
   "cell_type": "code",
   "execution_count": 108,
   "metadata": {},
   "outputs": [],
   "source": [
    "test_X,test_Xl,test_y= test3_X,test3_Xl,test3_y"
   ]
  },
  {
   "cell_type": "code",
   "execution_count": 109,
   "metadata": {},
   "outputs": [],
   "source": [
    "# svm_pred = modelsvm.predict(test_X)\n",
    "# svm_pred = svm_pred[:, np.newaxis]\n",
    "# svm_pred,y_true,inv_test=inv(svm_pred,test_X,test_y)"
   ]
  },
  {
   "cell_type": "code",
   "execution_count": 110,
   "metadata": {},
   "outputs": [],
   "source": [
    "# svm_mse = metrics.mean_squared_error(y_true, svm_pred)\n",
    "# # svm_rmse = math.sqrt(mean_squared_error(y_true[:,0], svm_pred[:,0]))\n",
    "# svm_rmse = math.sqrt(mean_squared_error(y_true, svm_pred))\n",
    "# svm_mae = metrics.mean_absolute_error(y_true, svm_pred)\n",
    "# svm_mape = mape(y_true, svm_pred)\n",
    "# svm_smape = smape(y_true, svm_pred)"
   ]
  },
  {
   "cell_type": "code",
   "execution_count": 111,
   "metadata": {
    "scrolled": false
   },
   "outputs": [],
   "source": [
    "# print(svm_mse,svm_rmse,svm_mae,svm_mape,svm_smape)"
   ]
  },
  {
   "cell_type": "markdown",
   "metadata": {},
   "source": [
    "bp"
   ]
  },
  {
   "cell_type": "code",
   "execution_count": 112,
   "metadata": {},
   "outputs": [],
   "source": [
    "bp_pred = modelbp.predict(test_X)\n",
    "bp_pred,y_true,inv_test=inv(bp_pred,test_X,test_y)\n",
    "\n",
    "bp_mse = metrics.mean_squared_error(y_true, bp_pred)\n",
    "bp_rmse = math.sqrt(mean_squared_error(y_true[:,0], bp_pred[:,0]))\n",
    "bp_mae = metrics.mean_absolute_error(y_true, bp_pred)\n",
    "bp_mape = mape(y_true, bp_pred)\n",
    "bp_smape = smape(y_true, bp_pred)"
   ]
  },
  {
   "cell_type": "code",
   "execution_count": 113,
   "metadata": {},
   "outputs": [
    {
     "name": "stdout",
     "output_type": "stream",
     "text": [
      "0.13223447 0.3636405767459532 0.15912765 7101.8707275390625 112.58643865585327\n"
     ]
    }
   ],
   "source": [
    "print(bp_mse,bp_rmse,bp_mae,bp_mape,bp_smape)"
   ]
  },
  {
   "cell_type": "markdown",
   "metadata": {},
   "source": [
    "dnn"
   ]
  },
  {
   "cell_type": "code",
   "execution_count": 114,
   "metadata": {},
   "outputs": [],
   "source": [
    "dnn_pred = modeldnn.predict(test_X)\n",
    "# dnn_pred,y_true,inv_test=inv(dnn_pred,test_year,test_X,test_y)\n",
    "dnn_pred,y_true,inv_test=inv(dnn_pred,test_X,test_y)\n",
    "\n",
    "dnn_mse = metrics.mean_squared_error(y_true, dnn_pred)\n",
    "dnn_rmse = math.sqrt(mean_squared_error(y_true[:,0], dnn_pred[:,0]))\n",
    "dnn_mae = metrics.mean_absolute_error(y_true, dnn_pred)\n",
    "dnn_mape = mape(y_true, dnn_pred)\n",
    "dnn_smape = smape(y_true, dnn_pred)"
   ]
  },
  {
   "cell_type": "code",
   "execution_count": 115,
   "metadata": {
    "scrolled": false
   },
   "outputs": [
    {
     "name": "stdout",
     "output_type": "stream",
     "text": [
      "0.10692455 0.32699319372909785 0.12722994 1997.8252410888672 111.62574291229248\n"
     ]
    }
   ],
   "source": [
    "print(dnn_mse,dnn_rmse,dnn_mae,dnn_mape,dnn_smape)"
   ]
  },
  {
   "cell_type": "markdown",
   "metadata": {},
   "source": [
    "LSTM\n"
   ]
  },
  {
   "cell_type": "code",
   "execution_count": 116,
   "metadata": {},
   "outputs": [],
   "source": [
    "# make a prediction\n",
    "lstm_pred = modellstm.predict(test_Xl)\n",
    "# test_X = test_X.reshape((test_X.shape[0], test_X.shape[2]))\n",
    "lstm_pred,y_true,inv_test=inv(lstm_pred,test_X,test_y)\n",
    "lstm_mse = metrics.mean_squared_error(y_true, lstm_pred)\n",
    "lstm_rmse = math.sqrt(mean_squared_error(y_true[:,0], lstm_pred[:,0]))\n",
    "lstm_mae = metrics.mean_absolute_error(y_true, lstm_pred)\n",
    "lstm_mape = mape(y_true, lstm_pred)\n",
    "lstm_smape = smape(y_true, lstm_pred)\n"
   ]
  },
  {
   "cell_type": "code",
   "execution_count": 117,
   "metadata": {},
   "outputs": [
    {
     "name": "stdout",
     "output_type": "stream",
     "text": [
      "0.10337346 0.3215174341643546 0.13678373 3019.4028854370117 109.89996194839478\n"
     ]
    }
   ],
   "source": [
    "print(lstm_mse,lstm_rmse,lstm_mae,lstm_mape,lstm_smape)"
   ]
  },
  {
   "cell_type": "code",
   "execution_count": 118,
   "metadata": {},
   "outputs": [],
   "source": [
    "# svm3_mse,svm3_rmse,svm3_mae,svm3_mape,svm3_smape = svm_mse,svm_rmse,svm_mae,svm_mape,svm_smape"
   ]
  },
  {
   "cell_type": "code",
   "execution_count": 119,
   "metadata": {},
   "outputs": [],
   "source": [
    "bp3_mse,bp3_rmse,bp3_mae,bp3_mape,bp3_smape = bp_mse,bp_rmse,bp_mae,bp_mape,bp_smape"
   ]
  },
  {
   "cell_type": "code",
   "execution_count": 120,
   "metadata": {},
   "outputs": [],
   "source": [
    "dnn3_mse,dnn3_rmse,dnn3_mae,dnn3_mape,dnn3_smape = dnn_mse,dnn_rmse,dnn_mae,dnn_mape,dnn_smape"
   ]
  },
  {
   "cell_type": "code",
   "execution_count": 121,
   "metadata": {},
   "outputs": [],
   "source": [
    "lstm3_mse,lstm3_rmse,lstm3_mae,lstm3_mape,lstm3_smape = lstm_mse,lstm_rmse,lstm_mae,lstm_mape,lstm_smape"
   ]
  },
  {
   "cell_type": "markdown",
   "metadata": {},
   "source": [
    "# 4"
   ]
  },
  {
   "cell_type": "markdown",
   "metadata": {},
   "source": [
    "svm"
   ]
  },
  {
   "cell_type": "code",
   "execution_count": 122,
   "metadata": {},
   "outputs": [],
   "source": [
    "test_X,test_Xl,test_y= test4_X,test4_Xl,test4_y"
   ]
  },
  {
   "cell_type": "code",
   "execution_count": 123,
   "metadata": {},
   "outputs": [],
   "source": [
    "# svm_pred = modelsvm.predict(test_X)\n",
    "# svm_pred = svm_pred[:, np.newaxis]\n",
    "# svm_pred,y_true,inv_test=inv(svm_pred,test_X,test_y)"
   ]
  },
  {
   "cell_type": "code",
   "execution_count": 124,
   "metadata": {},
   "outputs": [],
   "source": [
    "# svm_mse = metrics.mean_squared_error(y_true, svm_pred)\n",
    "# # svm_rmse = math.sqrt(mean_squared_error(y_true[:,0], svm_pred[:,0]))\n",
    "# svm_rmse = math.sqrt(mean_squared_error(y_true, svm_pred))\n",
    "# svm_mae = metrics.mean_absolute_error(y_true, svm_pred)\n",
    "# svm_mape = mape(y_true, svm_pred)\n",
    "# svm_smape = smape(y_true, svm_pred)"
   ]
  },
  {
   "cell_type": "code",
   "execution_count": 125,
   "metadata": {
    "scrolled": false
   },
   "outputs": [],
   "source": [
    "# print(svm_mse,svm_rmse,svm_mae,svm_mape,svm_smape)"
   ]
  },
  {
   "cell_type": "markdown",
   "metadata": {},
   "source": [
    "bp"
   ]
  },
  {
   "cell_type": "code",
   "execution_count": 126,
   "metadata": {},
   "outputs": [],
   "source": [
    "bp_pred = modelbp.predict(test_X)\n",
    "bp_pred,y_true,inv_test=inv(bp_pred,test_X,test_y)\n",
    "\n",
    "bp_mse = metrics.mean_squared_error(y_true, bp_pred)\n",
    "bp_rmse = math.sqrt(mean_squared_error(y_true[:,0], bp_pred[:,0]))\n",
    "bp_mae = metrics.mean_absolute_error(y_true, bp_pred)\n",
    "bp_mape = mape(y_true, bp_pred)\n",
    "bp_smape = smape(y_true, bp_pred)"
   ]
  },
  {
   "cell_type": "code",
   "execution_count": 127,
   "metadata": {},
   "outputs": [
    {
     "name": "stdout",
     "output_type": "stream",
     "text": [
      "0.4137377 0.6432244664894354 0.31226906 4682.763290405273 146.1649775505066\n"
     ]
    }
   ],
   "source": [
    "print(bp_mse,bp_rmse,bp_mae,bp_mape,bp_smape)"
   ]
  },
  {
   "cell_type": "markdown",
   "metadata": {},
   "source": [
    "dnn"
   ]
  },
  {
   "cell_type": "code",
   "execution_count": 128,
   "metadata": {},
   "outputs": [],
   "source": [
    "dnn_pred = modeldnn.predict(test_X)\n",
    "# dnn_pred,y_true,inv_test=inv(dnn_pred,test_year,test_X,test_y)\n",
    "dnn_pred,y_true,inv_test=inv(dnn_pred,test_X,test_y)\n",
    "\n",
    "dnn_mse = metrics.mean_squared_error(y_true, dnn_pred)\n",
    "dnn_rmse = math.sqrt(mean_squared_error(y_true[:,0], dnn_pred[:,0]))\n",
    "dnn_mae = metrics.mean_absolute_error(y_true, dnn_pred)\n",
    "dnn_mape = mape(y_true, dnn_pred)\n",
    "dnn_smape = smape(y_true, dnn_pred)"
   ]
  },
  {
   "cell_type": "code",
   "execution_count": 129,
   "metadata": {
    "scrolled": false
   },
   "outputs": [
    {
     "name": "stdout",
     "output_type": "stream",
     "text": [
      "0.70055044 0.8369889109023917 0.38889682 4437.339782714844 148.62853288650513\n"
     ]
    }
   ],
   "source": [
    "print(dnn_mse,dnn_rmse,dnn_mae,dnn_mape,dnn_smape)"
   ]
  },
  {
   "cell_type": "markdown",
   "metadata": {},
   "source": [
    "LSTM\n"
   ]
  },
  {
   "cell_type": "code",
   "execution_count": 130,
   "metadata": {},
   "outputs": [],
   "source": [
    "# make a prediction\n",
    "lstm_pred = modellstm.predict(test_Xl)\n",
    "# test_X = test_X.reshape((test_X.shape[0], test_X.shape[2]))\n",
    "lstm_pred,y_true,inv_test=inv(lstm_pred,test_X,test_y)\n",
    "lstm_mse = metrics.mean_squared_error(y_true, lstm_pred)\n",
    "lstm_rmse = math.sqrt(mean_squared_error(y_true[:,0], lstm_pred[:,0]))\n",
    "lstm_mae = metrics.mean_absolute_error(y_true, lstm_pred)\n",
    "lstm_mape = mape(y_true, lstm_pred)\n",
    "lstm_smape = smape(y_true, lstm_pred)\n"
   ]
  },
  {
   "cell_type": "code",
   "execution_count": 131,
   "metadata": {},
   "outputs": [
    {
     "name": "stdout",
     "output_type": "stream",
     "text": [
      "0.721164 0.8492137470115538 0.4026938 4355.186462402344 147.63083457946777\n"
     ]
    }
   ],
   "source": [
    "print(lstm_mse,lstm_rmse,lstm_mae,lstm_mape,lstm_smape)"
   ]
  },
  {
   "cell_type": "code",
   "execution_count": 132,
   "metadata": {},
   "outputs": [],
   "source": [
    "# svm4_mse,svm4_rmse,svm4_mae,svm4_mape,svm4_smape = svm_mse,svm_rmse,svm_mae,svm_mape,svm_smape"
   ]
  },
  {
   "cell_type": "code",
   "execution_count": 133,
   "metadata": {},
   "outputs": [],
   "source": [
    "bp4_mse,bp4_rmse,bp4_mae,bp4_mape,bp4_smape = bp_mse,bp_rmse,bp_mae,bp_mape,bp_smape"
   ]
  },
  {
   "cell_type": "code",
   "execution_count": 134,
   "metadata": {},
   "outputs": [],
   "source": [
    "dnn4_mse,dnn4_rmse,dnn4_mae,dnn4_mape,dnn4_smape = dnn_mse,dnn_rmse,dnn_mae,dnn_mape,dnn_smape"
   ]
  },
  {
   "cell_type": "code",
   "execution_count": 135,
   "metadata": {},
   "outputs": [],
   "source": [
    "lstm4_mse,lstm4_rmse,lstm4_mae,lstm4_mape,lstm4_smape = lstm_mse,lstm_rmse,lstm_mae,lstm_mape,lstm_smape"
   ]
  },
  {
   "cell_type": "markdown",
   "metadata": {},
   "source": [
    "# 5"
   ]
  },
  {
   "cell_type": "markdown",
   "metadata": {},
   "source": [
    "svm"
   ]
  },
  {
   "cell_type": "code",
   "execution_count": 136,
   "metadata": {},
   "outputs": [],
   "source": [
    "test_X,test_Xl,test_y= test5_X,test5_Xl,test5_y"
   ]
  },
  {
   "cell_type": "code",
   "execution_count": 137,
   "metadata": {},
   "outputs": [],
   "source": [
    "# svm_pred = modelsvm.predict(test_X)\n",
    "# svm_pred = svm_pred[:, np.newaxis]\n",
    "# svm_pred,y_true,inv_test=inv(svm_pred,test_X,test_y)"
   ]
  },
  {
   "cell_type": "code",
   "execution_count": 138,
   "metadata": {},
   "outputs": [],
   "source": [
    "# svm_mse = metrics.mean_squared_error(y_true, svm_pred)\n",
    "# # svm_rmse = math.sqrt(mean_squared_error(y_true[:,0], svm_pred[:,0]))\n",
    "# svm_rmse = math.sqrt(mean_squared_error(y_true, svm_pred))\n",
    "# svm_mae = metrics.mean_absolute_error(y_true, svm_pred)\n",
    "# svm_mape = mape(y_true, svm_pred)\n",
    "# svm_smape = smape(y_true, svm_pred)"
   ]
  },
  {
   "cell_type": "code",
   "execution_count": 139,
   "metadata": {
    "scrolled": false
   },
   "outputs": [],
   "source": [
    "# print(svm_mse,svm_rmse,svm_mae,svm_mape,svm_smape)"
   ]
  },
  {
   "cell_type": "markdown",
   "metadata": {},
   "source": [
    "bp"
   ]
  },
  {
   "cell_type": "code",
   "execution_count": 140,
   "metadata": {},
   "outputs": [],
   "source": [
    "bp_pred = modelbp.predict(test_X)\n",
    "bp_pred,y_true,inv_test=inv(bp_pred,test_X,test_y)\n",
    "\n",
    "bp_mse = metrics.mean_squared_error(y_true, bp_pred)\n",
    "bp_rmse = math.sqrt(mean_squared_error(y_true[:,0], bp_pred[:,0]))\n",
    "bp_mae = metrics.mean_absolute_error(y_true, bp_pred)\n",
    "bp_mape = mape(y_true, bp_pred)\n",
    "bp_smape = smape(y_true, bp_pred)"
   ]
  },
  {
   "cell_type": "code",
   "execution_count": 141,
   "metadata": {},
   "outputs": [
    {
     "name": "stdout",
     "output_type": "stream",
     "text": [
      "0.27854386 0.5277725454400125 0.279455 470.31354904174805 108.18055868148804\n"
     ]
    }
   ],
   "source": [
    "print(bp_mse,bp_rmse,bp_mae,bp_mape,bp_smape)"
   ]
  },
  {
   "cell_type": "markdown",
   "metadata": {},
   "source": [
    "dnn"
   ]
  },
  {
   "cell_type": "code",
   "execution_count": 142,
   "metadata": {},
   "outputs": [],
   "source": [
    "dnn_pred = modeldnn.predict(test_X)\n",
    "# dnn_pred,y_true,inv_test=inv(dnn_pred,test_year,test_X,test_y)\n",
    "dnn_pred,y_true,inv_test=inv(dnn_pred,test_X,test_y)\n",
    "\n",
    "dnn_mse = metrics.mean_squared_error(y_true, dnn_pred)\n",
    "dnn_rmse = math.sqrt(mean_squared_error(y_true[:,0], dnn_pred[:,0]))\n",
    "dnn_mae = metrics.mean_absolute_error(y_true, dnn_pred)\n",
    "dnn_mape = mape(y_true, dnn_pred)\n",
    "dnn_smape = smape(y_true, dnn_pred)"
   ]
  },
  {
   "cell_type": "code",
   "execution_count": 143,
   "metadata": {
    "scrolled": false
   },
   "outputs": [
    {
     "name": "stdout",
     "output_type": "stream",
     "text": [
      "0.30502227 0.5522882123378888 0.29530498 207.26923942565918 119.75958347320557\n"
     ]
    }
   ],
   "source": [
    "print(dnn_mse,dnn_rmse,dnn_mae,dnn_mape,dnn_smape)"
   ]
  },
  {
   "cell_type": "markdown",
   "metadata": {},
   "source": [
    "LSTM\n"
   ]
  },
  {
   "cell_type": "code",
   "execution_count": 144,
   "metadata": {},
   "outputs": [],
   "source": [
    "# make a prediction\n",
    "lstm_pred = modellstm.predict(test_Xl)\n",
    "# test_X = test_X.reshape((test_X.shape[0], test_X.shape[2]))\n",
    "lstm_pred,y_true,inv_test=inv(lstm_pred,test_X,test_y)\n",
    "lstm_mse = metrics.mean_squared_error(y_true, lstm_pred)\n",
    "lstm_rmse = math.sqrt(mean_squared_error(y_true[:,0], lstm_pred[:,0]))\n",
    "lstm_mae = metrics.mean_absolute_error(y_true, lstm_pred)\n",
    "lstm_mape = mape(y_true, lstm_pred)\n",
    "lstm_smape = smape(y_true, lstm_pred)\n"
   ]
  },
  {
   "cell_type": "code",
   "execution_count": 145,
   "metadata": {},
   "outputs": [
    {
     "name": "stdout",
     "output_type": "stream",
     "text": [
      "0.3545313 0.595425300224111 0.3279283 367.0928478240967 116.59516096115112\n"
     ]
    }
   ],
   "source": [
    "print(lstm_mse,lstm_rmse,lstm_mae,lstm_mape,lstm_smape)"
   ]
  },
  {
   "cell_type": "code",
   "execution_count": 146,
   "metadata": {},
   "outputs": [],
   "source": [
    "# svm5_mse,svm5_rmse,svm5_mae,svm5_mape,svm5_smape = svm_mse,svm_rmse,svm_mae,svm_mape,svm_smape"
   ]
  },
  {
   "cell_type": "code",
   "execution_count": 147,
   "metadata": {},
   "outputs": [],
   "source": [
    "bp5_mse,bp5_rmse,bp5_mae,bp5_mape,bp5_smape = bp_mse,bp_rmse,bp_mae,bp_mape,bp_smape"
   ]
  },
  {
   "cell_type": "code",
   "execution_count": 148,
   "metadata": {},
   "outputs": [],
   "source": [
    "dnn5_mse,dnn5_rmse,dnn5_mae,dnn5_mape,dnn5_smape = dnn_mse,dnn_rmse,dnn_mae,dnn_mape,dnn_smape"
   ]
  },
  {
   "cell_type": "code",
   "execution_count": 149,
   "metadata": {},
   "outputs": [],
   "source": [
    "lstm5_mse,lstm5_rmse,lstm5_mae,lstm5_mape,lstm5_smape = lstm_mse,lstm_rmse,lstm_mae,lstm_mape,lstm_smape"
   ]
  },
  {
   "cell_type": "markdown",
   "metadata": {},
   "source": [
    "# 6"
   ]
  },
  {
   "cell_type": "markdown",
   "metadata": {},
   "source": [
    "svm"
   ]
  },
  {
   "cell_type": "code",
   "execution_count": 150,
   "metadata": {},
   "outputs": [],
   "source": [
    "test_X,test_Xl,test_y= test6_X,test6_Xl,test6_y"
   ]
  },
  {
   "cell_type": "code",
   "execution_count": 151,
   "metadata": {},
   "outputs": [],
   "source": [
    "# svm_pred = modelsvm.predict(test_X)\n",
    "# svm_pred = svm_pred[:, np.newaxis]\n",
    "# svm_pred,y_true,inv_test=inv(svm_pred,test_X,test_y)"
   ]
  },
  {
   "cell_type": "code",
   "execution_count": 152,
   "metadata": {},
   "outputs": [],
   "source": [
    "# svm_mse = metrics.mean_squared_error(y_true, svm_pred)\n",
    "# # svm_rmse = math.sqrt(mean_squared_error(y_true[:,0], svm_pred[:,0]))\n",
    "# svm_rmse = math.sqrt(mean_squared_error(y_true, svm_pred))\n",
    "# svm_mae = metrics.mean_absolute_error(y_true, svm_pred)\n",
    "# svm_mape = mape(y_true, svm_pred)\n",
    "# svm_smape = smape(y_true, svm_pred)"
   ]
  },
  {
   "cell_type": "code",
   "execution_count": 153,
   "metadata": {
    "scrolled": false
   },
   "outputs": [],
   "source": [
    "# print(svm_mse,svm_rmse,svm_mae,svm_mape,svm_smape)"
   ]
  },
  {
   "cell_type": "markdown",
   "metadata": {},
   "source": [
    "bp"
   ]
  },
  {
   "cell_type": "code",
   "execution_count": 154,
   "metadata": {},
   "outputs": [],
   "source": [
    "bp_pred = modelbp.predict(test_X)\n",
    "bp_pred,y_true,inv_test=inv(bp_pred,test_X,test_y)\n",
    "\n",
    "bp_mse = metrics.mean_squared_error(y_true, bp_pred)\n",
    "bp_rmse = math.sqrt(mean_squared_error(y_true[:,0], bp_pred[:,0]))\n",
    "bp_mae = metrics.mean_absolute_error(y_true, bp_pred)\n",
    "bp_mape = mape(y_true, bp_pred)\n",
    "bp_smape = smape(y_true, bp_pred)"
   ]
  },
  {
   "cell_type": "code",
   "execution_count": 155,
   "metadata": {},
   "outputs": [
    {
     "name": "stdout",
     "output_type": "stream",
     "text": [
      "0.49011105 0.7000793190703177 0.3773228 166.88549518585205 113.49222660064697\n"
     ]
    }
   ],
   "source": [
    "print(bp_mse,bp_rmse,bp_mae,bp_mape,bp_smape)"
   ]
  },
  {
   "cell_type": "markdown",
   "metadata": {},
   "source": [
    "dnn"
   ]
  },
  {
   "cell_type": "code",
   "execution_count": 156,
   "metadata": {},
   "outputs": [],
   "source": [
    "dnn_pred = modeldnn.predict(test_X)\n",
    "# dnn_pred,y_true,inv_test=inv(dnn_pred,test_year,test_X,test_y)\n",
    "dnn_pred,y_true,inv_test=inv(dnn_pred,test_X,test_y)\n",
    "\n",
    "dnn_mse = metrics.mean_squared_error(y_true, dnn_pred)\n",
    "dnn_rmse = math.sqrt(mean_squared_error(y_true[:,0], dnn_pred[:,0]))\n",
    "dnn_mae = metrics.mean_absolute_error(y_true, dnn_pred)\n",
    "dnn_mape = mape(y_true, dnn_pred)\n",
    "dnn_smape = smape(y_true, dnn_pred)"
   ]
  },
  {
   "cell_type": "code",
   "execution_count": 157,
   "metadata": {
    "scrolled": false
   },
   "outputs": [
    {
     "name": "stdout",
     "output_type": "stream",
     "text": [
      "0.61006135 0.7810642403058717 0.42621723 104.75941896438599 126.5868067741394\n"
     ]
    }
   ],
   "source": [
    "print(dnn_mse,dnn_rmse,dnn_mae,dnn_mape,dnn_smape)"
   ]
  },
  {
   "cell_type": "markdown",
   "metadata": {},
   "source": [
    "LSTM\n"
   ]
  },
  {
   "cell_type": "code",
   "execution_count": 158,
   "metadata": {},
   "outputs": [],
   "source": [
    "# make a prediction\n",
    "lstm_pred = modellstm.predict(test_Xl)\n",
    "# test_X = test_X.reshape((test_X.shape[0], test_X.shape[2]))\n",
    "lstm_pred,y_true,inv_test=inv(lstm_pred,test_X,test_y)\n",
    "lstm_mse = metrics.mean_squared_error(y_true, lstm_pred)\n",
    "lstm_rmse = math.sqrt(mean_squared_error(y_true[:,0], lstm_pred[:,0]))\n",
    "lstm_mae = metrics.mean_absolute_error(y_true, lstm_pred)\n",
    "lstm_mape = mape(y_true, lstm_pred)\n",
    "lstm_smape = smape(y_true, lstm_pred)\n"
   ]
  },
  {
   "cell_type": "code",
   "execution_count": 159,
   "metadata": {},
   "outputs": [
    {
     "name": "stdout",
     "output_type": "stream",
     "text": [
      "0.6906695 0.831065266381607 0.46281114 115.80251455307007 123.5690712928772\n"
     ]
    }
   ],
   "source": [
    "print(lstm_mse,lstm_rmse,lstm_mae,lstm_mape,lstm_smape)"
   ]
  },
  {
   "cell_type": "code",
   "execution_count": 160,
   "metadata": {},
   "outputs": [],
   "source": [
    "# svm6_mse,svm6_rmse,svm6_mae,svm6_mape,svm6_smape = svm_mse,svm_rmse,svm_mae,svm_mape,svm_smape"
   ]
  },
  {
   "cell_type": "code",
   "execution_count": 161,
   "metadata": {},
   "outputs": [],
   "source": [
    "bp6_mse,bp6_rmse,bp6_mae,bp6_mape,bp6_smape = bp_mse,bp_rmse,bp_mae,bp_mape,bp_smape"
   ]
  },
  {
   "cell_type": "code",
   "execution_count": 162,
   "metadata": {},
   "outputs": [],
   "source": [
    "dnn6_mse,dnn6_rmse,dnn6_mae,dnn6_mape,dnn6_smape = dnn_mse,dnn_rmse,dnn_mae,dnn_mape,dnn_smape"
   ]
  },
  {
   "cell_type": "code",
   "execution_count": 163,
   "metadata": {},
   "outputs": [],
   "source": [
    "lstm6_mse,lstm6_rmse,lstm6_mae,lstm6_mape,lstm6_smape = lstm_mse,lstm_rmse,lstm_mae,lstm_mape,lstm_smape"
   ]
  },
  {
   "cell_type": "markdown",
   "metadata": {},
   "source": [
    "# 7"
   ]
  },
  {
   "cell_type": "markdown",
   "metadata": {},
   "source": [
    "svm"
   ]
  },
  {
   "cell_type": "code",
   "execution_count": 164,
   "metadata": {},
   "outputs": [],
   "source": [
    "test_X,test_Xl,test_y= test7_X,test7_Xl,test7_y"
   ]
  },
  {
   "cell_type": "code",
   "execution_count": 165,
   "metadata": {},
   "outputs": [],
   "source": [
    "# svm_pred = modelsvm.predict(test_X)\n",
    "# svm_pred = svm_pred[:, np.newaxis]\n",
    "# svm_pred,y_true,inv_test=inv(svm_pred,test_X,test_y)"
   ]
  },
  {
   "cell_type": "code",
   "execution_count": 166,
   "metadata": {},
   "outputs": [],
   "source": [
    "# svm_mse = metrics.mean_squared_error(y_true, svm_pred)\n",
    "# # svm_rmse = math.sqrt(mean_squared_error(y_true[:,0], svm_pred[:,0]))\n",
    "# svm_rmse = math.sqrt(mean_squared_error(y_true, svm_pred))\n",
    "# svm_mae = metrics.mean_absolute_error(y_true, svm_pred)\n",
    "# svm_mape = mape(y_true, svm_pred)\n",
    "# svm_smape = smape(y_true, svm_pred)"
   ]
  },
  {
   "cell_type": "code",
   "execution_count": 167,
   "metadata": {
    "scrolled": false
   },
   "outputs": [],
   "source": [
    "# print(svm_mse,svm_rmse,svm_mae,svm_mape,svm_smape)"
   ]
  },
  {
   "cell_type": "markdown",
   "metadata": {},
   "source": [
    "bp"
   ]
  },
  {
   "cell_type": "code",
   "execution_count": 168,
   "metadata": {},
   "outputs": [],
   "source": [
    "bp_pred = modelbp.predict(test_X)\n",
    "bp_pred,y_true,inv_test=inv(bp_pred,test_X,test_y)\n",
    "\n",
    "bp_mse = metrics.mean_squared_error(y_true, bp_pred)\n",
    "bp_rmse = math.sqrt(mean_squared_error(y_true[:,0], bp_pred[:,0]))\n",
    "bp_mae = metrics.mean_absolute_error(y_true, bp_pred)\n",
    "bp_mape = mape(y_true, bp_pred)\n",
    "bp_smape = smape(y_true, bp_pred)"
   ]
  },
  {
   "cell_type": "code",
   "execution_count": 169,
   "metadata": {},
   "outputs": [
    {
     "name": "stdout",
     "output_type": "stream",
     "text": [
      "0.13542384 0.36799978137528105 0.16021408 564.9680614471436 77.07642316818237\n"
     ]
    }
   ],
   "source": [
    "print(bp_mse,bp_rmse,bp_mae,bp_mape,bp_smape)"
   ]
  },
  {
   "cell_type": "markdown",
   "metadata": {},
   "source": [
    "dnn"
   ]
  },
  {
   "cell_type": "code",
   "execution_count": 170,
   "metadata": {},
   "outputs": [],
   "source": [
    "dnn_pred = modeldnn.predict(test_X)\n",
    "# dnn_pred,y_true,inv_test=inv(dnn_pred,test_year,test_X,test_y)\n",
    "dnn_pred,y_true,inv_test=inv(dnn_pred,test_X,test_y)\n",
    "\n",
    "dnn_mse = metrics.mean_squared_error(y_true, dnn_pred)\n",
    "dnn_rmse = math.sqrt(mean_squared_error(y_true[:,0], dnn_pred[:,0]))\n",
    "dnn_mae = metrics.mean_absolute_error(y_true, dnn_pred)\n",
    "dnn_mape = mape(y_true, dnn_pred)\n",
    "dnn_smape = smape(y_true, dnn_pred)"
   ]
  },
  {
   "cell_type": "code",
   "execution_count": 171,
   "metadata": {
    "scrolled": false
   },
   "outputs": [
    {
     "name": "stdout",
     "output_type": "stream",
     "text": [
      "0.1187788 0.34464300726182096 0.13558869 362.0887041091919 82.59227871894836\n"
     ]
    }
   ],
   "source": [
    "print(dnn_mse,dnn_rmse,dnn_mae,dnn_mape,dnn_smape)"
   ]
  },
  {
   "cell_type": "markdown",
   "metadata": {},
   "source": [
    "LSTM\n"
   ]
  },
  {
   "cell_type": "code",
   "execution_count": 172,
   "metadata": {},
   "outputs": [],
   "source": [
    "# make a prediction\n",
    "lstm_pred = modellstm.predict(test_Xl)\n",
    "# test_X = test_X.reshape((test_X.shape[0], test_X.shape[2]))\n",
    "lstm_pred,y_true,inv_test=inv(lstm_pred,test_X,test_y)\n",
    "lstm_mse = metrics.mean_squared_error(y_true, lstm_pred)\n",
    "lstm_rmse = math.sqrt(mean_squared_error(y_true[:,0], lstm_pred[:,0]))\n",
    "lstm_mae = metrics.mean_absolute_error(y_true, lstm_pred)\n",
    "lstm_mape = mape(y_true, lstm_pred)\n",
    "lstm_smape = smape(y_true, lstm_pred)\n"
   ]
  },
  {
   "cell_type": "code",
   "execution_count": 173,
   "metadata": {},
   "outputs": [
    {
     "name": "stdout",
     "output_type": "stream",
     "text": [
      "0.13348082 0.3653502662918751 0.16057117 391.8004035949707 64.71219062805176\n"
     ]
    }
   ],
   "source": [
    "print(lstm_mse,lstm_rmse,lstm_mae,lstm_mape,lstm_smape)"
   ]
  },
  {
   "cell_type": "code",
   "execution_count": 174,
   "metadata": {},
   "outputs": [],
   "source": [
    "# svm7_mse,svm7_rmse,svm7_mae,svm7_mape,svm7_smape = svm_mse,svm_rmse,svm_mae,svm_mape,svm_smape"
   ]
  },
  {
   "cell_type": "code",
   "execution_count": 175,
   "metadata": {},
   "outputs": [],
   "source": [
    "bp7_mse,bp7_rmse,bp7_mae,bp7_mape,bp7_smape = bp_mse,bp_rmse,bp_mae,bp_mape,bp_smape"
   ]
  },
  {
   "cell_type": "code",
   "execution_count": 176,
   "metadata": {},
   "outputs": [],
   "source": [
    "dnn7_mse,dnn7_rmse,dnn7_mae,dnn7_mape,dnn7_smape = dnn_mse,dnn_rmse,dnn_mae,dnn_mape,dnn_smape"
   ]
  },
  {
   "cell_type": "code",
   "execution_count": 177,
   "metadata": {},
   "outputs": [],
   "source": [
    "lstm7_mse,lstm7_rmse,lstm7_mae,lstm7_mape,lstm7_smape = lstm_mse,lstm_rmse,lstm_mae,lstm_mape,lstm_smape"
   ]
  },
  {
   "cell_type": "markdown",
   "metadata": {},
   "source": [
    "# 8"
   ]
  },
  {
   "cell_type": "markdown",
   "metadata": {},
   "source": [
    "svm"
   ]
  },
  {
   "cell_type": "code",
   "execution_count": 178,
   "metadata": {},
   "outputs": [],
   "source": [
    "test_X,test_Xl,test_y= test8_X,test8_Xl,test8_y"
   ]
  },
  {
   "cell_type": "code",
   "execution_count": 179,
   "metadata": {},
   "outputs": [],
   "source": [
    "# svm_pred = modelsvm.predict(test_X)\n",
    "# svm_pred = svm_pred[:, np.newaxis]\n",
    "# svm_pred,y_true,inv_test=inv(svm_pred,test_X,test_y)"
   ]
  },
  {
   "cell_type": "code",
   "execution_count": 180,
   "metadata": {},
   "outputs": [],
   "source": [
    "# svm_mse = metrics.mean_squared_error(y_true, svm_pred)\n",
    "# # svm_rmse = math.sqrt(mean_squared_error(y_true[:,0], svm_pred[:,0]))\n",
    "# svm_rmse = math.sqrt(mean_squared_error(y_true, svm_pred))\n",
    "# svm_mae = metrics.mean_absolute_error(y_true, svm_pred)\n",
    "# svm_mape = mape(y_true, svm_pred)\n",
    "# svm_smape = smape(y_true, svm_pred)"
   ]
  },
  {
   "cell_type": "code",
   "execution_count": 181,
   "metadata": {
    "scrolled": false
   },
   "outputs": [],
   "source": [
    "# print(svm_mse,svm_rmse,svm_mae,svm_mape,svm_smape)"
   ]
  },
  {
   "cell_type": "markdown",
   "metadata": {},
   "source": [
    "bp"
   ]
  },
  {
   "cell_type": "code",
   "execution_count": 182,
   "metadata": {},
   "outputs": [
    {
     "name": "stderr",
     "output_type": "stream",
     "text": [
      "C:\\ProgramData\\Anaconda3\\lib\\site-packages\\ipykernel_launcher.py:2: RuntimeWarning: divide by zero encountered in true_divide\n",
      "  \n"
     ]
    }
   ],
   "source": [
    "bp_pred = modelbp.predict(test_X)\n",
    "bp_pred,y_true,inv_test=inv(bp_pred,test_X,test_y)\n",
    "\n",
    "bp_mse = metrics.mean_squared_error(y_true, bp_pred)\n",
    "bp_rmse = math.sqrt(mean_squared_error(y_true[:,0], bp_pred[:,0]))\n",
    "bp_mae = metrics.mean_absolute_error(y_true, bp_pred)\n",
    "bp_mape = mape(y_true, bp_pred)\n",
    "bp_smape = smape(y_true, bp_pred)"
   ]
  },
  {
   "cell_type": "code",
   "execution_count": 183,
   "metadata": {},
   "outputs": [
    {
     "name": "stdout",
     "output_type": "stream",
     "text": [
      "0.11716579 0.3422948860385451 0.14862001 inf 114.03982639312744\n"
     ]
    }
   ],
   "source": [
    "print(bp_mse,bp_rmse,bp_mae,bp_mape,bp_smape)"
   ]
  },
  {
   "cell_type": "markdown",
   "metadata": {},
   "source": [
    "dnn"
   ]
  },
  {
   "cell_type": "code",
   "execution_count": 184,
   "metadata": {},
   "outputs": [
    {
     "name": "stderr",
     "output_type": "stream",
     "text": [
      "C:\\ProgramData\\Anaconda3\\lib\\site-packages\\ipykernel_launcher.py:2: RuntimeWarning: divide by zero encountered in true_divide\n",
      "  \n"
     ]
    }
   ],
   "source": [
    "dnn_pred = modeldnn.predict(test_X)\n",
    "# dnn_pred,y_true,inv_test=inv(dnn_pred,test_year,test_X,test_y)\n",
    "dnn_pred,y_true,inv_test=inv(dnn_pred,test_X,test_y)\n",
    "\n",
    "dnn_mse = metrics.mean_squared_error(y_true, dnn_pred)\n",
    "dnn_rmse = math.sqrt(mean_squared_error(y_true[:,0], dnn_pred[:,0]))\n",
    "dnn_mae = metrics.mean_absolute_error(y_true, dnn_pred)\n",
    "dnn_mape = mape(y_true, dnn_pred)\n",
    "dnn_smape = smape(y_true, dnn_pred)"
   ]
  },
  {
   "cell_type": "code",
   "execution_count": 185,
   "metadata": {
    "scrolled": false
   },
   "outputs": [
    {
     "name": "stdout",
     "output_type": "stream",
     "text": [
      "0.103288524 0.321385319908712 0.13166212 inf 114.74963426589966\n"
     ]
    }
   ],
   "source": [
    "print(dnn_mse,dnn_rmse,dnn_mae,dnn_mape,dnn_smape)"
   ]
  },
  {
   "cell_type": "markdown",
   "metadata": {},
   "source": [
    "LSTM\n"
   ]
  },
  {
   "cell_type": "code",
   "execution_count": 186,
   "metadata": {},
   "outputs": [
    {
     "name": "stderr",
     "output_type": "stream",
     "text": [
      "C:\\ProgramData\\Anaconda3\\lib\\site-packages\\ipykernel_launcher.py:2: RuntimeWarning: divide by zero encountered in true_divide\n",
      "  \n"
     ]
    }
   ],
   "source": [
    "# make a prediction\n",
    "lstm_pred = modellstm.predict(test_Xl)\n",
    "# test_X = test_X.reshape((test_X.shape[0], test_X.shape[2]))\n",
    "lstm_pred,y_true,inv_test=inv(lstm_pred,test_X,test_y)\n",
    "lstm_mse = metrics.mean_squared_error(y_true, lstm_pred)\n",
    "lstm_rmse = math.sqrt(mean_squared_error(y_true[:,0], lstm_pred[:,0]))\n",
    "lstm_mae = metrics.mean_absolute_error(y_true, lstm_pred)\n",
    "lstm_mape = mape(y_true, lstm_pred)\n",
    "lstm_smape = smape(y_true, lstm_pred)\n"
   ]
  },
  {
   "cell_type": "code",
   "execution_count": 187,
   "metadata": {},
   "outputs": [
    {
     "name": "stdout",
     "output_type": "stream",
     "text": [
      "0.111182705 0.3334407062251237 0.14885944 inf 114.88163471221924\n"
     ]
    }
   ],
   "source": [
    "print(lstm_mse,lstm_rmse,lstm_mae,lstm_mape,lstm_smape)"
   ]
  },
  {
   "cell_type": "code",
   "execution_count": 188,
   "metadata": {},
   "outputs": [],
   "source": [
    "# svm8_mse,svm8_rmse,svm8_mae,svm8_mape,svm8_smape = svm_mse,svm_rmse,svm_mae,svm_mape,svm_smape"
   ]
  },
  {
   "cell_type": "code",
   "execution_count": 189,
   "metadata": {},
   "outputs": [],
   "source": [
    "bp8_mse,bp8_rmse,bp8_mae,bp8_mape,bp8_smape = bp_mse,bp_rmse,bp_mae,bp_mape,bp_smape"
   ]
  },
  {
   "cell_type": "code",
   "execution_count": 190,
   "metadata": {},
   "outputs": [],
   "source": [
    "dnn8_mse,dnn8_rmse,dnn8_mae,dnn8_mape,dnn8_smape = dnn_mse,dnn_rmse,dnn_mae,dnn_mape,dnn_smape"
   ]
  },
  {
   "cell_type": "code",
   "execution_count": 191,
   "metadata": {},
   "outputs": [],
   "source": [
    "lstm8_mse,lstm8_rmse,lstm8_mae,lstm8_mape,lstm8_smape = lstm_mse,lstm_rmse,lstm_mae,lstm_mape,lstm_smape"
   ]
  },
  {
   "cell_type": "markdown",
   "metadata": {},
   "source": [
    "# 评价指标"
   ]
  },
  {
   "cell_type": "code",
   "execution_count": 195,
   "metadata": {},
   "outputs": [],
   "source": [
    "#评价指标\n",
    "evaluate_rmse = pd.DataFrame(columns=['评价指标','BP','DNN','LSTM'])"
   ]
  },
  {
   "cell_type": "code",
   "execution_count": 198,
   "metadata": {},
   "outputs": [],
   "source": [
    "evaluate_rmse['Test']=['站点一','站点一','站点二','站点二','站点三','站点三','站点四','站点四','站点五','站点五',\n",
    "                       '站点六','站点六','站点七','站点七','站点八','站点八','站点九','站点九']\n",
    "evaluate_rmse=evaluate_rmse.set_index('Test',drop=True)\n",
    "evaluate_rmse['评价指标']=['RMSE','MAE','RMSE','MAE','RMSE','MAE','RMSE','MAE','RMSE','MAE','RMSE','MAE','RMSE','MAE','RMSE','MAE','RMSE','MAE',]"
   ]
  },
  {
   "cell_type": "code",
   "execution_count": 199,
   "metadata": {},
   "outputs": [
    {
     "data": {
      "text/html": [
       "<div>\n",
       "<style scoped>\n",
       "    .dataframe tbody tr th:only-of-type {\n",
       "        vertical-align: middle;\n",
       "    }\n",
       "\n",
       "    .dataframe tbody tr th {\n",
       "        vertical-align: top;\n",
       "    }\n",
       "\n",
       "    .dataframe thead th {\n",
       "        text-align: right;\n",
       "    }\n",
       "</style>\n",
       "<table border=\"1\" class=\"dataframe\">\n",
       "  <thead>\n",
       "    <tr style=\"text-align: right;\">\n",
       "      <th></th>\n",
       "      <th>评价指标</th>\n",
       "      <th>BP</th>\n",
       "      <th>DNN</th>\n",
       "      <th>LSTM</th>\n",
       "    </tr>\n",
       "    <tr>\n",
       "      <th>Test</th>\n",
       "      <th></th>\n",
       "      <th></th>\n",
       "      <th></th>\n",
       "      <th></th>\n",
       "    </tr>\n",
       "  </thead>\n",
       "  <tbody>\n",
       "    <tr>\n",
       "      <th>站点一</th>\n",
       "      <td>RMSE</td>\n",
       "      <td>NaN</td>\n",
       "      <td>NaN</td>\n",
       "      <td>NaN</td>\n",
       "    </tr>\n",
       "    <tr>\n",
       "      <th>站点一</th>\n",
       "      <td>MAE</td>\n",
       "      <td>NaN</td>\n",
       "      <td>NaN</td>\n",
       "      <td>NaN</td>\n",
       "    </tr>\n",
       "    <tr>\n",
       "      <th>站点二</th>\n",
       "      <td>RMSE</td>\n",
       "      <td>NaN</td>\n",
       "      <td>NaN</td>\n",
       "      <td>NaN</td>\n",
       "    </tr>\n",
       "    <tr>\n",
       "      <th>站点二</th>\n",
       "      <td>MAE</td>\n",
       "      <td>NaN</td>\n",
       "      <td>NaN</td>\n",
       "      <td>NaN</td>\n",
       "    </tr>\n",
       "    <tr>\n",
       "      <th>站点三</th>\n",
       "      <td>RMSE</td>\n",
       "      <td>NaN</td>\n",
       "      <td>NaN</td>\n",
       "      <td>NaN</td>\n",
       "    </tr>\n",
       "    <tr>\n",
       "      <th>站点三</th>\n",
       "      <td>MAE</td>\n",
       "      <td>NaN</td>\n",
       "      <td>NaN</td>\n",
       "      <td>NaN</td>\n",
       "    </tr>\n",
       "    <tr>\n",
       "      <th>站点四</th>\n",
       "      <td>RMSE</td>\n",
       "      <td>NaN</td>\n",
       "      <td>NaN</td>\n",
       "      <td>NaN</td>\n",
       "    </tr>\n",
       "    <tr>\n",
       "      <th>站点四</th>\n",
       "      <td>MAE</td>\n",
       "      <td>NaN</td>\n",
       "      <td>NaN</td>\n",
       "      <td>NaN</td>\n",
       "    </tr>\n",
       "    <tr>\n",
       "      <th>站点五</th>\n",
       "      <td>RMSE</td>\n",
       "      <td>NaN</td>\n",
       "      <td>NaN</td>\n",
       "      <td>NaN</td>\n",
       "    </tr>\n",
       "    <tr>\n",
       "      <th>站点五</th>\n",
       "      <td>MAE</td>\n",
       "      <td>NaN</td>\n",
       "      <td>NaN</td>\n",
       "      <td>NaN</td>\n",
       "    </tr>\n",
       "    <tr>\n",
       "      <th>站点六</th>\n",
       "      <td>RMSE</td>\n",
       "      <td>NaN</td>\n",
       "      <td>NaN</td>\n",
       "      <td>NaN</td>\n",
       "    </tr>\n",
       "    <tr>\n",
       "      <th>站点六</th>\n",
       "      <td>MAE</td>\n",
       "      <td>NaN</td>\n",
       "      <td>NaN</td>\n",
       "      <td>NaN</td>\n",
       "    </tr>\n",
       "    <tr>\n",
       "      <th>站点七</th>\n",
       "      <td>RMSE</td>\n",
       "      <td>NaN</td>\n",
       "      <td>NaN</td>\n",
       "      <td>NaN</td>\n",
       "    </tr>\n",
       "    <tr>\n",
       "      <th>站点七</th>\n",
       "      <td>MAE</td>\n",
       "      <td>NaN</td>\n",
       "      <td>NaN</td>\n",
       "      <td>NaN</td>\n",
       "    </tr>\n",
       "    <tr>\n",
       "      <th>站点八</th>\n",
       "      <td>RMSE</td>\n",
       "      <td>NaN</td>\n",
       "      <td>NaN</td>\n",
       "      <td>NaN</td>\n",
       "    </tr>\n",
       "    <tr>\n",
       "      <th>站点八</th>\n",
       "      <td>MAE</td>\n",
       "      <td>NaN</td>\n",
       "      <td>NaN</td>\n",
       "      <td>NaN</td>\n",
       "    </tr>\n",
       "    <tr>\n",
       "      <th>站点九</th>\n",
       "      <td>RMSE</td>\n",
       "      <td>NaN</td>\n",
       "      <td>NaN</td>\n",
       "      <td>NaN</td>\n",
       "    </tr>\n",
       "    <tr>\n",
       "      <th>站点九</th>\n",
       "      <td>MAE</td>\n",
       "      <td>NaN</td>\n",
       "      <td>NaN</td>\n",
       "      <td>NaN</td>\n",
       "    </tr>\n",
       "  </tbody>\n",
       "</table>\n",
       "</div>"
      ],
      "text/plain": [
       "      评价指标   BP  DNN LSTM\n",
       "Test                     \n",
       "站点一   RMSE  NaN  NaN  NaN\n",
       "站点一    MAE  NaN  NaN  NaN\n",
       "站点二   RMSE  NaN  NaN  NaN\n",
       "站点二    MAE  NaN  NaN  NaN\n",
       "站点三   RMSE  NaN  NaN  NaN\n",
       "站点三    MAE  NaN  NaN  NaN\n",
       "站点四   RMSE  NaN  NaN  NaN\n",
       "站点四    MAE  NaN  NaN  NaN\n",
       "站点五   RMSE  NaN  NaN  NaN\n",
       "站点五    MAE  NaN  NaN  NaN\n",
       "站点六   RMSE  NaN  NaN  NaN\n",
       "站点六    MAE  NaN  NaN  NaN\n",
       "站点七   RMSE  NaN  NaN  NaN\n",
       "站点七    MAE  NaN  NaN  NaN\n",
       "站点八   RMSE  NaN  NaN  NaN\n",
       "站点八    MAE  NaN  NaN  NaN\n",
       "站点九   RMSE  NaN  NaN  NaN\n",
       "站点九    MAE  NaN  NaN  NaN"
      ]
     },
     "execution_count": 199,
     "metadata": {},
     "output_type": "execute_result"
    }
   ],
   "source": [
    "evaluate_rmse"
   ]
  },
  {
   "cell_type": "code",
   "execution_count": null,
   "metadata": {},
   "outputs": [],
   "source": [
    "# evaluate_rmse['SVM']=[svm0_rmse,svm1_rmse,svm2_rmse,svm3_rmse,svm4_rmse,svm5_rmse,svm6_rmse,svm7_rmse,svm8_rmse]"
   ]
  },
  {
   "cell_type": "code",
   "execution_count": 200,
   "metadata": {},
   "outputs": [],
   "source": [
    "evaluate_rmse['BP']=[bp0_rmse,bp0_mae,bp1_rmse,bp1_mae,bp2_rmse,bp2_mae,bp3_rmse,bp3_mae,bp4_rmse,bp4_mae,bp5_rmse,bp5_mae,bp6_rmse,bp6_mae,bp7_rmse,bp7_mae,bp8_rmse,bp8_mae]"
   ]
  },
  {
   "cell_type": "code",
   "execution_count": 204,
   "metadata": {},
   "outputs": [],
   "source": [
    "evaluate_rmse['DNN']=[dnn0_rmse,dnn0_mae,dnn1_rmse,dnn1_mae,dnn2_rmse,dnn2_mae,dnn3_rmse,dnn3_mae,dnn4_rmse,dnn4_mae,dnn5_rmse,dnn5_mae,\n",
    "                      dnn6_rmse,dnn6_mae,dnn7_rmse,dnn7_mae,dnn8_rmse,dnn8_mae]"
   ]
  },
  {
   "cell_type": "code",
   "execution_count": 205,
   "metadata": {},
   "outputs": [],
   "source": [
    "evaluate_rmse['LSTM']=[lstm0_rmse,lstm0_mae,lstm1_rmse,lstm1_mae,lstm2_rmse,lstm2_mae,lstm3_rmse,lstm3_mae,lstm4_rmse,lstm4_mae,lstm5_rmse,lstm5_mae,\n",
    "                       lstm6_rmse,lstm6_mae,lstm7_rmse,lstm7_mae,lstm8_rmse,lstm8_mae,]"
   ]
  },
  {
   "cell_type": "code",
   "execution_count": 206,
   "metadata": {},
   "outputs": [],
   "source": [
    "# s = pd.Series([evaluate_rmse['SVM'].mean(),evaluate_rmse['BP'].mean(), evaluate_rmse['DNN'].mean(), evaluate_rmse['LSTM'].mean()], index=evaluate_rmse.columns, name='mean')\n",
    "# evaluate_rmse = evaluate_rmse.append(s)"
   ]
  },
  {
   "cell_type": "code",
   "execution_count": 209,
   "metadata": {
    "scrolled": false
   },
   "outputs": [
    {
     "data": {
      "text/html": [
       "<div>\n",
       "<style scoped>\n",
       "    .dataframe tbody tr th:only-of-type {\n",
       "        vertical-align: middle;\n",
       "    }\n",
       "\n",
       "    .dataframe tbody tr th {\n",
       "        vertical-align: top;\n",
       "    }\n",
       "\n",
       "    .dataframe thead th {\n",
       "        text-align: right;\n",
       "    }\n",
       "</style>\n",
       "<table border=\"1\" class=\"dataframe\">\n",
       "  <thead>\n",
       "    <tr style=\"text-align: right;\">\n",
       "      <th></th>\n",
       "      <th>评价指标</th>\n",
       "      <th>BP</th>\n",
       "      <th>DNN</th>\n",
       "      <th>LSTM</th>\n",
       "    </tr>\n",
       "    <tr>\n",
       "      <th>Test</th>\n",
       "      <th></th>\n",
       "      <th></th>\n",
       "      <th></th>\n",
       "      <th></th>\n",
       "    </tr>\n",
       "  </thead>\n",
       "  <tbody>\n",
       "    <tr>\n",
       "      <th>站点一</th>\n",
       "      <td>RMSE</td>\n",
       "      <td>0.528286</td>\n",
       "      <td>0.499608</td>\n",
       "      <td>0.545561</td>\n",
       "    </tr>\n",
       "    <tr>\n",
       "      <th>站点一</th>\n",
       "      <td>MAE</td>\n",
       "      <td>0.263212</td>\n",
       "      <td>0.239880</td>\n",
       "      <td>0.281347</td>\n",
       "    </tr>\n",
       "    <tr>\n",
       "      <th>站点二</th>\n",
       "      <td>RMSE</td>\n",
       "      <td>0.485043</td>\n",
       "      <td>0.467814</td>\n",
       "      <td>0.493364</td>\n",
       "    </tr>\n",
       "    <tr>\n",
       "      <th>站点二</th>\n",
       "      <td>MAE</td>\n",
       "      <td>0.261737</td>\n",
       "      <td>0.250227</td>\n",
       "      <td>0.260578</td>\n",
       "    </tr>\n",
       "    <tr>\n",
       "      <th>站点三</th>\n",
       "      <td>RMSE</td>\n",
       "      <td>0.342324</td>\n",
       "      <td>0.321452</td>\n",
       "      <td>0.333837</td>\n",
       "    </tr>\n",
       "    <tr>\n",
       "      <th>站点三</th>\n",
       "      <td>MAE</td>\n",
       "      <td>0.148159</td>\n",
       "      <td>0.140590</td>\n",
       "      <td>0.159259</td>\n",
       "    </tr>\n",
       "    <tr>\n",
       "      <th>站点四</th>\n",
       "      <td>RMSE</td>\n",
       "      <td>0.363641</td>\n",
       "      <td>0.326993</td>\n",
       "      <td>0.321517</td>\n",
       "    </tr>\n",
       "    <tr>\n",
       "      <th>站点四</th>\n",
       "      <td>MAE</td>\n",
       "      <td>0.159128</td>\n",
       "      <td>0.127230</td>\n",
       "      <td>0.136784</td>\n",
       "    </tr>\n",
       "    <tr>\n",
       "      <th>站点五</th>\n",
       "      <td>RMSE</td>\n",
       "      <td>0.643224</td>\n",
       "      <td>0.836989</td>\n",
       "      <td>0.849214</td>\n",
       "    </tr>\n",
       "    <tr>\n",
       "      <th>站点五</th>\n",
       "      <td>MAE</td>\n",
       "      <td>0.312269</td>\n",
       "      <td>0.388897</td>\n",
       "      <td>0.402694</td>\n",
       "    </tr>\n",
       "    <tr>\n",
       "      <th>站点六</th>\n",
       "      <td>RMSE</td>\n",
       "      <td>0.527773</td>\n",
       "      <td>0.552288</td>\n",
       "      <td>0.595425</td>\n",
       "    </tr>\n",
       "    <tr>\n",
       "      <th>站点六</th>\n",
       "      <td>MAE</td>\n",
       "      <td>0.279455</td>\n",
       "      <td>0.295305</td>\n",
       "      <td>0.327928</td>\n",
       "    </tr>\n",
       "    <tr>\n",
       "      <th>站点七</th>\n",
       "      <td>RMSE</td>\n",
       "      <td>0.700079</td>\n",
       "      <td>0.781064</td>\n",
       "      <td>0.831065</td>\n",
       "    </tr>\n",
       "    <tr>\n",
       "      <th>站点七</th>\n",
       "      <td>MAE</td>\n",
       "      <td>0.377323</td>\n",
       "      <td>0.426217</td>\n",
       "      <td>0.462811</td>\n",
       "    </tr>\n",
       "    <tr>\n",
       "      <th>站点八</th>\n",
       "      <td>RMSE</td>\n",
       "      <td>0.368000</td>\n",
       "      <td>0.344643</td>\n",
       "      <td>0.365350</td>\n",
       "    </tr>\n",
       "    <tr>\n",
       "      <th>站点八</th>\n",
       "      <td>MAE</td>\n",
       "      <td>0.160214</td>\n",
       "      <td>0.135589</td>\n",
       "      <td>0.160571</td>\n",
       "    </tr>\n",
       "    <tr>\n",
       "      <th>站点九</th>\n",
       "      <td>RMSE</td>\n",
       "      <td>0.342295</td>\n",
       "      <td>0.321385</td>\n",
       "      <td>0.333441</td>\n",
       "    </tr>\n",
       "    <tr>\n",
       "      <th>站点九</th>\n",
       "      <td>MAE</td>\n",
       "      <td>0.148620</td>\n",
       "      <td>0.131662</td>\n",
       "      <td>0.148859</td>\n",
       "    </tr>\n",
       "  </tbody>\n",
       "</table>\n",
       "</div>"
      ],
      "text/plain": [
       "      评价指标        BP       DNN      LSTM\n",
       "Test                                    \n",
       "站点一   RMSE  0.528286  0.499608  0.545561\n",
       "站点一    MAE  0.263212  0.239880  0.281347\n",
       "站点二   RMSE  0.485043  0.467814  0.493364\n",
       "站点二    MAE  0.261737  0.250227  0.260578\n",
       "站点三   RMSE  0.342324  0.321452  0.333837\n",
       "站点三    MAE  0.148159  0.140590  0.159259\n",
       "站点四   RMSE  0.363641  0.326993  0.321517\n",
       "站点四    MAE  0.159128  0.127230  0.136784\n",
       "站点五   RMSE  0.643224  0.836989  0.849214\n",
       "站点五    MAE  0.312269  0.388897  0.402694\n",
       "站点六   RMSE  0.527773  0.552288  0.595425\n",
       "站点六    MAE  0.279455  0.295305  0.327928\n",
       "站点七   RMSE  0.700079  0.781064  0.831065\n",
       "站点七    MAE  0.377323  0.426217  0.462811\n",
       "站点八   RMSE  0.368000  0.344643  0.365350\n",
       "站点八    MAE  0.160214  0.135589  0.160571\n",
       "站点九   RMSE  0.342295  0.321385  0.333441\n",
       "站点九    MAE  0.148620  0.131662  0.148859"
      ]
     },
     "execution_count": 209,
     "metadata": {},
     "output_type": "execute_result"
    }
   ],
   "source": [
    "evaluate_rmse.to_csv('../predict/九个站点评价指标.csv',index=True)\n",
    "evaluate_rmse"
   ]
  },
  {
   "cell_type": "markdown",
   "metadata": {},
   "source": [
    "# MAE"
   ]
  },
  {
   "cell_type": "code",
   "execution_count": null,
   "metadata": {},
   "outputs": [],
   "source": [
    "#评价指标\n",
    "evaluate_mae = pd.DataFrame(columns=['Test','SVM','BP','DNN','LSTM'])"
   ]
  },
  {
   "cell_type": "code",
   "execution_count": null,
   "metadata": {},
   "outputs": [],
   "source": [
    "evaluate_mae['Test']=['0','1','2','3','4','5','6','7','8']\n",
    "evaluate_mae=evaluate_mae.set_index('Test',drop=True)"
   ]
  },
  {
   "cell_type": "code",
   "execution_count": null,
   "metadata": {},
   "outputs": [],
   "source": [
    "evaluate_mae"
   ]
  },
  {
   "cell_type": "code",
   "execution_count": null,
   "metadata": {},
   "outputs": [],
   "source": [
    "# evaluate_mae['SVM']=[svm0_mae,svm1_mae,svm2_mae,svm3_mae,svm4_mae,svm5_mae,svm6_mae,svm7_mae,svm8_mae]"
   ]
  },
  {
   "cell_type": "code",
   "execution_count": null,
   "metadata": {},
   "outputs": [],
   "source": [
    "evaluate_mae['BP']=[bp0_mae,bp1_mae,bp2_mae,bp3_mae,bp4_mae,bp5_mae,bp6_mae,bp7_mae,bp8_mae]"
   ]
  },
  {
   "cell_type": "code",
   "execution_count": null,
   "metadata": {},
   "outputs": [],
   "source": [
    "evaluate_mae['DNN']=[dnn0_mae,dnn1_mae,dnn2_mae,dnn3_mae,dnn4_mae,dnn5_mae,dnn6_mae,dnn7_mae,dnn8_mae]"
   ]
  },
  {
   "cell_type": "code",
   "execution_count": null,
   "metadata": {},
   "outputs": [],
   "source": [
    "evaluate_mae['LSTM']=[lstm0_mae,lstm1_mae,lstm2_mae,lstm3_mae,lstm4_mae,lstm5_mae,lstm6_mae,lstm7_mae,lstm8_mae]"
   ]
  },
  {
   "cell_type": "code",
   "execution_count": null,
   "metadata": {},
   "outputs": [],
   "source": [
    "s = pd.Series([evaluate_mae['SVM'].mean(),evaluate_mae['BP'].mean(), evaluate_mae['DNN'].mean(), evaluate_mae['LSTM'].mean()], index=evaluate_mae.columns, name='mean')\n",
    "evaluate_mae = evaluate_mae.append(s)"
   ]
  },
  {
   "cell_type": "code",
   "execution_count": null,
   "metadata": {
    "scrolled": false
   },
   "outputs": [],
   "source": [
    "# evaluate_mae.to_csv('../predict/maetest0-8.csv',index=True)\n",
    "evaluate_mae"
   ]
  },
  {
   "cell_type": "code",
   "execution_count": null,
   "metadata": {},
   "outputs": [],
   "source": []
  },
  {
   "cell_type": "markdown",
   "metadata": {},
   "source": [
    "# 保存预测结果并绘图"
   ]
  },
  {
   "cell_type": "code",
   "execution_count": null,
   "metadata": {
    "scrolled": true
   },
   "outputs": [],
   "source": [
    "#真实值和预测值对比图\n",
    "plt.plot(y_true,'royalblue',label='Real')\n",
    "plt.plot(svm_pred,'orange',label='SVM')\n",
    "# plt.plot(bp_pred,label='BP')\n",
    "# plt.plot(dnn_pred,label='DNN')\n",
    "# plt.plot(lstm_pred,label='LSTM')\n",
    "plt.title('1A Trina Prediction')\n",
    "plt.ylabel('Power')\n",
    "plt.xlabel('Time')\n",
    "plt.legend()\n",
    "plt.savefig('../picture/SVM.jpg')"
   ]
  },
  {
   "cell_type": "code",
   "execution_count": null,
   "metadata": {},
   "outputs": [],
   "source": [
    "#真实值和预测值对比图\n",
    "plt.plot(y_true,'royalblue',label='Real')\n",
    "# plt.plot(svm_pred,label='SVM')\n",
    "plt.plot(bp_pred,'limegreen',label='BP')\n",
    "# plt.plot(dnn_pred,label='DNN')\n",
    "# plt.plot(lstm_pred,label='LSTM')\n",
    "\n",
    "plt.title('1A Trina Prediction')\n",
    "plt.ylabel('Power')\n",
    "plt.xlabel('Time')\n",
    "plt.legend()\n",
    "plt.savefig('../picture/BP.jpg')"
   ]
  },
  {
   "cell_type": "code",
   "execution_count": null,
   "metadata": {},
   "outputs": [],
   "source": [
    "#真实值和预测值对比图\n",
    "plt.plot(y_true,'royalblue',label='Real')\n",
    "# plt.plot(svm_pred,label='SVM')\n",
    "# plt.plot(bp_pred,label='BP')\n",
    "plt.plot(dnn_pred,'tomato',label='DNN')\n",
    "# plt.plot(lstm_pred,label='LSTM')\n",
    "\n",
    "plt.title('1A Trina Prediction')\n",
    "plt.ylabel('Power')\n",
    "plt.xlabel('Time')\n",
    "plt.legend()\n",
    "plt.savefig('../picture/DNN.jpg')"
   ]
  },
  {
   "cell_type": "code",
   "execution_count": null,
   "metadata": {},
   "outputs": [],
   "source": [
    "#真实值和预测值对比图\n",
    "plt.plot(y_true,'royalblue',label='Real')\n",
    "# plt.plot(svm_pred,label='SVM')\n",
    "# plt.plot(bp_pred,label='BP')\n",
    "# plt.plot(dnn_pred,label='DNN')\n",
    "plt.plot(lstm_pred,'orchid',label='LSTM')\n",
    "\n",
    "plt.title('1A Trina Prediction')\n",
    "plt.ylabel('Power')\n",
    "plt.xlabel('Time')\n",
    "plt.legend()\n",
    "plt.savefig('../picture/LSTM.jpg')"
   ]
  },
  {
   "cell_type": "markdown",
   "metadata": {},
   "source": [
    "# 保存"
   ]
  },
  {
   "cell_type": "code",
   "execution_count": null,
   "metadata": {
    "scrolled": true
   },
   "outputs": [],
   "source": [
    "#真实值和预测值对比图\n",
    "plt.plot(y_true,label='Real')\n",
    "plt.plot(svm_pred,label='SVM')\n",
    "plt.plot(bp_pred,label='BP')\n",
    "plt.plot(dnn_pred,label='DNN')\n",
    "plt.plot(lstm_pred,label='LSTM')\n",
    "\n",
    "plt.title('1A Trina Prediction')\n",
    "plt.ylabel('Power')\n",
    "plt.xlabel('Time')\n",
    "plt.legend()\n",
    "plt.savefig('../picture/SVMLSTM.jpg')\n",
    "\n",
    "#训练集和测试集 预测结果保存\n",
    "predict_ = pd.DataFrame(inv_test)\n",
    "# predict_.columns = ['Year', 'Month', 'Day', 'Hour', 'Minutes', 'WTC', 'WRH', 'GHR', 'DHR',\n",
    "#        'RGT', 'RDT', '1A Trina_power']\n",
    "predict_.columns = ['Month(t-1)', 'Day(t-1)', 'Hour(t-1)', 'Minutes(t-1)', 'WTC(t-1)',\n",
    "       'WRH(t-1)', 'GHR(t-1)', 'DHR(t-1)', 'WD(t-1)', 'WDR(t-1)', 'RGT(t-1)',\n",
    "       'RDT(t-1)', '1A Trina_power(t-1)', '1A Trina_power(t)',\n",
    "       '1A Trina_power(t+1)']\n",
    "predict_['SVM'] = svm_pred\n",
    "predict_['BP'] = bp_pred\n",
    "predict_['DNN'] = dnn_pred\n",
    "predict_['LSTM'] = lstm_pred\n",
    "predict_.to_csv('../predict/1Atest_pred_-WDWDR_svm&bp&dnn.csv',index=False)\n"
   ]
  },
  {
   "cell_type": "markdown",
   "metadata": {},
   "source": [
    "画出例如2020年1月20号的预测图"
   ]
  },
  {
   "cell_type": "code",
   "execution_count": null,
   "metadata": {
    "scrolled": true
   },
   "outputs": [],
   "source": [
    "predict_.columns"
   ]
  },
  {
   "cell_type": "code",
   "execution_count": null,
   "metadata": {
    "scrolled": true
   },
   "outputs": [],
   "source": [
    "# from scipy.interpolate import spline\n",
    "predict_[['Month(t-1)', 'Day(t-1)', 'Hour(t-1)', 'Minutes(t-1)']] = predict_[['Month(t-1)', 'Day(t-1)', 'Hour(t-1)', 'Minutes(t-1)']].astype(\"int\")\n",
    "\n",
    "# Day0120 = predict_.loc[(predict_['Year'] == 2020) & (predict_['Month'] == ) & (predict_['Day'] == 20),:]\n",
    "Day0120 = predict_.loc[(predict_['Month(t-1)'] == 2 ) & (predict_['Day(t-1)'] == 20),:]\n",
    "#real_power_day.set_index('time', inplace=False)\n",
    "Real=Day0120.set_index('Hour(t-1)', inplace=False)['1A Trina_power(t+1)']\n",
    "svm_pr=Day0120.set_index('Hour(t-1)', inplace=False)['SVM']\n",
    "bp_pr=Day0120.set_index('Hour(t-1)', inplace=False)['BP']\n",
    "dnn_pr=Day0120.set_index('Hour(t-1)', inplace=False)['DNN']\n",
    "lstm_pr=Day0120.set_index('Hour(t-1)', inplace=False)['LSTM']\n",
    "\n",
    "fig = plt.figure()\n",
    "plt.plot(Real,label='Real')\n",
    "plt.plot(svm_pr,label='SVM')\n",
    "plt.plot(bp_pr,label='BP')\n",
    "plt.plot(dnn_pr,label='DNN')\n",
    "plt.plot(lstm_pr,label='LSTM')\n",
    "\n",
    "plt.title('Prediction 2020-2-20')\n",
    "plt.ylabel('Power')\n",
    "plt.xlabel('Time')\n",
    "# plt.legend(['Train', 'Test'], loc='upper left')\n",
    "plt.legend()\n",
    "plt.savefig('../picture/2-20pred.jpg')\n",
    "#ax = fig.add_subplot(1,1,1)\n",
    "#ax.plot(real_power_day_)\n",
    "# real_power_day_.plot()\n",
    "#real_power_day_.set_axis(['00:15:00','06:15:00','12:15:00','18:15:00'])\n",
    "#real_power_day_"
   ]
  },
  {
   "cell_type": "markdown",
   "metadata": {},
   "source": [
    "# 2020 "
   ]
  },
  {
   "cell_type": "code",
   "execution_count": null,
   "metadata": {},
   "outputs": [],
   "source": [
    "# from scipy.interpolate import spline\n",
    "predict_[['Month(t-1)', 'Day(t-1)', 'Hour(t-1)', 'Minutes(t-1)']] = predict_[['Month(t-1)', 'Day(t-1)', 'Hour(t-1)', 'Minutes(t-1)']].astype(\"int\")\n",
    "\n",
    "# Day0120 = predict_.loc[(predict_['Year'] == 2020) & (predict_['Month'] == ) & (predict_['Day'] == 20),:]\n",
    "Day0120 = predict_.loc[(predict_['Month(t-1)'] == 3 ) & (predict_['Day(t-1)'] == 25),:]\n",
    "#real_power_day.set_index('time', inplace=False)\n",
    "Real=Day0120.set_index('Hour(t-1)', inplace=False)['1A Trina_power(t+1)']\n",
    "svm_pr=Day0120.set_index('Hour(t-1)', inplace=False)['SVM']\n",
    "bp_pr=Day0120.set_index('Hour(t-1)', inplace=False)['BP']\n",
    "dnn_pr=Day0120.set_index('Hour(t-1)', inplace=False)['DNN']\n",
    "lstm_pr=Day0120.set_index('Hour(t-1)', inplace=False)['LSTM']\n",
    "\n",
    "fig = plt.figure()\n",
    "plt.plot(Real,label='Real')\n",
    "plt.plot(svm_pr,label='SVM')\n",
    "plt.plot(bp_pr,label='BP')\n",
    "plt.plot(dnn_pr,label='DNN')\n",
    "plt.plot(lstm_pr,label='LSTM')\n",
    "\n",
    "plt.title('Prediction 2020-3-25')\n",
    "plt.ylabel('Power')\n",
    "plt.xlabel('Time')\n",
    "# plt.legend(['Train', 'Test'], loc='upper left')\n",
    "plt.legend()\n",
    "plt.savefig('../picture/3-25pred.jpg')\n",
    "#ax = fig.add_subplot(1,1,1)\n",
    "#ax.plot(real_power_day_)\n",
    "# real_power_day_.plot()\n",
    "#real_power_day_.set_axis(['00:15:00','06:15:00','12:15:00','18:15:00'])\n",
    "#real_power_day_"
   ]
  },
  {
   "cell_type": "code",
   "execution_count": null,
   "metadata": {},
   "outputs": [],
   "source": []
  },
  {
   "cell_type": "code",
   "execution_count": null,
   "metadata": {},
   "outputs": [],
   "source": []
  }
 ],
 "metadata": {
  "kernelspec": {
   "display_name": "Python 3",
   "language": "python",
   "name": "python3"
  },
  "language_info": {
   "codemirror_mode": {
    "name": "ipython",
    "version": 3
   },
   "file_extension": ".py",
   "mimetype": "text/x-python",
   "name": "python",
   "nbconvert_exporter": "python",
   "pygments_lexer": "ipython3",
   "version": "3.6.5"
  }
 },
 "nbformat": 4,
 "nbformat_minor": 2
}
