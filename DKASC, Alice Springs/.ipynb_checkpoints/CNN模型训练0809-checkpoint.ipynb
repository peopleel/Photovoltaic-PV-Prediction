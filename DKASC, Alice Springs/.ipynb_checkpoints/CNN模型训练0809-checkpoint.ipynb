{
 "cells": [
  {
   "cell_type": "markdown",
   "metadata": {},
   "source": [
    "# 0809CNN模型训练"
   ]
  },
  {
   "cell_type": "code",
   "execution_count": 1,
   "metadata": {},
   "outputs": [
    {
     "name": "stderr",
     "output_type": "stream",
     "text": [
      "C:\\ProgramData\\Anaconda3\\lib\\site-packages\\tensorflow\\python\\framework\\dtypes.py:469: FutureWarning: Passing (type, 1) or '1type' as a synonym of type is deprecated; in a future version of numpy, it will be understood as (type, (1,)) / '(1,)type'.\n",
      "  _np_qint8 = np.dtype([(\"qint8\", np.int8, 1)])\n",
      "C:\\ProgramData\\Anaconda3\\lib\\site-packages\\tensorflow\\python\\framework\\dtypes.py:470: FutureWarning: Passing (type, 1) or '1type' as a synonym of type is deprecated; in a future version of numpy, it will be understood as (type, (1,)) / '(1,)type'.\n",
      "  _np_quint8 = np.dtype([(\"quint8\", np.uint8, 1)])\n",
      "C:\\ProgramData\\Anaconda3\\lib\\site-packages\\tensorflow\\python\\framework\\dtypes.py:471: FutureWarning: Passing (type, 1) or '1type' as a synonym of type is deprecated; in a future version of numpy, it will be understood as (type, (1,)) / '(1,)type'.\n",
      "  _np_qint16 = np.dtype([(\"qint16\", np.int16, 1)])\n",
      "C:\\ProgramData\\Anaconda3\\lib\\site-packages\\tensorflow\\python\\framework\\dtypes.py:472: FutureWarning: Passing (type, 1) or '1type' as a synonym of type is deprecated; in a future version of numpy, it will be understood as (type, (1,)) / '(1,)type'.\n",
      "  _np_quint16 = np.dtype([(\"quint16\", np.uint16, 1)])\n",
      "C:\\ProgramData\\Anaconda3\\lib\\site-packages\\tensorflow\\python\\framework\\dtypes.py:473: FutureWarning: Passing (type, 1) or '1type' as a synonym of type is deprecated; in a future version of numpy, it will be understood as (type, (1,)) / '(1,)type'.\n",
      "  _np_qint32 = np.dtype([(\"qint32\", np.int32, 1)])\n",
      "C:\\ProgramData\\Anaconda3\\lib\\site-packages\\tensorflow\\python\\framework\\dtypes.py:476: FutureWarning: Passing (type, 1) or '1type' as a synonym of type is deprecated; in a future version of numpy, it will be understood as (type, (1,)) / '(1,)type'.\n",
      "  np_resource = np.dtype([(\"resource\", np.ubyte, 1)])\n",
      "C:\\ProgramData\\Anaconda3\\lib\\site-packages\\h5py\\__init__.py:36: FutureWarning: Conversion of the second argument of issubdtype from `float` to `np.floating` is deprecated. In future, it will be treated as `np.float64 == np.dtype(float).type`.\n",
      "  from ._conv import register_converters as _register_converters\n",
      "Using TensorFlow backend.\n"
     ]
    }
   ],
   "source": [
    "import os\n",
    "import random\n",
    "import pandas as pd\n",
    "import numpy as np\n",
    "import matplotlib.pyplot as plt\n",
    "import pydot_ng as pydot\n",
    "import math\n",
    "import tensorflow as tf\n",
    "import keras\n",
    "import catboost as cb\n",
    "from pandas import read_csv\n",
    "from math import sqrt\n",
    "from numpy import concatenate\n",
    "from keras.models import Sequential\n",
    "from keras.layers import Dense,Dropout,LSTM,Flatten,Conv1D,MaxPooling1D\n",
    "from keras.utils import np_utils,plot_model\n",
    "from keras.models import model_from_json\n",
    "from sklearn.preprocessing import MinMaxScaler\n",
    "from sklearn.metrics import mean_squared_error\n",
    "from sklearn import metrics\n",
    "from sklearn import svm\n",
    "from keras.layers.core import Dense, Activation, Dropout\n",
    "from sklearn.externals import joblib\n",
    "%matplotlib inline"
   ]
  },
  {
   "cell_type": "code",
   "execution_count": 2,
   "metadata": {},
   "outputs": [],
   "source": [
    "import os\n",
    "os.environ[\"CUDA_VISIBLE_DEVICES\"] = \"0\"\n",
    "config = tf.ConfigProto(allow_soft_placement = True)\n",
    "gpu_options = tf.GPUOptions(per_process_gpu_memory_fraction = 0.7)\n",
    "config.gpu_options.allow_growth = True\n",
    "sess0 = tf.InteractiveSession(config = config)"
   ]
  },
  {
   "cell_type": "code",
   "execution_count": 3,
   "metadata": {},
   "outputs": [
    {
     "name": "stdout",
     "output_type": "stream",
     "text": [
      "E:\\Research Project\\DKASC, Alice Springs\n"
     ]
    }
   ],
   "source": [
    "print(os.getcwd()) # 打印当前工作目录"
   ]
  },
  {
   "cell_type": "code",
   "execution_count": 4,
   "metadata": {},
   "outputs": [
    {
     "data": {
      "text/plain": [
       "['.idea',\n",
       " '.ipynb_checkpoints',\n",
       " '101-Site_DKA-WeatherStation',\n",
       " '96-Site_DKA-MasterMeter1',\n",
       " 'Alice_Springs_2016-2020',\n",
       " 'CNN模型训练0809.ipynb',\n",
       " 'Dataset',\n",
       " 'logs',\n",
       " 'picture',\n",
       " 'Predict',\n",
       " 'Program backups',\n",
       " 'temp',\n",
       " 'venv',\n",
       " '数据集_小波包分解重构数据.ipynb',\n",
       " '数据集_预处理_第二版0702.ipynb',\n",
       " '测试小波分解.ipynb',\n",
       " '测试模型0622.ipynb',\n",
       " '测试模型0704.ipynb',\n",
       " '测试模型0704批量.ipynb',\n",
       " '测试模型小波包分解0704批量.ipynb',\n",
       " '画图.ipynb',\n",
       " '画图0704.ipynb',\n",
       " '笔记.ipynb',\n",
       " '训练模型0622.ipynb',\n",
       " '训练模型0702.ipynb',\n",
       " '训练模型0703 WPD.ipynb']"
      ]
     },
     "execution_count": 4,
     "metadata": {},
     "output_type": "execute_result"
    }
   ],
   "source": [
    "os.listdir(os.getcwd())"
   ]
  },
  {
   "cell_type": "code",
   "execution_count": 5,
   "metadata": {},
   "outputs": [],
   "source": [
    "os.chdir(\"./Dataset\")"
   ]
  },
  {
   "cell_type": "code",
   "execution_count": 6,
   "metadata": {},
   "outputs": [
    {
     "data": {
      "text/plain": [
       "['DKA.Station_1-9.csv',\n",
       " 'NaN_DKA.Station.csv',\n",
       " 'raw_DKA.Station_1-9.csv',\n",
       " 'test',\n",
       " 'test0702',\n",
       " 'testdata.csv',\n",
       " 'testWPD',\n",
       " 'test_1A.csv',\n",
       " 'train',\n",
       " 'train0702',\n",
       " 'traindata.csv',\n",
       " 'trainWPD',\n",
       " 'train_1A.csv',\n",
       " '测试集8个站点.csv',\n",
       " '训练集8个站点.csv']"
      ]
     },
     "execution_count": 6,
     "metadata": {},
     "output_type": "execute_result"
    }
   ],
   "source": [
    "os.listdir()"
   ]
  },
  {
   "cell_type": "code",
   "execution_count": 7,
   "metadata": {},
   "outputs": [],
   "source": [
    "train = pd.read_csv('./train0702/train_Station_4.csv')\n",
    "test = pd.read_csv('./test0702/test_Station_4.csv')"
   ]
  },
  {
   "cell_type": "code",
   "execution_count": 8,
   "metadata": {},
   "outputs": [
    {
     "name": "stdout",
     "output_type": "stream",
     "text": [
      "(314843, 13)\n",
      "(102888, 13)\n"
     ]
    }
   ],
   "source": [
    "#查看输入数据维度\n",
    "print(train.shape)\n",
    "print(test.shape)"
   ]
  },
  {
   "cell_type": "code",
   "execution_count": 9,
   "metadata": {},
   "outputs": [
    {
     "data": {
      "text/html": [
       "<div>\n",
       "<style scoped>\n",
       "    .dataframe tbody tr th:only-of-type {\n",
       "        vertical-align: middle;\n",
       "    }\n",
       "\n",
       "    .dataframe tbody tr th {\n",
       "        vertical-align: top;\n",
       "    }\n",
       "\n",
       "    .dataframe thead th {\n",
       "        text-align: right;\n",
       "    }\n",
       "</style>\n",
       "<table border=\"1\" class=\"dataframe\">\n",
       "  <thead>\n",
       "    <tr style=\"text-align: right;\">\n",
       "      <th></th>\n",
       "      <th>Timestamp</th>\n",
       "      <th>Year</th>\n",
       "      <th>Month</th>\n",
       "      <th>Day</th>\n",
       "      <th>Hour</th>\n",
       "      <th>Minutes</th>\n",
       "      <th>Temperature(°C)</th>\n",
       "      <th>Relative Humidity(%)</th>\n",
       "      <th>Wind Direction(Degrees)</th>\n",
       "      <th>Daily Rainfall(mm)</th>\n",
       "      <th>Global Horizontal Radiation(W/m²)</th>\n",
       "      <th>Diffuse Horizontal Radiation(W/m²)</th>\n",
       "      <th>Station_4</th>\n",
       "    </tr>\n",
       "  </thead>\n",
       "  <tbody>\n",
       "    <tr>\n",
       "      <th>0</th>\n",
       "      <td>2016/1/1 0:00</td>\n",
       "      <td>2016</td>\n",
       "      <td>1</td>\n",
       "      <td>1</td>\n",
       "      <td>0</td>\n",
       "      <td>0</td>\n",
       "      <td>17.176111</td>\n",
       "      <td>87.095665</td>\n",
       "      <td>186.941284</td>\n",
       "      <td>0.0</td>\n",
       "      <td>2.672255</td>\n",
       "      <td>1.103375</td>\n",
       "      <td>0.000400</td>\n",
       "    </tr>\n",
       "    <tr>\n",
       "      <th>1</th>\n",
       "      <td>2016/1/1 0:05</td>\n",
       "      <td>2016</td>\n",
       "      <td>1</td>\n",
       "      <td>1</td>\n",
       "      <td>0</td>\n",
       "      <td>5</td>\n",
       "      <td>17.133446</td>\n",
       "      <td>87.671669</td>\n",
       "      <td>191.876770</td>\n",
       "      <td>0.0</td>\n",
       "      <td>2.703700</td>\n",
       "      <td>1.152340</td>\n",
       "      <td>0.000400</td>\n",
       "    </tr>\n",
       "    <tr>\n",
       "      <th>2</th>\n",
       "      <td>2016/1/1 0:10</td>\n",
       "      <td>2016</td>\n",
       "      <td>1</td>\n",
       "      <td>1</td>\n",
       "      <td>0</td>\n",
       "      <td>10</td>\n",
       "      <td>17.084999</td>\n",
       "      <td>88.563240</td>\n",
       "      <td>188.268082</td>\n",
       "      <td>0.0</td>\n",
       "      <td>3.013785</td>\n",
       "      <td>1.566642</td>\n",
       "      <td>0.000533</td>\n",
       "    </tr>\n",
       "    <tr>\n",
       "      <th>3</th>\n",
       "      <td>2016/1/1 0:15</td>\n",
       "      <td>2016</td>\n",
       "      <td>1</td>\n",
       "      <td>1</td>\n",
       "      <td>0</td>\n",
       "      <td>15</td>\n",
       "      <td>16.955778</td>\n",
       "      <td>90.001663</td>\n",
       "      <td>197.727295</td>\n",
       "      <td>0.0</td>\n",
       "      <td>3.421924</td>\n",
       "      <td>1.707677</td>\n",
       "      <td>0.000067</td>\n",
       "    </tr>\n",
       "    <tr>\n",
       "      <th>4</th>\n",
       "      <td>2016/1/1 0:20</td>\n",
       "      <td>2016</td>\n",
       "      <td>1</td>\n",
       "      <td>1</td>\n",
       "      <td>0</td>\n",
       "      <td>20</td>\n",
       "      <td>16.854271</td>\n",
       "      <td>91.222733</td>\n",
       "      <td>193.704559</td>\n",
       "      <td>0.0</td>\n",
       "      <td>3.292158</td>\n",
       "      <td>1.746989</td>\n",
       "      <td>0.000600</td>\n",
       "    </tr>\n",
       "  </tbody>\n",
       "</table>\n",
       "</div>"
      ],
      "text/plain": [
       "       Timestamp  Year  Month  Day  Hour  Minutes  Temperature(°C)  \\\n",
       "0  2016/1/1 0:00  2016      1    1     0        0        17.176111   \n",
       "1  2016/1/1 0:05  2016      1    1     0        5        17.133446   \n",
       "2  2016/1/1 0:10  2016      1    1     0       10        17.084999   \n",
       "3  2016/1/1 0:15  2016      1    1     0       15        16.955778   \n",
       "4  2016/1/1 0:20  2016      1    1     0       20        16.854271   \n",
       "\n",
       "   Relative Humidity(%)  Wind Direction(Degrees)  Daily Rainfall(mm)  \\\n",
       "0             87.095665               186.941284                 0.0   \n",
       "1             87.671669               191.876770                 0.0   \n",
       "2             88.563240               188.268082                 0.0   \n",
       "3             90.001663               197.727295                 0.0   \n",
       "4             91.222733               193.704559                 0.0   \n",
       "\n",
       "   Global Horizontal Radiation(W/m²)  Diffuse Horizontal Radiation(W/m²)  \\\n",
       "0                           2.672255                            1.103375   \n",
       "1                           2.703700                            1.152340   \n",
       "2                           3.013785                            1.566642   \n",
       "3                           3.421924                            1.707677   \n",
       "4                           3.292158                            1.746989   \n",
       "\n",
       "   Station_4  \n",
       "0   0.000400  \n",
       "1   0.000400  \n",
       "2   0.000533  \n",
       "3   0.000067  \n",
       "4   0.000600  "
      ]
     },
     "execution_count": 9,
     "metadata": {},
     "output_type": "execute_result"
    }
   ],
   "source": [
    "train.head(5)"
   ]
  },
  {
   "cell_type": "code",
   "execution_count": 10,
   "metadata": {},
   "outputs": [
    {
     "data": {
      "text/html": [
       "<div>\n",
       "<style scoped>\n",
       "    .dataframe tbody tr th:only-of-type {\n",
       "        vertical-align: middle;\n",
       "    }\n",
       "\n",
       "    .dataframe tbody tr th {\n",
       "        vertical-align: top;\n",
       "    }\n",
       "\n",
       "    .dataframe thead th {\n",
       "        text-align: right;\n",
       "    }\n",
       "</style>\n",
       "<table border=\"1\" class=\"dataframe\">\n",
       "  <thead>\n",
       "    <tr style=\"text-align: right;\">\n",
       "      <th></th>\n",
       "      <th>Timestamp</th>\n",
       "      <th>Year</th>\n",
       "      <th>Month</th>\n",
       "      <th>Day</th>\n",
       "      <th>Hour</th>\n",
       "      <th>Minutes</th>\n",
       "      <th>Temperature(°C)</th>\n",
       "      <th>Relative Humidity(%)</th>\n",
       "      <th>Wind Direction(Degrees)</th>\n",
       "      <th>Daily Rainfall(mm)</th>\n",
       "      <th>Global Horizontal Radiation(W/m²)</th>\n",
       "      <th>Diffuse Horizontal Radiation(W/m²)</th>\n",
       "      <th>Station_4</th>\n",
       "    </tr>\n",
       "  </thead>\n",
       "  <tbody>\n",
       "    <tr>\n",
       "      <th>0</th>\n",
       "      <td>2019/1/1 0:00</td>\n",
       "      <td>2019</td>\n",
       "      <td>1</td>\n",
       "      <td>1</td>\n",
       "      <td>0</td>\n",
       "      <td>0</td>\n",
       "      <td>30.020723</td>\n",
       "      <td>20.125513</td>\n",
       "      <td>32.213470</td>\n",
       "      <td>0.0</td>\n",
       "      <td>1.543787</td>\n",
       "      <td>1.349848</td>\n",
       "      <td>0.000533</td>\n",
       "    </tr>\n",
       "    <tr>\n",
       "      <th>1</th>\n",
       "      <td>2019/1/1 0:05</td>\n",
       "      <td>2019</td>\n",
       "      <td>1</td>\n",
       "      <td>1</td>\n",
       "      <td>0</td>\n",
       "      <td>5</td>\n",
       "      <td>29.958653</td>\n",
       "      <td>20.040049</td>\n",
       "      <td>32.158791</td>\n",
       "      <td>0.0</td>\n",
       "      <td>1.373370</td>\n",
       "      <td>1.244123</td>\n",
       "      <td>0.000433</td>\n",
       "    </tr>\n",
       "  </tbody>\n",
       "</table>\n",
       "</div>"
      ],
      "text/plain": [
       "       Timestamp  Year  Month  Day  Hour  Minutes  Temperature(°C)  \\\n",
       "0  2019/1/1 0:00  2019      1    1     0        0        30.020723   \n",
       "1  2019/1/1 0:05  2019      1    1     0        5        29.958653   \n",
       "\n",
       "   Relative Humidity(%)  Wind Direction(Degrees)  Daily Rainfall(mm)  \\\n",
       "0             20.125513                32.213470                 0.0   \n",
       "1             20.040049                32.158791                 0.0   \n",
       "\n",
       "   Global Horizontal Radiation(W/m²)  Diffuse Horizontal Radiation(W/m²)  \\\n",
       "0                           1.543787                            1.349848   \n",
       "1                           1.373370                            1.244123   \n",
       "\n",
       "   Station_4  \n",
       "0   0.000533  \n",
       "1   0.000433  "
      ]
     },
     "execution_count": 10,
     "metadata": {},
     "output_type": "execute_result"
    }
   ],
   "source": [
    "test.head(2)"
   ]
  },
  {
   "cell_type": "markdown",
   "metadata": {},
   "source": [
    "# 准备训练"
   ]
  },
  {
   "cell_type": "code",
   "execution_count": 11,
   "metadata": {},
   "outputs": [
    {
     "data": {
      "text/plain": [
       "Index(['Timestamp', 'Year', 'Month', 'Day', 'Hour', 'Minutes',\n",
       "       'Temperature(°C)', 'Relative Humidity(%)', 'Wind Direction(Degrees)',\n",
       "       'Daily Rainfall(mm)', 'Global Horizontal Radiation(W/m²)',\n",
       "       'Diffuse Horizontal Radiation(W/m²)', 'Station_4'],\n",
       "      dtype='object')"
      ]
     },
     "execution_count": 11,
     "metadata": {},
     "output_type": "execute_result"
    }
   ],
   "source": [
    "train.columns"
   ]
  },
  {
   "cell_type": "code",
   "execution_count": 12,
   "metadata": {},
   "outputs": [],
   "source": [
    "train1=train.drop(columns=['Timestamp','Year'])\n",
    "test1= test.drop(columns=['Timestamp','Year'])"
   ]
  },
  {
   "cell_type": "code",
   "execution_count": 13,
   "metadata": {},
   "outputs": [
    {
     "data": {
      "text/plain": [
       "Index(['Month', 'Day', 'Hour', 'Minutes', 'Temperature(°C)',\n",
       "       'Relative Humidity(%)', 'Wind Direction(Degrees)', 'Daily Rainfall(mm)',\n",
       "       'Global Horizontal Radiation(W/m²)',\n",
       "       'Diffuse Horizontal Radiation(W/m²)', 'Station_4'],\n",
       "      dtype='object')"
      ]
     },
     "execution_count": 13,
     "metadata": {},
     "output_type": "execute_result"
    }
   ],
   "source": [
    "train1.columns"
   ]
  },
  {
   "cell_type": "markdown",
   "metadata": {},
   "source": [
    "# 归一化数据"
   ]
  },
  {
   "cell_type": "code",
   "execution_count": 14,
   "metadata": {},
   "outputs": [
    {
     "name": "stdout",
     "output_type": "stream",
     "text": [
      "(251874, 10, 1) (251874, 1) (62969, 10, 1) (62969, 1) (102888, 10, 1) (102888, 1)\n"
     ]
    }
   ],
   "source": [
    "train1 = train1.values\n",
    "train1 = train1.astype('float32')     # 将整型变为float\n",
    "scaler = MinMaxScaler(feature_range=(0, 1)) # 数据处理，归一化至0~1之间\n",
    "train1 = scaler.fit_transform(train1)\n",
    "\n",
    "test1 = test1.values\n",
    "test1 = test1.astype('float32')     # 将整型变为float\n",
    "scaler = MinMaxScaler(feature_range=(0, 1)) # 数据处理，归一化至0~1之间\n",
    "test1 = scaler.fit_transform(test1)\n",
    "\n",
    "inds = np.arange(train1.shape[0])\n",
    "train1_inds = inds[0:int(train1.shape[0]*0.8)]\n",
    "eval1_inds = inds[int(train1.shape[0]*0.8):train1.shape[0]]\n",
    "\n",
    "\n",
    "train_X, train_y = train1[train1_inds,:-1], train1[train1_inds,-1:]\n",
    "eval_X,eval_y = train1[eval1_inds,:-1], train1[eval1_inds,-1:]\n",
    "test_X, test_y = test1[:, :-1], test1[:,-1:]\n",
    "\n",
    "train_X = np.expand_dims(train_X, axis=2)#增加一维轴\n",
    "eval_X = np.expand_dims(eval_X, axis=2)\n",
    "test_X = np.expand_dims(test_X, axis=2)\n",
    "# # reshape input to be 3D [samples, timesteps, features]\n",
    "# train_Xl = train_X.reshape((train_X.shape[0], 1, train_X.shape[1]))\n",
    "# eval_Xl = eval_X.reshape((eval_X.shape[0],1,eval_X.shape[1]))\n",
    "# test_Xl = test_X.reshape((test_X.shape[0], 1, test_X.shape[1]))\n",
    "print(train_X.shape, train_y.shape,eval_X.shape,eval_y.shape, test_X.shape, test_y.shape)\n",
    "# print(train_Xl.shape, train_y.shape,eval_Xl.shape,eval_y.shape, test_Xl.shape, test_y.shape)"
   ]
  },
  {
   "cell_type": "markdown",
   "metadata": {},
   "source": [
    "# Kears模型构建"
   ]
  },
  {
   "cell_type": "markdown",
   "metadata": {},
   "source": [
    "# CNN模型"
   ]
  },
  {
   "cell_type": "code",
   "execution_count": 57,
   "metadata": {
    "scrolled": true
   },
   "outputs": [
    {
     "name": "stdout",
     "output_type": "stream",
     "text": [
      "_________________________________________________________________\n",
      "Layer (type)                 Output Shape              Param #   \n",
      "=================================================================\n",
      "conv1d_14 (Conv1D)           (None, 9, 16)             48        \n",
      "_________________________________________________________________\n",
      "conv1d_15 (Conv1D)           (None, 8, 64)             2112      \n",
      "_________________________________________________________________\n",
      "flatten_4 (Flatten)          (None, 512)               0         \n",
      "_________________________________________________________________\n",
      "dense_13 (Dense)             (None, 64)                32832     \n",
      "_________________________________________________________________\n",
      "dense_14 (Dense)             (None, 32)                2080      \n",
      "_________________________________________________________________\n",
      "dense_15 (Dense)             (None, 16)                528       \n",
      "_________________________________________________________________\n",
      "dense_16 (Dense)             (None, 1)                 17        \n",
      "=================================================================\n",
      "Total params: 37,617\n",
      "Trainable params: 37,617\n",
      "Non-trainable params: 0\n",
      "_________________________________________________________________\n",
      "None\n"
     ]
    }
   ],
   "source": [
    "model = Sequential()\n",
    "model.add(Conv1D(16, 2,input_shape=(train_X.shape[1],1), activation='relu'))\n",
    "# model.add(Conv1D(32, 3, activation='relu'))\n",
    "# model.add(MaxPooling1D(2))\n",
    "model.add(Conv1D(64, 2, activation='relu'))\n",
    "# model.add(Conv1D(16, 2, activation='relu'))\n",
    "# model.add(MaxPooling1D(2))\n",
    "# model.add(Conv1D(16, 2, activation='relu'))\n",
    "# model.add(Conv1D(16, 2, activation='relu'))\n",
    "# model.add(MaxPooling1D(2))\n",
    "model.add(Flatten())\n",
    "model.add(Dense(units=64,activation='sigmoid',use_bias = True))\n",
    "model.add(Dense(units=32,activation='sigmoid',use_bias = True))\n",
    "model.add(Dense(units=16,activation='sigmoid',use_bias = True))\n",
    "# model.add(Dense(units=8,name='layer4',activation='sigmoid',use_bias = True))\n",
    "model.add(Dense(1, activation='sigmoid'))\n",
    "# plot_model(model, to_file='./model_sig.png', show_shapes=True)\n",
    "print(model.summary())"
   ]
  },
  {
   "cell_type": "code",
   "execution_count": 58,
   "metadata": {},
   "outputs": [],
   "source": [
    "model.compile(optimizer='adam', loss='mean_squared_error', metrics=['mae'])"
   ]
  },
  {
   "cell_type": "code",
   "execution_count": 59,
   "metadata": {},
   "outputs": [
    {
     "name": "stdout",
     "output_type": "stream",
     "text": [
      "Train on 251874 samples, validate on 62969 samples\n",
      "Epoch 1/30\n",
      "251874/251874 [==============================] - 6s - loss: 0.0507 - mean_absolute_error: 0.1897 - val_loss: 0.0078 - val_mean_absolute_error: 0.0785\n",
      "Epoch 2/30\n",
      "251874/251874 [==============================] - 5s - loss: 0.0051 - mean_absolute_error: 0.0563 - val_loss: 0.0034 - val_mean_absolute_error: 0.0471\n",
      "Epoch 3/30\n",
      "251874/251874 [==============================] - 6s - loss: 0.0029 - mean_absolute_error: 0.0382 - val_loss: 0.0021 - val_mean_absolute_error: 0.0356\n",
      "Epoch 4/30\n",
      "251874/251874 [==============================] - 6s - loss: 0.0021 - mean_absolute_error: 0.0303 - val_loss: 0.0016 - val_mean_absolute_error: 0.0300TA: 4s - loss - ETA: 1s - loss: 0.0022 - me\n",
      "Epoch 5/30\n",
      "251874/251874 [==============================] - 5s - loss: 0.0017 - mean_absolute_error: 0.0255 - val_loss: 0.0013 - val_mean_absolute_error: 0.0258\n",
      "Epoch 6/30\n",
      "251874/251874 [==============================] - 5s - loss: 0.0015 - mean_absolute_error: 0.0222 - val_loss: 0.0014 - val_mean_absolute_error: 0.0261\n",
      "Epoch 7/30\n",
      "251874/251874 [==============================] - 5s - loss: 0.0013 - mean_absolute_error: 0.0199 - val_loss: 0.0012 - val_mean_absolute_error: 0.0238\n",
      "Epoch 8/30\n",
      "251874/251874 [==============================] - 5s - loss: 0.0012 - mean_absolute_error: 0.0182 - val_loss: 0.0010 - val_mean_absolute_error: 0.0212\n",
      "Epoch 9/30\n",
      "251874/251874 [==============================] - 5s - loss: 0.0012 - mean_absolute_error: 0.0172 - val_loss: 9.4310e-04 - val_mean_absolute_error: 0.0196TA: 0s - loss: 0.0012 - mean_absolute_error\n",
      "Epoch 10/30\n",
      "251874/251874 [==============================] - 5s - loss: 0.0011 - mean_absolute_error: 0.0162 - val_loss: 0.0014 - val_mean_absolute_error: 0.0244 - loss: 0.0011 - mean_a\n",
      "Epoch 11/30\n",
      "251874/251874 [==============================] - 5s - loss: 0.0011 - mean_absolute_error: 0.0155 - val_loss: 9.5269e-04 - val_mean_absolute_error: 0.0192\n",
      "Epoch 12/30\n",
      "251874/251874 [==============================] - 5s - loss: 0.0010 - mean_absolute_error: 0.0148 - val_loss: 0.0011 - val_mean_absolute_error: 0.0205\n",
      "Epoch 13/30\n",
      "251874/251874 [==============================] - 5s - loss: 9.5236e-04 - mean_absolute_error: 0.0142 - val_loss: 0.0013 - val_mean_absolute_error: 0.0213ean_absolute_error: 0. - ETA: 0s - loss: 9.5323e-04 - mean_absolute_error: 0.014\n",
      "Epoch 14/30\n",
      "251874/251874 [==============================] - 5s - loss: 9.1115e-04 - mean_absolute_error: 0.0138 - val_loss: 9.8124e-04 - val_mean_absolute_error: 0.0178\n",
      "Epoch 15/30\n",
      "251874/251874 [==============================] - 5s - loss: 8.6935e-04 - mean_absolute_error: 0.0132 - val_loss: 0.0012 - val_mean_absolute_error: 0.0202\n",
      "Epoch 16/30\n",
      "251874/251874 [==============================] - 5s - loss: 8.3360e-04 - mean_absolute_error: 0.0127 - val_loss: 0.0012 - val_mean_absolute_error: 0.0194or: - ETA:  - ETA: 0s - loss: 8.3811e-04 - mean_absolut\n",
      "Epoch 17/30\n",
      "251874/251874 [==============================] - 5s - loss: 8.1936e-04 - mean_absolute_error: 0.0124 - val_loss: 0.0010 - val_mean_absolute_error: 0.0175 - ET\n",
      "Epoch 18/30\n",
      "251874/251874 [==============================] - 5s - loss: 8.0440e-04 - mean_absolute_error: 0.0121 - val_loss: 0.0013 - val_mean_absolute_error: 0.0200\n",
      "Epoch 19/30\n",
      "251874/251874 [==============================] - 5s - loss: 7.8623e-04 - mean_absolute_error: 0.0116 - val_loss: 0.0012 - val_mean_absolute_error: 0.0183\n",
      "Epoch 20/30\n",
      "251874/251874 [==============================] - 5s - loss: 7.7292e-04 - mean_absolute_error: 0.0114 - val_loss: 0.0014 - val_mean_absolute_error: 0.0196loss: 7.5143e-04 - mean_absolute_error: 0.0 - ETA: 2s - los\n",
      "Epoch 21/30\n",
      "251874/251874 [==============================] - 5s - loss: 7.7093e-04 - mean_absolute_error: 0.0112 - val_loss: 0.0010 - val_mean_absolute_error: 0.0168or: 0 - ETA: 4s - loss: 8.11 - ETA: 2s - loss: 7.4892e - ETA: 0s - loss: 7.5874e-04 - mean_absolute_error: 0.\n",
      "Epoch 22/30\n",
      "251874/251874 [==============================] - 5s - loss: 7.7003e-04 - mean_absolute_error: 0.0111 - val_loss: 9.5182e-04 - val_mean_absolute_error: 0.0161olute_error: 0.011\n",
      "Epoch 23/30\n",
      "251874/251874 [==============================] - 5s - loss: 7.4828e-04 - mean_absolute_error: 0.0107 - val_loss: 0.0011 - val_mean_absolute_error: 0.0176\n",
      "Epoch 24/30\n",
      "251874/251874 [==============================] - 5s - loss: 7.5063e-04 - mean_absolute_error: 0.0107 - val_loss: 9.4296e-04 - val_mean_absolute_error: 0.0155\n",
      "Epoch 25/30\n",
      "251874/251874 [==============================] - 5s - loss: 7.4448e-04 - mean_absolute_error: 0.0105 - val_loss: 0.0010 - val_mean_absolute_error: 0.0162or: 0.010 - ETA: 0s - loss: 7.4395e-04 - mean_absolut\n",
      "Epoch 26/30\n",
      "251874/251874 [==============================] - 5s - loss: 7.3175e-04 - mean_absolute_error: 0.0103 - val_loss: 9.3302e-04 - val_mean_absolute_error: 0.0154\n",
      "Epoch 27/30\n",
      "251874/251874 [==============================] - 5s - loss: 7.3509e-04 - mean_absolute_error: 0.0102 - val_loss: 0.0011 - val_mean_absolute_error: 0.0170\n",
      "Epoch 28/30\n",
      "251874/251874 [==============================] - 5s - loss: 7.2594e-04 - mean_absolute_error: 0.0101 - val_loss: 0.0011 - val_mean_absolute_error: 0.0168e-04 - mean_absolute_error: 0.0\n",
      "Epoch 29/30\n",
      "251874/251874 [==============================] - 5s - loss: 7.1968e-04 - mean_absolute_error: 0.0100 - val_loss: 9.8664e-04 - val_mean_absolute_error: 0.01570e-04 - mea\n",
      "Epoch 30/30\n",
      "251874/251874 [==============================] - 5s - loss: 7.1267e-04 - mean_absolute_error: 0.0099 - val_loss: 0.0010 - val_mean_absolute_error: 0.0161\n"
     ]
    }
   ],
   "source": [
    "history = model.fit(train_X,train_y, validation_data=(eval_X, eval_y),epochs = 30, batch_size = 1000 )"
   ]
  },
  {
   "cell_type": "code",
   "execution_count": 60,
   "metadata": {},
   "outputs": [],
   "source": [
    "modelcnn = model\n",
    "modelcnn.save('../logs/CNN0809.h5')"
   ]
  },
  {
   "cell_type": "code",
   "execution_count": 61,
   "metadata": {},
   "outputs": [
    {
     "data": {
      "image/png": "[encoded data removed]",
      "text/plain": [
       "<Figure size 432x288 with 1 Axes>"
      ]
     },
     "metadata": {},
     "output_type": "display_data"
    }
   ],
   "source": [
    "plt.plot(history.history['loss'], label='train')\n",
    "plt.plot(history.history['val_loss'], label='eval')\n",
    "plt.legend()\n",
    "plt.show()"
   ]
  },
  {
   "cell_type": "markdown",
   "metadata": {},
   "source": [
    "# 反归一化"
   ]
  },
  {
   "cell_type": "code",
   "execution_count": 62,
   "metadata": {},
   "outputs": [],
   "source": [
    "# test_X.shape"
   ]
  },
  {
   "cell_type": "code",
   "execution_count": 63,
   "metadata": {},
   "outputs": [],
   "source": [
    "# print(np.squeeze(test_X).shape)"
   ]
  },
  {
   "cell_type": "code",
   "execution_count": 64,
   "metadata": {},
   "outputs": [],
   "source": [
    "def inv(testPredictML,test_X,test_y):\n",
    "    test_X = np.squeeze(test_X)\n",
    "    # invert scaling for forecast\n",
    "    inv_testPredictML = concatenate((test_X[:,:],testPredictML), axis=1)\n",
    "    inv_testPredictML = scaler.inverse_transform(inv_testPredictML)\n",
    "    testPredictML = inv_testPredictML[:,-1:]\n",
    "    # invert scaling for actual\n",
    "    test_y = test_y.reshape((len(test_y), 1))\n",
    "    inv_test = concatenate((test_X[:,:],test_y), axis=1)\n",
    "    inv_test = scaler.inverse_transform(inv_test)\n",
    "    testReal = inv_test[:,-1:]\n",
    "    return testPredictML,testReal,inv_test"
   ]
  },
  {
   "cell_type": "code",
   "execution_count": 65,
   "metadata": {},
   "outputs": [],
   "source": [
    "def mape(y_true, y_pred):\n",
    "    return np.mean(np.abs((y_pred - y_true) / y_true)) * 100\n",
    "\n",
    "def smape(y_true, y_pred):\n",
    "    return 2.0 * np.mean(np.abs(y_pred - y_true) / (np.abs(y_pred) + np.abs(y_true))) * 100"
   ]
  },
  {
   "cell_type": "markdown",
   "metadata": {},
   "source": [
    "# 评价指标"
   ]
  },
  {
   "cell_type": "code",
   "execution_count": 66,
   "metadata": {},
   "outputs": [],
   "source": [
    "# predicted = model.predict(test_X)"
   ]
  },
  {
   "cell_type": "code",
   "execution_count": 67,
   "metadata": {},
   "outputs": [
    {
     "name": "stderr",
     "output_type": "stream",
     "text": [
      "C:\\ProgramData\\Anaconda3\\lib\\site-packages\\ipykernel_launcher.py:2: RuntimeWarning: divide by zero encountered in true_divide\n",
      "  \n"
     ]
    }
   ],
   "source": [
    "cnn_pred = modelcnn.predict(test_X)\n",
    "# cnn_pred,y_true,inv_test=inv(cnn_pred,test_year,test_X,test_y)\n",
    "cnn_pred,y_true,inv_test=inv(cnn_pred,test_X,test_y)\n",
    "# y_true = test_y\n",
    "\n",
    "cnn_mse = metrics.mean_squared_error(y_true, cnn_pred)\n",
    "cnn_rmse = math.sqrt(mean_squared_error(y_true[:,0], cnn_pred[:,0]))\n",
    "cnn_mae = metrics.mean_absolute_error(y_true, cnn_pred)\n",
    "cnn_mape = mape(y_true, cnn_pred)\n",
    "cnn_smape = smape(y_true, cnn_pred)"
   ]
  },
  {
   "cell_type": "code",
   "execution_count": 68,
   "metadata": {},
   "outputs": [
    {
     "name": "stdout",
     "output_type": "stream",
     "text": [
      "0.02143646 0.14641195414371458 0.06791119 inf 103.87102365493774\n"
     ]
    }
   ],
   "source": [
    "print(cnn_mse,cnn_rmse,cnn_mae,cnn_mape,cnn_smape)"
   ]
  },
  {
   "cell_type": "markdown",
   "metadata": {},
   "source": [
    "# 保存预测结果并绘图"
   ]
  },
  {
   "cell_type": "code",
   "execution_count": 69,
   "metadata": {},
   "outputs": [
    {
     "data": {
      "text/plain": [
       "<matplotlib.legend.Legend at 0x10a81558d30>"
      ]
     },
     "execution_count": 69,
     "metadata": {},
     "output_type": "execute_result"
    },
    {
     "data": {
      "image/png": "[encoded data removed]",
      "text/plain": [
       "<Figure size 432x288 with 1 Axes>"
      ]
     },
     "metadata": {},
     "output_type": "display_data"
    }
   ],
   "source": [
    "# plt.plot(lstm_pred,'orchid',label='LSTM')\n",
    "plt.plot(y_true,'b',label='Real')\n",
    "plt.plot(cnn_pred,'r',label='CNN')\n",
    "\n",
    "plt.title('Station 4')\n",
    "plt.ylabel('Power')\n",
    "plt.xlabel('Time')\n",
    "plt.legend()\n",
    "# plt.savefig('../picture/CNN0809.jpg')"
   ]
  },
  {
   "cell_type": "code",
   "execution_count": null,
   "metadata": {},
   "outputs": [],
   "source": []
  }
 ],
 "metadata": {
  "kernelspec": {
   "display_name": "Python 3",
   "language": "python",
   "name": "python3"
  },
  "language_info": {
   "codemirror_mode": {
    "name": "ipython",
    "version": 3
   },
   "file_extension": ".py",
   "mimetype": "text/x-python",
   "name": "python",
   "nbconvert_exporter": "python",
   "pygments_lexer": "ipython3",
   "version": "3.6.5"
  }
 },
 "nbformat": 4,
 "nbformat_minor": 2
}
