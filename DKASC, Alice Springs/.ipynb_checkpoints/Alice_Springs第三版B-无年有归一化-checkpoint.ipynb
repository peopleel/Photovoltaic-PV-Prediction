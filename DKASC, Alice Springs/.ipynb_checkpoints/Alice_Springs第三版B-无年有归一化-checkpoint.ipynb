{
 "cells": [
  {
   "cell_type": "markdown",
   "metadata": {},
   "source": [
    "# DKASC_爱丽丝泉_光伏预测"
   ]
  },
  {
   "cell_type": "code",
   "execution_count": 1,
   "metadata": {},
   "outputs": [
    {
     "name": "stderr",
     "output_type": "stream",
     "text": [
      "C:\\ProgramData\\Anaconda3\\lib\\site-packages\\tensorflow\\python\\framework\\dtypes.py:469: FutureWarning: Passing (type, 1) or '1type' as a synonym of type is deprecated; in a future version of numpy, it will be understood as (type, (1,)) / '(1,)type'.\n",
      "  _np_qint8 = np.dtype([(\"qint8\", np.int8, 1)])\n",
      "C:\\ProgramData\\Anaconda3\\lib\\site-packages\\tensorflow\\python\\framework\\dtypes.py:470: FutureWarning: Passing (type, 1) or '1type' as a synonym of type is deprecated; in a future version of numpy, it will be understood as (type, (1,)) / '(1,)type'.\n",
      "  _np_quint8 = np.dtype([(\"quint8\", np.uint8, 1)])\n",
      "C:\\ProgramData\\Anaconda3\\lib\\site-packages\\tensorflow\\python\\framework\\dtypes.py:471: FutureWarning: Passing (type, 1) or '1type' as a synonym of type is deprecated; in a future version of numpy, it will be understood as (type, (1,)) / '(1,)type'.\n",
      "  _np_qint16 = np.dtype([(\"qint16\", np.int16, 1)])\n",
      "C:\\ProgramData\\Anaconda3\\lib\\site-packages\\tensorflow\\python\\framework\\dtypes.py:472: FutureWarning: Passing (type, 1) or '1type' as a synonym of type is deprecated; in a future version of numpy, it will be understood as (type, (1,)) / '(1,)type'.\n",
      "  _np_quint16 = np.dtype([(\"quint16\", np.uint16, 1)])\n",
      "C:\\ProgramData\\Anaconda3\\lib\\site-packages\\tensorflow\\python\\framework\\dtypes.py:473: FutureWarning: Passing (type, 1) or '1type' as a synonym of type is deprecated; in a future version of numpy, it will be understood as (type, (1,)) / '(1,)type'.\n",
      "  _np_qint32 = np.dtype([(\"qint32\", np.int32, 1)])\n",
      "C:\\ProgramData\\Anaconda3\\lib\\site-packages\\tensorflow\\python\\framework\\dtypes.py:476: FutureWarning: Passing (type, 1) or '1type' as a synonym of type is deprecated; in a future version of numpy, it will be understood as (type, (1,)) / '(1,)type'.\n",
      "  np_resource = np.dtype([(\"resource\", np.ubyte, 1)])\n",
      "C:\\ProgramData\\Anaconda3\\lib\\site-packages\\h5py\\__init__.py:36: FutureWarning: Conversion of the second argument of issubdtype from `float` to `np.floating` is deprecated. In future, it will be treated as `np.float64 == np.dtype(float).type`.\n",
      "  from ._conv import register_converters as _register_converters\n",
      "Using TensorFlow backend.\n"
     ]
    }
   ],
   "source": [
    "import os\n",
    "import random\n",
    "import pandas as pd\n",
    "import numpy as np\n",
    "import matplotlib.pyplot as plt\n",
    "import math\n",
    "import tensorflow as tf\n",
    "import keras\n",
    "import catboost as cb\n",
    "from pandas import read_csv\n",
    "from math import sqrt\n",
    "from numpy import concatenate\n",
    "from keras.models import Sequential\n",
    "from keras.layers import Dense\n",
    "from keras.layers import Dropout\n",
    "from keras.layers import LSTM\n",
    "from sklearn.preprocessing import MinMaxScaler\n",
    "from sklearn.metrics import mean_squared_error\n",
    "from keras.layers.core import Dense, Activation, Dropout\n",
    "%matplotlib inline"
   ]
  },
  {
   "cell_type": "code",
   "execution_count": 2,
   "metadata": {},
   "outputs": [],
   "source": [
    "import os\n",
    "os.environ[\"CUDA_VISIBLE_DEVICES\"] = \"0\"\n",
    "config = tf.ConfigProto(allow_soft_placement = True)\n",
    "gpu_options = tf.GPUOptions(per_process_gpu_memory_fraction = 0.5)\n",
    "config.gpu_options.allow_growth = True\n",
    "sess0 = tf.InteractiveSession(config = config)"
   ]
  },
  {
   "cell_type": "code",
   "execution_count": 3,
   "metadata": {},
   "outputs": [
    {
     "name": "stdout",
     "output_type": "stream",
     "text": [
      "E:\\graduation project\\DKASC, Alice Springs\n"
     ]
    }
   ],
   "source": [
    "print(os.getcwd()) # 打印当前工作目录"
   ]
  },
  {
   "cell_type": "code",
   "execution_count": 4,
   "metadata": {},
   "outputs": [
    {
     "data": {
      "text/plain": [
       "['.ipynb_checkpoints',\n",
       " '101-Site_DKA-WeatherStation',\n",
       " '96-Site_DKA-MasterMeter1',\n",
       " 'Alice_Springs_2016-2020',\n",
       " 'Alice_Springs第三版A.ipynb',\n",
       " 'Alice_Springs第三版B-LSTM.ipynb',\n",
       " 'Alice_Springs第三版B-初版有年有归一化.ipynb',\n",
       " 'Alice_Springs第三版B-无年有归一化.ipynb',\n",
       " 'Alice_Springs第三版B-有年无归一化.ipynb',\n",
       " 'Alice_Springs第三版备份.ipynb',\n",
       " 'Dataset',\n",
       " 'Predict',\n",
       " 'Program backups',\n",
       " 'temp',\n",
       " '笔记.ipynb']"
      ]
     },
     "execution_count": 4,
     "metadata": {},
     "output_type": "execute_result"
    }
   ],
   "source": [
    "os.listdir(os.getcwd())"
   ]
  },
  {
   "cell_type": "code",
   "execution_count": 5,
   "metadata": {},
   "outputs": [],
   "source": [
    "os.chdir(\"./Dataset/\")"
   ]
  },
  {
   "cell_type": "code",
   "execution_count": 6,
   "metadata": {},
   "outputs": [
    {
     "data": {
      "text/plain": [
       "['testdata.csv',\n",
       " 'test_1A.csv',\n",
       " 'traindata.csv',\n",
       " 'train_1A.csv',\n",
       " '测试集8个站点.csv',\n",
       " '训练集8个站点.csv']"
      ]
     },
     "execution_count": 6,
     "metadata": {},
     "output_type": "execute_result"
    }
   ],
   "source": [
    "os.listdir()"
   ]
  },
  {
   "cell_type": "code",
   "execution_count": 7,
   "metadata": {},
   "outputs": [],
   "source": [
    "train = pd.read_csv('train_1A.csv')\n",
    "test = pd.read_csv('test_1A.csv')"
   ]
  },
  {
   "cell_type": "code",
   "execution_count": 8,
   "metadata": {},
   "outputs": [
    {
     "name": "stdout",
     "output_type": "stream",
     "text": [
      "(141428, 14)\n",
      "(26091, 14)\n"
     ]
    }
   ],
   "source": [
    "#查看输入数据维度\n",
    "print(train.shape)\n",
    "print(test.shape)"
   ]
  },
  {
   "cell_type": "code",
   "execution_count": 9,
   "metadata": {
    "scrolled": true
   },
   "outputs": [
    {
     "data": {
      "text/html": [
       "<div>\n",
       "<style scoped>\n",
       "    .dataframe tbody tr th:only-of-type {\n",
       "        vertical-align: middle;\n",
       "    }\n",
       "\n",
       "    .dataframe tbody tr th {\n",
       "        vertical-align: top;\n",
       "    }\n",
       "\n",
       "    .dataframe thead th {\n",
       "        text-align: right;\n",
       "    }\n",
       "</style>\n",
       "<table border=\"1\" class=\"dataframe\">\n",
       "  <thead>\n",
       "    <tr style=\"text-align: right;\">\n",
       "      <th></th>\n",
       "      <th>Year</th>\n",
       "      <th>Month</th>\n",
       "      <th>Day</th>\n",
       "      <th>Hour</th>\n",
       "      <th>Minutes</th>\n",
       "      <th>WTC</th>\n",
       "      <th>WRH</th>\n",
       "      <th>GHR</th>\n",
       "      <th>DHR</th>\n",
       "      <th>WD</th>\n",
       "      <th>WDR</th>\n",
       "      <th>RGT</th>\n",
       "      <th>RDT</th>\n",
       "      <th>1A Trina_power</th>\n",
       "    </tr>\n",
       "  </thead>\n",
       "  <tbody>\n",
       "    <tr>\n",
       "      <th>0</th>\n",
       "      <td>2018</td>\n",
       "      <td>1</td>\n",
       "      <td>19</td>\n",
       "      <td>18</td>\n",
       "      <td>30</td>\n",
       "      <td>26.243799</td>\n",
       "      <td>50.889774</td>\n",
       "      <td>71.416481</td>\n",
       "      <td>67.523544</td>\n",
       "      <td>302.882996</td>\n",
       "      <td>3.6</td>\n",
       "      <td>65.268631</td>\n",
       "      <td>59.278999</td>\n",
       "      <td>0.318600</td>\n",
       "    </tr>\n",
       "    <tr>\n",
       "      <th>1</th>\n",
       "      <td>2018</td>\n",
       "      <td>1</td>\n",
       "      <td>19</td>\n",
       "      <td>18</td>\n",
       "      <td>35</td>\n",
       "      <td>26.641783</td>\n",
       "      <td>49.539795</td>\n",
       "      <td>77.177094</td>\n",
       "      <td>71.776718</td>\n",
       "      <td>246.312622</td>\n",
       "      <td>3.6</td>\n",
       "      <td>72.546944</td>\n",
       "      <td>63.134579</td>\n",
       "      <td>0.328800</td>\n",
       "    </tr>\n",
       "    <tr>\n",
       "      <th>2</th>\n",
       "      <td>2018</td>\n",
       "      <td>1</td>\n",
       "      <td>19</td>\n",
       "      <td>18</td>\n",
       "      <td>40</td>\n",
       "      <td>26.654078</td>\n",
       "      <td>53.414265</td>\n",
       "      <td>78.373489</td>\n",
       "      <td>69.008316</td>\n",
       "      <td>305.089630</td>\n",
       "      <td>3.6</td>\n",
       "      <td>76.711456</td>\n",
       "      <td>65.430550</td>\n",
       "      <td>0.334200</td>\n",
       "    </tr>\n",
       "    <tr>\n",
       "      <th>3</th>\n",
       "      <td>2018</td>\n",
       "      <td>1</td>\n",
       "      <td>19</td>\n",
       "      <td>18</td>\n",
       "      <td>45</td>\n",
       "      <td>26.439108</td>\n",
       "      <td>55.582245</td>\n",
       "      <td>78.022881</td>\n",
       "      <td>67.560181</td>\n",
       "      <td>259.662933</td>\n",
       "      <td>3.6</td>\n",
       "      <td>80.445709</td>\n",
       "      <td>66.812790</td>\n",
       "      <td>0.333133</td>\n",
       "    </tr>\n",
       "    <tr>\n",
       "      <th>4</th>\n",
       "      <td>2018</td>\n",
       "      <td>1</td>\n",
       "      <td>19</td>\n",
       "      <td>18</td>\n",
       "      <td>50</td>\n",
       "      <td>26.479477</td>\n",
       "      <td>56.173820</td>\n",
       "      <td>82.106972</td>\n",
       "      <td>73.004196</td>\n",
       "      <td>186.634705</td>\n",
       "      <td>3.6</td>\n",
       "      <td>83.035919</td>\n",
       "      <td>69.054459</td>\n",
       "      <td>0.332400</td>\n",
       "    </tr>\n",
       "  </tbody>\n",
       "</table>\n",
       "</div>"
      ],
      "text/plain": [
       "   Year  Month  Day  Hour  Minutes        WTC        WRH        GHR  \\\n",
       "0  2018      1   19    18       30  26.243799  50.889774  71.416481   \n",
       "1  2018      1   19    18       35  26.641783  49.539795  77.177094   \n",
       "2  2018      1   19    18       40  26.654078  53.414265  78.373489   \n",
       "3  2018      1   19    18       45  26.439108  55.582245  78.022881   \n",
       "4  2018      1   19    18       50  26.479477  56.173820  82.106972   \n",
       "\n",
       "         DHR          WD  WDR        RGT        RDT  1A Trina_power  \n",
       "0  67.523544  302.882996  3.6  65.268631  59.278999        0.318600  \n",
       "1  71.776718  246.312622  3.6  72.546944  63.134579        0.328800  \n",
       "2  69.008316  305.089630  3.6  76.711456  65.430550        0.334200  \n",
       "3  67.560181  259.662933  3.6  80.445709  66.812790        0.333133  \n",
       "4  73.004196  186.634705  3.6  83.035919  69.054459        0.332400  "
      ]
     },
     "execution_count": 9,
     "metadata": {},
     "output_type": "execute_result"
    }
   ],
   "source": [
    "train.head(5)"
   ]
  },
  {
   "cell_type": "code",
   "execution_count": 10,
   "metadata": {},
   "outputs": [
    {
     "data": {
      "text/html": [
       "<div>\n",
       "<style scoped>\n",
       "    .dataframe tbody tr th:only-of-type {\n",
       "        vertical-align: middle;\n",
       "    }\n",
       "\n",
       "    .dataframe tbody tr th {\n",
       "        vertical-align: top;\n",
       "    }\n",
       "\n",
       "    .dataframe thead th {\n",
       "        text-align: right;\n",
       "    }\n",
       "</style>\n",
       "<table border=\"1\" class=\"dataframe\">\n",
       "  <thead>\n",
       "    <tr style=\"text-align: right;\">\n",
       "      <th></th>\n",
       "      <th>Year</th>\n",
       "      <th>Month</th>\n",
       "      <th>Day</th>\n",
       "      <th>Hour</th>\n",
       "      <th>Minutes</th>\n",
       "      <th>WTC</th>\n",
       "      <th>WRH</th>\n",
       "      <th>GHR</th>\n",
       "      <th>DHR</th>\n",
       "      <th>WD</th>\n",
       "      <th>WDR</th>\n",
       "      <th>RGT</th>\n",
       "      <th>RDT</th>\n",
       "      <th>1A Trina_power</th>\n",
       "    </tr>\n",
       "  </thead>\n",
       "  <tbody>\n",
       "    <tr>\n",
       "      <th>0</th>\n",
       "      <td>2020</td>\n",
       "      <td>1</td>\n",
       "      <td>1</td>\n",
       "      <td>0</td>\n",
       "      <td>0</td>\n",
       "      <td>29.685360</td>\n",
       "      <td>21.727171</td>\n",
       "      <td>1.360221</td>\n",
       "      <td>1.191879</td>\n",
       "      <td>33.216167</td>\n",
       "      <td>0.0</td>\n",
       "      <td>2.958199</td>\n",
       "      <td>0.524153</td>\n",
       "      <td>0.0</td>\n",
       "    </tr>\n",
       "    <tr>\n",
       "      <th>1</th>\n",
       "      <td>2020</td>\n",
       "      <td>1</td>\n",
       "      <td>1</td>\n",
       "      <td>0</td>\n",
       "      <td>5</td>\n",
       "      <td>29.559967</td>\n",
       "      <td>21.878902</td>\n",
       "      <td>1.532208</td>\n",
       "      <td>1.460944</td>\n",
       "      <td>33.254341</td>\n",
       "      <td>0.0</td>\n",
       "      <td>3.288470</td>\n",
       "      <td>0.764565</td>\n",
       "      <td>0.0</td>\n",
       "    </tr>\n",
       "    <tr>\n",
       "      <th>2</th>\n",
       "      <td>2020</td>\n",
       "      <td>1</td>\n",
       "      <td>1</td>\n",
       "      <td>0</td>\n",
       "      <td>10</td>\n",
       "      <td>29.530006</td>\n",
       "      <td>21.859453</td>\n",
       "      <td>1.186835</td>\n",
       "      <td>1.118219</td>\n",
       "      <td>33.302616</td>\n",
       "      <td>0.0</td>\n",
       "      <td>3.253541</td>\n",
       "      <td>0.725652</td>\n",
       "      <td>0.0</td>\n",
       "    </tr>\n",
       "    <tr>\n",
       "      <th>3</th>\n",
       "      <td>2020</td>\n",
       "      <td>1</td>\n",
       "      <td>1</td>\n",
       "      <td>0</td>\n",
       "      <td>15</td>\n",
       "      <td>29.474438</td>\n",
       "      <td>21.897285</td>\n",
       "      <td>1.017349</td>\n",
       "      <td>0.824890</td>\n",
       "      <td>33.337837</td>\n",
       "      <td>0.0</td>\n",
       "      <td>3.260514</td>\n",
       "      <td>0.706365</td>\n",
       "      <td>0.0</td>\n",
       "    </tr>\n",
       "    <tr>\n",
       "      <th>4</th>\n",
       "      <td>2020</td>\n",
       "      <td>1</td>\n",
       "      <td>1</td>\n",
       "      <td>0</td>\n",
       "      <td>20</td>\n",
       "      <td>29.365288</td>\n",
       "      <td>22.085625</td>\n",
       "      <td>1.323369</td>\n",
       "      <td>1.175776</td>\n",
       "      <td>33.375069</td>\n",
       "      <td>0.0</td>\n",
       "      <td>3.148183</td>\n",
       "      <td>0.694154</td>\n",
       "      <td>0.0</td>\n",
       "    </tr>\n",
       "  </tbody>\n",
       "</table>\n",
       "</div>"
      ],
      "text/plain": [
       "   Year  Month  Day  Hour  Minutes        WTC        WRH       GHR       DHR  \\\n",
       "0  2020      1    1     0        0  29.685360  21.727171  1.360221  1.191879   \n",
       "1  2020      1    1     0        5  29.559967  21.878902  1.532208  1.460944   \n",
       "2  2020      1    1     0       10  29.530006  21.859453  1.186835  1.118219   \n",
       "3  2020      1    1     0       15  29.474438  21.897285  1.017349  0.824890   \n",
       "4  2020      1    1     0       20  29.365288  22.085625  1.323369  1.175776   \n",
       "\n",
       "          WD  WDR       RGT       RDT  1A Trina_power  \n",
       "0  33.216167  0.0  2.958199  0.524153             0.0  \n",
       "1  33.254341  0.0  3.288470  0.764565             0.0  \n",
       "2  33.302616  0.0  3.253541  0.725652             0.0  \n",
       "3  33.337837  0.0  3.260514  0.706365             0.0  \n",
       "4  33.375069  0.0  3.148183  0.694154             0.0  "
      ]
     },
     "execution_count": 10,
     "metadata": {},
     "output_type": "execute_result"
    }
   ],
   "source": [
    "test.head(5)"
   ]
  },
  {
   "cell_type": "markdown",
   "metadata": {},
   "source": [
    "# 数据预处理训练集去异常值"
   ]
  },
  {
   "cell_type": "code",
   "execution_count": 11,
   "metadata": {},
   "outputs": [
    {
     "data": {
      "text/plain": [
       "Year              0\n",
       "Month             0\n",
       "Day               0\n",
       "Hour              0\n",
       "Minutes           0\n",
       "WTC               0\n",
       "WRH               0\n",
       "GHR               0\n",
       "DHR               0\n",
       "WD                0\n",
       "WDR               0\n",
       "RGT               0\n",
       "RDT               0\n",
       "1A Trina_power    0\n",
       "dtype: int64"
      ]
     },
     "execution_count": 11,
     "metadata": {},
     "output_type": "execute_result"
    }
   ],
   "source": [
    "#使用df.isnull().sum()来获得与行数None和NaN值。\n",
    "train.isnull().sum()"
   ]
  },
  {
   "cell_type": "code",
   "execution_count": 12,
   "metadata": {},
   "outputs": [
    {
     "data": {
      "text/plain": [
       "Year              0\n",
       "Month             0\n",
       "Day               0\n",
       "Hour              0\n",
       "Minutes           0\n",
       "WTC               0\n",
       "WRH               0\n",
       "GHR               0\n",
       "DHR               0\n",
       "WD                0\n",
       "WDR               0\n",
       "RGT               0\n",
       "RDT               0\n",
       "1A Trina_power    0\n",
       "dtype: int64"
      ]
     },
     "execution_count": 12,
     "metadata": {},
     "output_type": "execute_result"
    }
   ],
   "source": [
    "test.isnull().sum()"
   ]
  },
  {
   "cell_type": "code",
   "execution_count": 13,
   "metadata": {},
   "outputs": [],
   "source": [
    "# #训练集去掉全是空值的行和列    #axis=0, how='any', thresh=None, subset=None, inplace=False)\n",
    "# # detectioncolumns=['WTC', 'WRH', 'GHR', 'DHR', 'WD', 'WDR', 'RGT', 'RDT']\n",
    "# # for i in detectioncolumns:\n",
    "# train.dropna(axis=\"index\",how='any' , inplace=True)  #删除掉全是空值的行\n",
    "# # train.dropna(axis=\"columns\", how='all', inplace=True)  #删除掉全是空值的列\n",
    "\n",
    "\n",
    "# test.dropna(axis=\"index\", how='any', inplace=True)  #删除掉全是空值的行\n",
    "# # test.dropna(axis=\"columns\", how='all', inplace=True)  #删除掉全是空值的列"
   ]
  },
  {
   "cell_type": "code",
   "execution_count": 14,
   "metadata": {},
   "outputs": [],
   "source": [
    "# #填补缺失值为均值\n",
    "# #train.ffill({\"RGT\":train['RGT'].mean()})\n",
    "# detectioncolumns=['WTC', 'WRH', 'GHR', 'DHR', 'WD', 'WDR', 'RGT', 'RDT']\n",
    "# for i in detectioncolumns:\n",
    "#     replace_NA=train[i].mean()\n",
    "#     train[i].fillna(replace_NA,inplace=True)\n",
    "# #去除测试集空值\n",
    "# for i in detectioncolumns:\n",
    "#     replace_NA=test[i].mean()\n",
    "#     test[i].fillna(replace_NA,inplace=True)\n"
   ]
  },
  {
   "cell_type": "code",
   "execution_count": 15,
   "metadata": {},
   "outputs": [
    {
     "data": {
      "text/plain": [
       "Index(['Year', 'Month', 'Day', 'Hour', 'Minutes', 'WTC', 'WRH', 'GHR', 'DHR',\n",
       "       'WD', 'WDR', 'RGT', 'RDT', '1A Trina_power'],\n",
       "      dtype='object')"
      ]
     },
     "execution_count": 15,
     "metadata": {},
     "output_type": "execute_result"
    }
   ],
   "source": [
    "train.columns"
   ]
  },
  {
   "cell_type": "code",
   "execution_count": 16,
   "metadata": {},
   "outputs": [
    {
     "data": {
      "text/plain": [
       "Index(['Year', 'Month', 'Day', 'Hour', 'Minutes', 'WTC', 'WRH', 'GHR', 'DHR',\n",
       "       'WD', 'WDR', 'RGT', 'RDT', '1A Trina_power'],\n",
       "      dtype='object')"
      ]
     },
     "execution_count": 16,
     "metadata": {},
     "output_type": "execute_result"
    }
   ],
   "source": [
    "test.columns"
   ]
  },
  {
   "cell_type": "code",
   "execution_count": 17,
   "metadata": {},
   "outputs": [
    {
     "data": {
      "text/html": [
       "<div>\n",
       "<style scoped>\n",
       "    .dataframe tbody tr th:only-of-type {\n",
       "        vertical-align: middle;\n",
       "    }\n",
       "\n",
       "    .dataframe tbody tr th {\n",
       "        vertical-align: top;\n",
       "    }\n",
       "\n",
       "    .dataframe thead th {\n",
       "        text-align: right;\n",
       "    }\n",
       "</style>\n",
       "<table border=\"1\" class=\"dataframe\">\n",
       "  <thead>\n",
       "    <tr style=\"text-align: right;\">\n",
       "      <th></th>\n",
       "      <th>Year</th>\n",
       "      <th>Month</th>\n",
       "      <th>Day</th>\n",
       "      <th>Hour</th>\n",
       "      <th>Minutes</th>\n",
       "      <th>WTC</th>\n",
       "      <th>WRH</th>\n",
       "      <th>GHR</th>\n",
       "      <th>DHR</th>\n",
       "      <th>WD</th>\n",
       "      <th>WDR</th>\n",
       "      <th>RGT</th>\n",
       "      <th>RDT</th>\n",
       "      <th>1A Trina_power</th>\n",
       "    </tr>\n",
       "  </thead>\n",
       "  <tbody>\n",
       "    <tr>\n",
       "      <th>0</th>\n",
       "      <td>2018</td>\n",
       "      <td>1</td>\n",
       "      <td>19</td>\n",
       "      <td>18</td>\n",
       "      <td>30</td>\n",
       "      <td>26.243799</td>\n",
       "      <td>50.889774</td>\n",
       "      <td>71.416481</td>\n",
       "      <td>67.523544</td>\n",
       "      <td>302.882996</td>\n",
       "      <td>3.6</td>\n",
       "      <td>65.268631</td>\n",
       "      <td>59.278999</td>\n",
       "      <td>0.318600</td>\n",
       "    </tr>\n",
       "    <tr>\n",
       "      <th>1</th>\n",
       "      <td>2018</td>\n",
       "      <td>1</td>\n",
       "      <td>19</td>\n",
       "      <td>18</td>\n",
       "      <td>35</td>\n",
       "      <td>26.641783</td>\n",
       "      <td>49.539795</td>\n",
       "      <td>77.177094</td>\n",
       "      <td>71.776718</td>\n",
       "      <td>246.312622</td>\n",
       "      <td>3.6</td>\n",
       "      <td>72.546944</td>\n",
       "      <td>63.134579</td>\n",
       "      <td>0.328800</td>\n",
       "    </tr>\n",
       "    <tr>\n",
       "      <th>2</th>\n",
       "      <td>2018</td>\n",
       "      <td>1</td>\n",
       "      <td>19</td>\n",
       "      <td>18</td>\n",
       "      <td>40</td>\n",
       "      <td>26.654078</td>\n",
       "      <td>53.414265</td>\n",
       "      <td>78.373489</td>\n",
       "      <td>69.008316</td>\n",
       "      <td>305.089630</td>\n",
       "      <td>3.6</td>\n",
       "      <td>76.711456</td>\n",
       "      <td>65.430550</td>\n",
       "      <td>0.334200</td>\n",
       "    </tr>\n",
       "    <tr>\n",
       "      <th>3</th>\n",
       "      <td>2018</td>\n",
       "      <td>1</td>\n",
       "      <td>19</td>\n",
       "      <td>18</td>\n",
       "      <td>45</td>\n",
       "      <td>26.439108</td>\n",
       "      <td>55.582245</td>\n",
       "      <td>78.022881</td>\n",
       "      <td>67.560181</td>\n",
       "      <td>259.662933</td>\n",
       "      <td>3.6</td>\n",
       "      <td>80.445709</td>\n",
       "      <td>66.812790</td>\n",
       "      <td>0.333133</td>\n",
       "    </tr>\n",
       "    <tr>\n",
       "      <th>4</th>\n",
       "      <td>2018</td>\n",
       "      <td>1</td>\n",
       "      <td>19</td>\n",
       "      <td>18</td>\n",
       "      <td>50</td>\n",
       "      <td>26.479477</td>\n",
       "      <td>56.173820</td>\n",
       "      <td>82.106972</td>\n",
       "      <td>73.004196</td>\n",
       "      <td>186.634705</td>\n",
       "      <td>3.6</td>\n",
       "      <td>83.035919</td>\n",
       "      <td>69.054459</td>\n",
       "      <td>0.332400</td>\n",
       "    </tr>\n",
       "  </tbody>\n",
       "</table>\n",
       "</div>"
      ],
      "text/plain": [
       "   Year  Month  Day  Hour  Minutes        WTC        WRH        GHR  \\\n",
       "0  2018      1   19    18       30  26.243799  50.889774  71.416481   \n",
       "1  2018      1   19    18       35  26.641783  49.539795  77.177094   \n",
       "2  2018      1   19    18       40  26.654078  53.414265  78.373489   \n",
       "3  2018      1   19    18       45  26.439108  55.582245  78.022881   \n",
       "4  2018      1   19    18       50  26.479477  56.173820  82.106972   \n",
       "\n",
       "         DHR          WD  WDR        RGT        RDT  1A Trina_power  \n",
       "0  67.523544  302.882996  3.6  65.268631  59.278999        0.318600  \n",
       "1  71.776718  246.312622  3.6  72.546944  63.134579        0.328800  \n",
       "2  69.008316  305.089630  3.6  76.711456  65.430550        0.334200  \n",
       "3  67.560181  259.662933  3.6  80.445709  66.812790        0.333133  \n",
       "4  73.004196  186.634705  3.6  83.035919  69.054459        0.332400  "
      ]
     },
     "execution_count": 17,
     "metadata": {},
     "output_type": "execute_result"
    }
   ],
   "source": [
    "train.head()"
   ]
  },
  {
   "cell_type": "code",
   "execution_count": 18,
   "metadata": {},
   "outputs": [
    {
     "data": {
      "text/html": [
       "<div>\n",
       "<style scoped>\n",
       "    .dataframe tbody tr th:only-of-type {\n",
       "        vertical-align: middle;\n",
       "    }\n",
       "\n",
       "    .dataframe tbody tr th {\n",
       "        vertical-align: top;\n",
       "    }\n",
       "\n",
       "    .dataframe thead th {\n",
       "        text-align: right;\n",
       "    }\n",
       "</style>\n",
       "<table border=\"1\" class=\"dataframe\">\n",
       "  <thead>\n",
       "    <tr style=\"text-align: right;\">\n",
       "      <th></th>\n",
       "      <th>Year</th>\n",
       "      <th>Month</th>\n",
       "      <th>Day</th>\n",
       "      <th>Hour</th>\n",
       "      <th>Minutes</th>\n",
       "      <th>WTC</th>\n",
       "      <th>WRH</th>\n",
       "      <th>GHR</th>\n",
       "      <th>DHR</th>\n",
       "      <th>WD</th>\n",
       "      <th>WDR</th>\n",
       "      <th>RGT</th>\n",
       "      <th>RDT</th>\n",
       "      <th>1A Trina_power</th>\n",
       "    </tr>\n",
       "  </thead>\n",
       "  <tbody>\n",
       "    <tr>\n",
       "      <th>0</th>\n",
       "      <td>2020</td>\n",
       "      <td>1</td>\n",
       "      <td>1</td>\n",
       "      <td>0</td>\n",
       "      <td>0</td>\n",
       "      <td>29.685360</td>\n",
       "      <td>21.727171</td>\n",
       "      <td>1.360221</td>\n",
       "      <td>1.191879</td>\n",
       "      <td>33.216167</td>\n",
       "      <td>0.0</td>\n",
       "      <td>2.958199</td>\n",
       "      <td>0.524153</td>\n",
       "      <td>0.0</td>\n",
       "    </tr>\n",
       "    <tr>\n",
       "      <th>1</th>\n",
       "      <td>2020</td>\n",
       "      <td>1</td>\n",
       "      <td>1</td>\n",
       "      <td>0</td>\n",
       "      <td>5</td>\n",
       "      <td>29.559967</td>\n",
       "      <td>21.878902</td>\n",
       "      <td>1.532208</td>\n",
       "      <td>1.460944</td>\n",
       "      <td>33.254341</td>\n",
       "      <td>0.0</td>\n",
       "      <td>3.288470</td>\n",
       "      <td>0.764565</td>\n",
       "      <td>0.0</td>\n",
       "    </tr>\n",
       "    <tr>\n",
       "      <th>2</th>\n",
       "      <td>2020</td>\n",
       "      <td>1</td>\n",
       "      <td>1</td>\n",
       "      <td>0</td>\n",
       "      <td>10</td>\n",
       "      <td>29.530006</td>\n",
       "      <td>21.859453</td>\n",
       "      <td>1.186835</td>\n",
       "      <td>1.118219</td>\n",
       "      <td>33.302616</td>\n",
       "      <td>0.0</td>\n",
       "      <td>3.253541</td>\n",
       "      <td>0.725652</td>\n",
       "      <td>0.0</td>\n",
       "    </tr>\n",
       "    <tr>\n",
       "      <th>3</th>\n",
       "      <td>2020</td>\n",
       "      <td>1</td>\n",
       "      <td>1</td>\n",
       "      <td>0</td>\n",
       "      <td>15</td>\n",
       "      <td>29.474438</td>\n",
       "      <td>21.897285</td>\n",
       "      <td>1.017349</td>\n",
       "      <td>0.824890</td>\n",
       "      <td>33.337837</td>\n",
       "      <td>0.0</td>\n",
       "      <td>3.260514</td>\n",
       "      <td>0.706365</td>\n",
       "      <td>0.0</td>\n",
       "    </tr>\n",
       "    <tr>\n",
       "      <th>4</th>\n",
       "      <td>2020</td>\n",
       "      <td>1</td>\n",
       "      <td>1</td>\n",
       "      <td>0</td>\n",
       "      <td>20</td>\n",
       "      <td>29.365288</td>\n",
       "      <td>22.085625</td>\n",
       "      <td>1.323369</td>\n",
       "      <td>1.175776</td>\n",
       "      <td>33.375069</td>\n",
       "      <td>0.0</td>\n",
       "      <td>3.148183</td>\n",
       "      <td>0.694154</td>\n",
       "      <td>0.0</td>\n",
       "    </tr>\n",
       "  </tbody>\n",
       "</table>\n",
       "</div>"
      ],
      "text/plain": [
       "   Year  Month  Day  Hour  Minutes        WTC        WRH       GHR       DHR  \\\n",
       "0  2020      1    1     0        0  29.685360  21.727171  1.360221  1.191879   \n",
       "1  2020      1    1     0        5  29.559967  21.878902  1.532208  1.460944   \n",
       "2  2020      1    1     0       10  29.530006  21.859453  1.186835  1.118219   \n",
       "3  2020      1    1     0       15  29.474438  21.897285  1.017349  0.824890   \n",
       "4  2020      1    1     0       20  29.365288  22.085625  1.323369  1.175776   \n",
       "\n",
       "          WD  WDR       RGT       RDT  1A Trina_power  \n",
       "0  33.216167  0.0  2.958199  0.524153             0.0  \n",
       "1  33.254341  0.0  3.288470  0.764565             0.0  \n",
       "2  33.302616  0.0  3.253541  0.725652             0.0  \n",
       "3  33.337837  0.0  3.260514  0.706365             0.0  \n",
       "4  33.375069  0.0  3.148183  0.694154             0.0  "
      ]
     },
     "execution_count": 18,
     "metadata": {},
     "output_type": "execute_result"
    }
   ],
   "source": [
    "test.head()"
   ]
  },
  {
   "cell_type": "markdown",
   "metadata": {},
   "source": [
    "# keras模型训练"
   ]
  },
  {
   "cell_type": "markdown",
   "metadata": {},
   "source": [
    "准备数据"
   ]
  },
  {
   "cell_type": "code",
   "execution_count": 19,
   "metadata": {
    "scrolled": true
   },
   "outputs": [
    {
     "name": "stdout",
     "output_type": "stream",
     "text": [
      "查看训练集\n",
      "    Year  Month  Day  Hour  Minutes        WTC        WRH        GHR  \\\n",
      "0  2018      1   19    18       30  26.243799  50.889774  71.416481   \n",
      "1  2018      1   19    18       35  26.641783  49.539795  77.177094   \n",
      "2  2018      1   19    18       40  26.654078  53.414265  78.373489   \n",
      "3  2018      1   19    18       45  26.439108  55.582245  78.022881   \n",
      "4  2018      1   19    18       50  26.479477  56.173820  82.106972   \n",
      "\n",
      "         DHR          WD  WDR        RGT        RDT  1A Trina_power  \n",
      "0  67.523544  302.882996  3.6  65.268631  59.278999        0.318600  \n",
      "1  71.776718  246.312622  3.6  72.546944  63.134579        0.328800  \n",
      "2  69.008316  305.089630  3.6  76.711456  65.430550        0.334200  \n",
      "3  67.560181  259.662933  3.6  80.445709  66.812790        0.333133  \n",
      "4  73.004196  186.634705  3.6  83.035919  69.054459        0.332400  \n",
      "查看测试集\n",
      "    Year  Month  Day  Hour  Minutes        WTC        WRH       GHR       DHR  \\\n",
      "0  2020      1    1     0        0  29.685360  21.727171  1.360221  1.191879   \n",
      "1  2020      1    1     0        5  29.559967  21.878902  1.532208  1.460944   \n",
      "2  2020      1    1     0       10  29.530006  21.859453  1.186835  1.118219   \n",
      "3  2020      1    1     0       15  29.474438  21.897285  1.017349  0.824890   \n",
      "4  2020      1    1     0       20  29.365288  22.085625  1.323369  1.175776   \n",
      "\n",
      "          WD  WDR       RGT       RDT  1A Trina_power  \n",
      "0  33.216167  0.0  2.958199  0.524153             0.0  \n",
      "1  33.254341  0.0  3.288470  0.764565             0.0  \n",
      "2  33.302616  0.0  3.253541  0.725652             0.0  \n",
      "3  33.337837  0.0  3.260514  0.706365             0.0  \n",
      "4  33.375069  0.0  3.148183  0.694154             0.0  \n"
     ]
    }
   ],
   "source": [
    "train1=train[['Year','Month','Day', 'Hour',\n",
    "       'Minutes','WTC', 'WRH', 'GHR', 'DHR', 'WD', 'WDR', 'RGT', 'RDT', '1A Trina_power']]\n",
    "print(\"查看训练集\\n\",train1.head())\n",
    "test1=test[['Year','Month','Day', 'Hour',\n",
    "       'Minutes','WTC', 'WRH', 'GHR', 'DHR', 'WD', 'WDR', 'RGT', 'RDT', '1A Trina_power']]\n",
    "print(\"查看测试集\\n\",test.head())"
   ]
  },
  {
   "cell_type": "markdown",
   "metadata": {},
   "source": [
    "归一化数据"
   ]
  },
  {
   "cell_type": "code",
   "execution_count": 20,
   "metadata": {},
   "outputs": [],
   "source": [
    "train1 = train1.values\n",
    "train1 = train1.astype('float32')     # 将整型变为float\n",
    "scaler = MinMaxScaler(feature_range=(0, 1)) # 数据处理，归一化至0~1之间\n",
    "train1 = scaler.fit_transform(train1)\n",
    "\n",
    "test1 = test1.values\n",
    "test1 = test1.astype('float32')     # 将整型变为float\n",
    "scaler = MinMaxScaler(feature_range=(0, 1)) # 数据处理，归一化至0~1之间\n",
    "test1 = scaler.fit_transform(test1)\n",
    "\n",
    "inds = np.arange(train1.shape[0])\n",
    "random.shuffle(inds)\n",
    "train1_inds = inds[0:int(train1.shape[0]*0.8)]\n",
    "eval1_inds = inds[int(train1.shape[0]*0.8):train1.shape[0]]\n",
    "\n",
    "train_x, train_y = train1[train1_inds,1:-1], train1[train1_inds,-1:]\n",
    "#############\n",
    "train_year =train1[train1_inds,0:1]\n",
    "##############\n",
    "eval_x,eval_y = train1[eval1_inds,1:-1], train1[eval1_inds,-1:]\n",
    "test_x, test_y = test1[:,1:-1], test1[:,-1:]\n",
    "##############\n",
    "test_year = test1[:,0:1]\n",
    "##############\n",
    "\n",
    "# # 划分训练集和测试集\n",
    "# train_size = int(len(dataset) * 0.67)\n",
    "# test_size = len(dataset) - train_size\n",
    "# train, test = dataset[0:train_size,:], dataset[train_size:len(dataset),:]\n",
    "# # 创建测试集和训练集\n",
    "# look_back = 1\n",
    "# trainX, trainY = create_dataset(train,0)           #单步预测\n",
    "# testX, testY = create_dataset(test,0)\n",
    "    \n",
    "# # 调整输入数据的格式\n",
    "# trainX = numpy.reshape(trainX, (trainX.shape[0], look_back, trainX.shape[1]))       #（样本个数，1，输入的维度）\n",
    "# testX = numpy.reshape(testX, (testX.shape[0], look_back, testX.shape[1]))"
   ]
  },
  {
   "cell_type": "code",
   "execution_count": 21,
   "metadata": {
    "scrolled": true
   },
   "outputs": [
    {
     "name": "stdout",
     "output_type": "stream",
     "text": [
      "[[0.         0.         0.6        ... 0.05082968 0.20160824 0.03996861]\n",
      " [0.         0.         0.6        ... 0.05650019 0.21471684 0.0411343 ]\n",
      " [0.         0.         0.6        ... 0.05974475 0.22252293 0.04175143]\n",
      " ...\n",
      " [1.         1.         1.0000001  ... 0.00221545 0.00174257 0.00355801]\n",
      " [1.         1.         1.0000001  ... 0.00198068 0.00122578 0.00355801]\n",
      " [1.         1.         1.0000001  ... 0.00217768 0.00139605 0.00355801]]\n"
     ]
    }
   ],
   "source": [
    "print(train1)"
   ]
  },
  {
   "cell_type": "code",
   "execution_count": 22,
   "metadata": {},
   "outputs": [
    {
     "name": "stdout",
     "output_type": "stream",
     "text": [
      "[[0.18181819 0.43333337 0.826087   ... 0.         0.00284233 0.00543545]\n",
      " [0.36363637 0.53333336 0.43478262 ... 0.         0.59828717 0.2385126 ]\n",
      " [0.27272728 0.8        0.39130434 ... 0.         0.48521146 0.20339559]\n",
      " ...\n",
      " [0.         0.90000004 0.04347826 ... 0.         0.00228576 0.00131368]\n",
      " [0.45454547 0.13333334 0.65217394 ... 0.         0.4598958  0.6672075 ]\n",
      " [0.9090909  0.26666668 0.         ... 0.         0.00242516 0.00694848]]\n"
     ]
    }
   ],
   "source": [
    "print(train_x)"
   ]
  },
  {
   "cell_type": "code",
   "execution_count": 23,
   "metadata": {},
   "outputs": [
    {
     "name": "stdout",
     "output_type": "stream",
     "text": [
      "[[0.00355801]\n",
      " [0.47693777]\n",
      " [0.6652573 ]\n",
      " ...\n",
      " [0.00355801]\n",
      " [0.4221999 ]\n",
      " [0.00355801]]\n"
     ]
    }
   ],
   "source": [
    "print(train_y)"
   ]
  },
  {
   "cell_type": "code",
   "execution_count": 24,
   "metadata": {},
   "outputs": [
    {
     "name": "stdout",
     "output_type": "stream",
     "text": [
      "[[1.]\n",
      " [0.]\n",
      " [1.]\n",
      " ...\n",
      " [1.]\n",
      " [0.]\n",
      " [1.]]\n"
     ]
    }
   ],
   "source": [
    "print(train_year)"
   ]
  },
  {
   "cell_type": "code",
   "execution_count": 25,
   "metadata": {},
   "outputs": [
    {
     "name": "stdout",
     "output_type": "stream",
     "text": [
      "(113142, 12)\n",
      "(113142, 1)\n",
      "[[1.]\n",
      " [0.]\n",
      " [1.]\n",
      " ...\n",
      " [1.]\n",
      " [0.]\n",
      " [1.]]\n",
      "(26091, 12)\n",
      "(26091, 1)\n"
     ]
    }
   ],
   "source": [
    "print(train_x.shape)\n",
    "print(train_y.shape)\n",
    "\n",
    "print(train_year)\n",
    "\n",
    "print(test_x.shape)\n",
    "print(test_y.shape)"
   ]
  },
  {
   "cell_type": "markdown",
   "metadata": {},
   "source": [
    "# Model1"
   ]
  },
  {
   "cell_type": "code",
   "execution_count": 26,
   "metadata": {},
   "outputs": [
    {
     "name": "stdout",
     "output_type": "stream",
     "text": [
      "Train on 113142 samples, validate on 28286 samples\n",
      "Epoch 1/50\n",
      "113142/113142 [==============================] - 2s - loss: 0.0374 - mean_absolute_error: 0.1513 - val_loss: 0.0173 - val_mean_absolute_error: 0.0945\n",
      "Epoch 2/50\n",
      "113142/113142 [==============================] - 1s - loss: 0.0149 - mean_absolute_error: 0.0914 - val_loss: 0.0139 - val_mean_absolute_error: 0.0802\n",
      "Epoch 3/50\n",
      "113142/113142 [==============================] - 1s - loss: 0.0136 - mean_absolute_error: 0.0865 - val_loss: 0.0144 - val_mean_absolute_error: 0.0853\n",
      "Epoch 4/50\n",
      "113142/113142 [==============================] - 1s - loss: 0.0131 - mean_absolute_error: 0.0837 - val_loss: 0.0135 - val_mean_absolute_error: 0.0805\n",
      "Epoch 5/50\n",
      "113142/113142 [==============================] - 1s - loss: 0.0126 - mean_absolute_error: 0.0813 - val_loss: 0.0134 - val_mean_absolute_error: 0.0916\n",
      "Epoch 6/50\n",
      "113142/113142 [==============================] - 1s - loss: 0.0122 - mean_absolute_error: 0.0797 - val_loss: 0.0112 - val_mean_absolute_error: 0.0700\n",
      "Epoch 7/50\n",
      "113142/113142 [==============================] - 1s - loss: 0.0119 - mean_absolute_error: 0.0779 - val_loss: 0.0121 - val_mean_absolute_error: 0.0863\n",
      "Epoch 8/50\n",
      "113142/113142 [==============================] - 1s - loss: 0.0116 - mean_absolute_error: 0.0770 - val_loss: 0.0151 - val_mean_absolute_error: 0.0911\n",
      "Epoch 9/50\n",
      "113142/113142 [==============================] - 1s - loss: 0.0113 - mean_absolute_error: 0.0759 - val_loss: 0.0125 - val_mean_absolute_error: 0.0797\n",
      "Epoch 10/50\n",
      "113142/113142 [==============================] - 1s - loss: 0.0109 - mean_absolute_error: 0.0744 - val_loss: 0.0110 - val_mean_absolute_error: 0.0712\n",
      "Epoch 11/50\n",
      "113142/113142 [==============================] - 1s - loss: 0.0108 - mean_absolute_error: 0.0742 - val_loss: 0.0099 - val_mean_absolute_error: 0.0674\n",
      "Epoch 12/50\n",
      "113142/113142 [==============================] - 1s - loss: 0.0105 - mean_absolute_error: 0.0727 - val_loss: 0.0119 - val_mean_absolute_error: 0.0793\n",
      "Epoch 13/50\n",
      "113142/113142 [==============================] - 1s - loss: 0.0103 - mean_absolute_error: 0.0727 - val_loss: 0.0108 - val_mean_absolute_error: 0.0716\n",
      "Epoch 14/50\n",
      "113142/113142 [==============================] - 1s - loss: 0.0101 - mean_absolute_error: 0.0713 - val_loss: 0.0100 - val_mean_absolute_error: 0.0746\n",
      "Epoch 15/50\n",
      "113142/113142 [==============================] - 1s - loss: 0.0099 - mean_absolute_error: 0.0706 - val_loss: 0.0096 - val_mean_absolute_error: 0.0683\n",
      "Epoch 16/50\n",
      "113142/113142 [==============================] - 1s - loss: 0.0098 - mean_absolute_error: 0.0700 - val_loss: 0.0094 - val_mean_absolute_error: 0.0619\n",
      "Epoch 17/50\n",
      "113142/113142 [==============================] - 1s - loss: 0.0096 - mean_absolute_error: 0.0688 - val_loss: 0.0096 - val_mean_absolute_error: 0.0704\n",
      "Epoch 18/50\n",
      "113142/113142 [==============================] - 1s - loss: 0.0095 - mean_absolute_error: 0.0676 - val_loss: 0.0089 - val_mean_absolute_error: 0.0646\n",
      "Epoch 19/50\n",
      "113142/113142 [==============================] - 1s - loss: 0.0093 - mean_absolute_error: 0.0674 - val_loss: 0.0099 - val_mean_absolute_error: 0.0747\n",
      "Epoch 20/50\n",
      "113142/113142 [==============================] - 1s - loss: 0.0092 - mean_absolute_error: 0.0670 - val_loss: 0.0111 - val_mean_absolute_error: 0.0803\n",
      "Epoch 21/50\n",
      "113142/113142 [==============================] - 1s - loss: 0.0091 - mean_absolute_error: 0.0666 - val_loss: 0.0085 - val_mean_absolute_error: 0.0587\n",
      "Epoch 22/50\n",
      "113142/113142 [==============================] - 1s - loss: 0.0090 - mean_absolute_error: 0.0654 - val_loss: 0.0089 - val_mean_absolute_error: 0.0621\n",
      "Epoch 23/50\n",
      "113142/113142 [==============================] - 1s - loss: 0.0089 - mean_absolute_error: 0.0652 - val_loss: 0.0096 - val_mean_absolute_error: 0.0682\n",
      "Epoch 24/50\n",
      "113142/113142 [==============================] - 1s - loss: 0.0088 - mean_absolute_error: 0.0644 - val_loss: 0.0088 - val_mean_absolute_error: 0.0586\n",
      "Epoch 25/50\n",
      "113142/113142 [==============================] - 1s - loss: 0.0087 - mean_absolute_error: 0.0636 - val_loss: 0.0089 - val_mean_absolute_error: 0.0706\n",
      "Epoch 26/50\n",
      "113142/113142 [==============================] - 1s - loss: 0.0086 - mean_absolute_error: 0.0637 - val_loss: 0.0086 - val_mean_absolute_error: 0.0570\n",
      "Epoch 27/50\n",
      "113142/113142 [==============================] - 1s - loss: 0.0085 - mean_absolute_error: 0.0628 - val_loss: 0.0108 - val_mean_absolute_error: 0.0795\n",
      "Epoch 28/50\n",
      "113142/113142 [==============================] - 1s - loss: 0.0085 - mean_absolute_error: 0.0625 - val_loss: 0.0082 - val_mean_absolute_error: 0.0621\n",
      "Epoch 29/50\n",
      "113142/113142 [==============================] - 1s - loss: 0.0084 - mean_absolute_error: 0.0622 - val_loss: 0.0092 - val_mean_absolute_error: 0.0676\n",
      "Epoch 30/50\n",
      "113142/113142 [==============================] - 1s - loss: 0.0083 - mean_absolute_error: 0.0609 - val_loss: 0.0082 - val_mean_absolute_error: 0.0546\n",
      "Epoch 31/50\n",
      "113142/113142 [==============================] - 1s - loss: 0.0083 - mean_absolute_error: 0.0617 - val_loss: 0.0080 - val_mean_absolute_error: 0.0602\n",
      "Epoch 32/50\n",
      "113142/113142 [==============================] - 1s - loss: 0.0082 - mean_absolute_error: 0.0609 - val_loss: 0.0083 - val_mean_absolute_error: 0.0632\n",
      "Epoch 33/50\n",
      "113142/113142 [==============================] - 1s - loss: 0.0081 - mean_absolute_error: 0.0607 - val_loss: 0.0082 - val_mean_absolute_error: 0.0632\n",
      "Epoch 34/50\n",
      "113142/113142 [==============================] - 1s - loss: 0.0081 - mean_absolute_error: 0.0593 - val_loss: 0.0099 - val_mean_absolute_error: 0.0771\n",
      "Epoch 35/50\n",
      "113142/113142 [==============================] - 1s - loss: 0.0080 - mean_absolute_error: 0.0592 - val_loss: 0.0079 - val_mean_absolute_error: 0.0598\n",
      "Epoch 36/50\n",
      "113142/113142 [==============================] - 1s - loss: 0.0080 - mean_absolute_error: 0.0590 - val_loss: 0.0077 - val_mean_absolute_error: 0.0552\n",
      "Epoch 37/50\n",
      "113142/113142 [==============================] - 1s - loss: 0.0079 - mean_absolute_error: 0.0585 - val_loss: 0.0088 - val_mean_absolute_error: 0.0683\n",
      "Epoch 38/50\n",
      "113142/113142 [==============================] - 1s - loss: 0.0079 - mean_absolute_error: 0.0583 - val_loss: 0.0095 - val_mean_absolute_error: 0.0704\n",
      "Epoch 39/50\n",
      "113142/113142 [==============================] - 1s - loss: 0.0078 - mean_absolute_error: 0.0584 - val_loss: 0.0076 - val_mean_absolute_error: 0.0563\n",
      "Epoch 40/50\n",
      "113142/113142 [==============================] - 1s - loss: 0.0078 - mean_absolute_error: 0.0577 - val_loss: 0.0081 - val_mean_absolute_error: 0.0534\n",
      "Epoch 41/50\n",
      "113142/113142 [==============================] - 1s - loss: 0.0078 - mean_absolute_error: 0.0572 - val_loss: 0.0080 - val_mean_absolute_error: 0.0578\n",
      "Epoch 42/50\n",
      "113142/113142 [==============================] - 1s - loss: 0.0077 - mean_absolute_error: 0.0565 - val_loss: 0.0074 - val_mean_absolute_error: 0.0490\n",
      "Epoch 43/50\n",
      "113142/113142 [==============================] - 1s - loss: 0.0076 - mean_absolute_error: 0.0559 - val_loss: 0.0082 - val_mean_absolute_error: 0.0632\n",
      "Epoch 44/50\n",
      "113142/113142 [==============================] - 1s - loss: 0.0077 - mean_absolute_error: 0.0564 - val_loss: 0.0075 - val_mean_absolute_error: 0.0572\n",
      "Epoch 45/50\n",
      "113142/113142 [==============================] - 1s - loss: 0.0076 - mean_absolute_error: 0.0568 - val_loss: 0.0080 - val_mean_absolute_error: 0.0649\n",
      "Epoch 46/50\n",
      "113142/113142 [==============================] - 1s - loss: 0.0076 - mean_absolute_error: 0.0566 - val_loss: 0.0080 - val_mean_absolute_error: 0.0584\n",
      "Epoch 47/50\n",
      "113142/113142 [==============================] - 1s - loss: 0.0076 - mean_absolute_error: 0.0555 - val_loss: 0.0084 - val_mean_absolute_error: 0.0622\n",
      "Epoch 48/50\n",
      "113142/113142 [==============================] - 1s - loss: 0.0075 - mean_absolute_error: 0.0557 - val_loss: 0.0072 - val_mean_absolute_error: 0.0485\n",
      "Epoch 49/50\n",
      "113142/113142 [==============================] - 1s - loss: 0.0075 - mean_absolute_error: 0.0544 - val_loss: 0.0075 - val_mean_absolute_error: 0.0548\n",
      "Epoch 50/50\n",
      "113142/113142 [==============================] - 1s - loss: 0.0075 - mean_absolute_error: 0.0556 - val_loss: 0.0073 - val_mean_absolute_error: 0.0490\n"
     ]
    }
   ],
   "source": [
    "model1 = Sequential()\n",
    "model1.add(Dense(units=64, input_shape = (12,),activation='softmax',name='layer1'))\n",
    "model1.add(Dense(units=64,name='layer2'))\n",
    "model1.add(Dense(units=16,name='layer3'))\n",
    "model1.add(Dense(units=8,name='layer4'))\n",
    "model1.add(Dense(units=1,name='layer5'))\n",
    "model1.compile(loss='mean_squared_error',\n",
    "              optimizer='rmsprop',\n",
    "              metrics=['mae'])\n",
    "history = model1.fit(x = train_x,y = train_y, validation_data = (eval_x,eval_y), epochs=50, batch_size=1000,verbose=1)\n",
    "######################################################################\n",
    "#######################################################################"
   ]
  },
  {
   "cell_type": "code",
   "execution_count": 27,
   "metadata": {},
   "outputs": [
    {
     "data": {
      "image/png": "[encoded data removed]",
      "text/plain": [
       "<Figure size 432x288 with 1 Axes>"
      ]
     },
     "metadata": {},
     "output_type": "display_data"
    }
   ],
   "source": [
    "# 绘制训练 & 验证的损失值\n",
    "plt.plot(history.history['loss'])\n",
    "plt.plot(history.history['val_loss'])\n",
    "plt.title('Model1 loss')\n",
    "plt.ylabel('Loss')\n",
    "plt.xlabel('Epoch')\n",
    "plt.legend(['Train', 'Test'], loc='upper left')\n",
    "plt.show()"
   ]
  },
  {
   "cell_type": "code",
   "execution_count": 28,
   "metadata": {
    "scrolled": false
   },
   "outputs": [],
   "source": [
    "# # 绘制训练 & 验证的准确率值\n",
    "# plt.plot(history.history['acc'])\n",
    "# plt.plot(history.history['val_acc'])\n",
    "# plt.title('Model accuracy')\n",
    "# plt.ylabel('Accuracy')\n",
    "# plt.xlabel('Epoch')\n",
    "# plt.legend(['Train', 'Test'], loc='upper left')\n",
    "# plt.show()"
   ]
  },
  {
   "cell_type": "markdown",
   "metadata": {},
   "source": [
    "#  Model2   Dense with activation"
   ]
  },
  {
   "cell_type": "code",
   "execution_count": 29,
   "metadata": {},
   "outputs": [
    {
     "name": "stdout",
     "output_type": "stream",
     "text": [
      "Train on 113142 samples, validate on 28286 samples\n",
      "Epoch 1/50\n",
      "113142/113142 [==============================] - 1s - loss: 0.2343 - mean_absolute_error: 0.2343 - val_loss: 0.2134 - val_mean_absolute_error: 0.2134\n",
      "Epoch 2/50\n",
      "113142/113142 [==============================] - 1s - loss: 0.1894 - mean_absolute_error: 0.1894 - val_loss: 0.1493 - val_mean_absolute_error: 0.1493\n",
      "Epoch 3/50\n",
      "113142/113142 [==============================] - 1s - loss: 0.0984 - mean_absolute_error: 0.0984 - val_loss: 0.0780 - val_mean_absolute_error: 0.0780\n",
      "Epoch 4/50\n",
      "113142/113142 [==============================] - 1s - loss: 0.0768 - mean_absolute_error: 0.0768 - val_loss: 0.0774 - val_mean_absolute_error: 0.0774\n",
      "Epoch 5/50\n",
      "113142/113142 [==============================] - 0s - loss: 0.0741 - mean_absolute_error: 0.0741 - val_loss: 0.0795 - val_mean_absolute_error: 0.0795\n",
      "Epoch 6/50\n",
      "113142/113142 [==============================] - 0s - loss: 0.0725 - mean_absolute_error: 0.0725 - val_loss: 0.0716 - val_mean_absolute_error: 0.0716\n",
      "Epoch 7/50\n",
      "113142/113142 [==============================] - 0s - loss: 0.0713 - mean_absolute_error: 0.0713 - val_loss: 0.0698 - val_mean_absolute_error: 0.0698\n",
      "Epoch 8/50\n",
      "113142/113142 [==============================] - 0s - loss: 0.0706 - mean_absolute_error: 0.0706 - val_loss: 0.0702 - val_mean_absolute_error: 0.0702\n",
      "Epoch 9/50\n",
      "113142/113142 [==============================] - 0s - loss: 0.0702 - mean_absolute_error: 0.0702 - val_loss: 0.0700 - val_mean_absolute_error: 0.0700\n",
      "Epoch 10/50\n",
      "113142/113142 [==============================] - 0s - loss: 0.0699 - mean_absolute_error: 0.0699 - val_loss: 0.0717 - val_mean_absolute_error: 0.0717\n",
      "Epoch 11/50\n",
      "113142/113142 [==============================] - 0s - loss: 0.0695 - mean_absolute_error: 0.0695 - val_loss: 0.0699 - val_mean_absolute_error: 0.0699\n",
      "Epoch 12/50\n",
      "113142/113142 [==============================] - 0s - loss: 0.0693 - mean_absolute_error: 0.0693 - val_loss: 0.0730 - val_mean_absolute_error: 0.0730\n",
      "Epoch 13/50\n",
      "113142/113142 [==============================] - 1s - loss: 0.0691 - mean_absolute_error: 0.0691 - val_loss: 0.0721 - val_mean_absolute_error: 0.0721\n",
      "Epoch 14/50\n",
      "113142/113142 [==============================] - 0s - loss: 0.0689 - mean_absolute_error: 0.0689 - val_loss: 0.0681 - val_mean_absolute_error: 0.0681\n",
      "Epoch 15/50\n",
      "113142/113142 [==============================] - 0s - loss: 0.0686 - mean_absolute_error: 0.0686 - val_loss: 0.0661 - val_mean_absolute_error: 0.0661\n",
      "Epoch 16/50\n",
      "113142/113142 [==============================] - 0s - loss: 0.0685 - mean_absolute_error: 0.0685 - val_loss: 0.0673 - val_mean_absolute_error: 0.0673\n",
      "Epoch 17/50\n",
      "113142/113142 [==============================] - 0s - loss: 0.0683 - mean_absolute_error: 0.0683 - val_loss: 0.0680 - val_mean_absolute_error: 0.0680\n",
      "Epoch 18/50\n",
      "113142/113142 [==============================] - 0s - loss: 0.0680 - mean_absolute_error: 0.0680 - val_loss: 0.0690 - val_mean_absolute_error: 0.0690\n",
      "Epoch 19/50\n",
      "113142/113142 [==============================] - 0s - loss: 0.0678 - mean_absolute_error: 0.0678 - val_loss: 0.0653 - val_mean_absolute_error: 0.0653\n",
      "Epoch 20/50\n",
      "113142/113142 [==============================] - 0s - loss: 0.0676 - mean_absolute_error: 0.0676 - val_loss: 0.0694 - val_mean_absolute_error: 0.0694\n",
      "Epoch 21/50\n",
      "113142/113142 [==============================] - 0s - loss: 0.0675 - mean_absolute_error: 0.0675 - val_loss: 0.0677 - val_mean_absolute_error: 0.0677\n",
      "Epoch 22/50\n",
      "113142/113142 [==============================] - 0s - loss: 0.0672 - mean_absolute_error: 0.0672 - val_loss: 0.0661 - val_mean_absolute_error: 0.0661\n",
      "Epoch 23/50\n",
      "113142/113142 [==============================] - 0s - loss: 0.0670 - mean_absolute_error: 0.0670 - val_loss: 0.0681 - val_mean_absolute_error: 0.0681\n",
      "Epoch 24/50\n",
      "113142/113142 [==============================] - 0s - loss: 0.0668 - mean_absolute_error: 0.0668 - val_loss: 0.0681 - val_mean_absolute_error: 0.0681\n",
      "Epoch 25/50\n",
      "113142/113142 [==============================] - 0s - loss: 0.0665 - mean_absolute_error: 0.0665 - val_loss: 0.0654 - val_mean_absolute_error: 0.0654\n",
      "Epoch 26/50\n",
      "113142/113142 [==============================] - 0s - loss: 0.0663 - mean_absolute_error: 0.0663 - val_loss: 0.0656 - val_mean_absolute_error: 0.0656\n",
      "Epoch 27/50\n",
      "113142/113142 [==============================] - 1s - loss: 0.0661 - mean_absolute_error: 0.0661 - val_loss: 0.0639 - val_mean_absolute_error: 0.0639\n",
      "Epoch 28/50\n",
      "113142/113142 [==============================] - 1s - loss: 0.0657 - mean_absolute_error: 0.0657 - val_loss: 0.0643 - val_mean_absolute_error: 0.0643\n",
      "Epoch 29/50\n",
      "113142/113142 [==============================] - 1s - loss: 0.0655 - mean_absolute_error: 0.0655 - val_loss: 0.0687 - val_mean_absolute_error: 0.0687\n",
      "Epoch 30/50\n",
      "113142/113142 [==============================] - 1s - loss: 0.0652 - mean_absolute_error: 0.0652 - val_loss: 0.0659 - val_mean_absolute_error: 0.0659\n",
      "Epoch 31/50\n",
      "113142/113142 [==============================] - 1s - loss: 0.0649 - mean_absolute_error: 0.0649 - val_loss: 0.0674 - val_mean_absolute_error: 0.0674\n",
      "Epoch 32/50\n",
      "113142/113142 [==============================] - 1s - loss: 0.0645 - mean_absolute_error: 0.0645 - val_loss: 0.0643 - val_mean_absolute_error: 0.0643\n",
      "Epoch 33/50\n",
      "113142/113142 [==============================] - 1s - loss: 0.0643 - mean_absolute_error: 0.0643 - val_loss: 0.0625 - val_mean_absolute_error: 0.0625\n",
      "Epoch 34/50\n",
      "113142/113142 [==============================] - 1s - loss: 0.0638 - mean_absolute_error: 0.0638 - val_loss: 0.0653 - val_mean_absolute_error: 0.0653\n",
      "Epoch 35/50\n",
      "113142/113142 [==============================] - 0s - loss: 0.0634 - mean_absolute_error: 0.0634 - val_loss: 0.0635 - val_mean_absolute_error: 0.0635\n",
      "Epoch 36/50\n",
      "113142/113142 [==============================] - 0s - loss: 0.0629 - mean_absolute_error: 0.0629 - val_loss: 0.0606 - val_mean_absolute_error: 0.0606\n",
      "Epoch 37/50\n",
      "113142/113142 [==============================] - 0s - loss: 0.0625 - mean_absolute_error: 0.0625 - val_loss: 0.0623 - val_mean_absolute_error: 0.0623\n",
      "Epoch 38/50\n",
      "113142/113142 [==============================] - 0s - loss: 0.0619 - mean_absolute_error: 0.0619 - val_loss: 0.0605 - val_mean_absolute_error: 0.0605\n",
      "Epoch 39/50\n",
      "113142/113142 [==============================] - 1s - loss: 0.0614 - mean_absolute_error: 0.0614 - val_loss: 0.0598 - val_mean_absolute_error: 0.0598\n",
      "Epoch 40/50\n",
      "113142/113142 [==============================] - 0s - loss: 0.0608 - mean_absolute_error: 0.0608 - val_loss: 0.0619 - val_mean_absolute_error: 0.0619\n",
      "Epoch 41/50\n",
      "113142/113142 [==============================] - 1s - loss: 0.0602 - mean_absolute_error: 0.0602 - val_loss: 0.0623 - val_mean_absolute_error: 0.0623\n",
      "Epoch 42/50\n",
      "113142/113142 [==============================] - 0s - loss: 0.0596 - mean_absolute_error: 0.0596 - val_loss: 0.0642 - val_mean_absolute_error: 0.0642\n",
      "Epoch 43/50\n",
      "113142/113142 [==============================] - 0s - loss: 0.0589 - mean_absolute_error: 0.0589 - val_loss: 0.0614 - val_mean_absolute_error: 0.0614\n",
      "Epoch 44/50\n",
      "113142/113142 [==============================] - 0s - loss: 0.0582 - mean_absolute_error: 0.0582 - val_loss: 0.0558 - val_mean_absolute_error: 0.0558\n",
      "Epoch 45/50\n",
      "113142/113142 [==============================] - 0s - loss: 0.0576 - mean_absolute_error: 0.0576 - val_loss: 0.0560 - val_mean_absolute_error: 0.0560\n",
      "Epoch 46/50\n",
      "113142/113142 [==============================] - 0s - loss: 0.0569 - mean_absolute_error: 0.0569 - val_loss: 0.0565 - val_mean_absolute_error: 0.0565\n",
      "Epoch 47/50\n",
      "113142/113142 [==============================] - 0s - loss: 0.0562 - mean_absolute_error: 0.0562 - val_loss: 0.0547 - val_mean_absolute_error: 0.0547\n",
      "Epoch 48/50\n",
      "113142/113142 [==============================] - 0s - loss: 0.0554 - mean_absolute_error: 0.0554 - val_loss: 0.0573 - val_mean_absolute_error: 0.0573\n",
      "Epoch 49/50\n",
      "113142/113142 [==============================] - 0s - loss: 0.0548 - mean_absolute_error: 0.0548 - val_loss: 0.0554 - val_mean_absolute_error: 0.0554\n",
      "Epoch 50/50\n",
      "113142/113142 [==============================] - 0s - loss: 0.0541 - mean_absolute_error: 0.0541 - val_loss: 0.0574 - val_mean_absolute_error: 0.0574\n"
     ]
    }
   ],
   "source": [
    "model2 = Sequential()\n",
    "model2.add(Dense(units=64, input_shape = (12,),activation='sigmoid',name='layer1'))\n",
    "model2.add(Dense(units=32, activation='sigmoid',name='layer2'))\n",
    "model2.add(Dense(units=16,name='layer3',activation='sigmoid'))\n",
    "model2.add(Dense(units=8,name='layer4',activation='sigmoid'))\n",
    "model2.add(Dense(units=1,name='layer5'))\n",
    "# model2.add(Dense(units=4,name='layer5',activation='sigmoid'))\n",
    "# model2.add(Dense(units=1,name='layer6'))\n",
    "model2.compile(loss='mean_absolute_error',\n",
    "              optimizer='rmsprop',\n",
    "              metrics=['mae'])\n",
    "history=model2.fit(x = train_x,y = train_y, validation_data = (eval_x,eval_y), epochs=50, batch_size=1000)\n",
    "\n",
    "#########################################################################\n"
   ]
  },
  {
   "cell_type": "code",
   "execution_count": 30,
   "metadata": {},
   "outputs": [
    {
     "data": {
      "image/png": "[encoded data removed]",
      "text/plain": [
       "<Figure size 432x288 with 1 Axes>"
      ]
     },
     "metadata": {},
     "output_type": "display_data"
    }
   ],
   "source": [
    "########################################################################\n",
    "# 绘制训练 & 验证的损失值\n",
    "plt.plot(history.history['loss'])\n",
    "plt.plot(history.history['val_loss'])\n",
    "plt.title('Model2 loss')\n",
    "plt.ylabel('Loss')\n",
    "plt.xlabel('Epoch')\n",
    "plt.legend(['Train', 'Test'], loc='upper left')\n",
    "plt.show()"
   ]
  },
  {
   "cell_type": "markdown",
   "metadata": {},
   "source": [
    "# dense_model3 with activation,bias"
   ]
  },
  {
   "cell_type": "code",
   "execution_count": 31,
   "metadata": {},
   "outputs": [
    {
     "name": "stdout",
     "output_type": "stream",
     "text": [
      "Train on 113142 samples, validate on 28286 samples\n",
      "Epoch 1/50\n",
      "113142/113142 [==============================] - 1s - loss: 0.2222 - mean_absolute_error: 0.2222 - val_loss: 0.2132 - val_mean_absolute_error: 0.2132\n",
      "Epoch 2/50\n",
      "113142/113142 [==============================] - 1s - loss: 0.2026 - mean_absolute_error: 0.2026 - val_loss: 0.1891 - val_mean_absolute_error: 0.1891\n",
      "Epoch 3/50\n",
      "113142/113142 [==============================] - 0s - loss: 0.1475 - mean_absolute_error: 0.1475 - val_loss: 0.0996 - val_mean_absolute_error: 0.0996\n",
      "Epoch 4/50\n",
      "113142/113142 [==============================] - 1s - loss: 0.0841 - mean_absolute_error: 0.0841 - val_loss: 0.0789 - val_mean_absolute_error: 0.0789\n",
      "Epoch 5/50\n",
      "113142/113142 [==============================] - 1s - loss: 0.0776 - mean_absolute_error: 0.0776 - val_loss: 0.0773 - val_mean_absolute_error: 0.0773\n",
      "Epoch 6/50\n",
      "113142/113142 [==============================] - 0s - loss: 0.0754 - mean_absolute_error: 0.0754 - val_loss: 0.0740 - val_mean_absolute_error: 0.0740\n",
      "Epoch 7/50\n",
      "113142/113142 [==============================] - 1s - loss: 0.0739 - mean_absolute_error: 0.0739 - val_loss: 0.0766 - val_mean_absolute_error: 0.0766\n",
      "Epoch 8/50\n",
      "113142/113142 [==============================] - 1s - loss: 0.0726 - mean_absolute_error: 0.0726 - val_loss: 0.0740 - val_mean_absolute_error: 0.0740\n",
      "Epoch 9/50\n",
      "113142/113142 [==============================] - 1s - loss: 0.0716 - mean_absolute_error: 0.0716 - val_loss: 0.0732 - val_mean_absolute_error: 0.0732\n",
      "Epoch 10/50\n",
      "113142/113142 [==============================] - 0s - loss: 0.0709 - mean_absolute_error: 0.0709 - val_loss: 0.0732 - val_mean_absolute_error: 0.0732\n",
      "Epoch 11/50\n",
      "113142/113142 [==============================] - 0s - loss: 0.0705 - mean_absolute_error: 0.0705 - val_loss: 0.0687 - val_mean_absolute_error: 0.0687\n",
      "Epoch 12/50\n",
      "113142/113142 [==============================] - 1s - loss: 0.0700 - mean_absolute_error: 0.0700 - val_loss: 0.0742 - val_mean_absolute_error: 0.0742\n",
      "Epoch 13/50\n",
      "113142/113142 [==============================] - 0s - loss: 0.0699 - mean_absolute_error: 0.0699 - val_loss: 0.0764 - val_mean_absolute_error: 0.0764\n",
      "Epoch 14/50\n",
      "113142/113142 [==============================] - 0s - loss: 0.0697 - mean_absolute_error: 0.0697 - val_loss: 0.0734 - val_mean_absolute_error: 0.0734\n",
      "Epoch 15/50\n",
      "113142/113142 [==============================] - 0s - loss: 0.0696 - mean_absolute_error: 0.0696 - val_loss: 0.0694 - val_mean_absolute_error: 0.0694\n",
      "Epoch 16/50\n",
      "113142/113142 [==============================] - 0s - loss: 0.0693 - mean_absolute_error: 0.0693 - val_loss: 0.0675 - val_mean_absolute_error: 0.0675\n",
      "Epoch 17/50\n",
      "113142/113142 [==============================] - 0s - loss: 0.0691 - mean_absolute_error: 0.0691 - val_loss: 0.0716 - val_mean_absolute_error: 0.0716\n",
      "Epoch 18/50\n",
      "113142/113142 [==============================] - 0s - loss: 0.0691 - mean_absolute_error: 0.0691 - val_loss: 0.0749 - val_mean_absolute_error: 0.0749\n",
      "Epoch 19/50\n",
      "113142/113142 [==============================] - 0s - loss: 0.0689 - mean_absolute_error: 0.0689 - val_loss: 0.0697 - val_mean_absolute_error: 0.0697\n",
      "Epoch 20/50\n",
      "113142/113142 [==============================] - 0s - loss: 0.0686 - mean_absolute_error: 0.0686 - val_loss: 0.0758 - val_mean_absolute_error: 0.0758\n",
      "Epoch 21/50\n",
      "113142/113142 [==============================] - 0s - loss: 0.0685 - mean_absolute_error: 0.0685 - val_loss: 0.0701 - val_mean_absolute_error: 0.0701\n",
      "Epoch 22/50\n",
      "113142/113142 [==============================] - 0s - loss: 0.0683 - mean_absolute_error: 0.0683 - val_loss: 0.0687 - val_mean_absolute_error: 0.0687\n",
      "Epoch 23/50\n",
      "113142/113142 [==============================] - 1s - loss: 0.0682 - mean_absolute_error: 0.0682 - val_loss: 0.0693 - val_mean_absolute_error: 0.0693\n",
      "Epoch 24/50\n",
      "113142/113142 [==============================] - 1s - loss: 0.0681 - mean_absolute_error: 0.0681 - val_loss: 0.0692 - val_mean_absolute_error: 0.0692\n",
      "Epoch 25/50\n",
      "113142/113142 [==============================] - 1s - loss: 0.0679 - mean_absolute_error: 0.0679 - val_loss: 0.0703 - val_mean_absolute_error: 0.0703\n",
      "Epoch 26/50\n",
      "113142/113142 [==============================] - 0s - loss: 0.0677 - mean_absolute_error: 0.0677 - val_loss: 0.0669 - val_mean_absolute_error: 0.0669\n",
      "Epoch 27/50\n",
      "113142/113142 [==============================] - 0s - loss: 0.0677 - mean_absolute_error: 0.0677 - val_loss: 0.0670 - val_mean_absolute_error: 0.0670\n",
      "Epoch 28/50\n",
      "113142/113142 [==============================] - 0s - loss: 0.0675 - mean_absolute_error: 0.0675 - val_loss: 0.0694 - val_mean_absolute_error: 0.0694\n",
      "Epoch 29/50\n",
      "113142/113142 [==============================] - 0s - loss: 0.0673 - mean_absolute_error: 0.0673 - val_loss: 0.0685 - val_mean_absolute_error: 0.0685\n",
      "Epoch 30/50\n",
      "113142/113142 [==============================] - 1s - loss: 0.0673 - mean_absolute_error: 0.0673 - val_loss: 0.0712 - val_mean_absolute_error: 0.0712\n",
      "Epoch 31/50\n",
      "113142/113142 [==============================] - 0s - loss: 0.0671 - mean_absolute_error: 0.0671 - val_loss: 0.0668 - val_mean_absolute_error: 0.0668\n",
      "Epoch 32/50\n",
      "113142/113142 [==============================] - 0s - loss: 0.0669 - mean_absolute_error: 0.0669 - val_loss: 0.0733 - val_mean_absolute_error: 0.0733\n",
      "Epoch 33/50\n",
      "113142/113142 [==============================] - 0s - loss: 0.0667 - mean_absolute_error: 0.0667 - val_loss: 0.0689 - val_mean_absolute_error: 0.0689\n",
      "Epoch 34/50\n",
      "113142/113142 [==============================] - 0s - loss: 0.0666 - mean_absolute_error: 0.0666 - val_loss: 0.0659 - val_mean_absolute_error: 0.0659\n",
      "Epoch 35/50\n",
      "113142/113142 [==============================] - 0s - loss: 0.0663 - mean_absolute_error: 0.0663 - val_loss: 0.0653 - val_mean_absolute_error: 0.0653\n",
      "Epoch 36/50\n",
      "113142/113142 [==============================] - 0s - loss: 0.0661 - mean_absolute_error: 0.0661 - val_loss: 0.0656 - val_mean_absolute_error: 0.0656\n",
      "Epoch 37/50\n",
      "113142/113142 [==============================] - 0s - loss: 0.0658 - mean_absolute_error: 0.0658 - val_loss: 0.0704 - val_mean_absolute_error: 0.0704\n",
      "Epoch 38/50\n",
      "113142/113142 [==============================] - 0s - loss: 0.0655 - mean_absolute_error: 0.0655 - val_loss: 0.0676 - val_mean_absolute_error: 0.0676\n",
      "Epoch 39/50\n",
      "113142/113142 [==============================] - 0s - loss: 0.0651 - mean_absolute_error: 0.0651 - val_loss: 0.0670 - val_mean_absolute_error: 0.0670\n",
      "Epoch 40/50\n",
      "113142/113142 [==============================] - 1s - loss: 0.0647 - mean_absolute_error: 0.0647 - val_loss: 0.0656 - val_mean_absolute_error: 0.0656\n",
      "Epoch 41/50\n",
      "113142/113142 [==============================] - 0s - loss: 0.0641 - mean_absolute_error: 0.0641 - val_loss: 0.0692 - val_mean_absolute_error: 0.0692\n",
      "Epoch 42/50\n",
      "113142/113142 [==============================] - 0s - loss: 0.0635 - mean_absolute_error: 0.0635 - val_loss: 0.0619 - val_mean_absolute_error: 0.0619\n",
      "Epoch 43/50\n",
      "113142/113142 [==============================] - 0s - loss: 0.0626 - mean_absolute_error: 0.0626 - val_loss: 0.0634 - val_mean_absolute_error: 0.0634\n",
      "Epoch 44/50\n",
      "113142/113142 [==============================] - 0s - loss: 0.0618 - mean_absolute_error: 0.0618 - val_loss: 0.0609 - val_mean_absolute_error: 0.0609\n",
      "Epoch 45/50\n",
      "113142/113142 [==============================] - 1s - loss: 0.0608 - mean_absolute_error: 0.0608 - val_loss: 0.0606 - val_mean_absolute_error: 0.0606\n",
      "Epoch 46/50\n",
      "113142/113142 [==============================] - 0s - loss: 0.0598 - mean_absolute_error: 0.0598 - val_loss: 0.0615 - val_mean_absolute_error: 0.0615\n",
      "Epoch 47/50\n",
      "113142/113142 [==============================] - 0s - loss: 0.0587 - mean_absolute_error: 0.0587 - val_loss: 0.0561 - val_mean_absolute_error: 0.0561\n",
      "Epoch 48/50\n",
      "113142/113142 [==============================] - 0s - loss: 0.0576 - mean_absolute_error: 0.0576 - val_loss: 0.0586 - val_mean_absolute_error: 0.0586\n",
      "Epoch 49/50\n",
      "113142/113142 [==============================] - 1s - loss: 0.0565 - mean_absolute_error: 0.0565 - val_loss: 0.0558 - val_mean_absolute_error: 0.0558\n",
      "Epoch 50/50\n",
      "113142/113142 [==============================] - 1s - loss: 0.0554 - mean_absolute_error: 0.0554 - val_loss: 0.0522 - val_mean_absolute_error: 0.0522\n"
     ]
    }
   ],
   "source": [
    "model3 = Sequential()\n",
    "model3.add(Dense(units=64, input_shape = (12,),activation='sigmoid',name='layer1',use_bias = True))\n",
    "model3.add(Dense(units=32,activation='sigmoid',name='layer2',use_bias = True))\n",
    "model3.add(Dense(units=16,name='layer3',activation='sigmoid',use_bias = True))\n",
    "model3.add(Dense(units=8,name='layer4',activation='sigmoid',use_bias = True))\n",
    "model3.add(Dense(units=1,name='layer5'))\n",
    "model3.compile(loss='mean_absolute_error',\n",
    "              optimizer='rmsprop',\n",
    "              metrics=['mae'])\n",
    "history=model3.fit(x = train_x,y = train_y, validation_data = (eval_x,eval_y), epochs=50, batch_size=1000)\n",
    "############################################################################################################"
   ]
  },
  {
   "cell_type": "code",
   "execution_count": 32,
   "metadata": {},
   "outputs": [
    {
     "data": {
      "image/png": "[encoded data removed]",
      "text/plain": [
       "<Figure size 432x288 with 1 Axes>"
      ]
     },
     "metadata": {},
     "output_type": "display_data"
    }
   ],
   "source": [
    "########################################################################\n",
    "# 绘制训练 & 验证的损失值\n",
    "plt.plot(history.history['loss'])\n",
    "plt.plot(history.history['val_loss'])\n",
    "plt.title('Model3 loss')\n",
    "plt.ylabel('Loss')\n",
    "plt.xlabel('Epoch')\n",
    "plt.legend(['Train', 'Test'], loc='upper left')\n",
    "plt.show()"
   ]
  },
  {
   "cell_type": "markdown",
   "metadata": {},
   "source": [
    "# 结果对比"
   ]
  },
  {
   "cell_type": "code",
   "execution_count": 46,
   "metadata": {
    "scrolled": true
   },
   "outputs": [
    {
     "name": "stdout",
     "output_type": "stream",
     "text": [
      "Model1 \n",
      "Train Score: 767.52 RMSE\n",
      "Test Score: 1282.48 RMSE\n",
      "Model2 \n",
      "Train Score: 826.37 RMSE\n",
      "Test Score: 1370.99 RMSE\n",
      "Model3 \n",
      "Train Score: 816.89 RMSE\n",
      "Test Score: 1131.90 RMSE\n"
     ]
    }
   ],
   "source": [
    "################预测训练集和测试集####################\n",
    "######### 模型 1 #########\n",
    "trainPredictM1 = model1.predict(train_x)\n",
    "testPredictM1 = model1.predict(test_x)\n",
    "######### 模型 2 #########\n",
    "trainPredictM2 = model2.predict(train_x)\n",
    "testPredictM2 = model2.predict(test_x)\n",
    "######### 模型 3 ##########\n",
    "trainPredictM3 = model3.predict(train_x)\n",
    "testPredictM3 = model3.predict(test_x)\n",
    "\n",
    "############################## 反归一化 ##############################\n",
    "\n",
    "###################### 训练集反归一化 #######################\n",
    "######预测值 模型1 #######\n",
    "inv_trainPredict1 = concatenate((train_year[:,:],train_x[:,:],trainPredictM1), axis=1)\n",
    "inv_trainPredict1 = scaler.inverse_transform(inv_trainPredict1)\n",
    "trainPredictM1 = inv_trainPredict1[:,-1:]\n",
    "\n",
    "######预测值 模型2 #######\n",
    "inv_trainPredict2 = concatenate((train_year[:,:],train_x[:,:],trainPredictM2), axis=1)\n",
    "inv_trainPredict2 = scaler.inverse_transform(inv_trainPredict2)\n",
    "trainPredictM2 = inv_trainPredict2[:,-1:]\n",
    "\n",
    "######训练预测 模型3 #######\n",
    "inv_trainPredict3 = concatenate((train_year[:,:],train_x[:,:],trainPredictM3), axis=1)\n",
    "inv_trainPredict3 = scaler.inverse_transform(inv_trainPredict3)\n",
    "trainPredictM3 = inv_trainPredict3[:,-1:]\n",
    "\n",
    "###### 训练集真实值######\n",
    "train_y = train_y.reshape((len(train_y), 1))\n",
    "inv_train = concatenate((train_year[:,:],train_x[:,:],train_y), axis=1)\n",
    "inv_train = scaler.inverse_transform(inv_train)\n",
    "trainReal = inv_train[:,-1:]\n",
    "\n",
    "\n",
    "######################## 测试集反归一化 ########################\n",
    "###### 测试预测模型1 #######\n",
    "inv_testPredict1 = concatenate((test_year[:,:],test_x[:,:],testPredictM1), axis=1)\n",
    "inv_testPredict1 = scaler.inverse_transform(inv_testPredict1)\n",
    "testPredictM1 = inv_testPredict1[:,-1:]\n",
    "\n",
    "###### 测试预测模型2 #######\n",
    "inv_testPredict2 = concatenate((test_year[:,:],test_x[:,:],testPredictM2), axis=1)\n",
    "inv_testPredict2 = scaler.inverse_transform(inv_testPredict2)\n",
    "testPredictM2 = inv_testPredict2[:,-1:]\n",
    "\n",
    "###### 测试预测模型3 #######\n",
    "inv_testPredict3 = concatenate((test_year[:,:],test_x[:,:],testPredictM3), axis=1)\n",
    "inv_testPredict3 = scaler.inverse_transform(inv_testPredict3)\n",
    "testPredictM3 = inv_testPredict3[:,-1:]\n",
    "\n",
    "########测试集真实值############\n",
    "test_y = test_y.reshape((len(test_y), 1))\n",
    "inv_test = concatenate((test_year[:,:],test_x[:,:],test_y), axis=1)\n",
    "inv_test = scaler.inverse_transform(inv_test)\n",
    "testReal = inv_test[:,-1:]\n",
    "\n",
    "#################### 计算训练集和测试集的平均根方误差####################\n",
    "### 模型 1\n",
    "trainScoreM1 = math.sqrt(mean_squared_error(trainReal[:,0], trainPredictM1[:,0]))\n",
    "print('Model1 ')\n",
    "print('Train Score: %.2f RMSE' % (trainScoreM1))\n",
    "testScoreM1 = math.sqrt(mean_squared_error(testReal[:,0], testPredictM1[:,0]))\n",
    "print('Test Score: %.2f RMSE' % (testScoreM1))\n",
    "### 模型 2\n",
    "trainScoreM2 = math.sqrt(mean_squared_error(trainReal[:,0], trainPredictM2[:,0]))\n",
    "print('Model2 ')\n",
    "print('Train Score: %.2f RMSE' % (trainScoreM2))\n",
    "testScoreM2 = math.sqrt(mean_squared_error(testReal[:,0], testPredictM2[:,0]))\n",
    "print('Test Score: %.2f RMSE' % (testScoreM2))\n",
    "### 模型 3\n",
    "trainScoreM3 = math.sqrt(mean_squared_error(trainReal[:,0], trainPredictM3[:,0]))\n",
    "print('Model3 ')\n",
    "print('Train Score: %.2f RMSE' % (trainScoreM3))\n",
    "testScoreM3 = math.sqrt(mean_squared_error(testReal[:,0], testPredictM3[:,0]))\n",
    "print('Test Score: %.2f RMSE' % (testScoreM3))"
   ]
  },
  {
   "cell_type": "code",
   "execution_count": 47,
   "metadata": {},
   "outputs": [
    {
     "data": {
      "text/plain": [
       "<matplotlib.legend.Legend at 0x1444eebc6a0>"
      ]
     },
     "execution_count": 47,
     "metadata": {},
     "output_type": "execute_result"
    },
    {
     "data": {
      "image/png": "[encoded data removed]",
      "text/plain": [
       "<Figure size 432x288 with 1 Axes>"
      ]
     },
     "metadata": {},
     "output_type": "display_data"
    }
   ],
   "source": [
    "#训练集和测试集 预测结果保存\n",
    "predict_train_1A = pd.DataFrame(inv_train)\n",
    "predict_train_1A.columns = ['Year', 'Month', 'Day', 'Hour', 'Minutes', 'WTC', 'WRH', 'GHR', 'DHR',\n",
    "       'WD', 'WDR', 'RGT', 'RDT', '1A Trina_power']\n",
    "\n",
    "predict_train_1A['1A_model1_predict'] = trainPredictM1\n",
    "predict_train_1A['1A_model2_predict'] = trainPredictM2\n",
    "predict_train_1A['1A_model3_predict'] = trainPredictM3\n",
    "\n",
    "predict_train_1A.to_csv('../predict/predict_train_1A.csv',index=False)\n",
    "#真实值和预测值对比图\n",
    "plt.plot(trainReal,label='Real')\n",
    "plt.plot(trainPredictM1,label='M1Predicition')\n",
    "plt.plot(trainPredictM2,label='M2Predicition')\n",
    "plt.plot(trainPredictM3,label='M3Predicition')\n",
    "\n",
    "plt.title('Prediction train')\n",
    "plt.ylabel('Power')\n",
    "plt.xlabel('Time')\n",
    "# plt.plot(y_rr_,label='rr')\n",
    "# plt.plot(y_lasso_,label='lasso')\n",
    "plt.legend() "
   ]
  },
  {
   "cell_type": "code",
   "execution_count": 48,
   "metadata": {},
   "outputs": [
    {
     "data": {
      "text/plain": [
       "<matplotlib.legend.Legend at 0x14464d30cf8>"
      ]
     },
     "execution_count": 48,
     "metadata": {},
     "output_type": "execute_result"
    },
    {
     "data": {
      "image/png": "[encoded data removed]",
      "text/plain": [
       "<Figure size 432x288 with 1 Axes>"
      ]
     },
     "metadata": {},
     "output_type": "display_data"
    }
   ],
   "source": [
    "#训练集和测试集 预测结果保存\n",
    "predict_1A = pd.DataFrame(inv_test)\n",
    "predict_1A.columns = ['Year', 'Month', 'Day', 'Hour', 'Minutes', 'WTC', 'WRH', 'GHR', 'DHR',\n",
    "       'WD', 'WDR', 'RGT', 'RDT', '1A Trina_power']\n",
    "\n",
    "predict_1A['1A_model1_predict'] = testPredictM1\n",
    "predict_1A['1A_model2_predict'] = testPredictM2\n",
    "predict_1A['1A_model3_predict'] = testPredictM3\n",
    "\n",
    "predict_1A.to_csv('../predict/predict_1A.csv',index=False)\n",
    "#真实值和预测值对比图\n",
    "plt.plot(testReal,label='Real')\n",
    "plt.plot(testPredictM1,label='M1Predicition')\n",
    "plt.plot(testPredictM2,label='M2Predicition')\n",
    "plt.plot(testPredictM3,label='M3Predicition')\n",
    "\n",
    "plt.title('Prediction test')\n",
    "plt.ylabel('Power')\n",
    "plt.xlabel('Time')\n",
    "# plt.plot(y_rr_,label='rr')\n",
    "# plt.plot(y_lasso_,label='lasso')\n",
    "plt.legend() "
   ]
  },
  {
   "cell_type": "code",
   "execution_count": 49,
   "metadata": {},
   "outputs": [],
   "source": [
    "# mse_test=np.sum((test_y - testPredict)**2)/ len(test_y)\n",
    "# rmse_test=np.sqrt(mse_test)\n",
    "# print(\"MSE:\",mse_test)\n",
    "# print(\"RMSE:\",rmse_test)"
   ]
  },
  {
   "cell_type": "markdown",
   "metadata": {},
   "source": [
    "画出例如2020年1月20号的预测图"
   ]
  },
  {
   "cell_type": "code",
   "execution_count": 50,
   "metadata": {
    "scrolled": true
   },
   "outputs": [
    {
     "data": {
      "text/plain": [
       "Index(['Year', 'Month', 'Day', 'Hour', 'Minutes', 'WTC', 'WRH', 'GHR', 'DHR',\n",
       "       'WD', 'WDR', 'RGT', 'RDT', '1A Trina_power', '1A_model1_predict',\n",
       "       '1A_model2_predict', '1A_model3_predict'],\n",
       "      dtype='object')"
      ]
     },
     "execution_count": 50,
     "metadata": {},
     "output_type": "execute_result"
    }
   ],
   "source": [
    "predict_1A.columns"
   ]
  },
  {
   "cell_type": "code",
   "execution_count": 51,
   "metadata": {},
   "outputs": [],
   "source": [
    "# from scipy.interpolate import spline\n",
    " \n",
    "# # T = np.array([6, 7, 8, 9, 10, 11, 12])\n",
    "# T=Day0120['Hour']\n",
    "# T=T.values\n",
    "# # power = np.array([1.53E+03, 5.92E+02, 2.04E+02, 7.24E+01, 2.72E+01, 1.10E+01, 4.70E+00])\n",
    "# Real=Day0120.set_index('Hour', inplace=False)['1A Trina_power']\n",
    "# Real=Real.values\n",
    "# xnew = np.linspace(T.min(),T.max(),300) #300 represents number of points to make between T.min and T.max\n",
    " \n",
    "# power_smooth = spline(T,Real,xnew)\n",
    " \n",
    "# plt.plot(xnew,power_smooth)\n",
    "# plt.show()"
   ]
  },
  {
   "cell_type": "code",
   "execution_count": 52,
   "metadata": {},
   "outputs": [
    {
     "data": {
      "text/plain": [
       "<matplotlib.legend.Legend at 0x144654f6ef0>"
      ]
     },
     "execution_count": 52,
     "metadata": {},
     "output_type": "execute_result"
    },
    {
     "data": {
      "image/png": "[encoded data removed]",
      "text/plain": [
       "<Figure size 432x288 with 1 Axes>"
      ]
     },
     "metadata": {},
     "output_type": "display_data"
    }
   ],
   "source": [
    "# from scipy.interpolate import spline\n",
    "predict_1A[[\"Year\",\"Month\",\"Day\",\"Hour\",\"Minutes\"]] = predict_1A[[\"Year\",\"Month\",\"Day\",\"Hour\",\"Minutes\"]].astype(\"int\")\n",
    "\n",
    "#real_power_day = train_1.groupby('day')\n",
    "# Day0120 = predict_1A[(predict_1A['Year'] == 2020) & (predict_1A['Month'] == 1) & (predict_1A['Day'] == 20)]\n",
    "# day200120 = predict_1A.loc[predict_1A['Year'] == '2020',predict_1A['Month'] == '1',predict_1A['day'] == '20',:]\n",
    "Day0120 = predict_1A.loc[(predict_1A['Year'] == 2020) & (predict_1A['Month'] == 1) & (predict_1A['Day'] == 20),:]\n",
    "#real_power_day.set_index('time', inplace=False)\n",
    "Real=Day0120.set_index('Hour', inplace=False)['1A Trina_power']\n",
    "M1Predict=Day0120.set_index('Hour', inplace=False)['1A_model1_predict']\n",
    "M2Predict=Day0120.set_index('Hour', inplace=False)['1A_model2_predict']\n",
    "M3Predict=Day0120.set_index('Hour', inplace=False)['1A_model3_predict']\n",
    "\n",
    "fig = plt.figure()\n",
    "plt.plot(Real,label='Real')\n",
    "plt.plot(M1Predict,label='M1Predicition')\n",
    "plt.plot(M2Predict,label='M2Predicition')\n",
    "plt.plot(M3Predict,label='M3Predicition')\n",
    "\n",
    "plt.title('Prediction 2020-1-20')\n",
    "plt.ylabel('Power')\n",
    "plt.xlabel('Time')\n",
    "# plt.legend(['Train', 'Test'], loc='upper left')\n",
    "plt.legend()\n",
    "#ax = fig.add_subplot(1,1,1)\n",
    "#ax.plot(real_power_day_)\n",
    "# real_power_day_.plot()\n",
    "#real_power_day_.set_axis(['00:15:00','06:15:00','12:15:00','18:15:00'])\n",
    "#real_power_day_"
   ]
  },
  {
   "cell_type": "code",
   "execution_count": 41,
   "metadata": {},
   "outputs": [
    {
     "name": "stdout",
     "output_type": "stream",
     "text": [
      "MSE 0.5890875791041347\n"
     ]
    }
   ],
   "source": [
    "mse_test1=np.sum((trainReal[:,0] - trainPredictM1[:,0])**2)/ len(trainPredictM1)\n",
    "print('MSE',mse_test1)"
   ]
  },
  {
   "cell_type": "code",
   "execution_count": 42,
   "metadata": {},
   "outputs": [
    {
     "name": "stdout",
     "output_type": "stream",
     "text": [
      "RMSE 0.7675204095684588\n"
     ]
    }
   ],
   "source": [
    "rmse_test1=math.sqrt(mse_test1)\n",
    "print('RMSE',rmse_test1)"
   ]
  },
  {
   "cell_type": "code",
   "execution_count": null,
   "metadata": {},
   "outputs": [],
   "source": [
    "# trainScoreM1 = math.sqrt(mean_squared_error(trainReal[:,0], trainPredictM1[:,0]))"
   ]
  }
 ],
 "metadata": {
  "kernelspec": {
   "display_name": "Python 3",
   "language": "python",
   "name": "python3"
  },
  "language_info": {
   "codemirror_mode": {
    "name": "ipython",
    "version": 3
   },
   "file_extension": ".py",
   "mimetype": "text/x-python",
   "name": "python",
   "nbconvert_exporter": "python",
   "pygments_lexer": "ipython3",
   "version": "3.6.5"
  }
 },
 "nbformat": 4,
 "nbformat_minor": 2
}
