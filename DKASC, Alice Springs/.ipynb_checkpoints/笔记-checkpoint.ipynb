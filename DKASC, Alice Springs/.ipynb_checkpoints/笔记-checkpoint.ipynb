{
 "cells": [
  {
   "cell_type": "code",
   "execution_count": null,
   "metadata": {},
   "outputs": [],
   "source": [
    "#测试输出\n",
    "train1 = train1.values\n",
    "train1_values = train1.astype('float32')     # 将整型变为float\n",
    "scaler_train = MinMaxScaler(feature_range=(0, 1)) # 数据处理，归一化至0~1之间\n",
    "train1_scaler = scaler_train.fit_transform(train1_values)\n",
    "\n",
    "# inds = np.arange(train1_scaler.shape[0])\n",
    "# # random.shuffle(inds)\n",
    "# # train1_inds = inds[0:int(train1_scaler.shape[0]*0.8)]\n",
    "# # eval1_inds = inds[int(train1_scaler.shape[0]*0.8):train1_scaler.shape[0]]\n",
    "\n",
    "\n",
    "train_x, train_y = train1_scaler[:,:-1], train1_scaler[:,-1:]\n",
    "\n",
    "#测试输出\n",
    "train1=pd.DataFrame(train1)\n",
    "train1_values=pd.DataFrame(train1_values)\n",
    "train1_scaler=pd.DataFrame(train1_scaler)\n",
    "train_x=pd.DataFrame(train_x)\n",
    "train_y=pd.DataFrame(train_y)\n",
    "\n",
    "train1.to_csv('../temp/train1_values.csv',index=False)\n",
    "train1_values.to_csv('../temp/train1_values.csv',index=False)\n",
    "train1_scaler.to_csv('../temp/train1_scaler.csv',index=False)\n",
    "\n",
    "train_x.to_csv('../temp/train_x.csv',index=False)\n",
    "train_y.to_csv('../temp/train_y.csv',index=False)"
   ]
  },
  {
   "cell_type": "code",
   "execution_count": null,
   "metadata": {},
   "outputs": [],
   "source": [
    "# # convert series to supervised learning\n",
    "# def series_to_supervised(data, n_in=1, n_out=1, dropnan=True):\n",
    "#     n_vars = 1 if type(data) is list else data.shape[1]\n",
    "#     df = DataFrame(data)\n",
    "#     cols, names = list(), list()\n",
    "#     # input sequence (t-n, ... t-1)\n",
    "#     for i in range(n_in, 0, -1):\n",
    "#         cols.append(df.shift(i))\n",
    "#         names += [('var%d(t-%d)' % (j+1, i)) for j in range(n_vars)]\n",
    "#     # forecast sequence (t, t+1, ... t+n)\n",
    "#     for i in range(0, n_out):\n",
    "#         cols.append(df.shift(-i))\n",
    "#         if i == 0:\n",
    "#             names += [('var%d(t)' % (j+1)) for j in range(n_vars)]\n",
    "#         else:\n",
    "#             names += [('var%d(t+%d)' % (j+1, i)) for j in range(n_vars)]\n",
    "#     # put it all together\n",
    "#     agg = concat(cols, axis=1)\n",
    "#     agg.columns = names\n",
    "#     # drop rows with NaN values\n",
    "#     if dropnan:\n",
    "#         agg.dropna(inplace=True)\n",
    "#     return agg"
   ]
  },
  {
   "cell_type": "code",
   "execution_count": null,
   "metadata": {},
   "outputs": [],
   "source": []
  },
  {
   "cell_type": "code",
   "execution_count": null,
   "metadata": {},
   "outputs": [],
   "source": [
    "# import datetime\n",
    "# now = datetime.datetime.now()\n",
    "# print (now.strftime(\"%Y-%m-%d %H:%M:%S\"))\n",
    "# predict_1AM1 = model.predict(x=test_x,batch_size=100)\n",
    "#print(len(predicition))"
   ]
  },
  {
   "cell_type": "markdown",
   "metadata": {},
   "source": [
    "# XXXXXXXXXXXXXXXXXXXX分割线XXXXXXXXXXXXXXXXXXXXXXXXXXXX"
   ]
  },
  {
   "cell_type": "markdown",
   "metadata": {},
   "source": [
    "# 反归一化和loss图 及预测图笔记"
   ]
  },
  {
   "cell_type": "code",
   "execution_count": null,
   "metadata": {},
   "outputs": [],
   "source": [
    "# 预测训练集和测试集\n",
    "trainPredict = model.predict(train_x)\n",
    "testPredict = model.predict(test_x)\n",
    "\n",
    "# 反归一化训练集\n",
    "inv_trainPredict = concatenate((train_x[:,:],trainPredict), axis=1)\n",
    "inv_trainPredict = scaler.inverse_transform(inv_trainPredict)\n",
    "trainPredict = inv_trainPredict[:,-1:]\n",
    "# invert scaling for actual\n",
    "train_y = train_y.reshape((len(train_y), 1))\n",
    "inv_trainY = concatenate((train_x[:,:],train_y), axis=1)\n",
    "inv_trainY = scaler.inverse_transform(inv_trainY)\n",
    "trainY = inv_trainY[:,-1:]\n",
    "#反归一化测试集\n",
    "inv_testPredict = concatenate((test_x[:,:],testPredict), axis=1)\n",
    "inv_testPredict = scaler.inverse_transform(inv_testPredict)\n",
    "testPredict = inv_testPredict[:,-1:]\n",
    "# invert scaling for actual\n",
    "test_y = test_y.reshape((len(test_y), 1))\n",
    "inv_testY = concatenate((test_x[:,:],test_y), axis=1)\n",
    "inv_testY = scaler.inverse_transform(inv_testY)\n",
    "testY = inv_testY[:,-1:]\n",
    "# 计算训练集和测试集的平均根方误差\n",
    "trainScore = math.sqrt(mean_squared_error(trainY[:,0], trainPredict[:,0]))\n",
    "print('Train Score: %.2f RMSE' % (trainScore))\n",
    "testScore = math.sqrt(mean_squared_error(testY[:,0], testPredict[:,0]))\n",
    "print('Test Score: %.2f RMSE' % (testScore))"
   ]
  },
  {
   "cell_type": "code",
   "execution_count": null,
   "metadata": {},
   "outputs": [],
   "source": [
    "#训练集和测试集 预测结果保存\n",
    "predict_1AM2 = concatenate((inv_testY[:,:],testPredict), axis=1)\n",
    "predict_1AM2 = pd.DataFrame(predict_1AM2)\n",
    "predict_1AM2.columns = ['Year', 'Month', 'Day', 'Hour', 'Minutes', 'WTC', 'WRH', 'GHR', 'DHR',\n",
    "       'WD', 'WDR', 'RGT', 'RDT', '1A Trina_power','Prediction 1A Trina_power']\n",
    "predict_1AM2.to_csv('../predict/predict_1AM2.csv',index=False)\n",
    "#真实值和预测值对比图\n",
    "plt.plot(testY,label='Real')\n",
    "plt.plot(testPredict,label='M2predicition')\n",
    "# plt.plot(y_rr_,label='rr')\n",
    "# plt.plot(y_lasso_,label='lasso')\n",
    "plt.legend() "
   ]
  },
  {
   "cell_type": "code",
   "execution_count": null,
   "metadata": {},
   "outputs": [],
   "source": [
    "mse_test=np.sum((test_y - testPredict)**2)/ len(test_y)\n",
    "rmse_test=np.sqrt(mse_test)\n",
    "print(\"MSE:\",mse_test)\n",
    "print(\"RMSE:\",rmse_test)"
   ]
  },
  {
   "cell_type": "markdown",
   "metadata": {},
   "source": [
    "# XXXXXXXXXXX分割线XXXXXXXXXXXXX"
   ]
  },
  {
   "cell_type": "code",
   "execution_count": null,
   "metadata": {},
   "outputs": [],
   "source": []
  },
  {
   "cell_type": "code",
   "execution_count": null,
   "metadata": {},
   "outputs": [],
   "source": [
    "##画曲线\n",
    "import matplotlib.pyplot as plt\n",
    "import numpy as np\n",
    "from scipy.interpolate import spline\n",
    " \n",
    "T = np.array([6, 7, 8, 9, 10, 11, 12])\n",
    "power = np.array([1.53E+03, 5.92E+02, 2.04E+02, 7.24E+01, 2.72E+01, 1.10E+01, 4.70E+00])\n",
    "xnew = np.linspace(T.min(),T.max(),300) #300 represents number of points to make between T.min and T.max\n",
    " \n",
    "power_smooth = spline(T,power,xnew)\n",
    " \n",
    "plt.plot(xnew,power_smooth)\n",
    "plt.show()"
   ]
  }
 ],
 "metadata": {
  "kernelspec": {
   "display_name": "Python 3",
   "language": "python",
   "name": "python3"
  },
  "language_info": {
   "codemirror_mode": {
    "name": "ipython",
    "version": 3
   },
   "file_extension": ".py",
   "mimetype": "text/x-python",
   "name": "python",
   "nbconvert_exporter": "python",
   "pygments_lexer": "ipython3",
   "version": "3.6.5"
  }
 },
 "nbformat": 4,
 "nbformat_minor": 2
}
