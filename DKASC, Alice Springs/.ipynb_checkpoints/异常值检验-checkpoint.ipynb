{
 "cells": [
  {
   "cell_type": "markdown",
   "metadata": {},
   "source": [
    "# 第二章 异常值检验"
   ]
  },
  {
   "cell_type": "code",
   "execution_count": 1,
   "metadata": {},
   "outputs": [],
   "source": [
    "import os\n",
    "import random\n",
    "import pandas as pd\n",
    "import numpy as np\n",
    "import matplotlib.pyplot as plt\n",
    "import math\n",
    "# import tensorflow as tf\n",
    "# import keras\n",
    "#import torch\n",
    "# import catboost as cb\n",
    "from pandas import read_csv\n",
    "from math import sqrt\n",
    "# from numpy import concatenate\n",
    "# from keras.models import Sequential\n",
    "# from keras.layers import Dense\n",
    "# from keras.layers import Dropout\n",
    "# from keras.layers import LSTM\n",
    "from sklearn.preprocessing import MinMaxScaler\n",
    "from sklearn.metrics import mean_squared_error\n",
    "# from keras.layers.core import Dense, Activation, Dropout\n",
    "%matplotlib inline"
   ]
  },
  {
   "cell_type": "code",
   "execution_count": 2,
   "metadata": {},
   "outputs": [
    {
     "name": "stdout",
     "output_type": "stream",
     "text": [
      "E:\\Research Project\\DKASC, Alice Springs\n"
     ]
    }
   ],
   "source": [
    "print(os.getcwd()) # 打印当前工作目录"
   ]
  },
  {
   "cell_type": "code",
   "execution_count": 3,
   "metadata": {},
   "outputs": [
    {
     "data": {
      "text/plain": [
       "['.idea',\n",
       " '.ipynb_checkpoints',\n",
       " '101-Site_DKA-WeatherStation',\n",
       " '96-Site_DKA-MasterMeter1',\n",
       " 'Alice_Springs_2016-2020',\n",
       " 'CNN模型训练0809.ipynb',\n",
       " 'Dataset',\n",
       " 'logs',\n",
       " 'picture',\n",
       " 'Predict',\n",
       " 'Program backups',\n",
       " 'temp',\n",
       " 'venv',\n",
       " '异常值检验.ipynb',\n",
       " '数据集_小波包分解重构数据.ipynb',\n",
       " '数据集_预处理_第二版0702.ipynb',\n",
       " '测试小波分解.ipynb',\n",
       " '测试模型0622.ipynb',\n",
       " '测试模型0704.ipynb',\n",
       " '测试模型0704批量.ipynb',\n",
       " '测试模型小波包分解0704批量.ipynb',\n",
       " '画图.ipynb',\n",
       " '画图0704.ipynb',\n",
       " '相关性分析.ipynb',\n",
       " '笔记.ipynb',\n",
       " '训练模型0622.ipynb',\n",
       " '训练模型0702.ipynb',\n",
       " '训练模型0703 WPD.ipynb']"
      ]
     },
     "execution_count": 3,
     "metadata": {},
     "output_type": "execute_result"
    }
   ],
   "source": [
    "os.listdir(os.getcwd())"
   ]
  },
  {
   "cell_type": "code",
   "execution_count": 4,
   "metadata": {},
   "outputs": [],
   "source": [
    "os.chdir(\"./Alice_Springs_2016-2020/\")"
   ]
  },
  {
   "cell_type": "code",
   "execution_count": 5,
   "metadata": {},
   "outputs": [
    {
     "data": {
      "text/plain": [
       "['3D.jpg',\n",
       " 'Alice_Springs_2016.csv',\n",
       " 'Alice_Springs_2017.csv',\n",
       " 'Alice_Springs_2018.csv',\n",
       " 'Alice_Springs_2019.csv',\n",
       " 'Alice_Springs_2020.csv']"
      ]
     },
     "execution_count": 5,
     "metadata": {},
     "output_type": "execute_result"
    }
   ],
   "source": [
    "os.listdir()"
   ]
  },
  {
   "cell_type": "code",
   "execution_count": 6,
   "metadata": {},
   "outputs": [],
   "source": [
    "dataset1 = pd.read_csv('Alice_Springs_2016.csv')\n",
    "dataset2 = pd.read_csv('Alice_Springs_2017.csv')\n",
    "dataset3 = pd.read_csv('Alice_Springs_2018.csv')\n",
    "dataset4 = pd.read_csv('Alice_Springs_2019.csv')"
   ]
  },
  {
   "cell_type": "code",
   "execution_count": 7,
   "metadata": {},
   "outputs": [
    {
     "name": "stdout",
     "output_type": "stream",
     "text": [
      "(105462, 66)\n",
      "(105155, 52)\n",
      "(105229, 53)\n",
      "(105321, 53)\n"
     ]
    }
   ],
   "source": [
    "#查看输入数据维度\n",
    "print(dataset1.shape)\n",
    "print(dataset2.shape)\n",
    "print(dataset3.shape)\n",
    "print(dataset4.shape)"
   ]
  },
  {
   "cell_type": "code",
   "execution_count": 8,
   "metadata": {},
   "outputs": [
    {
     "name": "stderr",
     "output_type": "stream",
     "text": [
      "C:\\ProgramData\\Anaconda3\\lib\\site-packages\\ipykernel_launcher.py:1: FutureWarning: Sorting because non-concatenation axis is not aligned. A future version\n",
      "of pandas will change to not sort by default.\n",
      "\n",
      "To accept the future behavior, pass 'sort=False'.\n",
      "\n",
      "To retain the current behavior and silence the warning, pass 'sort=True'.\n",
      "\n",
      "  \"\"\"Entry point for launching an IPython kernel.\n"
     ]
    }
   ],
   "source": [
    "dataset = pd.concat([dataset1,dataset2,dataset3,dataset4],axis=0)"
   ]
  },
  {
   "cell_type": "code",
   "execution_count": 9,
   "metadata": {},
   "outputs": [
    {
     "name": "stdout",
     "output_type": "stream",
     "text": [
      "(421167, 70)\n"
     ]
    }
   ],
   "source": [
    "print(dataset.shape)"
   ]
  },
  {
   "cell_type": "code",
   "execution_count": 10,
   "metadata": {},
   "outputs": [],
   "source": [
    "dataset = dataset[['Timestamp',\n",
    "       'DKA.WeatherStation - Weather Temperature Celsius (°C)',\n",
    "       'DKA.WeatherStation - Weather Relative Humidity (%)',\n",
    "       'DKA.WeatherStation - Wind Speed (m/s)',\n",
    "       'DKA.WeatherStation - Wind Direction (Degrees)',\n",
    "       'DKA.WeatherStation - Weather Daily Rainfall (mm)',\n",
    "       'DKA.WeatherStation - Global Horizontal Radiation (W/m²)',\n",
    "       'DKA.WeatherStation - Diffuse Horizontal Radiation (W/m²)',\n",
    "       'DKA.WeatherStation - Radiation Global Tilted (W/m²)',\n",
    "       'DKA.WeatherStation - Radiation Diffuse Tilted (W/m²)',\n",
    "       '1A Trina - Active Power (kW)',\n",
    "       '1B Trina - Active Power (kW)', '2 eco-Kinetics - Active Power (kW)',\n",
    "       '3 BP Solar - Active Power (kW)', '4 Kyocera - Active Power (kW)',\n",
    "       '5 Kyocera - Active Power (kW)', '6 Kyocera - Active Power (kW)',\n",
    "       '7 First Solar - Active Power (kW)', '8 Kaneka - Active Power (kW)',\n",
    "       'DKA.MasterMeter1 - Active Power (kW)',\n",
    "       'DKA.MasterMeter2 - Active Power (kW)']]\n",
    "# print(dataset.head(5))"
   ]
  },
  {
   "cell_type": "code",
   "execution_count": 11,
   "metadata": {},
   "outputs": [
    {
     "data": {
      "text/html": [
       "<div>\n",
       "<style scoped>\n",
       "    .dataframe tbody tr th:only-of-type {\n",
       "        vertical-align: middle;\n",
       "    }\n",
       "\n",
       "    .dataframe tbody tr th {\n",
       "        vertical-align: top;\n",
       "    }\n",
       "\n",
       "    .dataframe thead th {\n",
       "        text-align: right;\n",
       "    }\n",
       "</style>\n",
       "<table border=\"1\" class=\"dataframe\">\n",
       "  <thead>\n",
       "    <tr style=\"text-align: right;\">\n",
       "      <th></th>\n",
       "      <th>Timestamp</th>\n",
       "      <th>DKA.WeatherStation - Weather Temperature Celsius (°C)</th>\n",
       "      <th>DKA.WeatherStation - Weather Relative Humidity (%)</th>\n",
       "      <th>DKA.WeatherStation - Wind Speed (m/s)</th>\n",
       "      <th>DKA.WeatherStation - Wind Direction (Degrees)</th>\n",
       "      <th>DKA.WeatherStation - Weather Daily Rainfall (mm)</th>\n",
       "      <th>DKA.WeatherStation - Global Horizontal Radiation (W/m²)</th>\n",
       "      <th>DKA.WeatherStation - Diffuse Horizontal Radiation (W/m²)</th>\n",
       "      <th>DKA.WeatherStation - Radiation Global Tilted (W/m²)</th>\n",
       "      <th>DKA.WeatherStation - Radiation Diffuse Tilted (W/m²)</th>\n",
       "      <th>...</th>\n",
       "      <th>1B Trina - Active Power (kW)</th>\n",
       "      <th>2 eco-Kinetics - Active Power (kW)</th>\n",
       "      <th>3 BP Solar - Active Power (kW)</th>\n",
       "      <th>4 Kyocera - Active Power (kW)</th>\n",
       "      <th>5 Kyocera - Active Power (kW)</th>\n",
       "      <th>6 Kyocera - Active Power (kW)</th>\n",
       "      <th>7 First Solar - Active Power (kW)</th>\n",
       "      <th>8 Kaneka - Active Power (kW)</th>\n",
       "      <th>DKA.MasterMeter1 - Active Power (kW)</th>\n",
       "      <th>DKA.MasterMeter2 - Active Power (kW)</th>\n",
       "    </tr>\n",
       "  </thead>\n",
       "  <tbody>\n",
       "    <tr>\n",
       "      <th>0</th>\n",
       "      <td>2016/1/1 0:00</td>\n",
       "      <td>17.176111</td>\n",
       "      <td>87.095665</td>\n",
       "      <td>2.421402</td>\n",
       "      <td>186.941284</td>\n",
       "      <td>0.0</td>\n",
       "      <td>2.672255</td>\n",
       "      <td>1.103375</td>\n",
       "      <td>1.868883</td>\n",
       "      <td>1.853108</td>\n",
       "      <td>...</td>\n",
       "      <td>0.0</td>\n",
       "      <td>0.000133</td>\n",
       "      <td>0.0004</td>\n",
       "      <td>0.0</td>\n",
       "      <td>0.0</td>\n",
       "      <td>-0.02</td>\n",
       "      <td>0.0002</td>\n",
       "      <td>0.0</td>\n",
       "      <td>NaN</td>\n",
       "      <td>-0.233352</td>\n",
       "    </tr>\n",
       "    <tr>\n",
       "      <th>1</th>\n",
       "      <td>2016/1/1 0:05</td>\n",
       "      <td>17.133446</td>\n",
       "      <td>87.671669</td>\n",
       "      <td>2.688986</td>\n",
       "      <td>191.876770</td>\n",
       "      <td>0.0</td>\n",
       "      <td>2.703700</td>\n",
       "      <td>1.152340</td>\n",
       "      <td>1.803461</td>\n",
       "      <td>1.796472</td>\n",
       "      <td>...</td>\n",
       "      <td>0.0</td>\n",
       "      <td>0.000200</td>\n",
       "      <td>0.0004</td>\n",
       "      <td>0.0</td>\n",
       "      <td>0.0</td>\n",
       "      <td>-0.02</td>\n",
       "      <td>0.0002</td>\n",
       "      <td>0.0</td>\n",
       "      <td>NaN</td>\n",
       "      <td>-0.243912</td>\n",
       "    </tr>\n",
       "  </tbody>\n",
       "</table>\n",
       "<p>2 rows × 21 columns</p>\n",
       "</div>"
      ],
      "text/plain": [
       "       Timestamp  DKA.WeatherStation - Weather Temperature Celsius (°C)  \\\n",
       "0  2016/1/1 0:00                                          17.176111       \n",
       "1  2016/1/1 0:05                                          17.133446       \n",
       "\n",
       "   DKA.WeatherStation - Weather Relative Humidity (%)  \\\n",
       "0                                          87.095665    \n",
       "1                                          87.671669    \n",
       "\n",
       "   DKA.WeatherStation - Wind Speed (m/s)  \\\n",
       "0                               2.421402   \n",
       "1                               2.688986   \n",
       "\n",
       "   DKA.WeatherStation - Wind Direction (Degrees)  \\\n",
       "0                                     186.941284   \n",
       "1                                     191.876770   \n",
       "\n",
       "   DKA.WeatherStation - Weather Daily Rainfall (mm)  \\\n",
       "0                                               0.0   \n",
       "1                                               0.0   \n",
       "\n",
       "   DKA.WeatherStation - Global Horizontal Radiation (W/m²)  \\\n",
       "0                                           2.672255         \n",
       "1                                           2.703700         \n",
       "\n",
       "   DKA.WeatherStation - Diffuse Horizontal Radiation (W/m²)  \\\n",
       "0                                           1.103375          \n",
       "1                                           1.152340          \n",
       "\n",
       "   DKA.WeatherStation - Radiation Global Tilted (W/m²)  \\\n",
       "0                                           1.868883     \n",
       "1                                           1.803461     \n",
       "\n",
       "   DKA.WeatherStation - Radiation Diffuse Tilted (W/m²)  ...  \\\n",
       "0                                           1.853108     ...   \n",
       "1                                           1.796472     ...   \n",
       "\n",
       "   1B Trina - Active Power (kW)  2 eco-Kinetics - Active Power (kW)  \\\n",
       "0                           0.0                            0.000133   \n",
       "1                           0.0                            0.000200   \n",
       "\n",
       "   3 BP Solar - Active Power (kW)  4 Kyocera - Active Power (kW)  \\\n",
       "0                          0.0004                            0.0   \n",
       "1                          0.0004                            0.0   \n",
       "\n",
       "   5 Kyocera - Active Power (kW)  6 Kyocera - Active Power (kW)  \\\n",
       "0                            0.0                          -0.02   \n",
       "1                            0.0                          -0.02   \n",
       "\n",
       "   7 First Solar - Active Power (kW)  8 Kaneka - Active Power (kW)  \\\n",
       "0                             0.0002                           0.0   \n",
       "1                             0.0002                           0.0   \n",
       "\n",
       "   DKA.MasterMeter1 - Active Power (kW)  DKA.MasterMeter2 - Active Power (kW)  \n",
       "0                                   NaN                             -0.233352  \n",
       "1                                   NaN                             -0.243912  \n",
       "\n",
       "[2 rows x 21 columns]"
      ]
     },
     "execution_count": 11,
     "metadata": {},
     "output_type": "execute_result"
    }
   ],
   "source": [
    "dataset.head(2)"
   ]
  },
  {
   "cell_type": "code",
   "execution_count": 12,
   "metadata": {},
   "outputs": [],
   "source": [
    "#电站和气象数据重命名\n",
    "dataset.rename(columns={\n",
    "       'DKA.WeatherStation - Weather Temperature Celsius (°C)':'Temperature(°C)',\n",
    "       'DKA.WeatherStation - Weather Relative Humidity (%)':'Relative Humidity(%)',\n",
    "       'DKA.WeatherStation - Wind Speed (m/s)':'Wind Speed(m/s)',\n",
    "       'DKA.WeatherStation - Wind Direction (Degrees)':'Wind Direction(Degrees)',\n",
    "       'DKA.WeatherStation - Weather Daily Rainfall (mm)':'Daily Rainfall(mm)',\n",
    "       'DKA.WeatherStation - Global Horizontal Radiation (W/m²)':'Global Horizontal Radiation(W/m²)',\n",
    "       'DKA.WeatherStation - Diffuse Horizontal Radiation (W/m²)':'Diffuse Horizontal Radiation(W/m²)',\n",
    "       'DKA.WeatherStation - Radiation Global Tilted (W/m²)':'Radiation Global Tilted(W/m²)',\n",
    "       'DKA.WeatherStation - Radiation Diffuse Tilted (W/m²)':'Radiation Diffuse Tilted(W/m²)',\n",
    "       '1A Trina - Active Power (kW)':'1A Trina_power',\n",
    "       '1B Trina - Active Power (kW)':'1B Trina_power',\n",
    "       '2 eco-Kinetics - Active Power (kW)':'2 eco_power',\n",
    "       '3 BP Solar - Active Power (kW)':'3 BP_power',\n",
    "       '4 Kyocera - Active Power (kW)':'4 Kyocera_power',\n",
    "       '5 Kyocera - Active Power (kW)':'5 Kyocera_power',\n",
    "       '6 Kyocera - Active Power (kW)':'6 Kyocera_power',\n",
    "       '7 First Solar - Active Power (kW)':'7 First_power',\n",
    "       '8 Kaneka - Active Power (kW)':'8 Kaneka_power',\n",
    "       'DKA.MasterMeter1 - Active Power (kW)':'DKA.Meter1_power',\n",
    "       'DKA.MasterMeter2 - Active Power (kW)':'DKA.Meter2_power'},inplace=True)\n",
    "\n",
    "# dataset.columns"
   ]
  },
  {
   "cell_type": "code",
   "execution_count": 13,
   "metadata": {
    "scrolled": true
   },
   "outputs": [
    {
     "data": {
      "text/html": [
       "<div>\n",
       "<style scoped>\n",
       "    .dataframe tbody tr th:only-of-type {\n",
       "        vertical-align: middle;\n",
       "    }\n",
       "\n",
       "    .dataframe tbody tr th {\n",
       "        vertical-align: top;\n",
       "    }\n",
       "\n",
       "    .dataframe thead th {\n",
       "        text-align: right;\n",
       "    }\n",
       "</style>\n",
       "<table border=\"1\" class=\"dataframe\">\n",
       "  <thead>\n",
       "    <tr style=\"text-align: right;\">\n",
       "      <th></th>\n",
       "      <th>Timestamp</th>\n",
       "      <th>Temperature(°C)</th>\n",
       "      <th>Relative Humidity(%)</th>\n",
       "      <th>Wind Speed(m/s)</th>\n",
       "      <th>Wind Direction(Degrees)</th>\n",
       "      <th>Daily Rainfall(mm)</th>\n",
       "      <th>Global Horizontal Radiation(W/m²)</th>\n",
       "      <th>Diffuse Horizontal Radiation(W/m²)</th>\n",
       "      <th>Radiation Global Tilted(W/m²)</th>\n",
       "      <th>Radiation Diffuse Tilted(W/m²)</th>\n",
       "      <th>...</th>\n",
       "      <th>1B Trina_power</th>\n",
       "      <th>2 eco_power</th>\n",
       "      <th>3 BP_power</th>\n",
       "      <th>4 Kyocera_power</th>\n",
       "      <th>5 Kyocera_power</th>\n",
       "      <th>6 Kyocera_power</th>\n",
       "      <th>7 First_power</th>\n",
       "      <th>8 Kaneka_power</th>\n",
       "      <th>DKA.Meter1_power</th>\n",
       "      <th>DKA.Meter2_power</th>\n",
       "    </tr>\n",
       "  </thead>\n",
       "  <tbody>\n",
       "    <tr>\n",
       "      <th>0</th>\n",
       "      <td>2016/1/1 0:00</td>\n",
       "      <td>17.176111</td>\n",
       "      <td>87.095665</td>\n",
       "      <td>2.421402</td>\n",
       "      <td>186.941284</td>\n",
       "      <td>0.0</td>\n",
       "      <td>2.672255</td>\n",
       "      <td>1.103375</td>\n",
       "      <td>1.868883</td>\n",
       "      <td>1.853108</td>\n",
       "      <td>...</td>\n",
       "      <td>0.0</td>\n",
       "      <td>0.000133</td>\n",
       "      <td>0.0004</td>\n",
       "      <td>0.0</td>\n",
       "      <td>0.0</td>\n",
       "      <td>-0.02</td>\n",
       "      <td>0.0002</td>\n",
       "      <td>0.0</td>\n",
       "      <td>NaN</td>\n",
       "      <td>-0.233352</td>\n",
       "    </tr>\n",
       "    <tr>\n",
       "      <th>1</th>\n",
       "      <td>2016/1/1 0:05</td>\n",
       "      <td>17.133446</td>\n",
       "      <td>87.671669</td>\n",
       "      <td>2.688986</td>\n",
       "      <td>191.876770</td>\n",
       "      <td>0.0</td>\n",
       "      <td>2.703700</td>\n",
       "      <td>1.152340</td>\n",
       "      <td>1.803461</td>\n",
       "      <td>1.796472</td>\n",
       "      <td>...</td>\n",
       "      <td>0.0</td>\n",
       "      <td>0.000200</td>\n",
       "      <td>0.0004</td>\n",
       "      <td>0.0</td>\n",
       "      <td>0.0</td>\n",
       "      <td>-0.02</td>\n",
       "      <td>0.0002</td>\n",
       "      <td>0.0</td>\n",
       "      <td>NaN</td>\n",
       "      <td>-0.243912</td>\n",
       "    </tr>\n",
       "  </tbody>\n",
       "</table>\n",
       "<p>2 rows × 21 columns</p>\n",
       "</div>"
      ],
      "text/plain": [
       "       Timestamp  Temperature(°C)  Relative Humidity(%)  Wind Speed(m/s)  \\\n",
       "0  2016/1/1 0:00        17.176111             87.095665         2.421402   \n",
       "1  2016/1/1 0:05        17.133446             87.671669         2.688986   \n",
       "\n",
       "   Wind Direction(Degrees)  Daily Rainfall(mm)  \\\n",
       "0               186.941284                 0.0   \n",
       "1               191.876770                 0.0   \n",
       "\n",
       "   Global Horizontal Radiation(W/m²)  Diffuse Horizontal Radiation(W/m²)  \\\n",
       "0                           2.672255                            1.103375   \n",
       "1                           2.703700                            1.152340   \n",
       "\n",
       "   Radiation Global Tilted(W/m²)  Radiation Diffuse Tilted(W/m²)  ...  \\\n",
       "0                       1.868883                        1.853108  ...   \n",
       "1                       1.803461                        1.796472  ...   \n",
       "\n",
       "   1B Trina_power  2 eco_power  3 BP_power  4 Kyocera_power  5 Kyocera_power  \\\n",
       "0             0.0     0.000133      0.0004              0.0              0.0   \n",
       "1             0.0     0.000200      0.0004              0.0              0.0   \n",
       "\n",
       "   6 Kyocera_power  7 First_power  8 Kaneka_power  DKA.Meter1_power  \\\n",
       "0            -0.02         0.0002             0.0               NaN   \n",
       "1            -0.02         0.0002             0.0               NaN   \n",
       "\n",
       "   DKA.Meter2_power  \n",
       "0         -0.233352  \n",
       "1         -0.243912  \n",
       "\n",
       "[2 rows x 21 columns]"
      ]
     },
     "execution_count": 13,
     "metadata": {},
     "output_type": "execute_result"
    }
   ],
   "source": [
    "dataset.head(2)"
   ]
  },
  {
   "cell_type": "code",
   "execution_count": 14,
   "metadata": {},
   "outputs": [
    {
     "name": "stdout",
     "output_type": "stream",
     "text": [
      "训练集初始维度： (421167, 21)\n",
      "训练集去除全空维度： (421167, 21)\n"
     ]
    }
   ],
   "source": [
    "print('训练集初始维度：',dataset.shape)\n",
    "dataset.dropna(axis=\"columns\", how='all', inplace=True)  #删除掉训练集全是空值的列\n",
    "dataset.dropna(axis=\"index\", how='all', inplace=True)   #删除掉训练集全是空值的行\n",
    "print('训练集去除全空维度：',dataset.shape)\n",
    "# dataset"
   ]
  },
  {
   "cell_type": "code",
   "execution_count": 15,
   "metadata": {
    "scrolled": false
   },
   "outputs": [
    {
     "data": {
      "text/plain": [
       "Index(['Timestamp', 'Temperature(°C)', 'Relative Humidity(%)',\n",
       "       'Wind Speed(m/s)', 'Wind Direction(Degrees)', 'Daily Rainfall(mm)',\n",
       "       'Global Horizontal Radiation(W/m²)',\n",
       "       'Diffuse Horizontal Radiation(W/m²)', 'Radiation Global Tilted(W/m²)',\n",
       "       'Radiation Diffuse Tilted(W/m²)', '1A Trina_power', '1B Trina_power',\n",
       "       '2 eco_power', '3 BP_power', '4 Kyocera_power', '5 Kyocera_power',\n",
       "       '6 Kyocera_power', '7 First_power', '8 Kaneka_power',\n",
       "       'DKA.Meter1_power', 'DKA.Meter2_power'],\n",
       "      dtype='object')"
      ]
     },
     "execution_count": 15,
     "metadata": {},
     "output_type": "execute_result"
    }
   ],
   "source": [
    "dataset.columns"
   ]
  },
  {
   "cell_type": "code",
   "execution_count": 16,
   "metadata": {},
   "outputs": [
    {
     "name": "stdout",
     "output_type": "stream",
     "text": [
      "训练集初始维度： (421167, 21)\n",
      "训练集去除全空维度： (417722, 21)\n"
     ]
    }
   ],
   "source": [
    "print('训练集初始维度：',dataset.shape)\n",
    "dataset.dropna(axis=\"index\",thresh=16 , inplace=True)  #删除掉全是空值的行\n",
    "dataset.dropna(axis=\"columns\", how='all', inplace=True)  #删除掉全是空值的列\n",
    "print('训练集去除全空维度：',dataset.shape)"
   ]
  },
  {
   "cell_type": "code",
   "execution_count": 17,
   "metadata": {},
   "outputs": [],
   "source": [
    "# fillcolumns=['Temperature(°C)', 'Relative Humidity(%)',\n",
    "#        'Wind Speed(m/s)', 'Wind Direction(Degrees)', 'Daily Rainfall(mm)',\n",
    "#        'Global Horizontal Radiation(W/m²)',\n",
    "#        'Diffuse Horizontal Radiation(W/m²)', 'Radiation Global Tilted(W/m²)',\n",
    "#        'Radiation Diffuse Tilted(W/m²)', '1A Trina_power', '1B Trina_power',\n",
    "#        '2 eco_power', '3 BP_power', '4 Kyocera_power', '5 Kyocera_power',\n",
    "#        '6 Kyocera_power', '7 First_power', '8 Kaneka_power',\n",
    "#        'DKA.Meter1_power', 'DKA.Meter2_power']\n",
    "# for i in fillcolumns:\n",
    "#     dataset[i] = dataset[i].fillna(method='ffill')\n",
    "# #     print(\"训练集\",i,\"列去掉全空\")\n",
    "#     print(dataset.loc[dataset[i].isnull(),:])"
   ]
  },
  {
   "cell_type": "code",
   "execution_count": 18,
   "metadata": {},
   "outputs": [
    {
     "name": "stdout",
     "output_type": "stream",
     "text": [
      "训练集初始维度： (417722, 21)\n",
      "训练集去除全空维度： (180831, 21)\n"
     ]
    }
   ],
   "source": [
    "print('训练集初始维度：',dataset.shape)\n",
    "dataset.dropna(axis=0, how='any', inplace=True)\n",
    "print('训练集去除全空维度：',dataset.shape)"
   ]
  },
  {
   "cell_type": "code",
   "execution_count": 19,
   "metadata": {},
   "outputs": [],
   "source": [
    "# dataset = dataset.drop(['Wind Speed(m/s)','Radiation Global Tilted(W/m²)',\n",
    "#        'Radiation Diffuse Tilted(W/m²)'],axis=1)"
   ]
  },
  {
   "cell_type": "code",
   "execution_count": 20,
   "metadata": {},
   "outputs": [
    {
     "data": {
      "text/plain": [
       "Index(['Timestamp', 'Temperature(°C)', 'Relative Humidity(%)',\n",
       "       'Wind Speed(m/s)', 'Wind Direction(Degrees)', 'Daily Rainfall(mm)',\n",
       "       'Global Horizontal Radiation(W/m²)',\n",
       "       'Diffuse Horizontal Radiation(W/m²)', 'Radiation Global Tilted(W/m²)',\n",
       "       'Radiation Diffuse Tilted(W/m²)', '1A Trina_power', '1B Trina_power',\n",
       "       '2 eco_power', '3 BP_power', '4 Kyocera_power', '5 Kyocera_power',\n",
       "       '6 Kyocera_power', '7 First_power', '8 Kaneka_power',\n",
       "       'DKA.Meter1_power', 'DKA.Meter2_power', 'Year', 'Month', 'Day', 'Hour',\n",
       "       'Minutes'],\n",
       "      dtype='object')"
      ]
     },
     "execution_count": 20,
     "metadata": {},
     "output_type": "execute_result"
    }
   ],
   "source": [
    "strsplit = dataset.Timestamp.str.split(expand = True)\n",
    "strsplit.rename(columns={0:'date',1:'time'},inplace=True)\n",
    "date = strsplit.date.str.split(expand = True,pat='/')\n",
    "date.rename(columns={0:'Year',1:'Month',2:'Day'},inplace=True)\n",
    "time = strsplit.time.str.split(expand = True,pat=':')\n",
    "#time.rename(columns = {0:'H',1:'M',2:'S'},inplace = True)\n",
    "time.rename(columns = {0:'Hour',1:'Minutes'},inplace = True)\n",
    "dataset = pd.concat([dataset,date,time],axis=1)\n",
    "dataset.columns"
   ]
  },
  {
   "cell_type": "code",
   "execution_count": 21,
   "metadata": {},
   "outputs": [],
   "source": [
    "# # #数据类型转换\n",
    "dataset[['Year', 'Month','Day','Hour','Minutes']] = dataset[['Year', 'Month','Day','Hour','Minutes']].astype(int)\n",
    "# test[['Year', 'Month','Day','Hour','Minutes']] = test[['Year', 'Month','Day','Hour','Minutes']].astype(int)\n",
    "\n",
    "# #丢弃\n",
    "dataset = dataset.drop(dataset[(dataset.Hour < 7) | (dataset.Hour > 18)].index)\n",
    "# test = test.drop(test[(test.Hour < 7) | (test.Hour > 18)].index)\n"
   ]
  },
  {
   "cell_type": "code",
   "execution_count": 22,
   "metadata": {},
   "outputs": [
    {
     "data": {
      "text/plain": [
       "(81847, 26)"
      ]
     },
     "execution_count": 22,
     "metadata": {},
     "output_type": "execute_result"
    }
   ],
   "source": [
    "dataset.shape"
   ]
  },
  {
   "cell_type": "code",
   "execution_count": 23,
   "metadata": {},
   "outputs": [],
   "source": [
    "# dataset = dataset.drop(['Timestamp','DKA.Meter1_power'],axis=1)"
   ]
  },
  {
   "cell_type": "code",
   "execution_count": 24,
   "metadata": {},
   "outputs": [
    {
     "data": {
      "text/html": [
       "<div>\n",
       "<style scoped>\n",
       "    .dataframe tbody tr th:only-of-type {\n",
       "        vertical-align: middle;\n",
       "    }\n",
       "\n",
       "    .dataframe tbody tr th {\n",
       "        vertical-align: top;\n",
       "    }\n",
       "\n",
       "    .dataframe thead th {\n",
       "        text-align: right;\n",
       "    }\n",
       "</style>\n",
       "<table border=\"1\" class=\"dataframe\">\n",
       "  <thead>\n",
       "    <tr style=\"text-align: right;\">\n",
       "      <th></th>\n",
       "      <th>Timestamp</th>\n",
       "      <th>Temperature(°C)</th>\n",
       "      <th>Relative Humidity(%)</th>\n",
       "      <th>Wind Speed(m/s)</th>\n",
       "      <th>Wind Direction(Degrees)</th>\n",
       "      <th>Daily Rainfall(mm)</th>\n",
       "      <th>Global Horizontal Radiation(W/m²)</th>\n",
       "      <th>Diffuse Horizontal Radiation(W/m²)</th>\n",
       "      <th>Radiation Global Tilted(W/m²)</th>\n",
       "      <th>Radiation Diffuse Tilted(W/m²)</th>\n",
       "      <th>...</th>\n",
       "      <th>6 Kyocera_power</th>\n",
       "      <th>7 First_power</th>\n",
       "      <th>8 Kaneka_power</th>\n",
       "      <th>DKA.Meter1_power</th>\n",
       "      <th>DKA.Meter2_power</th>\n",
       "      <th>Year</th>\n",
       "      <th>Month</th>\n",
       "      <th>Day</th>\n",
       "      <th>Hour</th>\n",
       "      <th>Minutes</th>\n",
       "    </tr>\n",
       "  </thead>\n",
       "  <tbody>\n",
       "    <tr>\n",
       "      <th>26296</th>\n",
       "      <td>2016/4/1 7:00</td>\n",
       "      <td>12.006018</td>\n",
       "      <td>57.644600</td>\n",
       "      <td>0.493576</td>\n",
       "      <td>158.137421</td>\n",
       "      <td>0.0</td>\n",
       "      <td>11.729965</td>\n",
       "      <td>9.552049</td>\n",
       "      <td>20.626051</td>\n",
       "      <td>10.992537</td>\n",
       "      <td>...</td>\n",
       "      <td>-0.019967</td>\n",
       "      <td>0.000133</td>\n",
       "      <td>0.057033</td>\n",
       "      <td>0.861282</td>\n",
       "      <td>0.171209</td>\n",
       "      <td>2016</td>\n",
       "      <td>4</td>\n",
       "      <td>1</td>\n",
       "      <td>7</td>\n",
       "      <td>0</td>\n",
       "    </tr>\n",
       "    <tr>\n",
       "      <th>26297</th>\n",
       "      <td>2016/4/1 7:05</td>\n",
       "      <td>12.340275</td>\n",
       "      <td>54.618759</td>\n",
       "      <td>0.482336</td>\n",
       "      <td>225.061218</td>\n",
       "      <td>0.0</td>\n",
       "      <td>12.322770</td>\n",
       "      <td>10.344152</td>\n",
       "      <td>41.923687</td>\n",
       "      <td>12.609080</td>\n",
       "      <td>...</td>\n",
       "      <td>-0.020000</td>\n",
       "      <td>-0.000067</td>\n",
       "      <td>0.080533</td>\n",
       "      <td>3.007778</td>\n",
       "      <td>0.589261</td>\n",
       "      <td>2016</td>\n",
       "      <td>4</td>\n",
       "      <td>1</td>\n",
       "      <td>7</td>\n",
       "      <td>5</td>\n",
       "    </tr>\n",
       "  </tbody>\n",
       "</table>\n",
       "<p>2 rows × 26 columns</p>\n",
       "</div>"
      ],
      "text/plain": [
       "           Timestamp  Temperature(°C)  Relative Humidity(%)  Wind Speed(m/s)  \\\n",
       "26296  2016/4/1 7:00        12.006018             57.644600         0.493576   \n",
       "26297  2016/4/1 7:05        12.340275             54.618759         0.482336   \n",
       "\n",
       "       Wind Direction(Degrees)  Daily Rainfall(mm)  \\\n",
       "26296               158.137421                 0.0   \n",
       "26297               225.061218                 0.0   \n",
       "\n",
       "       Global Horizontal Radiation(W/m²)  Diffuse Horizontal Radiation(W/m²)  \\\n",
       "26296                          11.729965                            9.552049   \n",
       "26297                          12.322770                           10.344152   \n",
       "\n",
       "       Radiation Global Tilted(W/m²)  Radiation Diffuse Tilted(W/m²)  ...  \\\n",
       "26296                      20.626051                       10.992537  ...   \n",
       "26297                      41.923687                       12.609080  ...   \n",
       "\n",
       "       6 Kyocera_power  7 First_power  8 Kaneka_power  DKA.Meter1_power  \\\n",
       "26296        -0.019967       0.000133        0.057033          0.861282   \n",
       "26297        -0.020000      -0.000067        0.080533          3.007778   \n",
       "\n",
       "       DKA.Meter2_power  Year  Month  Day  Hour  Minutes  \n",
       "26296          0.171209  2016      4    1     7        0  \n",
       "26297          0.589261  2016      4    1     7        5  \n",
       "\n",
       "[2 rows x 26 columns]"
      ]
     },
     "execution_count": 24,
     "metadata": {},
     "output_type": "execute_result"
    }
   ],
   "source": [
    "dataset.head(2)"
   ]
  },
  {
   "cell_type": "code",
   "execution_count": 25,
   "metadata": {},
   "outputs": [],
   "source": [
    "# # 设定索引为日期，方便按日期筛选\n",
    "# dataset.set_index('Timestamp', inplace=True,drop=True)"
   ]
  },
  {
   "cell_type": "code",
   "execution_count": 26,
   "metadata": {
    "scrolled": true
   },
   "outputs": [],
   "source": [
    "# datase = dataset.values\n",
    "# datase = dataset.astype('float32')     # 将整型变为float\n",
    "# scaler = MinMaxScaler(feature_range=(0, 1)) # 数据处理，归一化至0~1之间\n",
    "# datase = scaler.fit_transform(datase)"
   ]
  },
  {
   "cell_type": "code",
   "execution_count": 27,
   "metadata": {},
   "outputs": [
    {
     "data": {
      "text/plain": [
       "(81847, 26)"
      ]
     },
     "execution_count": 27,
     "metadata": {},
     "output_type": "execute_result"
    }
   ],
   "source": [
    "dataset.shape"
   ]
  },
  {
   "cell_type": "code",
   "execution_count": 28,
   "metadata": {},
   "outputs": [],
   "source": [
    "def localoutlierfactor(data, predict, k):\n",
    "    from sklearn.neighbors import LocalOutlierFactor\n",
    "    clf = LocalOutlierFactor(n_neighbors=k + 1, algorithm='auto', contamination=0.1, n_jobs=-1)\n",
    "    clf.fit(data)\n",
    "    # 记录 k 邻域距离\n",
    "    predict['k distances'] = clf.kneighbors(predict)[0].max(axis=1)\n",
    "    # 记录 LOF 离群因子，做相反数处理\n",
    "    predict['local outlier factor'] = -clf._decision_function(predict.iloc[:, :-1])\n",
    "    return predict\n",
    "\n",
    "def plot_lof(result, method):\n",
    "    import matplotlib.pyplot as plt\n",
    "    plt.rcParams['font.sans-serif'] = ['SimHei']  # 用来正常显示中文标签\n",
    "    plt.rcParams['axes.unicode_minus'] = False  # 用来正常显示负号\n",
    "    plt.figure(figsize=(8, 4)).add_subplot(111)\n",
    "    plt.scatter(result[result['local outlier factor'] > method].index,\n",
    "                result[result['local outlier factor'] > method]['local outlier factor'], c='red', s=50,\n",
    "                marker='.', alpha=None,\n",
    "                label='离群点')\n",
    "    plt.scatter(result[result['local outlier factor'] <= method].index,\n",
    "                result[result['local outlier factor'] <= method]['local outlier factor'], c='black', s=50,\n",
    "                marker='.', alpha=None, label='正常点')\n",
    "    plt.hlines(method, -2, 2 + max(result.index), linestyles='--')\n",
    "    plt.xlim(-2, 2 + max(result.index))\n",
    "    plt.title('LOF局部离群点检测', fontsize=13)\n",
    "    plt.ylabel('局部离群因子', fontsize=15)\n",
    "    plt.legend()\n",
    "    plt.show()\n",
    "\n",
    "def lof(data, predict=None, k=5, method=1, plot=False):\n",
    "    import pandas as pd\n",
    "    # 判断是否传入测试数据，若没有传入则测试数据赋值为训练数据\n",
    "    try:\n",
    "        if predict == None:\n",
    "            predict = data.copy()\n",
    "    except Exception:\n",
    "        pass\n",
    "    predict = pd.DataFrame(predict)\n",
    "    # 计算 LOF 离群因子\n",
    "    predict = localoutlierfactor(data, predict, k)\n",
    "    if plot == True:\n",
    "        plot_lof(predict, method)\n",
    "    # 根据阈值划分离群点与正常点\n",
    "    outliers = predict[predict['local outlier factor'] > method].sort_values(by='local outlier factor')\n",
    "    inliers = predict[predict['local outlier factor'] <= method].sort_values(by='local outlier factor')\n",
    "    return outliers, inliers"
   ]
  },
  {
   "cell_type": "code",
   "execution_count": 29,
   "metadata": {},
   "outputs": [],
   "source": [
    "# data=pd.DataFrame(datase)\n",
    "# data.columns = ['Temperature(°C)', 'Relative Humidity(%)', 'Wind Speed(m/s)',\n",
    "#        'Wind Direction(Degrees)', 'Daily Rainfall(mm)',\n",
    "#        'Global Horizontal Radiation(W/m²)',\n",
    "#        'Diffuse Horizontal Radiation(W/m²)', 'Radiation Global Tilted(W/m²)',\n",
    "#        'Radiation Diffuse Tilted(W/m²)', '1A Trina_power', '1B Trina_power',\n",
    "#        '2 eco_power', '3 BP_power', '4 Kyocera_power', '5 Kyocera_power',\n",
    "#        '6 Kyocera_power', '7 First_power', '8 Kaneka_power',\n",
    "#        'DKA.Meter2_power', 'Year', 'Month', 'Day', 'Hour', 'Minutes']"
   ]
  },
  {
   "cell_type": "code",
   "execution_count": 30,
   "metadata": {},
   "outputs": [
    {
     "data": {
      "text/plain": [
       "Index(['Timestamp', 'Temperature(°C)', 'Relative Humidity(%)',\n",
       "       'Wind Speed(m/s)', 'Wind Direction(Degrees)', 'Daily Rainfall(mm)',\n",
       "       'Global Horizontal Radiation(W/m²)',\n",
       "       'Diffuse Horizontal Radiation(W/m²)', 'Radiation Global Tilted(W/m²)',\n",
       "       'Radiation Diffuse Tilted(W/m²)', '1A Trina_power', '1B Trina_power',\n",
       "       '2 eco_power', '3 BP_power', '4 Kyocera_power', '5 Kyocera_power',\n",
       "       '6 Kyocera_power', '7 First_power', '8 Kaneka_power',\n",
       "       'DKA.Meter1_power', 'DKA.Meter2_power', 'Year', 'Month', 'Day', 'Hour',\n",
       "       'Minutes'],\n",
       "      dtype='object')"
      ]
     },
     "execution_count": 30,
     "metadata": {},
     "output_type": "execute_result"
    }
   ],
   "source": [
    "dataset.columns"
   ]
  },
  {
   "cell_type": "code",
   "execution_count": 31,
   "metadata": {},
   "outputs": [],
   "source": [
    "# GHR = np.array((dataset['Global Horizontal Radiation(W/m²)'][:]+ dataset['Radiation Global Tilted(W/m²)'][:])/2)  # 经度\n",
    "# GHR = np.array(dataset['Global Horizontal Radiation(W/m²)'][:])  # 水平辐照度\n",
    "RGT = np.array(dataset['Radiation Global Tilted(W/m²)'][:]) #全球倾角辐照度\n",
    "Power = np.array(dataset['DKA.Meter1_power'][:])  # 纬度\n",
    "# A = list(zip(GHR, Power))  # 按水平辐照度-出力功率匹配\n",
    "A = list(zip(RGT, Power))  # 倾角辐照度-出力功率匹配"
   ]
  },
  {
   "cell_type": "code",
   "execution_count": 32,
   "metadata": {
    "scrolled": false
   },
   "outputs": [],
   "source": [
    "# outliers1, inliers1 = lof(A, k=3, method = 2)"
   ]
  },
  {
   "cell_type": "code",
   "execution_count": 33,
   "metadata": {},
   "outputs": [
    {
     "name": "stderr",
     "output_type": "stream",
     "text": [
      "C:\\ProgramData\\Anaconda3\\lib\\site-packages\\scipy\\stats\\stats.py:1713: FutureWarning: Using a non-tuple sequence for multidimensional indexing is deprecated; use `arr[tuple(seq)]` instead of `arr[seq]`. In the future this will be interpreted as an array index, `arr[np.array(seq)]`, which will result either in an error or a different result.\n",
      "  return np.add.reduce(sorted[indexer] * weights, axis=axis) / sumval\n"
     ]
    },
    {
     "name": "stdout",
     "output_type": "stream",
     "text": [
      "(102, 4)\n",
      "(67, 4)\n",
      "(83, 4)\n"
     ]
    }
   ],
   "source": [
    "for k in [3,5,10]:\n",
    "    outliers1, inliers1 = lof(A, k=k, method = 2)\n",
    "    print(outliers1.shape)"
   ]
  },
  {
   "cell_type": "code",
   "execution_count": 34,
   "metadata": {},
   "outputs": [
    {
     "name": "stderr",
     "output_type": "stream",
     "text": [
      "C:\\ProgramData\\Anaconda3\\lib\\site-packages\\scipy\\stats\\stats.py:1713: FutureWarning: Using a non-tuple sequence for multidimensional indexing is deprecated; use `arr[tuple(seq)]` instead of `arr[seq]`. In the future this will be interpreted as an array index, `arr[np.array(seq)]`, which will result either in an error or a different result.\n",
      "  return np.add.reduce(sorted[indexer] * weights, axis=axis) / sumval\n"
     ]
    },
    {
     "data": {
      "image/png": "[encoded data removed]",
      "text/plain": [
       "<Figure size 432x288 with 1 Axes>"
      ]
     },
     "metadata": {},
     "output_type": "display_data"
    },
    {
     "data": {
      "image/png": "[encoded data removed]",
      "text/plain": [
       "<Figure size 432x288 with 1 Axes>"
      ]
     },
     "metadata": {},
     "output_type": "display_data"
    },
    {
     "data": {
      "image/png": "[encoded data removed]",
      "text/plain": [
       "<Figure size 432x288 with 1 Axes>"
      ]
     },
     "metadata": {},
     "output_type": "display_data"
    }
   ],
   "source": [
    "import matplotlib.pyplot as plt\n",
    "for k in [3,5,10]:\n",
    "    plt.figure('k=%d'%k)\n",
    "#     plt.rcParams['font.sans-serif']=['FangSong'] \n",
    "    outliers1, inliers1 = lof(A, k=k, method = 2)\n",
    "    plt.scatter(np.array(A)[:,0],np.array(A)[:,1],s = 20,c='b',alpha = 0.5)\n",
    "    plt.scatter(outliers1[0],outliers1[1],s = 10+outliers1['local outlier factor']*100,c='r',alpha = 0.2)\n",
    "#     plt.title('k=%d' % k,fontsize=14)\n",
    "#     plt.xlabel('全球水平辐照度',fontsize=14)\n",
    "#     plt.ylabel('光伏出力功率',fontsize=14)\n",
    "#     plt.savefig('../picture/全球水平辐射异常104k=%d.jpg'%k,dpi=300)\n",
    "    plt.savefig('../picture/全球倾角辐射异常104k=%d.jpg'%k,dpi=300)\n",
    "#     plt.savefig('../picture/全球水平辐射异常104k=%d.pdf'%k,format=\"pdf\",dpi=300)\n",
    "    plt.show()"
   ]
  },
  {
   "cell_type": "code",
   "execution_count": null,
   "metadata": {},
   "outputs": [],
   "source": []
  }
 ],
 "metadata": {
  "kernelspec": {
   "display_name": "Python 3",
   "language": "python",
   "name": "python3"
  },
  "language_info": {
   "codemirror_mode": {
    "name": "ipython",
    "version": 3
   },
   "file_extension": ".py",
   "mimetype": "text/x-python",
   "name": "python",
   "nbconvert_exporter": "python",
   "pygments_lexer": "ipython3",
   "version": "3.6.5"
  }
 },
 "nbformat": 4,
 "nbformat_minor": 2
}
