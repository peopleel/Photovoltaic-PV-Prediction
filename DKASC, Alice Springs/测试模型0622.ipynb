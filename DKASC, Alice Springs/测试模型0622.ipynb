{
 "cells": [
  {
   "cell_type": "markdown",
   "metadata": {},
   "source": [
    "# test 1-8 SVM BP DNN LSTM-WDWDR"
   ]
  },
  {
   "cell_type": "code",
   "execution_count": 1,
   "metadata": {},
   "outputs": [
    {
     "name": "stderr",
     "output_type": "stream",
     "text": [
      "C:\\ProgramData\\Anaconda3\\lib\\site-packages\\tensorflow\\python\\framework\\dtypes.py:469: FutureWarning: Passing (type, 1) or '1type' as a synonym of type is deprecated; in a future version of numpy, it will be understood as (type, (1,)) / '(1,)type'.\n",
      "  _np_qint8 = np.dtype([(\"qint8\", np.int8, 1)])\n",
      "C:\\ProgramData\\Anaconda3\\lib\\site-packages\\tensorflow\\python\\framework\\dtypes.py:470: FutureWarning: Passing (type, 1) or '1type' as a synonym of type is deprecated; in a future version of numpy, it will be understood as (type, (1,)) / '(1,)type'.\n",
      "  _np_quint8 = np.dtype([(\"quint8\", np.uint8, 1)])\n",
      "C:\\ProgramData\\Anaconda3\\lib\\site-packages\\tensorflow\\python\\framework\\dtypes.py:471: FutureWarning: Passing (type, 1) or '1type' as a synonym of type is deprecated; in a future version of numpy, it will be understood as (type, (1,)) / '(1,)type'.\n",
      "  _np_qint16 = np.dtype([(\"qint16\", np.int16, 1)])\n",
      "C:\\ProgramData\\Anaconda3\\lib\\site-packages\\tensorflow\\python\\framework\\dtypes.py:472: FutureWarning: Passing (type, 1) or '1type' as a synonym of type is deprecated; in a future version of numpy, it will be understood as (type, (1,)) / '(1,)type'.\n",
      "  _np_quint16 = np.dtype([(\"quint16\", np.uint16, 1)])\n",
      "C:\\ProgramData\\Anaconda3\\lib\\site-packages\\tensorflow\\python\\framework\\dtypes.py:473: FutureWarning: Passing (type, 1) or '1type' as a synonym of type is deprecated; in a future version of numpy, it will be understood as (type, (1,)) / '(1,)type'.\n",
      "  _np_qint32 = np.dtype([(\"qint32\", np.int32, 1)])\n",
      "C:\\ProgramData\\Anaconda3\\lib\\site-packages\\tensorflow\\python\\framework\\dtypes.py:476: FutureWarning: Passing (type, 1) or '1type' as a synonym of type is deprecated; in a future version of numpy, it will be understood as (type, (1,)) / '(1,)type'.\n",
      "  np_resource = np.dtype([(\"resource\", np.ubyte, 1)])\n",
      "C:\\ProgramData\\Anaconda3\\lib\\site-packages\\h5py\\__init__.py:36: FutureWarning: Conversion of the second argument of issubdtype from `float` to `np.floating` is deprecated. In future, it will be treated as `np.float64 == np.dtype(float).type`.\n",
      "  from ._conv import register_converters as _register_converters\n",
      "Using TensorFlow backend.\n"
     ]
    }
   ],
   "source": [
    "import os\n",
    "import random\n",
    "import pandas as pd\n",
    "import numpy as np\n",
    "import matplotlib.pyplot as plt\n",
    "import math\n",
    "import tensorflow as tf\n",
    "import keras\n",
    "import catboost as cb\n",
    "from pandas import read_csv\n",
    "from math import sqrt\n",
    "from numpy import concatenate\n",
    "from keras.models import Sequential\n",
    "from keras.layers import Dense\n",
    "from keras.layers import Dropout\n",
    "from keras.layers import LSTM\n",
    "from sklearn.preprocessing import MinMaxScaler\n",
    "from sklearn.metrics import mean_squared_error\n",
    "from sklearn import metrics\n",
    "from sklearn import svm\n",
    "from keras.layers.core import Dense, Activation, Dropout\n",
    "from sklearn.externals import joblib\n",
    "%matplotlib inline"
   ]
  },
  {
   "cell_type": "code",
   "execution_count": 2,
   "metadata": {},
   "outputs": [],
   "source": [
    "import os\n",
    "os.environ[\"CUDA_VISIBLE_DEVICES\"] = \"0\"\n",
    "config = tf.ConfigProto(allow_soft_placement = True)\n",
    "gpu_options = tf.GPUOptions(per_process_gpu_memory_fraction = 0.5)\n",
    "config.gpu_options.allow_growth = True\n",
    "sess0 = tf.InteractiveSession(config = config)"
   ]
  },
  {
   "cell_type": "code",
   "execution_count": 3,
   "metadata": {},
   "outputs": [
    {
     "name": "stdout",
     "output_type": "stream",
     "text": [
      "E:\\Research Project\\DKASC, Alice Springs\n"
     ]
    }
   ],
   "source": [
    "print(os.getcwd()) # 打印当前工作目录"
   ]
  },
  {
   "cell_type": "code",
   "execution_count": 4,
   "metadata": {},
   "outputs": [
    {
     "data": {
      "text/plain": [
       "['.idea',\n",
       " '.ipynb_checkpoints',\n",
       " '101-Site_DKA-WeatherStation',\n",
       " '96-Site_DKA-MasterMeter1',\n",
       " 'Alice_SpringsLSTM.ipynb',\n",
       " 'Alice_SpringsWPD-LSTM.ipynb',\n",
       " 'Alice_Springs_2016-2020',\n",
       " 'Alice_Springs数据集筛选提取.ipynb',\n",
       " 'Dataset',\n",
       " 'logs',\n",
       " 'picture',\n",
       " 'Predict',\n",
       " 'Program backups',\n",
       " 'temp',\n",
       " 'test1-8_SVM&BP&DNN&LSTM.ipynb',\n",
       " 'venv',\n",
       " 'WPD.ipynb',\n",
       " '画图.ipynb',\n",
       " '相关性分析图.py',\n",
       " '笔记.ipynb',\n",
       " '训练SVM&BP&DNN&LSTM.ipynb']"
      ]
     },
     "execution_count": 4,
     "metadata": {},
     "output_type": "execute_result"
    }
   ],
   "source": [
    "os.listdir(os.getcwd())"
   ]
  },
  {
   "cell_type": "code",
   "execution_count": 5,
   "metadata": {},
   "outputs": [],
   "source": [
    "os.chdir(\"./Dataset/test\")"
   ]
  },
  {
   "cell_type": "code",
   "execution_count": 6,
   "metadata": {},
   "outputs": [
    {
     "data": {
      "text/plain": [
       "['test_1A Trina.csv',\n",
       " 'test_1B Trina.csv',\n",
       " 'test_2 ec.csv',\n",
       " 'test_3 BP.csv',\n",
       " 'test_4 Kyocera.csv',\n",
       " 'test_5 Kyocera.csv',\n",
       " 'test_6 Kyocera.csv',\n",
       " 'test_7 First.csv',\n",
       " 'test_8 Kaneka.csv']"
      ]
     },
     "execution_count": 6,
     "metadata": {},
     "output_type": "execute_result"
    }
   ],
   "source": [
    "os.listdir()"
   ]
  },
  {
   "cell_type": "code",
   "execution_count": 7,
   "metadata": {},
   "outputs": [],
   "source": [
    "file_chdir = os.getcwd()"
   ]
  },
  {
   "cell_type": "code",
   "execution_count": 8,
   "metadata": {},
   "outputs": [
    {
     "data": {
      "text/plain": [
       "'E:\\\\Research Project\\\\DKASC, Alice Springs\\\\Dataset\\\\test'"
      ]
     },
     "execution_count": 8,
     "metadata": {},
     "output_type": "execute_result"
    }
   ],
   "source": [
    "file_chdir"
   ]
  },
  {
   "cell_type": "code",
   "execution_count": 9,
   "metadata": {},
   "outputs": [],
   "source": [
    "filecsv_list = []\n",
    "for root,dirs,files in os.walk(file_chdir):\n",
    "    for file in files:\n",
    "        if os.path.splitext(file)[1] == '.csv':\n",
    "            filecsv_list.append(file)"
   ]
  },
  {
   "cell_type": "code",
   "execution_count": 10,
   "metadata": {
    "scrolled": true
   },
   "outputs": [
    {
     "data": {
      "text/plain": [
       "['test_1A Trina.csv',\n",
       " 'test_1B Trina.csv',\n",
       " 'test_2 ec.csv',\n",
       " 'test_3 BP.csv',\n",
       " 'test_4 Kyocera.csv',\n",
       " 'test_5 Kyocera.csv',\n",
       " 'test_6 Kyocera.csv',\n",
       " 'test_7 First.csv',\n",
       " 'test_8 Kaneka.csv']"
      ]
     },
     "execution_count": 10,
     "metadata": {},
     "output_type": "execute_result"
    }
   ],
   "source": [
    "filecsv_list"
   ]
  },
  {
   "cell_type": "code",
   "execution_count": 11,
   "metadata": {},
   "outputs": [],
   "source": [
    "testnames=list()\n",
    "testnames += [('test_%d' % (j)) for j in range(len(filecsv_list))]"
   ]
  },
  {
   "cell_type": "code",
   "execution_count": 12,
   "metadata": {},
   "outputs": [
    {
     "data": {
      "text/plain": [
       "['test_0',\n",
       " 'test_1',\n",
       " 'test_2',\n",
       " 'test_3',\n",
       " 'test_4',\n",
       " 'test_5',\n",
       " 'test_6',\n",
       " 'test_7',\n",
       " 'test_8']"
      ]
     },
     "execution_count": 12,
     "metadata": {},
     "output_type": "execute_result"
    }
   ],
   "source": [
    "testnames"
   ]
  },
  {
   "cell_type": "code",
   "execution_count": 13,
   "metadata": {},
   "outputs": [],
   "source": [
    "for csv in filecsv_list:\n",
    "    testnames[filecsv_list.index(csv)]=pd.read_csv(csv)"
   ]
  },
  {
   "cell_type": "code",
   "execution_count": 14,
   "metadata": {},
   "outputs": [
    {
     "data": {
      "text/html": [
       "<div>\n",
       "<style scoped>\n",
       "    .dataframe tbody tr th:only-of-type {\n",
       "        vertical-align: middle;\n",
       "    }\n",
       "\n",
       "    .dataframe tbody tr th {\n",
       "        vertical-align: top;\n",
       "    }\n",
       "\n",
       "    .dataframe thead th {\n",
       "        text-align: right;\n",
       "    }\n",
       "</style>\n",
       "<table border=\"1\" class=\"dataframe\">\n",
       "  <thead>\n",
       "    <tr style=\"text-align: right;\">\n",
       "      <th></th>\n",
       "      <th>Timestamp</th>\n",
       "      <th>Year</th>\n",
       "      <th>Month</th>\n",
       "      <th>Day</th>\n",
       "      <th>Hour</th>\n",
       "      <th>Minutes</th>\n",
       "      <th>WTC</th>\n",
       "      <th>WRH</th>\n",
       "      <th>GHR</th>\n",
       "      <th>DHR</th>\n",
       "      <th>WD</th>\n",
       "      <th>WDR</th>\n",
       "      <th>RGT</th>\n",
       "      <th>RDT</th>\n",
       "      <th>1A Trina_power</th>\n",
       "    </tr>\n",
       "  </thead>\n",
       "  <tbody>\n",
       "    <tr>\n",
       "      <th>0</th>\n",
       "      <td>2020/1/1 0:00</td>\n",
       "      <td>2020</td>\n",
       "      <td>1</td>\n",
       "      <td>1</td>\n",
       "      <td>0</td>\n",
       "      <td>0</td>\n",
       "      <td>29.685360</td>\n",
       "      <td>21.727171</td>\n",
       "      <td>1.360221</td>\n",
       "      <td>1.191879</td>\n",
       "      <td>33.216167</td>\n",
       "      <td>0.0</td>\n",
       "      <td>2.958199</td>\n",
       "      <td>0.524153</td>\n",
       "      <td>0.0</td>\n",
       "    </tr>\n",
       "    <tr>\n",
       "      <th>1</th>\n",
       "      <td>2020/1/1 0:05</td>\n",
       "      <td>2020</td>\n",
       "      <td>1</td>\n",
       "      <td>1</td>\n",
       "      <td>0</td>\n",
       "      <td>5</td>\n",
       "      <td>29.559967</td>\n",
       "      <td>21.878902</td>\n",
       "      <td>1.532208</td>\n",
       "      <td>1.460944</td>\n",
       "      <td>33.254341</td>\n",
       "      <td>0.0</td>\n",
       "      <td>3.288470</td>\n",
       "      <td>0.764565</td>\n",
       "      <td>0.0</td>\n",
       "    </tr>\n",
       "    <tr>\n",
       "      <th>2</th>\n",
       "      <td>2020/1/1 0:10</td>\n",
       "      <td>2020</td>\n",
       "      <td>1</td>\n",
       "      <td>1</td>\n",
       "      <td>0</td>\n",
       "      <td>10</td>\n",
       "      <td>29.530006</td>\n",
       "      <td>21.859453</td>\n",
       "      <td>1.186835</td>\n",
       "      <td>1.118219</td>\n",
       "      <td>33.302616</td>\n",
       "      <td>0.0</td>\n",
       "      <td>3.253541</td>\n",
       "      <td>0.725652</td>\n",
       "      <td>0.0</td>\n",
       "    </tr>\n",
       "    <tr>\n",
       "      <th>3</th>\n",
       "      <td>2020/1/1 0:15</td>\n",
       "      <td>2020</td>\n",
       "      <td>1</td>\n",
       "      <td>1</td>\n",
       "      <td>0</td>\n",
       "      <td>15</td>\n",
       "      <td>29.474438</td>\n",
       "      <td>21.897285</td>\n",
       "      <td>1.017349</td>\n",
       "      <td>0.824890</td>\n",
       "      <td>33.337837</td>\n",
       "      <td>0.0</td>\n",
       "      <td>3.260514</td>\n",
       "      <td>0.706365</td>\n",
       "      <td>0.0</td>\n",
       "    </tr>\n",
       "    <tr>\n",
       "      <th>4</th>\n",
       "      <td>2020/1/1 0:20</td>\n",
       "      <td>2020</td>\n",
       "      <td>1</td>\n",
       "      <td>1</td>\n",
       "      <td>0</td>\n",
       "      <td>20</td>\n",
       "      <td>29.365288</td>\n",
       "      <td>22.085625</td>\n",
       "      <td>1.323369</td>\n",
       "      <td>1.175776</td>\n",
       "      <td>33.375069</td>\n",
       "      <td>0.0</td>\n",
       "      <td>3.148183</td>\n",
       "      <td>0.694154</td>\n",
       "      <td>0.0</td>\n",
       "    </tr>\n",
       "    <tr>\n",
       "      <th>5</th>\n",
       "      <td>2020/1/1 0:25</td>\n",
       "      <td>2020</td>\n",
       "      <td>1</td>\n",
       "      <td>1</td>\n",
       "      <td>0</td>\n",
       "      <td>25</td>\n",
       "      <td>29.223780</td>\n",
       "      <td>22.275812</td>\n",
       "      <td>1.720813</td>\n",
       "      <td>1.575351</td>\n",
       "      <td>33.423721</td>\n",
       "      <td>0.0</td>\n",
       "      <td>3.426321</td>\n",
       "      <td>0.964147</td>\n",
       "      <td>0.0</td>\n",
       "    </tr>\n",
       "    <tr>\n",
       "      <th>6</th>\n",
       "      <td>2020/1/1 0:30</td>\n",
       "      <td>2020</td>\n",
       "      <td>1</td>\n",
       "      <td>1</td>\n",
       "      <td>0</td>\n",
       "      <td>30</td>\n",
       "      <td>29.078783</td>\n",
       "      <td>22.451258</td>\n",
       "      <td>1.753417</td>\n",
       "      <td>1.582172</td>\n",
       "      <td>33.468391</td>\n",
       "      <td>0.0</td>\n",
       "      <td>3.611997</td>\n",
       "      <td>1.257185</td>\n",
       "      <td>0.0</td>\n",
       "    </tr>\n",
       "    <tr>\n",
       "      <th>7</th>\n",
       "      <td>2020/1/1 0:35</td>\n",
       "      <td>2020</td>\n",
       "      <td>1</td>\n",
       "      <td>1</td>\n",
       "      <td>0</td>\n",
       "      <td>35</td>\n",
       "      <td>28.957481</td>\n",
       "      <td>22.637762</td>\n",
       "      <td>1.742352</td>\n",
       "      <td>1.633590</td>\n",
       "      <td>33.527313</td>\n",
       "      <td>0.0</td>\n",
       "      <td>3.643157</td>\n",
       "      <td>1.188009</td>\n",
       "      <td>0.0</td>\n",
       "    </tr>\n",
       "    <tr>\n",
       "      <th>8</th>\n",
       "      <td>2020/1/1 0:40</td>\n",
       "      <td>2020</td>\n",
       "      <td>1</td>\n",
       "      <td>1</td>\n",
       "      <td>0</td>\n",
       "      <td>40</td>\n",
       "      <td>28.814610</td>\n",
       "      <td>22.835932</td>\n",
       "      <td>1.805557</td>\n",
       "      <td>1.631509</td>\n",
       "      <td>33.590416</td>\n",
       "      <td>0.0</td>\n",
       "      <td>3.819599</td>\n",
       "      <td>1.174781</td>\n",
       "      <td>0.0</td>\n",
       "    </tr>\n",
       "    <tr>\n",
       "      <th>9</th>\n",
       "      <td>2020/1/1 0:45</td>\n",
       "      <td>2020</td>\n",
       "      <td>1</td>\n",
       "      <td>1</td>\n",
       "      <td>0</td>\n",
       "      <td>45</td>\n",
       "      <td>28.729786</td>\n",
       "      <td>22.996599</td>\n",
       "      <td>1.671176</td>\n",
       "      <td>1.498169</td>\n",
       "      <td>33.636559</td>\n",
       "      <td>0.0</td>\n",
       "      <td>3.634844</td>\n",
       "      <td>0.964134</td>\n",
       "      <td>0.0</td>\n",
       "    </tr>\n",
       "    <tr>\n",
       "      <th>10</th>\n",
       "      <td>2020/1/1 0:50</td>\n",
       "      <td>2020</td>\n",
       "      <td>1</td>\n",
       "      <td>1</td>\n",
       "      <td>0</td>\n",
       "      <td>50</td>\n",
       "      <td>28.592758</td>\n",
       "      <td>23.181684</td>\n",
       "      <td>1.814162</td>\n",
       "      <td>1.723544</td>\n",
       "      <td>33.701748</td>\n",
       "      <td>0.0</td>\n",
       "      <td>3.314531</td>\n",
       "      <td>0.762200</td>\n",
       "      <td>0.0</td>\n",
       "    </tr>\n",
       "    <tr>\n",
       "      <th>11</th>\n",
       "      <td>2020/1/1 0:55</td>\n",
       "      <td>2020</td>\n",
       "      <td>1</td>\n",
       "      <td>1</td>\n",
       "      <td>0</td>\n",
       "      <td>55</td>\n",
       "      <td>28.392076</td>\n",
       "      <td>23.473572</td>\n",
       "      <td>1.927942</td>\n",
       "      <td>1.724388</td>\n",
       "      <td>33.778366</td>\n",
       "      <td>0.0</td>\n",
       "      <td>3.169454</td>\n",
       "      <td>0.664286</td>\n",
       "      <td>0.0</td>\n",
       "    </tr>\n",
       "    <tr>\n",
       "      <th>12</th>\n",
       "      <td>2020/1/1 1:00</td>\n",
       "      <td>2020</td>\n",
       "      <td>1</td>\n",
       "      <td>1</td>\n",
       "      <td>1</td>\n",
       "      <td>0</td>\n",
       "      <td>28.411869</td>\n",
       "      <td>23.467482</td>\n",
       "      <td>1.268229</td>\n",
       "      <td>0.973159</td>\n",
       "      <td>33.812145</td>\n",
       "      <td>0.0</td>\n",
       "      <td>3.400859</td>\n",
       "      <td>0.881300</td>\n",
       "      <td>0.0</td>\n",
       "    </tr>\n",
       "    <tr>\n",
       "      <th>13</th>\n",
       "      <td>2020/1/1 1:05</td>\n",
       "      <td>2020</td>\n",
       "      <td>1</td>\n",
       "      <td>1</td>\n",
       "      <td>1</td>\n",
       "      <td>5</td>\n",
       "      <td>28.358627</td>\n",
       "      <td>23.524519</td>\n",
       "      <td>1.177712</td>\n",
       "      <td>0.910826</td>\n",
       "      <td>33.911770</td>\n",
       "      <td>0.0</td>\n",
       "      <td>3.343628</td>\n",
       "      <td>0.668946</td>\n",
       "      <td>0.0</td>\n",
       "    </tr>\n",
       "    <tr>\n",
       "      <th>14</th>\n",
       "      <td>2020/1/1 1:10</td>\n",
       "      <td>2020</td>\n",
       "      <td>1</td>\n",
       "      <td>1</td>\n",
       "      <td>1</td>\n",
       "      <td>10</td>\n",
       "      <td>28.253054</td>\n",
       "      <td>23.648945</td>\n",
       "      <td>1.536287</td>\n",
       "      <td>1.278867</td>\n",
       "      <td>33.957619</td>\n",
       "      <td>0.0</td>\n",
       "      <td>3.422707</td>\n",
       "      <td>0.763333</td>\n",
       "      <td>0.0</td>\n",
       "    </tr>\n",
       "    <tr>\n",
       "      <th>15</th>\n",
       "      <td>2020/1/1 1:15</td>\n",
       "      <td>2020</td>\n",
       "      <td>1</td>\n",
       "      <td>1</td>\n",
       "      <td>1</td>\n",
       "      <td>15</td>\n",
       "      <td>27.980003</td>\n",
       "      <td>23.999746</td>\n",
       "      <td>2.186837</td>\n",
       "      <td>2.009130</td>\n",
       "      <td>34.006390</td>\n",
       "      <td>0.0</td>\n",
       "      <td>3.400011</td>\n",
       "      <td>0.842147</td>\n",
       "      <td>0.0</td>\n",
       "    </tr>\n",
       "    <tr>\n",
       "      <th>16</th>\n",
       "      <td>2020/1/1 1:20</td>\n",
       "      <td>2020</td>\n",
       "      <td>1</td>\n",
       "      <td>1</td>\n",
       "      <td>1</td>\n",
       "      <td>20</td>\n",
       "      <td>27.822742</td>\n",
       "      <td>24.286127</td>\n",
       "      <td>1.923522</td>\n",
       "      <td>1.754622</td>\n",
       "      <td>34.048439</td>\n",
       "      <td>0.0</td>\n",
       "      <td>3.444055</td>\n",
       "      <td>0.831328</td>\n",
       "      <td>0.0</td>\n",
       "    </tr>\n",
       "    <tr>\n",
       "      <th>17</th>\n",
       "      <td>2020/1/1 1:25</td>\n",
       "      <td>2020</td>\n",
       "      <td>1</td>\n",
       "      <td>1</td>\n",
       "      <td>1</td>\n",
       "      <td>25</td>\n",
       "      <td>27.678402</td>\n",
       "      <td>24.456440</td>\n",
       "      <td>1.873147</td>\n",
       "      <td>1.754881</td>\n",
       "      <td>34.126431</td>\n",
       "      <td>0.0</td>\n",
       "      <td>3.446974</td>\n",
       "      <td>0.795580</td>\n",
       "      <td>0.0</td>\n",
       "    </tr>\n",
       "    <tr>\n",
       "      <th>18</th>\n",
       "      <td>2020/1/1 1:30</td>\n",
       "      <td>2020</td>\n",
       "      <td>1</td>\n",
       "      <td>1</td>\n",
       "      <td>1</td>\n",
       "      <td>30</td>\n",
       "      <td>27.459091</td>\n",
       "      <td>24.770012</td>\n",
       "      <td>2.192098</td>\n",
       "      <td>1.922803</td>\n",
       "      <td>34.159397</td>\n",
       "      <td>0.0</td>\n",
       "      <td>3.535381</td>\n",
       "      <td>0.977222</td>\n",
       "      <td>0.0</td>\n",
       "    </tr>\n",
       "    <tr>\n",
       "      <th>19</th>\n",
       "      <td>2020/1/1 1:35</td>\n",
       "      <td>2020</td>\n",
       "      <td>1</td>\n",
       "      <td>1</td>\n",
       "      <td>1</td>\n",
       "      <td>35</td>\n",
       "      <td>27.231171</td>\n",
       "      <td>25.130188</td>\n",
       "      <td>2.419614</td>\n",
       "      <td>2.097093</td>\n",
       "      <td>34.246471</td>\n",
       "      <td>0.0</td>\n",
       "      <td>3.821245</td>\n",
       "      <td>1.183499</td>\n",
       "      <td>0.0</td>\n",
       "    </tr>\n",
       "    <tr>\n",
       "      <th>20</th>\n",
       "      <td>2020/1/1 1:40</td>\n",
       "      <td>2020</td>\n",
       "      <td>1</td>\n",
       "      <td>1</td>\n",
       "      <td>1</td>\n",
       "      <td>40</td>\n",
       "      <td>26.885878</td>\n",
       "      <td>25.678627</td>\n",
       "      <td>2.691330</td>\n",
       "      <td>2.378614</td>\n",
       "      <td>34.288834</td>\n",
       "      <td>0.0</td>\n",
       "      <td>3.954951</td>\n",
       "      <td>1.406119</td>\n",
       "      <td>0.0</td>\n",
       "    </tr>\n",
       "    <tr>\n",
       "      <th>21</th>\n",
       "      <td>2020/1/1 1:45</td>\n",
       "      <td>2020</td>\n",
       "      <td>1</td>\n",
       "      <td>1</td>\n",
       "      <td>1</td>\n",
       "      <td>45</td>\n",
       "      <td>26.445585</td>\n",
       "      <td>26.371904</td>\n",
       "      <td>2.859226</td>\n",
       "      <td>2.639040</td>\n",
       "      <td>34.362782</td>\n",
       "      <td>0.0</td>\n",
       "      <td>4.027999</td>\n",
       "      <td>1.554156</td>\n",
       "      <td>0.0</td>\n",
       "    </tr>\n",
       "    <tr>\n",
       "      <th>22</th>\n",
       "      <td>2020/1/1 1:50</td>\n",
       "      <td>2020</td>\n",
       "      <td>1</td>\n",
       "      <td>1</td>\n",
       "      <td>1</td>\n",
       "      <td>50</td>\n",
       "      <td>26.154755</td>\n",
       "      <td>26.898197</td>\n",
       "      <td>2.806457</td>\n",
       "      <td>2.490644</td>\n",
       "      <td>34.409454</td>\n",
       "      <td>0.0</td>\n",
       "      <td>4.173337</td>\n",
       "      <td>1.506821</td>\n",
       "      <td>0.0</td>\n",
       "    </tr>\n",
       "    <tr>\n",
       "      <th>23</th>\n",
       "      <td>2020/1/1 1:55</td>\n",
       "      <td>2020</td>\n",
       "      <td>1</td>\n",
       "      <td>1</td>\n",
       "      <td>1</td>\n",
       "      <td>55</td>\n",
       "      <td>25.888542</td>\n",
       "      <td>27.293535</td>\n",
       "      <td>2.595445</td>\n",
       "      <td>2.394536</td>\n",
       "      <td>34.434292</td>\n",
       "      <td>0.0</td>\n",
       "      <td>4.163086</td>\n",
       "      <td>1.448638</td>\n",
       "      <td>0.0</td>\n",
       "    </tr>\n",
       "    <tr>\n",
       "      <th>24</th>\n",
       "      <td>2020/1/1 2:00</td>\n",
       "      <td>2020</td>\n",
       "      <td>1</td>\n",
       "      <td>1</td>\n",
       "      <td>2</td>\n",
       "      <td>0</td>\n",
       "      <td>25.693918</td>\n",
       "      <td>27.671940</td>\n",
       "      <td>2.524767</td>\n",
       "      <td>2.332911</td>\n",
       "      <td>34.499157</td>\n",
       "      <td>0.0</td>\n",
       "      <td>4.123783</td>\n",
       "      <td>1.383971</td>\n",
       "      <td>0.0</td>\n",
       "    </tr>\n",
       "    <tr>\n",
       "      <th>25</th>\n",
       "      <td>2020/1/1 2:05</td>\n",
       "      <td>2020</td>\n",
       "      <td>1</td>\n",
       "      <td>1</td>\n",
       "      <td>2</td>\n",
       "      <td>5</td>\n",
       "      <td>25.608994</td>\n",
       "      <td>27.869648</td>\n",
       "      <td>2.422706</td>\n",
       "      <td>2.046568</td>\n",
       "      <td>34.581753</td>\n",
       "      <td>0.0</td>\n",
       "      <td>4.076994</td>\n",
       "      <td>1.361102</td>\n",
       "      <td>0.0</td>\n",
       "    </tr>\n",
       "    <tr>\n",
       "      <th>26</th>\n",
       "      <td>2020/1/1 2:10</td>\n",
       "      <td>2020</td>\n",
       "      <td>1</td>\n",
       "      <td>1</td>\n",
       "      <td>2</td>\n",
       "      <td>10</td>\n",
       "      <td>25.520903</td>\n",
       "      <td>27.882938</td>\n",
       "      <td>1.923375</td>\n",
       "      <td>1.639341</td>\n",
       "      <td>34.661583</td>\n",
       "      <td>0.0</td>\n",
       "      <td>4.082287</td>\n",
       "      <td>1.346798</td>\n",
       "      <td>0.0</td>\n",
       "    </tr>\n",
       "    <tr>\n",
       "      <th>27</th>\n",
       "      <td>2020/1/1 2:15</td>\n",
       "      <td>2020</td>\n",
       "      <td>1</td>\n",
       "      <td>1</td>\n",
       "      <td>2</td>\n",
       "      <td>15</td>\n",
       "      <td>25.425531</td>\n",
       "      <td>28.031855</td>\n",
       "      <td>1.772595</td>\n",
       "      <td>1.586649</td>\n",
       "      <td>34.706955</td>\n",
       "      <td>0.0</td>\n",
       "      <td>3.791498</td>\n",
       "      <td>1.159276</td>\n",
       "      <td>0.0</td>\n",
       "    </tr>\n",
       "    <tr>\n",
       "      <th>28</th>\n",
       "      <td>2020/1/1 2:20</td>\n",
       "      <td>2020</td>\n",
       "      <td>1</td>\n",
       "      <td>1</td>\n",
       "      <td>2</td>\n",
       "      <td>20</td>\n",
       "      <td>25.190054</td>\n",
       "      <td>28.441647</td>\n",
       "      <td>1.767297</td>\n",
       "      <td>1.588320</td>\n",
       "      <td>34.773052</td>\n",
       "      <td>0.0</td>\n",
       "      <td>3.234269</td>\n",
       "      <td>0.930162</td>\n",
       "      <td>0.0</td>\n",
       "    </tr>\n",
       "    <tr>\n",
       "      <th>29</th>\n",
       "      <td>2020/1/1 2:25</td>\n",
       "      <td>2020</td>\n",
       "      <td>1</td>\n",
       "      <td>1</td>\n",
       "      <td>2</td>\n",
       "      <td>25</td>\n",
       "      <td>25.302988</td>\n",
       "      <td>28.330071</td>\n",
       "      <td>0.785783</td>\n",
       "      <td>0.541151</td>\n",
       "      <td>34.821609</td>\n",
       "      <td>0.0</td>\n",
       "      <td>2.512101</td>\n",
       "      <td>0.419649</td>\n",
       "      <td>0.0</td>\n",
       "    </tr>\n",
       "    <tr>\n",
       "      <th>...</th>\n",
       "      <td>...</td>\n",
       "      <td>...</td>\n",
       "      <td>...</td>\n",
       "      <td>...</td>\n",
       "      <td>...</td>\n",
       "      <td>...</td>\n",
       "      <td>...</td>\n",
       "      <td>...</td>\n",
       "      <td>...</td>\n",
       "      <td>...</td>\n",
       "      <td>...</td>\n",
       "      <td>...</td>\n",
       "      <td>...</td>\n",
       "      <td>...</td>\n",
       "      <td>...</td>\n",
       "    </tr>\n",
       "    <tr>\n",
       "      <th>26061</th>\n",
       "      <td>2020/4/4 22:45</td>\n",
       "      <td>2020</td>\n",
       "      <td>4</td>\n",
       "      <td>4</td>\n",
       "      <td>22</td>\n",
       "      <td>45</td>\n",
       "      <td>14.785770</td>\n",
       "      <td>42.543282</td>\n",
       "      <td>3.352985</td>\n",
       "      <td>1.776262</td>\n",
       "      <td>37.915684</td>\n",
       "      <td>0.0</td>\n",
       "      <td>3.896058</td>\n",
       "      <td>1.957326</td>\n",
       "      <td>0.0</td>\n",
       "    </tr>\n",
       "    <tr>\n",
       "      <th>26062</th>\n",
       "      <td>2020/4/4 22:50</td>\n",
       "      <td>2020</td>\n",
       "      <td>4</td>\n",
       "      <td>4</td>\n",
       "      <td>22</td>\n",
       "      <td>50</td>\n",
       "      <td>14.599751</td>\n",
       "      <td>43.579414</td>\n",
       "      <td>3.865011</td>\n",
       "      <td>2.217285</td>\n",
       "      <td>38.018124</td>\n",
       "      <td>0.0</td>\n",
       "      <td>3.984047</td>\n",
       "      <td>2.109331</td>\n",
       "      <td>0.0</td>\n",
       "    </tr>\n",
       "    <tr>\n",
       "      <th>26063</th>\n",
       "      <td>2020/4/4 22:55</td>\n",
       "      <td>2020</td>\n",
       "      <td>4</td>\n",
       "      <td>4</td>\n",
       "      <td>22</td>\n",
       "      <td>55</td>\n",
       "      <td>14.344951</td>\n",
       "      <td>42.398865</td>\n",
       "      <td>4.044104</td>\n",
       "      <td>2.377917</td>\n",
       "      <td>38.198059</td>\n",
       "      <td>0.0</td>\n",
       "      <td>3.689606</td>\n",
       "      <td>1.966932</td>\n",
       "      <td>0.0</td>\n",
       "    </tr>\n",
       "    <tr>\n",
       "      <th>26064</th>\n",
       "      <td>2020/4/4 23:00</td>\n",
       "      <td>2020</td>\n",
       "      <td>4</td>\n",
       "      <td>4</td>\n",
       "      <td>23</td>\n",
       "      <td>0</td>\n",
       "      <td>14.175533</td>\n",
       "      <td>44.494904</td>\n",
       "      <td>3.443586</td>\n",
       "      <td>1.725874</td>\n",
       "      <td>37.989571</td>\n",
       "      <td>0.0</td>\n",
       "      <td>3.348327</td>\n",
       "      <td>1.983175</td>\n",
       "      <td>0.0</td>\n",
       "    </tr>\n",
       "    <tr>\n",
       "      <th>26065</th>\n",
       "      <td>2020/4/4 23:05</td>\n",
       "      <td>2020</td>\n",
       "      <td>4</td>\n",
       "      <td>4</td>\n",
       "      <td>23</td>\n",
       "      <td>5</td>\n",
       "      <td>13.981981</td>\n",
       "      <td>45.097054</td>\n",
       "      <td>3.535264</td>\n",
       "      <td>1.847589</td>\n",
       "      <td>37.942978</td>\n",
       "      <td>0.0</td>\n",
       "      <td>2.296231</td>\n",
       "      <td>1.811953</td>\n",
       "      <td>0.0</td>\n",
       "    </tr>\n",
       "    <tr>\n",
       "      <th>26066</th>\n",
       "      <td>2020/4/4 23:10</td>\n",
       "      <td>2020</td>\n",
       "      <td>4</td>\n",
       "      <td>4</td>\n",
       "      <td>23</td>\n",
       "      <td>10</td>\n",
       "      <td>13.925051</td>\n",
       "      <td>43.217735</td>\n",
       "      <td>3.464489</td>\n",
       "      <td>1.754659</td>\n",
       "      <td>37.993576</td>\n",
       "      <td>0.0</td>\n",
       "      <td>1.991401</td>\n",
       "      <td>1.779015</td>\n",
       "      <td>0.0</td>\n",
       "    </tr>\n",
       "    <tr>\n",
       "      <th>26067</th>\n",
       "      <td>2020/4/4 23:15</td>\n",
       "      <td>2020</td>\n",
       "      <td>4</td>\n",
       "      <td>4</td>\n",
       "      <td>23</td>\n",
       "      <td>15</td>\n",
       "      <td>13.982526</td>\n",
       "      <td>43.532219</td>\n",
       "      <td>3.424249</td>\n",
       "      <td>1.749198</td>\n",
       "      <td>37.986221</td>\n",
       "      <td>0.0</td>\n",
       "      <td>1.842332</td>\n",
       "      <td>1.715343</td>\n",
       "      <td>0.0</td>\n",
       "    </tr>\n",
       "    <tr>\n",
       "      <th>26068</th>\n",
       "      <td>2020/4/4 23:20</td>\n",
       "      <td>2020</td>\n",
       "      <td>4</td>\n",
       "      <td>4</td>\n",
       "      <td>23</td>\n",
       "      <td>20</td>\n",
       "      <td>14.025059</td>\n",
       "      <td>44.928085</td>\n",
       "      <td>3.165573</td>\n",
       "      <td>1.492924</td>\n",
       "      <td>38.105553</td>\n",
       "      <td>0.0</td>\n",
       "      <td>1.887451</td>\n",
       "      <td>1.774487</td>\n",
       "      <td>0.0</td>\n",
       "    </tr>\n",
       "    <tr>\n",
       "      <th>26069</th>\n",
       "      <td>2020/4/4 23:25</td>\n",
       "      <td>2020</td>\n",
       "      <td>4</td>\n",
       "      <td>4</td>\n",
       "      <td>23</td>\n",
       "      <td>25</td>\n",
       "      <td>14.033333</td>\n",
       "      <td>45.748543</td>\n",
       "      <td>2.564070</td>\n",
       "      <td>0.968316</td>\n",
       "      <td>38.312557</td>\n",
       "      <td>0.0</td>\n",
       "      <td>2.055621</td>\n",
       "      <td>1.924016</td>\n",
       "      <td>0.0</td>\n",
       "    </tr>\n",
       "    <tr>\n",
       "      <th>26070</th>\n",
       "      <td>2020/4/4 23:30</td>\n",
       "      <td>2020</td>\n",
       "      <td>4</td>\n",
       "      <td>4</td>\n",
       "      <td>23</td>\n",
       "      <td>30</td>\n",
       "      <td>13.933186</td>\n",
       "      <td>45.101753</td>\n",
       "      <td>3.066529</td>\n",
       "      <td>1.389494</td>\n",
       "      <td>38.592945</td>\n",
       "      <td>0.0</td>\n",
       "      <td>2.014160</td>\n",
       "      <td>1.701247</td>\n",
       "      <td>0.0</td>\n",
       "    </tr>\n",
       "    <tr>\n",
       "      <th>26071</th>\n",
       "      <td>2020/4/4 23:35</td>\n",
       "      <td>2020</td>\n",
       "      <td>4</td>\n",
       "      <td>4</td>\n",
       "      <td>23</td>\n",
       "      <td>35</td>\n",
       "      <td>13.815808</td>\n",
       "      <td>44.122997</td>\n",
       "      <td>3.271036</td>\n",
       "      <td>1.576517</td>\n",
       "      <td>38.770901</td>\n",
       "      <td>0.0</td>\n",
       "      <td>1.949057</td>\n",
       "      <td>1.750806</td>\n",
       "      <td>0.0</td>\n",
       "    </tr>\n",
       "    <tr>\n",
       "      <th>26072</th>\n",
       "      <td>2020/4/4 23:40</td>\n",
       "      <td>2020</td>\n",
       "      <td>4</td>\n",
       "      <td>4</td>\n",
       "      <td>23</td>\n",
       "      <td>40</td>\n",
       "      <td>13.736240</td>\n",
       "      <td>44.870399</td>\n",
       "      <td>3.182660</td>\n",
       "      <td>1.477067</td>\n",
       "      <td>38.797935</td>\n",
       "      <td>0.0</td>\n",
       "      <td>1.623924</td>\n",
       "      <td>1.553799</td>\n",
       "      <td>0.0</td>\n",
       "    </tr>\n",
       "    <tr>\n",
       "      <th>26073</th>\n",
       "      <td>2020/4/4 23:45</td>\n",
       "      <td>2020</td>\n",
       "      <td>4</td>\n",
       "      <td>4</td>\n",
       "      <td>23</td>\n",
       "      <td>45</td>\n",
       "      <td>13.642729</td>\n",
       "      <td>46.120857</td>\n",
       "      <td>3.114092</td>\n",
       "      <td>1.446960</td>\n",
       "      <td>38.828491</td>\n",
       "      <td>0.0</td>\n",
       "      <td>1.685441</td>\n",
       "      <td>1.645461</td>\n",
       "      <td>0.0</td>\n",
       "    </tr>\n",
       "    <tr>\n",
       "      <th>26074</th>\n",
       "      <td>2020/4/4 23:50</td>\n",
       "      <td>2020</td>\n",
       "      <td>4</td>\n",
       "      <td>4</td>\n",
       "      <td>23</td>\n",
       "      <td>50</td>\n",
       "      <td>13.556326</td>\n",
       "      <td>46.714874</td>\n",
       "      <td>2.804476</td>\n",
       "      <td>1.157127</td>\n",
       "      <td>38.804722</td>\n",
       "      <td>0.0</td>\n",
       "      <td>1.709979</td>\n",
       "      <td>1.812032</td>\n",
       "      <td>0.0</td>\n",
       "    </tr>\n",
       "    <tr>\n",
       "      <th>26075</th>\n",
       "      <td>2020/4/4 23:55</td>\n",
       "      <td>2020</td>\n",
       "      <td>4</td>\n",
       "      <td>4</td>\n",
       "      <td>23</td>\n",
       "      <td>55</td>\n",
       "      <td>13.400011</td>\n",
       "      <td>47.826260</td>\n",
       "      <td>2.793040</td>\n",
       "      <td>1.036941</td>\n",
       "      <td>38.720371</td>\n",
       "      <td>0.0</td>\n",
       "      <td>1.809647</td>\n",
       "      <td>1.785576</td>\n",
       "      <td>0.0</td>\n",
       "    </tr>\n",
       "    <tr>\n",
       "      <th>26076</th>\n",
       "      <td>2020/4/5 0:00</td>\n",
       "      <td>2020</td>\n",
       "      <td>4</td>\n",
       "      <td>5</td>\n",
       "      <td>0</td>\n",
       "      <td>0</td>\n",
       "      <td>13.234460</td>\n",
       "      <td>47.649384</td>\n",
       "      <td>2.720302</td>\n",
       "      <td>1.041300</td>\n",
       "      <td>38.681927</td>\n",
       "      <td>0.0</td>\n",
       "      <td>1.715402</td>\n",
       "      <td>1.799649</td>\n",
       "      <td>0.0</td>\n",
       "    </tr>\n",
       "    <tr>\n",
       "      <th>26077</th>\n",
       "      <td>2020/4/5 0:05</td>\n",
       "      <td>2020</td>\n",
       "      <td>4</td>\n",
       "      <td>5</td>\n",
       "      <td>0</td>\n",
       "      <td>5</td>\n",
       "      <td>13.201200</td>\n",
       "      <td>48.635334</td>\n",
       "      <td>2.689028</td>\n",
       "      <td>1.075223</td>\n",
       "      <td>38.711914</td>\n",
       "      <td>0.0</td>\n",
       "      <td>1.647756</td>\n",
       "      <td>1.791866</td>\n",
       "      <td>0.0</td>\n",
       "    </tr>\n",
       "    <tr>\n",
       "      <th>26078</th>\n",
       "      <td>2020/4/5 0:10</td>\n",
       "      <td>2020</td>\n",
       "      <td>4</td>\n",
       "      <td>5</td>\n",
       "      <td>0</td>\n",
       "      <td>10</td>\n",
       "      <td>13.185686</td>\n",
       "      <td>48.650005</td>\n",
       "      <td>2.575248</td>\n",
       "      <td>0.995337</td>\n",
       "      <td>38.815857</td>\n",
       "      <td>0.0</td>\n",
       "      <td>1.543031</td>\n",
       "      <td>1.614942</td>\n",
       "      <td>0.0</td>\n",
       "    </tr>\n",
       "    <tr>\n",
       "      <th>26079</th>\n",
       "      <td>2020/4/5 0:15</td>\n",
       "      <td>2020</td>\n",
       "      <td>4</td>\n",
       "      <td>5</td>\n",
       "      <td>0</td>\n",
       "      <td>15</td>\n",
       "      <td>13.212528</td>\n",
       "      <td>49.727577</td>\n",
       "      <td>2.769508</td>\n",
       "      <td>1.129892</td>\n",
       "      <td>38.904572</td>\n",
       "      <td>0.0</td>\n",
       "      <td>1.692965</td>\n",
       "      <td>1.634948</td>\n",
       "      <td>0.0</td>\n",
       "    </tr>\n",
       "    <tr>\n",
       "      <th>26080</th>\n",
       "      <td>2020/4/5 0:20</td>\n",
       "      <td>2020</td>\n",
       "      <td>4</td>\n",
       "      <td>5</td>\n",
       "      <td>0</td>\n",
       "      <td>20</td>\n",
       "      <td>13.113058</td>\n",
       "      <td>49.737309</td>\n",
       "      <td>3.144825</td>\n",
       "      <td>1.538603</td>\n",
       "      <td>39.102985</td>\n",
       "      <td>0.0</td>\n",
       "      <td>1.687192</td>\n",
       "      <td>1.657190</td>\n",
       "      <td>0.0</td>\n",
       "    </tr>\n",
       "    <tr>\n",
       "      <th>26081</th>\n",
       "      <td>2020/4/5 0:25</td>\n",
       "      <td>2020</td>\n",
       "      <td>4</td>\n",
       "      <td>5</td>\n",
       "      <td>0</td>\n",
       "      <td>25</td>\n",
       "      <td>12.862505</td>\n",
       "      <td>51.321285</td>\n",
       "      <td>3.465345</td>\n",
       "      <td>1.685654</td>\n",
       "      <td>38.950432</td>\n",
       "      <td>0.0</td>\n",
       "      <td>1.706479</td>\n",
       "      <td>1.785123</td>\n",
       "      <td>0.0</td>\n",
       "    </tr>\n",
       "    <tr>\n",
       "      <th>26082</th>\n",
       "      <td>2020/4/5 0:30</td>\n",
       "      <td>2020</td>\n",
       "      <td>4</td>\n",
       "      <td>5</td>\n",
       "      <td>0</td>\n",
       "      <td>30</td>\n",
       "      <td>12.601229</td>\n",
       "      <td>51.638340</td>\n",
       "      <td>3.321433</td>\n",
       "      <td>1.553192</td>\n",
       "      <td>38.974041</td>\n",
       "      <td>0.0</td>\n",
       "      <td>1.687633</td>\n",
       "      <td>1.697103</td>\n",
       "      <td>0.0</td>\n",
       "    </tr>\n",
       "    <tr>\n",
       "      <th>26083</th>\n",
       "      <td>2020/4/5 0:35</td>\n",
       "      <td>2020</td>\n",
       "      <td>4</td>\n",
       "      <td>5</td>\n",
       "      <td>0</td>\n",
       "      <td>35</td>\n",
       "      <td>12.489401</td>\n",
       "      <td>52.245537</td>\n",
       "      <td>3.327818</td>\n",
       "      <td>1.561864</td>\n",
       "      <td>39.012394</td>\n",
       "      <td>0.0</td>\n",
       "      <td>1.620964</td>\n",
       "      <td>1.623037</td>\n",
       "      <td>0.0</td>\n",
       "    </tr>\n",
       "    <tr>\n",
       "      <th>26084</th>\n",
       "      <td>2020/4/5 0:40</td>\n",
       "      <td>2020</td>\n",
       "      <td>4</td>\n",
       "      <td>5</td>\n",
       "      <td>0</td>\n",
       "      <td>40</td>\n",
       "      <td>12.421919</td>\n",
       "      <td>52.507092</td>\n",
       "      <td>3.002171</td>\n",
       "      <td>1.309948</td>\n",
       "      <td>38.939892</td>\n",
       "      <td>0.0</td>\n",
       "      <td>1.485630</td>\n",
       "      <td>1.592081</td>\n",
       "      <td>0.0</td>\n",
       "    </tr>\n",
       "    <tr>\n",
       "      <th>26085</th>\n",
       "      <td>2020/4/5 0:45</td>\n",
       "      <td>2020</td>\n",
       "      <td>4</td>\n",
       "      <td>5</td>\n",
       "      <td>0</td>\n",
       "      <td>45</td>\n",
       "      <td>12.445259</td>\n",
       "      <td>51.410751</td>\n",
       "      <td>2.504432</td>\n",
       "      <td>0.802285</td>\n",
       "      <td>38.809971</td>\n",
       "      <td>0.0</td>\n",
       "      <td>1.460837</td>\n",
       "      <td>1.562389</td>\n",
       "      <td>0.0</td>\n",
       "    </tr>\n",
       "    <tr>\n",
       "      <th>26086</th>\n",
       "      <td>2020/4/5 0:50</td>\n",
       "      <td>2020</td>\n",
       "      <td>4</td>\n",
       "      <td>5</td>\n",
       "      <td>0</td>\n",
       "      <td>50</td>\n",
       "      <td>12.473059</td>\n",
       "      <td>51.437592</td>\n",
       "      <td>2.705024</td>\n",
       "      <td>1.056878</td>\n",
       "      <td>38.816971</td>\n",
       "      <td>0.0</td>\n",
       "      <td>1.450445</td>\n",
       "      <td>1.464384</td>\n",
       "      <td>0.0</td>\n",
       "    </tr>\n",
       "    <tr>\n",
       "      <th>26087</th>\n",
       "      <td>2020/4/5 0:55</td>\n",
       "      <td>2020</td>\n",
       "      <td>4</td>\n",
       "      <td>5</td>\n",
       "      <td>0</td>\n",
       "      <td>55</td>\n",
       "      <td>12.487928</td>\n",
       "      <td>52.815613</td>\n",
       "      <td>2.770377</td>\n",
       "      <td>1.009924</td>\n",
       "      <td>38.826622</td>\n",
       "      <td>0.0</td>\n",
       "      <td>1.416805</td>\n",
       "      <td>1.396252</td>\n",
       "      <td>0.0</td>\n",
       "    </tr>\n",
       "    <tr>\n",
       "      <th>26088</th>\n",
       "      <td>2020/4/5 1:00</td>\n",
       "      <td>2020</td>\n",
       "      <td>4</td>\n",
       "      <td>5</td>\n",
       "      <td>1</td>\n",
       "      <td>0</td>\n",
       "      <td>12.615250</td>\n",
       "      <td>51.922993</td>\n",
       "      <td>2.824900</td>\n",
       "      <td>1.176786</td>\n",
       "      <td>38.630859</td>\n",
       "      <td>0.0</td>\n",
       "      <td>1.558160</td>\n",
       "      <td>1.564156</td>\n",
       "      <td>0.0</td>\n",
       "    </tr>\n",
       "    <tr>\n",
       "      <th>26089</th>\n",
       "      <td>2020/4/5 1:05</td>\n",
       "      <td>2020</td>\n",
       "      <td>4</td>\n",
       "      <td>5</td>\n",
       "      <td>1</td>\n",
       "      <td>5</td>\n",
       "      <td>12.650046</td>\n",
       "      <td>52.704815</td>\n",
       "      <td>2.925566</td>\n",
       "      <td>1.239489</td>\n",
       "      <td>38.642704</td>\n",
       "      <td>0.0</td>\n",
       "      <td>1.682041</td>\n",
       "      <td>1.680001</td>\n",
       "      <td>0.0</td>\n",
       "    </tr>\n",
       "    <tr>\n",
       "      <th>26090</th>\n",
       "      <td>2020/4/5 1:10</td>\n",
       "      <td>2020</td>\n",
       "      <td>4</td>\n",
       "      <td>5</td>\n",
       "      <td>1</td>\n",
       "      <td>10</td>\n",
       "      <td>12.520703</td>\n",
       "      <td>53.839500</td>\n",
       "      <td>3.070891</td>\n",
       "      <td>1.438634</td>\n",
       "      <td>38.671825</td>\n",
       "      <td>0.0</td>\n",
       "      <td>1.835209</td>\n",
       "      <td>1.772087</td>\n",
       "      <td>0.0</td>\n",
       "    </tr>\n",
       "  </tbody>\n",
       "</table>\n",
       "<p>26091 rows × 15 columns</p>\n",
       "</div>"
      ],
      "text/plain": [
       "            Timestamp  Year  Month  Day  Hour  Minutes        WTC        WRH  \\\n",
       "0       2020/1/1 0:00  2020      1    1     0        0  29.685360  21.727171   \n",
       "1       2020/1/1 0:05  2020      1    1     0        5  29.559967  21.878902   \n",
       "2       2020/1/1 0:10  2020      1    1     0       10  29.530006  21.859453   \n",
       "3       2020/1/1 0:15  2020      1    1     0       15  29.474438  21.897285   \n",
       "4       2020/1/1 0:20  2020      1    1     0       20  29.365288  22.085625   \n",
       "5       2020/1/1 0:25  2020      1    1     0       25  29.223780  22.275812   \n",
       "6       2020/1/1 0:30  2020      1    1     0       30  29.078783  22.451258   \n",
       "7       2020/1/1 0:35  2020      1    1     0       35  28.957481  22.637762   \n",
       "8       2020/1/1 0:40  2020      1    1     0       40  28.814610  22.835932   \n",
       "9       2020/1/1 0:45  2020      1    1     0       45  28.729786  22.996599   \n",
       "10      2020/1/1 0:50  2020      1    1     0       50  28.592758  23.181684   \n",
       "11      2020/1/1 0:55  2020      1    1     0       55  28.392076  23.473572   \n",
       "12      2020/1/1 1:00  2020      1    1     1        0  28.411869  23.467482   \n",
       "13      2020/1/1 1:05  2020      1    1     1        5  28.358627  23.524519   \n",
       "14      2020/1/1 1:10  2020      1    1     1       10  28.253054  23.648945   \n",
       "15      2020/1/1 1:15  2020      1    1     1       15  27.980003  23.999746   \n",
       "16      2020/1/1 1:20  2020      1    1     1       20  27.822742  24.286127   \n",
       "17      2020/1/1 1:25  2020      1    1     1       25  27.678402  24.456440   \n",
       "18      2020/1/1 1:30  2020      1    1     1       30  27.459091  24.770012   \n",
       "19      2020/1/1 1:35  2020      1    1     1       35  27.231171  25.130188   \n",
       "20      2020/1/1 1:40  2020      1    1     1       40  26.885878  25.678627   \n",
       "21      2020/1/1 1:45  2020      1    1     1       45  26.445585  26.371904   \n",
       "22      2020/1/1 1:50  2020      1    1     1       50  26.154755  26.898197   \n",
       "23      2020/1/1 1:55  2020      1    1     1       55  25.888542  27.293535   \n",
       "24      2020/1/1 2:00  2020      1    1     2        0  25.693918  27.671940   \n",
       "25      2020/1/1 2:05  2020      1    1     2        5  25.608994  27.869648   \n",
       "26      2020/1/1 2:10  2020      1    1     2       10  25.520903  27.882938   \n",
       "27      2020/1/1 2:15  2020      1    1     2       15  25.425531  28.031855   \n",
       "28      2020/1/1 2:20  2020      1    1     2       20  25.190054  28.441647   \n",
       "29      2020/1/1 2:25  2020      1    1     2       25  25.302988  28.330071   \n",
       "...               ...   ...    ...  ...   ...      ...        ...        ...   \n",
       "26061  2020/4/4 22:45  2020      4    4    22       45  14.785770  42.543282   \n",
       "26062  2020/4/4 22:50  2020      4    4    22       50  14.599751  43.579414   \n",
       "26063  2020/4/4 22:55  2020      4    4    22       55  14.344951  42.398865   \n",
       "26064  2020/4/4 23:00  2020      4    4    23        0  14.175533  44.494904   \n",
       "26065  2020/4/4 23:05  2020      4    4    23        5  13.981981  45.097054   \n",
       "26066  2020/4/4 23:10  2020      4    4    23       10  13.925051  43.217735   \n",
       "26067  2020/4/4 23:15  2020      4    4    23       15  13.982526  43.532219   \n",
       "26068  2020/4/4 23:20  2020      4    4    23       20  14.025059  44.928085   \n",
       "26069  2020/4/4 23:25  2020      4    4    23       25  14.033333  45.748543   \n",
       "26070  2020/4/4 23:30  2020      4    4    23       30  13.933186  45.101753   \n",
       "26071  2020/4/4 23:35  2020      4    4    23       35  13.815808  44.122997   \n",
       "26072  2020/4/4 23:40  2020      4    4    23       40  13.736240  44.870399   \n",
       "26073  2020/4/4 23:45  2020      4    4    23       45  13.642729  46.120857   \n",
       "26074  2020/4/4 23:50  2020      4    4    23       50  13.556326  46.714874   \n",
       "26075  2020/4/4 23:55  2020      4    4    23       55  13.400011  47.826260   \n",
       "26076   2020/4/5 0:00  2020      4    5     0        0  13.234460  47.649384   \n",
       "26077   2020/4/5 0:05  2020      4    5     0        5  13.201200  48.635334   \n",
       "26078   2020/4/5 0:10  2020      4    5     0       10  13.185686  48.650005   \n",
       "26079   2020/4/5 0:15  2020      4    5     0       15  13.212528  49.727577   \n",
       "26080   2020/4/5 0:20  2020      4    5     0       20  13.113058  49.737309   \n",
       "26081   2020/4/5 0:25  2020      4    5     0       25  12.862505  51.321285   \n",
       "26082   2020/4/5 0:30  2020      4    5     0       30  12.601229  51.638340   \n",
       "26083   2020/4/5 0:35  2020      4    5     0       35  12.489401  52.245537   \n",
       "26084   2020/4/5 0:40  2020      4    5     0       40  12.421919  52.507092   \n",
       "26085   2020/4/5 0:45  2020      4    5     0       45  12.445259  51.410751   \n",
       "26086   2020/4/5 0:50  2020      4    5     0       50  12.473059  51.437592   \n",
       "26087   2020/4/5 0:55  2020      4    5     0       55  12.487928  52.815613   \n",
       "26088   2020/4/5 1:00  2020      4    5     1        0  12.615250  51.922993   \n",
       "26089   2020/4/5 1:05  2020      4    5     1        5  12.650046  52.704815   \n",
       "26090   2020/4/5 1:10  2020      4    5     1       10  12.520703  53.839500   \n",
       "\n",
       "            GHR       DHR         WD  WDR       RGT       RDT  1A Trina_power  \n",
       "0      1.360221  1.191879  33.216167  0.0  2.958199  0.524153             0.0  \n",
       "1      1.532208  1.460944  33.254341  0.0  3.288470  0.764565             0.0  \n",
       "2      1.186835  1.118219  33.302616  0.0  3.253541  0.725652             0.0  \n",
       "3      1.017349  0.824890  33.337837  0.0  3.260514  0.706365             0.0  \n",
       "4      1.323369  1.175776  33.375069  0.0  3.148183  0.694154             0.0  \n",
       "5      1.720813  1.575351  33.423721  0.0  3.426321  0.964147             0.0  \n",
       "6      1.753417  1.582172  33.468391  0.0  3.611997  1.257185             0.0  \n",
       "7      1.742352  1.633590  33.527313  0.0  3.643157  1.188009             0.0  \n",
       "8      1.805557  1.631509  33.590416  0.0  3.819599  1.174781             0.0  \n",
       "9      1.671176  1.498169  33.636559  0.0  3.634844  0.964134             0.0  \n",
       "10     1.814162  1.723544  33.701748  0.0  3.314531  0.762200             0.0  \n",
       "11     1.927942  1.724388  33.778366  0.0  3.169454  0.664286             0.0  \n",
       "12     1.268229  0.973159  33.812145  0.0  3.400859  0.881300             0.0  \n",
       "13     1.177712  0.910826  33.911770  0.0  3.343628  0.668946             0.0  \n",
       "14     1.536287  1.278867  33.957619  0.0  3.422707  0.763333             0.0  \n",
       "15     2.186837  2.009130  34.006390  0.0  3.400011  0.842147             0.0  \n",
       "16     1.923522  1.754622  34.048439  0.0  3.444055  0.831328             0.0  \n",
       "17     1.873147  1.754881  34.126431  0.0  3.446974  0.795580             0.0  \n",
       "18     2.192098  1.922803  34.159397  0.0  3.535381  0.977222             0.0  \n",
       "19     2.419614  2.097093  34.246471  0.0  3.821245  1.183499             0.0  \n",
       "20     2.691330  2.378614  34.288834  0.0  3.954951  1.406119             0.0  \n",
       "21     2.859226  2.639040  34.362782  0.0  4.027999  1.554156             0.0  \n",
       "22     2.806457  2.490644  34.409454  0.0  4.173337  1.506821             0.0  \n",
       "23     2.595445  2.394536  34.434292  0.0  4.163086  1.448638             0.0  \n",
       "24     2.524767  2.332911  34.499157  0.0  4.123783  1.383971             0.0  \n",
       "25     2.422706  2.046568  34.581753  0.0  4.076994  1.361102             0.0  \n",
       "26     1.923375  1.639341  34.661583  0.0  4.082287  1.346798             0.0  \n",
       "27     1.772595  1.586649  34.706955  0.0  3.791498  1.159276             0.0  \n",
       "28     1.767297  1.588320  34.773052  0.0  3.234269  0.930162             0.0  \n",
       "29     0.785783  0.541151  34.821609  0.0  2.512101  0.419649             0.0  \n",
       "...         ...       ...        ...  ...       ...       ...             ...  \n",
       "26061  3.352985  1.776262  37.915684  0.0  3.896058  1.957326             0.0  \n",
       "26062  3.865011  2.217285  38.018124  0.0  3.984047  2.109331             0.0  \n",
       "26063  4.044104  2.377917  38.198059  0.0  3.689606  1.966932             0.0  \n",
       "26064  3.443586  1.725874  37.989571  0.0  3.348327  1.983175             0.0  \n",
       "26065  3.535264  1.847589  37.942978  0.0  2.296231  1.811953             0.0  \n",
       "26066  3.464489  1.754659  37.993576  0.0  1.991401  1.779015             0.0  \n",
       "26067  3.424249  1.749198  37.986221  0.0  1.842332  1.715343             0.0  \n",
       "26068  3.165573  1.492924  38.105553  0.0  1.887451  1.774487             0.0  \n",
       "26069  2.564070  0.968316  38.312557  0.0  2.055621  1.924016             0.0  \n",
       "26070  3.066529  1.389494  38.592945  0.0  2.014160  1.701247             0.0  \n",
       "26071  3.271036  1.576517  38.770901  0.0  1.949057  1.750806             0.0  \n",
       "26072  3.182660  1.477067  38.797935  0.0  1.623924  1.553799             0.0  \n",
       "26073  3.114092  1.446960  38.828491  0.0  1.685441  1.645461             0.0  \n",
       "26074  2.804476  1.157127  38.804722  0.0  1.709979  1.812032             0.0  \n",
       "26075  2.793040  1.036941  38.720371  0.0  1.809647  1.785576             0.0  \n",
       "26076  2.720302  1.041300  38.681927  0.0  1.715402  1.799649             0.0  \n",
       "26077  2.689028  1.075223  38.711914  0.0  1.647756  1.791866             0.0  \n",
       "26078  2.575248  0.995337  38.815857  0.0  1.543031  1.614942             0.0  \n",
       "26079  2.769508  1.129892  38.904572  0.0  1.692965  1.634948             0.0  \n",
       "26080  3.144825  1.538603  39.102985  0.0  1.687192  1.657190             0.0  \n",
       "26081  3.465345  1.685654  38.950432  0.0  1.706479  1.785123             0.0  \n",
       "26082  3.321433  1.553192  38.974041  0.0  1.687633  1.697103             0.0  \n",
       "26083  3.327818  1.561864  39.012394  0.0  1.620964  1.623037             0.0  \n",
       "26084  3.002171  1.309948  38.939892  0.0  1.485630  1.592081             0.0  \n",
       "26085  2.504432  0.802285  38.809971  0.0  1.460837  1.562389             0.0  \n",
       "26086  2.705024  1.056878  38.816971  0.0  1.450445  1.464384             0.0  \n",
       "26087  2.770377  1.009924  38.826622  0.0  1.416805  1.396252             0.0  \n",
       "26088  2.824900  1.176786  38.630859  0.0  1.558160  1.564156             0.0  \n",
       "26089  2.925566  1.239489  38.642704  0.0  1.682041  1.680001             0.0  \n",
       "26090  3.070891  1.438634  38.671825  0.0  1.835209  1.772087             0.0  \n",
       "\n",
       "[26091 rows x 15 columns]"
      ]
     },
     "execution_count": 14,
     "metadata": {},
     "output_type": "execute_result"
    }
   ],
   "source": [
    "testnames[0]"
   ]
  },
  {
   "cell_type": "code",
   "execution_count": 15,
   "metadata": {},
   "outputs": [],
   "source": [
    "# train = pd.read_csv('train_1A.csv')\n",
    "# test = pd.read_csv('test_1A.csv')"
   ]
  },
  {
   "cell_type": "code",
   "execution_count": 16,
   "metadata": {},
   "outputs": [
    {
     "name": "stdout",
     "output_type": "stream",
     "text": [
      "(26091, 15)\n",
      "(26091, 15)\n",
      "(26091, 15)\n",
      "(26091, 15)\n",
      "(26091, 15)\n",
      "(26091, 15)\n",
      "(26091, 15)\n",
      "(26091, 15)\n",
      "(26091, 15)\n"
     ]
    }
   ],
   "source": [
    "#查看输入数据维度\n",
    "# print(train.shape)\n",
    "for tena in testnames:\n",
    "    print(tena.shape)"
   ]
  },
  {
   "cell_type": "code",
   "execution_count": 17,
   "metadata": {
    "scrolled": true
   },
   "outputs": [],
   "source": [
    "# train.head(5)"
   ]
  },
  {
   "cell_type": "code",
   "execution_count": 18,
   "metadata": {},
   "outputs": [
    {
     "name": "stdout",
     "output_type": "stream",
     "text": [
      "       Timestamp  Year  Month  Day  Hour  Minutes        WTC        WRH  \\\n",
      "0  2020/1/1 0:00  2020      1    1     0        0  29.685360  21.727171   \n",
      "1  2020/1/1 0:05  2020      1    1     0        5  29.559967  21.878902   \n",
      "2  2020/1/1 0:10  2020      1    1     0       10  29.530006  21.859453   \n",
      "3  2020/1/1 0:15  2020      1    1     0       15  29.474438  21.897285   \n",
      "4  2020/1/1 0:20  2020      1    1     0       20  29.365288  22.085625   \n",
      "\n",
      "        GHR       DHR         WD  WDR       RGT       RDT  1A Trina_power  \n",
      "0  1.360221  1.191879  33.216167  0.0  2.958199  0.524153             0.0  \n",
      "1  1.532208  1.460944  33.254341  0.0  3.288470  0.764565             0.0  \n",
      "2  1.186835  1.118219  33.302616  0.0  3.253541  0.725652             0.0  \n",
      "3  1.017349  0.824890  33.337837  0.0  3.260514  0.706365             0.0  \n",
      "4  1.323369  1.175776  33.375069  0.0  3.148183  0.694154             0.0  \n",
      "       Timestamp  Year  Month  Day  Hour  Minutes        WTC        WRH  \\\n",
      "0  2020/1/1 0:00  2020      1    1     0        0  29.685360  21.727171   \n",
      "1  2020/1/1 0:05  2020      1    1     0        5  29.559967  21.878902   \n",
      "2  2020/1/1 0:10  2020      1    1     0       10  29.530006  21.859453   \n",
      "3  2020/1/1 0:15  2020      1    1     0       15  29.474438  21.897285   \n",
      "4  2020/1/1 0:20  2020      1    1     0       20  29.365288  22.085625   \n",
      "\n",
      "        GHR       DHR         WD  WDR       RGT       RDT  1B Trina_power  \n",
      "0  1.360221  1.191879  33.216167  0.0  2.958199  0.524153             0.0  \n",
      "1  1.532208  1.460944  33.254341  0.0  3.288470  0.764565             0.0  \n",
      "2  1.186835  1.118219  33.302616  0.0  3.253541  0.725652             0.0  \n",
      "3  1.017349  0.824890  33.337837  0.0  3.260514  0.706365             0.0  \n",
      "4  1.323369  1.175776  33.375069  0.0  3.148183  0.694154             0.0  \n",
      "       Timestamp  Year  Month  Day  Hour  Minutes        WTC        WRH  \\\n",
      "0  2020/1/1 0:00  2020      1    1     0        0  29.685360  21.727171   \n",
      "1  2020/1/1 0:05  2020      1    1     0        5  29.559967  21.878902   \n",
      "2  2020/1/1 0:10  2020      1    1     0       10  29.530006  21.859453   \n",
      "3  2020/1/1 0:15  2020      1    1     0       15  29.474438  21.897285   \n",
      "4  2020/1/1 0:20  2020      1    1     0       20  29.365288  22.085625   \n",
      "\n",
      "        GHR       DHR         WD  WDR       RGT       RDT  2 eco_power  \n",
      "0  1.360221  1.191879  33.216167  0.0  2.958199  0.524153     0.008233  \n",
      "1  1.532208  1.460944  33.254341  0.0  3.288470  0.764565     0.008233  \n",
      "2  1.186835  1.118219  33.302616  0.0  3.253541  0.725652     0.007900  \n",
      "3  1.017349  0.824890  33.337837  0.0  3.260514  0.706365     0.008433  \n",
      "4  1.323369  1.175776  33.375069  0.0  3.148183  0.694154     0.008567  \n",
      "       Timestamp  Year  Month  Day  Hour  Minutes        WTC        WRH  \\\n",
      "0  2020/1/1 0:00  2020      1    1     0        0  29.685360  21.727171   \n",
      "1  2020/1/1 0:05  2020      1    1     0        5  29.559967  21.878902   \n",
      "2  2020/1/1 0:10  2020      1    1     0       10  29.530006  21.859453   \n",
      "3  2020/1/1 0:15  2020      1    1     0       15  29.474438  21.897285   \n",
      "4  2020/1/1 0:20  2020      1    1     0       20  29.365288  22.085625   \n",
      "\n",
      "        GHR       DHR         WD  WDR       RGT       RDT  3 BP_power  \n",
      "0  1.360221  1.191879  33.216167  0.0  2.958199  0.524153    0.000533  \n",
      "1  1.532208  1.460944  33.254341  0.0  3.288470  0.764565    0.000400  \n",
      "2  1.186835  1.118219  33.302616  0.0  3.253541  0.725652    0.000267  \n",
      "3  1.017349  0.824890  33.337837  0.0  3.260514  0.706365    0.000267  \n",
      "4  1.323369  1.175776  33.375069  0.0  3.148183  0.694154    0.000267  \n",
      "       Timestamp  Year  Month  Day  Hour  Minutes        WTC        WRH  \\\n",
      "0  2020/1/1 0:00  2020      1    1     0        0  29.685360  21.727171   \n",
      "1  2020/1/1 0:05  2020      1    1     0        5  29.559967  21.878902   \n",
      "2  2020/1/1 0:10  2020      1    1     0       10  29.530006  21.859453   \n",
      "3  2020/1/1 0:15  2020      1    1     0       15  29.474438  21.897285   \n",
      "4  2020/1/1 0:20  2020      1    1     0       20  29.365288  22.085625   \n",
      "\n",
      "        GHR       DHR         WD  WDR       RGT       RDT  4 Kyocera_power  \n",
      "0  1.360221  1.191879  33.216167  0.0  2.958199  0.524153              0.0  \n",
      "1  1.532208  1.460944  33.254341  0.0  3.288470  0.764565              0.0  \n",
      "2  1.186835  1.118219  33.302616  0.0  3.253541  0.725652              0.0  \n",
      "3  1.017349  0.824890  33.337837  0.0  3.260514  0.706365              0.0  \n",
      "4  1.323369  1.175776  33.375069  0.0  3.148183  0.694154              0.0  \n",
      "       Timestamp  Year  Month  Day  Hour  Minutes        WTC        WRH  \\\n",
      "0  2020/1/1 0:00  2020      1    1     0        0  29.685360  21.727171   \n",
      "1  2020/1/1 0:05  2020      1    1     0        5  29.559967  21.878902   \n",
      "2  2020/1/1 0:10  2020      1    1     0       10  29.530006  21.859453   \n",
      "3  2020/1/1 0:15  2020      1    1     0       15  29.474438  21.897285   \n",
      "4  2020/1/1 0:20  2020      1    1     0       20  29.365288  22.085625   \n",
      "\n",
      "        GHR       DHR         WD  WDR       RGT       RDT  5 Kyocera_power  \n",
      "0  1.360221  1.191879  33.216167  0.0  2.958199  0.524153              0.0  \n",
      "1  1.532208  1.460944  33.254341  0.0  3.288470  0.764565              0.0  \n",
      "2  1.186835  1.118219  33.302616  0.0  3.253541  0.725652              0.0  \n",
      "3  1.017349  0.824890  33.337837  0.0  3.260514  0.706365              0.0  \n",
      "4  1.323369  1.175776  33.375069  0.0  3.148183  0.694154              0.0  \n",
      "       Timestamp  Year  Month  Day  Hour  Minutes        WTC        WRH  \\\n",
      "0  2020/1/1 0:00  2020      1    1     0        0  29.685360  21.727171   \n",
      "1  2020/1/1 0:05  2020      1    1     0        5  29.559967  21.878902   \n",
      "2  2020/1/1 0:10  2020      1    1     0       10  29.530006  21.859453   \n",
      "3  2020/1/1 0:15  2020      1    1     0       15  29.474438  21.897285   \n",
      "4  2020/1/1 0:20  2020      1    1     0       20  29.365288  22.085625   \n",
      "\n",
      "        GHR       DHR         WD  WDR       RGT       RDT  6 Kyocera_power  \n",
      "0  1.360221  1.191879  33.216167  0.0  2.958199  0.524153        -0.020000  \n",
      "1  1.532208  1.460944  33.254341  0.0  3.288470  0.764565        -0.019967  \n",
      "2  1.186835  1.118219  33.302616  0.0  3.253541  0.725652        -0.019900  \n",
      "3  1.017349  0.824890  33.337837  0.0  3.260514  0.706365        -0.019933  \n",
      "4  1.323369  1.175776  33.375069  0.0  3.148183  0.694154        -0.020000  \n",
      "       Timestamp  Year  Month  Day  Hour  Minutes        WTC        WRH  \\\n",
      "0  2020/1/1 0:00  2020      1    1     0        0  29.685360  21.727171   \n",
      "1  2020/1/1 0:05  2020      1    1     0        5  29.559967  21.878902   \n",
      "2  2020/1/1 0:10  2020      1    1     0       10  29.530006  21.859453   \n",
      "3  2020/1/1 0:15  2020      1    1     0       15  29.474438  21.897285   \n",
      "4  2020/1/1 0:20  2020      1    1     0       20  29.365288  22.085625   \n",
      "\n",
      "        GHR       DHR         WD  WDR       RGT       RDT  7 First_power  \n",
      "0  1.360221  1.191879  33.216167  0.0  2.958199  0.524153          -0.01  \n",
      "1  1.532208  1.460944  33.254341  0.0  3.288470  0.764565          -0.01  \n",
      "2  1.186835  1.118219  33.302616  0.0  3.253541  0.725652          -0.01  \n",
      "3  1.017349  0.824890  33.337837  0.0  3.260514  0.706365          -0.01  \n",
      "4  1.323369  1.175776  33.375069  0.0  3.148183  0.694154          -0.01  \n",
      "       Timestamp  Year  Month  Day  Hour  Minutes        WTC        WRH  \\\n",
      "0  2020/1/1 0:00  2020      1    1     0        0  29.685360  21.727171   \n",
      "1  2020/1/1 0:05  2020      1    1     0        5  29.559967  21.878902   \n",
      "2  2020/1/1 0:10  2020      1    1     0       10  29.530006  21.859453   \n",
      "3  2020/1/1 0:15  2020      1    1     0       15  29.474438  21.897285   \n",
      "4  2020/1/1 0:20  2020      1    1     0       20  29.365288  22.085625   \n",
      "\n",
      "        GHR       DHR         WD  WDR       RGT       RDT  8 Kaneka_power  \n",
      "0  1.360221  1.191879  33.216167  0.0  2.958199  0.524153             0.0  \n",
      "1  1.532208  1.460944  33.254341  0.0  3.288470  0.764565             0.0  \n",
      "2  1.186835  1.118219  33.302616  0.0  3.253541  0.725652             0.0  \n",
      "3  1.017349  0.824890  33.337837  0.0  3.260514  0.706365             0.0  \n",
      "4  1.323369  1.175776  33.375069  0.0  3.148183  0.694154             0.0  \n"
     ]
    }
   ],
   "source": [
    "for tena in testnames:\n",
    "    print(tena.head(5))\n",
    "# test.head(5)"
   ]
  },
  {
   "cell_type": "markdown",
   "metadata": {},
   "source": [
    "# 数据预处理训练集去异常值"
   ]
  },
  {
   "cell_type": "code",
   "execution_count": 19,
   "metadata": {},
   "outputs": [],
   "source": [
    "# #使用df.isnull().sum()来获得与行数None和NaN值。\n",
    "# train.isnull().sum()"
   ]
  },
  {
   "cell_type": "code",
   "execution_count": 20,
   "metadata": {},
   "outputs": [],
   "source": [
    "# test.isnull().sum()\n",
    "\n",
    "for tena in testnames:\n",
    "    tena.isnull().sum()"
   ]
  },
  {
   "cell_type": "code",
   "execution_count": 21,
   "metadata": {},
   "outputs": [],
   "source": [
    "# #训练集去掉全是空值的行和列    #axis=0, how='any', thresh=None, subset=None, inplace=False)\n",
    "# # detectioncolumns=['WTC', 'WRH', 'GHR', 'DHR', 'WD', 'WDR', 'RGT', 'RDT']\n",
    "# # for i in detectioncolumns:\n",
    "# train.dropna(axis=\"index\",how='any' , inplace=True)  #删除掉全是空值的行\n",
    "# # train.dropna(axis=\"columns\", how='all', inplace=True)  #删除掉全是空值的列\n",
    "\n",
    "\n",
    "# test.dropna(axis=\"index\", how='any', inplace=True)  #删除掉全是空值的行\n",
    "# # test.dropna(axis=\"columns\", how='all', inplace=True)  #删除掉全是空值的列"
   ]
  },
  {
   "cell_type": "code",
   "execution_count": 22,
   "metadata": {},
   "outputs": [],
   "source": [
    "# #填补缺失值为均值\n",
    "# #train.ffill({\"RGT\":train['RGT'].mean()})\n",
    "# detectioncolumns=['WTC', 'WRH', 'GHR', 'DHR', 'WD', 'WDR', 'RGT', 'RDT']\n",
    "# for i in detectioncolumns:\n",
    "#     replace_NA=train[i].mean()\n",
    "#     train[i].fillna(replace_NA,inplace=True)\n",
    "# #去除测试集空值\n",
    "# for i in detectioncolumns:\n",
    "#     replace_NA=test[i].mean()\n",
    "#     test[i].fillna(replace_NA,inplace=True)\n"
   ]
  },
  {
   "cell_type": "code",
   "execution_count": 23,
   "metadata": {},
   "outputs": [],
   "source": [
    "# train.columns"
   ]
  },
  {
   "cell_type": "code",
   "execution_count": 24,
   "metadata": {},
   "outputs": [],
   "source": [
    "# test.columns\n",
    "for tena in testnames:\n",
    "    tena.columns"
   ]
  },
  {
   "cell_type": "code",
   "execution_count": 25,
   "metadata": {},
   "outputs": [],
   "source": [
    "# train.head()"
   ]
  },
  {
   "cell_type": "code",
   "execution_count": 26,
   "metadata": {
    "scrolled": false
   },
   "outputs": [
    {
     "name": "stdout",
     "output_type": "stream",
     "text": [
      "       Timestamp  Year  Month  Day  Hour  Minutes        WTC        WRH  \\\n",
      "0  2020/1/1 0:00  2020      1    1     0        0  29.685360  21.727171   \n",
      "1  2020/1/1 0:05  2020      1    1     0        5  29.559967  21.878902   \n",
      "2  2020/1/1 0:10  2020      1    1     0       10  29.530006  21.859453   \n",
      "3  2020/1/1 0:15  2020      1    1     0       15  29.474438  21.897285   \n",
      "4  2020/1/1 0:20  2020      1    1     0       20  29.365288  22.085625   \n",
      "\n",
      "        GHR       DHR         WD  WDR       RGT       RDT  1A Trina_power  \n",
      "0  1.360221  1.191879  33.216167  0.0  2.958199  0.524153             0.0  \n",
      "1  1.532208  1.460944  33.254341  0.0  3.288470  0.764565             0.0  \n",
      "2  1.186835  1.118219  33.302616  0.0  3.253541  0.725652             0.0  \n",
      "3  1.017349  0.824890  33.337837  0.0  3.260514  0.706365             0.0  \n",
      "4  1.323369  1.175776  33.375069  0.0  3.148183  0.694154             0.0  \n",
      "       Timestamp  Year  Month  Day  Hour  Minutes        WTC        WRH  \\\n",
      "0  2020/1/1 0:00  2020      1    1     0        0  29.685360  21.727171   \n",
      "1  2020/1/1 0:05  2020      1    1     0        5  29.559967  21.878902   \n",
      "2  2020/1/1 0:10  2020      1    1     0       10  29.530006  21.859453   \n",
      "3  2020/1/1 0:15  2020      1    1     0       15  29.474438  21.897285   \n",
      "4  2020/1/1 0:20  2020      1    1     0       20  29.365288  22.085625   \n",
      "\n",
      "        GHR       DHR         WD  WDR       RGT       RDT  1B Trina_power  \n",
      "0  1.360221  1.191879  33.216167  0.0  2.958199  0.524153             0.0  \n",
      "1  1.532208  1.460944  33.254341  0.0  3.288470  0.764565             0.0  \n",
      "2  1.186835  1.118219  33.302616  0.0  3.253541  0.725652             0.0  \n",
      "3  1.017349  0.824890  33.337837  0.0  3.260514  0.706365             0.0  \n",
      "4  1.323369  1.175776  33.375069  0.0  3.148183  0.694154             0.0  \n",
      "       Timestamp  Year  Month  Day  Hour  Minutes        WTC        WRH  \\\n",
      "0  2020/1/1 0:00  2020      1    1     0        0  29.685360  21.727171   \n",
      "1  2020/1/1 0:05  2020      1    1     0        5  29.559967  21.878902   \n",
      "2  2020/1/1 0:10  2020      1    1     0       10  29.530006  21.859453   \n",
      "3  2020/1/1 0:15  2020      1    1     0       15  29.474438  21.897285   \n",
      "4  2020/1/1 0:20  2020      1    1     0       20  29.365288  22.085625   \n",
      "\n",
      "        GHR       DHR         WD  WDR       RGT       RDT  2 eco_power  \n",
      "0  1.360221  1.191879  33.216167  0.0  2.958199  0.524153     0.008233  \n",
      "1  1.532208  1.460944  33.254341  0.0  3.288470  0.764565     0.008233  \n",
      "2  1.186835  1.118219  33.302616  0.0  3.253541  0.725652     0.007900  \n",
      "3  1.017349  0.824890  33.337837  0.0  3.260514  0.706365     0.008433  \n",
      "4  1.323369  1.175776  33.375069  0.0  3.148183  0.694154     0.008567  \n",
      "       Timestamp  Year  Month  Day  Hour  Minutes        WTC        WRH  \\\n",
      "0  2020/1/1 0:00  2020      1    1     0        0  29.685360  21.727171   \n",
      "1  2020/1/1 0:05  2020      1    1     0        5  29.559967  21.878902   \n",
      "2  2020/1/1 0:10  2020      1    1     0       10  29.530006  21.859453   \n",
      "3  2020/1/1 0:15  2020      1    1     0       15  29.474438  21.897285   \n",
      "4  2020/1/1 0:20  2020      1    1     0       20  29.365288  22.085625   \n",
      "\n",
      "        GHR       DHR         WD  WDR       RGT       RDT  3 BP_power  \n",
      "0  1.360221  1.191879  33.216167  0.0  2.958199  0.524153    0.000533  \n",
      "1  1.532208  1.460944  33.254341  0.0  3.288470  0.764565    0.000400  \n",
      "2  1.186835  1.118219  33.302616  0.0  3.253541  0.725652    0.000267  \n",
      "3  1.017349  0.824890  33.337837  0.0  3.260514  0.706365    0.000267  \n",
      "4  1.323369  1.175776  33.375069  0.0  3.148183  0.694154    0.000267  \n",
      "       Timestamp  Year  Month  Day  Hour  Minutes        WTC        WRH  \\\n",
      "0  2020/1/1 0:00  2020      1    1     0        0  29.685360  21.727171   \n",
      "1  2020/1/1 0:05  2020      1    1     0        5  29.559967  21.878902   \n",
      "2  2020/1/1 0:10  2020      1    1     0       10  29.530006  21.859453   \n",
      "3  2020/1/1 0:15  2020      1    1     0       15  29.474438  21.897285   \n",
      "4  2020/1/1 0:20  2020      1    1     0       20  29.365288  22.085625   \n",
      "\n",
      "        GHR       DHR         WD  WDR       RGT       RDT  4 Kyocera_power  \n",
      "0  1.360221  1.191879  33.216167  0.0  2.958199  0.524153              0.0  \n",
      "1  1.532208  1.460944  33.254341  0.0  3.288470  0.764565              0.0  \n",
      "2  1.186835  1.118219  33.302616  0.0  3.253541  0.725652              0.0  \n",
      "3  1.017349  0.824890  33.337837  0.0  3.260514  0.706365              0.0  \n",
      "4  1.323369  1.175776  33.375069  0.0  3.148183  0.694154              0.0  \n",
      "       Timestamp  Year  Month  Day  Hour  Minutes        WTC        WRH  \\\n",
      "0  2020/1/1 0:00  2020      1    1     0        0  29.685360  21.727171   \n",
      "1  2020/1/1 0:05  2020      1    1     0        5  29.559967  21.878902   \n",
      "2  2020/1/1 0:10  2020      1    1     0       10  29.530006  21.859453   \n",
      "3  2020/1/1 0:15  2020      1    1     0       15  29.474438  21.897285   \n",
      "4  2020/1/1 0:20  2020      1    1     0       20  29.365288  22.085625   \n",
      "\n",
      "        GHR       DHR         WD  WDR       RGT       RDT  5 Kyocera_power  \n",
      "0  1.360221  1.191879  33.216167  0.0  2.958199  0.524153              0.0  \n",
      "1  1.532208  1.460944  33.254341  0.0  3.288470  0.764565              0.0  \n",
      "2  1.186835  1.118219  33.302616  0.0  3.253541  0.725652              0.0  \n",
      "3  1.017349  0.824890  33.337837  0.0  3.260514  0.706365              0.0  \n",
      "4  1.323369  1.175776  33.375069  0.0  3.148183  0.694154              0.0  \n",
      "       Timestamp  Year  Month  Day  Hour  Minutes        WTC        WRH  \\\n",
      "0  2020/1/1 0:00  2020      1    1     0        0  29.685360  21.727171   \n",
      "1  2020/1/1 0:05  2020      1    1     0        5  29.559967  21.878902   \n",
      "2  2020/1/1 0:10  2020      1    1     0       10  29.530006  21.859453   \n",
      "3  2020/1/1 0:15  2020      1    1     0       15  29.474438  21.897285   \n",
      "4  2020/1/1 0:20  2020      1    1     0       20  29.365288  22.085625   \n",
      "\n",
      "        GHR       DHR         WD  WDR       RGT       RDT  6 Kyocera_power  \n",
      "0  1.360221  1.191879  33.216167  0.0  2.958199  0.524153        -0.020000  \n",
      "1  1.532208  1.460944  33.254341  0.0  3.288470  0.764565        -0.019967  \n",
      "2  1.186835  1.118219  33.302616  0.0  3.253541  0.725652        -0.019900  \n",
      "3  1.017349  0.824890  33.337837  0.0  3.260514  0.706365        -0.019933  \n",
      "4  1.323369  1.175776  33.375069  0.0  3.148183  0.694154        -0.020000  \n",
      "       Timestamp  Year  Month  Day  Hour  Minutes        WTC        WRH  \\\n",
      "0  2020/1/1 0:00  2020      1    1     0        0  29.685360  21.727171   \n",
      "1  2020/1/1 0:05  2020      1    1     0        5  29.559967  21.878902   \n",
      "2  2020/1/1 0:10  2020      1    1     0       10  29.530006  21.859453   \n",
      "3  2020/1/1 0:15  2020      1    1     0       15  29.474438  21.897285   \n",
      "4  2020/1/1 0:20  2020      1    1     0       20  29.365288  22.085625   \n",
      "\n",
      "        GHR       DHR         WD  WDR       RGT       RDT  7 First_power  \n",
      "0  1.360221  1.191879  33.216167  0.0  2.958199  0.524153          -0.01  \n",
      "1  1.532208  1.460944  33.254341  0.0  3.288470  0.764565          -0.01  \n",
      "2  1.186835  1.118219  33.302616  0.0  3.253541  0.725652          -0.01  \n",
      "3  1.017349  0.824890  33.337837  0.0  3.260514  0.706365          -0.01  \n",
      "4  1.323369  1.175776  33.375069  0.0  3.148183  0.694154          -0.01  \n",
      "       Timestamp  Year  Month  Day  Hour  Minutes        WTC        WRH  \\\n",
      "0  2020/1/1 0:00  2020      1    1     0        0  29.685360  21.727171   \n",
      "1  2020/1/1 0:05  2020      1    1     0        5  29.559967  21.878902   \n",
      "2  2020/1/1 0:10  2020      1    1     0       10  29.530006  21.859453   \n",
      "3  2020/1/1 0:15  2020      1    1     0       15  29.474438  21.897285   \n",
      "4  2020/1/1 0:20  2020      1    1     0       20  29.365288  22.085625   \n",
      "\n",
      "        GHR       DHR         WD  WDR       RGT       RDT  8 Kaneka_power  \n",
      "0  1.360221  1.191879  33.216167  0.0  2.958199  0.524153             0.0  \n",
      "1  1.532208  1.460944  33.254341  0.0  3.288470  0.764565             0.0  \n",
      "2  1.186835  1.118219  33.302616  0.0  3.253541  0.725652             0.0  \n",
      "3  1.017349  0.824890  33.337837  0.0  3.260514  0.706365             0.0  \n",
      "4  1.323369  1.175776  33.375069  0.0  3.148183  0.694154             0.0  \n"
     ]
    }
   ],
   "source": [
    "# test.head()\n",
    "for tena in testnames:\n",
    "    print(tena.head())"
   ]
  },
  {
   "cell_type": "code",
   "execution_count": 27,
   "metadata": {},
   "outputs": [
    {
     "name": "stdout",
     "output_type": "stream",
     "text": [
      "               Year  Month  Day  Hour  Minutes        WTC        WRH  \\\n",
      "Timestamp                                                              \n",
      "2020/1/1 0:00  2020      1    1     0        0  29.685360  21.727171   \n",
      "2020/1/1 0:05  2020      1    1     0        5  29.559967  21.878902   \n",
      "2020/1/1 0:10  2020      1    1     0       10  29.530006  21.859453   \n",
      "2020/1/1 0:15  2020      1    1     0       15  29.474438  21.897285   \n",
      "2020/1/1 0:20  2020      1    1     0       20  29.365288  22.085625   \n",
      "\n",
      "                    GHR       DHR         WD  WDR       RGT       RDT  \\\n",
      "Timestamp                                                               \n",
      "2020/1/1 0:00  1.360221  1.191879  33.216167  0.0  2.958199  0.524153   \n",
      "2020/1/1 0:05  1.532208  1.460944  33.254341  0.0  3.288470  0.764565   \n",
      "2020/1/1 0:10  1.186835  1.118219  33.302616  0.0  3.253541  0.725652   \n",
      "2020/1/1 0:15  1.017349  0.824890  33.337837  0.0  3.260514  0.706365   \n",
      "2020/1/1 0:20  1.323369  1.175776  33.375069  0.0  3.148183  0.694154   \n",
      "\n",
      "               1A Trina_power  \n",
      "Timestamp                      \n",
      "2020/1/1 0:00             0.0  \n",
      "2020/1/1 0:05             0.0  \n",
      "2020/1/1 0:10             0.0  \n",
      "2020/1/1 0:15             0.0  \n",
      "2020/1/1 0:20             0.0  \n",
      "               Year  Month  Day  Hour  Minutes        WTC        WRH  \\\n",
      "Timestamp                                                              \n",
      "2020/1/1 0:00  2020      1    1     0        0  29.685360  21.727171   \n",
      "2020/1/1 0:05  2020      1    1     0        5  29.559967  21.878902   \n",
      "2020/1/1 0:10  2020      1    1     0       10  29.530006  21.859453   \n",
      "2020/1/1 0:15  2020      1    1     0       15  29.474438  21.897285   \n",
      "2020/1/1 0:20  2020      1    1     0       20  29.365288  22.085625   \n",
      "\n",
      "                    GHR       DHR         WD  WDR       RGT       RDT  \\\n",
      "Timestamp                                                               \n",
      "2020/1/1 0:00  1.360221  1.191879  33.216167  0.0  2.958199  0.524153   \n",
      "2020/1/1 0:05  1.532208  1.460944  33.254341  0.0  3.288470  0.764565   \n",
      "2020/1/1 0:10  1.186835  1.118219  33.302616  0.0  3.253541  0.725652   \n",
      "2020/1/1 0:15  1.017349  0.824890  33.337837  0.0  3.260514  0.706365   \n",
      "2020/1/1 0:20  1.323369  1.175776  33.375069  0.0  3.148183  0.694154   \n",
      "\n",
      "               1B Trina_power  \n",
      "Timestamp                      \n",
      "2020/1/1 0:00             0.0  \n",
      "2020/1/1 0:05             0.0  \n",
      "2020/1/1 0:10             0.0  \n",
      "2020/1/1 0:15             0.0  \n",
      "2020/1/1 0:20             0.0  \n",
      "               Year  Month  Day  Hour  Minutes        WTC        WRH  \\\n",
      "Timestamp                                                              \n",
      "2020/1/1 0:00  2020      1    1     0        0  29.685360  21.727171   \n",
      "2020/1/1 0:05  2020      1    1     0        5  29.559967  21.878902   \n",
      "2020/1/1 0:10  2020      1    1     0       10  29.530006  21.859453   \n",
      "2020/1/1 0:15  2020      1    1     0       15  29.474438  21.897285   \n",
      "2020/1/1 0:20  2020      1    1     0       20  29.365288  22.085625   \n",
      "\n",
      "                    GHR       DHR         WD  WDR       RGT       RDT  \\\n",
      "Timestamp                                                               \n",
      "2020/1/1 0:00  1.360221  1.191879  33.216167  0.0  2.958199  0.524153   \n",
      "2020/1/1 0:05  1.532208  1.460944  33.254341  0.0  3.288470  0.764565   \n",
      "2020/1/1 0:10  1.186835  1.118219  33.302616  0.0  3.253541  0.725652   \n",
      "2020/1/1 0:15  1.017349  0.824890  33.337837  0.0  3.260514  0.706365   \n",
      "2020/1/1 0:20  1.323369  1.175776  33.375069  0.0  3.148183  0.694154   \n",
      "\n",
      "               2 eco_power  \n",
      "Timestamp                   \n",
      "2020/1/1 0:00     0.008233  \n",
      "2020/1/1 0:05     0.008233  \n",
      "2020/1/1 0:10     0.007900  \n",
      "2020/1/1 0:15     0.008433  \n",
      "2020/1/1 0:20     0.008567  \n",
      "               Year  Month  Day  Hour  Minutes        WTC        WRH  \\\n",
      "Timestamp                                                              \n",
      "2020/1/1 0:00  2020      1    1     0        0  29.685360  21.727171   \n",
      "2020/1/1 0:05  2020      1    1     0        5  29.559967  21.878902   \n",
      "2020/1/1 0:10  2020      1    1     0       10  29.530006  21.859453   \n",
      "2020/1/1 0:15  2020      1    1     0       15  29.474438  21.897285   \n",
      "2020/1/1 0:20  2020      1    1     0       20  29.365288  22.085625   \n",
      "\n",
      "                    GHR       DHR         WD  WDR       RGT       RDT  \\\n",
      "Timestamp                                                               \n",
      "2020/1/1 0:00  1.360221  1.191879  33.216167  0.0  2.958199  0.524153   \n",
      "2020/1/1 0:05  1.532208  1.460944  33.254341  0.0  3.288470  0.764565   \n",
      "2020/1/1 0:10  1.186835  1.118219  33.302616  0.0  3.253541  0.725652   \n",
      "2020/1/1 0:15  1.017349  0.824890  33.337837  0.0  3.260514  0.706365   \n",
      "2020/1/1 0:20  1.323369  1.175776  33.375069  0.0  3.148183  0.694154   \n",
      "\n",
      "               3 BP_power  \n",
      "Timestamp                  \n",
      "2020/1/1 0:00    0.000533  \n",
      "2020/1/1 0:05    0.000400  \n",
      "2020/1/1 0:10    0.000267  \n",
      "2020/1/1 0:15    0.000267  \n",
      "2020/1/1 0:20    0.000267  \n",
      "               Year  Month  Day  Hour  Minutes        WTC        WRH  \\\n",
      "Timestamp                                                              \n",
      "2020/1/1 0:00  2020      1    1     0        0  29.685360  21.727171   \n",
      "2020/1/1 0:05  2020      1    1     0        5  29.559967  21.878902   \n",
      "2020/1/1 0:10  2020      1    1     0       10  29.530006  21.859453   \n",
      "2020/1/1 0:15  2020      1    1     0       15  29.474438  21.897285   \n",
      "2020/1/1 0:20  2020      1    1     0       20  29.365288  22.085625   \n",
      "\n",
      "                    GHR       DHR         WD  WDR       RGT       RDT  \\\n",
      "Timestamp                                                               \n",
      "2020/1/1 0:00  1.360221  1.191879  33.216167  0.0  2.958199  0.524153   \n",
      "2020/1/1 0:05  1.532208  1.460944  33.254341  0.0  3.288470  0.764565   \n",
      "2020/1/1 0:10  1.186835  1.118219  33.302616  0.0  3.253541  0.725652   \n",
      "2020/1/1 0:15  1.017349  0.824890  33.337837  0.0  3.260514  0.706365   \n",
      "2020/1/1 0:20  1.323369  1.175776  33.375069  0.0  3.148183  0.694154   \n",
      "\n",
      "               4 Kyocera_power  \n",
      "Timestamp                       \n",
      "2020/1/1 0:00              0.0  \n",
      "2020/1/1 0:05              0.0  \n",
      "2020/1/1 0:10              0.0  \n",
      "2020/1/1 0:15              0.0  \n",
      "2020/1/1 0:20              0.0  \n",
      "               Year  Month  Day  Hour  Minutes        WTC        WRH  \\\n",
      "Timestamp                                                              \n",
      "2020/1/1 0:00  2020      1    1     0        0  29.685360  21.727171   \n",
      "2020/1/1 0:05  2020      1    1     0        5  29.559967  21.878902   \n",
      "2020/1/1 0:10  2020      1    1     0       10  29.530006  21.859453   \n",
      "2020/1/1 0:15  2020      1    1     0       15  29.474438  21.897285   \n",
      "2020/1/1 0:20  2020      1    1     0       20  29.365288  22.085625   \n",
      "\n",
      "                    GHR       DHR         WD  WDR       RGT       RDT  \\\n",
      "Timestamp                                                               \n",
      "2020/1/1 0:00  1.360221  1.191879  33.216167  0.0  2.958199  0.524153   \n",
      "2020/1/1 0:05  1.532208  1.460944  33.254341  0.0  3.288470  0.764565   \n",
      "2020/1/1 0:10  1.186835  1.118219  33.302616  0.0  3.253541  0.725652   \n",
      "2020/1/1 0:15  1.017349  0.824890  33.337837  0.0  3.260514  0.706365   \n",
      "2020/1/1 0:20  1.323369  1.175776  33.375069  0.0  3.148183  0.694154   \n",
      "\n",
      "               5 Kyocera_power  \n",
      "Timestamp                       \n",
      "2020/1/1 0:00              0.0  \n",
      "2020/1/1 0:05              0.0  \n",
      "2020/1/1 0:10              0.0  \n",
      "2020/1/1 0:15              0.0  \n",
      "2020/1/1 0:20              0.0  \n",
      "               Year  Month  Day  Hour  Minutes        WTC        WRH  \\\n",
      "Timestamp                                                              \n",
      "2020/1/1 0:00  2020      1    1     0        0  29.685360  21.727171   \n",
      "2020/1/1 0:05  2020      1    1     0        5  29.559967  21.878902   \n",
      "2020/1/1 0:10  2020      1    1     0       10  29.530006  21.859453   \n",
      "2020/1/1 0:15  2020      1    1     0       15  29.474438  21.897285   \n",
      "2020/1/1 0:20  2020      1    1     0       20  29.365288  22.085625   \n",
      "\n",
      "                    GHR       DHR         WD  WDR       RGT       RDT  \\\n",
      "Timestamp                                                               \n",
      "2020/1/1 0:00  1.360221  1.191879  33.216167  0.0  2.958199  0.524153   \n",
      "2020/1/1 0:05  1.532208  1.460944  33.254341  0.0  3.288470  0.764565   \n",
      "2020/1/1 0:10  1.186835  1.118219  33.302616  0.0  3.253541  0.725652   \n",
      "2020/1/1 0:15  1.017349  0.824890  33.337837  0.0  3.260514  0.706365   \n",
      "2020/1/1 0:20  1.323369  1.175776  33.375069  0.0  3.148183  0.694154   \n",
      "\n",
      "               6 Kyocera_power  \n",
      "Timestamp                       \n",
      "2020/1/1 0:00        -0.020000  \n",
      "2020/1/1 0:05        -0.019967  \n",
      "2020/1/1 0:10        -0.019900  \n",
      "2020/1/1 0:15        -0.019933  \n",
      "2020/1/1 0:20        -0.020000  \n",
      "               Year  Month  Day  Hour  Minutes        WTC        WRH  \\\n",
      "Timestamp                                                              \n",
      "2020/1/1 0:00  2020      1    1     0        0  29.685360  21.727171   \n",
      "2020/1/1 0:05  2020      1    1     0        5  29.559967  21.878902   \n",
      "2020/1/1 0:10  2020      1    1     0       10  29.530006  21.859453   \n",
      "2020/1/1 0:15  2020      1    1     0       15  29.474438  21.897285   \n",
      "2020/1/1 0:20  2020      1    1     0       20  29.365288  22.085625   \n",
      "\n",
      "                    GHR       DHR         WD  WDR       RGT       RDT  \\\n",
      "Timestamp                                                               \n",
      "2020/1/1 0:00  1.360221  1.191879  33.216167  0.0  2.958199  0.524153   \n",
      "2020/1/1 0:05  1.532208  1.460944  33.254341  0.0  3.288470  0.764565   \n",
      "2020/1/1 0:10  1.186835  1.118219  33.302616  0.0  3.253541  0.725652   \n",
      "2020/1/1 0:15  1.017349  0.824890  33.337837  0.0  3.260514  0.706365   \n",
      "2020/1/1 0:20  1.323369  1.175776  33.375069  0.0  3.148183  0.694154   \n",
      "\n",
      "               7 First_power  \n",
      "Timestamp                     \n",
      "2020/1/1 0:00          -0.01  \n",
      "2020/1/1 0:05          -0.01  \n",
      "2020/1/1 0:10          -0.01  \n",
      "2020/1/1 0:15          -0.01  \n",
      "2020/1/1 0:20          -0.01  \n",
      "               Year  Month  Day  Hour  Minutes        WTC        WRH  \\\n",
      "Timestamp                                                              \n",
      "2020/1/1 0:00  2020      1    1     0        0  29.685360  21.727171   \n",
      "2020/1/1 0:05  2020      1    1     0        5  29.559967  21.878902   \n",
      "2020/1/1 0:10  2020      1    1     0       10  29.530006  21.859453   \n",
      "2020/1/1 0:15  2020      1    1     0       15  29.474438  21.897285   \n",
      "2020/1/1 0:20  2020      1    1     0       20  29.365288  22.085625   \n",
      "\n",
      "                    GHR       DHR         WD  WDR       RGT       RDT  \\\n",
      "Timestamp                                                               \n",
      "2020/1/1 0:00  1.360221  1.191879  33.216167  0.0  2.958199  0.524153   \n",
      "2020/1/1 0:05  1.532208  1.460944  33.254341  0.0  3.288470  0.764565   \n",
      "2020/1/1 0:10  1.186835  1.118219  33.302616  0.0  3.253541  0.725652   \n",
      "2020/1/1 0:15  1.017349  0.824890  33.337837  0.0  3.260514  0.706365   \n",
      "2020/1/1 0:20  1.323369  1.175776  33.375069  0.0  3.148183  0.694154   \n",
      "\n",
      "               8 Kaneka_power  \n",
      "Timestamp                      \n",
      "2020/1/1 0:00             0.0  \n",
      "2020/1/1 0:05             0.0  \n",
      "2020/1/1 0:10             0.0  \n",
      "2020/1/1 0:15             0.0  \n",
      "2020/1/1 0:20             0.0  \n"
     ]
    }
   ],
   "source": [
    "for tena in testnames:\n",
    "    tena.set_index('Timestamp', inplace=True,drop=True)\n",
    "\n",
    "for tena in testnames:\n",
    "    print(tena.head())"
   ]
  },
  {
   "cell_type": "markdown",
   "metadata": {},
   "source": [
    "# keras模型训练"
   ]
  },
  {
   "cell_type": "markdown",
   "metadata": {},
   "source": [
    "准备数据"
   ]
  },
  {
   "cell_type": "code",
   "execution_count": 28,
   "metadata": {
    "scrolled": false
   },
   "outputs": [],
   "source": [
    "# #去除 WD，WDR 特征\n",
    "# for tena in testnames:\n",
    "#     tena.drop(tena.columns[[0,9,10]],axis=1,inplace=True)\n",
    "\n",
    "# for te in test:\n",
    "#     print(\"查看测试集\\n\",te.head(1))"
   ]
  },
  {
   "cell_type": "code",
   "execution_count": 29,
   "metadata": {},
   "outputs": [
    {
     "name": "stdout",
     "output_type": "stream",
     "text": [
      "               Year  Month  Day  Hour  Minutes        WTC        WRH  \\\n",
      "Timestamp                                                              \n",
      "2020/1/1 0:00  2020      1    1     0        0  29.685360  21.727171   \n",
      "2020/1/1 0:05  2020      1    1     0        5  29.559967  21.878902   \n",
      "2020/1/1 0:10  2020      1    1     0       10  29.530006  21.859453   \n",
      "2020/1/1 0:15  2020      1    1     0       15  29.474438  21.897285   \n",
      "2020/1/1 0:20  2020      1    1     0       20  29.365288  22.085625   \n",
      "\n",
      "                    GHR       DHR         WD  WDR       RGT       RDT  \\\n",
      "Timestamp                                                               \n",
      "2020/1/1 0:00  1.360221  1.191879  33.216167  0.0  2.958199  0.524153   \n",
      "2020/1/1 0:05  1.532208  1.460944  33.254341  0.0  3.288470  0.764565   \n",
      "2020/1/1 0:10  1.186835  1.118219  33.302616  0.0  3.253541  0.725652   \n",
      "2020/1/1 0:15  1.017349  0.824890  33.337837  0.0  3.260514  0.706365   \n",
      "2020/1/1 0:20  1.323369  1.175776  33.375069  0.0  3.148183  0.694154   \n",
      "\n",
      "               1A Trina_power  \n",
      "Timestamp                      \n",
      "2020/1/1 0:00             0.0  \n",
      "2020/1/1 0:05             0.0  \n",
      "2020/1/1 0:10             0.0  \n",
      "2020/1/1 0:15             0.0  \n",
      "2020/1/1 0:20             0.0  \n",
      "               Year  Month  Day  Hour  Minutes        WTC        WRH  \\\n",
      "Timestamp                                                              \n",
      "2020/1/1 0:00  2020      1    1     0        0  29.685360  21.727171   \n",
      "2020/1/1 0:05  2020      1    1     0        5  29.559967  21.878902   \n",
      "2020/1/1 0:10  2020      1    1     0       10  29.530006  21.859453   \n",
      "2020/1/1 0:15  2020      1    1     0       15  29.474438  21.897285   \n",
      "2020/1/1 0:20  2020      1    1     0       20  29.365288  22.085625   \n",
      "\n",
      "                    GHR       DHR         WD  WDR       RGT       RDT  \\\n",
      "Timestamp                                                               \n",
      "2020/1/1 0:00  1.360221  1.191879  33.216167  0.0  2.958199  0.524153   \n",
      "2020/1/1 0:05  1.532208  1.460944  33.254341  0.0  3.288470  0.764565   \n",
      "2020/1/1 0:10  1.186835  1.118219  33.302616  0.0  3.253541  0.725652   \n",
      "2020/1/1 0:15  1.017349  0.824890  33.337837  0.0  3.260514  0.706365   \n",
      "2020/1/1 0:20  1.323369  1.175776  33.375069  0.0  3.148183  0.694154   \n",
      "\n",
      "               1B Trina_power  \n",
      "Timestamp                      \n",
      "2020/1/1 0:00             0.0  \n",
      "2020/1/1 0:05             0.0  \n",
      "2020/1/1 0:10             0.0  \n",
      "2020/1/1 0:15             0.0  \n",
      "2020/1/1 0:20             0.0  \n",
      "               Year  Month  Day  Hour  Minutes        WTC        WRH  \\\n",
      "Timestamp                                                              \n",
      "2020/1/1 0:00  2020      1    1     0        0  29.685360  21.727171   \n",
      "2020/1/1 0:05  2020      1    1     0        5  29.559967  21.878902   \n",
      "2020/1/1 0:10  2020      1    1     0       10  29.530006  21.859453   \n",
      "2020/1/1 0:15  2020      1    1     0       15  29.474438  21.897285   \n",
      "2020/1/1 0:20  2020      1    1     0       20  29.365288  22.085625   \n",
      "\n",
      "                    GHR       DHR         WD  WDR       RGT       RDT  \\\n",
      "Timestamp                                                               \n",
      "2020/1/1 0:00  1.360221  1.191879  33.216167  0.0  2.958199  0.524153   \n",
      "2020/1/1 0:05  1.532208  1.460944  33.254341  0.0  3.288470  0.764565   \n",
      "2020/1/1 0:10  1.186835  1.118219  33.302616  0.0  3.253541  0.725652   \n",
      "2020/1/1 0:15  1.017349  0.824890  33.337837  0.0  3.260514  0.706365   \n",
      "2020/1/1 0:20  1.323369  1.175776  33.375069  0.0  3.148183  0.694154   \n",
      "\n",
      "               2 eco_power  \n",
      "Timestamp                   \n",
      "2020/1/1 0:00     0.008233  \n",
      "2020/1/1 0:05     0.008233  \n",
      "2020/1/1 0:10     0.007900  \n",
      "2020/1/1 0:15     0.008433  \n",
      "2020/1/1 0:20     0.008567  \n",
      "               Year  Month  Day  Hour  Minutes        WTC        WRH  \\\n",
      "Timestamp                                                              \n",
      "2020/1/1 0:00  2020      1    1     0        0  29.685360  21.727171   \n",
      "2020/1/1 0:05  2020      1    1     0        5  29.559967  21.878902   \n",
      "2020/1/1 0:10  2020      1    1     0       10  29.530006  21.859453   \n",
      "2020/1/1 0:15  2020      1    1     0       15  29.474438  21.897285   \n",
      "2020/1/1 0:20  2020      1    1     0       20  29.365288  22.085625   \n",
      "\n",
      "                    GHR       DHR         WD  WDR       RGT       RDT  \\\n",
      "Timestamp                                                               \n",
      "2020/1/1 0:00  1.360221  1.191879  33.216167  0.0  2.958199  0.524153   \n",
      "2020/1/1 0:05  1.532208  1.460944  33.254341  0.0  3.288470  0.764565   \n",
      "2020/1/1 0:10  1.186835  1.118219  33.302616  0.0  3.253541  0.725652   \n",
      "2020/1/1 0:15  1.017349  0.824890  33.337837  0.0  3.260514  0.706365   \n",
      "2020/1/1 0:20  1.323369  1.175776  33.375069  0.0  3.148183  0.694154   \n",
      "\n",
      "               3 BP_power  \n",
      "Timestamp                  \n",
      "2020/1/1 0:00    0.000533  \n",
      "2020/1/1 0:05    0.000400  \n",
      "2020/1/1 0:10    0.000267  \n",
      "2020/1/1 0:15    0.000267  \n",
      "2020/1/1 0:20    0.000267  \n",
      "               Year  Month  Day  Hour  Minutes        WTC        WRH  \\\n",
      "Timestamp                                                              \n",
      "2020/1/1 0:00  2020      1    1     0        0  29.685360  21.727171   \n",
      "2020/1/1 0:05  2020      1    1     0        5  29.559967  21.878902   \n",
      "2020/1/1 0:10  2020      1    1     0       10  29.530006  21.859453   \n",
      "2020/1/1 0:15  2020      1    1     0       15  29.474438  21.897285   \n",
      "2020/1/1 0:20  2020      1    1     0       20  29.365288  22.085625   \n",
      "\n",
      "                    GHR       DHR         WD  WDR       RGT       RDT  \\\n",
      "Timestamp                                                               \n",
      "2020/1/1 0:00  1.360221  1.191879  33.216167  0.0  2.958199  0.524153   \n",
      "2020/1/1 0:05  1.532208  1.460944  33.254341  0.0  3.288470  0.764565   \n",
      "2020/1/1 0:10  1.186835  1.118219  33.302616  0.0  3.253541  0.725652   \n",
      "2020/1/1 0:15  1.017349  0.824890  33.337837  0.0  3.260514  0.706365   \n",
      "2020/1/1 0:20  1.323369  1.175776  33.375069  0.0  3.148183  0.694154   \n",
      "\n",
      "               4 Kyocera_power  \n",
      "Timestamp                       \n",
      "2020/1/1 0:00              0.0  \n",
      "2020/1/1 0:05              0.0  \n",
      "2020/1/1 0:10              0.0  \n",
      "2020/1/1 0:15              0.0  \n",
      "2020/1/1 0:20              0.0  \n",
      "               Year  Month  Day  Hour  Minutes        WTC        WRH  \\\n",
      "Timestamp                                                              \n",
      "2020/1/1 0:00  2020      1    1     0        0  29.685360  21.727171   \n",
      "2020/1/1 0:05  2020      1    1     0        5  29.559967  21.878902   \n",
      "2020/1/1 0:10  2020      1    1     0       10  29.530006  21.859453   \n",
      "2020/1/1 0:15  2020      1    1     0       15  29.474438  21.897285   \n",
      "2020/1/1 0:20  2020      1    1     0       20  29.365288  22.085625   \n",
      "\n",
      "                    GHR       DHR         WD  WDR       RGT       RDT  \\\n",
      "Timestamp                                                               \n",
      "2020/1/1 0:00  1.360221  1.191879  33.216167  0.0  2.958199  0.524153   \n",
      "2020/1/1 0:05  1.532208  1.460944  33.254341  0.0  3.288470  0.764565   \n",
      "2020/1/1 0:10  1.186835  1.118219  33.302616  0.0  3.253541  0.725652   \n",
      "2020/1/1 0:15  1.017349  0.824890  33.337837  0.0  3.260514  0.706365   \n",
      "2020/1/1 0:20  1.323369  1.175776  33.375069  0.0  3.148183  0.694154   \n",
      "\n",
      "               5 Kyocera_power  \n",
      "Timestamp                       \n",
      "2020/1/1 0:00              0.0  \n",
      "2020/1/1 0:05              0.0  \n",
      "2020/1/1 0:10              0.0  \n",
      "2020/1/1 0:15              0.0  \n",
      "2020/1/1 0:20              0.0  \n",
      "               Year  Month  Day  Hour  Minutes        WTC        WRH  \\\n",
      "Timestamp                                                              \n",
      "2020/1/1 0:00  2020      1    1     0        0  29.685360  21.727171   \n",
      "2020/1/1 0:05  2020      1    1     0        5  29.559967  21.878902   \n",
      "2020/1/1 0:10  2020      1    1     0       10  29.530006  21.859453   \n",
      "2020/1/1 0:15  2020      1    1     0       15  29.474438  21.897285   \n",
      "2020/1/1 0:20  2020      1    1     0       20  29.365288  22.085625   \n",
      "\n",
      "                    GHR       DHR         WD  WDR       RGT       RDT  \\\n",
      "Timestamp                                                               \n",
      "2020/1/1 0:00  1.360221  1.191879  33.216167  0.0  2.958199  0.524153   \n",
      "2020/1/1 0:05  1.532208  1.460944  33.254341  0.0  3.288470  0.764565   \n",
      "2020/1/1 0:10  1.186835  1.118219  33.302616  0.0  3.253541  0.725652   \n",
      "2020/1/1 0:15  1.017349  0.824890  33.337837  0.0  3.260514  0.706365   \n",
      "2020/1/1 0:20  1.323369  1.175776  33.375069  0.0  3.148183  0.694154   \n",
      "\n",
      "               6 Kyocera_power  \n",
      "Timestamp                       \n",
      "2020/1/1 0:00        -0.020000  \n",
      "2020/1/1 0:05        -0.019967  \n",
      "2020/1/1 0:10        -0.019900  \n",
      "2020/1/1 0:15        -0.019933  \n",
      "2020/1/1 0:20        -0.020000  \n",
      "               Year  Month  Day  Hour  Minutes        WTC        WRH  \\\n",
      "Timestamp                                                              \n",
      "2020/1/1 0:00  2020      1    1     0        0  29.685360  21.727171   \n",
      "2020/1/1 0:05  2020      1    1     0        5  29.559967  21.878902   \n",
      "2020/1/1 0:10  2020      1    1     0       10  29.530006  21.859453   \n",
      "2020/1/1 0:15  2020      1    1     0       15  29.474438  21.897285   \n",
      "2020/1/1 0:20  2020      1    1     0       20  29.365288  22.085625   \n",
      "\n",
      "                    GHR       DHR         WD  WDR       RGT       RDT  \\\n",
      "Timestamp                                                               \n",
      "2020/1/1 0:00  1.360221  1.191879  33.216167  0.0  2.958199  0.524153   \n",
      "2020/1/1 0:05  1.532208  1.460944  33.254341  0.0  3.288470  0.764565   \n",
      "2020/1/1 0:10  1.186835  1.118219  33.302616  0.0  3.253541  0.725652   \n",
      "2020/1/1 0:15  1.017349  0.824890  33.337837  0.0  3.260514  0.706365   \n",
      "2020/1/1 0:20  1.323369  1.175776  33.375069  0.0  3.148183  0.694154   \n",
      "\n",
      "               7 First_power  \n",
      "Timestamp                     \n",
      "2020/1/1 0:00          -0.01  \n",
      "2020/1/1 0:05          -0.01  \n",
      "2020/1/1 0:10          -0.01  \n",
      "2020/1/1 0:15          -0.01  \n",
      "2020/1/1 0:20          -0.01  \n",
      "               Year  Month  Day  Hour  Minutes        WTC        WRH  \\\n",
      "Timestamp                                                              \n",
      "2020/1/1 0:00  2020      1    1     0        0  29.685360  21.727171   \n",
      "2020/1/1 0:05  2020      1    1     0        5  29.559967  21.878902   \n",
      "2020/1/1 0:10  2020      1    1     0       10  29.530006  21.859453   \n",
      "2020/1/1 0:15  2020      1    1     0       15  29.474438  21.897285   \n",
      "2020/1/1 0:20  2020      1    1     0       20  29.365288  22.085625   \n",
      "\n",
      "                    GHR       DHR         WD  WDR       RGT       RDT  \\\n",
      "Timestamp                                                               \n",
      "2020/1/1 0:00  1.360221  1.191879  33.216167  0.0  2.958199  0.524153   \n",
      "2020/1/1 0:05  1.532208  1.460944  33.254341  0.0  3.288470  0.764565   \n",
      "2020/1/1 0:10  1.186835  1.118219  33.302616  0.0  3.253541  0.725652   \n",
      "2020/1/1 0:15  1.017349  0.824890  33.337837  0.0  3.260514  0.706365   \n",
      "2020/1/1 0:20  1.323369  1.175776  33.375069  0.0  3.148183  0.694154   \n",
      "\n",
      "               8 Kaneka_power  \n",
      "Timestamp                      \n",
      "2020/1/1 0:00             0.0  \n",
      "2020/1/1 0:05             0.0  \n",
      "2020/1/1 0:10             0.0  \n",
      "2020/1/1 0:15             0.0  \n",
      "2020/1/1 0:20             0.0  \n"
     ]
    }
   ],
   "source": [
    "for tena in testnames:\n",
    "    print(tena.head())"
   ]
  },
  {
   "cell_type": "markdown",
   "metadata": {},
   "source": [
    "# 构建序列"
   ]
  },
  {
   "cell_type": "code",
   "execution_count": 30,
   "metadata": {},
   "outputs": [],
   "source": [
    "# convert series to supervised learning\n",
    "def series_to_supervised(data, n_in=1, n_out=1, dropnan=True):\n",
    "#     n_vars = 1 if type(data) is list else data.shape[1]\n",
    "    n_vars = list(data)\n",
    "    df = pd.DataFrame(data)\n",
    "    cols, names = list(), list()\n",
    "    # input sequence (t-n, ... t-1)\n",
    "    for i in range(n_in, 0, -1):\n",
    "        cols.append(df.shift(i))\n",
    "        names += [('%s(t-%d)' % (j, i)) for j in n_vars]\n",
    "    # forecast sequence (t, t+1, ... t+n)\n",
    "    for i in range(0, n_out):\n",
    "        cols.append(df.shift(-i))\n",
    "        if i == 0:\n",
    "            names += [('%s(t)' % (j) )for j in n_vars]\n",
    "        else:\n",
    "            names += [('%s(t+%d)' % (j, i)) for j in n_vars]\n",
    "    # put it all together\n",
    "    agg = pd.concat(cols, axis=1)\n",
    "    agg.columns = names\n",
    "    # drop rows with NaN values\n",
    "    if dropnan:\n",
    "        agg.dropna(inplace=True)\n",
    "    return agg"
   ]
  },
  {
   "cell_type": "code",
   "execution_count": 31,
   "metadata": {},
   "outputs": [],
   "source": [
    "# test=glocals()\n",
    "# test += [('test%d' % (j)) for j in range(len(testnames))]"
   ]
  },
  {
   "cell_type": "code",
   "execution_count": 32,
   "metadata": {},
   "outputs": [],
   "source": [
    "for i in range(0, 9):\n",
    "    exec(\"test%d=series_to_supervised(testnames[i],1,2)\"%i)\n"
   ]
  },
  {
   "cell_type": "code",
   "execution_count": 33,
   "metadata": {
    "scrolled": true
   },
   "outputs": [
    {
     "data": {
      "text/plain": [
       "Index(['Year(t-1)', 'Month(t-1)', 'Day(t-1)', 'Hour(t-1)', 'Minutes(t-1)',\n",
       "       'WTC(t-1)', 'WRH(t-1)', 'GHR(t-1)', 'DHR(t-1)', 'WD(t-1)', 'WDR(t-1)',\n",
       "       'RGT(t-1)', 'RDT(t-1)', '1A Trina_power(t-1)', 'Year(t)', 'Month(t)',\n",
       "       'Day(t)', 'Hour(t)', 'Minutes(t)', 'WTC(t)', 'WRH(t)', 'GHR(t)',\n",
       "       'DHR(t)', 'WD(t)', 'WDR(t)', 'RGT(t)', 'RDT(t)', '1A Trina_power(t)',\n",
       "       'Year(t+1)', 'Month(t+1)', 'Day(t+1)', 'Hour(t+1)', 'Minutes(t+1)',\n",
       "       'WTC(t+1)', 'WRH(t+1)', 'GHR(t+1)', 'DHR(t+1)', 'WD(t+1)', 'WDR(t+1)',\n",
       "       'RGT(t+1)', 'RDT(t+1)', '1A Trina_power(t+1)'],\n",
       "      dtype='object')"
      ]
     },
     "execution_count": 33,
     "metadata": {},
     "output_type": "execute_result"
    }
   ],
   "source": [
    "test0.columns"
   ]
  },
  {
   "cell_type": "code",
   "execution_count": 34,
   "metadata": {
    "scrolled": false
   },
   "outputs": [],
   "source": [
    "# for i in range(0, 9):\n",
    "#     exec(\"test%d=test%d.drop(test%d.columns[[0,14,15,16,17,18,19,20,21,22,23,24,25,26,28,29,30,31,32,33,34,35,36,37,38,39,40]],axis=1,inplace=True)\"%i)"
   ]
  },
  {
   "cell_type": "markdown",
   "metadata": {},
   "source": [
    "# 重新选择"
   ]
  },
  {
   "cell_type": "code",
   "execution_count": 35,
   "metadata": {},
   "outputs": [],
   "source": [
    "test0.drop(test0.columns[[0,14,15,16,17,18,19,20,21,22,23,24,25,26,28,29,30,31,32,33,34,35,36,37,38,39,40]],axis=1,inplace=True)"
   ]
  },
  {
   "cell_type": "code",
   "execution_count": 36,
   "metadata": {},
   "outputs": [],
   "source": [
    "test1.drop(test1.columns[[0,14,15,16,17,18,19,20,21,22,23,24,25,26,28,29,30,31,32,33,34,35,36,37,38,39,40]],axis=1,inplace=True)"
   ]
  },
  {
   "cell_type": "code",
   "execution_count": 37,
   "metadata": {},
   "outputs": [],
   "source": [
    "test2.drop(test2.columns[[0,14,15,16,17,18,19,20,21,22,23,24,25,26,28,29,30,31,32,33,34,35,36,37,38,39,40]],axis=1,inplace=True)"
   ]
  },
  {
   "cell_type": "code",
   "execution_count": 38,
   "metadata": {},
   "outputs": [],
   "source": [
    "test3.drop(test3.columns[[0,14,15,16,17,18,19,20,21,22,23,24,25,26,28,29,30,31,32,33,34,35,36,37,38,39,40]],axis=1,inplace=True)"
   ]
  },
  {
   "cell_type": "code",
   "execution_count": 39,
   "metadata": {},
   "outputs": [],
   "source": [
    "test4.drop(test4.columns[[0,14,15,16,17,18,19,20,21,22,23,24,25,26,28,29,30,31,32,33,34,35,36,37,38,39,40]],axis=1,inplace=True)"
   ]
  },
  {
   "cell_type": "code",
   "execution_count": 40,
   "metadata": {},
   "outputs": [],
   "source": [
    "test5.drop(test5.columns[[0,14,15,16,17,18,19,20,21,22,23,24,25,26,28,29,30,31,32,33,34,35,36,37,38,39,40]],axis=1,inplace=True)"
   ]
  },
  {
   "cell_type": "code",
   "execution_count": 41,
   "metadata": {},
   "outputs": [],
   "source": [
    "test6.drop(test6.columns[[0,14,15,16,17,18,19,20,21,22,23,24,25,26,28,29,30,31,32,33,34,35,36,37,38,39,40]],axis=1,inplace=True)"
   ]
  },
  {
   "cell_type": "code",
   "execution_count": 42,
   "metadata": {},
   "outputs": [],
   "source": [
    "test7.drop(test7.columns[[0,14,15,16,17,18,19,20,21,22,23,24,25,26,28,29,30,31,32,33,34,35,36,37,38,39,40]],axis=1,inplace=True)"
   ]
  },
  {
   "cell_type": "code",
   "execution_count": 43,
   "metadata": {},
   "outputs": [],
   "source": [
    "test8.drop(test8.columns[[0,14,15,16,17,18,19,20,21,22,23,24,25,26,28,29,30,31,32,33,34,35,36,37,38,39,40]],axis=1,inplace=True)"
   ]
  },
  {
   "cell_type": "code",
   "execution_count": 44,
   "metadata": {},
   "outputs": [
    {
     "name": "stdout",
     "output_type": "stream",
     "text": [
      "(26089, 15) (26089, 15) (26089, 15) (26089, 15) (26089, 15) (26089, 15) (26089, 15) (26089, 15) (26089, 15)\n"
     ]
    }
   ],
   "source": [
    "print(test0.shape,test1.shape,test2.shape,test3.shape,test4.shape,test5.shape,test6.shape,test7.shape,test8.shape,)"
   ]
  },
  {
   "cell_type": "code",
   "execution_count": 45,
   "metadata": {},
   "outputs": [
    {
     "data": {
      "text/plain": [
       "Index(['Month(t-1)', 'Day(t-1)', 'Hour(t-1)', 'Minutes(t-1)', 'WTC(t-1)',\n",
       "       'WRH(t-1)', 'GHR(t-1)', 'DHR(t-1)', 'WD(t-1)', 'WDR(t-1)', 'RGT(t-1)',\n",
       "       'RDT(t-1)', '1A Trina_power(t-1)', '1A Trina_power(t)',\n",
       "       '1A Trina_power(t+1)'],\n",
       "      dtype='object')"
      ]
     },
     "execution_count": 45,
     "metadata": {},
     "output_type": "execute_result"
    }
   ],
   "source": [
    "test0.columns"
   ]
  },
  {
   "cell_type": "markdown",
   "metadata": {},
   "source": [
    "# 归一化数据"
   ]
  },
  {
   "cell_type": "code",
   "execution_count": 46,
   "metadata": {},
   "outputs": [],
   "source": [
    "# train1 = train1.values\n",
    "# train1 = train1.astype('float32')     # 将整型变为float\n",
    "# scaler = MinMaxScaler(feature_range=(0, 1)) # 数据处理，归一化至0~1之间\n",
    "# train1 = scaler.fit_transform(train1)\n",
    "\n",
    "# test1 = test1.values\n",
    "# test1 = test1.astype('float32')     # 将整型变为float\n",
    "# scaler = MinMaxScaler(feature_range=(0, 1)) # 数据处理，归一化至0~1之间\n",
    "# test1 = scaler.fit_transform(test1)\n",
    "\n",
    "# inds = np.arange(train1.shape[0])\n",
    "# train1_inds = inds[0:int(train1.shape[0]*0.8)]\n",
    "# eval1_inds = inds[int(train1.shape[0]*0.8):train1.shape[0]]\n",
    "\n",
    "\n",
    "# train_X, train_y = train1[train1_inds,:-1], train1[train1_inds,-1:]\n",
    "# eval_X,eval_y = train1[eval1_inds,:-1], train1[eval1_inds,-1:]\n",
    "# test_X, test_y = test1[:, :-1], test1[:,-1:]\n",
    "\n",
    "# # reshape input to be 3D [samples, timesteps, features]\n",
    "# train_Xl = train_X.reshape((train_X.shape[0], 1, train_X.shape[1]))\n",
    "# eval_Xl = eval_X.reshape((eval_X.shape[0],1,eval_X.shape[1]))\n",
    "# test_Xl = test_X.reshape((test_X.shape[0], 1, test_X.shape[1]))\n",
    "# print(train_X.shape, train_y.shape,eval_X.shape,eval_y.shape, test_X.shape, test_y.shape)\n",
    "# print(train_Xl.shape, train_y.shape,eval_Xl.shape,eval_y.shape, test_Xl.shape, test_y.shape)"
   ]
  },
  {
   "cell_type": "markdown",
   "metadata": {},
   "source": [
    "0"
   ]
  },
  {
   "cell_type": "code",
   "execution_count": 47,
   "metadata": {},
   "outputs": [
    {
     "name": "stdout",
     "output_type": "stream",
     "text": [
      "(26089, 14) (26089, 1)\n",
      "(26089, 1, 14) (26089, 1)\n"
     ]
    }
   ],
   "source": [
    "test0 = test0.values\n",
    "test0 = test0.astype('float32')     # 将整型变为float\n",
    "scaler = MinMaxScaler(feature_range=(0, 1)) # 数据处理，归一化至0~1之间\n",
    "test0 = scaler.fit_transform(test0)\n",
    "\n",
    "test0_X, test0_y = test0[:, :-1], test0[:,-1:]\n",
    "\n",
    "# reshape input to be 3D [samples, timesteps, features]\n",
    "test0_Xl = test0_X.reshape((test0_X.shape[0], 1, test0_X.shape[1]))\n",
    "print(test0_X.shape, test0_y.shape)\n",
    "print(test0_Xl.shape, test0_y.shape)"
   ]
  },
  {
   "cell_type": "markdown",
   "metadata": {},
   "source": [
    "1"
   ]
  },
  {
   "cell_type": "code",
   "execution_count": 48,
   "metadata": {},
   "outputs": [
    {
     "name": "stdout",
     "output_type": "stream",
     "text": [
      "(26089, 14) (26089, 1)\n",
      "(26089, 1, 14) (26089, 1)\n"
     ]
    }
   ],
   "source": [
    "test1 = test1.values\n",
    "test1 = test1.astype('float32')     # 将整型变为float\n",
    "scaler = MinMaxScaler(feature_range=(0, 1)) # 数据处理，归一化至0~1之间\n",
    "test1 = scaler.fit_transform(test1)\n",
    "\n",
    "test1_X, test1_y = test1[:, :-1], test1[:,-1:]\n",
    "\n",
    "# reshape input to be 3D [samples, timesteps, features]\n",
    "test1_Xl = test1_X.reshape((test1_X.shape[0], 1, test1_X.shape[1]))\n",
    "print(test1_X.shape, test1_y.shape)\n",
    "print(test1_Xl.shape, test1_y.shape)"
   ]
  },
  {
   "cell_type": "markdown",
   "metadata": {},
   "source": [
    "2"
   ]
  },
  {
   "cell_type": "code",
   "execution_count": 49,
   "metadata": {},
   "outputs": [
    {
     "name": "stdout",
     "output_type": "stream",
     "text": [
      "(26089, 14) (26089, 1)\n",
      "(26089, 1, 14) (26089, 1)\n"
     ]
    }
   ],
   "source": [
    "test2 = test2.values\n",
    "test2 = test2.astype('float32')     # 将整型变为float\n",
    "scaler = MinMaxScaler(feature_range=(0, 1)) # 数据处理，归一化至0~1之间\n",
    "test2 = scaler.fit_transform(test2)\n",
    "\n",
    "test2_X, test2_y = test2[:, :-1], test2[:,-1:]\n",
    "\n",
    "# reshape input to be 3D [samples, timesteps, features]\n",
    "test2_Xl = test2_X.reshape((test2_X.shape[0], 1, test2_X.shape[1]))\n",
    "print(test2_X.shape, test2_y.shape)\n",
    "print(test2_Xl.shape, test2_y.shape)"
   ]
  },
  {
   "cell_type": "markdown",
   "metadata": {},
   "source": [
    "3"
   ]
  },
  {
   "cell_type": "code",
   "execution_count": 50,
   "metadata": {},
   "outputs": [
    {
     "name": "stdout",
     "output_type": "stream",
     "text": [
      "(26089, 14) (26089, 1)\n",
      "(26089, 1, 14) (26089, 1)\n"
     ]
    }
   ],
   "source": [
    "test3 = test3.values\n",
    "test3 = test3.astype('float32')     # 将整型变为float\n",
    "scaler = MinMaxScaler(feature_range=(0, 1)) # 数据处理，归一化至0~1之间\n",
    "test3 = scaler.fit_transform(test3)\n",
    "\n",
    "test3_X, test3_y = test3[:, :-1], test3[:,-1:]\n",
    "\n",
    "# reshape input to be 3D [samples, timesteps, features]\n",
    "test3_Xl = test3_X.reshape((test3_X.shape[0], 1, test3_X.shape[1]))\n",
    "print(test3_X.shape, test3_y.shape)\n",
    "print(test3_Xl.shape, test3_y.shape)"
   ]
  },
  {
   "cell_type": "markdown",
   "metadata": {},
   "source": [
    "4"
   ]
  },
  {
   "cell_type": "code",
   "execution_count": 51,
   "metadata": {},
   "outputs": [
    {
     "name": "stdout",
     "output_type": "stream",
     "text": [
      "(26089, 14) (26089, 1)\n",
      "(26089, 1, 14) (26089, 1)\n"
     ]
    }
   ],
   "source": [
    "test4 = test4.values\n",
    "test4 = test4.astype('float32')     # 将整型变为float\n",
    "scaler = MinMaxScaler(feature_range=(0, 1)) # 数据处理，归一化至0~1之间\n",
    "test4 = scaler.fit_transform(test4)\n",
    "\n",
    "test4_X, test4_y = test4[:, :-1], test4[:,-1:]\n",
    "\n",
    "# reshape input to be 3D [samples, timesteps, features]\n",
    "test4_Xl = test4_X.reshape((test4_X.shape[0], 1, test4_X.shape[1]))\n",
    "print(test4_X.shape, test4_y.shape)\n",
    "print(test4_Xl.shape, test4_y.shape)"
   ]
  },
  {
   "cell_type": "markdown",
   "metadata": {},
   "source": [
    "5"
   ]
  },
  {
   "cell_type": "code",
   "execution_count": 52,
   "metadata": {},
   "outputs": [
    {
     "name": "stdout",
     "output_type": "stream",
     "text": [
      "(26089, 14) (26089, 1)\n",
      "(26089, 1, 14) (26089, 1)\n"
     ]
    }
   ],
   "source": [
    "test5 = test5.values\n",
    "test5 = test5.astype('float32')     # 将整型变为float\n",
    "scaler = MinMaxScaler(feature_range=(0, 1)) # 数据处理，归一化至0~1之间\n",
    "test5 = scaler.fit_transform(test5)\n",
    "\n",
    "test5_X, test5_y = test5[:, :-1], test5[:,-1:]\n",
    "\n",
    "# reshape input to be 3D [samples, timesteps, features]\n",
    "test5_Xl = test5_X.reshape((test5_X.shape[0], 1, test5_X.shape[1]))\n",
    "print(test5_X.shape, test5_y.shape)\n",
    "print(test5_Xl.shape, test5_y.shape)"
   ]
  },
  {
   "cell_type": "markdown",
   "metadata": {},
   "source": [
    "6"
   ]
  },
  {
   "cell_type": "code",
   "execution_count": 53,
   "metadata": {},
   "outputs": [
    {
     "name": "stdout",
     "output_type": "stream",
     "text": [
      "(26089, 14) (26089, 1)\n",
      "(26089, 1, 14) (26089, 1)\n"
     ]
    }
   ],
   "source": [
    "test6 = test6.values\n",
    "test6 = test6.astype('float32')     # 将整型变为float\n",
    "scaler = MinMaxScaler(feature_range=(0, 1)) # 数据处理，归一化至0~1之间\n",
    "test6 = scaler.fit_transform(test6)\n",
    "\n",
    "test6_X, test6_y = test6[:, :-1], test6[:,-1:]\n",
    "\n",
    "# reshape input to be 3D [samples, timesteps, features]\n",
    "test6_Xl = test6_X.reshape((test6_X.shape[0], 1, test6_X.shape[1]))\n",
    "print(test6_X.shape, test6_y.shape)\n",
    "print(test6_Xl.shape, test6_y.shape)"
   ]
  },
  {
   "cell_type": "markdown",
   "metadata": {},
   "source": [
    "7"
   ]
  },
  {
   "cell_type": "code",
   "execution_count": 54,
   "metadata": {},
   "outputs": [
    {
     "name": "stdout",
     "output_type": "stream",
     "text": [
      "(26089, 14) (26089, 1)\n",
      "(26089, 1, 14) (26089, 1)\n"
     ]
    }
   ],
   "source": [
    "test7 = test7.values\n",
    "test7 = test7.astype('float32')     # 将整型变为float\n",
    "scaler = MinMaxScaler(feature_range=(0, 1)) # 数据处理，归一化至0~1之间\n",
    "test7 = scaler.fit_transform(test7)\n",
    "\n",
    "test7_X, test7_y = test7[:, :-1], test7[:,-1:]\n",
    "\n",
    "# reshape input to be 3D [samples, timesteps, features]\n",
    "test7_Xl = test7_X.reshape((test7_X.shape[0], 1, test7_X.shape[1]))\n",
    "print(test7_X.shape, test7_y.shape)\n",
    "print(test7_Xl.shape, test7_y.shape)"
   ]
  },
  {
   "cell_type": "markdown",
   "metadata": {},
   "source": [
    "8"
   ]
  },
  {
   "cell_type": "code",
   "execution_count": 55,
   "metadata": {},
   "outputs": [
    {
     "name": "stdout",
     "output_type": "stream",
     "text": [
      "(26089, 14) (26089, 1)\n",
      "(26089, 1, 14) (26089, 1)\n"
     ]
    }
   ],
   "source": [
    "test8 = test8.values\n",
    "test8 = test8.astype('float32')     # 将整型变为float\n",
    "scaler = MinMaxScaler(feature_range=(0, 1)) # 数据处理，归一化至0~1之间\n",
    "test8 = scaler.fit_transform(test8)\n",
    "\n",
    "test8_X, test8_y = test8[:, :-1], test8[:,-1:]\n",
    "\n",
    "# reshape input to be 3D [samples, timesteps, features]\n",
    "test8_Xl = test8_X.reshape((test8_X.shape[0], 1, test8_X.shape[1]))\n",
    "print(test8_X.shape, test8_y.shape)\n",
    "print(test8_Xl.shape, test8_y.shape)"
   ]
  },
  {
   "cell_type": "code",
   "execution_count": null,
   "metadata": {},
   "outputs": [],
   "source": []
  },
  {
   "cell_type": "markdown",
   "metadata": {},
   "source": [
    "# SVM model"
   ]
  },
  {
   "cell_type": "code",
   "execution_count": 56,
   "metadata": {},
   "outputs": [],
   "source": [
    "os.chdir(\"../\")"
   ]
  },
  {
   "cell_type": "code",
   "execution_count": 57,
   "metadata": {},
   "outputs": [
    {
     "name": "stdout",
     "output_type": "stream",
     "text": [
      "E:\\Research Project\\DKASC, Alice Springs\\Dataset\n"
     ]
    }
   ],
   "source": [
    "print(os.getcwd()) # 打印当前工作目录"
   ]
  },
  {
   "cell_type": "code",
   "execution_count": 58,
   "metadata": {
    "scrolled": true
   },
   "outputs": [
    {
     "data": {
      "text/plain": [
       "['test',\n",
       " 'testdata.csv',\n",
       " 'test_1A.csv',\n",
       " 'train',\n",
       " 'traindata.csv',\n",
       " 'train_1A.csv',\n",
       " '测试集8个站点.csv',\n",
       " '训练集8个站点.csv']"
      ]
     },
     "execution_count": 58,
     "metadata": {},
     "output_type": "execute_result"
    }
   ],
   "source": [
    "os.listdir()"
   ]
  },
  {
   "cell_type": "code",
   "execution_count": 59,
   "metadata": {},
   "outputs": [],
   "source": [
    "# model=svm.SVR()\n",
    "# model.fit(train_X, train_y)"
   ]
  },
  {
   "cell_type": "code",
   "execution_count": 60,
   "metadata": {},
   "outputs": [],
   "source": [
    "# #模型保存\n",
    "# modelsvm = model\n",
    "# joblib.dump(modelsvm, \"../logs/modelsvm.m\")"
   ]
  },
  {
   "cell_type": "code",
   "execution_count": 61,
   "metadata": {},
   "outputs": [],
   "source": [
    "#模型读取\n",
    "modelsvm = joblib.load(\"../logs/modelsvm.m\")\n",
    "# clf.predit([0,0]) #此处test_X为特征集"
   ]
  },
  {
   "cell_type": "code",
   "execution_count": 62,
   "metadata": {},
   "outputs": [],
   "source": [
    "# testPredictSVM=modelsvm.predict(test_X)\n",
    "# print(testPredictSVM.shape())\n",
    "# testPredictSVM=testPredictSVM[:, np.newaxis]\n",
    "# print(testPredictSVM.shape())"
   ]
  },
  {
   "cell_type": "markdown",
   "metadata": {},
   "source": [
    "# BP model"
   ]
  },
  {
   "cell_type": "code",
   "execution_count": 63,
   "metadata": {},
   "outputs": [
    {
     "name": "stdout",
     "output_type": "stream",
     "text": [
      "E:\\Research Project\\DKASC, Alice Springs\\Dataset\n"
     ]
    }
   ],
   "source": [
    "print(os.getcwd()) # 打印当前工作目录"
   ]
  },
  {
   "cell_type": "code",
   "execution_count": 64,
   "metadata": {},
   "outputs": [],
   "source": [
    "# model=Sequential() #初始化模型\n",
    "# model.add(Dense(10,input_shape = (14,),activation='sigmoid',init='uniform')) #添加一个隐含层，注：只是第一个隐含层需指定input_dim\n",
    "# model.add(Dense(1,activation='sigmoid')) #添加输出层\n",
    "# model.compile(loss='binary_crossentropy', optimizer='sgd', metrics=['mae'])  # 编译，指定目标函数与优化方法\n",
    "# # model4.fit(train_X,train_y ) # 模型训练\n",
    "# history=model.fit(x = train_X,y = train_y, validation_data = (eval_X,eval_y), epochs=50, batch_size=1000)\n",
    "# model.evaluate(test_X,test_y) #模型测试"
   ]
  },
  {
   "cell_type": "code",
   "execution_count": 65,
   "metadata": {},
   "outputs": [],
   "source": [
    "# #模型保存\n",
    "# modelbp = model\n",
    "# modelbp.save('../logs/modelbp.h5')  "
   ]
  },
  {
   "cell_type": "code",
   "execution_count": 66,
   "metadata": {},
   "outputs": [],
   "source": [
    "#模型加载\n",
    "from keras.models import load_model\n",
    "modelbp = load_model('../logs/modelbp.h5') "
   ]
  },
  {
   "cell_type": "markdown",
   "metadata": {},
   "source": [
    "# DNN model"
   ]
  },
  {
   "cell_type": "code",
   "execution_count": 67,
   "metadata": {
    "scrolled": false
   },
   "outputs": [],
   "source": [
    "# model = Sequential()\n",
    "# model.add(Dense(units=64, input_shape = (14,),activation='sigmoid',name='layer1',use_bias = True))\n",
    "# model.add(Dense(units=32,activation='sigmoid',name='layer2',use_bias = True))\n",
    "# model.add(Dense(units=16,name='layer3',activation='sigmoid',use_bias = True))\n",
    "# model.add(Dense(units=8,name='layer4',activation='sigmoid',use_bias = True))\n",
    "# model.add(Dense(units=1,name='layer5'))\n",
    "# model.compile(loss='mean_absolute_error',\n",
    "#               optimizer='rmsprop',\n",
    "#               metrics=['mae'])\n",
    "# history=model.fit(x = train_X,y = train_y, validation_data = (eval_X,eval_y), epochs=50, batch_size=1000)\n",
    "# ############################################################################################################"
   ]
  },
  {
   "cell_type": "code",
   "execution_count": 68,
   "metadata": {
    "scrolled": true
   },
   "outputs": [],
   "source": [
    "# ########################################################################\n",
    "# # 绘制训练 & 验证的损失值\n",
    "# plt.plot(history.history['loss'])\n",
    "# plt.plot(history.history['val_loss'])\n",
    "# plt.title('DNN loss')\n",
    "# plt.ylabel('Loss')\n",
    "# plt.xlabel('Epoch')\n",
    "# plt.legend(['Train', 'Test'], loc='upper left')\n",
    "# plt.show()"
   ]
  },
  {
   "cell_type": "code",
   "execution_count": 69,
   "metadata": {},
   "outputs": [],
   "source": [
    "# #模型保存\n",
    "# modeldnn = model\n",
    "# modeldnn.save('../logs/modeldnn.h5')  "
   ]
  },
  {
   "cell_type": "code",
   "execution_count": 70,
   "metadata": {},
   "outputs": [],
   "source": [
    "#模型加载\n",
    "modeldnn = load_model('../logs/modeldnn.h5') "
   ]
  },
  {
   "cell_type": "markdown",
   "metadata": {},
   "source": [
    "# LSTM model"
   ]
  },
  {
   "cell_type": "code",
   "execution_count": 71,
   "metadata": {},
   "outputs": [],
   "source": [
    "# # design network\n",
    "# model = Sequential()\n",
    "# model.add(LSTM(50, input_shape=(train_Xl.shape[1], train_Xl.shape[2])))\n",
    "# model.add(Dense(1))\n",
    "# model.compile(loss='mae', optimizer='adam')\n",
    "# # fit network\n",
    "# history = model.fit(train_Xl, train_y, epochs=50, batch_size=72, validation_data=(eval_Xl, eval_y), verbose=2, shuffle=False)\n"
   ]
  },
  {
   "cell_type": "code",
   "execution_count": 72,
   "metadata": {},
   "outputs": [],
   "source": [
    "# # plot history\n",
    "# plt.plot(history.history['loss'], label='train')\n",
    "# plt.plot(history.history['val_loss'], label='eval')\n",
    "# plt.legend()\n",
    "# plt.show()"
   ]
  },
  {
   "cell_type": "code",
   "execution_count": 73,
   "metadata": {},
   "outputs": [],
   "source": [
    "# #模型保存\n",
    "# modellstm = model\n",
    "# modellstm.save('../logs/modellstm.h5')  \n"
   ]
  },
  {
   "cell_type": "code",
   "execution_count": 74,
   "metadata": {},
   "outputs": [],
   "source": [
    "#模型加载\n",
    "modellstm = load_model('../logs/modellstm.h5') "
   ]
  },
  {
   "cell_type": "code",
   "execution_count": 75,
   "metadata": {},
   "outputs": [],
   "source": [
    "# # make a prediction\n",
    "# testPredictls1 = model1.predict(test_X)\n",
    "# testPredictls2 = model2.predict(test_X)\n"
   ]
  },
  {
   "cell_type": "markdown",
   "metadata": {},
   "source": [
    "# 结果对比"
   ]
  },
  {
   "cell_type": "markdown",
   "metadata": {},
   "source": [
    "反归一化"
   ]
  },
  {
   "cell_type": "code",
   "execution_count": 76,
   "metadata": {},
   "outputs": [],
   "source": [
    "def inv(testPredictML,test_X,test_y):\n",
    "    # invert scaling for forecast\n",
    "    inv_testPredictML = concatenate((test_X[:,:],testPredictML), axis=1)\n",
    "    inv_testPredictML = scaler.inverse_transform(inv_testPredictML)\n",
    "    testPredictML = inv_testPredictML[:,-1:]\n",
    "    # invert scaling for actual\n",
    "    test_y = test_y.reshape((len(test_y), 1))\n",
    "    inv_test = concatenate((test_X[:,:],test_y), axis=1)\n",
    "    inv_test = scaler.inverse_transform(inv_test)\n",
    "    testReal = inv_test[:,-1:]\n",
    "    return testPredictML,testReal,inv_test"
   ]
  },
  {
   "cell_type": "code",
   "execution_count": 77,
   "metadata": {},
   "outputs": [],
   "source": [
    "# #反归一化##\n",
    "# def inv00(pred,A_year,A_X,A_y):\n",
    "#     ######训练集#######\n",
    "#     inv_pred = concatenate((A_year[:,:],A_X[:,:],pred), axis=1)\n",
    "#     inv_pred = scaler.inverse_transform(inv_pred)\n",
    "#     pred = inv_pred[:,-1:]\n",
    "#     ###### 训练集真实值######\n",
    "#     A_y = A_y.reshape((len(A_y), 1))\n",
    "#     inv_A = concatenate((A_year[:,:],A_X[:,:],A_y), axis=1)\n",
    "#     inv_A = scaler.inverse_transform(inv_A)\n",
    "#     AReal = inv_A[:,-1:]\n",
    "#     return pred,AReal,inv_A   "
   ]
  },
  {
   "cell_type": "code",
   "execution_count": 78,
   "metadata": {},
   "outputs": [],
   "source": [
    "def mape(y_true, y_pred):\n",
    "    return np.mean(np.abs((y_pred - y_true) / y_true)) * 100\n",
    "\n",
    "def smape(y_true, y_pred):\n",
    "    return 2.0 * np.mean(np.abs(y_pred - y_true) / (np.abs(y_pred) + np.abs(y_true))) * 100"
   ]
  },
  {
   "cell_type": "markdown",
   "metadata": {},
   "source": [
    "# 0"
   ]
  },
  {
   "cell_type": "markdown",
   "metadata": {},
   "source": [
    "svm"
   ]
  },
  {
   "cell_type": "code",
   "execution_count": 79,
   "metadata": {},
   "outputs": [],
   "source": [
    "test_X,test_Xl,test_y= test0_X,test0_Xl,test0_y"
   ]
  },
  {
   "cell_type": "code",
   "execution_count": 80,
   "metadata": {},
   "outputs": [],
   "source": [
    "svm_pred = modelsvm.predict(test_X)\n",
    "svm_pred = svm_pred[:, np.newaxis]\n",
    "svm_pred,y_true,inv_test=inv(svm_pred,test_X,test_y)"
   ]
  },
  {
   "cell_type": "code",
   "execution_count": 81,
   "metadata": {},
   "outputs": [],
   "source": [
    "svm_mse = metrics.mean_squared_error(y_true, svm_pred)\n",
    "# svm_rmse = math.sqrt(mean_squared_error(y_true[:,0], svm_pred[:,0]))\n",
    "svm_rmse = math.sqrt(mean_squared_error(y_true, svm_pred))\n",
    "svm_mae = metrics.mean_absolute_error(y_true, svm_pred)\n",
    "svm_mape = mape(y_true, svm_pred)\n",
    "svm_smape = smape(y_true, svm_pred)"
   ]
  },
  {
   "cell_type": "code",
   "execution_count": 82,
   "metadata": {
    "scrolled": false
   },
   "outputs": [
    {
     "name": "stdout",
     "output_type": "stream",
     "text": [
      "0.283062692583935 0.5320363639676662 0.45674793981658574 13179.062882636763 114.62833993107759\n"
     ]
    }
   ],
   "source": [
    "print(svm_mse,svm_rmse,svm_mae,svm_mape,svm_smape)"
   ]
  },
  {
   "cell_type": "markdown",
   "metadata": {},
   "source": [
    "bp"
   ]
  },
  {
   "cell_type": "code",
   "execution_count": 83,
   "metadata": {},
   "outputs": [],
   "source": [
    "bp_pred = modelbp.predict(test_X)\n",
    "bp_pred,y_true,inv_test=inv(bp_pred,test_X,test_y)\n",
    "\n",
    "bp_mse = metrics.mean_squared_error(y_true, bp_pred)\n",
    "bp_rmse = math.sqrt(mean_squared_error(y_true[:,0], bp_pred[:,0]))\n",
    "bp_mae = metrics.mean_absolute_error(y_true, bp_pred)\n",
    "bp_mape = mape(y_true, bp_pred)\n",
    "bp_smape = smape(y_true, bp_pred)"
   ]
  },
  {
   "cell_type": "code",
   "execution_count": 84,
   "metadata": {},
   "outputs": [
    {
     "name": "stdout",
     "output_type": "stream",
     "text": [
      "0.08705469 0.29505032148561866 0.11989173 212.3013973236084 48.36644530296326\n"
     ]
    }
   ],
   "source": [
    "print(bp_mse,bp_rmse,bp_mae,bp_mape,bp_smape)"
   ]
  },
  {
   "cell_type": "markdown",
   "metadata": {},
   "source": [
    "dnn"
   ]
  },
  {
   "cell_type": "code",
   "execution_count": 85,
   "metadata": {},
   "outputs": [],
   "source": [
    "dnn_pred = modeldnn.predict(test_X)\n",
    "# dnn_pred,y_true,inv_test=inv(dnn_pred,test_year,test_X,test_y)\n",
    "dnn_pred,y_true,inv_test=inv(dnn_pred,test_X,test_y)\n",
    "\n",
    "dnn_mse = metrics.mean_squared_error(y_true, dnn_pred)\n",
    "dnn_rmse = math.sqrt(mean_squared_error(y_true[:,0], dnn_pred[:,0]))\n",
    "dnn_mae = metrics.mean_absolute_error(y_true, dnn_pred)\n",
    "dnn_mape = mape(y_true, dnn_pred)\n",
    "dnn_smape = smape(y_true, dnn_pred)"
   ]
  },
  {
   "cell_type": "code",
   "execution_count": 86,
   "metadata": {
    "scrolled": false
   },
   "outputs": [
    {
     "name": "stdout",
     "output_type": "stream",
     "text": [
      "0.0752371 0.27429382568072536 0.09987809 70.43060064315796 30.062595009803772\n"
     ]
    }
   ],
   "source": [
    "print(dnn_mse,dnn_rmse,dnn_mae,dnn_mape,dnn_smape)"
   ]
  },
  {
   "cell_type": "markdown",
   "metadata": {},
   "source": [
    "LSTM\n"
   ]
  },
  {
   "cell_type": "code",
   "execution_count": 87,
   "metadata": {},
   "outputs": [],
   "source": [
    "# make a prediction\n",
    "lstm_pred = modellstm.predict(test_Xl)\n",
    "# test_X = test_X.reshape((test_X.shape[0], test_X.shape[2]))\n",
    "lstm_pred,y_true,inv_test=inv(lstm_pred,test_X,test_y)\n",
    "lstm_mse = metrics.mean_squared_error(y_true, lstm_pred)\n",
    "lstm_rmse = math.sqrt(mean_squared_error(y_true[:,0], lstm_pred[:,0]))\n",
    "lstm_mae = metrics.mean_absolute_error(y_true, lstm_pred)\n",
    "lstm_mape = mape(y_true, lstm_pred)\n",
    "lstm_smape = smape(y_true, lstm_pred)\n"
   ]
  },
  {
   "cell_type": "code",
   "execution_count": 88,
   "metadata": {},
   "outputs": [
    {
     "name": "stdout",
     "output_type": "stream",
     "text": [
      "0.066548035 0.2579690573475033 0.08971202 456.3884735107422 77.67563462257385\n"
     ]
    }
   ],
   "source": [
    "print(lstm_mse,lstm_rmse,lstm_mae,lstm_mape,lstm_smape)"
   ]
  },
  {
   "cell_type": "code",
   "execution_count": 89,
   "metadata": {},
   "outputs": [],
   "source": [
    "svm0_mse,svm0_rmse,svm0_mae,svm0_mape,svm0_smape = svm_mse,svm_rmse,svm_mae,svm_mape,svm_smape"
   ]
  },
  {
   "cell_type": "code",
   "execution_count": 90,
   "metadata": {},
   "outputs": [],
   "source": [
    "bp0_mse,bp0_rmse,bp0_mae,bp0_mape,bp0_smape = bp_mse,bp_rmse,bp_mae,bp_mape,bp_smape"
   ]
  },
  {
   "cell_type": "code",
   "execution_count": 91,
   "metadata": {},
   "outputs": [],
   "source": [
    "dnn0_mse,dnn0_rmse,dnn0_mae,dnn0_mape,dnn0_smape = dnn_mse,dnn_rmse,dnn_mae,dnn_mape,dnn_smape"
   ]
  },
  {
   "cell_type": "code",
   "execution_count": 92,
   "metadata": {},
   "outputs": [],
   "source": [
    "lstm0_mse,lstm0_rmse,lstm0_mae,lstm0_mape,lstm0_smape = lstm_mse,lstm_rmse,lstm_mae,lstm_mape,lstm_smape"
   ]
  },
  {
   "cell_type": "markdown",
   "metadata": {},
   "source": [
    "# 1"
   ]
  },
  {
   "cell_type": "markdown",
   "metadata": {},
   "source": [
    "svm"
   ]
  },
  {
   "cell_type": "code",
   "execution_count": 93,
   "metadata": {},
   "outputs": [],
   "source": [
    "test_X,test_Xl,test_y= test1_X,test1_Xl,test1_y"
   ]
  },
  {
   "cell_type": "code",
   "execution_count": 94,
   "metadata": {},
   "outputs": [],
   "source": [
    "svm_pred = modelsvm.predict(test_X)\n",
    "svm_pred = svm_pred[:, np.newaxis]\n",
    "svm_pred,y_true,inv_test=inv(svm_pred,test_X,test_y)"
   ]
  },
  {
   "cell_type": "code",
   "execution_count": 95,
   "metadata": {},
   "outputs": [],
   "source": [
    "svm_mse = metrics.mean_squared_error(y_true, svm_pred)\n",
    "# svm_rmse = math.sqrt(mean_squared_error(y_true[:,0], svm_pred[:,0]))\n",
    "svm_rmse = math.sqrt(mean_squared_error(y_true, svm_pred))\n",
    "svm_mae = metrics.mean_absolute_error(y_true, svm_pred)\n",
    "svm_mape = mape(y_true, svm_pred)\n",
    "svm_smape = smape(y_true, svm_pred)"
   ]
  },
  {
   "cell_type": "code",
   "execution_count": 96,
   "metadata": {
    "scrolled": false
   },
   "outputs": [
    {
     "name": "stdout",
     "output_type": "stream",
     "text": [
      "0.24598587471931155 0.4959696308437761 0.42929529598136573 3981.3002007231894 116.19830797774739\n"
     ]
    }
   ],
   "source": [
    "print(svm_mse,svm_rmse,svm_mae,svm_mape,svm_smape)"
   ]
  },
  {
   "cell_type": "markdown",
   "metadata": {},
   "source": [
    "bp"
   ]
  },
  {
   "cell_type": "code",
   "execution_count": 97,
   "metadata": {},
   "outputs": [],
   "source": [
    "bp_pred = modelbp.predict(test_X)\n",
    "bp_pred,y_true,inv_test=inv(bp_pred,test_X,test_y)\n",
    "\n",
    "bp_mse = metrics.mean_squared_error(y_true, bp_pred)\n",
    "bp_rmse = math.sqrt(mean_squared_error(y_true[:,0], bp_pred[:,0]))\n",
    "bp_mae = metrics.mean_absolute_error(y_true, bp_pred)\n",
    "bp_mape = mape(y_true, bp_pred)\n",
    "bp_smape = smape(y_true, bp_pred)"
   ]
  },
  {
   "cell_type": "code",
   "execution_count": 98,
   "metadata": {},
   "outputs": [
    {
     "name": "stdout",
     "output_type": "stream",
     "text": [
      "0.06739501 0.259605487423585 0.112758234 105.2477240562439 109.95709896087646\n"
     ]
    }
   ],
   "source": [
    "print(bp_mse,bp_rmse,bp_mae,bp_mape,bp_smape)"
   ]
  },
  {
   "cell_type": "markdown",
   "metadata": {},
   "source": [
    "dnn"
   ]
  },
  {
   "cell_type": "code",
   "execution_count": 99,
   "metadata": {},
   "outputs": [],
   "source": [
    "dnn_pred = modeldnn.predict(test_X)\n",
    "# dnn_pred,y_true,inv_test=inv(dnn_pred,test_year,test_X,test_y)\n",
    "dnn_pred,y_true,inv_test=inv(dnn_pred,test_X,test_y)\n",
    "\n",
    "dnn_mse = metrics.mean_squared_error(y_true, dnn_pred)\n",
    "dnn_rmse = math.sqrt(mean_squared_error(y_true[:,0], dnn_pred[:,0]))\n",
    "dnn_mae = metrics.mean_absolute_error(y_true, dnn_pred)\n",
    "dnn_mape = mape(y_true, dnn_pred)\n",
    "dnn_smape = smape(y_true, dnn_pred)"
   ]
  },
  {
   "cell_type": "code",
   "execution_count": 100,
   "metadata": {
    "scrolled": false
   },
   "outputs": [
    {
     "name": "stdout",
     "output_type": "stream",
     "text": [
      "0.054563865 0.23358909449196177 0.08611276 87.36118674278259 109.87246036529541\n"
     ]
    }
   ],
   "source": [
    "print(dnn_mse,dnn_rmse,dnn_mae,dnn_mape,dnn_smape)"
   ]
  },
  {
   "cell_type": "markdown",
   "metadata": {},
   "source": [
    "LSTM\n"
   ]
  },
  {
   "cell_type": "code",
   "execution_count": 101,
   "metadata": {},
   "outputs": [],
   "source": [
    "# make a prediction\n",
    "lstm_pred = modellstm.predict(test_Xl)\n",
    "# test_X = test_X.reshape((test_X.shape[0], test_X.shape[2]))\n",
    "lstm_pred,y_true,inv_test=inv(lstm_pred,test_X,test_y)\n",
    "lstm_mse = metrics.mean_squared_error(y_true, lstm_pred)\n",
    "lstm_rmse = math.sqrt(mean_squared_error(y_true[:,0], lstm_pred[:,0]))\n",
    "lstm_mae = metrics.mean_absolute_error(y_true, lstm_pred)\n",
    "lstm_mape = mape(y_true, lstm_pred)\n",
    "lstm_smape = smape(y_true, lstm_pred)\n"
   ]
  },
  {
   "cell_type": "code",
   "execution_count": 102,
   "metadata": {},
   "outputs": [
    {
     "name": "stdout",
     "output_type": "stream",
     "text": [
      "0.051232465 0.22634589594585167 0.086905584 125.72638988494873 71.05169892311096\n"
     ]
    }
   ],
   "source": [
    "print(lstm_mse,lstm_rmse,lstm_mae,lstm_mape,lstm_smape)"
   ]
  },
  {
   "cell_type": "code",
   "execution_count": 103,
   "metadata": {},
   "outputs": [],
   "source": [
    "svm1_mse,svm1_rmse,svm1_mae,svm1_mape,svm1_smape = svm_mse,svm_rmse,svm_mae,svm_mape,svm_smape"
   ]
  },
  {
   "cell_type": "code",
   "execution_count": 104,
   "metadata": {},
   "outputs": [],
   "source": [
    "bp1_mse,bp1_rmse,bp1_mae,bp1_mape,bp1_smape = bp_mse,bp_rmse,bp_mae,bp_mape,bp_smape"
   ]
  },
  {
   "cell_type": "code",
   "execution_count": 105,
   "metadata": {},
   "outputs": [],
   "source": [
    "dnn1_mse,dnn1_rmse,dnn1_mae,dnn1_mape,dnn1_smape = dnn_mse,dnn_rmse,dnn_mae,dnn_mape,dnn_smape"
   ]
  },
  {
   "cell_type": "code",
   "execution_count": 106,
   "metadata": {},
   "outputs": [],
   "source": [
    "lstm1_mse,lstm1_rmse,lstm1_mae,lstm1_mape,lstm1_smape = lstm_mse,lstm_rmse,lstm_mae,lstm_mape,lstm_smape"
   ]
  },
  {
   "cell_type": "markdown",
   "metadata": {},
   "source": [
    "# 2"
   ]
  },
  {
   "cell_type": "markdown",
   "metadata": {},
   "source": [
    "svm"
   ]
  },
  {
   "cell_type": "code",
   "execution_count": 107,
   "metadata": {},
   "outputs": [],
   "source": [
    "test_X,test_Xl,test_y= test2_X,test2_Xl,test2_y"
   ]
  },
  {
   "cell_type": "code",
   "execution_count": 108,
   "metadata": {},
   "outputs": [],
   "source": [
    "svm_pred = modelsvm.predict(test_X)\n",
    "svm_pred = svm_pred[:, np.newaxis]\n",
    "svm_pred,y_true,inv_test=inv(svm_pred,test_X,test_y)"
   ]
  },
  {
   "cell_type": "code",
   "execution_count": 109,
   "metadata": {},
   "outputs": [],
   "source": [
    "svm_mse = metrics.mean_squared_error(y_true, svm_pred)\n",
    "# svm_rmse = math.sqrt(mean_squared_error(y_true[:,0], svm_pred[:,0]))\n",
    "svm_rmse = math.sqrt(mean_squared_error(y_true, svm_pred))\n",
    "svm_mae = metrics.mean_absolute_error(y_true, svm_pred)\n",
    "svm_mape = mape(y_true, svm_pred)\n",
    "svm_smape = smape(y_true, svm_pred)"
   ]
  },
  {
   "cell_type": "code",
   "execution_count": 110,
   "metadata": {
    "scrolled": false
   },
   "outputs": [
    {
     "name": "stdout",
     "output_type": "stream",
     "text": [
      "0.2446373887062841 0.4946083184766347 0.4236885281740974 2374.2425646035285 115.35335738269852\n"
     ]
    }
   ],
   "source": [
    "print(svm_mse,svm_rmse,svm_mae,svm_mape,svm_smape)"
   ]
  },
  {
   "cell_type": "markdown",
   "metadata": {},
   "source": [
    "bp"
   ]
  },
  {
   "cell_type": "code",
   "execution_count": 111,
   "metadata": {},
   "outputs": [],
   "source": [
    "bp_pred = modelbp.predict(test_X)\n",
    "bp_pred,y_true,inv_test=inv(bp_pred,test_X,test_y)\n",
    "\n",
    "bp_mse = metrics.mean_squared_error(y_true, bp_pred)\n",
    "bp_rmse = math.sqrt(mean_squared_error(y_true[:,0], bp_pred[:,0]))\n",
    "bp_mae = metrics.mean_absolute_error(y_true, bp_pred)\n",
    "bp_mape = mape(y_true, bp_pred)\n",
    "bp_smape = smape(y_true, bp_pred)"
   ]
  },
  {
   "cell_type": "code",
   "execution_count": 112,
   "metadata": {},
   "outputs": [
    {
     "name": "stdout",
     "output_type": "stream",
     "text": [
      "0.06640962 0.2577006357431619 0.10958489 92.73913502693176 109.61601734161377\n"
     ]
    }
   ],
   "source": [
    "print(bp_mse,bp_rmse,bp_mae,bp_mape,bp_smape)"
   ]
  },
  {
   "cell_type": "markdown",
   "metadata": {},
   "source": [
    "dnn"
   ]
  },
  {
   "cell_type": "code",
   "execution_count": 113,
   "metadata": {},
   "outputs": [],
   "source": [
    "dnn_pred = modeldnn.predict(test_X)\n",
    "# dnn_pred,y_true,inv_test=inv(dnn_pred,test_year,test_X,test_y)\n",
    "dnn_pred,y_true,inv_test=inv(dnn_pred,test_X,test_y)\n",
    "\n",
    "dnn_mse = metrics.mean_squared_error(y_true, dnn_pred)\n",
    "dnn_rmse = math.sqrt(mean_squared_error(y_true[:,0], dnn_pred[:,0]))\n",
    "dnn_mae = metrics.mean_absolute_error(y_true, dnn_pred)\n",
    "dnn_mape = mape(y_true, dnn_pred)\n",
    "dnn_smape = smape(y_true, dnn_pred)"
   ]
  },
  {
   "cell_type": "code",
   "execution_count": 114,
   "metadata": {
    "scrolled": false
   },
   "outputs": [
    {
     "name": "stdout",
     "output_type": "stream",
     "text": [
      "0.05715826 0.23907794029887383 0.085966766 76.0882318019867 109.82198715209961\n"
     ]
    }
   ],
   "source": [
    "print(dnn_mse,dnn_rmse,dnn_mae,dnn_mape,dnn_smape)"
   ]
  },
  {
   "cell_type": "markdown",
   "metadata": {},
   "source": [
    "LSTM\n"
   ]
  },
  {
   "cell_type": "code",
   "execution_count": 115,
   "metadata": {},
   "outputs": [],
   "source": [
    "# make a prediction\n",
    "lstm_pred = modellstm.predict(test_Xl)\n",
    "# test_X = test_X.reshape((test_X.shape[0], test_X.shape[2]))\n",
    "lstm_pred,y_true,inv_test=inv(lstm_pred,test_X,test_y)\n",
    "lstm_mse = metrics.mean_squared_error(y_true, lstm_pred)\n",
    "lstm_rmse = math.sqrt(mean_squared_error(y_true[:,0], lstm_pred[:,0]))\n",
    "lstm_mae = metrics.mean_absolute_error(y_true, lstm_pred)\n",
    "lstm_mape = mape(y_true, lstm_pred)\n",
    "lstm_smape = smape(y_true, lstm_pred)\n"
   ]
  },
  {
   "cell_type": "code",
   "execution_count": 116,
   "metadata": {},
   "outputs": [
    {
     "name": "stdout",
     "output_type": "stream",
     "text": [
      "0.053149328 0.23054137944361544 0.07921443 84.91010665893555 59.718555212020874\n"
     ]
    }
   ],
   "source": [
    "print(lstm_mse,lstm_rmse,lstm_mae,lstm_mape,lstm_smape)"
   ]
  },
  {
   "cell_type": "code",
   "execution_count": 117,
   "metadata": {},
   "outputs": [],
   "source": [
    "svm2_mse,svm2_rmse,svm2_mae,svm2_mape,svm2_smape = svm_mse,svm_rmse,svm_mae,svm_mape,svm_smape"
   ]
  },
  {
   "cell_type": "code",
   "execution_count": 118,
   "metadata": {},
   "outputs": [],
   "source": [
    "bp2_mse,bp2_rmse,bp2_mae,bp2_mape,bp2_smape = bp_mse,bp_rmse,bp_mae,bp_mape,bp_smape"
   ]
  },
  {
   "cell_type": "code",
   "execution_count": 119,
   "metadata": {},
   "outputs": [],
   "source": [
    "dnn2_mse,dnn2_rmse,dnn2_mae,dnn2_mape,dnn2_smape = dnn_mse,dnn_rmse,dnn_mae,dnn_mape,dnn_smape"
   ]
  },
  {
   "cell_type": "code",
   "execution_count": 120,
   "metadata": {},
   "outputs": [],
   "source": [
    "lstm2_mse,lstm2_rmse,lstm2_mae,lstm2_mape,lstm2_smape = lstm_mse,lstm_rmse,lstm_mae,lstm_mape,lstm_smape"
   ]
  },
  {
   "cell_type": "markdown",
   "metadata": {},
   "source": [
    "# 3"
   ]
  },
  {
   "cell_type": "markdown",
   "metadata": {},
   "source": [
    "svm"
   ]
  },
  {
   "cell_type": "code",
   "execution_count": 121,
   "metadata": {},
   "outputs": [],
   "source": [
    "test_X,test_Xl,test_y= test3_X,test3_Xl,test3_y"
   ]
  },
  {
   "cell_type": "code",
   "execution_count": 122,
   "metadata": {},
   "outputs": [],
   "source": [
    "svm_pred = modelsvm.predict(test_X)\n",
    "svm_pred = svm_pred[:, np.newaxis]\n",
    "svm_pred,y_true,inv_test=inv(svm_pred,test_X,test_y)"
   ]
  },
  {
   "cell_type": "code",
   "execution_count": 123,
   "metadata": {},
   "outputs": [],
   "source": [
    "svm_mse = metrics.mean_squared_error(y_true, svm_pred)\n",
    "# svm_rmse = math.sqrt(mean_squared_error(y_true[:,0], svm_pred[:,0]))\n",
    "svm_rmse = math.sqrt(mean_squared_error(y_true, svm_pred))\n",
    "svm_mae = metrics.mean_absolute_error(y_true, svm_pred)\n",
    "svm_mape = mape(y_true, svm_pred)\n",
    "svm_smape = smape(y_true, svm_pred)"
   ]
  },
  {
   "cell_type": "code",
   "execution_count": 124,
   "metadata": {
    "scrolled": false
   },
   "outputs": [
    {
     "name": "stdout",
     "output_type": "stream",
     "text": [
      "0.26291727908187384 0.5127545992791034 0.4456541125721118 16599.112265710988 121.2580631510233\n"
     ]
    }
   ],
   "source": [
    "print(svm_mse,svm_rmse,svm_mae,svm_mape,svm_smape)"
   ]
  },
  {
   "cell_type": "markdown",
   "metadata": {},
   "source": [
    "bp"
   ]
  },
  {
   "cell_type": "code",
   "execution_count": 125,
   "metadata": {},
   "outputs": [],
   "source": [
    "bp_pred = modelbp.predict(test_X)\n",
    "bp_pred,y_true,inv_test=inv(bp_pred,test_X,test_y)\n",
    "\n",
    "bp_mse = metrics.mean_squared_error(y_true, bp_pred)\n",
    "bp_rmse = math.sqrt(mean_squared_error(y_true[:,0], bp_pred[:,0]))\n",
    "bp_mae = metrics.mean_absolute_error(y_true, bp_pred)\n",
    "bp_mape = mape(y_true, bp_pred)\n",
    "bp_smape = smape(y_true, bp_pred)"
   ]
  },
  {
   "cell_type": "code",
   "execution_count": 126,
   "metadata": {},
   "outputs": [
    {
     "name": "stdout",
     "output_type": "stream",
     "text": [
      "0.06435457 0.2536820228551166 0.09555188 251.61573886871338 111.36443614959717\n"
     ]
    }
   ],
   "source": [
    "print(bp_mse,bp_rmse,bp_mae,bp_mape,bp_smape)"
   ]
  },
  {
   "cell_type": "markdown",
   "metadata": {},
   "source": [
    "dnn"
   ]
  },
  {
   "cell_type": "code",
   "execution_count": 127,
   "metadata": {},
   "outputs": [],
   "source": [
    "dnn_pred = modeldnn.predict(test_X)\n",
    "# dnn_pred,y_true,inv_test=inv(dnn_pred,test_year,test_X,test_y)\n",
    "dnn_pred,y_true,inv_test=inv(dnn_pred,test_X,test_y)\n",
    "\n",
    "dnn_mse = metrics.mean_squared_error(y_true, dnn_pred)\n",
    "dnn_rmse = math.sqrt(mean_squared_error(y_true[:,0], dnn_pred[:,0]))\n",
    "dnn_mae = metrics.mean_absolute_error(y_true, dnn_pred)\n",
    "dnn_mape = mape(y_true, dnn_pred)\n",
    "dnn_smape = smape(y_true, dnn_pred)"
   ]
  },
  {
   "cell_type": "code",
   "execution_count": 128,
   "metadata": {
    "scrolled": false
   },
   "outputs": [
    {
     "name": "stdout",
     "output_type": "stream",
     "text": [
      "0.05899562 0.2428901385734647 0.07835099 183.71949195861816 111.72604560852051\n"
     ]
    }
   ],
   "source": [
    "print(dnn_mse,dnn_rmse,dnn_mae,dnn_mape,dnn_smape)"
   ]
  },
  {
   "cell_type": "markdown",
   "metadata": {},
   "source": [
    "LSTM\n"
   ]
  },
  {
   "cell_type": "code",
   "execution_count": 129,
   "metadata": {},
   "outputs": [],
   "source": [
    "# make a prediction\n",
    "lstm_pred = modellstm.predict(test_Xl)\n",
    "# test_X = test_X.reshape((test_X.shape[0], test_X.shape[2]))\n",
    "lstm_pred,y_true,inv_test=inv(lstm_pred,test_X,test_y)\n",
    "lstm_mse = metrics.mean_squared_error(y_true, lstm_pred)\n",
    "lstm_rmse = math.sqrt(mean_squared_error(y_true[:,0], lstm_pred[:,0]))\n",
    "lstm_mae = metrics.mean_absolute_error(y_true, lstm_pred)\n",
    "lstm_mape = mape(y_true, lstm_pred)\n",
    "lstm_smape = smape(y_true, lstm_pred)\n"
   ]
  },
  {
   "cell_type": "code",
   "execution_count": 130,
   "metadata": {},
   "outputs": [
    {
     "name": "stdout",
     "output_type": "stream",
     "text": [
      "0.058428 0.24171884630444215 0.08961359 487.4920845031738 92.51969456672668\n"
     ]
    }
   ],
   "source": [
    "print(lstm_mse,lstm_rmse,lstm_mae,lstm_mape,lstm_smape)"
   ]
  },
  {
   "cell_type": "code",
   "execution_count": 131,
   "metadata": {},
   "outputs": [],
   "source": [
    "svm3_mse,svm3_rmse,svm3_mae,svm3_mape,svm3_smape = svm_mse,svm_rmse,svm_mae,svm_mape,svm_smape"
   ]
  },
  {
   "cell_type": "code",
   "execution_count": 132,
   "metadata": {},
   "outputs": [],
   "source": [
    "bp3_mse,bp3_rmse,bp3_mae,bp3_mape,bp3_smape = bp_mse,bp_rmse,bp_mae,bp_mape,bp_smape"
   ]
  },
  {
   "cell_type": "code",
   "execution_count": 133,
   "metadata": {},
   "outputs": [],
   "source": [
    "dnn3_mse,dnn3_rmse,dnn3_mae,dnn3_mape,dnn3_smape = dnn_mse,dnn_rmse,dnn_mae,dnn_mape,dnn_smape"
   ]
  },
  {
   "cell_type": "code",
   "execution_count": 134,
   "metadata": {},
   "outputs": [],
   "source": [
    "lstm3_mse,lstm3_rmse,lstm3_mae,lstm3_mape,lstm3_smape = lstm_mse,lstm_rmse,lstm_mae,lstm_mape,lstm_smape"
   ]
  },
  {
   "cell_type": "markdown",
   "metadata": {},
   "source": [
    "# 4"
   ]
  },
  {
   "cell_type": "markdown",
   "metadata": {},
   "source": [
    "svm"
   ]
  },
  {
   "cell_type": "code",
   "execution_count": 135,
   "metadata": {},
   "outputs": [],
   "source": [
    "test_X,test_Xl,test_y= test4_X,test4_Xl,test4_y"
   ]
  },
  {
   "cell_type": "code",
   "execution_count": 136,
   "metadata": {},
   "outputs": [],
   "source": [
    "svm_pred = modelsvm.predict(test_X)\n",
    "svm_pred = svm_pred[:, np.newaxis]\n",
    "svm_pred,y_true,inv_test=inv(svm_pred,test_X,test_y)"
   ]
  },
  {
   "cell_type": "code",
   "execution_count": 137,
   "metadata": {},
   "outputs": [],
   "source": [
    "svm_mse = metrics.mean_squared_error(y_true, svm_pred)\n",
    "# svm_rmse = math.sqrt(mean_squared_error(y_true[:,0], svm_pred[:,0]))\n",
    "svm_rmse = math.sqrt(mean_squared_error(y_true, svm_pred))\n",
    "svm_mae = metrics.mean_absolute_error(y_true, svm_pred)\n",
    "svm_mape = mape(y_true, svm_pred)\n",
    "svm_smape = smape(y_true, svm_pred)"
   ]
  },
  {
   "cell_type": "code",
   "execution_count": 138,
   "metadata": {
    "scrolled": false
   },
   "outputs": [
    {
     "name": "stdout",
     "output_type": "stream",
     "text": [
      "0.38081531338907837 0.6171023524416985 0.5329558600721251 2381.0785681440043 152.10886693520317\n"
     ]
    }
   ],
   "source": [
    "print(svm_mse,svm_rmse,svm_mae,svm_mape,svm_smape)"
   ]
  },
  {
   "cell_type": "markdown",
   "metadata": {},
   "source": [
    "bp"
   ]
  },
  {
   "cell_type": "code",
   "execution_count": 139,
   "metadata": {},
   "outputs": [],
   "source": [
    "bp_pred = modelbp.predict(test_X)\n",
    "bp_pred,y_true,inv_test=inv(bp_pred,test_X,test_y)\n",
    "\n",
    "bp_mse = metrics.mean_squared_error(y_true, bp_pred)\n",
    "bp_rmse = math.sqrt(mean_squared_error(y_true[:,0], bp_pred[:,0]))\n",
    "bp_mae = metrics.mean_absolute_error(y_true, bp_pred)\n",
    "bp_mape = mape(y_true, bp_pred)\n",
    "bp_smape = smape(y_true, bp_pred)"
   ]
  },
  {
   "cell_type": "code",
   "execution_count": 140,
   "metadata": {},
   "outputs": [
    {
     "name": "stdout",
     "output_type": "stream",
     "text": [
      "0.12225787 0.3496539337916091 0.1538313 398.96090030670166 150.68421363830566\n"
     ]
    }
   ],
   "source": [
    "print(bp_mse,bp_rmse,bp_mae,bp_mape,bp_smape)"
   ]
  },
  {
   "cell_type": "markdown",
   "metadata": {},
   "source": [
    "dnn"
   ]
  },
  {
   "cell_type": "code",
   "execution_count": 141,
   "metadata": {},
   "outputs": [],
   "source": [
    "dnn_pred = modeldnn.predict(test_X)\n",
    "# dnn_pred,y_true,inv_test=inv(dnn_pred,test_year,test_X,test_y)\n",
    "dnn_pred,y_true,inv_test=inv(dnn_pred,test_X,test_y)\n",
    "\n",
    "dnn_mse = metrics.mean_squared_error(y_true, dnn_pred)\n",
    "dnn_rmse = math.sqrt(mean_squared_error(y_true[:,0], dnn_pred[:,0]))\n",
    "dnn_mae = metrics.mean_absolute_error(y_true, dnn_pred)\n",
    "dnn_mape = mape(y_true, dnn_pred)\n",
    "dnn_smape = smape(y_true, dnn_pred)"
   ]
  },
  {
   "cell_type": "code",
   "execution_count": 142,
   "metadata": {
    "scrolled": false
   },
   "outputs": [
    {
     "name": "stdout",
     "output_type": "stream",
     "text": [
      "0.106865674 0.32690315730698966 0.11748166 256.5141439437866 150.8330225944519\n"
     ]
    }
   ],
   "source": [
    "print(dnn_mse,dnn_rmse,dnn_mae,dnn_mape,dnn_smape)"
   ]
  },
  {
   "cell_type": "markdown",
   "metadata": {},
   "source": [
    "LSTM\n"
   ]
  },
  {
   "cell_type": "code",
   "execution_count": 143,
   "metadata": {},
   "outputs": [],
   "source": [
    "# make a prediction\n",
    "lstm_pred = modellstm.predict(test_Xl)\n",
    "# test_X = test_X.reshape((test_X.shape[0], test_X.shape[2]))\n",
    "lstm_pred,y_true,inv_test=inv(lstm_pred,test_X,test_y)\n",
    "lstm_mse = metrics.mean_squared_error(y_true, lstm_pred)\n",
    "lstm_rmse = math.sqrt(mean_squared_error(y_true[:,0], lstm_pred[:,0]))\n",
    "lstm_mae = metrics.mean_absolute_error(y_true, lstm_pred)\n",
    "lstm_mape = mape(y_true, lstm_pred)\n",
    "lstm_smape = smape(y_true, lstm_pred)\n"
   ]
  },
  {
   "cell_type": "code",
   "execution_count": 144,
   "metadata": {},
   "outputs": [
    {
     "name": "stdout",
     "output_type": "stream",
     "text": [
      "0.11757749 0.3428957468251325 0.1462336 451.941442489624 96.62438631057739\n"
     ]
    }
   ],
   "source": [
    "print(lstm_mse,lstm_rmse,lstm_mae,lstm_mape,lstm_smape)"
   ]
  },
  {
   "cell_type": "code",
   "execution_count": 145,
   "metadata": {},
   "outputs": [],
   "source": [
    "svm4_mse,svm4_rmse,svm4_mae,svm4_mape,svm4_smape = svm_mse,svm_rmse,svm_mae,svm_mape,svm_smape"
   ]
  },
  {
   "cell_type": "code",
   "execution_count": 146,
   "metadata": {},
   "outputs": [],
   "source": [
    "bp4_mse,bp4_rmse,bp4_mae,bp4_mape,bp4_smape = bp_mse,bp_rmse,bp_mae,bp_mape,bp_smape"
   ]
  },
  {
   "cell_type": "code",
   "execution_count": 147,
   "metadata": {},
   "outputs": [],
   "source": [
    "dnn4_mse,dnn4_rmse,dnn4_mae,dnn4_mape,dnn4_smape = dnn_mse,dnn_rmse,dnn_mae,dnn_mape,dnn_smape"
   ]
  },
  {
   "cell_type": "code",
   "execution_count": 148,
   "metadata": {},
   "outputs": [],
   "source": [
    "lstm4_mse,lstm4_rmse,lstm4_mae,lstm4_mape,lstm4_smape = lstm_mse,lstm_rmse,lstm_mae,lstm_mape,lstm_smape"
   ]
  },
  {
   "cell_type": "markdown",
   "metadata": {},
   "source": [
    "# 5"
   ]
  },
  {
   "cell_type": "markdown",
   "metadata": {},
   "source": [
    "svm"
   ]
  },
  {
   "cell_type": "code",
   "execution_count": 149,
   "metadata": {},
   "outputs": [],
   "source": [
    "test_X,test_Xl,test_y= test5_X,test5_Xl,test5_y"
   ]
  },
  {
   "cell_type": "code",
   "execution_count": 150,
   "metadata": {},
   "outputs": [],
   "source": [
    "svm_pred = modelsvm.predict(test_X)\n",
    "svm_pred = svm_pred[:, np.newaxis]\n",
    "svm_pred,y_true,inv_test=inv(svm_pred,test_X,test_y)"
   ]
  },
  {
   "cell_type": "code",
   "execution_count": 151,
   "metadata": {},
   "outputs": [],
   "source": [
    "svm_mse = metrics.mean_squared_error(y_true, svm_pred)\n",
    "# svm_rmse = math.sqrt(mean_squared_error(y_true[:,0], svm_pred[:,0]))\n",
    "svm_rmse = math.sqrt(mean_squared_error(y_true, svm_pred))\n",
    "svm_mae = metrics.mean_absolute_error(y_true, svm_pred)\n",
    "svm_mape = mape(y_true, svm_pred)\n",
    "svm_smape = smape(y_true, svm_pred)"
   ]
  },
  {
   "cell_type": "code",
   "execution_count": 152,
   "metadata": {
    "scrolled": false
   },
   "outputs": [
    {
     "name": "stdout",
     "output_type": "stream",
     "text": [
      "0.25481351810684216 0.5047905685597168 0.4450890785031013 1808.402163783289 111.3049194842626\n"
     ]
    }
   ],
   "source": [
    "print(svm_mse,svm_rmse,svm_mae,svm_mape,svm_smape)"
   ]
  },
  {
   "cell_type": "markdown",
   "metadata": {},
   "source": [
    "bp"
   ]
  },
  {
   "cell_type": "code",
   "execution_count": 153,
   "metadata": {},
   "outputs": [],
   "source": [
    "bp_pred = modelbp.predict(test_X)\n",
    "bp_pred,y_true,inv_test=inv(bp_pred,test_X,test_y)\n",
    "\n",
    "bp_mse = metrics.mean_squared_error(y_true, bp_pred)\n",
    "bp_rmse = math.sqrt(mean_squared_error(y_true[:,0], bp_pred[:,0]))\n",
    "bp_mae = metrics.mean_absolute_error(y_true, bp_pred)\n",
    "bp_mape = mape(y_true, bp_pred)\n",
    "bp_smape = smape(y_true, bp_pred)"
   ]
  },
  {
   "cell_type": "code",
   "execution_count": 154,
   "metadata": {},
   "outputs": [
    {
     "name": "stdout",
     "output_type": "stream",
     "text": [
      "0.050787315 0.22536041083696554 0.10199617 78.07145714759827 74.14233088493347\n"
     ]
    }
   ],
   "source": [
    "print(bp_mse,bp_rmse,bp_mae,bp_mape,bp_smape)"
   ]
  },
  {
   "cell_type": "markdown",
   "metadata": {},
   "source": [
    "dnn"
   ]
  },
  {
   "cell_type": "code",
   "execution_count": 155,
   "metadata": {},
   "outputs": [],
   "source": [
    "dnn_pred = modeldnn.predict(test_X)\n",
    "# dnn_pred,y_true,inv_test=inv(dnn_pred,test_year,test_X,test_y)\n",
    "dnn_pred,y_true,inv_test=inv(dnn_pred,test_X,test_y)\n",
    "\n",
    "dnn_mse = metrics.mean_squared_error(y_true, dnn_pred)\n",
    "dnn_rmse = math.sqrt(mean_squared_error(y_true[:,0], dnn_pred[:,0]))\n",
    "dnn_mae = metrics.mean_absolute_error(y_true, dnn_pred)\n",
    "dnn_mape = mape(y_true, dnn_pred)\n",
    "dnn_smape = smape(y_true, dnn_pred)"
   ]
  },
  {
   "cell_type": "code",
   "execution_count": 156,
   "metadata": {
    "scrolled": false
   },
   "outputs": [
    {
     "name": "stdout",
     "output_type": "stream",
     "text": [
      "0.042492755 0.20613770823748945 0.0849042 60.45191287994385 88.82739543914795\n"
     ]
    }
   ],
   "source": [
    "print(dnn_mse,dnn_rmse,dnn_mae,dnn_mape,dnn_smape)"
   ]
  },
  {
   "cell_type": "markdown",
   "metadata": {},
   "source": [
    "LSTM\n"
   ]
  },
  {
   "cell_type": "code",
   "execution_count": 157,
   "metadata": {},
   "outputs": [],
   "source": [
    "# make a prediction\n",
    "lstm_pred = modellstm.predict(test_Xl)\n",
    "# test_X = test_X.reshape((test_X.shape[0], test_X.shape[2]))\n",
    "lstm_pred,y_true,inv_test=inv(lstm_pred,test_X,test_y)\n",
    "lstm_mse = metrics.mean_squared_error(y_true, lstm_pred)\n",
    "lstm_rmse = math.sqrt(mean_squared_error(y_true[:,0], lstm_pred[:,0]))\n",
    "lstm_mae = metrics.mean_absolute_error(y_true, lstm_pred)\n",
    "lstm_mape = mape(y_true, lstm_pred)\n",
    "lstm_smape = smape(y_true, lstm_pred)\n"
   ]
  },
  {
   "cell_type": "code",
   "execution_count": 158,
   "metadata": {},
   "outputs": [
    {
     "name": "stdout",
     "output_type": "stream",
     "text": [
      "0.054180007 0.2327659928510409 0.10548622 79.68335151672363 36.789774894714355\n"
     ]
    }
   ],
   "source": [
    "print(lstm_mse,lstm_rmse,lstm_mae,lstm_mape,lstm_smape)"
   ]
  },
  {
   "cell_type": "code",
   "execution_count": 159,
   "metadata": {},
   "outputs": [],
   "source": [
    "svm5_mse,svm5_rmse,svm5_mae,svm5_mape,svm5_smape = svm_mse,svm_rmse,svm_mae,svm_mape,svm_smape"
   ]
  },
  {
   "cell_type": "code",
   "execution_count": 160,
   "metadata": {},
   "outputs": [],
   "source": [
    "bp5_mse,bp5_rmse,bp5_mae,bp5_mape,bp5_smape = bp_mse,bp_rmse,bp_mae,bp_mape,bp_smape"
   ]
  },
  {
   "cell_type": "code",
   "execution_count": 161,
   "metadata": {},
   "outputs": [],
   "source": [
    "dnn5_mse,dnn5_rmse,dnn5_mae,dnn5_mape,dnn5_smape = dnn_mse,dnn_rmse,dnn_mae,dnn_mape,dnn_smape"
   ]
  },
  {
   "cell_type": "code",
   "execution_count": 162,
   "metadata": {},
   "outputs": [],
   "source": [
    "lstm5_mse,lstm5_rmse,lstm5_mae,lstm5_mape,lstm5_smape = lstm_mse,lstm_rmse,lstm_mae,lstm_mape,lstm_smape"
   ]
  },
  {
   "cell_type": "markdown",
   "metadata": {},
   "source": [
    "# 6"
   ]
  },
  {
   "cell_type": "markdown",
   "metadata": {},
   "source": [
    "svm"
   ]
  },
  {
   "cell_type": "code",
   "execution_count": 163,
   "metadata": {},
   "outputs": [],
   "source": [
    "test_X,test_Xl,test_y= test6_X,test6_Xl,test6_y"
   ]
  },
  {
   "cell_type": "code",
   "execution_count": 164,
   "metadata": {},
   "outputs": [],
   "source": [
    "svm_pred = modelsvm.predict(test_X)\n",
    "svm_pred = svm_pred[:, np.newaxis]\n",
    "svm_pred,y_true,inv_test=inv(svm_pred,test_X,test_y)"
   ]
  },
  {
   "cell_type": "code",
   "execution_count": 165,
   "metadata": {},
   "outputs": [],
   "source": [
    "svm_mse = metrics.mean_squared_error(y_true, svm_pred)\n",
    "# svm_rmse = math.sqrt(mean_squared_error(y_true[:,0], svm_pred[:,0]))\n",
    "svm_rmse = math.sqrt(mean_squared_error(y_true, svm_pred))\n",
    "svm_mae = metrics.mean_absolute_error(y_true, svm_pred)\n",
    "svm_mape = mape(y_true, svm_pred)\n",
    "svm_smape = smape(y_true, svm_pred)"
   ]
  },
  {
   "cell_type": "code",
   "execution_count": 166,
   "metadata": {
    "scrolled": false
   },
   "outputs": [
    {
     "name": "stdout",
     "output_type": "stream",
     "text": [
      "0.23077329719319548 0.48038869386486965 0.4375084385169905 1976.8658857622029 119.425320622646\n"
     ]
    }
   ],
   "source": [
    "print(svm_mse,svm_rmse,svm_mae,svm_mape,svm_smape)"
   ]
  },
  {
   "cell_type": "markdown",
   "metadata": {},
   "source": [
    "bp"
   ]
  },
  {
   "cell_type": "code",
   "execution_count": 167,
   "metadata": {},
   "outputs": [],
   "source": [
    "bp_pred = modelbp.predict(test_X)\n",
    "bp_pred,y_true,inv_test=inv(bp_pred,test_X,test_y)\n",
    "\n",
    "bp_mse = metrics.mean_squared_error(y_true, bp_pred)\n",
    "bp_rmse = math.sqrt(mean_squared_error(y_true[:,0], bp_pred[:,0]))\n",
    "bp_mae = metrics.mean_absolute_error(y_true, bp_pred)\n",
    "bp_mape = mape(y_true, bp_pred)\n",
    "bp_smape = smape(y_true, bp_pred)"
   ]
  },
  {
   "cell_type": "code",
   "execution_count": 168,
   "metadata": {},
   "outputs": [
    {
     "name": "stdout",
     "output_type": "stream",
     "text": [
      "0.027581751 0.1660775461842694 0.07183005 52.89713740348816 54.816484451293945\n"
     ]
    }
   ],
   "source": [
    "print(bp_mse,bp_rmse,bp_mae,bp_mape,bp_smape)"
   ]
  },
  {
   "cell_type": "markdown",
   "metadata": {},
   "source": [
    "dnn"
   ]
  },
  {
   "cell_type": "code",
   "execution_count": 169,
   "metadata": {},
   "outputs": [],
   "source": [
    "dnn_pred = modeldnn.predict(test_X)\n",
    "# dnn_pred,y_true,inv_test=inv(dnn_pred,test_year,test_X,test_y)\n",
    "dnn_pred,y_true,inv_test=inv(dnn_pred,test_X,test_y)\n",
    "\n",
    "dnn_mse = metrics.mean_squared_error(y_true, dnn_pred)\n",
    "dnn_rmse = math.sqrt(mean_squared_error(y_true[:,0], dnn_pred[:,0]))\n",
    "dnn_mae = metrics.mean_absolute_error(y_true, dnn_pred)\n",
    "dnn_mape = mape(y_true, dnn_pred)\n",
    "dnn_smape = smape(y_true, dnn_pred)"
   ]
  },
  {
   "cell_type": "code",
   "execution_count": 170,
   "metadata": {
    "scrolled": false
   },
   "outputs": [
    {
     "name": "stdout",
     "output_type": "stream",
     "text": [
      "0.022095269 0.1486447731749705 0.058226477 50.16829967498779 72.68949151039124\n"
     ]
    }
   ],
   "source": [
    "print(dnn_mse,dnn_rmse,dnn_mae,dnn_mape,dnn_smape)"
   ]
  },
  {
   "cell_type": "markdown",
   "metadata": {},
   "source": [
    "LSTM\n"
   ]
  },
  {
   "cell_type": "code",
   "execution_count": 171,
   "metadata": {},
   "outputs": [],
   "source": [
    "# make a prediction\n",
    "lstm_pred = modellstm.predict(test_Xl)\n",
    "# test_X = test_X.reshape((test_X.shape[0], test_X.shape[2]))\n",
    "lstm_pred,y_true,inv_test=inv(lstm_pred,test_X,test_y)\n",
    "lstm_mse = metrics.mean_squared_error(y_true, lstm_pred)\n",
    "lstm_rmse = math.sqrt(mean_squared_error(y_true[:,0], lstm_pred[:,0]))\n",
    "lstm_mae = metrics.mean_absolute_error(y_true, lstm_pred)\n",
    "lstm_mape = mape(y_true, lstm_pred)\n",
    "lstm_smape = smape(y_true, lstm_pred)\n"
   ]
  },
  {
   "cell_type": "code",
   "execution_count": 172,
   "metadata": {},
   "outputs": [
    {
     "name": "stdout",
     "output_type": "stream",
     "text": [
      "0.041032646 0.20256516445670927 0.1057535 73.335200548172 49.85775053501129\n"
     ]
    }
   ],
   "source": [
    "print(lstm_mse,lstm_rmse,lstm_mae,lstm_mape,lstm_smape)"
   ]
  },
  {
   "cell_type": "code",
   "execution_count": 173,
   "metadata": {},
   "outputs": [],
   "source": [
    "svm6_mse,svm6_rmse,svm6_mae,svm6_mape,svm6_smape = svm_mse,svm_rmse,svm_mae,svm_mape,svm_smape"
   ]
  },
  {
   "cell_type": "code",
   "execution_count": 174,
   "metadata": {},
   "outputs": [],
   "source": [
    "bp6_mse,bp6_rmse,bp6_mae,bp6_mape,bp6_smape = bp_mse,bp_rmse,bp_mae,bp_mape,bp_smape"
   ]
  },
  {
   "cell_type": "code",
   "execution_count": 175,
   "metadata": {},
   "outputs": [],
   "source": [
    "dnn6_mse,dnn6_rmse,dnn6_mae,dnn6_mape,dnn6_smape = dnn_mse,dnn_rmse,dnn_mae,dnn_mape,dnn_smape"
   ]
  },
  {
   "cell_type": "code",
   "execution_count": 176,
   "metadata": {},
   "outputs": [],
   "source": [
    "lstm6_mse,lstm6_rmse,lstm6_mae,lstm6_mape,lstm6_smape = lstm_mse,lstm_rmse,lstm_mae,lstm_mape,lstm_smape"
   ]
  },
  {
   "cell_type": "markdown",
   "metadata": {},
   "source": [
    "# 7"
   ]
  },
  {
   "cell_type": "markdown",
   "metadata": {},
   "source": [
    "svm"
   ]
  },
  {
   "cell_type": "code",
   "execution_count": 177,
   "metadata": {},
   "outputs": [],
   "source": [
    "test_X,test_Xl,test_y= test7_X,test7_Xl,test7_y"
   ]
  },
  {
   "cell_type": "code",
   "execution_count": 178,
   "metadata": {},
   "outputs": [],
   "source": [
    "svm_pred = modelsvm.predict(test_X)\n",
    "svm_pred = svm_pred[:, np.newaxis]\n",
    "svm_pred,y_true,inv_test=inv(svm_pred,test_X,test_y)"
   ]
  },
  {
   "cell_type": "code",
   "execution_count": 179,
   "metadata": {},
   "outputs": [],
   "source": [
    "svm_mse = metrics.mean_squared_error(y_true, svm_pred)\n",
    "# svm_rmse = math.sqrt(mean_squared_error(y_true[:,0], svm_pred[:,0]))\n",
    "svm_rmse = math.sqrt(mean_squared_error(y_true, svm_pred))\n",
    "svm_mae = metrics.mean_absolute_error(y_true, svm_pred)\n",
    "svm_mape = mape(y_true, svm_pred)\n",
    "svm_smape = smape(y_true, svm_pred)"
   ]
  },
  {
   "cell_type": "code",
   "execution_count": 180,
   "metadata": {
    "scrolled": false
   },
   "outputs": [
    {
     "name": "stdout",
     "output_type": "stream",
     "text": [
      "0.2763814810074551 0.5257199644368236 0.4552464393224527 62595.35315577085 124.52687316945199\n"
     ]
    }
   ],
   "source": [
    "print(svm_mse,svm_rmse,svm_mae,svm_mape,svm_smape)"
   ]
  },
  {
   "cell_type": "markdown",
   "metadata": {},
   "source": [
    "bp"
   ]
  },
  {
   "cell_type": "code",
   "execution_count": 181,
   "metadata": {},
   "outputs": [],
   "source": [
    "bp_pred = modelbp.predict(test_X)\n",
    "bp_pred,y_true,inv_test=inv(bp_pred,test_X,test_y)\n",
    "\n",
    "bp_mse = metrics.mean_squared_error(y_true, bp_pred)\n",
    "bp_rmse = math.sqrt(mean_squared_error(y_true[:,0], bp_pred[:,0]))\n",
    "bp_mae = metrics.mean_absolute_error(y_true, bp_pred)\n",
    "bp_mape = mape(y_true, bp_pred)\n",
    "bp_smape = smape(y_true, bp_pred)"
   ]
  },
  {
   "cell_type": "code",
   "execution_count": 182,
   "metadata": {},
   "outputs": [
    {
     "name": "stdout",
     "output_type": "stream",
     "text": [
      "0.07129896 0.26701864517488794 0.100993924 1117.1793937683105 115.93365669250488\n"
     ]
    }
   ],
   "source": [
    "print(bp_mse,bp_rmse,bp_mae,bp_mape,bp_smape)"
   ]
  },
  {
   "cell_type": "markdown",
   "metadata": {},
   "source": [
    "dnn"
   ]
  },
  {
   "cell_type": "code",
   "execution_count": 183,
   "metadata": {},
   "outputs": [],
   "source": [
    "dnn_pred = modeldnn.predict(test_X)\n",
    "# dnn_pred,y_true,inv_test=inv(dnn_pred,test_year,test_X,test_y)\n",
    "dnn_pred,y_true,inv_test=inv(dnn_pred,test_X,test_y)\n",
    "\n",
    "dnn_mse = metrics.mean_squared_error(y_true, dnn_pred)\n",
    "dnn_rmse = math.sqrt(mean_squared_error(y_true[:,0], dnn_pred[:,0]))\n",
    "dnn_mae = metrics.mean_absolute_error(y_true, dnn_pred)\n",
    "dnn_mape = mape(y_true, dnn_pred)\n",
    "dnn_smape = smape(y_true, dnn_pred)"
   ]
  },
  {
   "cell_type": "code",
   "execution_count": 184,
   "metadata": {
    "scrolled": false
   },
   "outputs": [
    {
     "name": "stdout",
     "output_type": "stream",
     "text": [
      "0.06470432 0.2543704411381662 0.07944148 675.0460624694824 114.21951055526733\n"
     ]
    }
   ],
   "source": [
    "print(dnn_mse,dnn_rmse,dnn_mae,dnn_mape,dnn_smape)"
   ]
  },
  {
   "cell_type": "markdown",
   "metadata": {},
   "source": [
    "LSTM\n"
   ]
  },
  {
   "cell_type": "code",
   "execution_count": 185,
   "metadata": {},
   "outputs": [],
   "source": [
    "# make a prediction\n",
    "lstm_pred = modellstm.predict(test_Xl)\n",
    "# test_X = test_X.reshape((test_X.shape[0], test_X.shape[2]))\n",
    "lstm_pred,y_true,inv_test=inv(lstm_pred,test_X,test_y)\n",
    "lstm_mse = metrics.mean_squared_error(y_true, lstm_pred)\n",
    "lstm_rmse = math.sqrt(mean_squared_error(y_true[:,0], lstm_pred[:,0]))\n",
    "lstm_mae = metrics.mean_absolute_error(y_true, lstm_pred)\n",
    "lstm_mape = mape(y_true, lstm_pred)\n",
    "lstm_smape = smape(y_true, lstm_pred)\n"
   ]
  },
  {
   "cell_type": "code",
   "execution_count": 186,
   "metadata": {},
   "outputs": [
    {
     "name": "stdout",
     "output_type": "stream",
     "text": [
      "0.06338342 0.2517606458363933 0.088361695 2210.1173400878906 108.02379846572876\n"
     ]
    }
   ],
   "source": [
    "print(lstm_mse,lstm_rmse,lstm_mae,lstm_mape,lstm_smape)"
   ]
  },
  {
   "cell_type": "code",
   "execution_count": 187,
   "metadata": {},
   "outputs": [],
   "source": [
    "svm7_mse,svm7_rmse,svm7_mae,svm7_mape,svm7_smape = svm_mse,svm_rmse,svm_mae,svm_mape,svm_smape"
   ]
  },
  {
   "cell_type": "code",
   "execution_count": 188,
   "metadata": {},
   "outputs": [],
   "source": [
    "bp7_mse,bp7_rmse,bp7_mae,bp7_mape,bp7_smape = bp_mse,bp_rmse,bp_mae,bp_mape,bp_smape"
   ]
  },
  {
   "cell_type": "code",
   "execution_count": 189,
   "metadata": {},
   "outputs": [],
   "source": [
    "dnn7_mse,dnn7_rmse,dnn7_mae,dnn7_mape,dnn7_smape = dnn_mse,dnn_rmse,dnn_mae,dnn_mape,dnn_smape"
   ]
  },
  {
   "cell_type": "code",
   "execution_count": 190,
   "metadata": {},
   "outputs": [],
   "source": [
    "lstm7_mse,lstm7_rmse,lstm7_mae,lstm7_mape,lstm7_smape = lstm_mse,lstm_rmse,lstm_mae,lstm_mape,lstm_smape"
   ]
  },
  {
   "cell_type": "markdown",
   "metadata": {},
   "source": [
    "# 8"
   ]
  },
  {
   "cell_type": "markdown",
   "metadata": {},
   "source": [
    "svm"
   ]
  },
  {
   "cell_type": "code",
   "execution_count": 191,
   "metadata": {},
   "outputs": [],
   "source": [
    "test_X,test_Xl,test_y= test8_X,test8_Xl,test8_y"
   ]
  },
  {
   "cell_type": "code",
   "execution_count": 192,
   "metadata": {},
   "outputs": [],
   "source": [
    "svm_pred = modelsvm.predict(test_X)\n",
    "svm_pred = svm_pred[:, np.newaxis]\n",
    "svm_pred,y_true,inv_test=inv(svm_pred,test_X,test_y)"
   ]
  },
  {
   "cell_type": "code",
   "execution_count": 193,
   "metadata": {},
   "outputs": [
    {
     "name": "stderr",
     "output_type": "stream",
     "text": [
      "C:\\ProgramData\\Anaconda3\\lib\\site-packages\\ipykernel_launcher.py:2: RuntimeWarning: divide by zero encountered in true_divide\n",
      "  \n"
     ]
    }
   ],
   "source": [
    "svm_mse = metrics.mean_squared_error(y_true, svm_pred)\n",
    "# svm_rmse = math.sqrt(mean_squared_error(y_true[:,0], svm_pred[:,0]))\n",
    "svm_rmse = math.sqrt(mean_squared_error(y_true, svm_pred))\n",
    "svm_mae = metrics.mean_absolute_error(y_true, svm_pred)\n",
    "svm_mape = mape(y_true, svm_pred)\n",
    "svm_smape = smape(y_true, svm_pred)"
   ]
  },
  {
   "cell_type": "code",
   "execution_count": 194,
   "metadata": {
    "scrolled": false
   },
   "outputs": [
    {
     "name": "stdout",
     "output_type": "stream",
     "text": [
      "0.260681283801319 0.5105695680329165 0.4363370583959442 inf 117.44340329312122\n"
     ]
    }
   ],
   "source": [
    "print(svm_mse,svm_rmse,svm_mae,svm_mape,svm_smape)"
   ]
  },
  {
   "cell_type": "markdown",
   "metadata": {},
   "source": [
    "bp"
   ]
  },
  {
   "cell_type": "code",
   "execution_count": 195,
   "metadata": {},
   "outputs": [
    {
     "name": "stderr",
     "output_type": "stream",
     "text": [
      "C:\\ProgramData\\Anaconda3\\lib\\site-packages\\ipykernel_launcher.py:2: RuntimeWarning: divide by zero encountered in true_divide\n",
      "  \n"
     ]
    }
   ],
   "source": [
    "bp_pred = modelbp.predict(test_X)\n",
    "bp_pred,y_true,inv_test=inv(bp_pred,test_X,test_y)\n",
    "\n",
    "bp_mse = metrics.mean_squared_error(y_true, bp_pred)\n",
    "bp_rmse = math.sqrt(mean_squared_error(y_true[:,0], bp_pred[:,0]))\n",
    "bp_mae = metrics.mean_absolute_error(y_true, bp_pred)\n",
    "bp_mape = mape(y_true, bp_pred)\n",
    "bp_smape = smape(y_true, bp_pred)"
   ]
  },
  {
   "cell_type": "code",
   "execution_count": 196,
   "metadata": {},
   "outputs": [
    {
     "name": "stdout",
     "output_type": "stream",
     "text": [
      "0.074544236 0.27302790345303024 0.105973445 inf 110.52180528640747\n"
     ]
    }
   ],
   "source": [
    "print(bp_mse,bp_rmse,bp_mae,bp_mape,bp_smape)"
   ]
  },
  {
   "cell_type": "markdown",
   "metadata": {},
   "source": [
    "dnn"
   ]
  },
  {
   "cell_type": "code",
   "execution_count": 197,
   "metadata": {},
   "outputs": [
    {
     "name": "stderr",
     "output_type": "stream",
     "text": [
      "C:\\ProgramData\\Anaconda3\\lib\\site-packages\\ipykernel_launcher.py:2: RuntimeWarning: divide by zero encountered in true_divide\n",
      "  \n"
     ]
    }
   ],
   "source": [
    "dnn_pred = modeldnn.predict(test_X)\n",
    "# dnn_pred,y_true,inv_test=inv(dnn_pred,test_year,test_X,test_y)\n",
    "dnn_pred,y_true,inv_test=inv(dnn_pred,test_X,test_y)\n",
    "\n",
    "dnn_mse = metrics.mean_squared_error(y_true, dnn_pred)\n",
    "dnn_rmse = math.sqrt(mean_squared_error(y_true[:,0], dnn_pred[:,0]))\n",
    "dnn_mae = metrics.mean_absolute_error(y_true, dnn_pred)\n",
    "dnn_mape = mape(y_true, dnn_pred)\n",
    "dnn_smape = smape(y_true, dnn_pred)"
   ]
  },
  {
   "cell_type": "code",
   "execution_count": 198,
   "metadata": {
    "scrolled": false
   },
   "outputs": [
    {
     "name": "stdout",
     "output_type": "stream",
     "text": [
      "0.06672562 0.25831302548901236 0.08371393 inf 110.75996160507202\n"
     ]
    }
   ],
   "source": [
    "print(dnn_mse,dnn_rmse,dnn_mae,dnn_mape,dnn_smape)"
   ]
  },
  {
   "cell_type": "markdown",
   "metadata": {},
   "source": [
    "LSTM\n"
   ]
  },
  {
   "cell_type": "code",
   "execution_count": 199,
   "metadata": {},
   "outputs": [
    {
     "name": "stderr",
     "output_type": "stream",
     "text": [
      "C:\\ProgramData\\Anaconda3\\lib\\site-packages\\ipykernel_launcher.py:2: RuntimeWarning: divide by zero encountered in true_divide\n",
      "  \n"
     ]
    }
   ],
   "source": [
    "# make a prediction\n",
    "lstm_pred = modellstm.predict(test_Xl)\n",
    "# test_X = test_X.reshape((test_X.shape[0], test_X.shape[2]))\n",
    "lstm_pred,y_true,inv_test=inv(lstm_pred,test_X,test_y)\n",
    "lstm_mse = metrics.mean_squared_error(y_true, lstm_pred)\n",
    "lstm_rmse = math.sqrt(mean_squared_error(y_true[:,0], lstm_pred[:,0]))\n",
    "lstm_mae = metrics.mean_absolute_error(y_true, lstm_pred)\n",
    "lstm_mape = mape(y_true, lstm_pred)\n",
    "lstm_smape = smape(y_true, lstm_pred)\n"
   ]
  },
  {
   "cell_type": "code",
   "execution_count": 200,
   "metadata": {},
   "outputs": [
    {
     "name": "stdout",
     "output_type": "stream",
     "text": [
      "0.06423494 0.2534461327339592 0.085442774 inf 106.0688853263855\n"
     ]
    }
   ],
   "source": [
    "print(lstm_mse,lstm_rmse,lstm_mae,lstm_mape,lstm_smape)"
   ]
  },
  {
   "cell_type": "code",
   "execution_count": 201,
   "metadata": {},
   "outputs": [],
   "source": [
    "svm8_mse,svm8_rmse,svm8_mae,svm8_mape,svm8_smape = svm_mse,svm_rmse,svm_mae,svm_mape,svm_smape"
   ]
  },
  {
   "cell_type": "code",
   "execution_count": 202,
   "metadata": {},
   "outputs": [],
   "source": [
    "bp8_mse,bp8_rmse,bp8_mae,bp8_mape,bp8_smape = bp_mse,bp_rmse,bp_mae,bp_mape,bp_smape"
   ]
  },
  {
   "cell_type": "code",
   "execution_count": 203,
   "metadata": {},
   "outputs": [],
   "source": [
    "dnn8_mse,dnn8_rmse,dnn8_mae,dnn8_mape,dnn8_smape = dnn_mse,dnn_rmse,dnn_mae,dnn_mape,dnn_smape"
   ]
  },
  {
   "cell_type": "code",
   "execution_count": 204,
   "metadata": {},
   "outputs": [],
   "source": [
    "lstm8_mse,lstm8_rmse,lstm8_mae,lstm8_mape,lstm8_smape = lstm_mse,lstm_rmse,lstm_mae,lstm_mape,lstm_smape"
   ]
  },
  {
   "cell_type": "markdown",
   "metadata": {},
   "source": [
    "# 评价指标"
   ]
  },
  {
   "cell_type": "code",
   "execution_count": 205,
   "metadata": {},
   "outputs": [],
   "source": [
    "#评价指标\n",
    "evaluate_rmse = pd.DataFrame(columns=['Test','SVM','BP','DNN','LSTM'])"
   ]
  },
  {
   "cell_type": "code",
   "execution_count": 206,
   "metadata": {},
   "outputs": [],
   "source": [
    "evaluate_rmse['Test']=['0','1','2','3','4','5','6','7','8']\n",
    "evaluate_rmse=evaluate_rmse.set_index('Test',drop=True)"
   ]
  },
  {
   "cell_type": "code",
   "execution_count": 207,
   "metadata": {},
   "outputs": [
    {
     "data": {
      "text/html": [
       "<div>\n",
       "<style scoped>\n",
       "    .dataframe tbody tr th:only-of-type {\n",
       "        vertical-align: middle;\n",
       "    }\n",
       "\n",
       "    .dataframe tbody tr th {\n",
       "        vertical-align: top;\n",
       "    }\n",
       "\n",
       "    .dataframe thead th {\n",
       "        text-align: right;\n",
       "    }\n",
       "</style>\n",
       "<table border=\"1\" class=\"dataframe\">\n",
       "  <thead>\n",
       "    <tr style=\"text-align: right;\">\n",
       "      <th></th>\n",
       "      <th>SVM</th>\n",
       "      <th>BP</th>\n",
       "      <th>DNN</th>\n",
       "      <th>LSTM</th>\n",
       "    </tr>\n",
       "    <tr>\n",
       "      <th>Test</th>\n",
       "      <th></th>\n",
       "      <th></th>\n",
       "      <th></th>\n",
       "      <th></th>\n",
       "    </tr>\n",
       "  </thead>\n",
       "  <tbody>\n",
       "    <tr>\n",
       "      <th>0</th>\n",
       "      <td>NaN</td>\n",
       "      <td>NaN</td>\n",
       "      <td>NaN</td>\n",
       "      <td>NaN</td>\n",
       "    </tr>\n",
       "    <tr>\n",
       "      <th>1</th>\n",
       "      <td>NaN</td>\n",
       "      <td>NaN</td>\n",
       "      <td>NaN</td>\n",
       "      <td>NaN</td>\n",
       "    </tr>\n",
       "    <tr>\n",
       "      <th>2</th>\n",
       "      <td>NaN</td>\n",
       "      <td>NaN</td>\n",
       "      <td>NaN</td>\n",
       "      <td>NaN</td>\n",
       "    </tr>\n",
       "    <tr>\n",
       "      <th>3</th>\n",
       "      <td>NaN</td>\n",
       "      <td>NaN</td>\n",
       "      <td>NaN</td>\n",
       "      <td>NaN</td>\n",
       "    </tr>\n",
       "    <tr>\n",
       "      <th>4</th>\n",
       "      <td>NaN</td>\n",
       "      <td>NaN</td>\n",
       "      <td>NaN</td>\n",
       "      <td>NaN</td>\n",
       "    </tr>\n",
       "    <tr>\n",
       "      <th>5</th>\n",
       "      <td>NaN</td>\n",
       "      <td>NaN</td>\n",
       "      <td>NaN</td>\n",
       "      <td>NaN</td>\n",
       "    </tr>\n",
       "    <tr>\n",
       "      <th>6</th>\n",
       "      <td>NaN</td>\n",
       "      <td>NaN</td>\n",
       "      <td>NaN</td>\n",
       "      <td>NaN</td>\n",
       "    </tr>\n",
       "    <tr>\n",
       "      <th>7</th>\n",
       "      <td>NaN</td>\n",
       "      <td>NaN</td>\n",
       "      <td>NaN</td>\n",
       "      <td>NaN</td>\n",
       "    </tr>\n",
       "    <tr>\n",
       "      <th>8</th>\n",
       "      <td>NaN</td>\n",
       "      <td>NaN</td>\n",
       "      <td>NaN</td>\n",
       "      <td>NaN</td>\n",
       "    </tr>\n",
       "  </tbody>\n",
       "</table>\n",
       "</div>"
      ],
      "text/plain": [
       "      SVM   BP  DNN LSTM\n",
       "Test                    \n",
       "0     NaN  NaN  NaN  NaN\n",
       "1     NaN  NaN  NaN  NaN\n",
       "2     NaN  NaN  NaN  NaN\n",
       "3     NaN  NaN  NaN  NaN\n",
       "4     NaN  NaN  NaN  NaN\n",
       "5     NaN  NaN  NaN  NaN\n",
       "6     NaN  NaN  NaN  NaN\n",
       "7     NaN  NaN  NaN  NaN\n",
       "8     NaN  NaN  NaN  NaN"
      ]
     },
     "execution_count": 207,
     "metadata": {},
     "output_type": "execute_result"
    }
   ],
   "source": [
    "evaluate_rmse"
   ]
  },
  {
   "cell_type": "code",
   "execution_count": 208,
   "metadata": {},
   "outputs": [],
   "source": [
    "evaluate_rmse['SVM']=[svm0_rmse,svm1_rmse,svm2_rmse,svm3_rmse,svm4_rmse,svm5_rmse,svm6_rmse,svm7_rmse,svm8_rmse]"
   ]
  },
  {
   "cell_type": "code",
   "execution_count": 209,
   "metadata": {},
   "outputs": [],
   "source": [
    "evaluate_rmse['BP']=[bp0_rmse,bp1_rmse,bp2_rmse,bp3_rmse,bp4_rmse,bp5_rmse,bp6_rmse,bp7_rmse,bp8_rmse]"
   ]
  },
  {
   "cell_type": "code",
   "execution_count": 210,
   "metadata": {},
   "outputs": [],
   "source": [
    "evaluate_rmse['DNN']=[dnn0_rmse,dnn1_rmse,dnn2_rmse,dnn3_rmse,dnn4_rmse,dnn5_rmse,dnn6_rmse,dnn7_rmse,dnn8_rmse]"
   ]
  },
  {
   "cell_type": "code",
   "execution_count": 211,
   "metadata": {},
   "outputs": [],
   "source": [
    "evaluate_rmse['LSTM']=[lstm0_rmse,lstm1_rmse,lstm2_rmse,lstm3_rmse,lstm4_rmse,lstm5_rmse,lstm6_rmse,lstm7_rmse,lstm8_rmse]"
   ]
  },
  {
   "cell_type": "code",
   "execution_count": 212,
   "metadata": {},
   "outputs": [],
   "source": [
    "s = pd.Series([evaluate_rmse['SVM'].mean(),evaluate_rmse['BP'].mean(), evaluate_rmse['DNN'].mean(), evaluate_rmse['LSTM'].mean()], index=evaluate_rmse.columns, name='mean')\n",
    "evaluate_rmse = evaluate_rmse.append(s)"
   ]
  },
  {
   "cell_type": "code",
   "execution_count": 213,
   "metadata": {
    "scrolled": false
   },
   "outputs": [
    {
     "data": {
      "text/html": [
       "<div>\n",
       "<style scoped>\n",
       "    .dataframe tbody tr th:only-of-type {\n",
       "        vertical-align: middle;\n",
       "    }\n",
       "\n",
       "    .dataframe tbody tr th {\n",
       "        vertical-align: top;\n",
       "    }\n",
       "\n",
       "    .dataframe thead th {\n",
       "        text-align: right;\n",
       "    }\n",
       "</style>\n",
       "<table border=\"1\" class=\"dataframe\">\n",
       "  <thead>\n",
       "    <tr style=\"text-align: right;\">\n",
       "      <th></th>\n",
       "      <th>SVM</th>\n",
       "      <th>BP</th>\n",
       "      <th>DNN</th>\n",
       "      <th>LSTM</th>\n",
       "    </tr>\n",
       "    <tr>\n",
       "      <th>Test</th>\n",
       "      <th></th>\n",
       "      <th></th>\n",
       "      <th></th>\n",
       "      <th></th>\n",
       "    </tr>\n",
       "  </thead>\n",
       "  <tbody>\n",
       "    <tr>\n",
       "      <th>0</th>\n",
       "      <td>0.532036</td>\n",
       "      <td>0.295050</td>\n",
       "      <td>0.274294</td>\n",
       "      <td>0.257969</td>\n",
       "    </tr>\n",
       "    <tr>\n",
       "      <th>1</th>\n",
       "      <td>0.495970</td>\n",
       "      <td>0.259605</td>\n",
       "      <td>0.233589</td>\n",
       "      <td>0.226346</td>\n",
       "    </tr>\n",
       "    <tr>\n",
       "      <th>2</th>\n",
       "      <td>0.494608</td>\n",
       "      <td>0.257701</td>\n",
       "      <td>0.239078</td>\n",
       "      <td>0.230541</td>\n",
       "    </tr>\n",
       "    <tr>\n",
       "      <th>3</th>\n",
       "      <td>0.512755</td>\n",
       "      <td>0.253682</td>\n",
       "      <td>0.242890</td>\n",
       "      <td>0.241719</td>\n",
       "    </tr>\n",
       "    <tr>\n",
       "      <th>4</th>\n",
       "      <td>0.617102</td>\n",
       "      <td>0.349654</td>\n",
       "      <td>0.326903</td>\n",
       "      <td>0.342896</td>\n",
       "    </tr>\n",
       "    <tr>\n",
       "      <th>5</th>\n",
       "      <td>0.504791</td>\n",
       "      <td>0.225360</td>\n",
       "      <td>0.206138</td>\n",
       "      <td>0.232766</td>\n",
       "    </tr>\n",
       "    <tr>\n",
       "      <th>6</th>\n",
       "      <td>0.480389</td>\n",
       "      <td>0.166078</td>\n",
       "      <td>0.148645</td>\n",
       "      <td>0.202565</td>\n",
       "    </tr>\n",
       "    <tr>\n",
       "      <th>7</th>\n",
       "      <td>0.525720</td>\n",
       "      <td>0.267019</td>\n",
       "      <td>0.254370</td>\n",
       "      <td>0.251761</td>\n",
       "    </tr>\n",
       "    <tr>\n",
       "      <th>8</th>\n",
       "      <td>0.510570</td>\n",
       "      <td>0.273028</td>\n",
       "      <td>0.258313</td>\n",
       "      <td>0.253446</td>\n",
       "    </tr>\n",
       "    <tr>\n",
       "      <th>mean</th>\n",
       "      <td>0.519327</td>\n",
       "      <td>0.260797</td>\n",
       "      <td>0.242691</td>\n",
       "      <td>0.248890</td>\n",
       "    </tr>\n",
       "  </tbody>\n",
       "</table>\n",
       "</div>"
      ],
      "text/plain": [
       "           SVM        BP       DNN      LSTM\n",
       "Test                                        \n",
       "0     0.532036  0.295050  0.274294  0.257969\n",
       "1     0.495970  0.259605  0.233589  0.226346\n",
       "2     0.494608  0.257701  0.239078  0.230541\n",
       "3     0.512755  0.253682  0.242890  0.241719\n",
       "4     0.617102  0.349654  0.326903  0.342896\n",
       "5     0.504791  0.225360  0.206138  0.232766\n",
       "6     0.480389  0.166078  0.148645  0.202565\n",
       "7     0.525720  0.267019  0.254370  0.251761\n",
       "8     0.510570  0.273028  0.258313  0.253446\n",
       "mean  0.519327  0.260797  0.242691  0.248890"
      ]
     },
     "execution_count": 213,
     "metadata": {},
     "output_type": "execute_result"
    }
   ],
   "source": [
    "evaluate_rmse.to_csv('../predict/rmsetest0-8.csv',index=True)\n",
    "evaluate_rmse"
   ]
  },
  {
   "cell_type": "markdown",
   "metadata": {},
   "source": [
    "# MAE"
   ]
  },
  {
   "cell_type": "code",
   "execution_count": 214,
   "metadata": {},
   "outputs": [],
   "source": [
    "#评价指标\n",
    "evaluate_mae = pd.DataFrame(columns=['Test','SVM','BP','DNN','LSTM'])"
   ]
  },
  {
   "cell_type": "code",
   "execution_count": 215,
   "metadata": {},
   "outputs": [],
   "source": [
    "evaluate_mae['Test']=['0','1','2','3','4','5','6','7','8']\n",
    "evaluate_mae=evaluate_mae.set_index('Test',drop=True)"
   ]
  },
  {
   "cell_type": "code",
   "execution_count": 216,
   "metadata": {},
   "outputs": [
    {
     "data": {
      "text/html": [
       "<div>\n",
       "<style scoped>\n",
       "    .dataframe tbody tr th:only-of-type {\n",
       "        vertical-align: middle;\n",
       "    }\n",
       "\n",
       "    .dataframe tbody tr th {\n",
       "        vertical-align: top;\n",
       "    }\n",
       "\n",
       "    .dataframe thead th {\n",
       "        text-align: right;\n",
       "    }\n",
       "</style>\n",
       "<table border=\"1\" class=\"dataframe\">\n",
       "  <thead>\n",
       "    <tr style=\"text-align: right;\">\n",
       "      <th></th>\n",
       "      <th>SVM</th>\n",
       "      <th>BP</th>\n",
       "      <th>DNN</th>\n",
       "      <th>LSTM</th>\n",
       "    </tr>\n",
       "    <tr>\n",
       "      <th>Test</th>\n",
       "      <th></th>\n",
       "      <th></th>\n",
       "      <th></th>\n",
       "      <th></th>\n",
       "    </tr>\n",
       "  </thead>\n",
       "  <tbody>\n",
       "    <tr>\n",
       "      <th>0</th>\n",
       "      <td>NaN</td>\n",
       "      <td>NaN</td>\n",
       "      <td>NaN</td>\n",
       "      <td>NaN</td>\n",
       "    </tr>\n",
       "    <tr>\n",
       "      <th>1</th>\n",
       "      <td>NaN</td>\n",
       "      <td>NaN</td>\n",
       "      <td>NaN</td>\n",
       "      <td>NaN</td>\n",
       "    </tr>\n",
       "    <tr>\n",
       "      <th>2</th>\n",
       "      <td>NaN</td>\n",
       "      <td>NaN</td>\n",
       "      <td>NaN</td>\n",
       "      <td>NaN</td>\n",
       "    </tr>\n",
       "    <tr>\n",
       "      <th>3</th>\n",
       "      <td>NaN</td>\n",
       "      <td>NaN</td>\n",
       "      <td>NaN</td>\n",
       "      <td>NaN</td>\n",
       "    </tr>\n",
       "    <tr>\n",
       "      <th>4</th>\n",
       "      <td>NaN</td>\n",
       "      <td>NaN</td>\n",
       "      <td>NaN</td>\n",
       "      <td>NaN</td>\n",
       "    </tr>\n",
       "    <tr>\n",
       "      <th>5</th>\n",
       "      <td>NaN</td>\n",
       "      <td>NaN</td>\n",
       "      <td>NaN</td>\n",
       "      <td>NaN</td>\n",
       "    </tr>\n",
       "    <tr>\n",
       "      <th>6</th>\n",
       "      <td>NaN</td>\n",
       "      <td>NaN</td>\n",
       "      <td>NaN</td>\n",
       "      <td>NaN</td>\n",
       "    </tr>\n",
       "    <tr>\n",
       "      <th>7</th>\n",
       "      <td>NaN</td>\n",
       "      <td>NaN</td>\n",
       "      <td>NaN</td>\n",
       "      <td>NaN</td>\n",
       "    </tr>\n",
       "    <tr>\n",
       "      <th>8</th>\n",
       "      <td>NaN</td>\n",
       "      <td>NaN</td>\n",
       "      <td>NaN</td>\n",
       "      <td>NaN</td>\n",
       "    </tr>\n",
       "  </tbody>\n",
       "</table>\n",
       "</div>"
      ],
      "text/plain": [
       "      SVM   BP  DNN LSTM\n",
       "Test                    \n",
       "0     NaN  NaN  NaN  NaN\n",
       "1     NaN  NaN  NaN  NaN\n",
       "2     NaN  NaN  NaN  NaN\n",
       "3     NaN  NaN  NaN  NaN\n",
       "4     NaN  NaN  NaN  NaN\n",
       "5     NaN  NaN  NaN  NaN\n",
       "6     NaN  NaN  NaN  NaN\n",
       "7     NaN  NaN  NaN  NaN\n",
       "8     NaN  NaN  NaN  NaN"
      ]
     },
     "execution_count": 216,
     "metadata": {},
     "output_type": "execute_result"
    }
   ],
   "source": [
    "evaluate_mae"
   ]
  },
  {
   "cell_type": "code",
   "execution_count": 217,
   "metadata": {},
   "outputs": [],
   "source": [
    "evaluate_mae['SVM']=[svm0_mae,svm1_mae,svm2_mae,svm3_mae,svm4_mae,svm5_mae,svm6_mae,svm7_mae,svm8_mae]"
   ]
  },
  {
   "cell_type": "code",
   "execution_count": 218,
   "metadata": {},
   "outputs": [],
   "source": [
    "evaluate_mae['BP']=[bp0_mae,bp1_mae,bp2_mae,bp3_mae,bp4_mae,bp5_mae,bp6_mae,bp7_mae,bp8_mae]"
   ]
  },
  {
   "cell_type": "code",
   "execution_count": 219,
   "metadata": {},
   "outputs": [],
   "source": [
    "evaluate_mae['DNN']=[dnn0_mae,dnn1_mae,dnn2_mae,dnn3_mae,dnn4_mae,dnn5_mae,dnn6_mae,dnn7_mae,dnn8_mae]"
   ]
  },
  {
   "cell_type": "code",
   "execution_count": 220,
   "metadata": {},
   "outputs": [],
   "source": [
    "evaluate_mae['LSTM']=[lstm0_mae,lstm1_mae,lstm2_mae,lstm3_mae,lstm4_mae,lstm5_mae,lstm6_mae,lstm7_mae,lstm8_mae]"
   ]
  },
  {
   "cell_type": "code",
   "execution_count": 221,
   "metadata": {},
   "outputs": [],
   "source": [
    "s = pd.Series([evaluate_mae['SVM'].mean(),evaluate_mae['BP'].mean(), evaluate_mae['DNN'].mean(), evaluate_mae['LSTM'].mean()], index=evaluate_mae.columns, name='mean')\n",
    "evaluate_mae = evaluate_mae.append(s)"
   ]
  },
  {
   "cell_type": "code",
   "execution_count": 222,
   "metadata": {
    "scrolled": false
   },
   "outputs": [
    {
     "data": {
      "text/html": [
       "<div>\n",
       "<style scoped>\n",
       "    .dataframe tbody tr th:only-of-type {\n",
       "        vertical-align: middle;\n",
       "    }\n",
       "\n",
       "    .dataframe tbody tr th {\n",
       "        vertical-align: top;\n",
       "    }\n",
       "\n",
       "    .dataframe thead th {\n",
       "        text-align: right;\n",
       "    }\n",
       "</style>\n",
       "<table border=\"1\" class=\"dataframe\">\n",
       "  <thead>\n",
       "    <tr style=\"text-align: right;\">\n",
       "      <th></th>\n",
       "      <th>SVM</th>\n",
       "      <th>BP</th>\n",
       "      <th>DNN</th>\n",
       "      <th>LSTM</th>\n",
       "    </tr>\n",
       "    <tr>\n",
       "      <th>Test</th>\n",
       "      <th></th>\n",
       "      <th></th>\n",
       "      <th></th>\n",
       "      <th></th>\n",
       "    </tr>\n",
       "  </thead>\n",
       "  <tbody>\n",
       "    <tr>\n",
       "      <th>0</th>\n",
       "      <td>0.456748</td>\n",
       "      <td>0.119892</td>\n",
       "      <td>0.099878</td>\n",
       "      <td>0.089712</td>\n",
       "    </tr>\n",
       "    <tr>\n",
       "      <th>1</th>\n",
       "      <td>0.429295</td>\n",
       "      <td>0.112758</td>\n",
       "      <td>0.086113</td>\n",
       "      <td>0.086906</td>\n",
       "    </tr>\n",
       "    <tr>\n",
       "      <th>2</th>\n",
       "      <td>0.423689</td>\n",
       "      <td>0.109585</td>\n",
       "      <td>0.085967</td>\n",
       "      <td>0.079214</td>\n",
       "    </tr>\n",
       "    <tr>\n",
       "      <th>3</th>\n",
       "      <td>0.445654</td>\n",
       "      <td>0.095552</td>\n",
       "      <td>0.078351</td>\n",
       "      <td>0.089614</td>\n",
       "    </tr>\n",
       "    <tr>\n",
       "      <th>4</th>\n",
       "      <td>0.532956</td>\n",
       "      <td>0.153831</td>\n",
       "      <td>0.117482</td>\n",
       "      <td>0.146234</td>\n",
       "    </tr>\n",
       "    <tr>\n",
       "      <th>5</th>\n",
       "      <td>0.445089</td>\n",
       "      <td>0.101996</td>\n",
       "      <td>0.084904</td>\n",
       "      <td>0.105486</td>\n",
       "    </tr>\n",
       "    <tr>\n",
       "      <th>6</th>\n",
       "      <td>0.437508</td>\n",
       "      <td>0.071830</td>\n",
       "      <td>0.058226</td>\n",
       "      <td>0.105753</td>\n",
       "    </tr>\n",
       "    <tr>\n",
       "      <th>7</th>\n",
       "      <td>0.455246</td>\n",
       "      <td>0.100994</td>\n",
       "      <td>0.079441</td>\n",
       "      <td>0.088362</td>\n",
       "    </tr>\n",
       "    <tr>\n",
       "      <th>8</th>\n",
       "      <td>0.436337</td>\n",
       "      <td>0.105973</td>\n",
       "      <td>0.083714</td>\n",
       "      <td>0.085443</td>\n",
       "    </tr>\n",
       "    <tr>\n",
       "      <th>mean</th>\n",
       "      <td>0.451391</td>\n",
       "      <td>0.108046</td>\n",
       "      <td>0.086008</td>\n",
       "      <td>0.097414</td>\n",
       "    </tr>\n",
       "  </tbody>\n",
       "</table>\n",
       "</div>"
      ],
      "text/plain": [
       "           SVM        BP       DNN      LSTM\n",
       "Test                                        \n",
       "0     0.456748  0.119892  0.099878  0.089712\n",
       "1     0.429295  0.112758  0.086113  0.086906\n",
       "2     0.423689  0.109585  0.085967  0.079214\n",
       "3     0.445654  0.095552  0.078351  0.089614\n",
       "4     0.532956  0.153831  0.117482  0.146234\n",
       "5     0.445089  0.101996  0.084904  0.105486\n",
       "6     0.437508  0.071830  0.058226  0.105753\n",
       "7     0.455246  0.100994  0.079441  0.088362\n",
       "8     0.436337  0.105973  0.083714  0.085443\n",
       "mean  0.451391  0.108046  0.086008  0.097414"
      ]
     },
     "execution_count": 222,
     "metadata": {},
     "output_type": "execute_result"
    }
   ],
   "source": [
    "evaluate_mae.to_csv('../predict/maetest0-8.csv',index=True)\n",
    "evaluate_mae"
   ]
  },
  {
   "cell_type": "code",
   "execution_count": null,
   "metadata": {},
   "outputs": [],
   "source": []
  },
  {
   "cell_type": "markdown",
   "metadata": {},
   "source": [
    "# 保存预测结果并绘图"
   ]
  },
  {
   "cell_type": "code",
   "execution_count": 223,
   "metadata": {
    "scrolled": true
   },
   "outputs": [
    {
     "data": {
      "image/png": "[encoded data removed]",
      "text/plain": [
       "<Figure size 432x288 with 1 Axes>"
      ]
     },
     "metadata": {},
     "output_type": "display_data"
    }
   ],
   "source": [
    "#真实值和预测值对比图\n",
    "plt.plot(y_true,'royalblue',label='Real')\n",
    "plt.plot(svm_pred,'orange',label='SVM')\n",
    "# plt.plot(bp_pred,label='BP')\n",
    "# plt.plot(dnn_pred,label='DNN')\n",
    "# plt.plot(lstm_pred,label='LSTM')\n",
    "plt.title('1A Trina Prediction')\n",
    "plt.ylabel('Power')\n",
    "plt.xlabel('Time')\n",
    "plt.legend()\n",
    "plt.savefig('../picture/SVM.jpg')"
   ]
  },
  {
   "cell_type": "code",
   "execution_count": 224,
   "metadata": {},
   "outputs": [
    {
     "data": {
      "image/png": "[encoded data removed]",
      "text/plain": [
       "<Figure size 432x288 with 1 Axes>"
      ]
     },
     "metadata": {},
     "output_type": "display_data"
    }
   ],
   "source": [
    "#真实值和预测值对比图\n",
    "plt.plot(y_true,'royalblue',label='Real')\n",
    "# plt.plot(svm_pred,label='SVM')\n",
    "plt.plot(bp_pred,'limegreen',label='BP')\n",
    "# plt.plot(dnn_pred,label='DNN')\n",
    "# plt.plot(lstm_pred,label='LSTM')\n",
    "\n",
    "plt.title('1A Trina Prediction')\n",
    "plt.ylabel('Power')\n",
    "plt.xlabel('Time')\n",
    "plt.legend()\n",
    "plt.savefig('../picture/BP.jpg')"
   ]
  },
  {
   "cell_type": "code",
   "execution_count": 225,
   "metadata": {},
   "outputs": [
    {
     "data": {
      "image/png": "[encoded data removed]",
      "text/plain": [
       "<Figure size 432x288 with 1 Axes>"
      ]
     },
     "metadata": {},
     "output_type": "display_data"
    }
   ],
   "source": [
    "#真实值和预测值对比图\n",
    "plt.plot(y_true,'royalblue',label='Real')\n",
    "# plt.plot(svm_pred,label='SVM')\n",
    "# plt.plot(bp_pred,label='BP')\n",
    "plt.plot(dnn_pred,'tomato',label='DNN')\n",
    "# plt.plot(lstm_pred,label='LSTM')\n",
    "\n",
    "plt.title('1A Trina Prediction')\n",
    "plt.ylabel('Power')\n",
    "plt.xlabel('Time')\n",
    "plt.legend()\n",
    "plt.savefig('../picture/DNN.jpg')"
   ]
  },
  {
   "cell_type": "code",
   "execution_count": 226,
   "metadata": {},
   "outputs": [
    {
     "data": {
      "image/png": "[encoded data removed]",
      "text/plain": [
       "<Figure size 432x288 with 1 Axes>"
      ]
     },
     "metadata": {},
     "output_type": "display_data"
    }
   ],
   "source": [
    "#真实值和预测值对比图\n",
    "plt.plot(y_true,'royalblue',label='Real')\n",
    "# plt.plot(svm_pred,label='SVM')\n",
    "# plt.plot(bp_pred,label='BP')\n",
    "# plt.plot(dnn_pred,label='DNN')\n",
    "plt.plot(lstm_pred,'orchid',label='LSTM')\n",
    "\n",
    "plt.title('1A Trina Prediction')\n",
    "plt.ylabel('Power')\n",
    "plt.xlabel('Time')\n",
    "plt.legend()\n",
    "plt.savefig('../picture/LSTM.jpg')"
   ]
  },
  {
   "cell_type": "markdown",
   "metadata": {},
   "source": [
    "# 保存"
   ]
  },
  {
   "cell_type": "code",
   "execution_count": 227,
   "metadata": {
    "scrolled": true
   },
   "outputs": [
    {
     "data": {
      "image/png": "[encoded data removed]",
      "text/plain": [
       "<Figure size 432x288 with 1 Axes>"
      ]
     },
     "metadata": {},
     "output_type": "display_data"
    }
   ],
   "source": [
    "#真实值和预测值对比图\n",
    "plt.plot(y_true,label='Real')\n",
    "plt.plot(svm_pred,label='SVM')\n",
    "plt.plot(bp_pred,label='BP')\n",
    "plt.plot(dnn_pred,label='DNN')\n",
    "plt.plot(lstm_pred,label='LSTM')\n",
    "\n",
    "plt.title('1A Trina Prediction')\n",
    "plt.ylabel('Power')\n",
    "plt.xlabel('Time')\n",
    "plt.legend()\n",
    "plt.savefig('../picture/SVMLSTM.jpg')\n",
    "\n",
    "#训练集和测试集 预测结果保存\n",
    "predict_ = pd.DataFrame(inv_test)\n",
    "# predict_.columns = ['Year', 'Month', 'Day', 'Hour', 'Minutes', 'WTC', 'WRH', 'GHR', 'DHR',\n",
    "#        'RGT', 'RDT', '1A Trina_power']\n",
    "predict_.columns = ['Month(t-1)', 'Day(t-1)', 'Hour(t-1)', 'Minutes(t-1)', 'WTC(t-1)',\n",
    "       'WRH(t-1)', 'GHR(t-1)', 'DHR(t-1)', 'WD(t-1)', 'WDR(t-1)', 'RGT(t-1)',\n",
    "       'RDT(t-1)', '1A Trina_power(t-1)', '1A Trina_power(t)',\n",
    "       '1A Trina_power(t+1)']\n",
    "predict_['SVM'] = svm_pred\n",
    "predict_['BP'] = bp_pred\n",
    "predict_['DNN'] = dnn_pred\n",
    "predict_['LSTM'] = lstm_pred\n",
    "predict_.to_csv('../predict/1Atest_pred_-WDWDR_svm&bp&dnn.csv',index=False)\n"
   ]
  },
  {
   "cell_type": "markdown",
   "metadata": {},
   "source": [
    "画出例如2020年1月20号的预测图"
   ]
  },
  {
   "cell_type": "code",
   "execution_count": 228,
   "metadata": {
    "scrolled": true
   },
   "outputs": [
    {
     "data": {
      "text/plain": [
       "Index(['Month(t-1)', 'Day(t-1)', 'Hour(t-1)', 'Minutes(t-1)', 'WTC(t-1)',\n",
       "       'WRH(t-1)', 'GHR(t-1)', 'DHR(t-1)', 'WD(t-1)', 'WDR(t-1)', 'RGT(t-1)',\n",
       "       'RDT(t-1)', '1A Trina_power(t-1)', '1A Trina_power(t)',\n",
       "       '1A Trina_power(t+1)', 'SVM', 'BP', 'DNN', 'LSTM'],\n",
       "      dtype='object')"
      ]
     },
     "execution_count": 228,
     "metadata": {},
     "output_type": "execute_result"
    }
   ],
   "source": [
    "predict_.columns"
   ]
  },
  {
   "cell_type": "code",
   "execution_count": 229,
   "metadata": {
    "scrolled": true
   },
   "outputs": [
    {
     "data": {
      "image/png": "[encoded data removed]",
      "text/plain": [
       "<Figure size 432x288 with 1 Axes>"
      ]
     },
     "metadata": {},
     "output_type": "display_data"
    }
   ],
   "source": [
    "# from scipy.interpolate import spline\n",
    "predict_[['Month(t-1)', 'Day(t-1)', 'Hour(t-1)', 'Minutes(t-1)']] = predict_[['Month(t-1)', 'Day(t-1)', 'Hour(t-1)', 'Minutes(t-1)']].astype(\"int\")\n",
    "\n",
    "# Day0120 = predict_.loc[(predict_['Year'] == 2020) & (predict_['Month'] == ) & (predict_['Day'] == 20),:]\n",
    "Day0120 = predict_.loc[(predict_['Month(t-1)'] == 2 ) & (predict_['Day(t-1)'] == 20),:]\n",
    "#real_power_day.set_index('time', inplace=False)\n",
    "Real=Day0120.set_index('Hour(t-1)', inplace=False)['1A Trina_power(t+1)']\n",
    "svm_pr=Day0120.set_index('Hour(t-1)', inplace=False)['SVM']\n",
    "bp_pr=Day0120.set_index('Hour(t-1)', inplace=False)['BP']\n",
    "dnn_pr=Day0120.set_index('Hour(t-1)', inplace=False)['DNN']\n",
    "lstm_pr=Day0120.set_index('Hour(t-1)', inplace=False)['LSTM']\n",
    "\n",
    "fig = plt.figure()\n",
    "plt.plot(Real,label='Real')\n",
    "plt.plot(svm_pr,label='SVM')\n",
    "plt.plot(bp_pr,label='BP')\n",
    "plt.plot(dnn_pr,label='DNN')\n",
    "plt.plot(lstm_pr,label='LSTM')\n",
    "\n",
    "plt.title('Prediction 2020-2-20')\n",
    "plt.ylabel('Power')\n",
    "plt.xlabel('Time')\n",
    "# plt.legend(['Train', 'Test'], loc='upper left')\n",
    "plt.legend()\n",
    "plt.savefig('../picture/2-20pred.jpg')\n",
    "#ax = fig.add_subplot(1,1,1)\n",
    "#ax.plot(real_power_day_)\n",
    "# real_power_day_.plot()\n",
    "#real_power_day_.set_axis(['00:15:00','06:15:00','12:15:00','18:15:00'])\n",
    "#real_power_day_"
   ]
  },
  {
   "cell_type": "markdown",
   "metadata": {},
   "source": [
    "# 2020 "
   ]
  },
  {
   "cell_type": "code",
   "execution_count": 230,
   "metadata": {},
   "outputs": [
    {
     "data": {
      "image/png": "[encoded data removed]",
      "text/plain": [
       "<Figure size 432x288 with 1 Axes>"
      ]
     },
     "metadata": {},
     "output_type": "display_data"
    }
   ],
   "source": [
    "# from scipy.interpolate import spline\n",
    "predict_[['Month(t-1)', 'Day(t-1)', 'Hour(t-1)', 'Minutes(t-1)']] = predict_[['Month(t-1)', 'Day(t-1)', 'Hour(t-1)', 'Minutes(t-1)']].astype(\"int\")\n",
    "\n",
    "# Day0120 = predict_.loc[(predict_['Year'] == 2020) & (predict_['Month'] == ) & (predict_['Day'] == 20),:]\n",
    "Day0120 = predict_.loc[(predict_['Month(t-1)'] == 3 ) & (predict_['Day(t-1)'] == 25),:]\n",
    "#real_power_day.set_index('time', inplace=False)\n",
    "Real=Day0120.set_index('Hour(t-1)', inplace=False)['1A Trina_power(t+1)']\n",
    "svm_pr=Day0120.set_index('Hour(t-1)', inplace=False)['SVM']\n",
    "bp_pr=Day0120.set_index('Hour(t-1)', inplace=False)['BP']\n",
    "dnn_pr=Day0120.set_index('Hour(t-1)', inplace=False)['DNN']\n",
    "lstm_pr=Day0120.set_index('Hour(t-1)', inplace=False)['LSTM']\n",
    "\n",
    "fig = plt.figure()\n",
    "plt.plot(Real,label='Real')\n",
    "plt.plot(svm_pr,label='SVM')\n",
    "plt.plot(bp_pr,label='BP')\n",
    "plt.plot(dnn_pr,label='DNN')\n",
    "plt.plot(lstm_pr,label='LSTM')\n",
    "\n",
    "plt.title('Prediction 2020-3-25')\n",
    "plt.ylabel('Power')\n",
    "plt.xlabel('Time')\n",
    "# plt.legend(['Train', 'Test'], loc='upper left')\n",
    "plt.legend()\n",
    "plt.savefig('../picture/3-25pred.jpg')\n",
    "#ax = fig.add_subplot(1,1,1)\n",
    "#ax.plot(real_power_day_)\n",
    "# real_power_day_.plot()\n",
    "#real_power_day_.set_axis(['00:15:00','06:15:00','12:15:00','18:15:00'])\n",
    "#real_power_day_"
   ]
  },
  {
   "cell_type": "code",
   "execution_count": null,
   "metadata": {},
   "outputs": [],
   "source": []
  },
  {
   "cell_type": "code",
   "execution_count": null,
   "metadata": {},
   "outputs": [],
   "source": []
  }
 ],
 "metadata": {
  "kernelspec": {
   "display_name": "Python 3",
   "language": "python",
   "name": "python3"
  },
  "language_info": {
   "codemirror_mode": {
    "name": "ipython",
    "version": 3
   },
   "file_extension": ".py",
   "mimetype": "text/x-python",
   "name": "python",
   "nbconvert_exporter": "python",
   "pygments_lexer": "ipython3",
   "version": "3.6.5"
  }
 },
 "nbformat": 4,
 "nbformat_minor": 2
}
