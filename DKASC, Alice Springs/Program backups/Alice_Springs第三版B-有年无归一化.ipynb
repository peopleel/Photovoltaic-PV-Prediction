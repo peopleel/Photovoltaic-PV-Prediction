{
 "cells": [
  {
   "cell_type": "markdown",
   "metadata": {},
   "source": [
    "# DKASC_爱丽丝泉_光伏预测"
   ]
  },
  {
   "cell_type": "code",
   "execution_count": 1,
   "metadata": {},
   "outputs": [
    {
     "name": "stderr",
     "output_type": "stream",
     "text": [
      "C:\\ProgramData\\Anaconda3\\lib\\site-packages\\tensorflow\\python\\framework\\dtypes.py:469: FutureWarning: Passing (type, 1) or '1type' as a synonym of type is deprecated; in a future version of numpy, it will be understood as (type, (1,)) / '(1,)type'.\n",
      "  _np_qint8 = np.dtype([(\"qint8\", np.int8, 1)])\n",
      "C:\\ProgramData\\Anaconda3\\lib\\site-packages\\tensorflow\\python\\framework\\dtypes.py:470: FutureWarning: Passing (type, 1) or '1type' as a synonym of type is deprecated; in a future version of numpy, it will be understood as (type, (1,)) / '(1,)type'.\n",
      "  _np_quint8 = np.dtype([(\"quint8\", np.uint8, 1)])\n",
      "C:\\ProgramData\\Anaconda3\\lib\\site-packages\\tensorflow\\python\\framework\\dtypes.py:471: FutureWarning: Passing (type, 1) or '1type' as a synonym of type is deprecated; in a future version of numpy, it will be understood as (type, (1,)) / '(1,)type'.\n",
      "  _np_qint16 = np.dtype([(\"qint16\", np.int16, 1)])\n",
      "C:\\ProgramData\\Anaconda3\\lib\\site-packages\\tensorflow\\python\\framework\\dtypes.py:472: FutureWarning: Passing (type, 1) or '1type' as a synonym of type is deprecated; in a future version of numpy, it will be understood as (type, (1,)) / '(1,)type'.\n",
      "  _np_quint16 = np.dtype([(\"quint16\", np.uint16, 1)])\n",
      "C:\\ProgramData\\Anaconda3\\lib\\site-packages\\tensorflow\\python\\framework\\dtypes.py:473: FutureWarning: Passing (type, 1) or '1type' as a synonym of type is deprecated; in a future version of numpy, it will be understood as (type, (1,)) / '(1,)type'.\n",
      "  _np_qint32 = np.dtype([(\"qint32\", np.int32, 1)])\n",
      "C:\\ProgramData\\Anaconda3\\lib\\site-packages\\tensorflow\\python\\framework\\dtypes.py:476: FutureWarning: Passing (type, 1) or '1type' as a synonym of type is deprecated; in a future version of numpy, it will be understood as (type, (1,)) / '(1,)type'.\n",
      "  np_resource = np.dtype([(\"resource\", np.ubyte, 1)])\n",
      "C:\\ProgramData\\Anaconda3\\lib\\site-packages\\h5py\\__init__.py:36: FutureWarning: Conversion of the second argument of issubdtype from `float` to `np.floating` is deprecated. In future, it will be treated as `np.float64 == np.dtype(float).type`.\n",
      "  from ._conv import register_converters as _register_converters\n",
      "Using TensorFlow backend.\n"
     ]
    }
   ],
   "source": [
    "import os\n",
    "import random\n",
    "import pandas as pd\n",
    "import numpy as np\n",
    "import matplotlib.pyplot as plt\n",
    "import math\n",
    "import tensorflow as tf\n",
    "import keras\n",
    "import catboost as cb\n",
    "from pandas import read_csv\n",
    "from math import sqrt\n",
    "from numpy import concatenate\n",
    "from keras.models import Sequential\n",
    "from keras.layers import Dense\n",
    "from keras.layers import Dropout\n",
    "from keras.layers import LSTM\n",
    "from sklearn.preprocessing import MinMaxScaler\n",
    "from sklearn.metrics import mean_squared_error\n",
    "from keras.layers.core import Dense, Activation, Dropout\n",
    "%matplotlib inline"
   ]
  },
  {
   "cell_type": "code",
   "execution_count": 2,
   "metadata": {},
   "outputs": [],
   "source": [
    "import os\n",
    "os.environ[\"CUDA_VISIBLE_DEVICES\"] = \"0\"\n",
    "config = tf.ConfigProto(allow_soft_placement = True)\n",
    "gpu_options = tf.GPUOptions(per_process_gpu_memory_fraction = 0.5)\n",
    "config.gpu_options.allow_growth = True\n",
    "sess0 = tf.InteractiveSession(config = config)"
   ]
  },
  {
   "cell_type": "code",
   "execution_count": 3,
   "metadata": {},
   "outputs": [
    {
     "name": "stdout",
     "output_type": "stream",
     "text": [
      "E:\\graduation project\\DKASC, Alice Springs\n"
     ]
    }
   ],
   "source": [
    "print(os.getcwd()) # 打印当前工作目录"
   ]
  },
  {
   "cell_type": "code",
   "execution_count": 4,
   "metadata": {},
   "outputs": [
    {
     "data": {
      "text/plain": [
       "['.ipynb_checkpoints',\n",
       " '101-Site_DKA-WeatherStation',\n",
       " '96-Site_DKA-MasterMeter1',\n",
       " 'Alice_Springs_2016-2020',\n",
       " 'Alice_Springs第三版A.ipynb',\n",
       " 'Alice_Springs第三版B-LSTM.ipynb',\n",
       " 'Alice_Springs第三版B-NN无归一化.ipynb',\n",
       " 'Alice_Springs第三版B.ipynb',\n",
       " 'Alice_Springs第三版备份.ipynb',\n",
       " 'Dataset',\n",
       " 'Predict',\n",
       " 'Program backups',\n",
       " 'temp',\n",
       " '笔记.ipynb']"
      ]
     },
     "execution_count": 4,
     "metadata": {},
     "output_type": "execute_result"
    }
   ],
   "source": [
    "os.listdir(os.getcwd())"
   ]
  },
  {
   "cell_type": "code",
   "execution_count": 5,
   "metadata": {},
   "outputs": [],
   "source": [
    "os.chdir(\"./Dataset/\")"
   ]
  },
  {
   "cell_type": "code",
   "execution_count": 6,
   "metadata": {},
   "outputs": [
    {
     "data": {
      "text/plain": [
       "['testdata.csv',\n",
       " 'test_1A.csv',\n",
       " 'traindata.csv',\n",
       " 'train_1A.csv',\n",
       " '测试集8个站点.csv',\n",
       " '训练集8个站点.csv']"
      ]
     },
     "execution_count": 6,
     "metadata": {},
     "output_type": "execute_result"
    }
   ],
   "source": [
    "os.listdir()"
   ]
  },
  {
   "cell_type": "code",
   "execution_count": 7,
   "metadata": {},
   "outputs": [],
   "source": [
    "train = pd.read_csv('train_1A.csv')\n",
    "test = pd.read_csv('test_1A.csv')"
   ]
  },
  {
   "cell_type": "code",
   "execution_count": 8,
   "metadata": {},
   "outputs": [
    {
     "name": "stdout",
     "output_type": "stream",
     "text": [
      "(141428, 14)\n",
      "(26091, 14)\n"
     ]
    }
   ],
   "source": [
    "#查看输入数据维度\n",
    "print(train.shape)\n",
    "print(test.shape)"
   ]
  },
  {
   "cell_type": "code",
   "execution_count": 9,
   "metadata": {
    "scrolled": true
   },
   "outputs": [
    {
     "data": {
      "text/html": [
       "<div>\n",
       "<style scoped>\n",
       "    .dataframe tbody tr th:only-of-type {\n",
       "        vertical-align: middle;\n",
       "    }\n",
       "\n",
       "    .dataframe tbody tr th {\n",
       "        vertical-align: top;\n",
       "    }\n",
       "\n",
       "    .dataframe thead th {\n",
       "        text-align: right;\n",
       "    }\n",
       "</style>\n",
       "<table border=\"1\" class=\"dataframe\">\n",
       "  <thead>\n",
       "    <tr style=\"text-align: right;\">\n",
       "      <th></th>\n",
       "      <th>Year</th>\n",
       "      <th>Month</th>\n",
       "      <th>Day</th>\n",
       "      <th>Hour</th>\n",
       "      <th>Minutes</th>\n",
       "      <th>WTC</th>\n",
       "      <th>WRH</th>\n",
       "      <th>GHR</th>\n",
       "      <th>DHR</th>\n",
       "      <th>WD</th>\n",
       "      <th>WDR</th>\n",
       "      <th>RGT</th>\n",
       "      <th>RDT</th>\n",
       "      <th>1A Trina_power</th>\n",
       "    </tr>\n",
       "  </thead>\n",
       "  <tbody>\n",
       "    <tr>\n",
       "      <th>0</th>\n",
       "      <td>2018</td>\n",
       "      <td>1</td>\n",
       "      <td>19</td>\n",
       "      <td>18</td>\n",
       "      <td>30</td>\n",
       "      <td>26.243799</td>\n",
       "      <td>50.889774</td>\n",
       "      <td>71.416481</td>\n",
       "      <td>67.523544</td>\n",
       "      <td>302.882996</td>\n",
       "      <td>3.6</td>\n",
       "      <td>65.268631</td>\n",
       "      <td>59.278999</td>\n",
       "      <td>0.318600</td>\n",
       "    </tr>\n",
       "    <tr>\n",
       "      <th>1</th>\n",
       "      <td>2018</td>\n",
       "      <td>1</td>\n",
       "      <td>19</td>\n",
       "      <td>18</td>\n",
       "      <td>35</td>\n",
       "      <td>26.641783</td>\n",
       "      <td>49.539795</td>\n",
       "      <td>77.177094</td>\n",
       "      <td>71.776718</td>\n",
       "      <td>246.312622</td>\n",
       "      <td>3.6</td>\n",
       "      <td>72.546944</td>\n",
       "      <td>63.134579</td>\n",
       "      <td>0.328800</td>\n",
       "    </tr>\n",
       "    <tr>\n",
       "      <th>2</th>\n",
       "      <td>2018</td>\n",
       "      <td>1</td>\n",
       "      <td>19</td>\n",
       "      <td>18</td>\n",
       "      <td>40</td>\n",
       "      <td>26.654078</td>\n",
       "      <td>53.414265</td>\n",
       "      <td>78.373489</td>\n",
       "      <td>69.008316</td>\n",
       "      <td>305.089630</td>\n",
       "      <td>3.6</td>\n",
       "      <td>76.711456</td>\n",
       "      <td>65.430550</td>\n",
       "      <td>0.334200</td>\n",
       "    </tr>\n",
       "    <tr>\n",
       "      <th>3</th>\n",
       "      <td>2018</td>\n",
       "      <td>1</td>\n",
       "      <td>19</td>\n",
       "      <td>18</td>\n",
       "      <td>45</td>\n",
       "      <td>26.439108</td>\n",
       "      <td>55.582245</td>\n",
       "      <td>78.022881</td>\n",
       "      <td>67.560181</td>\n",
       "      <td>259.662933</td>\n",
       "      <td>3.6</td>\n",
       "      <td>80.445709</td>\n",
       "      <td>66.812790</td>\n",
       "      <td>0.333133</td>\n",
       "    </tr>\n",
       "    <tr>\n",
       "      <th>4</th>\n",
       "      <td>2018</td>\n",
       "      <td>1</td>\n",
       "      <td>19</td>\n",
       "      <td>18</td>\n",
       "      <td>50</td>\n",
       "      <td>26.479477</td>\n",
       "      <td>56.173820</td>\n",
       "      <td>82.106972</td>\n",
       "      <td>73.004196</td>\n",
       "      <td>186.634705</td>\n",
       "      <td>3.6</td>\n",
       "      <td>83.035919</td>\n",
       "      <td>69.054459</td>\n",
       "      <td>0.332400</td>\n",
       "    </tr>\n",
       "  </tbody>\n",
       "</table>\n",
       "</div>"
      ],
      "text/plain": [
       "   Year  Month  Day  Hour  Minutes        WTC        WRH        GHR  \\\n",
       "0  2018      1   19    18       30  26.243799  50.889774  71.416481   \n",
       "1  2018      1   19    18       35  26.641783  49.539795  77.177094   \n",
       "2  2018      1   19    18       40  26.654078  53.414265  78.373489   \n",
       "3  2018      1   19    18       45  26.439108  55.582245  78.022881   \n",
       "4  2018      1   19    18       50  26.479477  56.173820  82.106972   \n",
       "\n",
       "         DHR          WD  WDR        RGT        RDT  1A Trina_power  \n",
       "0  67.523544  302.882996  3.6  65.268631  59.278999        0.318600  \n",
       "1  71.776718  246.312622  3.6  72.546944  63.134579        0.328800  \n",
       "2  69.008316  305.089630  3.6  76.711456  65.430550        0.334200  \n",
       "3  67.560181  259.662933  3.6  80.445709  66.812790        0.333133  \n",
       "4  73.004196  186.634705  3.6  83.035919  69.054459        0.332400  "
      ]
     },
     "execution_count": 9,
     "metadata": {},
     "output_type": "execute_result"
    }
   ],
   "source": [
    "train.head(5)"
   ]
  },
  {
   "cell_type": "code",
   "execution_count": 10,
   "metadata": {},
   "outputs": [
    {
     "data": {
      "text/html": [
       "<div>\n",
       "<style scoped>\n",
       "    .dataframe tbody tr th:only-of-type {\n",
       "        vertical-align: middle;\n",
       "    }\n",
       "\n",
       "    .dataframe tbody tr th {\n",
       "        vertical-align: top;\n",
       "    }\n",
       "\n",
       "    .dataframe thead th {\n",
       "        text-align: right;\n",
       "    }\n",
       "</style>\n",
       "<table border=\"1\" class=\"dataframe\">\n",
       "  <thead>\n",
       "    <tr style=\"text-align: right;\">\n",
       "      <th></th>\n",
       "      <th>Year</th>\n",
       "      <th>Month</th>\n",
       "      <th>Day</th>\n",
       "      <th>Hour</th>\n",
       "      <th>Minutes</th>\n",
       "      <th>WTC</th>\n",
       "      <th>WRH</th>\n",
       "      <th>GHR</th>\n",
       "      <th>DHR</th>\n",
       "      <th>WD</th>\n",
       "      <th>WDR</th>\n",
       "      <th>RGT</th>\n",
       "      <th>RDT</th>\n",
       "      <th>1A Trina_power</th>\n",
       "    </tr>\n",
       "  </thead>\n",
       "  <tbody>\n",
       "    <tr>\n",
       "      <th>0</th>\n",
       "      <td>2020</td>\n",
       "      <td>1</td>\n",
       "      <td>1</td>\n",
       "      <td>0</td>\n",
       "      <td>0</td>\n",
       "      <td>29.685360</td>\n",
       "      <td>21.727171</td>\n",
       "      <td>1.360221</td>\n",
       "      <td>1.191879</td>\n",
       "      <td>33.216167</td>\n",
       "      <td>0.0</td>\n",
       "      <td>2.958199</td>\n",
       "      <td>0.524153</td>\n",
       "      <td>0.0</td>\n",
       "    </tr>\n",
       "    <tr>\n",
       "      <th>1</th>\n",
       "      <td>2020</td>\n",
       "      <td>1</td>\n",
       "      <td>1</td>\n",
       "      <td>0</td>\n",
       "      <td>5</td>\n",
       "      <td>29.559967</td>\n",
       "      <td>21.878902</td>\n",
       "      <td>1.532208</td>\n",
       "      <td>1.460944</td>\n",
       "      <td>33.254341</td>\n",
       "      <td>0.0</td>\n",
       "      <td>3.288470</td>\n",
       "      <td>0.764565</td>\n",
       "      <td>0.0</td>\n",
       "    </tr>\n",
       "    <tr>\n",
       "      <th>2</th>\n",
       "      <td>2020</td>\n",
       "      <td>1</td>\n",
       "      <td>1</td>\n",
       "      <td>0</td>\n",
       "      <td>10</td>\n",
       "      <td>29.530006</td>\n",
       "      <td>21.859453</td>\n",
       "      <td>1.186835</td>\n",
       "      <td>1.118219</td>\n",
       "      <td>33.302616</td>\n",
       "      <td>0.0</td>\n",
       "      <td>3.253541</td>\n",
       "      <td>0.725652</td>\n",
       "      <td>0.0</td>\n",
       "    </tr>\n",
       "    <tr>\n",
       "      <th>3</th>\n",
       "      <td>2020</td>\n",
       "      <td>1</td>\n",
       "      <td>1</td>\n",
       "      <td>0</td>\n",
       "      <td>15</td>\n",
       "      <td>29.474438</td>\n",
       "      <td>21.897285</td>\n",
       "      <td>1.017349</td>\n",
       "      <td>0.824890</td>\n",
       "      <td>33.337837</td>\n",
       "      <td>0.0</td>\n",
       "      <td>3.260514</td>\n",
       "      <td>0.706365</td>\n",
       "      <td>0.0</td>\n",
       "    </tr>\n",
       "    <tr>\n",
       "      <th>4</th>\n",
       "      <td>2020</td>\n",
       "      <td>1</td>\n",
       "      <td>1</td>\n",
       "      <td>0</td>\n",
       "      <td>20</td>\n",
       "      <td>29.365288</td>\n",
       "      <td>22.085625</td>\n",
       "      <td>1.323369</td>\n",
       "      <td>1.175776</td>\n",
       "      <td>33.375069</td>\n",
       "      <td>0.0</td>\n",
       "      <td>3.148183</td>\n",
       "      <td>0.694154</td>\n",
       "      <td>0.0</td>\n",
       "    </tr>\n",
       "  </tbody>\n",
       "</table>\n",
       "</div>"
      ],
      "text/plain": [
       "   Year  Month  Day  Hour  Minutes        WTC        WRH       GHR       DHR  \\\n",
       "0  2020      1    1     0        0  29.685360  21.727171  1.360221  1.191879   \n",
       "1  2020      1    1     0        5  29.559967  21.878902  1.532208  1.460944   \n",
       "2  2020      1    1     0       10  29.530006  21.859453  1.186835  1.118219   \n",
       "3  2020      1    1     0       15  29.474438  21.897285  1.017349  0.824890   \n",
       "4  2020      1    1     0       20  29.365288  22.085625  1.323369  1.175776   \n",
       "\n",
       "          WD  WDR       RGT       RDT  1A Trina_power  \n",
       "0  33.216167  0.0  2.958199  0.524153             0.0  \n",
       "1  33.254341  0.0  3.288470  0.764565             0.0  \n",
       "2  33.302616  0.0  3.253541  0.725652             0.0  \n",
       "3  33.337837  0.0  3.260514  0.706365             0.0  \n",
       "4  33.375069  0.0  3.148183  0.694154             0.0  "
      ]
     },
     "execution_count": 10,
     "metadata": {},
     "output_type": "execute_result"
    }
   ],
   "source": [
    "test.head(5)"
   ]
  },
  {
   "cell_type": "markdown",
   "metadata": {},
   "source": [
    "# 数据预处理训练集去异常值"
   ]
  },
  {
   "cell_type": "code",
   "execution_count": 11,
   "metadata": {},
   "outputs": [
    {
     "data": {
      "text/plain": [
       "Year              0\n",
       "Month             0\n",
       "Day               0\n",
       "Hour              0\n",
       "Minutes           0\n",
       "WTC               0\n",
       "WRH               0\n",
       "GHR               0\n",
       "DHR               0\n",
       "WD                0\n",
       "WDR               0\n",
       "RGT               0\n",
       "RDT               0\n",
       "1A Trina_power    0\n",
       "dtype: int64"
      ]
     },
     "execution_count": 11,
     "metadata": {},
     "output_type": "execute_result"
    }
   ],
   "source": [
    "#使用df.isnull().sum()来获得与行数None和NaN值。\n",
    "train.isnull().sum()"
   ]
  },
  {
   "cell_type": "code",
   "execution_count": 12,
   "metadata": {},
   "outputs": [
    {
     "data": {
      "text/plain": [
       "Year              0\n",
       "Month             0\n",
       "Day               0\n",
       "Hour              0\n",
       "Minutes           0\n",
       "WTC               0\n",
       "WRH               0\n",
       "GHR               0\n",
       "DHR               0\n",
       "WD                0\n",
       "WDR               0\n",
       "RGT               0\n",
       "RDT               0\n",
       "1A Trina_power    0\n",
       "dtype: int64"
      ]
     },
     "execution_count": 12,
     "metadata": {},
     "output_type": "execute_result"
    }
   ],
   "source": [
    "test.isnull().sum()"
   ]
  },
  {
   "cell_type": "code",
   "execution_count": 13,
   "metadata": {},
   "outputs": [],
   "source": [
    "# #训练集去掉全是空值的行和列    #axis=0, how='any', thresh=None, subset=None, inplace=False)\n",
    "# # detectioncolumns=['WTC', 'WRH', 'GHR', 'DHR', 'WD', 'WDR', 'RGT', 'RDT']\n",
    "# # for i in detectioncolumns:\n",
    "# train.dropna(axis=\"index\",how='any' , inplace=True)  #删除掉全是空值的行\n",
    "# # train.dropna(axis=\"columns\", how='all', inplace=True)  #删除掉全是空值的列\n",
    "\n",
    "\n",
    "# test.dropna(axis=\"index\", how='any', inplace=True)  #删除掉全是空值的行\n",
    "# # test.dropna(axis=\"columns\", how='all', inplace=True)  #删除掉全是空值的列"
   ]
  },
  {
   "cell_type": "code",
   "execution_count": 14,
   "metadata": {},
   "outputs": [],
   "source": [
    "# #填补缺失值为均值\n",
    "# #train.ffill({\"RGT\":train['RGT'].mean()})\n",
    "# detectioncolumns=['WTC', 'WRH', 'GHR', 'DHR', 'WD', 'WDR', 'RGT', 'RDT']\n",
    "# for i in detectioncolumns:\n",
    "#     replace_NA=train[i].mean()\n",
    "#     train[i].fillna(replace_NA,inplace=True)\n",
    "# #去除测试集空值\n",
    "# for i in detectioncolumns:\n",
    "#     replace_NA=test[i].mean()\n",
    "#     test[i].fillna(replace_NA,inplace=True)\n"
   ]
  },
  {
   "cell_type": "code",
   "execution_count": 15,
   "metadata": {},
   "outputs": [
    {
     "data": {
      "text/plain": [
       "Index(['Year', 'Month', 'Day', 'Hour', 'Minutes', 'WTC', 'WRH', 'GHR', 'DHR',\n",
       "       'WD', 'WDR', 'RGT', 'RDT', '1A Trina_power'],\n",
       "      dtype='object')"
      ]
     },
     "execution_count": 15,
     "metadata": {},
     "output_type": "execute_result"
    }
   ],
   "source": [
    "train.columns"
   ]
  },
  {
   "cell_type": "code",
   "execution_count": 16,
   "metadata": {},
   "outputs": [
    {
     "data": {
      "text/plain": [
       "Index(['Year', 'Month', 'Day', 'Hour', 'Minutes', 'WTC', 'WRH', 'GHR', 'DHR',\n",
       "       'WD', 'WDR', 'RGT', 'RDT', '1A Trina_power'],\n",
       "      dtype='object')"
      ]
     },
     "execution_count": 16,
     "metadata": {},
     "output_type": "execute_result"
    }
   ],
   "source": [
    "test.columns"
   ]
  },
  {
   "cell_type": "code",
   "execution_count": 17,
   "metadata": {},
   "outputs": [
    {
     "data": {
      "text/html": [
       "<div>\n",
       "<style scoped>\n",
       "    .dataframe tbody tr th:only-of-type {\n",
       "        vertical-align: middle;\n",
       "    }\n",
       "\n",
       "    .dataframe tbody tr th {\n",
       "        vertical-align: top;\n",
       "    }\n",
       "\n",
       "    .dataframe thead th {\n",
       "        text-align: right;\n",
       "    }\n",
       "</style>\n",
       "<table border=\"1\" class=\"dataframe\">\n",
       "  <thead>\n",
       "    <tr style=\"text-align: right;\">\n",
       "      <th></th>\n",
       "      <th>Year</th>\n",
       "      <th>Month</th>\n",
       "      <th>Day</th>\n",
       "      <th>Hour</th>\n",
       "      <th>Minutes</th>\n",
       "      <th>WTC</th>\n",
       "      <th>WRH</th>\n",
       "      <th>GHR</th>\n",
       "      <th>DHR</th>\n",
       "      <th>WD</th>\n",
       "      <th>WDR</th>\n",
       "      <th>RGT</th>\n",
       "      <th>RDT</th>\n",
       "      <th>1A Trina_power</th>\n",
       "    </tr>\n",
       "  </thead>\n",
       "  <tbody>\n",
       "    <tr>\n",
       "      <th>0</th>\n",
       "      <td>2018</td>\n",
       "      <td>1</td>\n",
       "      <td>19</td>\n",
       "      <td>18</td>\n",
       "      <td>30</td>\n",
       "      <td>26.243799</td>\n",
       "      <td>50.889774</td>\n",
       "      <td>71.416481</td>\n",
       "      <td>67.523544</td>\n",
       "      <td>302.882996</td>\n",
       "      <td>3.6</td>\n",
       "      <td>65.268631</td>\n",
       "      <td>59.278999</td>\n",
       "      <td>0.318600</td>\n",
       "    </tr>\n",
       "    <tr>\n",
       "      <th>1</th>\n",
       "      <td>2018</td>\n",
       "      <td>1</td>\n",
       "      <td>19</td>\n",
       "      <td>18</td>\n",
       "      <td>35</td>\n",
       "      <td>26.641783</td>\n",
       "      <td>49.539795</td>\n",
       "      <td>77.177094</td>\n",
       "      <td>71.776718</td>\n",
       "      <td>246.312622</td>\n",
       "      <td>3.6</td>\n",
       "      <td>72.546944</td>\n",
       "      <td>63.134579</td>\n",
       "      <td>0.328800</td>\n",
       "    </tr>\n",
       "    <tr>\n",
       "      <th>2</th>\n",
       "      <td>2018</td>\n",
       "      <td>1</td>\n",
       "      <td>19</td>\n",
       "      <td>18</td>\n",
       "      <td>40</td>\n",
       "      <td>26.654078</td>\n",
       "      <td>53.414265</td>\n",
       "      <td>78.373489</td>\n",
       "      <td>69.008316</td>\n",
       "      <td>305.089630</td>\n",
       "      <td>3.6</td>\n",
       "      <td>76.711456</td>\n",
       "      <td>65.430550</td>\n",
       "      <td>0.334200</td>\n",
       "    </tr>\n",
       "    <tr>\n",
       "      <th>3</th>\n",
       "      <td>2018</td>\n",
       "      <td>1</td>\n",
       "      <td>19</td>\n",
       "      <td>18</td>\n",
       "      <td>45</td>\n",
       "      <td>26.439108</td>\n",
       "      <td>55.582245</td>\n",
       "      <td>78.022881</td>\n",
       "      <td>67.560181</td>\n",
       "      <td>259.662933</td>\n",
       "      <td>3.6</td>\n",
       "      <td>80.445709</td>\n",
       "      <td>66.812790</td>\n",
       "      <td>0.333133</td>\n",
       "    </tr>\n",
       "    <tr>\n",
       "      <th>4</th>\n",
       "      <td>2018</td>\n",
       "      <td>1</td>\n",
       "      <td>19</td>\n",
       "      <td>18</td>\n",
       "      <td>50</td>\n",
       "      <td>26.479477</td>\n",
       "      <td>56.173820</td>\n",
       "      <td>82.106972</td>\n",
       "      <td>73.004196</td>\n",
       "      <td>186.634705</td>\n",
       "      <td>3.6</td>\n",
       "      <td>83.035919</td>\n",
       "      <td>69.054459</td>\n",
       "      <td>0.332400</td>\n",
       "    </tr>\n",
       "  </tbody>\n",
       "</table>\n",
       "</div>"
      ],
      "text/plain": [
       "   Year  Month  Day  Hour  Minutes        WTC        WRH        GHR  \\\n",
       "0  2018      1   19    18       30  26.243799  50.889774  71.416481   \n",
       "1  2018      1   19    18       35  26.641783  49.539795  77.177094   \n",
       "2  2018      1   19    18       40  26.654078  53.414265  78.373489   \n",
       "3  2018      1   19    18       45  26.439108  55.582245  78.022881   \n",
       "4  2018      1   19    18       50  26.479477  56.173820  82.106972   \n",
       "\n",
       "         DHR          WD  WDR        RGT        RDT  1A Trina_power  \n",
       "0  67.523544  302.882996  3.6  65.268631  59.278999        0.318600  \n",
       "1  71.776718  246.312622  3.6  72.546944  63.134579        0.328800  \n",
       "2  69.008316  305.089630  3.6  76.711456  65.430550        0.334200  \n",
       "3  67.560181  259.662933  3.6  80.445709  66.812790        0.333133  \n",
       "4  73.004196  186.634705  3.6  83.035919  69.054459        0.332400  "
      ]
     },
     "execution_count": 17,
     "metadata": {},
     "output_type": "execute_result"
    }
   ],
   "source": [
    "train.head()"
   ]
  },
  {
   "cell_type": "code",
   "execution_count": 18,
   "metadata": {},
   "outputs": [
    {
     "data": {
      "text/html": [
       "<div>\n",
       "<style scoped>\n",
       "    .dataframe tbody tr th:only-of-type {\n",
       "        vertical-align: middle;\n",
       "    }\n",
       "\n",
       "    .dataframe tbody tr th {\n",
       "        vertical-align: top;\n",
       "    }\n",
       "\n",
       "    .dataframe thead th {\n",
       "        text-align: right;\n",
       "    }\n",
       "</style>\n",
       "<table border=\"1\" class=\"dataframe\">\n",
       "  <thead>\n",
       "    <tr style=\"text-align: right;\">\n",
       "      <th></th>\n",
       "      <th>Year</th>\n",
       "      <th>Month</th>\n",
       "      <th>Day</th>\n",
       "      <th>Hour</th>\n",
       "      <th>Minutes</th>\n",
       "      <th>WTC</th>\n",
       "      <th>WRH</th>\n",
       "      <th>GHR</th>\n",
       "      <th>DHR</th>\n",
       "      <th>WD</th>\n",
       "      <th>WDR</th>\n",
       "      <th>RGT</th>\n",
       "      <th>RDT</th>\n",
       "      <th>1A Trina_power</th>\n",
       "    </tr>\n",
       "  </thead>\n",
       "  <tbody>\n",
       "    <tr>\n",
       "      <th>0</th>\n",
       "      <td>2020</td>\n",
       "      <td>1</td>\n",
       "      <td>1</td>\n",
       "      <td>0</td>\n",
       "      <td>0</td>\n",
       "      <td>29.685360</td>\n",
       "      <td>21.727171</td>\n",
       "      <td>1.360221</td>\n",
       "      <td>1.191879</td>\n",
       "      <td>33.216167</td>\n",
       "      <td>0.0</td>\n",
       "      <td>2.958199</td>\n",
       "      <td>0.524153</td>\n",
       "      <td>0.0</td>\n",
       "    </tr>\n",
       "    <tr>\n",
       "      <th>1</th>\n",
       "      <td>2020</td>\n",
       "      <td>1</td>\n",
       "      <td>1</td>\n",
       "      <td>0</td>\n",
       "      <td>5</td>\n",
       "      <td>29.559967</td>\n",
       "      <td>21.878902</td>\n",
       "      <td>1.532208</td>\n",
       "      <td>1.460944</td>\n",
       "      <td>33.254341</td>\n",
       "      <td>0.0</td>\n",
       "      <td>3.288470</td>\n",
       "      <td>0.764565</td>\n",
       "      <td>0.0</td>\n",
       "    </tr>\n",
       "    <tr>\n",
       "      <th>2</th>\n",
       "      <td>2020</td>\n",
       "      <td>1</td>\n",
       "      <td>1</td>\n",
       "      <td>0</td>\n",
       "      <td>10</td>\n",
       "      <td>29.530006</td>\n",
       "      <td>21.859453</td>\n",
       "      <td>1.186835</td>\n",
       "      <td>1.118219</td>\n",
       "      <td>33.302616</td>\n",
       "      <td>0.0</td>\n",
       "      <td>3.253541</td>\n",
       "      <td>0.725652</td>\n",
       "      <td>0.0</td>\n",
       "    </tr>\n",
       "    <tr>\n",
       "      <th>3</th>\n",
       "      <td>2020</td>\n",
       "      <td>1</td>\n",
       "      <td>1</td>\n",
       "      <td>0</td>\n",
       "      <td>15</td>\n",
       "      <td>29.474438</td>\n",
       "      <td>21.897285</td>\n",
       "      <td>1.017349</td>\n",
       "      <td>0.824890</td>\n",
       "      <td>33.337837</td>\n",
       "      <td>0.0</td>\n",
       "      <td>3.260514</td>\n",
       "      <td>0.706365</td>\n",
       "      <td>0.0</td>\n",
       "    </tr>\n",
       "    <tr>\n",
       "      <th>4</th>\n",
       "      <td>2020</td>\n",
       "      <td>1</td>\n",
       "      <td>1</td>\n",
       "      <td>0</td>\n",
       "      <td>20</td>\n",
       "      <td>29.365288</td>\n",
       "      <td>22.085625</td>\n",
       "      <td>1.323369</td>\n",
       "      <td>1.175776</td>\n",
       "      <td>33.375069</td>\n",
       "      <td>0.0</td>\n",
       "      <td>3.148183</td>\n",
       "      <td>0.694154</td>\n",
       "      <td>0.0</td>\n",
       "    </tr>\n",
       "  </tbody>\n",
       "</table>\n",
       "</div>"
      ],
      "text/plain": [
       "   Year  Month  Day  Hour  Minutes        WTC        WRH       GHR       DHR  \\\n",
       "0  2020      1    1     0        0  29.685360  21.727171  1.360221  1.191879   \n",
       "1  2020      1    1     0        5  29.559967  21.878902  1.532208  1.460944   \n",
       "2  2020      1    1     0       10  29.530006  21.859453  1.186835  1.118219   \n",
       "3  2020      1    1     0       15  29.474438  21.897285  1.017349  0.824890   \n",
       "4  2020      1    1     0       20  29.365288  22.085625  1.323369  1.175776   \n",
       "\n",
       "          WD  WDR       RGT       RDT  1A Trina_power  \n",
       "0  33.216167  0.0  2.958199  0.524153             0.0  \n",
       "1  33.254341  0.0  3.288470  0.764565             0.0  \n",
       "2  33.302616  0.0  3.253541  0.725652             0.0  \n",
       "3  33.337837  0.0  3.260514  0.706365             0.0  \n",
       "4  33.375069  0.0  3.148183  0.694154             0.0  "
      ]
     },
     "execution_count": 18,
     "metadata": {},
     "output_type": "execute_result"
    }
   ],
   "source": [
    "test.head()"
   ]
  },
  {
   "cell_type": "markdown",
   "metadata": {},
   "source": [
    "# keras模型训练"
   ]
  },
  {
   "cell_type": "markdown",
   "metadata": {},
   "source": [
    "准备数据"
   ]
  },
  {
   "cell_type": "code",
   "execution_count": 19,
   "metadata": {
    "scrolled": true
   },
   "outputs": [
    {
     "name": "stdout",
     "output_type": "stream",
     "text": [
      "查看训练集\n",
      "    Year  Month  Day  Hour  Minutes        WTC        WRH        GHR  \\\n",
      "0  2018      1   19    18       30  26.243799  50.889774  71.416481   \n",
      "1  2018      1   19    18       35  26.641783  49.539795  77.177094   \n",
      "2  2018      1   19    18       40  26.654078  53.414265  78.373489   \n",
      "3  2018      1   19    18       45  26.439108  55.582245  78.022881   \n",
      "4  2018      1   19    18       50  26.479477  56.173820  82.106972   \n",
      "\n",
      "         DHR          WD  WDR        RGT        RDT  1A Trina_power  \n",
      "0  67.523544  302.882996  3.6  65.268631  59.278999        0.318600  \n",
      "1  71.776718  246.312622  3.6  72.546944  63.134579        0.328800  \n",
      "2  69.008316  305.089630  3.6  76.711456  65.430550        0.334200  \n",
      "3  67.560181  259.662933  3.6  80.445709  66.812790        0.333133  \n",
      "4  73.004196  186.634705  3.6  83.035919  69.054459        0.332400  \n",
      "查看测试集\n",
      "    Year  Month  Day  Hour  Minutes        WTC        WRH       GHR       DHR  \\\n",
      "0  2020      1    1     0        0  29.685360  21.727171  1.360221  1.191879   \n",
      "1  2020      1    1     0        5  29.559967  21.878902  1.532208  1.460944   \n",
      "2  2020      1    1     0       10  29.530006  21.859453  1.186835  1.118219   \n",
      "3  2020      1    1     0       15  29.474438  21.897285  1.017349  0.824890   \n",
      "4  2020      1    1     0       20  29.365288  22.085625  1.323369  1.175776   \n",
      "\n",
      "          WD  WDR       RGT       RDT  1A Trina_power  \n",
      "0  33.216167  0.0  2.958199  0.524153             0.0  \n",
      "1  33.254341  0.0  3.288470  0.764565             0.0  \n",
      "2  33.302616  0.0  3.253541  0.725652             0.0  \n",
      "3  33.337837  0.0  3.260514  0.706365             0.0  \n",
      "4  33.375069  0.0  3.148183  0.694154             0.0  \n"
     ]
    }
   ],
   "source": [
    "train1=train[['Year','Month','Day', 'Hour',\n",
    "       'Minutes','WTC', 'WRH', 'GHR', 'DHR', 'WD', 'WDR', 'RGT', 'RDT', '1A Trina_power']]\n",
    "print(\"查看训练集\\n\",train1.head())\n",
    "test1=test[['Year','Month','Day', 'Hour',\n",
    "       'Minutes','WTC', 'WRH', 'GHR', 'DHR', 'WD', 'WDR', 'RGT', 'RDT', '1A Trina_power']]\n",
    "print(\"查看测试集\\n\",test.head())"
   ]
  },
  {
   "cell_type": "markdown",
   "metadata": {},
   "source": [
    "############################# 训练、测试数据 选择 ###################################"
   ]
  },
  {
   "cell_type": "code",
   "execution_count": null,
   "metadata": {},
   "outputs": [],
   "source": []
  },
  {
   "cell_type": "code",
   "execution_count": 20,
   "metadata": {},
   "outputs": [],
   "source": [
    "######## 训练集 ########\n",
    "train1 = train1.values\n",
    "train1 = train1.astype('float32')     # 将整型变为float\n",
    "\n",
    "######## 测试集 ########\n",
    "test1 = test1.values\n",
    "test1 = test1.astype('float32')# 将整型变为float\n",
    "\n",
    "##\n",
    "train1 = np.array(train1,dtype='float32')\n",
    "test1 = np.array(test1,dtype='float32')\n",
    "##\n",
    "\n",
    "# # 归一化训练集 #\n",
    "# scaler = MinMaxScaler(feature_range=(0, 1))# 数据处理，归一化至0~1之间\n",
    "# train1 = scaler.fit_transform(train1)\n",
    "\n",
    "\n",
    "# # 归一化测试集 #\n",
    "# scaler = MinMaxScaler(feature_range=(0, 1)) # 数据处理，归一化至0~1之间\n",
    "# test1 = scaler.fit_transform(test1)\n",
    "\n",
    "######随机选择，打乱顺序########\n",
    "inds = np.arange(train1.shape[0])\n",
    "random.shuffle(inds)\n",
    "train1_inds = inds[0:int(train1.shape[0]*0.8)]\n",
    "eval1_inds = inds[int(train1.shape[0]*0.8):train1.shape[0]]\n",
    "\n",
    "\n",
    "train_x, train_y = train1[train1_inds,:-1], train1[train1_inds,-1:]\n",
    "eval_x,eval_y = train1[eval1_inds,:-1], train1[eval1_inds,-1:]\n",
    "test_x, test_y = test1[:, :-1], test1[:,-1:]"
   ]
  },
  {
   "cell_type": "code",
   "execution_count": 21,
   "metadata": {
    "scrolled": true
   },
   "outputs": [
    {
     "name": "stdout",
     "output_type": "stream",
     "text": [
      "[[2.0180000e+03 1.0000000e+00 1.9000000e+01 ... 6.5268631e+01\n",
      "  5.9278999e+01 3.1860000e-01]\n",
      " [2.0180000e+03 1.0000000e+00 1.9000000e+01 ... 7.2546944e+01\n",
      "  6.3134579e+01 3.2879999e-01]\n",
      " [2.0180000e+03 1.0000000e+00 1.9000000e+01 ... 7.6711456e+01\n",
      "  6.5430550e+01 3.3420002e-01]\n",
      " ...\n",
      " [2.0190000e+03 1.2000000e+01 3.1000000e+01 ... 2.8704400e+00\n",
      "  4.9333772e-01 0.0000000e+00]\n",
      " [2.0190000e+03 1.2000000e+01 3.1000000e+01 ... 2.5691125e+00\n",
      "  3.4133789e-01 0.0000000e+00]\n",
      " [2.0190000e+03 1.2000000e+01 3.1000000e+01 ... 2.8219686e+00\n",
      "  3.9141777e-01 0.0000000e+00]]\n"
     ]
    }
   ],
   "source": [
    "print(train1)"
   ]
  },
  {
   "cell_type": "code",
   "execution_count": 22,
   "metadata": {},
   "outputs": [
    {
     "name": "stdout",
     "output_type": "stream",
     "text": [
      "[[2.01800000e+03 4.00000000e+00 2.00000000e+00 ... 0.00000000e+00\n",
      "  3.07938313e+00 3.80365133e-01]\n",
      " [2.01800000e+03 7.00000000e+00 8.00000000e+00 ... 0.00000000e+00\n",
      "  7.81773315e+02 7.22691803e+01]\n",
      " [2.01800000e+03 1.10000000e+01 2.50000000e+01 ... 0.00000000e+00\n",
      "  1.07929175e+03 8.41140976e+01]\n",
      " ...\n",
      " [2.01800000e+03 8.00000000e+00 5.00000000e+00 ... 0.00000000e+00\n",
      "  1.70627518e+02 3.29131279e+01]\n",
      " [2.01900000e+03 6.00000000e+00 1.30000000e+01 ... 0.00000000e+00\n",
      "  1.50494795e+01 1.02396736e+01]\n",
      " [2.01800000e+03 6.00000000e+00 1.40000000e+01 ... 0.00000000e+00\n",
      "  3.40048647e+00 1.63801885e+00]]\n"
     ]
    }
   ],
   "source": [
    "print(train_x)"
   ]
  },
  {
   "cell_type": "code",
   "execution_count": 23,
   "metadata": {},
   "outputs": [
    {
     "name": "stdout",
     "output_type": "stream",
     "text": [
      "[[0.       ]\n",
      " [3.1931999]\n",
      " [7.7440004]\n",
      " ...\n",
      " [2.4434333]\n",
      " [0.       ]\n",
      " [0.       ]]\n"
     ]
    }
   ],
   "source": [
    "print(train_y)"
   ]
  },
  {
   "cell_type": "code",
   "execution_count": 24,
   "metadata": {},
   "outputs": [
    {
     "name": "stdout",
     "output_type": "stream",
     "text": [
      "(113142, 13)\n",
      "(113142, 1)\n",
      "(26091, 13)\n",
      "(26091, 1)\n"
     ]
    }
   ],
   "source": [
    "print(train_x.shape)\n",
    "print(train_y.shape)\n",
    "print(test_x.shape)\n",
    "print(test_y.shape)"
   ]
  },
  {
   "cell_type": "markdown",
   "metadata": {},
   "source": [
    "# Model1"
   ]
  },
  {
   "cell_type": "code",
   "execution_count": 25,
   "metadata": {},
   "outputs": [
    {
     "name": "stdout",
     "output_type": "stream",
     "text": [
      "Train on 113142 samples, validate on 28286 samples\n",
      "Epoch 1/50\n",
      "113142/113142 [==============================] - 2s - loss: 1.6355 - mean_absolute_error: 0.7046 - val_loss: 0.8781 - val_mean_absolute_error: 0.5626\n",
      "Epoch 2/50\n",
      "113142/113142 [==============================] - 1s - loss: 0.7893 - mean_absolute_error: 0.4913 - val_loss: 0.7767 - val_mean_absolute_error: 0.5685\n",
      "Epoch 3/50\n",
      "113142/113142 [==============================] - 1s - loss: 0.7084 - mean_absolute_error: 0.4636 - val_loss: 0.6947 - val_mean_absolute_error: 0.4520\n",
      "Epoch 4/50\n",
      "113142/113142 [==============================] - 1s - loss: 0.6826 - mean_absolute_error: 0.4525 - val_loss: 0.8146 - val_mean_absolute_error: 0.4774\n",
      "Epoch 5/50\n",
      "113142/113142 [==============================] - 1s - loss: 0.6719 - mean_absolute_error: 0.4473 - val_loss: 0.6745 - val_mean_absolute_error: 0.4599\n",
      "Epoch 6/50\n",
      "113142/113142 [==============================] - 1s - loss: 0.6686 - mean_absolute_error: 0.4427 - val_loss: 0.6633 - val_mean_absolute_error: 0.4358\n",
      "Epoch 7/50\n",
      "113142/113142 [==============================] - 1s - loss: 0.6640 - mean_absolute_error: 0.4428 - val_loss: 0.6550 - val_mean_absolute_error: 0.4373\n",
      "Epoch 8/50\n",
      "113142/113142 [==============================] - 1s - loss: 0.6576 - mean_absolute_error: 0.4424 - val_loss: 0.7486 - val_mean_absolute_error: 0.4586\n",
      "Epoch 9/50\n",
      "113142/113142 [==============================] - 1s - loss: 0.6458 - mean_absolute_error: 0.4346 - val_loss: 0.6419 - val_mean_absolute_error: 0.4551\n",
      "Epoch 10/50\n",
      "113142/113142 [==============================] - 1s - loss: 0.6416 - mean_absolute_error: 0.4322 - val_loss: 0.6394 - val_mean_absolute_error: 0.4344\n",
      "Epoch 11/50\n",
      "113142/113142 [==============================] - 1s - loss: 0.6357 - mean_absolute_error: 0.4303 - val_loss: 0.7218 - val_mean_absolute_error: 0.4444\n",
      "Epoch 12/50\n",
      "113142/113142 [==============================] - 1s - loss: 0.6381 - mean_absolute_error: 0.4332 - val_loss: 0.7026 - val_mean_absolute_error: 0.4596\n",
      "Epoch 13/50\n",
      "113142/113142 [==============================] - 1s - loss: 0.6337 - mean_absolute_error: 0.4283 - val_loss: 0.6492 - val_mean_absolute_error: 0.4342\n",
      "Epoch 14/50\n",
      "113142/113142 [==============================] - 1s - loss: 0.6267 - mean_absolute_error: 0.4246 - val_loss: 0.6366 - val_mean_absolute_error: 0.4255\n",
      "Epoch 15/50\n",
      "113142/113142 [==============================] - 1s - loss: 0.6235 - mean_absolute_error: 0.4226 - val_loss: 0.6833 - val_mean_absolute_error: 0.4470\n",
      "Epoch 16/50\n",
      "113142/113142 [==============================] - 1s - loss: 0.6241 - mean_absolute_error: 0.4269 - val_loss: 0.7213 - val_mean_absolute_error: 0.4562\n",
      "Epoch 17/50\n",
      "113142/113142 [==============================] - 1s - loss: 0.6193 - mean_absolute_error: 0.4218 - val_loss: 0.6702 - val_mean_absolute_error: 0.4201\n",
      "Epoch 18/50\n",
      "113142/113142 [==============================] - 1s - loss: 0.6081 - mean_absolute_error: 0.4169 - val_loss: 0.6342 - val_mean_absolute_error: 0.4190\n",
      "Epoch 19/50\n",
      "113142/113142 [==============================] - 1s - loss: 0.6061 - mean_absolute_error: 0.4174 - val_loss: 0.6270 - val_mean_absolute_error: 0.4286\n",
      "Epoch 20/50\n",
      "113142/113142 [==============================] - 1s - loss: 0.6040 - mean_absolute_error: 0.4150 - val_loss: 0.5906 - val_mean_absolute_error: 0.4166\n",
      "Epoch 21/50\n",
      "113142/113142 [==============================] - 1s - loss: 0.5991 - mean_absolute_error: 0.4148 - val_loss: 0.6508 - val_mean_absolute_error: 0.4186\n",
      "Epoch 22/50\n",
      "113142/113142 [==============================] - 1s - loss: 0.5935 - mean_absolute_error: 0.4105 - val_loss: 0.6280 - val_mean_absolute_error: 0.4530\n",
      "Epoch 23/50\n",
      "113142/113142 [==============================] - 1s - loss: 0.5900 - mean_absolute_error: 0.4089 - val_loss: 0.6144 - val_mean_absolute_error: 0.4401\n",
      "Epoch 24/50\n",
      "113142/113142 [==============================] - 1s - loss: 0.5855 - mean_absolute_error: 0.4075 - val_loss: 0.6601 - val_mean_absolute_error: 0.3919\n",
      "Epoch 25/50\n",
      "113142/113142 [==============================] - 1s - loss: 0.5920 - mean_absolute_error: 0.4089 - val_loss: 0.6897 - val_mean_absolute_error: 0.4250\n",
      "Epoch 26/50\n",
      "113142/113142 [==============================] - 1s - loss: 0.5847 - mean_absolute_error: 0.4084 - val_loss: 0.6496 - val_mean_absolute_error: 0.4109\n",
      "Epoch 27/50\n",
      "113142/113142 [==============================] - 1s - loss: 0.5776 - mean_absolute_error: 0.4026 - val_loss: 0.5780 - val_mean_absolute_error: 0.4063\n",
      "Epoch 28/50\n",
      "113142/113142 [==============================] - 1s - loss: 0.5801 - mean_absolute_error: 0.4054 - val_loss: 0.6065 - val_mean_absolute_error: 0.4125\n",
      "Epoch 29/50\n",
      "113142/113142 [==============================] - 1s - loss: 0.5772 - mean_absolute_error: 0.4021 - val_loss: 0.6081 - val_mean_absolute_error: 0.4333\n",
      "Epoch 30/50\n",
      "113142/113142 [==============================] - 1s - loss: 0.5735 - mean_absolute_error: 0.3995 - val_loss: 0.6156 - val_mean_absolute_error: 0.4279\n",
      "Epoch 31/50\n",
      "113142/113142 [==============================] - 1s - loss: 0.5694 - mean_absolute_error: 0.3960 - val_loss: 0.6659 - val_mean_absolute_error: 0.3853\n",
      "Epoch 32/50\n",
      "113142/113142 [==============================] - 1s - loss: 0.5689 - mean_absolute_error: 0.3976 - val_loss: 0.7080 - val_mean_absolute_error: 0.4336\n",
      "Epoch 33/50\n",
      "113142/113142 [==============================] - 1s - loss: 0.5705 - mean_absolute_error: 0.3971 - val_loss: 0.6831 - val_mean_absolute_error: 0.3756\n",
      "Epoch 34/50\n",
      "113142/113142 [==============================] - 1s - loss: 0.5704 - mean_absolute_error: 0.3941 - val_loss: 0.7341 - val_mean_absolute_error: 0.4048\n",
      "Epoch 35/50\n",
      "113142/113142 [==============================] - 1s - loss: 0.5655 - mean_absolute_error: 0.3939 - val_loss: 0.7309 - val_mean_absolute_error: 0.4892\n",
      "Epoch 36/50\n",
      "113142/113142 [==============================] - 1s - loss: 0.5650 - mean_absolute_error: 0.3938 - val_loss: 0.6267 - val_mean_absolute_error: 0.4386\n",
      "Epoch 37/50\n",
      "113142/113142 [==============================] - 1s - loss: 0.5653 - mean_absolute_error: 0.3900 - val_loss: 0.5846 - val_mean_absolute_error: 0.4201\n",
      "Epoch 38/50\n",
      "113142/113142 [==============================] - 1s - loss: 0.5639 - mean_absolute_error: 0.3929 - val_loss: 0.5958 - val_mean_absolute_error: 0.4298\n",
      "Epoch 39/50\n",
      "113142/113142 [==============================] - 1s - loss: 0.5579 - mean_absolute_error: 0.3885 - val_loss: 0.7133 - val_mean_absolute_error: 0.4455\n",
      "Epoch 40/50\n",
      "113142/113142 [==============================] - 1s - loss: 0.5585 - mean_absolute_error: 0.3890 - val_loss: 0.5851 - val_mean_absolute_error: 0.3948\n",
      "Epoch 41/50\n",
      "113142/113142 [==============================] - 1s - loss: 0.5596 - mean_absolute_error: 0.3891 - val_loss: 0.6230 - val_mean_absolute_error: 0.4322\n",
      "Epoch 42/50\n",
      "113142/113142 [==============================] - 1s - loss: 0.5599 - mean_absolute_error: 0.3882 - val_loss: 0.7490 - val_mean_absolute_error: 0.5181\n",
      "Epoch 43/50\n",
      "113142/113142 [==============================] - 1s - loss: 0.5598 - mean_absolute_error: 0.3871 - val_loss: 0.6495 - val_mean_absolute_error: 0.4182\n",
      "Epoch 44/50\n",
      "113142/113142 [==============================] - 1s - loss: 0.5578 - mean_absolute_error: 0.3864 - val_loss: 0.5398 - val_mean_absolute_error: 0.3753\n",
      "Epoch 45/50\n",
      "113142/113142 [==============================] - 1s - loss: 0.5525 - mean_absolute_error: 0.3855 - val_loss: 0.6496 - val_mean_absolute_error: 0.4191\n",
      "Epoch 46/50\n",
      "113142/113142 [==============================] - 1s - loss: 0.5559 - mean_absolute_error: 0.3880 - val_loss: 0.6708 - val_mean_absolute_error: 0.3986\n",
      "Epoch 47/50\n",
      "113142/113142 [==============================] - 1s - loss: 0.5690 - mean_absolute_error: 0.3910 - val_loss: 0.6331 - val_mean_absolute_error: 0.4551\n",
      "Epoch 48/50\n",
      "113142/113142 [==============================] - 1s - loss: 0.5536 - mean_absolute_error: 0.3858 - val_loss: 0.7008 - val_mean_absolute_error: 0.4732\n",
      "Epoch 49/50\n",
      "113142/113142 [==============================] - 1s - loss: 0.5560 - mean_absolute_error: 0.3863 - val_loss: 0.5844 - val_mean_absolute_error: 0.3802\n",
      "Epoch 50/50\n",
      "113142/113142 [==============================] - 1s - loss: 0.5518 - mean_absolute_error: 0.3834 - val_loss: 0.5705 - val_mean_absolute_error: 0.3619\n"
     ]
    }
   ],
   "source": [
    "model1 = Sequential()\n",
    "model1.add(Dense(units=64, input_shape = (13,),activation='softmax',name='layer1'))\n",
    "model1.add(Dense(units=64,name='layer2'))\n",
    "model1.add(Dense(units=16,name='layer3'))\n",
    "model1.add(Dense(units=8,name='layer4'))\n",
    "model1.add(Dense(units=1,name='layer5'))\n",
    "model1.compile(loss='mean_squared_error',\n",
    "              optimizer='rmsprop',\n",
    "              metrics=['mae'])\n",
    "history = model1.fit(x = train_x,y = train_y, validation_data = (eval_x,eval_y), epochs=50, batch_size=1000,verbose=1)\n",
    "######################################################################\n",
    "#######################################################################"
   ]
  },
  {
   "cell_type": "code",
   "execution_count": 26,
   "metadata": {},
   "outputs": [
    {
     "data": {
      "image/png": "[encoded data removed]",
      "text/plain": [
       "<Figure size 432x288 with 1 Axes>"
      ]
     },
     "metadata": {},
     "output_type": "display_data"
    }
   ],
   "source": [
    "# 绘制训练 & 验证的损失值\n",
    "plt.plot(history.history['loss'])\n",
    "plt.plot(history.history['val_loss'])\n",
    "plt.title('Model1 loss')\n",
    "plt.ylabel('Loss')\n",
    "plt.xlabel('Epoch')\n",
    "plt.legend(['Train', 'Test'], loc='upper left')\n",
    "plt.show()"
   ]
  },
  {
   "cell_type": "code",
   "execution_count": 27,
   "metadata": {
    "scrolled": false
   },
   "outputs": [],
   "source": [
    "# # 绘制训练 & 验证的准确率值\n",
    "# plt.plot(history.history['acc'])\n",
    "# plt.plot(history.history['val_acc'])\n",
    "# plt.title('Model accuracy')\n",
    "# plt.ylabel('Accuracy')\n",
    "# plt.xlabel('Epoch')\n",
    "# plt.legend(['Train', 'Test'], loc='upper left')\n",
    "# plt.show()"
   ]
  },
  {
   "cell_type": "markdown",
   "metadata": {},
   "source": [
    "#  Model2   Dense with activation"
   ]
  },
  {
   "cell_type": "code",
   "execution_count": 28,
   "metadata": {},
   "outputs": [
    {
     "name": "stdout",
     "output_type": "stream",
     "text": [
      "Train on 113142 samples, validate on 28286 samples\n",
      "Epoch 1/50\n",
      "113142/113142 [==============================] - 1s - loss: 1.7687 - mean_absolute_error: 1.7687 - val_loss: 1.5847 - val_mean_absolute_error: 1.5847\n",
      "Epoch 2/50\n",
      "113142/113142 [==============================] - 0s - loss: 1.3231 - mean_absolute_error: 1.3231 - val_loss: 1.1444 - val_mean_absolute_error: 1.1444\n",
      "Epoch 3/50\n",
      "113142/113142 [==============================] - 0s - loss: 0.9547 - mean_absolute_error: 0.9547 - val_loss: 0.8289 - val_mean_absolute_error: 0.8289\n",
      "Epoch 4/50\n",
      "113142/113142 [==============================] - 0s - loss: 0.6949 - mean_absolute_error: 0.6949 - val_loss: 0.5996 - val_mean_absolute_error: 0.5996\n",
      "Epoch 5/50\n",
      "113142/113142 [==============================] - 0s - loss: 0.5406 - mean_absolute_error: 0.5406 - val_loss: 0.5148 - val_mean_absolute_error: 0.5148\n",
      "Epoch 6/50\n",
      "113142/113142 [==============================] - 0s - loss: 0.5051 - mean_absolute_error: 0.5051 - val_loss: 0.5083 - val_mean_absolute_error: 0.5083\n",
      "Epoch 7/50\n",
      "113142/113142 [==============================] - 0s - loss: 0.5017 - mean_absolute_error: 0.5017 - val_loss: 0.5133 - val_mean_absolute_error: 0.5133\n",
      "Epoch 8/50\n",
      "113142/113142 [==============================] - 0s - loss: 0.4999 - mean_absolute_error: 0.4999 - val_loss: 0.5066 - val_mean_absolute_error: 0.5066\n",
      "Epoch 9/50\n",
      "113142/113142 [==============================] - 0s - loss: 0.4972 - mean_absolute_error: 0.4972 - val_loss: 0.5119 - val_mean_absolute_error: 0.5119\n",
      "Epoch 10/50\n",
      "113142/113142 [==============================] - 0s - loss: 0.4946 - mean_absolute_error: 0.4946 - val_loss: 0.5018 - val_mean_absolute_error: 0.5018\n",
      "Epoch 11/50\n",
      "113142/113142 [==============================] - 0s - loss: 0.4918 - mean_absolute_error: 0.4918 - val_loss: 0.5068 - val_mean_absolute_error: 0.5068\n",
      "Epoch 12/50\n",
      "113142/113142 [==============================] - 0s - loss: 0.4882 - mean_absolute_error: 0.4882 - val_loss: 0.4903 - val_mean_absolute_error: 0.4903\n",
      "Epoch 13/50\n",
      "113142/113142 [==============================] - 0s - loss: 0.4827 - mean_absolute_error: 0.4827 - val_loss: 0.4911 - val_mean_absolute_error: 0.4911\n",
      "Epoch 14/50\n",
      "113142/113142 [==============================] - 0s - loss: 0.4764 - mean_absolute_error: 0.4764 - val_loss: 0.4854 - val_mean_absolute_error: 0.4854\n",
      "Epoch 15/50\n",
      "113142/113142 [==============================] - 0s - loss: 0.4701 - mean_absolute_error: 0.4701 - val_loss: 0.4775 - val_mean_absolute_error: 0.4775\n",
      "Epoch 16/50\n",
      "113142/113142 [==============================] - 0s - loss: 0.4623 - mean_absolute_error: 0.4623 - val_loss: 0.4619 - val_mean_absolute_error: 0.4619\n",
      "Epoch 17/50\n",
      "113142/113142 [==============================] - 0s - loss: 0.4543 - mean_absolute_error: 0.4543 - val_loss: 0.4637 - val_mean_absolute_error: 0.4637\n",
      "Epoch 18/50\n",
      "113142/113142 [==============================] - 0s - loss: 0.4450 - mean_absolute_error: 0.4450 - val_loss: 0.4534 - val_mean_absolute_error: 0.4534\n",
      "Epoch 19/50\n",
      "113142/113142 [==============================] - 0s - loss: 0.4370 - mean_absolute_error: 0.4370 - val_loss: 0.4416 - val_mean_absolute_error: 0.4416\n",
      "Epoch 20/50\n",
      "113142/113142 [==============================] - 0s - loss: 0.4280 - mean_absolute_error: 0.4280 - val_loss: 0.4302 - val_mean_absolute_error: 0.4302\n",
      "Epoch 21/50\n",
      "113142/113142 [==============================] - 1s - loss: 0.4182 - mean_absolute_error: 0.4182 - val_loss: 0.4268 - val_mean_absolute_error: 0.4268\n",
      "Epoch 22/50\n",
      "113142/113142 [==============================] - 0s - loss: 0.4087 - mean_absolute_error: 0.4087 - val_loss: 0.4173 - val_mean_absolute_error: 0.4173\n",
      "Epoch 23/50\n",
      "113142/113142 [==============================] - 0s - loss: 0.3991 - mean_absolute_error: 0.3991 - val_loss: 0.4125 - val_mean_absolute_error: 0.4125\n",
      "Epoch 24/50\n",
      "113142/113142 [==============================] - 0s - loss: 0.3899 - mean_absolute_error: 0.3899 - val_loss: 0.3972 - val_mean_absolute_error: 0.3972\n",
      "Epoch 25/50\n",
      "113142/113142 [==============================] - 0s - loss: 0.3811 - mean_absolute_error: 0.3811 - val_loss: 0.3936 - val_mean_absolute_error: 0.3936\n",
      "Epoch 26/50\n",
      "113142/113142 [==============================] - 0s - loss: 0.3717 - mean_absolute_error: 0.3717 - val_loss: 0.3803 - val_mean_absolute_error: 0.3803\n",
      "Epoch 27/50\n",
      "113142/113142 [==============================] - 0s - loss: 0.3581 - mean_absolute_error: 0.3581 - val_loss: 0.3725 - val_mean_absolute_error: 0.3725\n",
      "Epoch 28/50\n",
      "113142/113142 [==============================] - 0s - loss: 0.3448 - mean_absolute_error: 0.3448 - val_loss: 0.3464 - val_mean_absolute_error: 0.3464\n",
      "Epoch 29/50\n",
      "113142/113142 [==============================] - 0s - loss: 0.3397 - mean_absolute_error: 0.3397 - val_loss: 0.3533 - val_mean_absolute_error: 0.3533\n",
      "Epoch 30/50\n",
      "113142/113142 [==============================] - 0s - loss: 0.3374 - mean_absolute_error: 0.3374 - val_loss: 0.3501 - val_mean_absolute_error: 0.3501\n",
      "Epoch 31/50\n",
      "113142/113142 [==============================] - 0s - loss: 0.3351 - mean_absolute_error: 0.3351 - val_loss: 0.3423 - val_mean_absolute_error: 0.3423\n",
      "Epoch 32/50\n",
      "113142/113142 [==============================] - 0s - loss: 0.3336 - mean_absolute_error: 0.3336 - val_loss: 0.3385 - val_mean_absolute_error: 0.3385\n",
      "Epoch 33/50\n",
      "113142/113142 [==============================] - 0s - loss: 0.3324 - mean_absolute_error: 0.3324 - val_loss: 0.3657 - val_mean_absolute_error: 0.3657\n",
      "Epoch 34/50\n",
      "113142/113142 [==============================] - 0s - loss: 0.3308 - mean_absolute_error: 0.3308 - val_loss: 0.3335 - val_mean_absolute_error: 0.3335\n",
      "Epoch 35/50\n",
      "113142/113142 [==============================] - 0s - loss: 0.3296 - mean_absolute_error: 0.3296 - val_loss: 0.3344 - val_mean_absolute_error: 0.3344\n",
      "Epoch 36/50\n",
      "113142/113142 [==============================] - 0s - loss: 0.3295 - mean_absolute_error: 0.3295 - val_loss: 0.3429 - val_mean_absolute_error: 0.3429\n",
      "Epoch 37/50\n",
      "113142/113142 [==============================] - 0s - loss: 0.3287 - mean_absolute_error: 0.3287 - val_loss: 0.3290 - val_mean_absolute_error: 0.3290\n",
      "Epoch 38/50\n",
      "113142/113142 [==============================] - 0s - loss: 0.3266 - mean_absolute_error: 0.3266 - val_loss: 0.3274 - val_mean_absolute_error: 0.3274\n",
      "Epoch 39/50\n",
      "113142/113142 [==============================] - 0s - loss: 0.3260 - mean_absolute_error: 0.3260 - val_loss: 0.3372 - val_mean_absolute_error: 0.3372\n",
      "Epoch 40/50\n",
      "113142/113142 [==============================] - 0s - loss: 0.3246 - mean_absolute_error: 0.3246 - val_loss: 0.3364 - val_mean_absolute_error: 0.3364\n",
      "Epoch 41/50\n",
      "113142/113142 [==============================] - 0s - loss: 0.3239 - mean_absolute_error: 0.3239 - val_loss: 0.3314 - val_mean_absolute_error: 0.3314\n",
      "Epoch 42/50\n",
      "113142/113142 [==============================] - 0s - loss: 0.3235 - mean_absolute_error: 0.3235 - val_loss: 0.3291 - val_mean_absolute_error: 0.3291\n",
      "Epoch 43/50\n",
      "113142/113142 [==============================] - 0s - loss: 0.3229 - mean_absolute_error: 0.3229 - val_loss: 0.3254 - val_mean_absolute_error: 0.3254\n",
      "Epoch 44/50\n",
      "113142/113142 [==============================] - 0s - loss: 0.3211 - mean_absolute_error: 0.3211 - val_loss: 0.3249 - val_mean_absolute_error: 0.3249\n",
      "Epoch 45/50\n",
      "113142/113142 [==============================] - 0s - loss: 0.3219 - mean_absolute_error: 0.3219 - val_loss: 0.3199 - val_mean_absolute_error: 0.3199\n",
      "Epoch 46/50\n",
      "113142/113142 [==============================] - 0s - loss: 0.3208 - mean_absolute_error: 0.3208 - val_loss: 0.3373 - val_mean_absolute_error: 0.3373\n",
      "Epoch 47/50\n",
      "113142/113142 [==============================] - 0s - loss: 0.3198 - mean_absolute_error: 0.3198 - val_loss: 0.3190 - val_mean_absolute_error: 0.3190\n",
      "Epoch 48/50\n",
      "113142/113142 [==============================] - 0s - loss: 0.3178 - mean_absolute_error: 0.3178 - val_loss: 0.3299 - val_mean_absolute_error: 0.3299\n",
      "Epoch 49/50\n",
      "113142/113142 [==============================] - 0s - loss: 0.3174 - mean_absolute_error: 0.3174 - val_loss: 0.3254 - val_mean_absolute_error: 0.3254\n",
      "Epoch 50/50\n",
      "113142/113142 [==============================] - 0s - loss: 0.3145 - mean_absolute_error: 0.3145 - val_loss: 0.3234 - val_mean_absolute_error: 0.3234\n"
     ]
    }
   ],
   "source": [
    "model2 = Sequential()\n",
    "model2.add(Dense(units=64, input_shape = (13,),activation='sigmoid',name='layer1'))\n",
    "model2.add(Dense(units=32, activation='sigmoid',name='layer2'))\n",
    "model2.add(Dense(units=16,name='layer3',activation='sigmoid'))\n",
    "model2.add(Dense(units=8,name='layer4',activation='sigmoid'))\n",
    "model2.add(Dense(units=1,name='layer5'))\n",
    "# model2.add(Dense(units=4,name='layer5',activation='sigmoid'))\n",
    "# model2.add(Dense(units=1,name='layer6'))\n",
    "model2.compile(loss='mean_absolute_error',\n",
    "              optimizer='rmsprop',\n",
    "              metrics=['mae'])\n",
    "history=model2.fit(x = train_x,y = train_y, validation_data = (eval_x,eval_y), epochs=50, batch_size=1000)\n",
    "\n",
    "#########################################################################\n"
   ]
  },
  {
   "cell_type": "code",
   "execution_count": 29,
   "metadata": {},
   "outputs": [
    {
     "data": {
      "image/png": "[encoded data removed]",
      "text/plain": [
       "<Figure size 432x288 with 1 Axes>"
      ]
     },
     "metadata": {},
     "output_type": "display_data"
    }
   ],
   "source": [
    "########################################################################\n",
    "# 绘制训练 & 验证的损失值\n",
    "plt.plot(history.history['loss'])\n",
    "plt.plot(history.history['val_loss'])\n",
    "plt.title('Model2 loss')\n",
    "plt.ylabel('Loss')\n",
    "plt.xlabel('Epoch')\n",
    "plt.legend(['Train', 'Test'], loc='upper left')\n",
    "plt.show()"
   ]
  },
  {
   "cell_type": "markdown",
   "metadata": {},
   "source": [
    "# dense_model3 with activation,bias"
   ]
  },
  {
   "cell_type": "code",
   "execution_count": 30,
   "metadata": {},
   "outputs": [
    {
     "name": "stdout",
     "output_type": "stream",
     "text": [
      "Train on 113142 samples, validate on 28286 samples\n",
      "Epoch 1/50\n",
      "113142/113142 [==============================] - 1s - loss: 1.8481 - mean_absolute_error: 1.8481 - val_loss: 1.7929 - val_mean_absolute_error: 1.7929\n",
      "Epoch 2/50\n",
      "113142/113142 [==============================] - 0s - loss: 1.6220 - mean_absolute_error: 1.6220 - val_loss: 1.5121 - val_mean_absolute_error: 1.5121\n",
      "Epoch 3/50\n",
      "113142/113142 [==============================] - 0s - loss: 1.3352 - mean_absolute_error: 1.3352 - val_loss: 1.2166 - val_mean_absolute_error: 1.2166\n",
      "Epoch 4/50\n",
      "113142/113142 [==============================] - 0s - loss: 1.0636 - mean_absolute_error: 1.0636 - val_loss: 0.9487 - val_mean_absolute_error: 0.9487\n",
      "Epoch 5/50\n",
      "113142/113142 [==============================] - 0s - loss: 0.8191 - mean_absolute_error: 0.8191 - val_loss: 0.7229 - val_mean_absolute_error: 0.7229\n",
      "Epoch 6/50\n",
      "113142/113142 [==============================] - 0s - loss: 0.6203 - mean_absolute_error: 0.6203 - val_loss: 0.5560 - val_mean_absolute_error: 0.5560\n",
      "Epoch 7/50\n",
      "113142/113142 [==============================] - 1s - loss: 0.5197 - mean_absolute_error: 0.5197 - val_loss: 0.5199 - val_mean_absolute_error: 0.5199\n",
      "Epoch 8/50\n",
      "113142/113142 [==============================] - 0s - loss: 0.5042 - mean_absolute_error: 0.5042 - val_loss: 0.5141 - val_mean_absolute_error: 0.5141\n",
      "Epoch 9/50\n",
      "113142/113142 [==============================] - 0s - loss: 0.4990 - mean_absolute_error: 0.4990 - val_loss: 0.5019 - val_mean_absolute_error: 0.5019\n",
      "Epoch 10/50\n",
      "113142/113142 [==============================] - 0s - loss: 0.4926 - mean_absolute_error: 0.4926 - val_loss: 0.5037 - val_mean_absolute_error: 0.5037\n",
      "Epoch 11/50\n",
      "113142/113142 [==============================] - 0s - loss: 0.4838 - mean_absolute_error: 0.4838 - val_loss: 0.4812 - val_mean_absolute_error: 0.4812\n",
      "Epoch 12/50\n",
      "113142/113142 [==============================] - 0s - loss: 0.4710 - mean_absolute_error: 0.4710 - val_loss: 0.4718 - val_mean_absolute_error: 0.4718\n",
      "Epoch 13/50\n",
      "113142/113142 [==============================] - 0s - loss: 0.4555 - mean_absolute_error: 0.4555 - val_loss: 0.4539 - val_mean_absolute_error: 0.4539\n",
      "Epoch 14/50\n",
      "113142/113142 [==============================] - 0s - loss: 0.4397 - mean_absolute_error: 0.4397 - val_loss: 0.4398 - val_mean_absolute_error: 0.4398\n",
      "Epoch 15/50\n",
      "113142/113142 [==============================] - 0s - loss: 0.4236 - mean_absolute_error: 0.4236 - val_loss: 0.4373 - val_mean_absolute_error: 0.4373\n",
      "Epoch 16/50\n",
      "113142/113142 [==============================] - 0s - loss: 0.4077 - mean_absolute_error: 0.4077 - val_loss: 0.4074 - val_mean_absolute_error: 0.4074\n",
      "Epoch 17/50\n",
      "113142/113142 [==============================] - 0s - loss: 0.3938 - mean_absolute_error: 0.3938 - val_loss: 0.4491 - val_mean_absolute_error: 0.4491\n",
      "Epoch 18/50\n",
      "113142/113142 [==============================] - 0s - loss: 0.3829 - mean_absolute_error: 0.3829 - val_loss: 0.3906 - val_mean_absolute_error: 0.3906\n",
      "Epoch 19/50\n",
      "113142/113142 [==============================] - 0s - loss: 0.3727 - mean_absolute_error: 0.3727 - val_loss: 0.3714 - val_mean_absolute_error: 0.3714\n",
      "Epoch 20/50\n",
      "113142/113142 [==============================] - 0s - loss: 0.3658 - mean_absolute_error: 0.3658 - val_loss: 0.3751 - val_mean_absolute_error: 0.3751\n",
      "Epoch 21/50\n",
      "113142/113142 [==============================] - 0s - loss: 0.3610 - mean_absolute_error: 0.3610 - val_loss: 0.3670 - val_mean_absolute_error: 0.3670\n",
      "Epoch 22/50\n",
      "113142/113142 [==============================] - 0s - loss: 0.3552 - mean_absolute_error: 0.3552 - val_loss: 0.3567 - val_mean_absolute_error: 0.3567\n",
      "Epoch 23/50\n",
      "113142/113142 [==============================] - 0s - loss: 0.3519 - mean_absolute_error: 0.3519 - val_loss: 0.3640 - val_mean_absolute_error: 0.3640\n",
      "Epoch 24/50\n",
      "113142/113142 [==============================] - 0s - loss: 0.3480 - mean_absolute_error: 0.3480 - val_loss: 0.3700 - val_mean_absolute_error: 0.3700\n",
      "Epoch 25/50\n",
      "113142/113142 [==============================] - 0s - loss: 0.3429 - mean_absolute_error: 0.3429 - val_loss: 0.3717 - val_mean_absolute_error: 0.3717\n",
      "Epoch 26/50\n",
      "113142/113142 [==============================] - 0s - loss: 0.3387 - mean_absolute_error: 0.3387 - val_loss: 0.3466 - val_mean_absolute_error: 0.3466\n",
      "Epoch 27/50\n",
      "113142/113142 [==============================] - 0s - loss: 0.3353 - mean_absolute_error: 0.3353 - val_loss: 0.3392 - val_mean_absolute_error: 0.3392\n",
      "Epoch 28/50\n",
      "113142/113142 [==============================] - 0s - loss: 0.3336 - mean_absolute_error: 0.3336 - val_loss: 0.3439 - val_mean_absolute_error: 0.3439\n",
      "Epoch 29/50\n",
      "113142/113142 [==============================] - 0s - loss: 0.3323 - mean_absolute_error: 0.3323 - val_loss: 0.3355 - val_mean_absolute_error: 0.3355\n",
      "Epoch 30/50\n",
      "113142/113142 [==============================] - 0s - loss: 0.3305 - mean_absolute_error: 0.3305 - val_loss: 0.3462 - val_mean_absolute_error: 0.3462\n",
      "Epoch 31/50\n",
      "113142/113142 [==============================] - 0s - loss: 0.3300 - mean_absolute_error: 0.3300 - val_loss: 0.3350 - val_mean_absolute_error: 0.3350\n",
      "Epoch 32/50\n",
      "113142/113142 [==============================] - 0s - loss: 0.3286 - mean_absolute_error: 0.3286 - val_loss: 0.3376 - val_mean_absolute_error: 0.3376\n",
      "Epoch 33/50\n",
      "113142/113142 [==============================] - 0s - loss: 0.3280 - mean_absolute_error: 0.3280 - val_loss: 0.3380 - val_mean_absolute_error: 0.3380\n",
      "Epoch 34/50\n",
      "113142/113142 [==============================] - 0s - loss: 0.3272 - mean_absolute_error: 0.3272 - val_loss: 0.3561 - val_mean_absolute_error: 0.3561\n",
      "Epoch 35/50\n",
      "113142/113142 [==============================] - 0s - loss: 0.3259 - mean_absolute_error: 0.3259 - val_loss: 0.3711 - val_mean_absolute_error: 0.3711\n",
      "Epoch 36/50\n",
      "113142/113142 [==============================] - 0s - loss: 0.3257 - mean_absolute_error: 0.3257 - val_loss: 0.3460 - val_mean_absolute_error: 0.3460\n",
      "Epoch 37/50\n",
      "113142/113142 [==============================] - 0s - loss: 0.3249 - mean_absolute_error: 0.3249 - val_loss: 0.3333 - val_mean_absolute_error: 0.3333\n",
      "Epoch 38/50\n",
      "113142/113142 [==============================] - 0s - loss: 0.3250 - mean_absolute_error: 0.3250 - val_loss: 0.3486 - val_mean_absolute_error: 0.3486\n",
      "Epoch 39/50\n",
      "113142/113142 [==============================] - 0s - loss: 0.3254 - mean_absolute_error: 0.3254 - val_loss: 0.3362 - val_mean_absolute_error: 0.3362\n",
      "Epoch 40/50\n",
      "113142/113142 [==============================] - 0s - loss: 0.3251 - mean_absolute_error: 0.3251 - val_loss: 0.3422 - val_mean_absolute_error: 0.3422\n",
      "Epoch 41/50\n",
      "113142/113142 [==============================] - 0s - loss: 0.3230 - mean_absolute_error: 0.3230 - val_loss: 0.3300 - val_mean_absolute_error: 0.3300\n",
      "Epoch 42/50\n",
      "113142/113142 [==============================] - 0s - loss: 0.3226 - mean_absolute_error: 0.3226 - val_loss: 0.3333 - val_mean_absolute_error: 0.3333\n",
      "Epoch 43/50\n",
      "113142/113142 [==============================] - 0s - loss: 0.3208 - mean_absolute_error: 0.3208 - val_loss: 0.3197 - val_mean_absolute_error: 0.3197\n",
      "Epoch 44/50\n",
      "113142/113142 [==============================] - 0s - loss: 0.3202 - mean_absolute_error: 0.3202 - val_loss: 0.3306 - val_mean_absolute_error: 0.3306\n",
      "Epoch 45/50\n",
      "113142/113142 [==============================] - 0s - loss: 0.3222 - mean_absolute_error: 0.3222 - val_loss: 0.3346 - val_mean_absolute_error: 0.3346\n",
      "Epoch 46/50\n",
      "113142/113142 [==============================] - 0s - loss: 0.3217 - mean_absolute_error: 0.3217 - val_loss: 0.3308 - val_mean_absolute_error: 0.3308\n",
      "Epoch 47/50\n",
      "113142/113142 [==============================] - 0s - loss: 0.3204 - mean_absolute_error: 0.3204 - val_loss: 0.3231 - val_mean_absolute_error: 0.3231\n",
      "Epoch 48/50\n",
      "113142/113142 [==============================] - 0s - loss: 0.3205 - mean_absolute_error: 0.3205 - val_loss: 0.3241 - val_mean_absolute_error: 0.3241\n",
      "Epoch 49/50\n",
      "113142/113142 [==============================] - 0s - loss: 0.3189 - mean_absolute_error: 0.3189 - val_loss: 0.3262 - val_mean_absolute_error: 0.3262\n",
      "Epoch 50/50\n",
      "113142/113142 [==============================] - 0s - loss: 0.3200 - mean_absolute_error: 0.3200 - val_loss: 0.3174 - val_mean_absolute_error: 0.3174\n"
     ]
    }
   ],
   "source": [
    "model3 = Sequential()\n",
    "model3.add(Dense(units=64, input_shape = (13,),activation='sigmoid',name='layer1',use_bias = True))\n",
    "model3.add(Dense(units=32,activation='sigmoid',name='layer2',use_bias = True))\n",
    "model3.add(Dense(units=16,name='layer3',activation='sigmoid',use_bias = True))\n",
    "model3.add(Dense(units=8,name='layer4',activation='sigmoid',use_bias = True))\n",
    "model3.add(Dense(units=1,name='layer5'))\n",
    "model3.compile(loss='mean_absolute_error',\n",
    "              optimizer='rmsprop',\n",
    "              metrics=['mae'])\n",
    "history=model3.fit(x = train_x,y = train_y, validation_data = (eval_x,eval_y), epochs=50, batch_size=1000)\n",
    "############################################################################################################"
   ]
  },
  {
   "cell_type": "code",
   "execution_count": 31,
   "metadata": {},
   "outputs": [
    {
     "data": {
      "image/png": "[encoded data removed]",
      "text/plain": [
       "<Figure size 432x288 with 1 Axes>"
      ]
     },
     "metadata": {},
     "output_type": "display_data"
    }
   ],
   "source": [
    "########################################################################\n",
    "# 绘制训练 & 验证的损失值\n",
    "plt.plot(history.history['loss'])\n",
    "plt.plot(history.history['val_loss'])\n",
    "plt.title('Model3 loss')\n",
    "plt.ylabel('Loss')\n",
    "plt.xlabel('Epoch')\n",
    "plt.legend(['Train', 'Test'], loc='upper left')\n",
    "plt.show()"
   ]
  },
  {
   "cell_type": "markdown",
   "metadata": {},
   "source": [
    "# 结果对比"
   ]
  },
  {
   "cell_type": "code",
   "execution_count": 32,
   "metadata": {
    "scrolled": true
   },
   "outputs": [
    {
     "name": "stdout",
     "output_type": "stream",
     "text": [
      "Model1 \n",
      "Train Score: 0.75 RMSE\n",
      "Test Score: 0.89 RMSE\n",
      "Model2 \n",
      "Train Score: 0.79 RMSE\n",
      "Test Score: 1.02 RMSE\n",
      "Model3 \n",
      "Train Score: 0.78 RMSE\n",
      "Test Score: 0.97 RMSE\n"
     ]
    }
   ],
   "source": [
    "################预测训练集和测试集####################\n",
    "######### 模型 1 #########\n",
    "trainPredictM1 = model1.predict(train_x)\n",
    "testPredictM1 = model1.predict(test_x)\n",
    "######### 模型 2 #########\n",
    "trainPredictM2 = model2.predict(train_x)\n",
    "testPredictM2 = model2.predict(test_x)\n",
    "######### 模型 3 ##########\n",
    "trainPredictM3 = model3.predict(train_x)\n",
    "testPredictM3 = model3.predict(test_x)\n",
    "\n",
    "############################## 反归一化 ##############################\n",
    "\n",
    "###################### 训练集反归一化 #######################\n",
    "######预测值 模型1 #######\n",
    "inv_trainPredict1 = concatenate((train_x[:,:],trainPredictM1), axis=1)\n",
    "# inv_trainPredict1 = scaler.inverse_transform(inv_trainPredict1)\n",
    "trainPredictM1 = inv_trainPredict1[:,-1:]\n",
    "\n",
    "######预测值 模型2 #######\n",
    "inv_trainPredict2 = concatenate((train_x[:,:],trainPredictM2), axis=1)\n",
    "# inv_trainPredict2 = scaler.inverse_transform(inv_trainPredict2)\n",
    "trainPredictM2 = inv_trainPredict2[:,-1:]\n",
    "\n",
    "######训练预测 模型3 #######\n",
    "inv_trainPredict3 = concatenate((train_x[:,:],trainPredictM3), axis=1)\n",
    "# inv_trainPredict3 = scaler.inverse_transform(inv_trainPredict3)\n",
    "trainPredictM3 = inv_trainPredict3[:,-1:]\n",
    "\n",
    "###### 训练集真实值######\n",
    "train_y = train_y.reshape((len(train_y), 1))\n",
    "inv_train = concatenate((train_x[:,:],train_y), axis=1)\n",
    "# inv_train = scaler.inverse_transform(inv_train)\n",
    "trainReal = inv_train[:,-1:]\n",
    "\n",
    "\n",
    "######################## 测试集反归一化 ########################\n",
    "###### 测试预测模型1 #######\n",
    "inv_testPredict1 = concatenate((test_x[:,:],testPredictM1), axis=1)\n",
    "# inv_testPredict1 = scaler.inverse_transform(inv_testPredict1)\n",
    "testPredictM1 = inv_testPredict1[:,-1:]\n",
    "\n",
    "###### 测试预测模型2 #######\n",
    "inv_testPredict2 = concatenate((test_x[:,:],testPredictM2), axis=1)\n",
    "# inv_testPredict2 = scaler.inverse_transform(inv_testPredict2)\n",
    "testPredictM2 = inv_testPredict2[:,-1:]\n",
    "\n",
    "###### 测试预测模型3 #######\n",
    "inv_testPredict3 = concatenate((test_x[:,:],testPredictM3), axis=1)\n",
    "# inv_testPredict3 = scaler.inverse_transform(inv_testPredict3)\n",
    "testPredictM3 = inv_testPredict3[:,-1:]\n",
    "\n",
    "########测试集真实值############\n",
    "test_y = test_y.reshape((len(test_y), 1))\n",
    "inv_test = concatenate((test_x[:,:],test_y), axis=1)\n",
    "# inv_test = scaler.inverse_transform(inv_test)\n",
    "testReal = inv_test[:,-1:]\n",
    "\n",
    "#################### 计算训练集和测试集的平均根方误差####################\n",
    "### 模型 1\n",
    "trainScoreM1 = math.sqrt(mean_squared_error(trainReal[:,0], trainPredictM1[:,0]))\n",
    "print('Model1 ')\n",
    "print('Train Score: %.2f RMSE' % (trainScoreM1))\n",
    "testScoreM1 = math.sqrt(mean_squared_error(testReal[:,0], testPredictM1[:,0]))\n",
    "print('Test Score: %.2f RMSE' % (testScoreM1))\n",
    "### 模型 2\n",
    "trainScoreM2 = math.sqrt(mean_squared_error(trainReal[:,0], trainPredictM2[:,0]))\n",
    "print('Model2 ')\n",
    "print('Train Score: %.2f RMSE' % (trainScoreM2))\n",
    "testScoreM2 = math.sqrt(mean_squared_error(testReal[:,0], testPredictM2[:,0]))\n",
    "print('Test Score: %.2f RMSE' % (testScoreM2))\n",
    "### 模型 3\n",
    "trainScoreM3 = math.sqrt(mean_squared_error(trainReal[:,0], trainPredictM3[:,0]))\n",
    "print('Model3 ')\n",
    "print('Train Score: %.2f RMSE' % (trainScoreM3))\n",
    "testScoreM3 = math.sqrt(mean_squared_error(testReal[:,0], testPredictM3[:,0]))\n",
    "print('Test Score: %.2f RMSE' % (testScoreM3))"
   ]
  },
  {
   "cell_type": "code",
   "execution_count": 33,
   "metadata": {},
   "outputs": [
    {
     "data": {
      "text/plain": [
       "<matplotlib.legend.Legend at 0x1caa83e3748>"
      ]
     },
     "execution_count": 33,
     "metadata": {},
     "output_type": "execute_result"
    },
    {
     "data": {
      "image/png": "[encoded data removed]",
      "text/plain": [
       "<Figure size 432x288 with 1 Axes>"
      ]
     },
     "metadata": {},
     "output_type": "display_data"
    }
   ],
   "source": [
    "#训练集和测试集 预测结果保存\n",
    "predict_train_1A = pd.DataFrame(inv_train)\n",
    "predict_train_1A.columns = ['Year', 'Month', 'Day', 'Hour', 'Minutes', 'WTC', 'WRH', 'GHR', 'DHR',\n",
    "       'WD', 'WDR', 'RGT', 'RDT', '1A Trina_power']\n",
    "\n",
    "predict_train_1A['1A_model1_predict'] = trainPredictM1\n",
    "predict_train_1A['1A_model2_predict'] = trainPredictM2\n",
    "predict_train_1A['1A_model3_predict'] = trainPredictM3\n",
    "\n",
    "predict_train_1A.to_csv('../predict/predict_train_1A.csv',index=False)\n",
    "#真实值和预测值对比图\n",
    "plt.plot(trainReal,label='Real')\n",
    "plt.plot(trainPredictM1,label='M1Predicition')\n",
    "plt.plot(trainPredictM2,label='M2Predicition')\n",
    "plt.plot(trainPredictM3,label='M3Predicition')\n",
    "\n",
    "plt.title('Prediction train')\n",
    "plt.ylabel('Power')\n",
    "plt.xlabel('Time')\n",
    "# plt.plot(y_rr_,label='rr')\n",
    "# plt.plot(y_lasso_,label='lasso')\n",
    "plt.legend() "
   ]
  },
  {
   "cell_type": "code",
   "execution_count": 34,
   "metadata": {},
   "outputs": [
    {
     "data": {
      "text/plain": [
       "<matplotlib.legend.Legend at 0x1caa8449278>"
      ]
     },
     "execution_count": 34,
     "metadata": {},
     "output_type": "execute_result"
    },
    {
     "data": {
      "image/png": "[encoded data removed]",
      "text/plain": [
       "<Figure size 432x288 with 1 Axes>"
      ]
     },
     "metadata": {},
     "output_type": "display_data"
    }
   ],
   "source": [
    "#训练集和测试集 预测结果保存\n",
    "predict_1A = pd.DataFrame(inv_test)\n",
    "predict_1A.columns = ['Year', 'Month', 'Day', 'Hour', 'Minutes', 'WTC', 'WRH', 'GHR', 'DHR',\n",
    "       'WD', 'WDR', 'RGT', 'RDT', '1A Trina_power']\n",
    "\n",
    "predict_1A['1A_model1_predict'] = testPredictM1\n",
    "predict_1A['1A_model2_predict'] = testPredictM2\n",
    "predict_1A['1A_model3_predict'] = testPredictM3\n",
    "\n",
    "predict_1A.to_csv('../predict/predict_1A.csv',index=False)\n",
    "#真实值和预测值对比图\n",
    "plt.plot(testReal,label='Real')\n",
    "plt.plot(testPredictM1,label='M1Predicition')\n",
    "plt.plot(testPredictM2,label='M2Predicition')\n",
    "plt.plot(testPredictM3,label='M3Predicition')\n",
    "\n",
    "plt.title('Prediction test')\n",
    "plt.ylabel('Power')\n",
    "plt.xlabel('Time')\n",
    "# plt.plot(y_rr_,label='rr')\n",
    "# plt.plot(y_lasso_,label='lasso')\n",
    "plt.legend() "
   ]
  },
  {
   "cell_type": "code",
   "execution_count": 35,
   "metadata": {},
   "outputs": [],
   "source": [
    "# mse_test=np.sum((test_y - testPredict)**2)/ len(test_y)\n",
    "# rmse_test=np.sqrt(mse_test)\n",
    "# print(\"MSE:\",mse_test)\n",
    "# print(\"RMSE:\",rmse_test)"
   ]
  },
  {
   "cell_type": "markdown",
   "metadata": {},
   "source": [
    "画出例如2020年1月20号的预测图"
   ]
  },
  {
   "cell_type": "code",
   "execution_count": 36,
   "metadata": {
    "scrolled": true
   },
   "outputs": [
    {
     "data": {
      "text/plain": [
       "Index(['Year', 'Month', 'Day', 'Hour', 'Minutes', 'WTC', 'WRH', 'GHR', 'DHR',\n",
       "       'WD', 'WDR', 'RGT', 'RDT', '1A Trina_power', '1A_model1_predict',\n",
       "       '1A_model2_predict', '1A_model3_predict'],\n",
       "      dtype='object')"
      ]
     },
     "execution_count": 36,
     "metadata": {},
     "output_type": "execute_result"
    }
   ],
   "source": [
    "predict_1A.columns"
   ]
  },
  {
   "cell_type": "code",
   "execution_count": 37,
   "metadata": {},
   "outputs": [],
   "source": [
    "# from scipy.interpolate import spline\n",
    " \n",
    "# # T = np.array([6, 7, 8, 9, 10, 11, 12])\n",
    "# T=Day0120['Hour']\n",
    "# T=T.values\n",
    "# # power = np.array([1.53E+03, 5.92E+02, 2.04E+02, 7.24E+01, 2.72E+01, 1.10E+01, 4.70E+00])\n",
    "# Real=Day0120.set_index('Hour', inplace=False)['1A Trina_power']\n",
    "# Real=Real.values\n",
    "# xnew = np.linspace(T.min(),T.max(),300) #300 represents number of points to make between T.min and T.max\n",
    " \n",
    "# power_smooth = spline(T,Real,xnew)\n",
    " \n",
    "# plt.plot(xnew,power_smooth)\n",
    "# plt.show()"
   ]
  },
  {
   "cell_type": "code",
   "execution_count": 38,
   "metadata": {},
   "outputs": [
    {
     "data": {
      "text/plain": [
       "<matplotlib.legend.Legend at 0x1caaac01e80>"
      ]
     },
     "execution_count": 38,
     "metadata": {},
     "output_type": "execute_result"
    },
    {
     "data": {
      "image/png": "[encoded data removed]",
      "text/plain": [
       "<Figure size 432x288 with 1 Axes>"
      ]
     },
     "metadata": {},
     "output_type": "display_data"
    }
   ],
   "source": [
    "# from scipy.interpolate import spline\n",
    "predict_1A[[\"Year\",\"Month\",\"Day\",\"Hour\",\"Minutes\"]] = predict_1A[[\"Year\",\"Month\",\"Day\",\"Hour\",\"Minutes\"]].astype(\"int\")\n",
    "\n",
    "#real_power_day = train_1.groupby('day')\n",
    "# Day0120 = predict_1A[(predict_1A['Year'] == 2020) & (predict_1A['Month'] == 1) & (predict_1A['Day'] == 20)]\n",
    "# day200120 = predict_1A.loc[predict_1A['Year'] == '2020',predict_1A['Month'] == '1',predict_1A['day'] == '20',:]\n",
    "Day0120 = predict_1A.loc[(predict_1A['Year'] == 2020) & (predict_1A['Month'] == 1) & (predict_1A['Day'] == 20),:]\n",
    "#real_power_day.set_index('time', inplace=False)\n",
    "Real=Day0120.set_index('Hour', inplace=False)['1A Trina_power']\n",
    "M1Predict=Day0120.set_index('Hour', inplace=False)['1A_model1_predict']\n",
    "M2Predict=Day0120.set_index('Hour', inplace=False)['1A_model2_predict']\n",
    "M3Predict=Day0120.set_index('Hour', inplace=False)['1A_model3_predict']\n",
    "\n",
    "fig = plt.figure()\n",
    "plt.plot(Real,label='Real')\n",
    "plt.plot(M1Predict,label='M1Predicition')\n",
    "plt.plot(M2Predict,label='M2Predicition')\n",
    "plt.plot(M3Predict,label='M3Predicition')\n",
    "\n",
    "plt.title('Prediction_noninv 2020-1-20')\n",
    "plt.ylabel('Power')\n",
    "plt.xlabel('Time')\n",
    "# plt.legend(['Train', 'Test'], loc='upper left')\n",
    "plt.legend()\n",
    "#ax = fig.add_subplot(1,1,1)\n",
    "#ax.plot(real_power_day_)\n",
    "# real_power_day_.plot()\n",
    "#real_power_day_.set_axis(['00:15:00','06:15:00','12:15:00','18:15:00'])\n",
    "#real_power_day_"
   ]
  },
  {
   "cell_type": "code",
   "execution_count": null,
   "metadata": {},
   "outputs": [],
   "source": []
  },
  {
   "cell_type": "code",
   "execution_count": null,
   "metadata": {},
   "outputs": [],
   "source": []
  }
 ],
 "metadata": {
  "kernelspec": {
   "display_name": "Python 3",
   "language": "python",
   "name": "python3"
  },
  "language_info": {
   "codemirror_mode": {
    "name": "ipython",
    "version": 3
   },
   "file_extension": ".py",
   "mimetype": "text/x-python",
   "name": "python",
   "nbconvert_exporter": "python",
   "pygments_lexer": "ipython3",
   "version": "3.6.5"
  }
 },
 "nbformat": 4,
 "nbformat_minor": 2
}
