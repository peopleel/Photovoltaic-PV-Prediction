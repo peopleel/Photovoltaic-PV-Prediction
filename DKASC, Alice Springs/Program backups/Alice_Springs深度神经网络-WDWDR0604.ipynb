{
 "cells": [
  {
   "cell_type": "markdown",
   "metadata": {},
   "source": [
    "# DKASC_Alice_Springs深度神经网络-WDWDR"
   ]
  },
  {
   "cell_type": "code",
   "execution_count": 1,
   "metadata": {},
   "outputs": [
    {
     "name": "stderr",
     "output_type": "stream",
     "text": [
      "C:\\ProgramData\\Anaconda3\\lib\\site-packages\\tensorflow\\python\\framework\\dtypes.py:469: FutureWarning: Passing (type, 1) or '1type' as a synonym of type is deprecated; in a future version of numpy, it will be understood as (type, (1,)) / '(1,)type'.\n",
      "  _np_qint8 = np.dtype([(\"qint8\", np.int8, 1)])\n",
      "C:\\ProgramData\\Anaconda3\\lib\\site-packages\\tensorflow\\python\\framework\\dtypes.py:470: FutureWarning: Passing (type, 1) or '1type' as a synonym of type is deprecated; in a future version of numpy, it will be understood as (type, (1,)) / '(1,)type'.\n",
      "  _np_quint8 = np.dtype([(\"quint8\", np.uint8, 1)])\n",
      "C:\\ProgramData\\Anaconda3\\lib\\site-packages\\tensorflow\\python\\framework\\dtypes.py:471: FutureWarning: Passing (type, 1) or '1type' as a synonym of type is deprecated; in a future version of numpy, it will be understood as (type, (1,)) / '(1,)type'.\n",
      "  _np_qint16 = np.dtype([(\"qint16\", np.int16, 1)])\n",
      "C:\\ProgramData\\Anaconda3\\lib\\site-packages\\tensorflow\\python\\framework\\dtypes.py:472: FutureWarning: Passing (type, 1) or '1type' as a synonym of type is deprecated; in a future version of numpy, it will be understood as (type, (1,)) / '(1,)type'.\n",
      "  _np_quint16 = np.dtype([(\"quint16\", np.uint16, 1)])\n",
      "C:\\ProgramData\\Anaconda3\\lib\\site-packages\\tensorflow\\python\\framework\\dtypes.py:473: FutureWarning: Passing (type, 1) or '1type' as a synonym of type is deprecated; in a future version of numpy, it will be understood as (type, (1,)) / '(1,)type'.\n",
      "  _np_qint32 = np.dtype([(\"qint32\", np.int32, 1)])\n",
      "C:\\ProgramData\\Anaconda3\\lib\\site-packages\\tensorflow\\python\\framework\\dtypes.py:476: FutureWarning: Passing (type, 1) or '1type' as a synonym of type is deprecated; in a future version of numpy, it will be understood as (type, (1,)) / '(1,)type'.\n",
      "  np_resource = np.dtype([(\"resource\", np.ubyte, 1)])\n",
      "C:\\ProgramData\\Anaconda3\\lib\\site-packages\\h5py\\__init__.py:36: FutureWarning: Conversion of the second argument of issubdtype from `float` to `np.floating` is deprecated. In future, it will be treated as `np.float64 == np.dtype(float).type`.\n",
      "  from ._conv import register_converters as _register_converters\n",
      "Using TensorFlow backend.\n"
     ]
    }
   ],
   "source": [
    "import os\n",
    "import random\n",
    "import pandas as pd\n",
    "import numpy as np\n",
    "import matplotlib.pyplot as plt\n",
    "import math\n",
    "import tensorflow as tf\n",
    "import keras\n",
    "import catboost as cb\n",
    "from pandas import read_csv\n",
    "from math import sqrt\n",
    "from numpy import concatenate\n",
    "from keras.models import Sequential\n",
    "from keras.layers import Dense\n",
    "from keras.layers import Dropout\n",
    "from keras.layers import LSTM\n",
    "from sklearn.preprocessing import MinMaxScaler\n",
    "from sklearn.metrics import mean_squared_error\n",
    "from keras.layers.core import Dense, Activation, Dropout\n",
    "%matplotlib inline"
   ]
  },
  {
   "cell_type": "code",
   "execution_count": 2,
   "metadata": {},
   "outputs": [],
   "source": [
    "import os\n",
    "os.environ[\"CUDA_VISIBLE_DEVICES\"] = \"0\"\n",
    "config = tf.ConfigProto(allow_soft_placement = True)\n",
    "gpu_options = tf.GPUOptions(per_process_gpu_memory_fraction = 0.5)\n",
    "config.gpu_options.allow_growth = True\n",
    "sess0 = tf.InteractiveSession(config = config)"
   ]
  },
  {
   "cell_type": "code",
   "execution_count": 3,
   "metadata": {},
   "outputs": [
    {
     "name": "stdout",
     "output_type": "stream",
     "text": [
      "E:\\Research Project\\DKASC, Alice Springs\n"
     ]
    }
   ],
   "source": [
    "print(os.getcwd()) # 打印当前工作目录"
   ]
  },
  {
   "cell_type": "code",
   "execution_count": 4,
   "metadata": {},
   "outputs": [
    {
     "data": {
      "text/plain": [
       "['.ipynb_checkpoints',\n",
       " '101-Site_DKA-WeatherStation',\n",
       " '96-Site_DKA-MasterMeter1',\n",
       " 'Alice_SpringsLSTM.ipynb',\n",
       " 'Alice_SpringsSVM.ipynb',\n",
       " 'Alice_Springs_2016-2020',\n",
       " 'Alice_Springs数据集筛选提取.ipynb',\n",
       " 'Alice_Springs深度神经网络-WDWDR.ipynb',\n",
       " 'Alice_Springs深度神经网络.ipynb',\n",
       " 'Dataset',\n",
       " 'Predict',\n",
       " 'Program backups',\n",
       " 'temp',\n",
       " '笔记.ipynb']"
      ]
     },
     "execution_count": 4,
     "metadata": {},
     "output_type": "execute_result"
    }
   ],
   "source": [
    "os.listdir(os.getcwd())"
   ]
  },
  {
   "cell_type": "code",
   "execution_count": 5,
   "metadata": {},
   "outputs": [],
   "source": [
    "os.chdir(\"./Dataset/\")"
   ]
  },
  {
   "cell_type": "code",
   "execution_count": 6,
   "metadata": {},
   "outputs": [
    {
     "data": {
      "text/plain": [
       "['testdata.csv',\n",
       " 'test_1A.csv',\n",
       " 'traindata.csv',\n",
       " 'train_1A.csv',\n",
       " '测试集8个站点.csv',\n",
       " '训练集8个站点.csv']"
      ]
     },
     "execution_count": 6,
     "metadata": {},
     "output_type": "execute_result"
    }
   ],
   "source": [
    "os.listdir()"
   ]
  },
  {
   "cell_type": "code",
   "execution_count": 7,
   "metadata": {},
   "outputs": [],
   "source": [
    "train = pd.read_csv('train_1A.csv')\n",
    "test = pd.read_csv('test_1A.csv')"
   ]
  },
  {
   "cell_type": "code",
   "execution_count": 8,
   "metadata": {},
   "outputs": [
    {
     "name": "stdout",
     "output_type": "stream",
     "text": [
      "(69765, 14)\n",
      "(13136, 14)\n"
     ]
    }
   ],
   "source": [
    "#查看输入数据维度\n",
    "print(train.shape)\n",
    "print(test.shape)"
   ]
  },
  {
   "cell_type": "code",
   "execution_count": 9,
   "metadata": {
    "scrolled": true
   },
   "outputs": [
    {
     "data": {
      "text/html": [
       "<div>\n",
       "<style scoped>\n",
       "    .dataframe tbody tr th:only-of-type {\n",
       "        vertical-align: middle;\n",
       "    }\n",
       "\n",
       "    .dataframe tbody tr th {\n",
       "        vertical-align: top;\n",
       "    }\n",
       "\n",
       "    .dataframe thead th {\n",
       "        text-align: right;\n",
       "    }\n",
       "</style>\n",
       "<table border=\"1\" class=\"dataframe\">\n",
       "  <thead>\n",
       "    <tr style=\"text-align: right;\">\n",
       "      <th></th>\n",
       "      <th>Year</th>\n",
       "      <th>Month</th>\n",
       "      <th>Day</th>\n",
       "      <th>Hour</th>\n",
       "      <th>Minutes</th>\n",
       "      <th>WTC</th>\n",
       "      <th>WRH</th>\n",
       "      <th>GHR</th>\n",
       "      <th>DHR</th>\n",
       "      <th>WD</th>\n",
       "      <th>WDR</th>\n",
       "      <th>RGT</th>\n",
       "      <th>RDT</th>\n",
       "      <th>1A Trina_power</th>\n",
       "    </tr>\n",
       "  </thead>\n",
       "  <tbody>\n",
       "    <tr>\n",
       "      <th>0</th>\n",
       "      <td>2018</td>\n",
       "      <td>1</td>\n",
       "      <td>19</td>\n",
       "      <td>18</td>\n",
       "      <td>30</td>\n",
       "      <td>26.243799</td>\n",
       "      <td>50.889774</td>\n",
       "      <td>71.416481</td>\n",
       "      <td>67.523544</td>\n",
       "      <td>302.882996</td>\n",
       "      <td>3.6</td>\n",
       "      <td>65.268631</td>\n",
       "      <td>59.278999</td>\n",
       "      <td>0.318600</td>\n",
       "    </tr>\n",
       "    <tr>\n",
       "      <th>1</th>\n",
       "      <td>2018</td>\n",
       "      <td>1</td>\n",
       "      <td>19</td>\n",
       "      <td>18</td>\n",
       "      <td>35</td>\n",
       "      <td>26.641783</td>\n",
       "      <td>49.539795</td>\n",
       "      <td>77.177094</td>\n",
       "      <td>71.776718</td>\n",
       "      <td>246.312622</td>\n",
       "      <td>3.6</td>\n",
       "      <td>72.546944</td>\n",
       "      <td>63.134579</td>\n",
       "      <td>0.328800</td>\n",
       "    </tr>\n",
       "    <tr>\n",
       "      <th>2</th>\n",
       "      <td>2018</td>\n",
       "      <td>1</td>\n",
       "      <td>19</td>\n",
       "      <td>18</td>\n",
       "      <td>40</td>\n",
       "      <td>26.654078</td>\n",
       "      <td>53.414265</td>\n",
       "      <td>78.373489</td>\n",
       "      <td>69.008316</td>\n",
       "      <td>305.089630</td>\n",
       "      <td>3.6</td>\n",
       "      <td>76.711456</td>\n",
       "      <td>65.430550</td>\n",
       "      <td>0.334200</td>\n",
       "    </tr>\n",
       "    <tr>\n",
       "      <th>3</th>\n",
       "      <td>2018</td>\n",
       "      <td>1</td>\n",
       "      <td>19</td>\n",
       "      <td>18</td>\n",
       "      <td>45</td>\n",
       "      <td>26.439108</td>\n",
       "      <td>55.582245</td>\n",
       "      <td>78.022881</td>\n",
       "      <td>67.560181</td>\n",
       "      <td>259.662933</td>\n",
       "      <td>3.6</td>\n",
       "      <td>80.445709</td>\n",
       "      <td>66.812790</td>\n",
       "      <td>0.333133</td>\n",
       "    </tr>\n",
       "    <tr>\n",
       "      <th>4</th>\n",
       "      <td>2018</td>\n",
       "      <td>1</td>\n",
       "      <td>19</td>\n",
       "      <td>18</td>\n",
       "      <td>50</td>\n",
       "      <td>26.479477</td>\n",
       "      <td>56.173820</td>\n",
       "      <td>82.106972</td>\n",
       "      <td>73.004196</td>\n",
       "      <td>186.634705</td>\n",
       "      <td>3.6</td>\n",
       "      <td>83.035919</td>\n",
       "      <td>69.054459</td>\n",
       "      <td>0.332400</td>\n",
       "    </tr>\n",
       "  </tbody>\n",
       "</table>\n",
       "</div>"
      ],
      "text/plain": [
       "   Year  Month  Day  Hour  Minutes        WTC        WRH        GHR  \\\n",
       "0  2018      1   19    18       30  26.243799  50.889774  71.416481   \n",
       "1  2018      1   19    18       35  26.641783  49.539795  77.177094   \n",
       "2  2018      1   19    18       40  26.654078  53.414265  78.373489   \n",
       "3  2018      1   19    18       45  26.439108  55.582245  78.022881   \n",
       "4  2018      1   19    18       50  26.479477  56.173820  82.106972   \n",
       "\n",
       "         DHR          WD  WDR        RGT        RDT  1A Trina_power  \n",
       "0  67.523544  302.882996  3.6  65.268631  59.278999        0.318600  \n",
       "1  71.776718  246.312622  3.6  72.546944  63.134579        0.328800  \n",
       "2  69.008316  305.089630  3.6  76.711456  65.430550        0.334200  \n",
       "3  67.560181  259.662933  3.6  80.445709  66.812790        0.333133  \n",
       "4  73.004196  186.634705  3.6  83.035919  69.054459        0.332400  "
      ]
     },
     "execution_count": 9,
     "metadata": {},
     "output_type": "execute_result"
    }
   ],
   "source": [
    "train.head(5)"
   ]
  },
  {
   "cell_type": "code",
   "execution_count": 10,
   "metadata": {},
   "outputs": [
    {
     "data": {
      "text/html": [
       "<div>\n",
       "<style scoped>\n",
       "    .dataframe tbody tr th:only-of-type {\n",
       "        vertical-align: middle;\n",
       "    }\n",
       "\n",
       "    .dataframe tbody tr th {\n",
       "        vertical-align: top;\n",
       "    }\n",
       "\n",
       "    .dataframe thead th {\n",
       "        text-align: right;\n",
       "    }\n",
       "</style>\n",
       "<table border=\"1\" class=\"dataframe\">\n",
       "  <thead>\n",
       "    <tr style=\"text-align: right;\">\n",
       "      <th></th>\n",
       "      <th>Year</th>\n",
       "      <th>Month</th>\n",
       "      <th>Day</th>\n",
       "      <th>Hour</th>\n",
       "      <th>Minutes</th>\n",
       "      <th>WTC</th>\n",
       "      <th>WRH</th>\n",
       "      <th>GHR</th>\n",
       "      <th>DHR</th>\n",
       "      <th>WD</th>\n",
       "      <th>WDR</th>\n",
       "      <th>RGT</th>\n",
       "      <th>RDT</th>\n",
       "      <th>1A Trina_power</th>\n",
       "    </tr>\n",
       "  </thead>\n",
       "  <tbody>\n",
       "    <tr>\n",
       "      <th>0</th>\n",
       "      <td>2020</td>\n",
       "      <td>1</td>\n",
       "      <td>1</td>\n",
       "      <td>7</td>\n",
       "      <td>0</td>\n",
       "      <td>26.475155</td>\n",
       "      <td>26.081675</td>\n",
       "      <td>162.153366</td>\n",
       "      <td>56.253025</td>\n",
       "      <td>33.677536</td>\n",
       "      <td>0.0</td>\n",
       "      <td>89.188049</td>\n",
       "      <td>48.190262</td>\n",
       "      <td>1.355933</td>\n",
       "    </tr>\n",
       "    <tr>\n",
       "      <th>1</th>\n",
       "      <td>2020</td>\n",
       "      <td>1</td>\n",
       "      <td>1</td>\n",
       "      <td>7</td>\n",
       "      <td>5</td>\n",
       "      <td>26.830191</td>\n",
       "      <td>23.874067</td>\n",
       "      <td>184.131439</td>\n",
       "      <td>60.059135</td>\n",
       "      <td>33.177525</td>\n",
       "      <td>0.0</td>\n",
       "      <td>103.596741</td>\n",
       "      <td>51.176495</td>\n",
       "      <td>2.196533</td>\n",
       "    </tr>\n",
       "    <tr>\n",
       "      <th>2</th>\n",
       "      <td>2020</td>\n",
       "      <td>1</td>\n",
       "      <td>1</td>\n",
       "      <td>7</td>\n",
       "      <td>10</td>\n",
       "      <td>27.303818</td>\n",
       "      <td>22.543364</td>\n",
       "      <td>205.897934</td>\n",
       "      <td>63.810493</td>\n",
       "      <td>32.720444</td>\n",
       "      <td>0.0</td>\n",
       "      <td>120.530693</td>\n",
       "      <td>54.154552</td>\n",
       "      <td>1.468733</td>\n",
       "    </tr>\n",
       "    <tr>\n",
       "      <th>3</th>\n",
       "      <td>2020</td>\n",
       "      <td>1</td>\n",
       "      <td>1</td>\n",
       "      <td>7</td>\n",
       "      <td>15</td>\n",
       "      <td>27.597961</td>\n",
       "      <td>22.269592</td>\n",
       "      <td>225.959869</td>\n",
       "      <td>66.613937</td>\n",
       "      <td>32.253742</td>\n",
       "      <td>0.0</td>\n",
       "      <td>138.593536</td>\n",
       "      <td>56.979244</td>\n",
       "      <td>0.843667</td>\n",
       "    </tr>\n",
       "    <tr>\n",
       "      <th>4</th>\n",
       "      <td>2020</td>\n",
       "      <td>1</td>\n",
       "      <td>1</td>\n",
       "      <td>7</td>\n",
       "      <td>20</td>\n",
       "      <td>27.498199</td>\n",
       "      <td>21.532722</td>\n",
       "      <td>249.442825</td>\n",
       "      <td>70.428032</td>\n",
       "      <td>31.873810</td>\n",
       "      <td>0.0</td>\n",
       "      <td>160.114792</td>\n",
       "      <td>60.657581</td>\n",
       "      <td>1.005133</td>\n",
       "    </tr>\n",
       "  </tbody>\n",
       "</table>\n",
       "</div>"
      ],
      "text/plain": [
       "   Year  Month  Day  Hour  Minutes        WTC        WRH         GHR  \\\n",
       "0  2020      1    1     7        0  26.475155  26.081675  162.153366   \n",
       "1  2020      1    1     7        5  26.830191  23.874067  184.131439   \n",
       "2  2020      1    1     7       10  27.303818  22.543364  205.897934   \n",
       "3  2020      1    1     7       15  27.597961  22.269592  225.959869   \n",
       "4  2020      1    1     7       20  27.498199  21.532722  249.442825   \n",
       "\n",
       "         DHR         WD  WDR         RGT        RDT  1A Trina_power  \n",
       "0  56.253025  33.677536  0.0   89.188049  48.190262        1.355933  \n",
       "1  60.059135  33.177525  0.0  103.596741  51.176495        2.196533  \n",
       "2  63.810493  32.720444  0.0  120.530693  54.154552        1.468733  \n",
       "3  66.613937  32.253742  0.0  138.593536  56.979244        0.843667  \n",
       "4  70.428032  31.873810  0.0  160.114792  60.657581        1.005133  "
      ]
     },
     "execution_count": 10,
     "metadata": {},
     "output_type": "execute_result"
    }
   ],
   "source": [
    "test.head(5)"
   ]
  },
  {
   "cell_type": "markdown",
   "metadata": {},
   "source": [
    "# 数据预处理训练集去异常值"
   ]
  },
  {
   "cell_type": "code",
   "execution_count": 11,
   "metadata": {},
   "outputs": [
    {
     "data": {
      "text/plain": [
       "Year              0\n",
       "Month             0\n",
       "Day               0\n",
       "Hour              0\n",
       "Minutes           0\n",
       "WTC               0\n",
       "WRH               0\n",
       "GHR               0\n",
       "DHR               0\n",
       "WD                0\n",
       "WDR               0\n",
       "RGT               0\n",
       "RDT               0\n",
       "1A Trina_power    0\n",
       "dtype: int64"
      ]
     },
     "execution_count": 11,
     "metadata": {},
     "output_type": "execute_result"
    }
   ],
   "source": [
    "#使用df.isnull().sum()来获得与行数None和NaN值。\n",
    "train.isnull().sum()"
   ]
  },
  {
   "cell_type": "code",
   "execution_count": 12,
   "metadata": {},
   "outputs": [
    {
     "data": {
      "text/plain": [
       "Year              0\n",
       "Month             0\n",
       "Day               0\n",
       "Hour              0\n",
       "Minutes           0\n",
       "WTC               0\n",
       "WRH               0\n",
       "GHR               0\n",
       "DHR               0\n",
       "WD                0\n",
       "WDR               0\n",
       "RGT               0\n",
       "RDT               0\n",
       "1A Trina_power    0\n",
       "dtype: int64"
      ]
     },
     "execution_count": 12,
     "metadata": {},
     "output_type": "execute_result"
    }
   ],
   "source": [
    "test.isnull().sum()"
   ]
  },
  {
   "cell_type": "code",
   "execution_count": 13,
   "metadata": {},
   "outputs": [],
   "source": [
    "# #训练集去掉全是空值的行和列    #axis=0, how='any', thresh=None, subset=None, inplace=False)\n",
    "# # detectioncolumns=['WTC', 'WRH', 'GHR', 'DHR', 'WD', 'WDR', 'RGT', 'RDT']\n",
    "# # for i in detectioncolumns:\n",
    "# train.dropna(axis=\"index\",how='any' , inplace=True)  #删除掉全是空值的行\n",
    "# # train.dropna(axis=\"columns\", how='all', inplace=True)  #删除掉全是空值的列\n",
    "\n",
    "\n",
    "# test.dropna(axis=\"index\", how='any', inplace=True)  #删除掉全是空值的行\n",
    "# # test.dropna(axis=\"columns\", how='all', inplace=True)  #删除掉全是空值的列"
   ]
  },
  {
   "cell_type": "code",
   "execution_count": 14,
   "metadata": {},
   "outputs": [],
   "source": [
    "# #填补缺失值为均值\n",
    "# #train.ffill({\"RGT\":train['RGT'].mean()})\n",
    "# detectioncolumns=['WTC', 'WRH', 'GHR', 'DHR', 'WD', 'WDR', 'RGT', 'RDT']\n",
    "# for i in detectioncolumns:\n",
    "#     replace_NA=train[i].mean()\n",
    "#     train[i].fillna(replace_NA,inplace=True)\n",
    "# #去除测试集空值\n",
    "# for i in detectioncolumns:\n",
    "#     replace_NA=test[i].mean()\n",
    "#     test[i].fillna(replace_NA,inplace=True)\n"
   ]
  },
  {
   "cell_type": "code",
   "execution_count": 15,
   "metadata": {},
   "outputs": [
    {
     "data": {
      "text/plain": [
       "Index(['Year', 'Month', 'Day', 'Hour', 'Minutes', 'WTC', 'WRH', 'GHR', 'DHR',\n",
       "       'WD', 'WDR', 'RGT', 'RDT', '1A Trina_power'],\n",
       "      dtype='object')"
      ]
     },
     "execution_count": 15,
     "metadata": {},
     "output_type": "execute_result"
    }
   ],
   "source": [
    "train.columns"
   ]
  },
  {
   "cell_type": "code",
   "execution_count": 16,
   "metadata": {},
   "outputs": [
    {
     "data": {
      "text/plain": [
       "Index(['Year', 'Month', 'Day', 'Hour', 'Minutes', 'WTC', 'WRH', 'GHR', 'DHR',\n",
       "       'WD', 'WDR', 'RGT', 'RDT', '1A Trina_power'],\n",
       "      dtype='object')"
      ]
     },
     "execution_count": 16,
     "metadata": {},
     "output_type": "execute_result"
    }
   ],
   "source": [
    "test.columns"
   ]
  },
  {
   "cell_type": "code",
   "execution_count": 17,
   "metadata": {},
   "outputs": [
    {
     "data": {
      "text/html": [
       "<div>\n",
       "<style scoped>\n",
       "    .dataframe tbody tr th:only-of-type {\n",
       "        vertical-align: middle;\n",
       "    }\n",
       "\n",
       "    .dataframe tbody tr th {\n",
       "        vertical-align: top;\n",
       "    }\n",
       "\n",
       "    .dataframe thead th {\n",
       "        text-align: right;\n",
       "    }\n",
       "</style>\n",
       "<table border=\"1\" class=\"dataframe\">\n",
       "  <thead>\n",
       "    <tr style=\"text-align: right;\">\n",
       "      <th></th>\n",
       "      <th>Year</th>\n",
       "      <th>Month</th>\n",
       "      <th>Day</th>\n",
       "      <th>Hour</th>\n",
       "      <th>Minutes</th>\n",
       "      <th>WTC</th>\n",
       "      <th>WRH</th>\n",
       "      <th>GHR</th>\n",
       "      <th>DHR</th>\n",
       "      <th>WD</th>\n",
       "      <th>WDR</th>\n",
       "      <th>RGT</th>\n",
       "      <th>RDT</th>\n",
       "      <th>1A Trina_power</th>\n",
       "    </tr>\n",
       "  </thead>\n",
       "  <tbody>\n",
       "    <tr>\n",
       "      <th>0</th>\n",
       "      <td>2018</td>\n",
       "      <td>1</td>\n",
       "      <td>19</td>\n",
       "      <td>18</td>\n",
       "      <td>30</td>\n",
       "      <td>26.243799</td>\n",
       "      <td>50.889774</td>\n",
       "      <td>71.416481</td>\n",
       "      <td>67.523544</td>\n",
       "      <td>302.882996</td>\n",
       "      <td>3.6</td>\n",
       "      <td>65.268631</td>\n",
       "      <td>59.278999</td>\n",
       "      <td>0.318600</td>\n",
       "    </tr>\n",
       "    <tr>\n",
       "      <th>1</th>\n",
       "      <td>2018</td>\n",
       "      <td>1</td>\n",
       "      <td>19</td>\n",
       "      <td>18</td>\n",
       "      <td>35</td>\n",
       "      <td>26.641783</td>\n",
       "      <td>49.539795</td>\n",
       "      <td>77.177094</td>\n",
       "      <td>71.776718</td>\n",
       "      <td>246.312622</td>\n",
       "      <td>3.6</td>\n",
       "      <td>72.546944</td>\n",
       "      <td>63.134579</td>\n",
       "      <td>0.328800</td>\n",
       "    </tr>\n",
       "    <tr>\n",
       "      <th>2</th>\n",
       "      <td>2018</td>\n",
       "      <td>1</td>\n",
       "      <td>19</td>\n",
       "      <td>18</td>\n",
       "      <td>40</td>\n",
       "      <td>26.654078</td>\n",
       "      <td>53.414265</td>\n",
       "      <td>78.373489</td>\n",
       "      <td>69.008316</td>\n",
       "      <td>305.089630</td>\n",
       "      <td>3.6</td>\n",
       "      <td>76.711456</td>\n",
       "      <td>65.430550</td>\n",
       "      <td>0.334200</td>\n",
       "    </tr>\n",
       "    <tr>\n",
       "      <th>3</th>\n",
       "      <td>2018</td>\n",
       "      <td>1</td>\n",
       "      <td>19</td>\n",
       "      <td>18</td>\n",
       "      <td>45</td>\n",
       "      <td>26.439108</td>\n",
       "      <td>55.582245</td>\n",
       "      <td>78.022881</td>\n",
       "      <td>67.560181</td>\n",
       "      <td>259.662933</td>\n",
       "      <td>3.6</td>\n",
       "      <td>80.445709</td>\n",
       "      <td>66.812790</td>\n",
       "      <td>0.333133</td>\n",
       "    </tr>\n",
       "    <tr>\n",
       "      <th>4</th>\n",
       "      <td>2018</td>\n",
       "      <td>1</td>\n",
       "      <td>19</td>\n",
       "      <td>18</td>\n",
       "      <td>50</td>\n",
       "      <td>26.479477</td>\n",
       "      <td>56.173820</td>\n",
       "      <td>82.106972</td>\n",
       "      <td>73.004196</td>\n",
       "      <td>186.634705</td>\n",
       "      <td>3.6</td>\n",
       "      <td>83.035919</td>\n",
       "      <td>69.054459</td>\n",
       "      <td>0.332400</td>\n",
       "    </tr>\n",
       "  </tbody>\n",
       "</table>\n",
       "</div>"
      ],
      "text/plain": [
       "   Year  Month  Day  Hour  Minutes        WTC        WRH        GHR  \\\n",
       "0  2018      1   19    18       30  26.243799  50.889774  71.416481   \n",
       "1  2018      1   19    18       35  26.641783  49.539795  77.177094   \n",
       "2  2018      1   19    18       40  26.654078  53.414265  78.373489   \n",
       "3  2018      1   19    18       45  26.439108  55.582245  78.022881   \n",
       "4  2018      1   19    18       50  26.479477  56.173820  82.106972   \n",
       "\n",
       "         DHR          WD  WDR        RGT        RDT  1A Trina_power  \n",
       "0  67.523544  302.882996  3.6  65.268631  59.278999        0.318600  \n",
       "1  71.776718  246.312622  3.6  72.546944  63.134579        0.328800  \n",
       "2  69.008316  305.089630  3.6  76.711456  65.430550        0.334200  \n",
       "3  67.560181  259.662933  3.6  80.445709  66.812790        0.333133  \n",
       "4  73.004196  186.634705  3.6  83.035919  69.054459        0.332400  "
      ]
     },
     "execution_count": 17,
     "metadata": {},
     "output_type": "execute_result"
    }
   ],
   "source": [
    "train.head()"
   ]
  },
  {
   "cell_type": "code",
   "execution_count": 18,
   "metadata": {},
   "outputs": [
    {
     "data": {
      "text/html": [
       "<div>\n",
       "<style scoped>\n",
       "    .dataframe tbody tr th:only-of-type {\n",
       "        vertical-align: middle;\n",
       "    }\n",
       "\n",
       "    .dataframe tbody tr th {\n",
       "        vertical-align: top;\n",
       "    }\n",
       "\n",
       "    .dataframe thead th {\n",
       "        text-align: right;\n",
       "    }\n",
       "</style>\n",
       "<table border=\"1\" class=\"dataframe\">\n",
       "  <thead>\n",
       "    <tr style=\"text-align: right;\">\n",
       "      <th></th>\n",
       "      <th>Year</th>\n",
       "      <th>Month</th>\n",
       "      <th>Day</th>\n",
       "      <th>Hour</th>\n",
       "      <th>Minutes</th>\n",
       "      <th>WTC</th>\n",
       "      <th>WRH</th>\n",
       "      <th>GHR</th>\n",
       "      <th>DHR</th>\n",
       "      <th>WD</th>\n",
       "      <th>WDR</th>\n",
       "      <th>RGT</th>\n",
       "      <th>RDT</th>\n",
       "      <th>1A Trina_power</th>\n",
       "    </tr>\n",
       "  </thead>\n",
       "  <tbody>\n",
       "    <tr>\n",
       "      <th>0</th>\n",
       "      <td>2020</td>\n",
       "      <td>1</td>\n",
       "      <td>1</td>\n",
       "      <td>7</td>\n",
       "      <td>0</td>\n",
       "      <td>26.475155</td>\n",
       "      <td>26.081675</td>\n",
       "      <td>162.153366</td>\n",
       "      <td>56.253025</td>\n",
       "      <td>33.677536</td>\n",
       "      <td>0.0</td>\n",
       "      <td>89.188049</td>\n",
       "      <td>48.190262</td>\n",
       "      <td>1.355933</td>\n",
       "    </tr>\n",
       "    <tr>\n",
       "      <th>1</th>\n",
       "      <td>2020</td>\n",
       "      <td>1</td>\n",
       "      <td>1</td>\n",
       "      <td>7</td>\n",
       "      <td>5</td>\n",
       "      <td>26.830191</td>\n",
       "      <td>23.874067</td>\n",
       "      <td>184.131439</td>\n",
       "      <td>60.059135</td>\n",
       "      <td>33.177525</td>\n",
       "      <td>0.0</td>\n",
       "      <td>103.596741</td>\n",
       "      <td>51.176495</td>\n",
       "      <td>2.196533</td>\n",
       "    </tr>\n",
       "    <tr>\n",
       "      <th>2</th>\n",
       "      <td>2020</td>\n",
       "      <td>1</td>\n",
       "      <td>1</td>\n",
       "      <td>7</td>\n",
       "      <td>10</td>\n",
       "      <td>27.303818</td>\n",
       "      <td>22.543364</td>\n",
       "      <td>205.897934</td>\n",
       "      <td>63.810493</td>\n",
       "      <td>32.720444</td>\n",
       "      <td>0.0</td>\n",
       "      <td>120.530693</td>\n",
       "      <td>54.154552</td>\n",
       "      <td>1.468733</td>\n",
       "    </tr>\n",
       "    <tr>\n",
       "      <th>3</th>\n",
       "      <td>2020</td>\n",
       "      <td>1</td>\n",
       "      <td>1</td>\n",
       "      <td>7</td>\n",
       "      <td>15</td>\n",
       "      <td>27.597961</td>\n",
       "      <td>22.269592</td>\n",
       "      <td>225.959869</td>\n",
       "      <td>66.613937</td>\n",
       "      <td>32.253742</td>\n",
       "      <td>0.0</td>\n",
       "      <td>138.593536</td>\n",
       "      <td>56.979244</td>\n",
       "      <td>0.843667</td>\n",
       "    </tr>\n",
       "    <tr>\n",
       "      <th>4</th>\n",
       "      <td>2020</td>\n",
       "      <td>1</td>\n",
       "      <td>1</td>\n",
       "      <td>7</td>\n",
       "      <td>20</td>\n",
       "      <td>27.498199</td>\n",
       "      <td>21.532722</td>\n",
       "      <td>249.442825</td>\n",
       "      <td>70.428032</td>\n",
       "      <td>31.873810</td>\n",
       "      <td>0.0</td>\n",
       "      <td>160.114792</td>\n",
       "      <td>60.657581</td>\n",
       "      <td>1.005133</td>\n",
       "    </tr>\n",
       "  </tbody>\n",
       "</table>\n",
       "</div>"
      ],
      "text/plain": [
       "   Year  Month  Day  Hour  Minutes        WTC        WRH         GHR  \\\n",
       "0  2020      1    1     7        0  26.475155  26.081675  162.153366   \n",
       "1  2020      1    1     7        5  26.830191  23.874067  184.131439   \n",
       "2  2020      1    1     7       10  27.303818  22.543364  205.897934   \n",
       "3  2020      1    1     7       15  27.597961  22.269592  225.959869   \n",
       "4  2020      1    1     7       20  27.498199  21.532722  249.442825   \n",
       "\n",
       "         DHR         WD  WDR         RGT        RDT  1A Trina_power  \n",
       "0  56.253025  33.677536  0.0   89.188049  48.190262        1.355933  \n",
       "1  60.059135  33.177525  0.0  103.596741  51.176495        2.196533  \n",
       "2  63.810493  32.720444  0.0  120.530693  54.154552        1.468733  \n",
       "3  66.613937  32.253742  0.0  138.593536  56.979244        0.843667  \n",
       "4  70.428032  31.873810  0.0  160.114792  60.657581        1.005133  "
      ]
     },
     "execution_count": 18,
     "metadata": {},
     "output_type": "execute_result"
    }
   ],
   "source": [
    "test.head()"
   ]
  },
  {
   "cell_type": "markdown",
   "metadata": {},
   "source": [
    "# keras模型训练"
   ]
  },
  {
   "cell_type": "markdown",
   "metadata": {},
   "source": [
    "准备数据"
   ]
  },
  {
   "cell_type": "code",
   "execution_count": 19,
   "metadata": {
    "scrolled": true
   },
   "outputs": [
    {
     "name": "stdout",
     "output_type": "stream",
     "text": [
      "查看训练集\n",
      "    Year  Month  Day  Hour  Minutes        WTC        WRH        GHR  \\\n",
      "0  2018      1   19    18       30  26.243799  50.889774  71.416481   \n",
      "1  2018      1   19    18       35  26.641783  49.539795  77.177094   \n",
      "2  2018      1   19    18       40  26.654078  53.414265  78.373489   \n",
      "3  2018      1   19    18       45  26.439108  55.582245  78.022881   \n",
      "4  2018      1   19    18       50  26.479477  56.173820  82.106972   \n",
      "\n",
      "         DHR        RGT        RDT  1A Trina_power  \n",
      "0  67.523544  65.268631  59.278999        0.318600  \n",
      "1  71.776718  72.546944  63.134579        0.328800  \n",
      "2  69.008316  76.711456  65.430550        0.334200  \n",
      "3  67.560181  80.445709  66.812790        0.333133  \n",
      "4  73.004196  83.035919  69.054459        0.332400  \n",
      "查看测试集\n",
      "    Year  Month  Day  Hour  Minutes        WTC        WRH         GHR  \\\n",
      "0  2020      1    1     7        0  26.475155  26.081675  162.153366   \n",
      "1  2020      1    1     7        5  26.830191  23.874067  184.131439   \n",
      "2  2020      1    1     7       10  27.303818  22.543364  205.897934   \n",
      "3  2020      1    1     7       15  27.597961  22.269592  225.959869   \n",
      "4  2020      1    1     7       20  27.498199  21.532722  249.442825   \n",
      "\n",
      "         DHR         WD  WDR         RGT        RDT  1A Trina_power  \n",
      "0  56.253025  33.677536  0.0   89.188049  48.190262        1.355933  \n",
      "1  60.059135  33.177525  0.0  103.596741  51.176495        2.196533  \n",
      "2  63.810493  32.720444  0.0  120.530693  54.154552        1.468733  \n",
      "3  66.613937  32.253742  0.0  138.593536  56.979244        0.843667  \n",
      "4  70.428032  31.873810  0.0  160.114792  60.657581        1.005133  \n"
     ]
    }
   ],
   "source": [
    "# train1=train[['Year','Month','Day', 'Hour',\n",
    "#        'Minutes','WTC', 'WRH', 'GHR', 'DHR', 'WD', 'WDR', 'RGT', 'RDT', '1A Trina_power']]\n",
    "# print(\"查看训练集\\n\",train1.head())\n",
    "# test1=test[['Year','Month','Day', 'Hour',\n",
    "#        'Minutes','WTC', 'WRH', 'GHR', 'DHR', 'WD', 'WDR', 'RGT', 'RDT', '1A Trina_power']]\n",
    "# print(\"查看测试集\\n\",test.head())\n",
    "############\n",
    "#去除 WD，WDR 特征\n",
    "train1=train[['Year','Month','Day', 'Hour',\n",
    "       'Minutes','WTC', 'WRH', 'GHR', 'DHR', 'RGT', 'RDT', '1A Trina_power']]\n",
    "print(\"查看训练集\\n\",train1.head())\n",
    "test1=test[['Year','Month','Day', 'Hour',\n",
    "       'Minutes','WTC', 'WRH', 'GHR', 'DHR','RGT', 'RDT', '1A Trina_power']]\n",
    "print(\"查看测试集\\n\",test.head())\n"
   ]
  },
  {
   "cell_type": "markdown",
   "metadata": {},
   "source": [
    "归一化数据"
   ]
  },
  {
   "cell_type": "code",
   "execution_count": 20,
   "metadata": {},
   "outputs": [],
   "source": [
    "train1 = train1.values\n",
    "train1 = train1.astype('float32')     # 将整型变为float\n",
    "scaler = MinMaxScaler(feature_range=(0, 1)) # 数据处理，归一化至0~1之间\n",
    "train1 = scaler.fit_transform(train1)\n",
    "\n",
    "test1 = test1.values\n",
    "test1 = test1.astype('float32')     # 将整型变为float\n",
    "scaler = MinMaxScaler(feature_range=(0, 1)) # 数据处理，归一化至0~1之间\n",
    "test1 = scaler.fit_transform(test1)\n",
    "\n",
    "inds = np.arange(train1.shape[0])\n",
    "random.shuffle(inds)\n",
    "train1_inds = inds[0:int(train1.shape[0]*0.8)]\n",
    "eval1_inds = inds[int(train1.shape[0]*0.8):train1.shape[0]]\n",
    "\n",
    "train_x, train_y = train1[train1_inds,1:-1], train1[train1_inds,-1:]\n",
    "#############\n",
    "train_year =train1[train1_inds,0:1]\n",
    "##############\n",
    "eval_x,eval_y = train1[eval1_inds,1:-1], train1[eval1_inds,-1:]\n",
    "test_x, test_y = test1[:,1:-1], test1[:,-1:]\n",
    "##############\n",
    "test_year = test1[:,0:1]\n",
    "##############"
   ]
  },
  {
   "cell_type": "code",
   "execution_count": 21,
   "metadata": {
    "scrolled": true
   },
   "outputs": [
    {
     "name": "stdout",
     "output_type": "stream",
     "text": [
      "[[0.         0.         0.6        ... 0.05057754 0.16080084 0.03964721]\n",
      " [0.         0.         0.6        ... 0.0562432  0.17127295 0.04080353]\n",
      " [0.         0.         0.6        ... 0.05948498 0.17750902 0.0414157 ]\n",
      " ...\n",
      " [1.         1.         1.0000001  ... 0.03924772 0.11613394 0.04396261]\n",
      " [1.         1.         1.0000001  ... 0.03504231 0.10863898 0.05198879]\n",
      " [1.         1.         1.0000001  ... 0.0314142  0.09906423 0.03422841]]\n"
     ]
    }
   ],
   "source": [
    "print(train1)"
   ]
  },
  {
   "cell_type": "code",
   "execution_count": 22,
   "metadata": {},
   "outputs": [
    {
     "name": "stdout",
     "output_type": "stream",
     "text": [
      "[[0.18181819 0.8333334  0.72727275 ... 0.21875627 0.55550474 0.2143512 ]\n",
      " [0.6363636  0.13333334 0.         ... 0.03119139 0.06487878 0.03226681]\n",
      " [1.         0.10000001 0.6363636  ... 0.26369604 0.7778821  0.20140827]\n",
      " ...\n",
      " [0.72727275 0.5        0.6363636  ... 0.22618344 0.8220678  0.26579157]\n",
      " [1.         0.96666664 0.         ... 0.3887734  0.12028668 0.31858137]\n",
      " [0.36363637 0.56666666 1.0000001  ... 0.00724374 0.00383908 0.00920231]]\n"
     ]
    }
   ],
   "source": [
    "print(train_x)"
   ]
  },
  {
   "cell_type": "code",
   "execution_count": 23,
   "metadata": {},
   "outputs": [
    {
     "name": "stdout",
     "output_type": "stream",
     "text": [
      "[[0.74321896]\n",
      " [0.00512028]\n",
      " [0.8362269 ]\n",
      " ...\n",
      " [0.4937499 ]\n",
      " [0.20206022]\n",
      " [0.0035294 ]]\n"
     ]
    }
   ],
   "source": [
    "print(train_y)"
   ]
  },
  {
   "cell_type": "code",
   "execution_count": 24,
   "metadata": {},
   "outputs": [
    {
     "name": "stdout",
     "output_type": "stream",
     "text": [
      "[[1.]\n",
      " [0.]\n",
      " [1.]\n",
      " ...\n",
      " [0.]\n",
      " [1.]\n",
      " [0.]]\n"
     ]
    }
   ],
   "source": [
    "print(train_year)"
   ]
  },
  {
   "cell_type": "code",
   "execution_count": 25,
   "metadata": {},
   "outputs": [
    {
     "name": "stdout",
     "output_type": "stream",
     "text": [
      "(55812, 10) (55812, 1) (13136, 10) (13136, 1)\n"
     ]
    }
   ],
   "source": [
    "print(train_x.shape,train_y.shape,test_x.shape,test_y.shape)"
   ]
  },
  {
   "cell_type": "markdown",
   "metadata": {},
   "source": [
    "# Model1"
   ]
  },
  {
   "cell_type": "code",
   "execution_count": 26,
   "metadata": {},
   "outputs": [
    {
     "name": "stdout",
     "output_type": "stream",
     "text": [
      "Train on 55812 samples, validate on 13953 samples\n",
      "Epoch 1/50\n",
      "55812/55812 [==============================] - 2s - loss: 0.0677 - mean_absolute_error: 0.2018 - val_loss: 0.0465 - val_mean_absolute_error: 0.1699\n",
      "Epoch 2/50\n",
      "55812/55812 [==============================] - 0s - loss: 0.0333 - mean_absolute_error: 0.1510 - val_loss: 0.0262 - val_mean_absolute_error: 0.1360\n",
      "Epoch 3/50\n",
      "55812/55812 [==============================] - 0s - loss: 0.0251 - mean_absolute_error: 0.1327 - val_loss: 0.0224 - val_mean_absolute_error: 0.1274\n",
      "Epoch 4/50\n",
      "55812/55812 [==============================] - 0s - loss: 0.0246 - mean_absolute_error: 0.1309 - val_loss: 0.0243 - val_mean_absolute_error: 0.1297\n",
      "Epoch 5/50\n",
      "55812/55812 [==============================] - 0s - loss: 0.0237 - mean_absolute_error: 0.1289 - val_loss: 0.0231 - val_mean_absolute_error: 0.1285\n",
      "Epoch 6/50\n",
      "55812/55812 [==============================] - 0s - loss: 0.0235 - mean_absolute_error: 0.1283 - val_loss: 0.0232 - val_mean_absolute_error: 0.1284\n",
      "Epoch 7/50\n",
      "55812/55812 [==============================] - 0s - loss: 0.0232 - mean_absolute_error: 0.1276 - val_loss: 0.0224 - val_mean_absolute_error: 0.1249\n",
      "Epoch 8/50\n",
      "55812/55812 [==============================] - 0s - loss: 0.0233 - mean_absolute_error: 0.1278 - val_loss: 0.0220 - val_mean_absolute_error: 0.1263\n",
      "Epoch 9/50\n",
      "55812/55812 [==============================] - ETA: 0s - loss: 0.0231 - mean_absolute_error: 0.127 - 1s - loss: 0.0231 - mean_absolute_error: 0.1271 - val_loss: 0.0220 - val_mean_absolute_error: 0.1262\n",
      "Epoch 10/50\n",
      "55812/55812 [==============================] - 0s - loss: 0.0226 - mean_absolute_error: 0.1263 - val_loss: 0.0211 - val_mean_absolute_error: 0.1233\n",
      "Epoch 11/50\n",
      "55812/55812 [==============================] - 0s - loss: 0.0228 - mean_absolute_error: 0.1265 - val_loss: 0.0213 - val_mean_absolute_error: 0.1245\n",
      "Epoch 12/50\n",
      "55812/55812 [==============================] - 0s - loss: 0.0224 - mean_absolute_error: 0.1256 - val_loss: 0.0217 - val_mean_absolute_error: 0.1253\n",
      "Epoch 13/50\n",
      "55812/55812 [==============================] - 0s - loss: 0.0223 - mean_absolute_error: 0.1252 - val_loss: 0.0210 - val_mean_absolute_error: 0.1236\n",
      "Epoch 14/50\n",
      "55812/55812 [==============================] - 0s - loss: 0.0224 - mean_absolute_error: 0.1255 - val_loss: 0.0213 - val_mean_absolute_error: 0.1242\n",
      "Epoch 15/50\n",
      "55812/55812 [==============================] - 0s - loss: 0.0222 - mean_absolute_error: 0.1248 - val_loss: 0.0207 - val_mean_absolute_error: 0.1220\n",
      "Epoch 16/50\n",
      "55812/55812 [==============================] - 0s - loss: 0.0220 - mean_absolute_error: 0.1245 - val_loss: 0.0217 - val_mean_absolute_error: 0.1249\n",
      "Epoch 17/50\n",
      "55812/55812 [==============================] - 0s - loss: 0.0219 - mean_absolute_error: 0.1241 - val_loss: 0.0218 - val_mean_absolute_error: 0.1250\n",
      "Epoch 18/50\n",
      "55812/55812 [==============================] - 0s - loss: 0.0218 - mean_absolute_error: 0.1237 - val_loss: 0.0209 - val_mean_absolute_error: 0.1213\n",
      "Epoch 19/50\n",
      "55812/55812 [==============================] - 0s - loss: 0.0217 - mean_absolute_error: 0.1234 - val_loss: 0.0213 - val_mean_absolute_error: 0.1220\n",
      "Epoch 20/50\n",
      "55812/55812 [==============================] - 0s - loss: 0.0215 - mean_absolute_error: 0.1230 - val_loss: 0.0265 - val_mean_absolute_error: 0.1340\n",
      "Epoch 21/50\n",
      "55812/55812 [==============================] - 0s - loss: 0.0215 - mean_absolute_error: 0.1230 - val_loss: 0.0205 - val_mean_absolute_error: 0.1206\n",
      "Epoch 22/50\n",
      "55812/55812 [==============================] - 0s - loss: 0.0214 - mean_absolute_error: 0.1226 - val_loss: 0.0211 - val_mean_absolute_error: 0.1209\n",
      "Epoch 23/50\n",
      "55812/55812 [==============================] - 0s - loss: 0.0215 - mean_absolute_error: 0.1226 - val_loss: 0.0206 - val_mean_absolute_error: 0.1200\n",
      "Epoch 24/50\n",
      "55812/55812 [==============================] - 0s - loss: 0.0211 - mean_absolute_error: 0.1217 - val_loss: 0.0216 - val_mean_absolute_error: 0.1236\n",
      "Epoch 25/50\n",
      "55812/55812 [==============================] - 0s - loss: 0.0211 - mean_absolute_error: 0.1215 - val_loss: 0.0244 - val_mean_absolute_error: 0.1292\n",
      "Epoch 26/50\n",
      "55812/55812 [==============================] - 0s - loss: 0.0210 - mean_absolute_error: 0.1212 - val_loss: 0.0208 - val_mean_absolute_error: 0.1191\n",
      "Epoch 27/50\n",
      "55812/55812 [==============================] - 0s - loss: 0.0209 - mean_absolute_error: 0.1206 - val_loss: 0.0201 - val_mean_absolute_error: 0.1184\n",
      "Epoch 28/50\n",
      "55812/55812 [==============================] - 0s - loss: 0.0208 - mean_absolute_error: 0.1203 - val_loss: 0.0207 - val_mean_absolute_error: 0.1193\n",
      "Epoch 29/50\n",
      "55812/55812 [==============================] - 0s - loss: 0.0207 - mean_absolute_error: 0.1199 - val_loss: 0.0195 - val_mean_absolute_error: 0.1181\n",
      "Epoch 30/50\n",
      "55812/55812 [==============================] - 0s - loss: 0.0204 - mean_absolute_error: 0.1190 - val_loss: 0.0200 - val_mean_absolute_error: 0.1179\n",
      "Epoch 31/50\n",
      "55812/55812 [==============================] - 0s - loss: 0.0203 - mean_absolute_error: 0.1188 - val_loss: 0.0194 - val_mean_absolute_error: 0.1174\n",
      "Epoch 32/50\n",
      "55812/55812 [==============================] - 0s - loss: 0.0203 - mean_absolute_error: 0.1186 - val_loss: 0.0196 - val_mean_absolute_error: 0.1175\n",
      "Epoch 33/50\n",
      "55812/55812 [==============================] - 0s - loss: 0.0202 - mean_absolute_error: 0.1180 - val_loss: 0.0196 - val_mean_absolute_error: 0.1177\n",
      "Epoch 34/50\n",
      "55812/55812 [==============================] - 0s - loss: 0.0200 - mean_absolute_error: 0.1175 - val_loss: 0.0196 - val_mean_absolute_error: 0.1168\n",
      "Epoch 35/50\n",
      "55812/55812 [==============================] - 0s - loss: 0.0200 - mean_absolute_error: 0.1171 - val_loss: 0.0191 - val_mean_absolute_error: 0.1163\n",
      "Epoch 36/50\n",
      "55812/55812 [==============================] - 0s - loss: 0.0197 - mean_absolute_error: 0.1165 - val_loss: 0.0187 - val_mean_absolute_error: 0.1143\n",
      "Epoch 37/50\n",
      "55812/55812 [==============================] - 0s - loss: 0.0198 - mean_absolute_error: 0.1164 - val_loss: 0.0185 - val_mean_absolute_error: 0.1140\n",
      "Epoch 38/50\n",
      "55812/55812 [==============================] - 0s - loss: 0.0194 - mean_absolute_error: 0.1153 - val_loss: 0.0214 - val_mean_absolute_error: 0.1204\n",
      "Epoch 39/50\n",
      "55812/55812 [==============================] - 0s - loss: 0.0197 - mean_absolute_error: 0.1158 - val_loss: 0.0200 - val_mean_absolute_error: 0.1167\n",
      "Epoch 40/50\n",
      "55812/55812 [==============================] - 0s - loss: 0.0195 - mean_absolute_error: 0.1150 - val_loss: 0.0185 - val_mean_absolute_error: 0.1137\n",
      "Epoch 41/50\n",
      "55812/55812 [==============================] - 0s - loss: 0.0192 - mean_absolute_error: 0.1141 - val_loss: 0.0191 - val_mean_absolute_error: 0.1142\n",
      "Epoch 42/50\n",
      "55812/55812 [==============================] - 0s - loss: 0.0194 - mean_absolute_error: 0.1144 - val_loss: 0.0200 - val_mean_absolute_error: 0.1162\n",
      "Epoch 43/50\n",
      "55812/55812 [==============================] - 0s - loss: 0.0193 - mean_absolute_error: 0.1139 - val_loss: 0.0197 - val_mean_absolute_error: 0.1154\n",
      "Epoch 44/50\n",
      "55812/55812 [==============================] - 0s - loss: 0.0188 - mean_absolute_error: 0.1129 - val_loss: 0.0206 - val_mean_absolute_error: 0.1153\n",
      "Epoch 45/50\n",
      "55812/55812 [==============================] - 0s - loss: 0.0192 - mean_absolute_error: 0.1134 - val_loss: 0.0187 - val_mean_absolute_error: 0.1123\n",
      "Epoch 46/50\n",
      "55812/55812 [==============================] - 0s - loss: 0.0188 - mean_absolute_error: 0.1126 - val_loss: 0.0184 - val_mean_absolute_error: 0.1113\n",
      "Epoch 47/50\n",
      "55812/55812 [==============================] - 0s - loss: 0.0192 - mean_absolute_error: 0.1133 - val_loss: 0.0186 - val_mean_absolute_error: 0.1121\n",
      "Epoch 48/50\n",
      "55812/55812 [==============================] - 0s - loss: 0.0188 - mean_absolute_error: 0.1119 - val_loss: 0.0190 - val_mean_absolute_error: 0.1126\n",
      "Epoch 49/50\n",
      "55812/55812 [==============================] - 0s - loss: 0.0187 - mean_absolute_error: 0.1118 - val_loss: 0.0176 - val_mean_absolute_error: 0.1090\n",
      "Epoch 50/50\n",
      "55812/55812 [==============================] - 0s - loss: 0.0186 - mean_absolute_error: 0.1112 - val_loss: 0.0200 - val_mean_absolute_error: 0.1148\n"
     ]
    }
   ],
   "source": [
    "model1 = Sequential()\n",
    "model1.add(Dense(units=64, input_shape = (10,),activation='softmax',name='layer1'))\n",
    "model1.add(Dense(units=64,name='layer2'))\n",
    "model1.add(Dense(units=16,name='layer3'))\n",
    "model1.add(Dense(units=8,name='layer4'))\n",
    "model1.add(Dense(units=1,name='layer5'))\n",
    "model1.compile(loss='mean_squared_error',\n",
    "              optimizer='rmsprop',\n",
    "              metrics=['mae'])\n",
    "history = model1.fit(x = train_x,y = train_y, validation_data = (eval_x,eval_y), epochs=50, batch_size=1000,verbose=1)\n",
    "######################################################################\n",
    "#######################################################################"
   ]
  },
  {
   "cell_type": "code",
   "execution_count": 27,
   "metadata": {},
   "outputs": [
    {
     "data": {
      "image/png": "[encoded data removed]",
      "text/plain": [
       "<Figure size 432x288 with 1 Axes>"
      ]
     },
     "metadata": {},
     "output_type": "display_data"
    }
   ],
   "source": [
    "# 绘制训练 & 验证的损失值\n",
    "plt.plot(history.history['loss'])\n",
    "plt.plot(history.history['val_loss'])\n",
    "plt.title('Model1 loss')\n",
    "plt.ylabel('Loss')\n",
    "plt.xlabel('Epoch')\n",
    "plt.legend(['Train', 'Test'], loc='upper left')\n",
    "plt.show()"
   ]
  },
  {
   "cell_type": "code",
   "execution_count": 28,
   "metadata": {
    "scrolled": false
   },
   "outputs": [],
   "source": [
    "# # 绘制训练 & 验证的准确率值\n",
    "# plt.plot(history.history['acc'])\n",
    "# plt.plot(history.history['val_acc'])\n",
    "# plt.title('Model accuracy')\n",
    "# plt.ylabel('Accuracy')\n",
    "# plt.xlabel('Epoch')\n",
    "# plt.legend(['Train', 'Test'], loc='upper left')\n",
    "# plt.show()"
   ]
  },
  {
   "cell_type": "markdown",
   "metadata": {},
   "source": [
    "#  Model2   Dense with activation"
   ]
  },
  {
   "cell_type": "code",
   "execution_count": 29,
   "metadata": {},
   "outputs": [
    {
     "name": "stdout",
     "output_type": "stream",
     "text": [
      "Train on 55812 samples, validate on 13953 samples\n",
      "Epoch 1/50\n",
      "55812/55812 [==============================] - 0s - loss: 0.3210 - mean_absolute_error: 0.3210 - val_loss: 0.1974 - val_mean_absolute_error: 0.1974\n",
      "Epoch 2/50\n",
      "55812/55812 [==============================] - 0s - loss: 0.1961 - mean_absolute_error: 0.1961 - val_loss: 0.1961 - val_mean_absolute_error: 0.1961\n",
      "Epoch 3/50\n",
      "55812/55812 [==============================] - 0s - loss: 0.1935 - mean_absolute_error: 0.1935 - val_loss: 0.1910 - val_mean_absolute_error: 0.1910\n",
      "Epoch 4/50\n",
      "55812/55812 [==============================] - 0s - loss: 0.1855 - mean_absolute_error: 0.1855 - val_loss: 0.1794 - val_mean_absolute_error: 0.1794\n",
      "Epoch 5/50\n",
      "55812/55812 [==============================] - 0s - loss: 0.1719 - mean_absolute_error: 0.1719 - val_loss: 0.1637 - val_mean_absolute_error: 0.1637\n",
      "Epoch 6/50\n",
      "55812/55812 [==============================] - 0s - loss: 0.1549 - mean_absolute_error: 0.1549 - val_loss: 0.1466 - val_mean_absolute_error: 0.1466\n",
      "Epoch 7/50\n",
      "55812/55812 [==============================] - 0s - loss: 0.1380 - mean_absolute_error: 0.1380 - val_loss: 0.1309 - val_mean_absolute_error: 0.1309\n",
      "Epoch 8/50\n",
      "55812/55812 [==============================] - 0s - loss: 0.1292 - mean_absolute_error: 0.1292 - val_loss: 0.1269 - val_mean_absolute_error: 0.1269\n",
      "Epoch 9/50\n",
      "55812/55812 [==============================] - 0s - loss: 0.1266 - mean_absolute_error: 0.1266 - val_loss: 0.1250 - val_mean_absolute_error: 0.1250\n",
      "Epoch 10/50\n",
      "55812/55812 [==============================] - 0s - loss: 0.1252 - mean_absolute_error: 0.1252 - val_loss: 0.1246 - val_mean_absolute_error: 0.1246\n",
      "Epoch 11/50\n",
      "55812/55812 [==============================] - 0s - loss: 0.1245 - mean_absolute_error: 0.1245 - val_loss: 0.1238 - val_mean_absolute_error: 0.1238\n",
      "Epoch 12/50\n",
      "55812/55812 [==============================] - 0s - loss: 0.1238 - mean_absolute_error: 0.1238 - val_loss: 0.1223 - val_mean_absolute_error: 0.1223\n",
      "Epoch 13/50\n",
      "55812/55812 [==============================] - 0s - loss: 0.1234 - mean_absolute_error: 0.1234 - val_loss: 0.1219 - val_mean_absolute_error: 0.1219\n",
      "Epoch 14/50\n",
      "55812/55812 [==============================] - 0s - loss: 0.1230 - mean_absolute_error: 0.1230 - val_loss: 0.1216 - val_mean_absolute_error: 0.1216\n",
      "Epoch 15/50\n",
      "55812/55812 [==============================] - 0s - loss: 0.1229 - mean_absolute_error: 0.1229 - val_loss: 0.1212 - val_mean_absolute_error: 0.1212\n",
      "Epoch 16/50\n",
      "55812/55812 [==============================] - 0s - loss: 0.1223 - mean_absolute_error: 0.1223 - val_loss: 0.1228 - val_mean_absolute_error: 0.1228\n",
      "Epoch 17/50\n",
      "55812/55812 [==============================] - 0s - loss: 0.1220 - mean_absolute_error: 0.1220 - val_loss: 0.1209 - val_mean_absolute_error: 0.1209\n",
      "Epoch 18/50\n",
      "55812/55812 [==============================] - 0s - loss: 0.1218 - mean_absolute_error: 0.1218 - val_loss: 0.1204 - val_mean_absolute_error: 0.1204\n",
      "Epoch 19/50\n",
      "55812/55812 [==============================] - 0s - loss: 0.1215 - mean_absolute_error: 0.1215 - val_loss: 0.1202 - val_mean_absolute_error: 0.1202\n",
      "Epoch 20/50\n",
      "55812/55812 [==============================] - 0s - loss: 0.1213 - mean_absolute_error: 0.1213 - val_loss: 0.1217 - val_mean_absolute_error: 0.1217\n",
      "Epoch 21/50\n",
      "55812/55812 [==============================] - 0s - loss: 0.1212 - mean_absolute_error: 0.1212 - val_loss: 0.1204 - val_mean_absolute_error: 0.1204\n",
      "Epoch 22/50\n",
      "55812/55812 [==============================] - 0s - loss: 0.1208 - mean_absolute_error: 0.1208 - val_loss: 0.1205 - val_mean_absolute_error: 0.1205\n",
      "Epoch 23/50\n",
      "55812/55812 [==============================] - 0s - loss: 0.1209 - mean_absolute_error: 0.1209 - val_loss: 0.1191 - val_mean_absolute_error: 0.1191\n",
      "Epoch 24/50\n",
      "55812/55812 [==============================] - 0s - loss: 0.1206 - mean_absolute_error: 0.1206 - val_loss: 0.1249 - val_mean_absolute_error: 0.1249\n",
      "Epoch 25/50\n",
      "55812/55812 [==============================] - 0s - loss: 0.1202 - mean_absolute_error: 0.1202 - val_loss: 0.1186 - val_mean_absolute_error: 0.1186\n",
      "Epoch 26/50\n",
      "55812/55812 [==============================] - 0s - loss: 0.1203 - mean_absolute_error: 0.1203 - val_loss: 0.1185 - val_mean_absolute_error: 0.1185\n",
      "Epoch 27/50\n",
      "55812/55812 [==============================] - 0s - loss: 0.1199 - mean_absolute_error: 0.1199 - val_loss: 0.1197 - val_mean_absolute_error: 0.1197\n",
      "Epoch 28/50\n",
      "55812/55812 [==============================] - 0s - loss: 0.1197 - mean_absolute_error: 0.1197 - val_loss: 0.1183 - val_mean_absolute_error: 0.1183\n",
      "Epoch 29/50\n",
      "55812/55812 [==============================] - 0s - loss: 0.1195 - mean_absolute_error: 0.1195 - val_loss: 0.1244 - val_mean_absolute_error: 0.1244\n",
      "Epoch 30/50\n",
      "55812/55812 [==============================] - 0s - loss: 0.1198 - mean_absolute_error: 0.1198 - val_loss: 0.1178 - val_mean_absolute_error: 0.1178\n",
      "Epoch 31/50\n",
      "55812/55812 [==============================] - 0s - loss: 0.1193 - mean_absolute_error: 0.1193 - val_loss: 0.1220 - val_mean_absolute_error: 0.1220\n",
      "Epoch 32/50\n",
      "55812/55812 [==============================] - 0s - loss: 0.1195 - mean_absolute_error: 0.1195 - val_loss: 0.1182 - val_mean_absolute_error: 0.1182\n",
      "Epoch 33/50\n",
      "55812/55812 [==============================] - 0s - loss: 0.1190 - mean_absolute_error: 0.1190 - val_loss: 0.1174 - val_mean_absolute_error: 0.1174\n",
      "Epoch 34/50\n",
      "55812/55812 [==============================] - 0s - loss: 0.1190 - mean_absolute_error: 0.1190 - val_loss: 0.1188 - val_mean_absolute_error: 0.1188\n",
      "Epoch 35/50\n",
      "55812/55812 [==============================] - 0s - loss: 0.1189 - mean_absolute_error: 0.1189 - val_loss: 0.1175 - val_mean_absolute_error: 0.1175\n",
      "Epoch 36/50\n",
      "55812/55812 [==============================] - 0s - loss: 0.1189 - mean_absolute_error: 0.1189 - val_loss: 0.1192 - val_mean_absolute_error: 0.1192\n",
      "Epoch 37/50\n",
      "55812/55812 [==============================] - 0s - loss: 0.1188 - mean_absolute_error: 0.1188 - val_loss: 0.1180 - val_mean_absolute_error: 0.1180\n",
      "Epoch 38/50\n",
      "55812/55812 [==============================] - 0s - loss: 0.1183 - mean_absolute_error: 0.1183 - val_loss: 0.1170 - val_mean_absolute_error: 0.1170\n",
      "Epoch 39/50\n",
      "55812/55812 [==============================] - 0s - loss: 0.1186 - mean_absolute_error: 0.1186 - val_loss: 0.1191 - val_mean_absolute_error: 0.1191\n",
      "Epoch 40/50\n",
      "55812/55812 [==============================] - 0s - loss: 0.1185 - mean_absolute_error: 0.1185 - val_loss: 0.1166 - val_mean_absolute_error: 0.1166\n",
      "Epoch 41/50\n",
      "55812/55812 [==============================] - 0s - loss: 0.1183 - mean_absolute_error: 0.1183 - val_loss: 0.1175 - val_mean_absolute_error: 0.1175\n",
      "Epoch 42/50\n",
      "55812/55812 [==============================] - 0s - loss: 0.1181 - mean_absolute_error: 0.1181 - val_loss: 0.1170 - val_mean_absolute_error: 0.1170\n",
      "Epoch 43/50\n",
      "55812/55812 [==============================] - 0s - loss: 0.1181 - mean_absolute_error: 0.1181 - val_loss: 0.1186 - val_mean_absolute_error: 0.1186\n",
      "Epoch 44/50\n",
      "55812/55812 [==============================] - 0s - loss: 0.1180 - mean_absolute_error: 0.1180 - val_loss: 0.1162 - val_mean_absolute_error: 0.1162\n",
      "Epoch 45/50\n",
      "55812/55812 [==============================] - 0s - loss: 0.1179 - mean_absolute_error: 0.1179 - val_loss: 0.1170 - val_mean_absolute_error: 0.1170\n",
      "Epoch 46/50\n",
      "55812/55812 [==============================] - 0s - loss: 0.1178 - mean_absolute_error: 0.1178 - val_loss: 0.1162 - val_mean_absolute_error: 0.1162\n",
      "Epoch 47/50\n",
      "55812/55812 [==============================] - 0s - loss: 0.1178 - mean_absolute_error: 0.1178 - val_loss: 0.1163 - val_mean_absolute_error: 0.1163\n",
      "Epoch 48/50\n",
      "55812/55812 [==============================] - 0s - loss: 0.1175 - mean_absolute_error: 0.1175 - val_loss: 0.1160 - val_mean_absolute_error: 0.1160\n",
      "Epoch 49/50\n",
      "55812/55812 [==============================] - 0s - loss: 0.1175 - mean_absolute_error: 0.1175 - val_loss: 0.1163 - val_mean_absolute_error: 0.1163\n",
      "Epoch 50/50\n",
      "55812/55812 [==============================] - 0s - loss: 0.1175 - mean_absolute_error: 0.1175 - val_loss: 0.1165 - val_mean_absolute_error: 0.1165\n"
     ]
    }
   ],
   "source": [
    "model2 = Sequential()\n",
    "model2.add(Dense(units=64, input_shape = (10,),activation='sigmoid',name='layer1'))\n",
    "model2.add(Dense(units=32, activation='sigmoid',name='layer2'))\n",
    "model2.add(Dense(units=16,name='layer3',activation='sigmoid'))\n",
    "model2.add(Dense(units=8,name='layer4',activation='sigmoid'))\n",
    "model2.add(Dense(units=1,name='layer5'))\n",
    "# model2.add(Dense(units=4,name='layer5',activation='sigmoid'))\n",
    "# model2.add(Dense(units=1,name='layer6'))\n",
    "model2.compile(loss='mean_absolute_error',\n",
    "              optimizer='rmsprop',\n",
    "              metrics=['mae'])\n",
    "history=model2.fit(x = train_x,y = train_y, validation_data = (eval_x,eval_y), epochs=50, batch_size=1000)\n",
    "\n",
    "#########################################################################\n"
   ]
  },
  {
   "cell_type": "code",
   "execution_count": 30,
   "metadata": {},
   "outputs": [
    {
     "data": {
      "image/png": "[encoded data removed]",
      "text/plain": [
       "<Figure size 432x288 with 1 Axes>"
      ]
     },
     "metadata": {},
     "output_type": "display_data"
    }
   ],
   "source": [
    "########################################################################\n",
    "# 绘制训练 & 验证的损失值\n",
    "plt.plot(history.history['loss'])\n",
    "plt.plot(history.history['val_loss'])\n",
    "plt.title('Model2 loss')\n",
    "plt.ylabel('Loss')\n",
    "plt.xlabel('Epoch')\n",
    "plt.legend(['Train', 'Test'], loc='upper left')\n",
    "plt.show()"
   ]
  },
  {
   "cell_type": "markdown",
   "metadata": {},
   "source": [
    "# dense_model3 with activation,bias"
   ]
  },
  {
   "cell_type": "code",
   "execution_count": 31,
   "metadata": {},
   "outputs": [
    {
     "name": "stdout",
     "output_type": "stream",
     "text": [
      "Train on 55812 samples, validate on 13953 samples\n",
      "Epoch 1/50\n",
      "55812/55812 [==============================] - 0s - loss: 0.2178 - mean_absolute_error: 0.2178 - val_loss: 0.1960 - val_mean_absolute_error: 0.1960\n",
      "Epoch 2/50\n",
      "55812/55812 [==============================] - 0s - loss: 0.1939 - mean_absolute_error: 0.1939 - val_loss: 0.1923 - val_mean_absolute_error: 0.1923\n",
      "Epoch 3/50\n",
      "55812/55812 [==============================] - 0s - loss: 0.1892 - mean_absolute_error: 0.1892 - val_loss: 0.1859 - val_mean_absolute_error: 0.1859\n",
      "Epoch 4/50\n",
      "55812/55812 [==============================] - 0s - loss: 0.1811 - mean_absolute_error: 0.1811 - val_loss: 0.1749 - val_mean_absolute_error: 0.1749\n",
      "Epoch 5/50\n",
      "55812/55812 [==============================] - 0s - loss: 0.1679 - mean_absolute_error: 0.1679 - val_loss: 0.1612 - val_mean_absolute_error: 0.1612\n",
      "Epoch 6/50\n",
      "55812/55812 [==============================] - 0s - loss: 0.1516 - mean_absolute_error: 0.1516 - val_loss: 0.1423 - val_mean_absolute_error: 0.1423\n",
      "Epoch 7/50\n",
      "55812/55812 [==============================] - 0s - loss: 0.1351 - mean_absolute_error: 0.1351 - val_loss: 0.1289 - val_mean_absolute_error: 0.1289\n",
      "Epoch 8/50\n",
      "55812/55812 [==============================] - 0s - loss: 0.1282 - mean_absolute_error: 0.1282 - val_loss: 0.1268 - val_mean_absolute_error: 0.1268\n",
      "Epoch 9/50\n",
      "55812/55812 [==============================] - 0s - loss: 0.1260 - mean_absolute_error: 0.1260 - val_loss: 0.1263 - val_mean_absolute_error: 0.1263\n",
      "Epoch 10/50\n",
      "55812/55812 [==============================] - 0s - loss: 0.1250 - mean_absolute_error: 0.1250 - val_loss: 0.1230 - val_mean_absolute_error: 0.1230\n",
      "Epoch 11/50\n",
      "55812/55812 [==============================] - 0s - loss: 0.1241 - mean_absolute_error: 0.1241 - val_loss: 0.1231 - val_mean_absolute_error: 0.1231\n",
      "Epoch 12/50\n",
      "55812/55812 [==============================] - 0s - loss: 0.1231 - mean_absolute_error: 0.1231 - val_loss: 0.1222 - val_mean_absolute_error: 0.1222\n",
      "Epoch 13/50\n",
      "55812/55812 [==============================] - 0s - loss: 0.1227 - mean_absolute_error: 0.1227 - val_loss: 0.1218 - val_mean_absolute_error: 0.1218\n",
      "Epoch 14/50\n",
      "55812/55812 [==============================] - 0s - loss: 0.1225 - mean_absolute_error: 0.1225 - val_loss: 0.1209 - val_mean_absolute_error: 0.1209\n",
      "Epoch 15/50\n",
      "55812/55812 [==============================] - 0s - loss: 0.1222 - mean_absolute_error: 0.1222 - val_loss: 0.1209 - val_mean_absolute_error: 0.1209\n",
      "Epoch 16/50\n",
      "55812/55812 [==============================] - 0s - loss: 0.1217 - mean_absolute_error: 0.1217 - val_loss: 0.1202 - val_mean_absolute_error: 0.1202\n",
      "Epoch 17/50\n",
      "55812/55812 [==============================] - 0s - loss: 0.1218 - mean_absolute_error: 0.1218 - val_loss: 0.1229 - val_mean_absolute_error: 0.1229\n",
      "Epoch 18/50\n",
      "55812/55812 [==============================] - 0s - loss: 0.1214 - mean_absolute_error: 0.1214 - val_loss: 0.1197 - val_mean_absolute_error: 0.1197\n",
      "Epoch 19/50\n",
      "55812/55812 [==============================] - 0s - loss: 0.1213 - mean_absolute_error: 0.1213 - val_loss: 0.1197 - val_mean_absolute_error: 0.1197\n",
      "Epoch 20/50\n",
      "55812/55812 [==============================] - 0s - loss: 0.1210 - mean_absolute_error: 0.1210 - val_loss: 0.1201 - val_mean_absolute_error: 0.1201\n",
      "Epoch 21/50\n",
      "55812/55812 [==============================] - 0s - loss: 0.1209 - mean_absolute_error: 0.1209 - val_loss: 0.1191 - val_mean_absolute_error: 0.1191\n",
      "Epoch 22/50\n",
      "55812/55812 [==============================] - 0s - loss: 0.1205 - mean_absolute_error: 0.1205 - val_loss: 0.1209 - val_mean_absolute_error: 0.1209\n",
      "Epoch 23/50\n",
      "55812/55812 [==============================] - 0s - loss: 0.1204 - mean_absolute_error: 0.1204 - val_loss: 0.1202 - val_mean_absolute_error: 0.1202\n",
      "Epoch 24/50\n",
      "55812/55812 [==============================] - 0s - loss: 0.1201 - mean_absolute_error: 0.1201 - val_loss: 0.1200 - val_mean_absolute_error: 0.1200\n",
      "Epoch 25/50\n",
      "55812/55812 [==============================] - 0s - loss: 0.1201 - mean_absolute_error: 0.1201 - val_loss: 0.1234 - val_mean_absolute_error: 0.1234\n",
      "Epoch 26/50\n",
      "55812/55812 [==============================] - 0s - loss: 0.1197 - mean_absolute_error: 0.1197 - val_loss: 0.1181 - val_mean_absolute_error: 0.1181\n",
      "Epoch 27/50\n",
      "55812/55812 [==============================] - 0s - loss: 0.1200 - mean_absolute_error: 0.1200 - val_loss: 0.1181 - val_mean_absolute_error: 0.1181\n",
      "Epoch 28/50\n",
      "55812/55812 [==============================] - 0s - loss: 0.1195 - mean_absolute_error: 0.1195 - val_loss: 0.1253 - val_mean_absolute_error: 0.1253\n",
      "Epoch 29/50\n",
      "55812/55812 [==============================] - 0s - loss: 0.1198 - mean_absolute_error: 0.1198 - val_loss: 0.1179 - val_mean_absolute_error: 0.1179\n",
      "Epoch 30/50\n",
      "55812/55812 [==============================] - 0s - loss: 0.1195 - mean_absolute_error: 0.1195 - val_loss: 0.1180 - val_mean_absolute_error: 0.1180\n",
      "Epoch 31/50\n",
      "55812/55812 [==============================] - 0s - loss: 0.1192 - mean_absolute_error: 0.1192 - val_loss: 0.1188 - val_mean_absolute_error: 0.1188\n",
      "Epoch 32/50\n",
      "55812/55812 [==============================] - 0s - loss: 0.1189 - mean_absolute_error: 0.1189 - val_loss: 0.1182 - val_mean_absolute_error: 0.1182\n",
      "Epoch 33/50\n",
      "55812/55812 [==============================] - 0s - loss: 0.1190 - mean_absolute_error: 0.1190 - val_loss: 0.1172 - val_mean_absolute_error: 0.1172\n",
      "Epoch 34/50\n",
      "55812/55812 [==============================] - 0s - loss: 0.1189 - mean_absolute_error: 0.1189 - val_loss: 0.1191 - val_mean_absolute_error: 0.1191\n",
      "Epoch 35/50\n",
      "55812/55812 [==============================] - 0s - loss: 0.1186 - mean_absolute_error: 0.1186 - val_loss: 0.1207 - val_mean_absolute_error: 0.1207\n",
      "Epoch 36/50\n",
      "55812/55812 [==============================] - 0s - loss: 0.1189 - mean_absolute_error: 0.1189 - val_loss: 0.1195 - val_mean_absolute_error: 0.1195\n",
      "Epoch 37/50\n",
      "55812/55812 [==============================] - 0s - loss: 0.1183 - mean_absolute_error: 0.1183 - val_loss: 0.1166 - val_mean_absolute_error: 0.1166\n",
      "Epoch 38/50\n",
      "55812/55812 [==============================] - 0s - loss: 0.1183 - mean_absolute_error: 0.1183 - val_loss: 0.1174 - val_mean_absolute_error: 0.1174\n",
      "Epoch 39/50\n",
      "55812/55812 [==============================] - 0s - loss: 0.1182 - mean_absolute_error: 0.1182 - val_loss: 0.1186 - val_mean_absolute_error: 0.1186\n",
      "Epoch 40/50\n",
      "55812/55812 [==============================] - 0s - loss: 0.1184 - mean_absolute_error: 0.1184 - val_loss: 0.1175 - val_mean_absolute_error: 0.1175\n",
      "Epoch 41/50\n",
      "55812/55812 [==============================] - 0s - loss: 0.1179 - mean_absolute_error: 0.1179 - val_loss: 0.1162 - val_mean_absolute_error: 0.1162\n",
      "Epoch 42/50\n",
      "55812/55812 [==============================] - 0s - loss: 0.1179 - mean_absolute_error: 0.1179 - val_loss: 0.1161 - val_mean_absolute_error: 0.1161\n",
      "Epoch 43/50\n",
      "55812/55812 [==============================] - 0s - loss: 0.1176 - mean_absolute_error: 0.1176 - val_loss: 0.1166 - val_mean_absolute_error: 0.1166\n",
      "Epoch 44/50\n",
      "55812/55812 [==============================] - 0s - loss: 0.1178 - mean_absolute_error: 0.1178 - val_loss: 0.1170 - val_mean_absolute_error: 0.1170\n",
      "Epoch 45/50\n",
      "55812/55812 [==============================] - 0s - loss: 0.1178 - mean_absolute_error: 0.1178 - val_loss: 0.1167 - val_mean_absolute_error: 0.1167\n",
      "Epoch 46/50\n",
      "55812/55812 [==============================] - 0s - loss: 0.1173 - mean_absolute_error: 0.1173 - val_loss: 0.1166 - val_mean_absolute_error: 0.1166\n",
      "Epoch 47/50\n",
      "55812/55812 [==============================] - 0s - loss: 0.1174 - mean_absolute_error: 0.1174 - val_loss: 0.1168 - val_mean_absolute_error: 0.1168\n",
      "Epoch 48/50\n",
      "55812/55812 [==============================] - 0s - loss: 0.1172 - mean_absolute_error: 0.1172 - val_loss: 0.1160 - val_mean_absolute_error: 0.1160\n",
      "Epoch 49/50\n",
      "55812/55812 [==============================] - 0s - loss: 0.1174 - mean_absolute_error: 0.1174 - val_loss: 0.1162 - val_mean_absolute_error: 0.1162\n",
      "Epoch 50/50\n",
      "55812/55812 [==============================] - 0s - loss: 0.1169 - mean_absolute_error: 0.1169 - val_loss: 0.1173 - val_mean_absolute_error: 0.1173\n"
     ]
    }
   ],
   "source": [
    "model3 = Sequential()\n",
    "model3.add(Dense(units=64, input_shape = (10,),activation='sigmoid',name='layer1',use_bias = True))\n",
    "model3.add(Dense(units=32,activation='sigmoid',name='layer2',use_bias = True))\n",
    "model3.add(Dense(units=16,name='layer3',activation='sigmoid',use_bias = True))\n",
    "model3.add(Dense(units=8,name='layer4',activation='sigmoid',use_bias = True))\n",
    "model3.add(Dense(units=1,name='layer5'))\n",
    "model3.compile(loss='mean_absolute_error',\n",
    "              optimizer='rmsprop',\n",
    "              metrics=['mae'])\n",
    "history=model3.fit(x = train_x,y = train_y, validation_data = (eval_x,eval_y), epochs=50, batch_size=1000)\n",
    "############################################################################################################"
   ]
  },
  {
   "cell_type": "code",
   "execution_count": 32,
   "metadata": {
    "scrolled": true
   },
   "outputs": [
    {
     "data": {
      "image/png": "[encoded data removed]",
      "text/plain": [
       "<Figure size 432x288 with 1 Axes>"
      ]
     },
     "metadata": {},
     "output_type": "display_data"
    }
   ],
   "source": [
    "########################################################################\n",
    "# 绘制训练 & 验证的损失值\n",
    "plt.plot(history.history['loss'])\n",
    "plt.plot(history.history['val_loss'])\n",
    "plt.title('Model3 loss')\n",
    "plt.ylabel('Loss')\n",
    "plt.xlabel('Epoch')\n",
    "plt.legend(['Train', 'Test'], loc='upper left')\n",
    "plt.show()"
   ]
  },
  {
   "cell_type": "markdown",
   "metadata": {},
   "source": [
    "# BP Model"
   ]
  },
  {
   "cell_type": "code",
   "execution_count": 57,
   "metadata": {},
   "outputs": [
    {
     "name": "stderr",
     "output_type": "stream",
     "text": [
      "C:\\ProgramData\\Anaconda3\\lib\\site-packages\\ipykernel_launcher.py:2: UserWarning: Update your `Dense` call to the Keras 2 API: `Dense(10, input_shape=(10,), activation=\"sigmoid\", kernel_initializer=\"uniform\")`\n",
      "  \n"
     ]
    },
    {
     "name": "stdout",
     "output_type": "stream",
     "text": [
      "Train on 55812 samples, validate on 13953 samples\n",
      "Epoch 1/50\n",
      "55812/55812 [==============================] - 0s - loss: 0.7017 - mean_absolute_error: 0.2200 - val_loss: 0.6955 - val_mean_absolute_error: 0.2131\n",
      "Epoch 2/50\n",
      "55812/55812 [==============================] - 0s - loss: 0.6926 - mean_absolute_error: 0.2074 - val_loss: 0.6905 - val_mean_absolute_error: 0.2042\n",
      "Epoch 3/50\n",
      "55812/55812 [==============================] - 0s - loss: 0.6893 - mean_absolute_error: 0.2008 - val_loss: 0.6885 - val_mean_absolute_error: 0.1997\n",
      "Epoch 4/50\n",
      "55812/55812 [==============================] - 0s - loss: 0.6878 - mean_absolute_error: 0.1977 - val_loss: 0.6875 - val_mean_absolute_error: 0.1976\n",
      "Epoch 5/50\n",
      "55812/55812 [==============================] - 0s - loss: 0.6869 - mean_absolute_error: 0.1960 - val_loss: 0.6868 - val_mean_absolute_error: 0.1964\n",
      "Epoch 6/50\n",
      "55812/55812 [==============================] - 0s - loss: 0.6863 - mean_absolute_error: 0.1951 - val_loss: 0.6862 - val_mean_absolute_error: 0.1957\n",
      "Epoch 7/50\n",
      "55812/55812 [==============================] - 0s - loss: 0.6857 - mean_absolute_error: 0.1945 - val_loss: 0.6856 - val_mean_absolute_error: 0.1951\n",
      "Epoch 8/50\n",
      "55812/55812 [==============================] - 0s - loss: 0.6851 - mean_absolute_error: 0.1940 - val_loss: 0.6851 - val_mean_absolute_error: 0.1946\n",
      "Epoch 9/50\n",
      "55812/55812 [==============================] - 0s - loss: 0.6846 - mean_absolute_error: 0.1935 - val_loss: 0.6846 - val_mean_absolute_error: 0.1942\n",
      "Epoch 10/50\n",
      "55812/55812 [==============================] - 0s - loss: 0.6840 - mean_absolute_error: 0.1931 - val_loss: 0.6840 - val_mean_absolute_error: 0.1938\n",
      "Epoch 11/50\n",
      "55812/55812 [==============================] - 0s - loss: 0.6835 - mean_absolute_error: 0.1927 - val_loss: 0.6835 - val_mean_absolute_error: 0.1934\n",
      "Epoch 12/50\n",
      "55812/55812 [==============================] - 0s - loss: 0.6830 - mean_absolute_error: 0.1923 - val_loss: 0.6829 - val_mean_absolute_error: 0.1930\n",
      "Epoch 13/50\n",
      "55812/55812 [==============================] - 0s - loss: 0.6824 - mean_absolute_error: 0.1919 - val_loss: 0.6824 - val_mean_absolute_error: 0.1926\n",
      "Epoch 14/50\n",
      "55812/55812 [==============================] - 0s - loss: 0.6819 - mean_absolute_error: 0.1915 - val_loss: 0.6818 - val_mean_absolute_error: 0.1922\n",
      "Epoch 15/50\n",
      "55812/55812 [==============================] - 0s - loss: 0.6813 - mean_absolute_error: 0.1911 - val_loss: 0.6813 - val_mean_absolute_error: 0.1918\n",
      "Epoch 16/50\n",
      "55812/55812 [==============================] - 0s - loss: 0.6808 - mean_absolute_error: 0.1907 - val_loss: 0.6807 - val_mean_absolute_error: 0.1914\n",
      "Epoch 17/50\n",
      "55812/55812 [==============================] - 0s - loss: 0.6803 - mean_absolute_error: 0.1904 - val_loss: 0.6802 - val_mean_absolute_error: 0.1910\n",
      "Epoch 18/50\n",
      "55812/55812 [==============================] - 0s - loss: 0.6797 - mean_absolute_error: 0.1900 - val_loss: 0.6797 - val_mean_absolute_error: 0.1906\n",
      "Epoch 19/50\n",
      "55812/55812 [==============================] - 0s - loss: 0.6792 - mean_absolute_error: 0.1896 - val_loss: 0.6791 - val_mean_absolute_error: 0.1903\n",
      "Epoch 20/50\n",
      "55812/55812 [==============================] - 0s - loss: 0.6786 - mean_absolute_error: 0.1892 - val_loss: 0.6786 - val_mean_absolute_error: 0.1899\n",
      "Epoch 21/50\n",
      "55812/55812 [==============================] - 0s - loss: 0.6781 - mean_absolute_error: 0.1888 - val_loss: 0.6780 - val_mean_absolute_error: 0.1895\n",
      "Epoch 22/50\n",
      "55812/55812 [==============================] - 0s - loss: 0.6776 - mean_absolute_error: 0.1885 - val_loss: 0.6775 - val_mean_absolute_error: 0.1891\n",
      "Epoch 23/50\n",
      "55812/55812 [==============================] - 0s - loss: 0.6770 - mean_absolute_error: 0.1882 - val_loss: 0.6769 - val_mean_absolute_error: 0.1887\n",
      "Epoch 24/50\n",
      "55812/55812 [==============================] - 0s - loss: 0.6765 - mean_absolute_error: 0.1877 - val_loss: 0.6764 - val_mean_absolute_error: 0.1884\n",
      "Epoch 25/50\n",
      "55812/55812 [==============================] - 0s - loss: 0.6759 - mean_absolute_error: 0.1874 - val_loss: 0.6758 - val_mean_absolute_error: 0.1880\n",
      "Epoch 26/50\n",
      "55812/55812 [==============================] - 0s - loss: 0.6754 - mean_absolute_error: 0.1870 - val_loss: 0.6753 - val_mean_absolute_error: 0.1876\n",
      "Epoch 27/50\n",
      "55812/55812 [==============================] - 0s - loss: 0.6749 - mean_absolute_error: 0.1866 - val_loss: 0.6747 - val_mean_absolute_error: 0.1872\n",
      "Epoch 28/50\n",
      "55812/55812 [==============================] - 0s - loss: 0.6743 - mean_absolute_error: 0.1862 - val_loss: 0.6742 - val_mean_absolute_error: 0.1869\n",
      "Epoch 29/50\n",
      "55812/55812 [==============================] - 0s - loss: 0.6738 - mean_absolute_error: 0.1859 - val_loss: 0.6736 - val_mean_absolute_error: 0.1865\n",
      "Epoch 30/50\n",
      "55812/55812 [==============================] - 0s - loss: 0.6732 - mean_absolute_error: 0.1856 - val_loss: 0.6731 - val_mean_absolute_error: 0.1861\n",
      "Epoch 31/50\n",
      "55812/55812 [==============================] - 0s - loss: 0.6726 - mean_absolute_error: 0.1852 - val_loss: 0.6725 - val_mean_absolute_error: 0.1857\n",
      "Epoch 32/50\n",
      "55812/55812 [==============================] - 0s - loss: 0.6721 - mean_absolute_error: 0.1848 - val_loss: 0.6719 - val_mean_absolute_error: 0.1854\n",
      "Epoch 33/50\n",
      "55812/55812 [==============================] - 0s - loss: 0.6715 - mean_absolute_error: 0.1844 - val_loss: 0.6714 - val_mean_absolute_error: 0.1850\n",
      "Epoch 34/50\n",
      "55812/55812 [==============================] - 0s - loss: 0.6710 - mean_absolute_error: 0.1841 - val_loss: 0.6708 - val_mean_absolute_error: 0.1846\n",
      "Epoch 35/50\n",
      "55812/55812 [==============================] - 0s - loss: 0.6704 - mean_absolute_error: 0.1837 - val_loss: 0.6702 - val_mean_absolute_error: 0.1842\n",
      "Epoch 36/50\n",
      "55812/55812 [==============================] - 0s - loss: 0.6698 - mean_absolute_error: 0.1833 - val_loss: 0.6697 - val_mean_absolute_error: 0.1838\n",
      "Epoch 37/50\n",
      "55812/55812 [==============================] - 0s - loss: 0.6693 - mean_absolute_error: 0.1830 - val_loss: 0.6691 - val_mean_absolute_error: 0.1835\n",
      "Epoch 38/50\n",
      "55812/55812 [==============================] - 0s - loss: 0.6687 - mean_absolute_error: 0.1825 - val_loss: 0.6685 - val_mean_absolute_error: 0.1831\n",
      "Epoch 39/50\n",
      "55812/55812 [==============================] - 0s - loss: 0.6681 - mean_absolute_error: 0.1822 - val_loss: 0.6679 - val_mean_absolute_error: 0.1827\n",
      "Epoch 40/50\n",
      "55812/55812 [==============================] - 0s - loss: 0.6676 - mean_absolute_error: 0.1818 - val_loss: 0.6674 - val_mean_absolute_error: 0.1823\n",
      "Epoch 41/50\n",
      "55812/55812 [==============================] - 0s - loss: 0.6670 - mean_absolute_error: 0.1815 - val_loss: 0.6668 - val_mean_absolute_error: 0.1819\n",
      "Epoch 42/50\n",
      "55812/55812 [==============================] - 0s - loss: 0.6664 - mean_absolute_error: 0.1811 - val_loss: 0.6662 - val_mean_absolute_error: 0.1815\n",
      "Epoch 43/50\n",
      "55812/55812 [==============================] - 0s - loss: 0.6658 - mean_absolute_error: 0.1807 - val_loss: 0.6656 - val_mean_absolute_error: 0.1811\n",
      "Epoch 44/50\n",
      "55812/55812 [==============================] - 0s - loss: 0.6653 - mean_absolute_error: 0.1803 - val_loss: 0.6650 - val_mean_absolute_error: 0.1808\n",
      "Epoch 45/50\n",
      "55812/55812 [==============================] - 0s - loss: 0.6647 - mean_absolute_error: 0.1799 - val_loss: 0.6644 - val_mean_absolute_error: 0.1804\n",
      "Epoch 46/50\n",
      "55812/55812 [==============================] - 0s - loss: 0.6641 - mean_absolute_error: 0.1796 - val_loss: 0.6638 - val_mean_absolute_error: 0.1800\n",
      "Epoch 47/50\n",
      "55812/55812 [==============================] - 0s - loss: 0.6635 - mean_absolute_error: 0.1791 - val_loss: 0.6632 - val_mean_absolute_error: 0.1796\n",
      "Epoch 48/50\n",
      "55812/55812 [==============================] - 0s - loss: 0.6629 - mean_absolute_error: 0.1788 - val_loss: 0.6626 - val_mean_absolute_error: 0.1792\n",
      "Epoch 49/50\n",
      "55812/55812 [==============================] - 0s - loss: 0.6623 - mean_absolute_error: 0.1784 - val_loss: 0.6620 - val_mean_absolute_error: 0.1788\n",
      "Epoch 50/50\n",
      "55812/55812 [==============================] - 0s - loss: 0.6617 - mean_absolute_error: 0.1780 - val_loss: 0.6614 - val_mean_absolute_error: 0.1784\n",
      "13024/13136 [============================>.] - ETA: 0s"
     ]
    },
    {
     "data": {
      "text/plain": [
       "[0.6685619663524279, 0.20548656266114598]"
      ]
     },
     "execution_count": 57,
     "metadata": {},
     "output_type": "execute_result"
    }
   ],
   "source": [
    "model4=Sequential() #初始化模型\n",
    "model4.add(Dense(10,input_shape = (10,),activation='sigmoid',init='uniform')) #添加一个隐含层，注：只是第一个隐含层需指定input_dim\n",
    "\n",
    "model4.add(Dense(1,activation='sigmoid')) #添加输出层\n",
    "model4.compile(loss='binary_crossentropy', optimizer='sgd', metrics=['mae'])  # 编译，指定目标函数与优化方法\n",
    "# model4.fit(train_x,train_y ) # 模型训练\n",
    "history=model4.fit(x = train_x,y = train_y, validation_data = (eval_x,eval_y), epochs=50, batch_size=1000)\n",
    "model4.evaluate(test_x,test_y) #模型测试"
   ]
  },
  {
   "cell_type": "markdown",
   "metadata": {},
   "source": [
    "# 结果对比"
   ]
  },
  {
   "cell_type": "code",
   "execution_count": 58,
   "metadata": {},
   "outputs": [],
   "source": [
    "#反归一化##\n",
    "def inv(trainPredict,train_year,train_x,train_y):\n",
    "    ######训练集#######\n",
    "    inv_trainPredict = concatenate((train_year[:,:],train_x[:,:],trainPredict), axis=1)\n",
    "    inv_trainPredict = scaler.inverse_transform(inv_trainPredict)\n",
    "    trainPredict = inv_trainPredict[:,-1:]\n",
    "    ###### 训练集真实值######\n",
    "    train_y = train_y.reshape((len(train_y), 1))\n",
    "    inv_train = concatenate((train_year[:,:],train_x[:,:],train_y), axis=1)\n",
    "    inv_train = scaler.inverse_transform(inv_train)\n",
    "    trainReal = inv_train[:,-1:]\n",
    "    return trainPredict,trainReal   "
   ]
  },
  {
   "cell_type": "code",
   "execution_count": 59,
   "metadata": {},
   "outputs": [],
   "source": [
    "trainPredictm4 = model4.predict(train_x)\n",
    "testPredictm4 = model4.predict(test_x)\n",
    "\n",
    "trainPredictm4,trainReal=inv(trainPredictm4,train_year,train_x,train_y)\n",
    "testPredictm4,testReal=inv(testPredictm4,test_year,test_x,test_y)"
   ]
  },
  {
   "cell_type": "code",
   "execution_count": 60,
   "metadata": {},
   "outputs": [
    {
     "name": "stdout",
     "output_type": "stream",
     "text": [
      "Model4 \n",
      "Train Score: 2.12 RMSE\n",
      "Test Score: 2.18 RMSE\n"
     ]
    }
   ],
   "source": [
    "### 模型 4\n",
    "trainScorem4 = math.sqrt(mean_squared_error(trainReal[:,0], trainPredictm4[:,0]))\n",
    "print('Model4 ')\n",
    "print('Train Score: %.2f RMSE' % (trainScorem4))\n",
    "testScorem4 = math.sqrt(mean_squared_error(testReal[:,0], testPredictm4[:,0]))\n",
    "print('Test Score: %.2f RMSE' % (testScorem4))"
   ]
  },
  {
   "cell_type": "code",
   "execution_count": 46,
   "metadata": {},
   "outputs": [],
   "source": [
    "######### 模型 1 #########\n",
    "###########预测训练集和测试集#######\n",
    "trainPredictM1 = model1.predict(train_x)\n",
    "testPredictM1 = model1.predict(test_x)\n",
    "###### 反归一化 ########\n",
    "######训练集 模型1 #######\n",
    "inv_trainPredict1 = concatenate((train_year[:,:],train_x[:,:],trainPredictM1), axis=1)\n",
    "inv_trainPredict1 = scaler.inverse_transform(inv_trainPredict1)\n",
    "trainPredictM1 = inv_trainPredict1[:,-1:]\n",
    "\n",
    "###### 训练集真实值######\n",
    "train_y = train_y.reshape((len(train_y), 1))\n",
    "inv_train = concatenate((train_year[:,:],train_x[:,:],train_y), axis=1)\n",
    "inv_train = scaler.inverse_transform(inv_train)\n",
    "trainReal = inv_train[:,-1:]\n",
    "\n",
    "###### 测试预测模型1 #######\n",
    "inv_testPredict1 = concatenate((test_year[:,:],test_x[:,:],testPredictM1), axis=1)\n",
    "inv_testPredict1 = scaler.inverse_transform(inv_testPredict1)\n",
    "testPredictM1 = inv_testPredict1[:,-1:]\n",
    "\n",
    "########测试集真实值############\n",
    "test_y = test_y.reshape((len(test_y), 1))\n",
    "inv_test = concatenate((test_year[:,:],test_x[:,:],test_y), axis=1)\n",
    "inv_test = scaler.inverse_transform(inv_test)\n",
    "testReal = inv_test[:,-1:]"
   ]
  },
  {
   "cell_type": "code",
   "execution_count": 47,
   "metadata": {},
   "outputs": [],
   "source": [
    "######### 模型 2 #########\n",
    "#########预测训练集和测试集######\n",
    "trainPredictM2 = model2.predict(train_x)\n",
    "testPredictM2 = model2.predict(test_x)\n",
    "####### 反归一化 ########\n",
    "######训练集 模型2 #######\n",
    "inv_trainPredict2 = concatenate((train_year[:,:],train_x[:,:],trainPredictM2), axis=1)\n",
    "inv_trainPredict2 = scaler.inverse_transform(inv_trainPredict2)\n",
    "trainPredictM2 = inv_trainPredict2[:,-1:]\n",
    "\n",
    "###### 测试预测模型2 #######\n",
    "inv_testPredict2 = concatenate((test_year[:,:],test_x[:,:],testPredictM2), axis=1)\n",
    "inv_testPredict2 = scaler.inverse_transform(inv_testPredict2)\n",
    "testPredictM2 = inv_testPredict2[:,-1:]\n"
   ]
  },
  {
   "cell_type": "code",
   "execution_count": 48,
   "metadata": {},
   "outputs": [],
   "source": [
    "######### 模型 3 ##########\n",
    "######预测训练集和测试集#########\n",
    "trainPredictM3 = model3.predict(train_x)\n",
    "testPredictM3 = model3.predict(test_x)\n",
    "########## 反归一化 #########\n",
    "\n",
    "######训练预测 模型3 #######\n",
    "inv_trainPredict3 = concatenate((train_year[:,:],train_x[:,:],trainPredictM3), axis=1)\n",
    "inv_trainPredict3 = scaler.inverse_transform(inv_trainPredict3)\n",
    "trainPredictM3 = inv_trainPredict3[:,-1:]\n",
    "\n",
    "###### 测试预测模型3 #######\n",
    "inv_testPredict3 = concatenate((test_year[:,:],test_x[:,:],testPredictM3), axis=1)\n",
    "inv_testPredict3 = scaler.inverse_transform(inv_testPredict3)\n",
    "testPredictM3 = inv_testPredict3[:,-1:]"
   ]
  },
  {
   "cell_type": "code",
   "execution_count": 2,
   "metadata": {},
   "outputs": [
    {
     "ename": "NameError",
     "evalue": "name 'pd' is not defined",
     "output_type": "error",
     "traceback": [
      "\u001b[1;31m---------------------------------------------------------------------------\u001b[0m",
      "\u001b[1;31mNameError\u001b[0m                                 Traceback (most recent call last)",
      "\u001b[1;32m<ipython-input-2-ed8ddea6f7f6>\u001b[0m in \u001b[0;36m<module>\u001b[1;34m()\u001b[0m\n\u001b[0;32m      1\u001b[0m \u001b[1;31m#评价指标\u001b[0m\u001b[1;33m\u001b[0m\u001b[1;33m\u001b[0m\u001b[0m\n\u001b[1;32m----> 2\u001b[1;33m \u001b[0mevaluate\u001b[0m \u001b[1;33m=\u001b[0m \u001b[0mpd\u001b[0m\u001b[1;33m.\u001b[0m\u001b[0mDataFrame\u001b[0m\u001b[1;33m(\u001b[0m\u001b[0mcolumns\u001b[0m\u001b[1;33m=\u001b[0m\u001b[1;33m[\u001b[0m\u001b[1;34m''\u001b[0m\u001b[1;33m,\u001b[0m\u001b[1;34m'SVM'\u001b[0m\u001b[1;33m,\u001b[0m\u001b[1;34m'BP'\u001b[0m\u001b[1;33m,\u001b[0m\u001b[1;34m'DNN'\u001b[0m\u001b[1;33m,\u001b[0m\u001b[1;34m'LSTM'\u001b[0m\u001b[1;33m]\u001b[0m\u001b[1;33m)\u001b[0m\u001b[1;33m\u001b[0m\u001b[0m\n\u001b[0m",
      "\u001b[1;31mNameError\u001b[0m: name 'pd' is not defined"
     ]
    }
   ],
   "source": [
    "#评价指标\n",
    "evaluate = pd.DataFrame(columns=['','SVM','BP','DNN','LSTM'])\n"
   ]
  },
  {
   "cell_type": "code",
   "execution_count": 49,
   "metadata": {
    "scrolled": true
   },
   "outputs": [
    {
     "name": "stdout",
     "output_type": "stream",
     "text": [
      "Model1 \n",
      "Train Score: 1.31 RMSE\n",
      "Test Score: 1.69 RMSE\n",
      "Model2 \n",
      "Train Score: 1.37 RMSE\n",
      "Test Score: 1.90 RMSE\n",
      "Model3 \n",
      "Train Score: 1.37 RMSE\n",
      "Test Score: 1.89 RMSE\n"
     ]
    }
   ],
   "source": [
    "#################### 计算训练集和测试集的平均根方误差####################\n",
    "### 模型 1\n",
    "trainScoreM1 = math.sqrt(mean_squared_error(trainReal[:,0], trainPredictM1[:,0]))\n",
    "print('Model1 ')\n",
    "print('Train Score: %.2f RMSE' % (trainScoreM1))\n",
    "testScoreM1 = math.sqrt(mean_squared_error(testReal[:,0], testPredictM1[:,0]))\n",
    "print('Test Score: %.2f RMSE' % (testScoreM1))\n",
    "### 模型 2\n",
    "trainScoreM2 = math.sqrt(mean_squared_error(trainReal[:,0], trainPredictM2[:,0]))\n",
    "print('Model2 ')\n",
    "print('Train Score: %.2f RMSE' % (trainScoreM2))\n",
    "testScoreM2 = math.sqrt(mean_squared_error(testReal[:,0], testPredictM2[:,0]))\n",
    "print('Test Score: %.2f RMSE' % (testScoreM2))\n",
    "### 模型 3\n",
    "trainScoreM3 = math.sqrt(mean_squared_error(trainReal[:,0], trainPredictM3[:,0]))\n",
    "print('Model3 ')\n",
    "print('Train Score: %.2f RMSE' % (trainScoreM3))\n",
    "testScoreM3 = math.sqrt(mean_squared_error(testReal[:,0], testPredictM3[:,0]))\n",
    "print('Test Score: %.2f RMSE' % (testScoreM3))"
   ]
  },
  {
   "cell_type": "code",
   "execution_count": 1,
   "metadata": {},
   "outputs": [
    {
     "ename": "NameError",
     "evalue": "name 'mean_absolute_error' is not defined",
     "output_type": "error",
     "traceback": [
      "\u001b[1;31m---------------------------------------------------------------------------\u001b[0m",
      "\u001b[1;31mNameError\u001b[0m                                 Traceback (most recent call last)",
      "\u001b[1;32m<ipython-input-1-4a74c42cf081>\u001b[0m in \u001b[0;36m<module>\u001b[1;34m()\u001b[0m\n\u001b[1;32m----> 1\u001b[1;33m \u001b[0mtestScoreM\u001b[0m\u001b[1;33m=\u001b[0m\u001b[0mmean_absolute_error\u001b[0m\u001b[1;33m(\u001b[0m\u001b[0mtestReal\u001b[0m\u001b[1;33m[\u001b[0m\u001b[1;33m:\u001b[0m\u001b[1;33m,\u001b[0m\u001b[1;36m0\u001b[0m\u001b[1;33m]\u001b[0m\u001b[1;33m,\u001b[0m \u001b[0mtestPredictM1\u001b[0m\u001b[1;33m)\u001b[0m\u001b[1;33m\u001b[0m\u001b[0m\n\u001b[0m",
      "\u001b[1;31mNameError\u001b[0m: name 'mean_absolute_error' is not defined"
     ]
    }
   ],
   "source": [
    "testScoreM=mean_absolute_error(testReal[:,0], testPredictM1)"
   ]
  },
  {
   "cell_type": "code",
   "execution_count": 50,
   "metadata": {},
   "outputs": [
    {
     "data": {
      "text/plain": [
       "<matplotlib.legend.Legend at 0x23ae034bef0>"
      ]
     },
     "execution_count": 50,
     "metadata": {},
     "output_type": "execute_result"
    },
    {
     "data": {
      "image/png": "[encoded data removed]",
      "text/plain": [
       "<Figure size 432x288 with 1 Axes>"
      ]
     },
     "metadata": {},
     "output_type": "display_data"
    }
   ],
   "source": [
    "#训练集和测试集 预测结果保存\n",
    "predict_train_1A = pd.DataFrame(inv_train)\n",
    "predict_train_1A.columns = ['Year', 'Month', 'Day', 'Hour', 'Minutes', 'WTC', 'WRH', 'GHR', 'DHR',\n",
    "       'RGT', 'RDT', '1A Trina_power']\n",
    "\n",
    "predict_train_1A['1A_model1_predict'] = trainPredictM1\n",
    "predict_train_1A['1A_model2_predict'] = trainPredictM2\n",
    "predict_train_1A['1A_model3_predict'] = trainPredictM3\n",
    "\n",
    "predict_train_1A.to_csv('../predict/predict_train_1A-WDWDR.csv',index=False)\n",
    "#真实值和预测值对比图\n",
    "plt.plot(trainReal,label='Real')\n",
    "plt.plot(trainPredictM1,label='M1Predicition')\n",
    "plt.plot(trainPredictM2,label='M2Predicition')\n",
    "plt.plot(trainPredictM3,label='M3Predicition')\n",
    "\n",
    "plt.title('Prediction train')\n",
    "plt.ylabel('Power')\n",
    "plt.xlabel('Time')\n",
    "# plt.plot(y_rr_,label='rr')\n",
    "# plt.plot(y_lasso_,label='lasso')\n",
    "plt.legend() "
   ]
  },
  {
   "cell_type": "code",
   "execution_count": 51,
   "metadata": {},
   "outputs": [
    {
     "data": {
      "text/plain": [
       "<matplotlib.legend.Legend at 0x23ae03999b0>"
      ]
     },
     "execution_count": 51,
     "metadata": {},
     "output_type": "execute_result"
    },
    {
     "data": {
      "image/png": "[encoded data removed]",
      "text/plain": [
       "<Figure size 432x288 with 1 Axes>"
      ]
     },
     "metadata": {},
     "output_type": "display_data"
    }
   ],
   "source": [
    "#训练集和测试集 预测结果保存\n",
    "predict_1A = pd.DataFrame(inv_test)\n",
    "predict_1A.columns = ['Year', 'Month', 'Day', 'Hour', 'Minutes', 'WTC', 'WRH', 'GHR', 'DHR',\n",
    "       'RGT', 'RDT', '1A Trina_power']\n",
    "\n",
    "predict_1A['1A_model1_predict'] = testPredictM1\n",
    "predict_1A['1A_model2_predict'] = testPredictM2\n",
    "predict_1A['1A_model3_predict'] = testPredictM3\n",
    "\n",
    "predict_1A.to_csv('../predict/predict_1A-WDWDR.csv',index=False)\n",
    "#真实值和预测值对比图\n",
    "plt.plot(testReal,label='Real')\n",
    "plt.plot(testPredictM1,label='M1Predicition')\n",
    "plt.plot(testPredictM2,label='M2Predicition')\n",
    "plt.plot(testPredictM3,label='M3Predicition')\n",
    "\n",
    "plt.title('Prediction test')\n",
    "plt.ylabel('Power')\n",
    "plt.xlabel('Time')\n",
    "# plt.plot(y_rr_,label='rr')\n",
    "# plt.plot(y_lasso_,label='lasso')\n",
    "plt.legend() "
   ]
  },
  {
   "cell_type": "code",
   "execution_count": 52,
   "metadata": {},
   "outputs": [],
   "source": [
    "# mse_test=np.sum((test_y - testPredict)**2)/ len(test_y)\n",
    "# rmse_test=np.sqrt(mse_test)\n",
    "# print(\"MSE:\",mse_test)\n",
    "# print(\"RMSE:\",rmse_test)"
   ]
  },
  {
   "cell_type": "markdown",
   "metadata": {},
   "source": [
    "画出例如2020年1月20号的预测图"
   ]
  },
  {
   "cell_type": "code",
   "execution_count": null,
   "metadata": {
    "scrolled": true
   },
   "outputs": [],
   "source": [
    "predict_1A.columns"
   ]
  },
  {
   "cell_type": "code",
   "execution_count": null,
   "metadata": {},
   "outputs": [],
   "source": [
    "# from scipy.interpolate import spline\n",
    " \n",
    "# # T = np.array([6, 7, 8, 9, 10, 11, 12])\n",
    "# T=Day0120['Hour']\n",
    "# T=T.values\n",
    "# # power = np.array([1.53E+03, 5.92E+02, 2.04E+02, 7.24E+01, 2.72E+01, 1.10E+01, 4.70E+00])\n",
    "# Real=Day0120.set_index('Hour', inplace=False)['1A Trina_power']\n",
    "# Real=Real.values\n",
    "# xnew = np.linspace(T.min(),T.max(),300) #300 represents number of points to make between T.min and T.max\n",
    " \n",
    "# power_smooth = spline(T,Real,xnew)\n",
    " \n",
    "# plt.plot(xnew,power_smooth)\n",
    "# plt.show()"
   ]
  },
  {
   "cell_type": "code",
   "execution_count": null,
   "metadata": {},
   "outputs": [],
   "source": [
    "# from scipy.interpolate import spline\n",
    "predict_1A[[\"Year\",\"Month\",\"Day\",\"Hour\",\"Minutes\"]] = predict_1A[[\"Year\",\"Month\",\"Day\",\"Hour\",\"Minutes\"]].astype(\"int\")\n",
    "\n",
    "#real_power_day = train_1.groupby('day')\n",
    "# Day0120 = predict_1A[(predict_1A['Year'] == 2020) & (predict_1A['Month'] == 1) & (predict_1A['Day'] == 20)]\n",
    "# day200120 = predict_1A.loc[predict_1A['Year'] == '2020',predict_1A['Month'] == '1',predict_1A['day'] == '20',:]\n",
    "Day0120 = predict_1A.loc[(predict_1A['Year'] == 2020) & (predict_1A['Month'] == 1) & (predict_1A['Day'] == 20),:]\n",
    "#real_power_day.set_index('time', inplace=False)\n",
    "Real=Day0120.set_index('Hour', inplace=False)['1A Trina_power']\n",
    "M1Predict=Day0120.set_index('Hour', inplace=False)['1A_model1_predict']\n",
    "M2Predict=Day0120.set_index('Hour', inplace=False)['1A_model2_predict']\n",
    "M3Predict=Day0120.set_index('Hour', inplace=False)['1A_model3_predict']\n",
    "\n",
    "fig = plt.figure()\n",
    "plt.plot(Real,label='Real')\n",
    "plt.plot(M1Predict,label='M1Predicition')\n",
    "plt.plot(M2Predict,label='M2Predicition')\n",
    "plt.plot(M3Predict,label='M3Predicition')\n",
    "\n",
    "plt.title('Prediction 2020-1-20')\n",
    "plt.ylabel('Power')\n",
    "plt.xlabel('Time')\n",
    "# plt.legend(['Train', 'Test'], loc='upper left')\n",
    "plt.legend()\n",
    "#ax = fig.add_subplot(1,1,1)\n",
    "#ax.plot(real_power_day_)\n",
    "# real_power_day_.plot()\n",
    "#real_power_day_.set_axis(['00:15:00','06:15:00','12:15:00','18:15:00'])\n",
    "#real_power_day_"
   ]
  },
  {
   "cell_type": "code",
   "execution_count": null,
   "metadata": {},
   "outputs": [],
   "source": [
    "mse_test1=np.sum((trainReal[:,0] - trainPredictM1[:,0])**2)/ len(trainPredictM1)\n",
    "print('MSE',mse_test1)"
   ]
  },
  {
   "cell_type": "code",
   "execution_count": null,
   "metadata": {},
   "outputs": [],
   "source": [
    "rmse_test1=math.sqrt(mse_test1)\n",
    "print('RMSE',rmse_test1)"
   ]
  },
  {
   "cell_type": "code",
   "execution_count": null,
   "metadata": {},
   "outputs": [],
   "source": [
    "# trainScoreM1 = math.sqrt(mean_squared_error(trainReal[:,0], trainPredictM1[:,0]))"
   ]
  }
 ],
 "metadata": {
  "kernelspec": {
   "display_name": "Python 3",
   "language": "python",
   "name": "python3"
  },
  "language_info": {
   "codemirror_mode": {
    "name": "ipython",
    "version": 3
   },
   "file_extension": ".py",
   "mimetype": "text/x-python",
   "name": "python",
   "nbconvert_exporter": "python",
   "pygments_lexer": "ipython3",
   "version": "3.6.5"
  }
 },
 "nbformat": 4,
 "nbformat_minor": 2
}
