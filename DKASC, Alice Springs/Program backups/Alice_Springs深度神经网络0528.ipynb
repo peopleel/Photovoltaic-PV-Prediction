{
 "cells": [
  {
   "cell_type": "markdown",
   "metadata": {},
   "source": [
    "# DKASC_爱丽丝泉_光伏预测"
   ]
  },
  {
   "cell_type": "code",
   "execution_count": 1,
   "metadata": {},
   "outputs": [
    {
     "name": "stderr",
     "output_type": "stream",
     "text": [
      "C:\\ProgramData\\Anaconda3\\lib\\site-packages\\tensorflow\\python\\framework\\dtypes.py:469: FutureWarning: Passing (type, 1) or '1type' as a synonym of type is deprecated; in a future version of numpy, it will be understood as (type, (1,)) / '(1,)type'.\n",
      "  _np_qint8 = np.dtype([(\"qint8\", np.int8, 1)])\n",
      "C:\\ProgramData\\Anaconda3\\lib\\site-packages\\tensorflow\\python\\framework\\dtypes.py:470: FutureWarning: Passing (type, 1) or '1type' as a synonym of type is deprecated; in a future version of numpy, it will be understood as (type, (1,)) / '(1,)type'.\n",
      "  _np_quint8 = np.dtype([(\"quint8\", np.uint8, 1)])\n",
      "C:\\ProgramData\\Anaconda3\\lib\\site-packages\\tensorflow\\python\\framework\\dtypes.py:471: FutureWarning: Passing (type, 1) or '1type' as a synonym of type is deprecated; in a future version of numpy, it will be understood as (type, (1,)) / '(1,)type'.\n",
      "  _np_qint16 = np.dtype([(\"qint16\", np.int16, 1)])\n",
      "C:\\ProgramData\\Anaconda3\\lib\\site-packages\\tensorflow\\python\\framework\\dtypes.py:472: FutureWarning: Passing (type, 1) or '1type' as a synonym of type is deprecated; in a future version of numpy, it will be understood as (type, (1,)) / '(1,)type'.\n",
      "  _np_quint16 = np.dtype([(\"quint16\", np.uint16, 1)])\n",
      "C:\\ProgramData\\Anaconda3\\lib\\site-packages\\tensorflow\\python\\framework\\dtypes.py:473: FutureWarning: Passing (type, 1) or '1type' as a synonym of type is deprecated; in a future version of numpy, it will be understood as (type, (1,)) / '(1,)type'.\n",
      "  _np_qint32 = np.dtype([(\"qint32\", np.int32, 1)])\n",
      "C:\\ProgramData\\Anaconda3\\lib\\site-packages\\tensorflow\\python\\framework\\dtypes.py:476: FutureWarning: Passing (type, 1) or '1type' as a synonym of type is deprecated; in a future version of numpy, it will be understood as (type, (1,)) / '(1,)type'.\n",
      "  np_resource = np.dtype([(\"resource\", np.ubyte, 1)])\n",
      "C:\\ProgramData\\Anaconda3\\lib\\site-packages\\h5py\\__init__.py:36: FutureWarning: Conversion of the second argument of issubdtype from `float` to `np.floating` is deprecated. In future, it will be treated as `np.float64 == np.dtype(float).type`.\n",
      "  from ._conv import register_converters as _register_converters\n",
      "Using TensorFlow backend.\n"
     ]
    }
   ],
   "source": [
    "import os\n",
    "import random\n",
    "import pandas as pd\n",
    "import numpy as np\n",
    "import matplotlib.pyplot as plt\n",
    "import math\n",
    "import tensorflow as tf\n",
    "import keras\n",
    "import catboost as cb\n",
    "from pandas import read_csv\n",
    "from math import sqrt\n",
    "from numpy import concatenate\n",
    "from keras.models import Sequential\n",
    "from keras.layers import Dense\n",
    "from keras.layers import Dropout\n",
    "from keras.layers import LSTM\n",
    "from sklearn.preprocessing import MinMaxScaler\n",
    "from sklearn.metrics import mean_squared_error\n",
    "from keras.layers.core import Dense, Activation, Dropout\n",
    "%matplotlib inline"
   ]
  },
  {
   "cell_type": "code",
   "execution_count": 2,
   "metadata": {},
   "outputs": [],
   "source": [
    "import os\n",
    "os.environ[\"CUDA_VISIBLE_DEVICES\"] = \"0\"\n",
    "config = tf.ConfigProto(allow_soft_placement = True)\n",
    "gpu_options = tf.GPUOptions(per_process_gpu_memory_fraction = 0.5)\n",
    "config.gpu_options.allow_growth = True\n",
    "sess0 = tf.InteractiveSession(config = config)"
   ]
  },
  {
   "cell_type": "code",
   "execution_count": 3,
   "metadata": {},
   "outputs": [
    {
     "name": "stdout",
     "output_type": "stream",
     "text": [
      "E:\\Research Project\\DKASC, Alice Springs\n"
     ]
    }
   ],
   "source": [
    "print(os.getcwd()) # 打印当前工作目录"
   ]
  },
  {
   "cell_type": "code",
   "execution_count": 4,
   "metadata": {},
   "outputs": [
    {
     "data": {
      "text/plain": [
       "['.ipynb_checkpoints',\n",
       " '101-Site_DKA-WeatherStation',\n",
       " '96-Site_DKA-MasterMeter1',\n",
       " 'Alice_SpringsLSTM.ipynb',\n",
       " 'Alice_Springs_2016-2020',\n",
       " 'Alice_Springs数据集筛选提取.ipynb',\n",
       " 'Alice_Springs深度神经网络-WDWDR.ipynb',\n",
       " 'Alice_Springs深度神经网络.ipynb',\n",
       " 'Dataset',\n",
       " 'Predict',\n",
       " 'Program backups',\n",
       " 'temp',\n",
       " '笔记.ipynb']"
      ]
     },
     "execution_count": 4,
     "metadata": {},
     "output_type": "execute_result"
    }
   ],
   "source": [
    "os.listdir(os.getcwd())"
   ]
  },
  {
   "cell_type": "code",
   "execution_count": 5,
   "metadata": {},
   "outputs": [],
   "source": [
    "os.chdir(\"./Dataset/\")"
   ]
  },
  {
   "cell_type": "code",
   "execution_count": 6,
   "metadata": {},
   "outputs": [
    {
     "data": {
      "text/plain": [
       "['testdata.csv',\n",
       " 'test_1A.csv',\n",
       " 'traindata.csv',\n",
       " 'train_1A.csv',\n",
       " '测试集8个站点.csv',\n",
       " '训练集8个站点.csv']"
      ]
     },
     "execution_count": 6,
     "metadata": {},
     "output_type": "execute_result"
    }
   ],
   "source": [
    "os.listdir()"
   ]
  },
  {
   "cell_type": "code",
   "execution_count": 7,
   "metadata": {},
   "outputs": [],
   "source": [
    "train = pd.read_csv('train_1A.csv')\n",
    "test = pd.read_csv('test_1A.csv')"
   ]
  },
  {
   "cell_type": "code",
   "execution_count": 8,
   "metadata": {},
   "outputs": [
    {
     "name": "stdout",
     "output_type": "stream",
     "text": [
      "(69765, 14)\n",
      "(13136, 14)\n"
     ]
    }
   ],
   "source": [
    "#查看输入数据维度\n",
    "print(train.shape)\n",
    "print(test.shape)"
   ]
  },
  {
   "cell_type": "code",
   "execution_count": 9,
   "metadata": {
    "scrolled": true
   },
   "outputs": [
    {
     "data": {
      "text/html": [
       "<div>\n",
       "<style scoped>\n",
       "    .dataframe tbody tr th:only-of-type {\n",
       "        vertical-align: middle;\n",
       "    }\n",
       "\n",
       "    .dataframe tbody tr th {\n",
       "        vertical-align: top;\n",
       "    }\n",
       "\n",
       "    .dataframe thead th {\n",
       "        text-align: right;\n",
       "    }\n",
       "</style>\n",
       "<table border=\"1\" class=\"dataframe\">\n",
       "  <thead>\n",
       "    <tr style=\"text-align: right;\">\n",
       "      <th></th>\n",
       "      <th>Year</th>\n",
       "      <th>Month</th>\n",
       "      <th>Day</th>\n",
       "      <th>Hour</th>\n",
       "      <th>Minutes</th>\n",
       "      <th>WTC</th>\n",
       "      <th>WRH</th>\n",
       "      <th>GHR</th>\n",
       "      <th>DHR</th>\n",
       "      <th>WD</th>\n",
       "      <th>WDR</th>\n",
       "      <th>RGT</th>\n",
       "      <th>RDT</th>\n",
       "      <th>1A Trina_power</th>\n",
       "    </tr>\n",
       "  </thead>\n",
       "  <tbody>\n",
       "    <tr>\n",
       "      <th>0</th>\n",
       "      <td>2018</td>\n",
       "      <td>1</td>\n",
       "      <td>19</td>\n",
       "      <td>18</td>\n",
       "      <td>30</td>\n",
       "      <td>26.243799</td>\n",
       "      <td>50.889774</td>\n",
       "      <td>71.416481</td>\n",
       "      <td>67.523544</td>\n",
       "      <td>302.882996</td>\n",
       "      <td>3.6</td>\n",
       "      <td>65.268631</td>\n",
       "      <td>59.278999</td>\n",
       "      <td>0.318600</td>\n",
       "    </tr>\n",
       "    <tr>\n",
       "      <th>1</th>\n",
       "      <td>2018</td>\n",
       "      <td>1</td>\n",
       "      <td>19</td>\n",
       "      <td>18</td>\n",
       "      <td>35</td>\n",
       "      <td>26.641783</td>\n",
       "      <td>49.539795</td>\n",
       "      <td>77.177094</td>\n",
       "      <td>71.776718</td>\n",
       "      <td>246.312622</td>\n",
       "      <td>3.6</td>\n",
       "      <td>72.546944</td>\n",
       "      <td>63.134579</td>\n",
       "      <td>0.328800</td>\n",
       "    </tr>\n",
       "    <tr>\n",
       "      <th>2</th>\n",
       "      <td>2018</td>\n",
       "      <td>1</td>\n",
       "      <td>19</td>\n",
       "      <td>18</td>\n",
       "      <td>40</td>\n",
       "      <td>26.654078</td>\n",
       "      <td>53.414265</td>\n",
       "      <td>78.373489</td>\n",
       "      <td>69.008316</td>\n",
       "      <td>305.089630</td>\n",
       "      <td>3.6</td>\n",
       "      <td>76.711456</td>\n",
       "      <td>65.430550</td>\n",
       "      <td>0.334200</td>\n",
       "    </tr>\n",
       "    <tr>\n",
       "      <th>3</th>\n",
       "      <td>2018</td>\n",
       "      <td>1</td>\n",
       "      <td>19</td>\n",
       "      <td>18</td>\n",
       "      <td>45</td>\n",
       "      <td>26.439108</td>\n",
       "      <td>55.582245</td>\n",
       "      <td>78.022881</td>\n",
       "      <td>67.560181</td>\n",
       "      <td>259.662933</td>\n",
       "      <td>3.6</td>\n",
       "      <td>80.445709</td>\n",
       "      <td>66.812790</td>\n",
       "      <td>0.333133</td>\n",
       "    </tr>\n",
       "    <tr>\n",
       "      <th>4</th>\n",
       "      <td>2018</td>\n",
       "      <td>1</td>\n",
       "      <td>19</td>\n",
       "      <td>18</td>\n",
       "      <td>50</td>\n",
       "      <td>26.479477</td>\n",
       "      <td>56.173820</td>\n",
       "      <td>82.106972</td>\n",
       "      <td>73.004196</td>\n",
       "      <td>186.634705</td>\n",
       "      <td>3.6</td>\n",
       "      <td>83.035919</td>\n",
       "      <td>69.054459</td>\n",
       "      <td>0.332400</td>\n",
       "    </tr>\n",
       "  </tbody>\n",
       "</table>\n",
       "</div>"
      ],
      "text/plain": [
       "   Year  Month  Day  Hour  Minutes        WTC        WRH        GHR  \\\n",
       "0  2018      1   19    18       30  26.243799  50.889774  71.416481   \n",
       "1  2018      1   19    18       35  26.641783  49.539795  77.177094   \n",
       "2  2018      1   19    18       40  26.654078  53.414265  78.373489   \n",
       "3  2018      1   19    18       45  26.439108  55.582245  78.022881   \n",
       "4  2018      1   19    18       50  26.479477  56.173820  82.106972   \n",
       "\n",
       "         DHR          WD  WDR        RGT        RDT  1A Trina_power  \n",
       "0  67.523544  302.882996  3.6  65.268631  59.278999        0.318600  \n",
       "1  71.776718  246.312622  3.6  72.546944  63.134579        0.328800  \n",
       "2  69.008316  305.089630  3.6  76.711456  65.430550        0.334200  \n",
       "3  67.560181  259.662933  3.6  80.445709  66.812790        0.333133  \n",
       "4  73.004196  186.634705  3.6  83.035919  69.054459        0.332400  "
      ]
     },
     "execution_count": 9,
     "metadata": {},
     "output_type": "execute_result"
    }
   ],
   "source": [
    "train.head(5)"
   ]
  },
  {
   "cell_type": "code",
   "execution_count": 10,
   "metadata": {},
   "outputs": [
    {
     "data": {
      "text/html": [
       "<div>\n",
       "<style scoped>\n",
       "    .dataframe tbody tr th:only-of-type {\n",
       "        vertical-align: middle;\n",
       "    }\n",
       "\n",
       "    .dataframe tbody tr th {\n",
       "        vertical-align: top;\n",
       "    }\n",
       "\n",
       "    .dataframe thead th {\n",
       "        text-align: right;\n",
       "    }\n",
       "</style>\n",
       "<table border=\"1\" class=\"dataframe\">\n",
       "  <thead>\n",
       "    <tr style=\"text-align: right;\">\n",
       "      <th></th>\n",
       "      <th>Year</th>\n",
       "      <th>Month</th>\n",
       "      <th>Day</th>\n",
       "      <th>Hour</th>\n",
       "      <th>Minutes</th>\n",
       "      <th>WTC</th>\n",
       "      <th>WRH</th>\n",
       "      <th>GHR</th>\n",
       "      <th>DHR</th>\n",
       "      <th>WD</th>\n",
       "      <th>WDR</th>\n",
       "      <th>RGT</th>\n",
       "      <th>RDT</th>\n",
       "      <th>1A Trina_power</th>\n",
       "    </tr>\n",
       "  </thead>\n",
       "  <tbody>\n",
       "    <tr>\n",
       "      <th>0</th>\n",
       "      <td>2020</td>\n",
       "      <td>1</td>\n",
       "      <td>1</td>\n",
       "      <td>7</td>\n",
       "      <td>0</td>\n",
       "      <td>26.475155</td>\n",
       "      <td>26.081675</td>\n",
       "      <td>162.153366</td>\n",
       "      <td>56.253025</td>\n",
       "      <td>33.677536</td>\n",
       "      <td>0.0</td>\n",
       "      <td>89.188049</td>\n",
       "      <td>48.190262</td>\n",
       "      <td>1.355933</td>\n",
       "    </tr>\n",
       "    <tr>\n",
       "      <th>1</th>\n",
       "      <td>2020</td>\n",
       "      <td>1</td>\n",
       "      <td>1</td>\n",
       "      <td>7</td>\n",
       "      <td>5</td>\n",
       "      <td>26.830191</td>\n",
       "      <td>23.874067</td>\n",
       "      <td>184.131439</td>\n",
       "      <td>60.059135</td>\n",
       "      <td>33.177525</td>\n",
       "      <td>0.0</td>\n",
       "      <td>103.596741</td>\n",
       "      <td>51.176495</td>\n",
       "      <td>2.196533</td>\n",
       "    </tr>\n",
       "    <tr>\n",
       "      <th>2</th>\n",
       "      <td>2020</td>\n",
       "      <td>1</td>\n",
       "      <td>1</td>\n",
       "      <td>7</td>\n",
       "      <td>10</td>\n",
       "      <td>27.303818</td>\n",
       "      <td>22.543364</td>\n",
       "      <td>205.897934</td>\n",
       "      <td>63.810493</td>\n",
       "      <td>32.720444</td>\n",
       "      <td>0.0</td>\n",
       "      <td>120.530693</td>\n",
       "      <td>54.154552</td>\n",
       "      <td>1.468733</td>\n",
       "    </tr>\n",
       "    <tr>\n",
       "      <th>3</th>\n",
       "      <td>2020</td>\n",
       "      <td>1</td>\n",
       "      <td>1</td>\n",
       "      <td>7</td>\n",
       "      <td>15</td>\n",
       "      <td>27.597961</td>\n",
       "      <td>22.269592</td>\n",
       "      <td>225.959869</td>\n",
       "      <td>66.613937</td>\n",
       "      <td>32.253742</td>\n",
       "      <td>0.0</td>\n",
       "      <td>138.593536</td>\n",
       "      <td>56.979244</td>\n",
       "      <td>0.843667</td>\n",
       "    </tr>\n",
       "    <tr>\n",
       "      <th>4</th>\n",
       "      <td>2020</td>\n",
       "      <td>1</td>\n",
       "      <td>1</td>\n",
       "      <td>7</td>\n",
       "      <td>20</td>\n",
       "      <td>27.498199</td>\n",
       "      <td>21.532722</td>\n",
       "      <td>249.442825</td>\n",
       "      <td>70.428032</td>\n",
       "      <td>31.873810</td>\n",
       "      <td>0.0</td>\n",
       "      <td>160.114792</td>\n",
       "      <td>60.657581</td>\n",
       "      <td>1.005133</td>\n",
       "    </tr>\n",
       "  </tbody>\n",
       "</table>\n",
       "</div>"
      ],
      "text/plain": [
       "   Year  Month  Day  Hour  Minutes        WTC        WRH         GHR  \\\n",
       "0  2020      1    1     7        0  26.475155  26.081675  162.153366   \n",
       "1  2020      1    1     7        5  26.830191  23.874067  184.131439   \n",
       "2  2020      1    1     7       10  27.303818  22.543364  205.897934   \n",
       "3  2020      1    1     7       15  27.597961  22.269592  225.959869   \n",
       "4  2020      1    1     7       20  27.498199  21.532722  249.442825   \n",
       "\n",
       "         DHR         WD  WDR         RGT        RDT  1A Trina_power  \n",
       "0  56.253025  33.677536  0.0   89.188049  48.190262        1.355933  \n",
       "1  60.059135  33.177525  0.0  103.596741  51.176495        2.196533  \n",
       "2  63.810493  32.720444  0.0  120.530693  54.154552        1.468733  \n",
       "3  66.613937  32.253742  0.0  138.593536  56.979244        0.843667  \n",
       "4  70.428032  31.873810  0.0  160.114792  60.657581        1.005133  "
      ]
     },
     "execution_count": 10,
     "metadata": {},
     "output_type": "execute_result"
    }
   ],
   "source": [
    "test.head(5)"
   ]
  },
  {
   "cell_type": "markdown",
   "metadata": {},
   "source": [
    "# 数据预处理训练集去异常值"
   ]
  },
  {
   "cell_type": "code",
   "execution_count": 11,
   "metadata": {},
   "outputs": [
    {
     "data": {
      "text/plain": [
       "Year              0\n",
       "Month             0\n",
       "Day               0\n",
       "Hour              0\n",
       "Minutes           0\n",
       "WTC               0\n",
       "WRH               0\n",
       "GHR               0\n",
       "DHR               0\n",
       "WD                0\n",
       "WDR               0\n",
       "RGT               0\n",
       "RDT               0\n",
       "1A Trina_power    0\n",
       "dtype: int64"
      ]
     },
     "execution_count": 11,
     "metadata": {},
     "output_type": "execute_result"
    }
   ],
   "source": [
    "#使用df.isnull().sum()来获得与行数None和NaN值。\n",
    "train.isnull().sum()"
   ]
  },
  {
   "cell_type": "code",
   "execution_count": 12,
   "metadata": {},
   "outputs": [
    {
     "data": {
      "text/plain": [
       "Year              0\n",
       "Month             0\n",
       "Day               0\n",
       "Hour              0\n",
       "Minutes           0\n",
       "WTC               0\n",
       "WRH               0\n",
       "GHR               0\n",
       "DHR               0\n",
       "WD                0\n",
       "WDR               0\n",
       "RGT               0\n",
       "RDT               0\n",
       "1A Trina_power    0\n",
       "dtype: int64"
      ]
     },
     "execution_count": 12,
     "metadata": {},
     "output_type": "execute_result"
    }
   ],
   "source": [
    "test.isnull().sum()"
   ]
  },
  {
   "cell_type": "code",
   "execution_count": 13,
   "metadata": {},
   "outputs": [],
   "source": [
    "# #训练集去掉全是空值的行和列    #axis=0, how='any', thresh=None, subset=None, inplace=False)\n",
    "# # detectioncolumns=['WTC', 'WRH', 'GHR', 'DHR', 'WD', 'WDR', 'RGT', 'RDT']\n",
    "# # for i in detectioncolumns:\n",
    "# train.dropna(axis=\"index\",how='any' , inplace=True)  #删除掉全是空值的行\n",
    "# # train.dropna(axis=\"columns\", how='all', inplace=True)  #删除掉全是空值的列\n",
    "\n",
    "\n",
    "# test.dropna(axis=\"index\", how='any', inplace=True)  #删除掉全是空值的行\n",
    "# # test.dropna(axis=\"columns\", how='all', inplace=True)  #删除掉全是空值的列"
   ]
  },
  {
   "cell_type": "code",
   "execution_count": 14,
   "metadata": {},
   "outputs": [],
   "source": [
    "# #填补缺失值为均值\n",
    "# #train.ffill({\"RGT\":train['RGT'].mean()})\n",
    "# detectioncolumns=['WTC', 'WRH', 'GHR', 'DHR', 'WD', 'WDR', 'RGT', 'RDT']\n",
    "# for i in detectioncolumns:\n",
    "#     replace_NA=train[i].mean()\n",
    "#     train[i].fillna(replace_NA,inplace=True)\n",
    "# #去除测试集空值\n",
    "# for i in detectioncolumns:\n",
    "#     replace_NA=test[i].mean()\n",
    "#     test[i].fillna(replace_NA,inplace=True)\n"
   ]
  },
  {
   "cell_type": "code",
   "execution_count": 15,
   "metadata": {},
   "outputs": [
    {
     "data": {
      "text/plain": [
       "Index(['Year', 'Month', 'Day', 'Hour', 'Minutes', 'WTC', 'WRH', 'GHR', 'DHR',\n",
       "       'WD', 'WDR', 'RGT', 'RDT', '1A Trina_power'],\n",
       "      dtype='object')"
      ]
     },
     "execution_count": 15,
     "metadata": {},
     "output_type": "execute_result"
    }
   ],
   "source": [
    "train.columns"
   ]
  },
  {
   "cell_type": "code",
   "execution_count": 16,
   "metadata": {},
   "outputs": [
    {
     "data": {
      "text/plain": [
       "Index(['Year', 'Month', 'Day', 'Hour', 'Minutes', 'WTC', 'WRH', 'GHR', 'DHR',\n",
       "       'WD', 'WDR', 'RGT', 'RDT', '1A Trina_power'],\n",
       "      dtype='object')"
      ]
     },
     "execution_count": 16,
     "metadata": {},
     "output_type": "execute_result"
    }
   ],
   "source": [
    "test.columns"
   ]
  },
  {
   "cell_type": "code",
   "execution_count": 17,
   "metadata": {},
   "outputs": [
    {
     "data": {
      "text/html": [
       "<div>\n",
       "<style scoped>\n",
       "    .dataframe tbody tr th:only-of-type {\n",
       "        vertical-align: middle;\n",
       "    }\n",
       "\n",
       "    .dataframe tbody tr th {\n",
       "        vertical-align: top;\n",
       "    }\n",
       "\n",
       "    .dataframe thead th {\n",
       "        text-align: right;\n",
       "    }\n",
       "</style>\n",
       "<table border=\"1\" class=\"dataframe\">\n",
       "  <thead>\n",
       "    <tr style=\"text-align: right;\">\n",
       "      <th></th>\n",
       "      <th>Year</th>\n",
       "      <th>Month</th>\n",
       "      <th>Day</th>\n",
       "      <th>Hour</th>\n",
       "      <th>Minutes</th>\n",
       "      <th>WTC</th>\n",
       "      <th>WRH</th>\n",
       "      <th>GHR</th>\n",
       "      <th>DHR</th>\n",
       "      <th>WD</th>\n",
       "      <th>WDR</th>\n",
       "      <th>RGT</th>\n",
       "      <th>RDT</th>\n",
       "      <th>1A Trina_power</th>\n",
       "    </tr>\n",
       "  </thead>\n",
       "  <tbody>\n",
       "    <tr>\n",
       "      <th>0</th>\n",
       "      <td>2018</td>\n",
       "      <td>1</td>\n",
       "      <td>19</td>\n",
       "      <td>18</td>\n",
       "      <td>30</td>\n",
       "      <td>26.243799</td>\n",
       "      <td>50.889774</td>\n",
       "      <td>71.416481</td>\n",
       "      <td>67.523544</td>\n",
       "      <td>302.882996</td>\n",
       "      <td>3.6</td>\n",
       "      <td>65.268631</td>\n",
       "      <td>59.278999</td>\n",
       "      <td>0.318600</td>\n",
       "    </tr>\n",
       "    <tr>\n",
       "      <th>1</th>\n",
       "      <td>2018</td>\n",
       "      <td>1</td>\n",
       "      <td>19</td>\n",
       "      <td>18</td>\n",
       "      <td>35</td>\n",
       "      <td>26.641783</td>\n",
       "      <td>49.539795</td>\n",
       "      <td>77.177094</td>\n",
       "      <td>71.776718</td>\n",
       "      <td>246.312622</td>\n",
       "      <td>3.6</td>\n",
       "      <td>72.546944</td>\n",
       "      <td>63.134579</td>\n",
       "      <td>0.328800</td>\n",
       "    </tr>\n",
       "    <tr>\n",
       "      <th>2</th>\n",
       "      <td>2018</td>\n",
       "      <td>1</td>\n",
       "      <td>19</td>\n",
       "      <td>18</td>\n",
       "      <td>40</td>\n",
       "      <td>26.654078</td>\n",
       "      <td>53.414265</td>\n",
       "      <td>78.373489</td>\n",
       "      <td>69.008316</td>\n",
       "      <td>305.089630</td>\n",
       "      <td>3.6</td>\n",
       "      <td>76.711456</td>\n",
       "      <td>65.430550</td>\n",
       "      <td>0.334200</td>\n",
       "    </tr>\n",
       "    <tr>\n",
       "      <th>3</th>\n",
       "      <td>2018</td>\n",
       "      <td>1</td>\n",
       "      <td>19</td>\n",
       "      <td>18</td>\n",
       "      <td>45</td>\n",
       "      <td>26.439108</td>\n",
       "      <td>55.582245</td>\n",
       "      <td>78.022881</td>\n",
       "      <td>67.560181</td>\n",
       "      <td>259.662933</td>\n",
       "      <td>3.6</td>\n",
       "      <td>80.445709</td>\n",
       "      <td>66.812790</td>\n",
       "      <td>0.333133</td>\n",
       "    </tr>\n",
       "    <tr>\n",
       "      <th>4</th>\n",
       "      <td>2018</td>\n",
       "      <td>1</td>\n",
       "      <td>19</td>\n",
       "      <td>18</td>\n",
       "      <td>50</td>\n",
       "      <td>26.479477</td>\n",
       "      <td>56.173820</td>\n",
       "      <td>82.106972</td>\n",
       "      <td>73.004196</td>\n",
       "      <td>186.634705</td>\n",
       "      <td>3.6</td>\n",
       "      <td>83.035919</td>\n",
       "      <td>69.054459</td>\n",
       "      <td>0.332400</td>\n",
       "    </tr>\n",
       "  </tbody>\n",
       "</table>\n",
       "</div>"
      ],
      "text/plain": [
       "   Year  Month  Day  Hour  Minutes        WTC        WRH        GHR  \\\n",
       "0  2018      1   19    18       30  26.243799  50.889774  71.416481   \n",
       "1  2018      1   19    18       35  26.641783  49.539795  77.177094   \n",
       "2  2018      1   19    18       40  26.654078  53.414265  78.373489   \n",
       "3  2018      1   19    18       45  26.439108  55.582245  78.022881   \n",
       "4  2018      1   19    18       50  26.479477  56.173820  82.106972   \n",
       "\n",
       "         DHR          WD  WDR        RGT        RDT  1A Trina_power  \n",
       "0  67.523544  302.882996  3.6  65.268631  59.278999        0.318600  \n",
       "1  71.776718  246.312622  3.6  72.546944  63.134579        0.328800  \n",
       "2  69.008316  305.089630  3.6  76.711456  65.430550        0.334200  \n",
       "3  67.560181  259.662933  3.6  80.445709  66.812790        0.333133  \n",
       "4  73.004196  186.634705  3.6  83.035919  69.054459        0.332400  "
      ]
     },
     "execution_count": 17,
     "metadata": {},
     "output_type": "execute_result"
    }
   ],
   "source": [
    "train.head()"
   ]
  },
  {
   "cell_type": "code",
   "execution_count": 18,
   "metadata": {},
   "outputs": [
    {
     "data": {
      "text/html": [
       "<div>\n",
       "<style scoped>\n",
       "    .dataframe tbody tr th:only-of-type {\n",
       "        vertical-align: middle;\n",
       "    }\n",
       "\n",
       "    .dataframe tbody tr th {\n",
       "        vertical-align: top;\n",
       "    }\n",
       "\n",
       "    .dataframe thead th {\n",
       "        text-align: right;\n",
       "    }\n",
       "</style>\n",
       "<table border=\"1\" class=\"dataframe\">\n",
       "  <thead>\n",
       "    <tr style=\"text-align: right;\">\n",
       "      <th></th>\n",
       "      <th>Year</th>\n",
       "      <th>Month</th>\n",
       "      <th>Day</th>\n",
       "      <th>Hour</th>\n",
       "      <th>Minutes</th>\n",
       "      <th>WTC</th>\n",
       "      <th>WRH</th>\n",
       "      <th>GHR</th>\n",
       "      <th>DHR</th>\n",
       "      <th>WD</th>\n",
       "      <th>WDR</th>\n",
       "      <th>RGT</th>\n",
       "      <th>RDT</th>\n",
       "      <th>1A Trina_power</th>\n",
       "    </tr>\n",
       "  </thead>\n",
       "  <tbody>\n",
       "    <tr>\n",
       "      <th>0</th>\n",
       "      <td>2020</td>\n",
       "      <td>1</td>\n",
       "      <td>1</td>\n",
       "      <td>7</td>\n",
       "      <td>0</td>\n",
       "      <td>26.475155</td>\n",
       "      <td>26.081675</td>\n",
       "      <td>162.153366</td>\n",
       "      <td>56.253025</td>\n",
       "      <td>33.677536</td>\n",
       "      <td>0.0</td>\n",
       "      <td>89.188049</td>\n",
       "      <td>48.190262</td>\n",
       "      <td>1.355933</td>\n",
       "    </tr>\n",
       "    <tr>\n",
       "      <th>1</th>\n",
       "      <td>2020</td>\n",
       "      <td>1</td>\n",
       "      <td>1</td>\n",
       "      <td>7</td>\n",
       "      <td>5</td>\n",
       "      <td>26.830191</td>\n",
       "      <td>23.874067</td>\n",
       "      <td>184.131439</td>\n",
       "      <td>60.059135</td>\n",
       "      <td>33.177525</td>\n",
       "      <td>0.0</td>\n",
       "      <td>103.596741</td>\n",
       "      <td>51.176495</td>\n",
       "      <td>2.196533</td>\n",
       "    </tr>\n",
       "    <tr>\n",
       "      <th>2</th>\n",
       "      <td>2020</td>\n",
       "      <td>1</td>\n",
       "      <td>1</td>\n",
       "      <td>7</td>\n",
       "      <td>10</td>\n",
       "      <td>27.303818</td>\n",
       "      <td>22.543364</td>\n",
       "      <td>205.897934</td>\n",
       "      <td>63.810493</td>\n",
       "      <td>32.720444</td>\n",
       "      <td>0.0</td>\n",
       "      <td>120.530693</td>\n",
       "      <td>54.154552</td>\n",
       "      <td>1.468733</td>\n",
       "    </tr>\n",
       "    <tr>\n",
       "      <th>3</th>\n",
       "      <td>2020</td>\n",
       "      <td>1</td>\n",
       "      <td>1</td>\n",
       "      <td>7</td>\n",
       "      <td>15</td>\n",
       "      <td>27.597961</td>\n",
       "      <td>22.269592</td>\n",
       "      <td>225.959869</td>\n",
       "      <td>66.613937</td>\n",
       "      <td>32.253742</td>\n",
       "      <td>0.0</td>\n",
       "      <td>138.593536</td>\n",
       "      <td>56.979244</td>\n",
       "      <td>0.843667</td>\n",
       "    </tr>\n",
       "    <tr>\n",
       "      <th>4</th>\n",
       "      <td>2020</td>\n",
       "      <td>1</td>\n",
       "      <td>1</td>\n",
       "      <td>7</td>\n",
       "      <td>20</td>\n",
       "      <td>27.498199</td>\n",
       "      <td>21.532722</td>\n",
       "      <td>249.442825</td>\n",
       "      <td>70.428032</td>\n",
       "      <td>31.873810</td>\n",
       "      <td>0.0</td>\n",
       "      <td>160.114792</td>\n",
       "      <td>60.657581</td>\n",
       "      <td>1.005133</td>\n",
       "    </tr>\n",
       "  </tbody>\n",
       "</table>\n",
       "</div>"
      ],
      "text/plain": [
       "   Year  Month  Day  Hour  Minutes        WTC        WRH         GHR  \\\n",
       "0  2020      1    1     7        0  26.475155  26.081675  162.153366   \n",
       "1  2020      1    1     7        5  26.830191  23.874067  184.131439   \n",
       "2  2020      1    1     7       10  27.303818  22.543364  205.897934   \n",
       "3  2020      1    1     7       15  27.597961  22.269592  225.959869   \n",
       "4  2020      1    1     7       20  27.498199  21.532722  249.442825   \n",
       "\n",
       "         DHR         WD  WDR         RGT        RDT  1A Trina_power  \n",
       "0  56.253025  33.677536  0.0   89.188049  48.190262        1.355933  \n",
       "1  60.059135  33.177525  0.0  103.596741  51.176495        2.196533  \n",
       "2  63.810493  32.720444  0.0  120.530693  54.154552        1.468733  \n",
       "3  66.613937  32.253742  0.0  138.593536  56.979244        0.843667  \n",
       "4  70.428032  31.873810  0.0  160.114792  60.657581        1.005133  "
      ]
     },
     "execution_count": 18,
     "metadata": {},
     "output_type": "execute_result"
    }
   ],
   "source": [
    "test.head()"
   ]
  },
  {
   "cell_type": "markdown",
   "metadata": {},
   "source": [
    "# keras模型训练"
   ]
  },
  {
   "cell_type": "markdown",
   "metadata": {},
   "source": [
    "准备数据"
   ]
  },
  {
   "cell_type": "code",
   "execution_count": 19,
   "metadata": {
    "scrolled": true
   },
   "outputs": [
    {
     "name": "stdout",
     "output_type": "stream",
     "text": [
      "查看训练集\n",
      "    Year  Month  Day  Hour  Minutes        WTC        WRH        GHR  \\\n",
      "0  2018      1   19    18       30  26.243799  50.889774  71.416481   \n",
      "1  2018      1   19    18       35  26.641783  49.539795  77.177094   \n",
      "2  2018      1   19    18       40  26.654078  53.414265  78.373489   \n",
      "3  2018      1   19    18       45  26.439108  55.582245  78.022881   \n",
      "4  2018      1   19    18       50  26.479477  56.173820  82.106972   \n",
      "\n",
      "         DHR          WD  WDR        RGT        RDT  1A Trina_power  \n",
      "0  67.523544  302.882996  3.6  65.268631  59.278999        0.318600  \n",
      "1  71.776718  246.312622  3.6  72.546944  63.134579        0.328800  \n",
      "2  69.008316  305.089630  3.6  76.711456  65.430550        0.334200  \n",
      "3  67.560181  259.662933  3.6  80.445709  66.812790        0.333133  \n",
      "4  73.004196  186.634705  3.6  83.035919  69.054459        0.332400  \n",
      "查看测试集\n",
      "    Year  Month  Day  Hour  Minutes        WTC        WRH         GHR  \\\n",
      "0  2020      1    1     7        0  26.475155  26.081675  162.153366   \n",
      "1  2020      1    1     7        5  26.830191  23.874067  184.131439   \n",
      "2  2020      1    1     7       10  27.303818  22.543364  205.897934   \n",
      "3  2020      1    1     7       15  27.597961  22.269592  225.959869   \n",
      "4  2020      1    1     7       20  27.498199  21.532722  249.442825   \n",
      "\n",
      "         DHR         WD  WDR         RGT        RDT  1A Trina_power  \n",
      "0  56.253025  33.677536  0.0   89.188049  48.190262        1.355933  \n",
      "1  60.059135  33.177525  0.0  103.596741  51.176495        2.196533  \n",
      "2  63.810493  32.720444  0.0  120.530693  54.154552        1.468733  \n",
      "3  66.613937  32.253742  0.0  138.593536  56.979244        0.843667  \n",
      "4  70.428032  31.873810  0.0  160.114792  60.657581        1.005133  \n"
     ]
    }
   ],
   "source": [
    "train1=train[['Year','Month','Day', 'Hour',\n",
    "       'Minutes','WTC', 'WRH', 'GHR', 'DHR', 'WD', 'WDR', 'RGT', 'RDT', '1A Trina_power']]\n",
    "print(\"查看训练集\\n\",train1.head())\n",
    "test1=test[['Year','Month','Day', 'Hour',\n",
    "       'Minutes','WTC', 'WRH', 'GHR', 'DHR', 'WD', 'WDR', 'RGT', 'RDT', '1A Trina_power']]\n",
    "print(\"查看测试集\\n\",test.head())"
   ]
  },
  {
   "cell_type": "markdown",
   "metadata": {},
   "source": [
    "归一化数据"
   ]
  },
  {
   "cell_type": "code",
   "execution_count": 20,
   "metadata": {},
   "outputs": [],
   "source": [
    "train1 = train1.values\n",
    "train1 = train1.astype('float32')     # 将整型变为float\n",
    "scaler = MinMaxScaler(feature_range=(0, 1)) # 数据处理，归一化至0~1之间\n",
    "train1 = scaler.fit_transform(train1)\n",
    "\n",
    "test1 = test1.values\n",
    "test1 = test1.astype('float32')     # 将整型变为float\n",
    "scaler = MinMaxScaler(feature_range=(0, 1)) # 数据处理，归一化至0~1之间\n",
    "test1 = scaler.fit_transform(test1)\n",
    "\n",
    "inds = np.arange(train1.shape[0])\n",
    "random.shuffle(inds)\n",
    "train1_inds = inds[0:int(train1.shape[0]*0.8)]\n",
    "eval1_inds = inds[int(train1.shape[0]*0.8):train1.shape[0]]\n",
    "\n",
    "train_x, train_y = train1[train1_inds,1:-1], train1[train1_inds,-1:]\n",
    "#############\n",
    "train_year =train1[train1_inds,0:1]\n",
    "##############\n",
    "eval_x,eval_y = train1[eval1_inds,1:-1], train1[eval1_inds,-1:]\n",
    "test_x, test_y = test1[:,1:-1], test1[:,-1:]\n",
    "##############\n",
    "test_year = test1[:,0:1]\n",
    "##############\n",
    "\n",
    "# # 划分训练集和测试集\n",
    "# train_size = int(len(dataset) * 0.67)\n",
    "# test_size = len(dataset) - train_size\n",
    "# train, test = dataset[0:train_size,:], dataset[train_size:len(dataset),:]\n",
    "# # 创建测试集和训练集\n",
    "# look_back = 1\n",
    "# trainX, trainY = create_dataset(train,0)           #单步预测\n",
    "# testX, testY = create_dataset(test,0)\n",
    "    \n",
    "# # 调整输入数据的格式\n",
    "# trainX = numpy.reshape(trainX, (trainX.shape[0], look_back, trainX.shape[1]))       #（样本个数，1，输入的维度）\n",
    "# testX = numpy.reshape(testX, (testX.shape[0], look_back, testX.shape[1]))"
   ]
  },
  {
   "cell_type": "code",
   "execution_count": 21,
   "metadata": {
    "scrolled": true
   },
   "outputs": [
    {
     "name": "stdout",
     "output_type": "stream",
     "text": [
      "[[0.         0.         0.6        ... 0.05057754 0.16080084 0.03964721]\n",
      " [0.         0.         0.6        ... 0.0562432  0.17127295 0.04080353]\n",
      " [0.         0.         0.6        ... 0.05948498 0.17750902 0.0414157 ]\n",
      " ...\n",
      " [1.         1.         1.0000001  ... 0.03924772 0.11613394 0.04396261]\n",
      " [1.         1.         1.0000001  ... 0.03504231 0.10863898 0.05198879]\n",
      " [1.         1.         1.0000001  ... 0.0314142  0.09906423 0.03422841]]\n"
     ]
    }
   ],
   "source": [
    "print(train1)"
   ]
  },
  {
   "cell_type": "code",
   "execution_count": 22,
   "metadata": {},
   "outputs": [
    {
     "name": "stdout",
     "output_type": "stream",
     "text": [
      "[[1.         0.13333334 0.72727275 ... 0.         0.22643286 0.7615426 ]\n",
      " [0.45454547 0.73333335 0.5454546  ... 0.         0.75381535 0.20939443]\n",
      " [0.5454545  0.23333335 0.2727273  ... 0.         0.6395036  0.2138221 ]\n",
      " ...\n",
      " [0.8181819  0.10000001 0.6363636  ... 0.         0.69769436 0.27842057]\n",
      " [0.09090909 0.3666667  0.18181825 ... 0.         0.5286182  0.1822338 ]\n",
      " [0.72727275 0.6        0.5454546  ... 0.         0.26333344 0.8891357 ]]\n"
     ]
    }
   ],
   "source": [
    "print(train_x)"
   ]
  },
  {
   "cell_type": "code",
   "execution_count": 23,
   "metadata": {},
   "outputs": [
    {
     "name": "stdout",
     "output_type": "stream",
     "text": [
      "[[0.26048052]\n",
      " [0.48417822]\n",
      " [0.49557126]\n",
      " ...\n",
      " [0.4491109 ]\n",
      " [0.73113066]\n",
      " [0.1782613 ]]\n"
     ]
    }
   ],
   "source": [
    "print(train_y)"
   ]
  },
  {
   "cell_type": "code",
   "execution_count": 24,
   "metadata": {},
   "outputs": [
    {
     "name": "stdout",
     "output_type": "stream",
     "text": [
      "[[0.]\n",
      " [0.]\n",
      " [0.]\n",
      " ...\n",
      " [0.]\n",
      " [1.]\n",
      " [0.]]\n"
     ]
    }
   ],
   "source": [
    "print(train_year)"
   ]
  },
  {
   "cell_type": "code",
   "execution_count": 25,
   "metadata": {},
   "outputs": [
    {
     "name": "stdout",
     "output_type": "stream",
     "text": [
      "(55812, 12)\n",
      "(55812, 1)\n",
      "[[0.]\n",
      " [0.]\n",
      " [0.]\n",
      " ...\n",
      " [0.]\n",
      " [1.]\n",
      " [0.]]\n",
      "(13136, 12)\n",
      "(13136, 1)\n"
     ]
    }
   ],
   "source": [
    "print(train_x.shape)\n",
    "print(train_y.shape)\n",
    "\n",
    "print(train_year)\n",
    "\n",
    "print(test_x.shape)\n",
    "print(test_y.shape)"
   ]
  },
  {
   "cell_type": "markdown",
   "metadata": {},
   "source": [
    "# Model1"
   ]
  },
  {
   "cell_type": "code",
   "execution_count": 26,
   "metadata": {},
   "outputs": [
    {
     "name": "stdout",
     "output_type": "stream",
     "text": [
      "Train on 55812 samples, validate on 13953 samples\n",
      "Epoch 1/50\n",
      "55812/55812 [==============================] - 1s - loss: 0.0725 - mean_absolute_error: 0.2089 - val_loss: 0.0519 - val_mean_absolute_error: 0.1768\n",
      "Epoch 2/50\n",
      "55812/55812 [==============================] - 0s - loss: 0.0361 - mean_absolute_error: 0.1559 - val_loss: 0.0369 - val_mean_absolute_error: 0.1546\n",
      "Epoch 3/50\n",
      "55812/55812 [==============================] - 0s - loss: 0.0248 - mean_absolute_error: 0.1327 - val_loss: 0.0277 - val_mean_absolute_error: 0.1366\n",
      "Epoch 4/50\n",
      "55812/55812 [==============================] - 0s - loss: 0.0237 - mean_absolute_error: 0.1288 - val_loss: 0.0245 - val_mean_absolute_error: 0.1304\n",
      "Epoch 5/50\n",
      "55812/55812 [==============================] - 0s - loss: 0.0230 - mean_absolute_error: 0.1270 - val_loss: 0.0244 - val_mean_absolute_error: 0.1300\n",
      "Epoch 6/50\n",
      "55812/55812 [==============================] - 0s - loss: 0.0225 - mean_absolute_error: 0.1257 - val_loss: 0.0236 - val_mean_absolute_error: 0.1283\n",
      "Epoch 7/50\n",
      "55812/55812 [==============================] - 0s - loss: 0.0222 - mean_absolute_error: 0.1249 - val_loss: 0.0225 - val_mean_absolute_error: 0.1262\n",
      "Epoch 8/50\n",
      "55812/55812 [==============================] - 0s - loss: 0.0220 - mean_absolute_error: 0.1243 - val_loss: 0.0234 - val_mean_absolute_error: 0.1249\n",
      "Epoch 9/50\n",
      "55812/55812 [==============================] - 0s - loss: 0.0218 - mean_absolute_error: 0.1237 - val_loss: 0.0243 - val_mean_absolute_error: 0.1295\n",
      "Epoch 10/50\n",
      "55812/55812 [==============================] - 0s - loss: 0.0216 - mean_absolute_error: 0.1229 - val_loss: 0.0214 - val_mean_absolute_error: 0.1238\n",
      "Epoch 11/50\n",
      "55812/55812 [==============================] - 0s - loss: 0.0214 - mean_absolute_error: 0.1224 - val_loss: 0.0224 - val_mean_absolute_error: 0.1226\n",
      "Epoch 12/50\n",
      "55812/55812 [==============================] - 0s - loss: 0.0212 - mean_absolute_error: 0.1219 - val_loss: 0.0220 - val_mean_absolute_error: 0.1215\n",
      "Epoch 13/50\n",
      "55812/55812 [==============================] - 0s - loss: 0.0211 - mean_absolute_error: 0.1214 - val_loss: 0.0202 - val_mean_absolute_error: 0.1204\n",
      "Epoch 14/50\n",
      "55812/55812 [==============================] - 0s - loss: 0.0210 - mean_absolute_error: 0.1210 - val_loss: 0.0207 - val_mean_absolute_error: 0.1216\n",
      "Epoch 15/50\n",
      "55812/55812 [==============================] - 0s - loss: 0.0209 - mean_absolute_error: 0.1208 - val_loss: 0.0206 - val_mean_absolute_error: 0.1195\n",
      "Epoch 16/50\n",
      "55812/55812 [==============================] - 0s - loss: 0.0207 - mean_absolute_error: 0.1201 - val_loss: 0.0201 - val_mean_absolute_error: 0.1185\n",
      "Epoch 17/50\n",
      "55812/55812 [==============================] - 0s - loss: 0.0205 - mean_absolute_error: 0.1196 - val_loss: 0.0243 - val_mean_absolute_error: 0.1287\n",
      "Epoch 18/50\n",
      "55812/55812 [==============================] - 0s - loss: 0.0204 - mean_absolute_error: 0.1193 - val_loss: 0.0227 - val_mean_absolute_error: 0.1251\n",
      "Epoch 19/50\n",
      "55812/55812 [==============================] - 0s - loss: 0.0203 - mean_absolute_error: 0.1189 - val_loss: 0.0205 - val_mean_absolute_error: 0.1179\n",
      "Epoch 20/50\n",
      "55812/55812 [==============================] - 0s - loss: 0.0203 - mean_absolute_error: 0.1186 - val_loss: 0.0202 - val_mean_absolute_error: 0.1171\n",
      "Epoch 21/50\n",
      "55812/55812 [==============================] - 0s - loss: 0.0200 - mean_absolute_error: 0.1178 - val_loss: 0.0215 - val_mean_absolute_error: 0.1189\n",
      "Epoch 22/50\n",
      "55812/55812 [==============================] - 0s - loss: 0.0200 - mean_absolute_error: 0.1175 - val_loss: 0.0199 - val_mean_absolute_error: 0.1181\n",
      "Epoch 23/50\n",
      "55812/55812 [==============================] - 0s - loss: 0.0199 - mean_absolute_error: 0.1171 - val_loss: 0.0209 - val_mean_absolute_error: 0.1203\n",
      "Epoch 24/50\n",
      "55812/55812 [==============================] - 0s - loss: 0.0196 - mean_absolute_error: 0.1163 - val_loss: 0.0204 - val_mean_absolute_error: 0.1189\n",
      "Epoch 25/50\n",
      "55812/55812 [==============================] - 0s - loss: 0.0196 - mean_absolute_error: 0.1161 - val_loss: 0.0225 - val_mean_absolute_error: 0.1197\n",
      "Epoch 26/50\n",
      "55812/55812 [==============================] - 0s - loss: 0.0196 - mean_absolute_error: 0.1159 - val_loss: 0.0189 - val_mean_absolute_error: 0.1137\n",
      "Epoch 27/50\n",
      "55812/55812 [==============================] - 0s - loss: 0.0194 - mean_absolute_error: 0.1154 - val_loss: 0.0193 - val_mean_absolute_error: 0.1158\n",
      "Epoch 28/50\n",
      "55812/55812 [==============================] - 0s - loss: 0.0192 - mean_absolute_error: 0.1146 - val_loss: 0.0193 - val_mean_absolute_error: 0.1155\n",
      "Epoch 29/50\n",
      "55812/55812 [==============================] - 0s - loss: 0.0191 - mean_absolute_error: 0.1142 - val_loss: 0.0193 - val_mean_absolute_error: 0.1150\n",
      "Epoch 30/50\n",
      "55812/55812 [==============================] - 0s - loss: 0.0190 - mean_absolute_error: 0.1138 - val_loss: 0.0213 - val_mean_absolute_error: 0.1166\n",
      "Epoch 31/50\n",
      "55812/55812 [==============================] - 0s - loss: 0.0190 - mean_absolute_error: 0.1135 - val_loss: 0.0187 - val_mean_absolute_error: 0.1133\n",
      "Epoch 32/50\n",
      "55812/55812 [==============================] - 0s - loss: 0.0188 - mean_absolute_error: 0.1128 - val_loss: 0.0195 - val_mean_absolute_error: 0.1132\n",
      "Epoch 33/50\n",
      "55812/55812 [==============================] - 0s - loss: 0.0187 - mean_absolute_error: 0.1125 - val_loss: 0.0193 - val_mean_absolute_error: 0.1124\n",
      "Epoch 34/50\n",
      "55812/55812 [==============================] - 0s - loss: 0.0185 - mean_absolute_error: 0.1117 - val_loss: 0.0181 - val_mean_absolute_error: 0.1107\n",
      "Epoch 35/50\n",
      "55812/55812 [==============================] - 0s - loss: 0.0185 - mean_absolute_error: 0.1116 - val_loss: 0.0184 - val_mean_absolute_error: 0.1111\n",
      "Epoch 36/50\n",
      "55812/55812 [==============================] - 0s - loss: 0.0183 - mean_absolute_error: 0.1108 - val_loss: 0.0238 - val_mean_absolute_error: 0.1251\n",
      "Epoch 37/50\n",
      "55812/55812 [==============================] - 0s - loss: 0.0183 - mean_absolute_error: 0.1108 - val_loss: 0.0196 - val_mean_absolute_error: 0.1143\n",
      "Epoch 38/50\n",
      "55812/55812 [==============================] - 0s - loss: 0.0182 - mean_absolute_error: 0.1104 - val_loss: 0.0182 - val_mean_absolute_error: 0.1108\n",
      "Epoch 39/50\n",
      "55812/55812 [==============================] - 0s - loss: 0.0181 - mean_absolute_error: 0.1101 - val_loss: 0.0185 - val_mean_absolute_error: 0.1098\n",
      "Epoch 40/50\n",
      "55812/55812 [==============================] - 0s - loss: 0.0179 - mean_absolute_error: 0.1092 - val_loss: 0.0176 - val_mean_absolute_error: 0.1086\n",
      "Epoch 41/50\n",
      "55812/55812 [==============================] - 0s - loss: 0.0179 - mean_absolute_error: 0.1093 - val_loss: 0.0200 - val_mean_absolute_error: 0.1148\n",
      "Epoch 42/50\n",
      "55812/55812 [==============================] - 0s - loss: 0.0178 - mean_absolute_error: 0.1087 - val_loss: 0.0178 - val_mean_absolute_error: 0.1082\n",
      "Epoch 43/50\n",
      "55812/55812 [==============================] - 0s - loss: 0.0177 - mean_absolute_error: 0.1084 - val_loss: 0.0172 - val_mean_absolute_error: 0.1061\n",
      "Epoch 44/50\n",
      "55812/55812 [==============================] - 0s - loss: 0.0176 - mean_absolute_error: 0.1077 - val_loss: 0.0175 - val_mean_absolute_error: 0.1061\n",
      "Epoch 45/50\n",
      "55812/55812 [==============================] - 0s - loss: 0.0177 - mean_absolute_error: 0.1078 - val_loss: 0.0178 - val_mean_absolute_error: 0.1086\n",
      "Epoch 46/50\n",
      "55812/55812 [==============================] - 0s - loss: 0.0173 - mean_absolute_error: 0.1068 - val_loss: 0.0186 - val_mean_absolute_error: 0.1085\n",
      "Epoch 47/50\n",
      "55812/55812 [==============================] - 0s - loss: 0.0175 - mean_absolute_error: 0.1073 - val_loss: 0.0171 - val_mean_absolute_error: 0.1061\n",
      "Epoch 48/50\n",
      "55812/55812 [==============================] - 0s - loss: 0.0173 - mean_absolute_error: 0.1066 - val_loss: 0.0181 - val_mean_absolute_error: 0.1086\n",
      "Epoch 49/50\n",
      "55812/55812 [==============================] - 0s - loss: 0.0174 - mean_absolute_error: 0.1066 - val_loss: 0.0172 - val_mean_absolute_error: 0.1062\n",
      "Epoch 50/50\n",
      "55812/55812 [==============================] - 0s - loss: 0.0171 - mean_absolute_error: 0.1055 - val_loss: 0.0183 - val_mean_absolute_error: 0.1079\n"
     ]
    }
   ],
   "source": [
    "model1 = Sequential()\n",
    "model1.add(Dense(units=64, input_shape = (12,),activation='softmax',name='layer1'))\n",
    "model1.add(Dense(units=64,name='layer2'))\n",
    "model1.add(Dense(units=16,name='layer3'))\n",
    "model1.add(Dense(units=8,name='layer4'))\n",
    "model1.add(Dense(units=1,name='layer5'))\n",
    "model1.compile(loss='mean_squared_error',\n",
    "              optimizer='rmsprop',\n",
    "              metrics=['mae'])\n",
    "history = model1.fit(x = train_x,y = train_y, validation_data = (eval_x,eval_y), epochs=50, batch_size=1000,verbose=1)\n",
    "######################################################################\n",
    "#######################################################################"
   ]
  },
  {
   "cell_type": "code",
   "execution_count": 27,
   "metadata": {},
   "outputs": [
    {
     "data": {
      "image/png": "[encoded data removed]",
      "text/plain": [
       "<Figure size 432x288 with 1 Axes>"
      ]
     },
     "metadata": {},
     "output_type": "display_data"
    }
   ],
   "source": [
    "# 绘制训练 & 验证的损失值\n",
    "plt.plot(history.history['loss'])\n",
    "plt.plot(history.history['val_loss'])\n",
    "plt.title('Model1 loss')\n",
    "plt.ylabel('Loss')\n",
    "plt.xlabel('Epoch')\n",
    "plt.legend(['Train', 'Test'], loc='upper left')\n",
    "plt.show()"
   ]
  },
  {
   "cell_type": "code",
   "execution_count": 28,
   "metadata": {
    "scrolled": false
   },
   "outputs": [],
   "source": [
    "# # 绘制训练 & 验证的准确率值\n",
    "# plt.plot(history.history['acc'])\n",
    "# plt.plot(history.history['val_acc'])\n",
    "# plt.title('Model accuracy')\n",
    "# plt.ylabel('Accuracy')\n",
    "# plt.xlabel('Epoch')\n",
    "# plt.legend(['Train', 'Test'], loc='upper left')\n",
    "# plt.show()"
   ]
  },
  {
   "cell_type": "markdown",
   "metadata": {},
   "source": [
    "#  Model2   Dense with activation"
   ]
  },
  {
   "cell_type": "code",
   "execution_count": 29,
   "metadata": {},
   "outputs": [
    {
     "name": "stdout",
     "output_type": "stream",
     "text": [
      "Train on 55812 samples, validate on 13953 samples\n",
      "Epoch 1/50\n",
      "55812/55812 [==============================] - 0s - loss: 0.8267 - mean_absolute_error: 0.8267 - val_loss: 0.3521 - val_mean_absolute_error: 0.3521\n",
      "Epoch 2/50\n",
      "55812/55812 [==============================] - 0s - loss: 0.2314 - mean_absolute_error: 0.2314 - val_loss: 0.1968 - val_mean_absolute_error: 0.1968\n",
      "Epoch 3/50\n",
      "55812/55812 [==============================] - 0s - loss: 0.1958 - mean_absolute_error: 0.1958 - val_loss: 0.1955 - val_mean_absolute_error: 0.1955\n",
      "Epoch 4/50\n",
      "55812/55812 [==============================] - 0s - loss: 0.1934 - mean_absolute_error: 0.1934 - val_loss: 0.1911 - val_mean_absolute_error: 0.1911\n",
      "Epoch 5/50\n",
      "55812/55812 [==============================] - 0s - loss: 0.1862 - mean_absolute_error: 0.1862 - val_loss: 0.1809 - val_mean_absolute_error: 0.1809\n",
      "Epoch 6/50\n",
      "55812/55812 [==============================] - ETA: 0s - loss: 0.1735 - mean_absolute_error: 0.173 - 0s - loss: 0.1732 - mean_absolute_error: 0.1732 - val_loss: 0.1652 - val_mean_absolute_error: 0.1652\n",
      "Epoch 7/50\n",
      "55812/55812 [==============================] - 0s - loss: 0.1563 - mean_absolute_error: 0.1563 - val_loss: 0.1493 - val_mean_absolute_error: 0.1493\n",
      "Epoch 8/50\n",
      "55812/55812 [==============================] - 0s - loss: 0.1400 - mean_absolute_error: 0.1400 - val_loss: 0.1347 - val_mean_absolute_error: 0.1347\n",
      "Epoch 9/50\n",
      "55812/55812 [==============================] - 0s - loss: 0.1309 - mean_absolute_error: 0.1309 - val_loss: 0.1288 - val_mean_absolute_error: 0.1288\n",
      "Epoch 10/50\n",
      "55812/55812 [==============================] - 0s - loss: 0.1270 - mean_absolute_error: 0.1270 - val_loss: 0.1257 - val_mean_absolute_error: 0.1257\n",
      "Epoch 11/50\n",
      "55812/55812 [==============================] - 0s - loss: 0.1242 - mean_absolute_error: 0.1242 - val_loss: 0.1236 - val_mean_absolute_error: 0.1236\n",
      "Epoch 12/50\n",
      "55812/55812 [==============================] - 0s - loss: 0.1226 - mean_absolute_error: 0.1226 - val_loss: 0.1222 - val_mean_absolute_error: 0.1222\n",
      "Epoch 13/50\n",
      "55812/55812 [==============================] - 0s - loss: 0.1211 - mean_absolute_error: 0.1211 - val_loss: 0.1212 - val_mean_absolute_error: 0.1212\n",
      "Epoch 14/50\n",
      "55812/55812 [==============================] - 0s - loss: 0.1205 - mean_absolute_error: 0.1205 - val_loss: 0.1214 - val_mean_absolute_error: 0.1214\n",
      "Epoch 15/50\n",
      "55812/55812 [==============================] - 0s - loss: 0.1199 - mean_absolute_error: 0.1199 - val_loss: 0.1200 - val_mean_absolute_error: 0.1200\n",
      "Epoch 16/50\n",
      "55812/55812 [==============================] - 0s - loss: 0.1197 - mean_absolute_error: 0.1197 - val_loss: 0.1201 - val_mean_absolute_error: 0.1201\n",
      "Epoch 17/50\n",
      "55812/55812 [==============================] - 0s - loss: 0.1192 - mean_absolute_error: 0.1192 - val_loss: 0.1197 - val_mean_absolute_error: 0.1197\n",
      "Epoch 18/50\n",
      "55812/55812 [==============================] - 0s - loss: 0.1190 - mean_absolute_error: 0.1190 - val_loss: 0.1189 - val_mean_absolute_error: 0.1189\n",
      "Epoch 19/50\n",
      "55812/55812 [==============================] - 0s - loss: 0.1186 - mean_absolute_error: 0.1186 - val_loss: 0.1190 - val_mean_absolute_error: 0.1190\n",
      "Epoch 20/50\n",
      "55812/55812 [==============================] - 0s - loss: 0.1185 - mean_absolute_error: 0.1185 - val_loss: 0.1187 - val_mean_absolute_error: 0.1187\n",
      "Epoch 21/50\n",
      "55812/55812 [==============================] - 0s - loss: 0.1179 - mean_absolute_error: 0.1179 - val_loss: 0.1227 - val_mean_absolute_error: 0.1227\n",
      "Epoch 22/50\n",
      "55812/55812 [==============================] - 0s - loss: 0.1180 - mean_absolute_error: 0.1180 - val_loss: 0.1206 - val_mean_absolute_error: 0.1206\n",
      "Epoch 23/50\n",
      "55812/55812 [==============================] - 0s - loss: 0.1177 - mean_absolute_error: 0.1177 - val_loss: 0.1177 - val_mean_absolute_error: 0.1177\n",
      "Epoch 24/50\n",
      "55812/55812 [==============================] - 0s - loss: 0.1173 - mean_absolute_error: 0.1173 - val_loss: 0.1217 - val_mean_absolute_error: 0.1217\n",
      "Epoch 25/50\n",
      "55812/55812 [==============================] - 0s - loss: 0.1170 - mean_absolute_error: 0.1170 - val_loss: 0.1196 - val_mean_absolute_error: 0.1196\n",
      "Epoch 26/50\n",
      "55812/55812 [==============================] - 0s - loss: 0.1169 - mean_absolute_error: 0.1169 - val_loss: 0.1171 - val_mean_absolute_error: 0.1171\n",
      "Epoch 27/50\n",
      "55812/55812 [==============================] - 0s - loss: 0.1167 - mean_absolute_error: 0.1167 - val_loss: 0.1169 - val_mean_absolute_error: 0.1169\n",
      "Epoch 28/50\n",
      "55812/55812 [==============================] - 0s - loss: 0.1166 - mean_absolute_error: 0.1166 - val_loss: 0.1172 - val_mean_absolute_error: 0.1172\n",
      "Epoch 29/50\n",
      "55812/55812 [==============================] - 0s - loss: 0.1163 - mean_absolute_error: 0.1163 - val_loss: 0.1170 - val_mean_absolute_error: 0.1170\n",
      "Epoch 30/50\n",
      "55812/55812 [==============================] - 0s - loss: 0.1163 - mean_absolute_error: 0.1163 - val_loss: 0.1189 - val_mean_absolute_error: 0.1189\n",
      "Epoch 31/50\n",
      "55812/55812 [==============================] - 0s - loss: 0.1159 - mean_absolute_error: 0.1159 - val_loss: 0.1168 - val_mean_absolute_error: 0.1168\n",
      "Epoch 32/50\n",
      "55812/55812 [==============================] - 0s - loss: 0.1158 - mean_absolute_error: 0.1158 - val_loss: 0.1157 - val_mean_absolute_error: 0.1157\n",
      "Epoch 33/50\n",
      "55812/55812 [==============================] - 0s - loss: 0.1157 - mean_absolute_error: 0.1157 - val_loss: 0.1162 - val_mean_absolute_error: 0.1162\n",
      "Epoch 34/50\n",
      "55812/55812 [==============================] - 0s - loss: 0.1155 - mean_absolute_error: 0.1155 - val_loss: 0.1166 - val_mean_absolute_error: 0.1166\n",
      "Epoch 35/50\n",
      "55812/55812 [==============================] - 0s - loss: 0.1152 - mean_absolute_error: 0.1152 - val_loss: 0.1184 - val_mean_absolute_error: 0.1184\n",
      "Epoch 36/50\n",
      "55812/55812 [==============================] - 0s - loss: 0.1152 - mean_absolute_error: 0.1152 - val_loss: 0.1159 - val_mean_absolute_error: 0.1159\n",
      "Epoch 37/50\n",
      "55812/55812 [==============================] - 0s - loss: 0.1148 - mean_absolute_error: 0.1148 - val_loss: 0.1154 - val_mean_absolute_error: 0.1154\n",
      "Epoch 38/50\n",
      "55812/55812 [==============================] - 0s - loss: 0.1147 - mean_absolute_error: 0.1147 - val_loss: 0.1152 - val_mean_absolute_error: 0.1152\n",
      "Epoch 39/50\n",
      "55812/55812 [==============================] - 0s - loss: 0.1144 - mean_absolute_error: 0.1144 - val_loss: 0.1143 - val_mean_absolute_error: 0.1143\n",
      "Epoch 40/50\n",
      "55812/55812 [==============================] - 0s - loss: 0.1142 - mean_absolute_error: 0.1142 - val_loss: 0.1147 - val_mean_absolute_error: 0.1147\n",
      "Epoch 41/50\n",
      "55812/55812 [==============================] - 0s - loss: 0.1141 - mean_absolute_error: 0.1141 - val_loss: 0.1139 - val_mean_absolute_error: 0.1139\n",
      "Epoch 42/50\n",
      "55812/55812 [==============================] - 0s - loss: 0.1138 - mean_absolute_error: 0.1138 - val_loss: 0.1140 - val_mean_absolute_error: 0.1140\n",
      "Epoch 43/50\n",
      "55812/55812 [==============================] - 0s - loss: 0.1135 - mean_absolute_error: 0.1135 - val_loss: 0.1135 - val_mean_absolute_error: 0.1135\n",
      "Epoch 44/50\n",
      "55812/55812 [==============================] - 0s - loss: 0.1131 - mean_absolute_error: 0.1131 - val_loss: 0.1180 - val_mean_absolute_error: 0.1180\n",
      "Epoch 45/50\n",
      "55812/55812 [==============================] - 0s - loss: 0.1133 - mean_absolute_error: 0.1133 - val_loss: 0.1134 - val_mean_absolute_error: 0.1134\n",
      "Epoch 46/50\n",
      "55812/55812 [==============================] - 0s - loss: 0.1129 - mean_absolute_error: 0.1129 - val_loss: 0.1125 - val_mean_absolute_error: 0.1125\n",
      "Epoch 47/50\n",
      "55812/55812 [==============================] - 0s - loss: 0.1126 - mean_absolute_error: 0.1126 - val_loss: 0.1131 - val_mean_absolute_error: 0.1131\n",
      "Epoch 48/50\n",
      "55812/55812 [==============================] - 0s - loss: 0.1122 - mean_absolute_error: 0.1122 - val_loss: 0.1151 - val_mean_absolute_error: 0.1151\n",
      "Epoch 49/50\n",
      "55812/55812 [==============================] - 0s - loss: 0.1118 - mean_absolute_error: 0.1118 - val_loss: 0.1116 - val_mean_absolute_error: 0.1116\n",
      "Epoch 50/50\n",
      "55812/55812 [==============================] - 0s - loss: 0.1115 - mean_absolute_error: 0.1115 - val_loss: 0.1138 - val_mean_absolute_error: 0.1138\n"
     ]
    }
   ],
   "source": [
    "model2 = Sequential()\n",
    "model2.add(Dense(units=64, input_shape = (12,),activation='sigmoid',name='layer1'))\n",
    "model2.add(Dense(units=32, activation='sigmoid',name='layer2'))\n",
    "model2.add(Dense(units=16,name='layer3',activation='sigmoid'))\n",
    "model2.add(Dense(units=8,name='layer4',activation='sigmoid'))\n",
    "model2.add(Dense(units=1,name='layer5'))\n",
    "# model2.add(Dense(units=4,name='layer5',activation='sigmoid'))\n",
    "# model2.add(Dense(units=1,name='layer6'))\n",
    "model2.compile(loss='mean_absolute_error',\n",
    "              optimizer='rmsprop',\n",
    "              metrics=['mae'])\n",
    "history=model2.fit(x = train_x,y = train_y, validation_data = (eval_x,eval_y), epochs=50, batch_size=1000)\n",
    "\n",
    "#########################################################################\n"
   ]
  },
  {
   "cell_type": "code",
   "execution_count": 30,
   "metadata": {},
   "outputs": [
    {
     "data": {
      "image/png": "[encoded data removed]",
      "text/plain": [
       "<Figure size 432x288 with 1 Axes>"
      ]
     },
     "metadata": {},
     "output_type": "display_data"
    }
   ],
   "source": [
    "########################################################################\n",
    "# 绘制训练 & 验证的损失值\n",
    "plt.plot(history.history['loss'])\n",
    "plt.plot(history.history['val_loss'])\n",
    "plt.title('Model2 loss')\n",
    "plt.ylabel('Loss')\n",
    "plt.xlabel('Epoch')\n",
    "plt.legend(['Train', 'Test'], loc='upper left')\n",
    "plt.show()"
   ]
  },
  {
   "cell_type": "markdown",
   "metadata": {},
   "source": [
    "# dense_model3 with activation,bias"
   ]
  },
  {
   "cell_type": "code",
   "execution_count": 31,
   "metadata": {},
   "outputs": [
    {
     "name": "stdout",
     "output_type": "stream",
     "text": [
      "Train on 55812 samples, validate on 13953 samples\n",
      "Epoch 1/50\n",
      "55812/55812 [==============================] - 0s - loss: 0.5416 - mean_absolute_error: 0.5416 - val_loss: 0.2535 - val_mean_absolute_error: 0.2535\n",
      "Epoch 2/50\n",
      "55812/55812 [==============================] - 0s - loss: 0.2037 - mean_absolute_error: 0.2037 - val_loss: 0.1967 - val_mean_absolute_error: 0.1967\n",
      "Epoch 3/50\n",
      "55812/55812 [==============================] - 0s - loss: 0.1950 - mean_absolute_error: 0.1950 - val_loss: 0.1938 - val_mean_absolute_error: 0.1938\n",
      "Epoch 4/50\n",
      "55812/55812 [==============================] - 0s - loss: 0.1897 - mean_absolute_error: 0.1897 - val_loss: 0.1850 - val_mean_absolute_error: 0.1850\n",
      "Epoch 5/50\n",
      "55812/55812 [==============================] - 0s - loss: 0.1780 - mean_absolute_error: 0.1780 - val_loss: 0.1713 - val_mean_absolute_error: 0.1713\n",
      "Epoch 6/50\n",
      "55812/55812 [==============================] - 0s - loss: 0.1613 - mean_absolute_error: 0.1613 - val_loss: 0.1538 - val_mean_absolute_error: 0.1538\n",
      "Epoch 7/50\n",
      "55812/55812 [==============================] - 0s - loss: 0.1434 - mean_absolute_error: 0.1434 - val_loss: 0.1368 - val_mean_absolute_error: 0.1368\n",
      "Epoch 8/50\n",
      "55812/55812 [==============================] - 0s - loss: 0.1309 - mean_absolute_error: 0.1309 - val_loss: 0.1284 - val_mean_absolute_error: 0.1284\n",
      "Epoch 9/50\n",
      "55812/55812 [==============================] - 0s - loss: 0.1257 - mean_absolute_error: 0.1257 - val_loss: 0.1244 - val_mean_absolute_error: 0.1244\n",
      "Epoch 10/50\n",
      "55812/55812 [==============================] - 0s - loss: 0.1236 - mean_absolute_error: 0.1236 - val_loss: 0.1262 - val_mean_absolute_error: 0.1262\n",
      "Epoch 11/50\n",
      "55812/55812 [==============================] - 0s - loss: 0.1219 - mean_absolute_error: 0.1219 - val_loss: 0.1218 - val_mean_absolute_error: 0.1218\n",
      "Epoch 12/50\n",
      "55812/55812 [==============================] - 0s - loss: 0.1210 - mean_absolute_error: 0.1210 - val_loss: 0.1212 - val_mean_absolute_error: 0.1212\n",
      "Epoch 13/50\n",
      "55812/55812 [==============================] - 0s - loss: 0.1205 - mean_absolute_error: 0.1205 - val_loss: 0.1213 - val_mean_absolute_error: 0.1213\n",
      "Epoch 14/50\n",
      "55812/55812 [==============================] - 0s - loss: 0.1198 - mean_absolute_error: 0.1198 - val_loss: 0.1251 - val_mean_absolute_error: 0.1251\n",
      "Epoch 15/50\n",
      "55812/55812 [==============================] - 0s - loss: 0.1196 - mean_absolute_error: 0.1196 - val_loss: 0.1195 - val_mean_absolute_error: 0.1195\n",
      "Epoch 16/50\n",
      "55812/55812 [==============================] - 0s - loss: 0.1192 - mean_absolute_error: 0.1192 - val_loss: 0.1191 - val_mean_absolute_error: 0.1191\n",
      "Epoch 17/50\n",
      "55812/55812 [==============================] - 0s - loss: 0.1188 - mean_absolute_error: 0.1188 - val_loss: 0.1200 - val_mean_absolute_error: 0.1200\n",
      "Epoch 18/50\n",
      "55812/55812 [==============================] - 0s - loss: 0.1185 - mean_absolute_error: 0.1185 - val_loss: 0.1229 - val_mean_absolute_error: 0.1229\n",
      "Epoch 19/50\n",
      "55812/55812 [==============================] - 0s - loss: 0.1185 - mean_absolute_error: 0.1185 - val_loss: 0.1194 - val_mean_absolute_error: 0.1194\n",
      "Epoch 20/50\n",
      "55812/55812 [==============================] - 0s - loss: 0.1180 - mean_absolute_error: 0.1180 - val_loss: 0.1200 - val_mean_absolute_error: 0.1200\n",
      "Epoch 21/50\n",
      "55812/55812 [==============================] - 0s - loss: 0.1177 - mean_absolute_error: 0.1177 - val_loss: 0.1235 - val_mean_absolute_error: 0.1235\n",
      "Epoch 22/50\n",
      "55812/55812 [==============================] - 0s - loss: 0.1179 - mean_absolute_error: 0.1179 - val_loss: 0.1199 - val_mean_absolute_error: 0.1199\n",
      "Epoch 23/50\n",
      "55812/55812 [==============================] - 0s - loss: 0.1176 - mean_absolute_error: 0.1176 - val_loss: 0.1193 - val_mean_absolute_error: 0.1193\n",
      "Epoch 24/50\n",
      "55812/55812 [==============================] - 0s - loss: 0.1174 - mean_absolute_error: 0.1174 - val_loss: 0.1173 - val_mean_absolute_error: 0.1173\n",
      "Epoch 25/50\n",
      "55812/55812 [==============================] - 0s - loss: 0.1171 - mean_absolute_error: 0.1171 - val_loss: 0.1181 - val_mean_absolute_error: 0.1181\n",
      "Epoch 26/50\n",
      "55812/55812 [==============================] - 0s - loss: 0.1171 - mean_absolute_error: 0.1171 - val_loss: 0.1168 - val_mean_absolute_error: 0.1168\n",
      "Epoch 27/50\n",
      "55812/55812 [==============================] - 0s - loss: 0.1167 - mean_absolute_error: 0.1167 - val_loss: 0.1165 - val_mean_absolute_error: 0.1165\n",
      "Epoch 28/50\n",
      "55812/55812 [==============================] - 0s - loss: 0.1165 - mean_absolute_error: 0.1165 - val_loss: 0.1204 - val_mean_absolute_error: 0.1204\n",
      "Epoch 29/50\n",
      "55812/55812 [==============================] - 0s - loss: 0.1164 - mean_absolute_error: 0.1164 - val_loss: 0.1205 - val_mean_absolute_error: 0.1205\n",
      "Epoch 30/50\n",
      "55812/55812 [==============================] - 0s - loss: 0.1164 - mean_absolute_error: 0.1164 - val_loss: 0.1177 - val_mean_absolute_error: 0.1177\n",
      "Epoch 31/50\n",
      "55812/55812 [==============================] - 0s - loss: 0.1160 - mean_absolute_error: 0.1160 - val_loss: 0.1159 - val_mean_absolute_error: 0.1159\n",
      "Epoch 32/50\n",
      "55812/55812 [==============================] - 0s - loss: 0.1162 - mean_absolute_error: 0.1162 - val_loss: 0.1174 - val_mean_absolute_error: 0.1174\n",
      "Epoch 33/50\n",
      "55812/55812 [==============================] - 0s - loss: 0.1157 - mean_absolute_error: 0.1157 - val_loss: 0.1173 - val_mean_absolute_error: 0.1173\n",
      "Epoch 34/50\n",
      "55812/55812 [==============================] - 0s - loss: 0.1157 - mean_absolute_error: 0.1157 - val_loss: 0.1154 - val_mean_absolute_error: 0.1154\n",
      "Epoch 35/50\n",
      "55812/55812 [==============================] - 0s - loss: 0.1157 - mean_absolute_error: 0.1157 - val_loss: 0.1159 - val_mean_absolute_error: 0.1159\n",
      "Epoch 36/50\n",
      "55812/55812 [==============================] - 0s - loss: 0.1153 - mean_absolute_error: 0.1153 - val_loss: 0.1161 - val_mean_absolute_error: 0.1161\n",
      "Epoch 37/50\n",
      "55812/55812 [==============================] - 0s - loss: 0.1153 - mean_absolute_error: 0.1153 - val_loss: 0.1159 - val_mean_absolute_error: 0.1159\n",
      "Epoch 38/50\n",
      "55812/55812 [==============================] - 0s - loss: 0.1152 - mean_absolute_error: 0.1152 - val_loss: 0.1149 - val_mean_absolute_error: 0.1149\n",
      "Epoch 39/50\n",
      "55812/55812 [==============================] - 0s - loss: 0.1149 - mean_absolute_error: 0.1149 - val_loss: 0.1147 - val_mean_absolute_error: 0.1147\n",
      "Epoch 40/50\n",
      "55812/55812 [==============================] - 0s - loss: 0.1149 - mean_absolute_error: 0.1149 - val_loss: 0.1146 - val_mean_absolute_error: 0.1146\n",
      "Epoch 41/50\n",
      "55812/55812 [==============================] - 0s - loss: 0.1148 - mean_absolute_error: 0.1148 - val_loss: 0.1151 - val_mean_absolute_error: 0.1151\n",
      "Epoch 42/50\n",
      "55812/55812 [==============================] - 0s - loss: 0.1148 - mean_absolute_error: 0.1148 - val_loss: 0.1165 - val_mean_absolute_error: 0.1165\n",
      "Epoch 43/50\n",
      "55812/55812 [==============================] - 0s - loss: 0.1146 - mean_absolute_error: 0.1146 - val_loss: 0.1144 - val_mean_absolute_error: 0.1144\n",
      "Epoch 44/50\n",
      "55812/55812 [==============================] - 0s - loss: 0.1140 - mean_absolute_error: 0.1140 - val_loss: 0.1139 - val_mean_absolute_error: 0.1139\n",
      "Epoch 45/50\n",
      "55812/55812 [==============================] - 0s - loss: 0.1143 - mean_absolute_error: 0.1143 - val_loss: 0.1162 - val_mean_absolute_error: 0.1162\n",
      "Epoch 46/50\n",
      "55812/55812 [==============================] - 0s - loss: 0.1141 - mean_absolute_error: 0.1141 - val_loss: 0.1166 - val_mean_absolute_error: 0.1166\n",
      "Epoch 47/50\n",
      "55812/55812 [==============================] - 0s - loss: 0.1139 - mean_absolute_error: 0.1139 - val_loss: 0.1138 - val_mean_absolute_error: 0.1138\n",
      "Epoch 48/50\n",
      "55812/55812 [==============================] - 0s - loss: 0.1138 - mean_absolute_error: 0.1138 - val_loss: 0.1154 - val_mean_absolute_error: 0.1154\n",
      "Epoch 49/50\n",
      "55812/55812 [==============================] - 0s - loss: 0.1134 - mean_absolute_error: 0.1134 - val_loss: 0.1132 - val_mean_absolute_error: 0.1132\n",
      "Epoch 50/50\n",
      "55812/55812 [==============================] - 0s - loss: 0.1132 - mean_absolute_error: 0.1132 - val_loss: 0.1138 - val_mean_absolute_error: 0.1138\n"
     ]
    }
   ],
   "source": [
    "model3 = Sequential()\n",
    "model3.add(Dense(units=64, input_shape = (12,),activation='sigmoid',name='layer1',use_bias = True))\n",
    "model3.add(Dense(units=32,activation='sigmoid',name='layer2',use_bias = True))\n",
    "model3.add(Dense(units=16,name='layer3',activation='sigmoid',use_bias = True))\n",
    "model3.add(Dense(units=8,name='layer4',activation='sigmoid',use_bias = True))\n",
    "model3.add(Dense(units=1,name='layer5'))\n",
    "model3.compile(loss='mean_absolute_error',\n",
    "              optimizer='rmsprop',\n",
    "              metrics=['mae'])\n",
    "history=model3.fit(x = train_x,y = train_y, validation_data = (eval_x,eval_y), epochs=50, batch_size=1000)\n",
    "############################################################################################################"
   ]
  },
  {
   "cell_type": "code",
   "execution_count": 32,
   "metadata": {},
   "outputs": [
    {
     "data": {
      "image/png": "[encoded data removed]",
      "text/plain": [
       "<Figure size 432x288 with 1 Axes>"
      ]
     },
     "metadata": {},
     "output_type": "display_data"
    }
   ],
   "source": [
    "########################################################################\n",
    "# 绘制训练 & 验证的损失值\n",
    "plt.plot(history.history['loss'])\n",
    "plt.plot(history.history['val_loss'])\n",
    "plt.title('Model3 loss')\n",
    "plt.ylabel('Loss')\n",
    "plt.xlabel('Epoch')\n",
    "plt.legend(['Train', 'Test'], loc='upper left')\n",
    "plt.show()"
   ]
  },
  {
   "cell_type": "markdown",
   "metadata": {},
   "source": [
    "# 结果对比"
   ]
  },
  {
   "cell_type": "code",
   "execution_count": 33,
   "metadata": {
    "scrolled": true
   },
   "outputs": [
    {
     "name": "stdout",
     "output_type": "stream",
     "text": [
      "Model1 \n",
      "Train Score: 1.24 RMSE\n",
      "Test Score: 1.73 RMSE\n",
      "Model2 \n",
      "Train Score: 1.35 RMSE\n",
      "Test Score: 2.07 RMSE\n",
      "Model3 \n",
      "Train Score: 1.33 RMSE\n",
      "Test Score: 2.18 RMSE\n"
     ]
    }
   ],
   "source": [
    "################预测训练集和测试集####################\n",
    "######### 模型 1 #########\n",
    "trainPredictM1 = model1.predict(train_x)\n",
    "testPredictM1 = model1.predict(test_x)\n",
    "######### 模型 2 #########\n",
    "trainPredictM2 = model2.predict(train_x)\n",
    "testPredictM2 = model2.predict(test_x)\n",
    "######### 模型 3 ##########\n",
    "trainPredictM3 = model3.predict(train_x)\n",
    "testPredictM3 = model3.predict(test_x)\n",
    "\n",
    "############################## 反归一化 ##############################\n",
    "\n",
    "###################### 训练集反归一化 #######################\n",
    "######预测值 模型1 #######\n",
    "inv_trainPredict1 = concatenate((train_year[:,:],train_x[:,:],trainPredictM1), axis=1)\n",
    "inv_trainPredict1 = scaler.inverse_transform(inv_trainPredict1)\n",
    "trainPredictM1 = inv_trainPredict1[:,-1:]\n",
    "\n",
    "######预测值 模型2 #######\n",
    "inv_trainPredict2 = concatenate((train_year[:,:],train_x[:,:],trainPredictM2), axis=1)\n",
    "inv_trainPredict2 = scaler.inverse_transform(inv_trainPredict2)\n",
    "trainPredictM2 = inv_trainPredict2[:,-1:]\n",
    "\n",
    "######训练预测 模型3 #######\n",
    "inv_trainPredict3 = concatenate((train_year[:,:],train_x[:,:],trainPredictM3), axis=1)\n",
    "inv_trainPredict3 = scaler.inverse_transform(inv_trainPredict3)\n",
    "trainPredictM3 = inv_trainPredict3[:,-1:]\n",
    "\n",
    "###### 训练集真实值######\n",
    "train_y = train_y.reshape((len(train_y), 1))\n",
    "inv_train = concatenate((train_year[:,:],train_x[:,:],train_y), axis=1)\n",
    "inv_train = scaler.inverse_transform(inv_train)\n",
    "trainReal = inv_train[:,-1:]\n",
    "\n",
    "\n",
    "######################## 测试集反归一化 ########################\n",
    "###### 测试预测模型1 #######\n",
    "inv_testPredict1 = concatenate((test_year[:,:],test_x[:,:],testPredictM1), axis=1)\n",
    "inv_testPredict1 = scaler.inverse_transform(inv_testPredict1)\n",
    "testPredictM1 = inv_testPredict1[:,-1:]\n",
    "\n",
    "###### 测试预测模型2 #######\n",
    "inv_testPredict2 = concatenate((test_year[:,:],test_x[:,:],testPredictM2), axis=1)\n",
    "inv_testPredict2 = scaler.inverse_transform(inv_testPredict2)\n",
    "testPredictM2 = inv_testPredict2[:,-1:]\n",
    "\n",
    "###### 测试预测模型3 #######\n",
    "inv_testPredict3 = concatenate((test_year[:,:],test_x[:,:],testPredictM3), axis=1)\n",
    "inv_testPredict3 = scaler.inverse_transform(inv_testPredict3)\n",
    "testPredictM3 = inv_testPredict3[:,-1:]\n",
    "\n",
    "########测试集真实值############\n",
    "test_y = test_y.reshape((len(test_y), 1))\n",
    "inv_test = concatenate((test_year[:,:],test_x[:,:],test_y), axis=1)\n",
    "inv_test = scaler.inverse_transform(inv_test)\n",
    "testReal = inv_test[:,-1:]\n",
    "\n",
    "#################### 计算训练集和测试集的平均根方误差####################\n",
    "### 模型 1\n",
    "trainScoreM1 = math.sqrt(mean_squared_error(trainReal[:,0], trainPredictM1[:,0]))\n",
    "print('Model1 ')\n",
    "print('Train Score: %.2f RMSE' % (trainScoreM1))\n",
    "testScoreM1 = math.sqrt(mean_squared_error(testReal[:,0], testPredictM1[:,0]))\n",
    "print('Test Score: %.2f RMSE' % (testScoreM1))\n",
    "### 模型 2\n",
    "trainScoreM2 = math.sqrt(mean_squared_error(trainReal[:,0], trainPredictM2[:,0]))\n",
    "print('Model2 ')\n",
    "print('Train Score: %.2f RMSE' % (trainScoreM2))\n",
    "testScoreM2 = math.sqrt(mean_squared_error(testReal[:,0], testPredictM2[:,0]))\n",
    "print('Test Score: %.2f RMSE' % (testScoreM2))\n",
    "### 模型 3\n",
    "trainScoreM3 = math.sqrt(mean_squared_error(trainReal[:,0], trainPredictM3[:,0]))\n",
    "print('Model3 ')\n",
    "print('Train Score: %.2f RMSE' % (trainScoreM3))\n",
    "testScoreM3 = math.sqrt(mean_squared_error(testReal[:,0], testPredictM3[:,0]))\n",
    "print('Test Score: %.2f RMSE' % (testScoreM3))"
   ]
  },
  {
   "cell_type": "code",
   "execution_count": 34,
   "metadata": {},
   "outputs": [
    {
     "data": {
      "text/plain": [
       "<matplotlib.legend.Legend at 0x1b659ef3898>"
      ]
     },
     "execution_count": 34,
     "metadata": {},
     "output_type": "execute_result"
    },
    {
     "data": {
      "image/png": "[encoded data removed]",
      "text/plain": [
       "<Figure size 432x288 with 1 Axes>"
      ]
     },
     "metadata": {},
     "output_type": "display_data"
    }
   ],
   "source": [
    "#训练集和测试集 预测结果保存\n",
    "predict_train_1A = pd.DataFrame(inv_train)\n",
    "predict_train_1A.columns = ['Year', 'Month', 'Day', 'Hour', 'Minutes', 'WTC', 'WRH', 'GHR', 'DHR',\n",
    "       'WD', 'WDR', 'RGT', 'RDT', '1A Trina_power']\n",
    "\n",
    "predict_train_1A['1A_model1_predict'] = trainPredictM1\n",
    "predict_train_1A['1A_model2_predict'] = trainPredictM2\n",
    "predict_train_1A['1A_model3_predict'] = trainPredictM3\n",
    "\n",
    "predict_train_1A.to_csv('../predict/predict_train_1A.csv',index=False)\n",
    "#真实值和预测值对比图\n",
    "plt.plot(trainReal,label='Real')\n",
    "plt.plot(trainPredictM1,label='M1Predicition')\n",
    "plt.plot(trainPredictM2,label='M2Predicition')\n",
    "plt.plot(trainPredictM3,label='M3Predicition')\n",
    "\n",
    "plt.title('Prediction train')\n",
    "plt.ylabel('Power')\n",
    "plt.xlabel('Time')\n",
    "# plt.plot(y_rr_,label='rr')\n",
    "# plt.plot(y_lasso_,label='lasso')\n",
    "plt.legend() "
   ]
  },
  {
   "cell_type": "code",
   "execution_count": 35,
   "metadata": {},
   "outputs": [
    {
     "data": {
      "text/plain": [
       "<matplotlib.legend.Legend at 0x1b65af5a438>"
      ]
     },
     "execution_count": 35,
     "metadata": {},
     "output_type": "execute_result"
    },
    {
     "data": {
      "image/png": "[encoded data removed]",
      "text/plain": [
       "<Figure size 432x288 with 1 Axes>"
      ]
     },
     "metadata": {},
     "output_type": "display_data"
    }
   ],
   "source": [
    "#训练集和测试集 预测结果保存\n",
    "predict_1A = pd.DataFrame(inv_test)\n",
    "predict_1A.columns = ['Year', 'Month', 'Day', 'Hour', 'Minutes', 'WTC', 'WRH', 'GHR', 'DHR',\n",
    "       'WD', 'WDR', 'RGT', 'RDT', '1A Trina_power']\n",
    "\n",
    "predict_1A['1A_model1_predict'] = testPredictM1\n",
    "predict_1A['1A_model2_predict'] = testPredictM2\n",
    "predict_1A['1A_model3_predict'] = testPredictM3\n",
    "\n",
    "predict_1A.to_csv('../predict/predict_1A.csv',index=False)\n",
    "#真实值和预测值对比图\n",
    "plt.plot(testReal,label='Real')\n",
    "plt.plot(testPredictM1,label='M1Predicition')\n",
    "plt.plot(testPredictM2,label='M2Predicition')\n",
    "plt.plot(testPredictM3,label='M3Predicition')\n",
    "\n",
    "plt.title('Prediction test')\n",
    "plt.ylabel('Power')\n",
    "plt.xlabel('Time')\n",
    "# plt.plot(y_rr_,label='rr')\n",
    "# plt.plot(y_lasso_,label='lasso')\n",
    "plt.legend() "
   ]
  },
  {
   "cell_type": "code",
   "execution_count": 36,
   "metadata": {},
   "outputs": [],
   "source": [
    "# mse_test=np.sum((test_y - testPredict)**2)/ len(test_y)\n",
    "# rmse_test=np.sqrt(mse_test)\n",
    "# print(\"MSE:\",mse_test)\n",
    "# print(\"RMSE:\",rmse_test)"
   ]
  },
  {
   "cell_type": "markdown",
   "metadata": {},
   "source": [
    "画出例如2020年1月20号的预测图"
   ]
  },
  {
   "cell_type": "code",
   "execution_count": 37,
   "metadata": {
    "scrolled": true
   },
   "outputs": [
    {
     "data": {
      "text/plain": [
       "Index(['Year', 'Month', 'Day', 'Hour', 'Minutes', 'WTC', 'WRH', 'GHR', 'DHR',\n",
       "       'WD', 'WDR', 'RGT', 'RDT', '1A Trina_power', '1A_model1_predict',\n",
       "       '1A_model2_predict', '1A_model3_predict'],\n",
       "      dtype='object')"
      ]
     },
     "execution_count": 37,
     "metadata": {},
     "output_type": "execute_result"
    }
   ],
   "source": [
    "predict_1A.columns"
   ]
  },
  {
   "cell_type": "code",
   "execution_count": 38,
   "metadata": {},
   "outputs": [],
   "source": [
    "# from scipy.interpolate import spline\n",
    " \n",
    "# # T = np.array([6, 7, 8, 9, 10, 11, 12])\n",
    "# T=Day0120['Hour']\n",
    "# T=T.values\n",
    "# # power = np.array([1.53E+03, 5.92E+02, 2.04E+02, 7.24E+01, 2.72E+01, 1.10E+01, 4.70E+00])\n",
    "# Real=Day0120.set_index('Hour', inplace=False)['1A Trina_power']\n",
    "# Real=Real.values\n",
    "# xnew = np.linspace(T.min(),T.max(),300) #300 represents number of points to make between T.min and T.max\n",
    " \n",
    "# power_smooth = spline(T,Real,xnew)\n",
    " \n",
    "# plt.plot(xnew,power_smooth)\n",
    "# plt.show()"
   ]
  },
  {
   "cell_type": "code",
   "execution_count": 39,
   "metadata": {},
   "outputs": [
    {
     "data": {
      "text/plain": [
       "<matplotlib.legend.Legend at 0x1b65affdcf8>"
      ]
     },
     "execution_count": 39,
     "metadata": {},
     "output_type": "execute_result"
    },
    {
     "data": {
      "image/png": "[encoded data removed]",
      "text/plain": [
       "<Figure size 432x288 with 1 Axes>"
      ]
     },
     "metadata": {},
     "output_type": "display_data"
    }
   ],
   "source": [
    "# from scipy.interpolate import spline\n",
    "predict_1A[[\"Year\",\"Month\",\"Day\",\"Hour\",\"Minutes\"]] = predict_1A[[\"Year\",\"Month\",\"Day\",\"Hour\",\"Minutes\"]].astype(\"int\")\n",
    "\n",
    "#real_power_day = train_1.groupby('day')\n",
    "# Day0120 = predict_1A[(predict_1A['Year'] == 2020) & (predict_1A['Month'] == 1) & (predict_1A['Day'] == 20)]\n",
    "# day200120 = predict_1A.loc[predict_1A['Year'] == '2020',predict_1A['Month'] == '1',predict_1A['day'] == '20',:]\n",
    "Day0120 = predict_1A.loc[(predict_1A['Year'] == 2020) & (predict_1A['Month'] == 1) & (predict_1A['Day'] == 20),:]\n",
    "#real_power_day.set_index('time', inplace=False)\n",
    "Real=Day0120.set_index('Hour', inplace=False)['1A Trina_power']\n",
    "M1Predict=Day0120.set_index('Hour', inplace=False)['1A_model1_predict']\n",
    "M2Predict=Day0120.set_index('Hour', inplace=False)['1A_model2_predict']\n",
    "M3Predict=Day0120.set_index('Hour', inplace=False)['1A_model3_predict']\n",
    "\n",
    "fig = plt.figure()\n",
    "plt.plot(Real,label='Real')\n",
    "plt.plot(M1Predict,label='M1Predicition')\n",
    "plt.plot(M2Predict,label='M2Predicition')\n",
    "plt.plot(M3Predict,label='M3Predicition')\n",
    "\n",
    "plt.title('Prediction 2020-1-20')\n",
    "plt.ylabel('Power')\n",
    "plt.xlabel('Time')\n",
    "# plt.legend(['Train', 'Test'], loc='upper left')\n",
    "plt.legend()\n",
    "#ax = fig.add_subplot(1,1,1)\n",
    "#ax.plot(real_power_day_)\n",
    "# real_power_day_.plot()\n",
    "#real_power_day_.set_axis(['00:15:00','06:15:00','12:15:00','18:15:00'])\n",
    "#real_power_day_"
   ]
  },
  {
   "cell_type": "code",
   "execution_count": 40,
   "metadata": {},
   "outputs": [
    {
     "name": "stdout",
     "output_type": "stream",
     "text": [
      "MSE 1.5328687155092096\n"
     ]
    }
   ],
   "source": [
    "mse_test1=np.sum((trainReal[:,0] - trainPredictM1[:,0])**2)/ len(trainPredictM1)\n",
    "print('MSE',mse_test1)"
   ]
  },
  {
   "cell_type": "code",
   "execution_count": 41,
   "metadata": {},
   "outputs": [
    {
     "name": "stdout",
     "output_type": "stream",
     "text": [
      "RMSE 1.2380907541489878\n"
     ]
    }
   ],
   "source": [
    "rmse_test1=math.sqrt(mse_test1)\n",
    "print('RMSE',rmse_test1)"
   ]
  },
  {
   "cell_type": "code",
   "execution_count": 42,
   "metadata": {},
   "outputs": [],
   "source": [
    "# trainScoreM1 = math.sqrt(mean_squared_error(trainReal[:,0], trainPredictM1[:,0]))"
   ]
  }
 ],
 "metadata": {
  "kernelspec": {
   "display_name": "Python 3",
   "language": "python",
   "name": "python3"
  },
  "language_info": {
   "codemirror_mode": {
    "name": "ipython",
    "version": 3
   },
   "file_extension": ".py",
   "mimetype": "text/x-python",
   "name": "python",
   "nbconvert_exporter": "python",
   "pygments_lexer": "ipython3",
   "version": "3.6.5"
  }
 },
 "nbformat": 4,
 "nbformat_minor": 2
}
