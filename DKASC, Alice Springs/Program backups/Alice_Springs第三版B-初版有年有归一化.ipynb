{
 "cells": [
  {
   "cell_type": "markdown",
   "metadata": {},
   "source": [
    "# DKASC_爱丽丝泉_光伏预测"
   ]
  },
  {
   "cell_type": "code",
   "execution_count": 1,
   "metadata": {},
   "outputs": [
    {
     "name": "stderr",
     "output_type": "stream",
     "text": [
      "C:\\ProgramData\\Anaconda3\\lib\\site-packages\\tensorflow\\python\\framework\\dtypes.py:469: FutureWarning: Passing (type, 1) or '1type' as a synonym of type is deprecated; in a future version of numpy, it will be understood as (type, (1,)) / '(1,)type'.\n",
      "  _np_qint8 = np.dtype([(\"qint8\", np.int8, 1)])\n",
      "C:\\ProgramData\\Anaconda3\\lib\\site-packages\\tensorflow\\python\\framework\\dtypes.py:470: FutureWarning: Passing (type, 1) or '1type' as a synonym of type is deprecated; in a future version of numpy, it will be understood as (type, (1,)) / '(1,)type'.\n",
      "  _np_quint8 = np.dtype([(\"quint8\", np.uint8, 1)])\n",
      "C:\\ProgramData\\Anaconda3\\lib\\site-packages\\tensorflow\\python\\framework\\dtypes.py:471: FutureWarning: Passing (type, 1) or '1type' as a synonym of type is deprecated; in a future version of numpy, it will be understood as (type, (1,)) / '(1,)type'.\n",
      "  _np_qint16 = np.dtype([(\"qint16\", np.int16, 1)])\n",
      "C:\\ProgramData\\Anaconda3\\lib\\site-packages\\tensorflow\\python\\framework\\dtypes.py:472: FutureWarning: Passing (type, 1) or '1type' as a synonym of type is deprecated; in a future version of numpy, it will be understood as (type, (1,)) / '(1,)type'.\n",
      "  _np_quint16 = np.dtype([(\"quint16\", np.uint16, 1)])\n",
      "C:\\ProgramData\\Anaconda3\\lib\\site-packages\\tensorflow\\python\\framework\\dtypes.py:473: FutureWarning: Passing (type, 1) or '1type' as a synonym of type is deprecated; in a future version of numpy, it will be understood as (type, (1,)) / '(1,)type'.\n",
      "  _np_qint32 = np.dtype([(\"qint32\", np.int32, 1)])\n",
      "C:\\ProgramData\\Anaconda3\\lib\\site-packages\\tensorflow\\python\\framework\\dtypes.py:476: FutureWarning: Passing (type, 1) or '1type' as a synonym of type is deprecated; in a future version of numpy, it will be understood as (type, (1,)) / '(1,)type'.\n",
      "  np_resource = np.dtype([(\"resource\", np.ubyte, 1)])\n",
      "C:\\ProgramData\\Anaconda3\\lib\\site-packages\\h5py\\__init__.py:36: FutureWarning: Conversion of the second argument of issubdtype from `float` to `np.floating` is deprecated. In future, it will be treated as `np.float64 == np.dtype(float).type`.\n",
      "  from ._conv import register_converters as _register_converters\n",
      "Using TensorFlow backend.\n"
     ]
    }
   ],
   "source": [
    "import os\n",
    "import random\n",
    "import pandas as pd\n",
    "import numpy as np\n",
    "import matplotlib.pyplot as plt\n",
    "import math\n",
    "import tensorflow as tf\n",
    "import keras\n",
    "import catboost as cb\n",
    "from pandas import read_csv\n",
    "from math import sqrt\n",
    "from numpy import concatenate\n",
    "from keras.models import Sequential\n",
    "from keras.layers import Dense\n",
    "from keras.layers import Dropout\n",
    "from keras.layers import LSTM\n",
    "from sklearn.preprocessing import MinMaxScaler\n",
    "from sklearn.metrics import mean_squared_error\n",
    "from keras.layers.core import Dense, Activation, Dropout\n",
    "%matplotlib inline"
   ]
  },
  {
   "cell_type": "code",
   "execution_count": 2,
   "metadata": {},
   "outputs": [],
   "source": [
    "import os\n",
    "os.environ[\"CUDA_VISIBLE_DEVICES\"] = \"0\"\n",
    "config = tf.ConfigProto(allow_soft_placement = True)\n",
    "gpu_options = tf.GPUOptions(per_process_gpu_memory_fraction = 0.5)\n",
    "config.gpu_options.allow_growth = True\n",
    "sess0 = tf.InteractiveSession(config = config)"
   ]
  },
  {
   "cell_type": "code",
   "execution_count": 3,
   "metadata": {},
   "outputs": [
    {
     "name": "stdout",
     "output_type": "stream",
     "text": [
      "E:\\graduation project\\DKASC, Alice Springs\n"
     ]
    }
   ],
   "source": [
    "print(os.getcwd()) # 打印当前工作目录"
   ]
  },
  {
   "cell_type": "code",
   "execution_count": 4,
   "metadata": {},
   "outputs": [
    {
     "data": {
      "text/plain": [
       "['.ipynb_checkpoints',\n",
       " '101-Site_DKA-WeatherStation',\n",
       " '96-Site_DKA-MasterMeter1',\n",
       " 'Alice_Springs_2016-2020',\n",
       " 'Alice_Springs第三版A.ipynb',\n",
       " 'Alice_Springs第三版B.ipynb',\n",
       " 'Alice_Springs第三版备份.ipynb',\n",
       " 'Dataset',\n",
       " 'Predict',\n",
       " 'Program backups',\n",
       " 'temp',\n",
       " '笔记.ipynb']"
      ]
     },
     "execution_count": 4,
     "metadata": {},
     "output_type": "execute_result"
    }
   ],
   "source": [
    "os.listdir(os.getcwd())"
   ]
  },
  {
   "cell_type": "code",
   "execution_count": 5,
   "metadata": {},
   "outputs": [],
   "source": [
    "os.chdir(\"./Dataset/\")"
   ]
  },
  {
   "cell_type": "code",
   "execution_count": 6,
   "metadata": {},
   "outputs": [
    {
     "data": {
      "text/plain": [
       "['testdata.csv',\n",
       " 'test_1A.csv',\n",
       " 'traindata.csv',\n",
       " 'train_1A.csv',\n",
       " '测试集8个站点.csv',\n",
       " '训练集8个站点.csv']"
      ]
     },
     "execution_count": 6,
     "metadata": {},
     "output_type": "execute_result"
    }
   ],
   "source": [
    "os.listdir()"
   ]
  },
  {
   "cell_type": "code",
   "execution_count": 7,
   "metadata": {},
   "outputs": [],
   "source": [
    "train = pd.read_csv('train_1A.csv')\n",
    "test = pd.read_csv('test_1A.csv')"
   ]
  },
  {
   "cell_type": "code",
   "execution_count": 8,
   "metadata": {},
   "outputs": [
    {
     "name": "stdout",
     "output_type": "stream",
     "text": [
      "(141428, 14)\n",
      "(26091, 14)\n"
     ]
    }
   ],
   "source": [
    "#查看输入数据维度\n",
    "print(train.shape)\n",
    "print(test.shape)"
   ]
  },
  {
   "cell_type": "code",
   "execution_count": 9,
   "metadata": {
    "scrolled": true
   },
   "outputs": [
    {
     "data": {
      "text/html": [
       "<div>\n",
       "<style scoped>\n",
       "    .dataframe tbody tr th:only-of-type {\n",
       "        vertical-align: middle;\n",
       "    }\n",
       "\n",
       "    .dataframe tbody tr th {\n",
       "        vertical-align: top;\n",
       "    }\n",
       "\n",
       "    .dataframe thead th {\n",
       "        text-align: right;\n",
       "    }\n",
       "</style>\n",
       "<table border=\"1\" class=\"dataframe\">\n",
       "  <thead>\n",
       "    <tr style=\"text-align: right;\">\n",
       "      <th></th>\n",
       "      <th>Year</th>\n",
       "      <th>Month</th>\n",
       "      <th>Day</th>\n",
       "      <th>Hour</th>\n",
       "      <th>Minutes</th>\n",
       "      <th>WTC</th>\n",
       "      <th>WRH</th>\n",
       "      <th>GHR</th>\n",
       "      <th>DHR</th>\n",
       "      <th>WD</th>\n",
       "      <th>WDR</th>\n",
       "      <th>RGT</th>\n",
       "      <th>RDT</th>\n",
       "      <th>1A Trina_power</th>\n",
       "    </tr>\n",
       "  </thead>\n",
       "  <tbody>\n",
       "    <tr>\n",
       "      <th>0</th>\n",
       "      <td>2018</td>\n",
       "      <td>1</td>\n",
       "      <td>19</td>\n",
       "      <td>18</td>\n",
       "      <td>30</td>\n",
       "      <td>26.243799</td>\n",
       "      <td>50.889774</td>\n",
       "      <td>71.416481</td>\n",
       "      <td>67.523544</td>\n",
       "      <td>302.882996</td>\n",
       "      <td>3.6</td>\n",
       "      <td>65.268631</td>\n",
       "      <td>59.278999</td>\n",
       "      <td>0.318600</td>\n",
       "    </tr>\n",
       "    <tr>\n",
       "      <th>1</th>\n",
       "      <td>2018</td>\n",
       "      <td>1</td>\n",
       "      <td>19</td>\n",
       "      <td>18</td>\n",
       "      <td>35</td>\n",
       "      <td>26.641783</td>\n",
       "      <td>49.539795</td>\n",
       "      <td>77.177094</td>\n",
       "      <td>71.776718</td>\n",
       "      <td>246.312622</td>\n",
       "      <td>3.6</td>\n",
       "      <td>72.546944</td>\n",
       "      <td>63.134579</td>\n",
       "      <td>0.328800</td>\n",
       "    </tr>\n",
       "    <tr>\n",
       "      <th>2</th>\n",
       "      <td>2018</td>\n",
       "      <td>1</td>\n",
       "      <td>19</td>\n",
       "      <td>18</td>\n",
       "      <td>40</td>\n",
       "      <td>26.654078</td>\n",
       "      <td>53.414265</td>\n",
       "      <td>78.373489</td>\n",
       "      <td>69.008316</td>\n",
       "      <td>305.089630</td>\n",
       "      <td>3.6</td>\n",
       "      <td>76.711456</td>\n",
       "      <td>65.430550</td>\n",
       "      <td>0.334200</td>\n",
       "    </tr>\n",
       "    <tr>\n",
       "      <th>3</th>\n",
       "      <td>2018</td>\n",
       "      <td>1</td>\n",
       "      <td>19</td>\n",
       "      <td>18</td>\n",
       "      <td>45</td>\n",
       "      <td>26.439108</td>\n",
       "      <td>55.582245</td>\n",
       "      <td>78.022881</td>\n",
       "      <td>67.560181</td>\n",
       "      <td>259.662933</td>\n",
       "      <td>3.6</td>\n",
       "      <td>80.445709</td>\n",
       "      <td>66.812790</td>\n",
       "      <td>0.333133</td>\n",
       "    </tr>\n",
       "    <tr>\n",
       "      <th>4</th>\n",
       "      <td>2018</td>\n",
       "      <td>1</td>\n",
       "      <td>19</td>\n",
       "      <td>18</td>\n",
       "      <td>50</td>\n",
       "      <td>26.479477</td>\n",
       "      <td>56.173820</td>\n",
       "      <td>82.106972</td>\n",
       "      <td>73.004196</td>\n",
       "      <td>186.634705</td>\n",
       "      <td>3.6</td>\n",
       "      <td>83.035919</td>\n",
       "      <td>69.054459</td>\n",
       "      <td>0.332400</td>\n",
       "    </tr>\n",
       "  </tbody>\n",
       "</table>\n",
       "</div>"
      ],
      "text/plain": [
       "   Year  Month  Day  Hour  Minutes        WTC        WRH        GHR  \\\n",
       "0  2018      1   19    18       30  26.243799  50.889774  71.416481   \n",
       "1  2018      1   19    18       35  26.641783  49.539795  77.177094   \n",
       "2  2018      1   19    18       40  26.654078  53.414265  78.373489   \n",
       "3  2018      1   19    18       45  26.439108  55.582245  78.022881   \n",
       "4  2018      1   19    18       50  26.479477  56.173820  82.106972   \n",
       "\n",
       "         DHR          WD  WDR        RGT        RDT  1A Trina_power  \n",
       "0  67.523544  302.882996  3.6  65.268631  59.278999        0.318600  \n",
       "1  71.776718  246.312622  3.6  72.546944  63.134579        0.328800  \n",
       "2  69.008316  305.089630  3.6  76.711456  65.430550        0.334200  \n",
       "3  67.560181  259.662933  3.6  80.445709  66.812790        0.333133  \n",
       "4  73.004196  186.634705  3.6  83.035919  69.054459        0.332400  "
      ]
     },
     "execution_count": 9,
     "metadata": {},
     "output_type": "execute_result"
    }
   ],
   "source": [
    "train.head(5)"
   ]
  },
  {
   "cell_type": "code",
   "execution_count": 10,
   "metadata": {},
   "outputs": [
    {
     "data": {
      "text/html": [
       "<div>\n",
       "<style scoped>\n",
       "    .dataframe tbody tr th:only-of-type {\n",
       "        vertical-align: middle;\n",
       "    }\n",
       "\n",
       "    .dataframe tbody tr th {\n",
       "        vertical-align: top;\n",
       "    }\n",
       "\n",
       "    .dataframe thead th {\n",
       "        text-align: right;\n",
       "    }\n",
       "</style>\n",
       "<table border=\"1\" class=\"dataframe\">\n",
       "  <thead>\n",
       "    <tr style=\"text-align: right;\">\n",
       "      <th></th>\n",
       "      <th>Year</th>\n",
       "      <th>Month</th>\n",
       "      <th>Day</th>\n",
       "      <th>Hour</th>\n",
       "      <th>Minutes</th>\n",
       "      <th>WTC</th>\n",
       "      <th>WRH</th>\n",
       "      <th>GHR</th>\n",
       "      <th>DHR</th>\n",
       "      <th>WD</th>\n",
       "      <th>WDR</th>\n",
       "      <th>RGT</th>\n",
       "      <th>RDT</th>\n",
       "      <th>1A Trina_power</th>\n",
       "    </tr>\n",
       "  </thead>\n",
       "  <tbody>\n",
       "    <tr>\n",
       "      <th>0</th>\n",
       "      <td>2020</td>\n",
       "      <td>1</td>\n",
       "      <td>1</td>\n",
       "      <td>0</td>\n",
       "      <td>0</td>\n",
       "      <td>29.685360</td>\n",
       "      <td>21.727171</td>\n",
       "      <td>1.360221</td>\n",
       "      <td>1.191879</td>\n",
       "      <td>33.216167</td>\n",
       "      <td>0.0</td>\n",
       "      <td>2.958199</td>\n",
       "      <td>0.524153</td>\n",
       "      <td>0.0</td>\n",
       "    </tr>\n",
       "    <tr>\n",
       "      <th>1</th>\n",
       "      <td>2020</td>\n",
       "      <td>1</td>\n",
       "      <td>1</td>\n",
       "      <td>0</td>\n",
       "      <td>5</td>\n",
       "      <td>29.559967</td>\n",
       "      <td>21.878902</td>\n",
       "      <td>1.532208</td>\n",
       "      <td>1.460944</td>\n",
       "      <td>33.254341</td>\n",
       "      <td>0.0</td>\n",
       "      <td>3.288470</td>\n",
       "      <td>0.764565</td>\n",
       "      <td>0.0</td>\n",
       "    </tr>\n",
       "    <tr>\n",
       "      <th>2</th>\n",
       "      <td>2020</td>\n",
       "      <td>1</td>\n",
       "      <td>1</td>\n",
       "      <td>0</td>\n",
       "      <td>10</td>\n",
       "      <td>29.530006</td>\n",
       "      <td>21.859453</td>\n",
       "      <td>1.186835</td>\n",
       "      <td>1.118219</td>\n",
       "      <td>33.302616</td>\n",
       "      <td>0.0</td>\n",
       "      <td>3.253541</td>\n",
       "      <td>0.725652</td>\n",
       "      <td>0.0</td>\n",
       "    </tr>\n",
       "    <tr>\n",
       "      <th>3</th>\n",
       "      <td>2020</td>\n",
       "      <td>1</td>\n",
       "      <td>1</td>\n",
       "      <td>0</td>\n",
       "      <td>15</td>\n",
       "      <td>29.474438</td>\n",
       "      <td>21.897285</td>\n",
       "      <td>1.017349</td>\n",
       "      <td>0.824890</td>\n",
       "      <td>33.337837</td>\n",
       "      <td>0.0</td>\n",
       "      <td>3.260514</td>\n",
       "      <td>0.706365</td>\n",
       "      <td>0.0</td>\n",
       "    </tr>\n",
       "    <tr>\n",
       "      <th>4</th>\n",
       "      <td>2020</td>\n",
       "      <td>1</td>\n",
       "      <td>1</td>\n",
       "      <td>0</td>\n",
       "      <td>20</td>\n",
       "      <td>29.365288</td>\n",
       "      <td>22.085625</td>\n",
       "      <td>1.323369</td>\n",
       "      <td>1.175776</td>\n",
       "      <td>33.375069</td>\n",
       "      <td>0.0</td>\n",
       "      <td>3.148183</td>\n",
       "      <td>0.694154</td>\n",
       "      <td>0.0</td>\n",
       "    </tr>\n",
       "  </tbody>\n",
       "</table>\n",
       "</div>"
      ],
      "text/plain": [
       "   Year  Month  Day  Hour  Minutes        WTC        WRH       GHR       DHR  \\\n",
       "0  2020      1    1     0        0  29.685360  21.727171  1.360221  1.191879   \n",
       "1  2020      1    1     0        5  29.559967  21.878902  1.532208  1.460944   \n",
       "2  2020      1    1     0       10  29.530006  21.859453  1.186835  1.118219   \n",
       "3  2020      1    1     0       15  29.474438  21.897285  1.017349  0.824890   \n",
       "4  2020      1    1     0       20  29.365288  22.085625  1.323369  1.175776   \n",
       "\n",
       "          WD  WDR       RGT       RDT  1A Trina_power  \n",
       "0  33.216167  0.0  2.958199  0.524153             0.0  \n",
       "1  33.254341  0.0  3.288470  0.764565             0.0  \n",
       "2  33.302616  0.0  3.253541  0.725652             0.0  \n",
       "3  33.337837  0.0  3.260514  0.706365             0.0  \n",
       "4  33.375069  0.0  3.148183  0.694154             0.0  "
      ]
     },
     "execution_count": 10,
     "metadata": {},
     "output_type": "execute_result"
    }
   ],
   "source": [
    "test.head(5)"
   ]
  },
  {
   "cell_type": "markdown",
   "metadata": {},
   "source": [
    "# 数据预处理训练集去异常值"
   ]
  },
  {
   "cell_type": "code",
   "execution_count": 11,
   "metadata": {},
   "outputs": [
    {
     "data": {
      "text/plain": [
       "Year              0\n",
       "Month             0\n",
       "Day               0\n",
       "Hour              0\n",
       "Minutes           0\n",
       "WTC               0\n",
       "WRH               0\n",
       "GHR               0\n",
       "DHR               0\n",
       "WD                0\n",
       "WDR               0\n",
       "RGT               0\n",
       "RDT               0\n",
       "1A Trina_power    0\n",
       "dtype: int64"
      ]
     },
     "execution_count": 11,
     "metadata": {},
     "output_type": "execute_result"
    }
   ],
   "source": [
    "#使用df.isnull().sum()来获得与行数None和NaN值。\n",
    "train.isnull().sum()"
   ]
  },
  {
   "cell_type": "code",
   "execution_count": 12,
   "metadata": {},
   "outputs": [
    {
     "data": {
      "text/plain": [
       "Year              0\n",
       "Month             0\n",
       "Day               0\n",
       "Hour              0\n",
       "Minutes           0\n",
       "WTC               0\n",
       "WRH               0\n",
       "GHR               0\n",
       "DHR               0\n",
       "WD                0\n",
       "WDR               0\n",
       "RGT               0\n",
       "RDT               0\n",
       "1A Trina_power    0\n",
       "dtype: int64"
      ]
     },
     "execution_count": 12,
     "metadata": {},
     "output_type": "execute_result"
    }
   ],
   "source": [
    "test.isnull().sum()"
   ]
  },
  {
   "cell_type": "code",
   "execution_count": 13,
   "metadata": {},
   "outputs": [],
   "source": [
    "# #训练集去掉全是空值的行和列    #axis=0, how='any', thresh=None, subset=None, inplace=False)\n",
    "# # detectioncolumns=['WTC', 'WRH', 'GHR', 'DHR', 'WD', 'WDR', 'RGT', 'RDT']\n",
    "# # for i in detectioncolumns:\n",
    "# train.dropna(axis=\"index\",how='any' , inplace=True)  #删除掉全是空值的行\n",
    "# # train.dropna(axis=\"columns\", how='all', inplace=True)  #删除掉全是空值的列\n",
    "\n",
    "\n",
    "# test.dropna(axis=\"index\", how='any', inplace=True)  #删除掉全是空值的行\n",
    "# # test.dropna(axis=\"columns\", how='all', inplace=True)  #删除掉全是空值的列"
   ]
  },
  {
   "cell_type": "code",
   "execution_count": 14,
   "metadata": {},
   "outputs": [],
   "source": [
    "# #填补缺失值为均值\n",
    "# #train.ffill({\"RGT\":train['RGT'].mean()})\n",
    "# detectioncolumns=['WTC', 'WRH', 'GHR', 'DHR', 'WD', 'WDR', 'RGT', 'RDT']\n",
    "# for i in detectioncolumns:\n",
    "#     replace_NA=train[i].mean()\n",
    "#     train[i].fillna(replace_NA,inplace=True)\n",
    "# #去除测试集空值\n",
    "# for i in detectioncolumns:\n",
    "#     replace_NA=test[i].mean()\n",
    "#     test[i].fillna(replace_NA,inplace=True)\n"
   ]
  },
  {
   "cell_type": "code",
   "execution_count": 15,
   "metadata": {},
   "outputs": [
    {
     "data": {
      "text/plain": [
       "Index(['Year', 'Month', 'Day', 'Hour', 'Minutes', 'WTC', 'WRH', 'GHR', 'DHR',\n",
       "       'WD', 'WDR', 'RGT', 'RDT', '1A Trina_power'],\n",
       "      dtype='object')"
      ]
     },
     "execution_count": 15,
     "metadata": {},
     "output_type": "execute_result"
    }
   ],
   "source": [
    "train.columns"
   ]
  },
  {
   "cell_type": "code",
   "execution_count": 16,
   "metadata": {},
   "outputs": [
    {
     "data": {
      "text/plain": [
       "Index(['Year', 'Month', 'Day', 'Hour', 'Minutes', 'WTC', 'WRH', 'GHR', 'DHR',\n",
       "       'WD', 'WDR', 'RGT', 'RDT', '1A Trina_power'],\n",
       "      dtype='object')"
      ]
     },
     "execution_count": 16,
     "metadata": {},
     "output_type": "execute_result"
    }
   ],
   "source": [
    "test.columns"
   ]
  },
  {
   "cell_type": "code",
   "execution_count": 17,
   "metadata": {},
   "outputs": [
    {
     "data": {
      "text/html": [
       "<div>\n",
       "<style scoped>\n",
       "    .dataframe tbody tr th:only-of-type {\n",
       "        vertical-align: middle;\n",
       "    }\n",
       "\n",
       "    .dataframe tbody tr th {\n",
       "        vertical-align: top;\n",
       "    }\n",
       "\n",
       "    .dataframe thead th {\n",
       "        text-align: right;\n",
       "    }\n",
       "</style>\n",
       "<table border=\"1\" class=\"dataframe\">\n",
       "  <thead>\n",
       "    <tr style=\"text-align: right;\">\n",
       "      <th></th>\n",
       "      <th>Year</th>\n",
       "      <th>Month</th>\n",
       "      <th>Day</th>\n",
       "      <th>Hour</th>\n",
       "      <th>Minutes</th>\n",
       "      <th>WTC</th>\n",
       "      <th>WRH</th>\n",
       "      <th>GHR</th>\n",
       "      <th>DHR</th>\n",
       "      <th>WD</th>\n",
       "      <th>WDR</th>\n",
       "      <th>RGT</th>\n",
       "      <th>RDT</th>\n",
       "      <th>1A Trina_power</th>\n",
       "    </tr>\n",
       "  </thead>\n",
       "  <tbody>\n",
       "    <tr>\n",
       "      <th>0</th>\n",
       "      <td>2018</td>\n",
       "      <td>1</td>\n",
       "      <td>19</td>\n",
       "      <td>18</td>\n",
       "      <td>30</td>\n",
       "      <td>26.243799</td>\n",
       "      <td>50.889774</td>\n",
       "      <td>71.416481</td>\n",
       "      <td>67.523544</td>\n",
       "      <td>302.882996</td>\n",
       "      <td>3.6</td>\n",
       "      <td>65.268631</td>\n",
       "      <td>59.278999</td>\n",
       "      <td>0.318600</td>\n",
       "    </tr>\n",
       "    <tr>\n",
       "      <th>1</th>\n",
       "      <td>2018</td>\n",
       "      <td>1</td>\n",
       "      <td>19</td>\n",
       "      <td>18</td>\n",
       "      <td>35</td>\n",
       "      <td>26.641783</td>\n",
       "      <td>49.539795</td>\n",
       "      <td>77.177094</td>\n",
       "      <td>71.776718</td>\n",
       "      <td>246.312622</td>\n",
       "      <td>3.6</td>\n",
       "      <td>72.546944</td>\n",
       "      <td>63.134579</td>\n",
       "      <td>0.328800</td>\n",
       "    </tr>\n",
       "    <tr>\n",
       "      <th>2</th>\n",
       "      <td>2018</td>\n",
       "      <td>1</td>\n",
       "      <td>19</td>\n",
       "      <td>18</td>\n",
       "      <td>40</td>\n",
       "      <td>26.654078</td>\n",
       "      <td>53.414265</td>\n",
       "      <td>78.373489</td>\n",
       "      <td>69.008316</td>\n",
       "      <td>305.089630</td>\n",
       "      <td>3.6</td>\n",
       "      <td>76.711456</td>\n",
       "      <td>65.430550</td>\n",
       "      <td>0.334200</td>\n",
       "    </tr>\n",
       "    <tr>\n",
       "      <th>3</th>\n",
       "      <td>2018</td>\n",
       "      <td>1</td>\n",
       "      <td>19</td>\n",
       "      <td>18</td>\n",
       "      <td>45</td>\n",
       "      <td>26.439108</td>\n",
       "      <td>55.582245</td>\n",
       "      <td>78.022881</td>\n",
       "      <td>67.560181</td>\n",
       "      <td>259.662933</td>\n",
       "      <td>3.6</td>\n",
       "      <td>80.445709</td>\n",
       "      <td>66.812790</td>\n",
       "      <td>0.333133</td>\n",
       "    </tr>\n",
       "    <tr>\n",
       "      <th>4</th>\n",
       "      <td>2018</td>\n",
       "      <td>1</td>\n",
       "      <td>19</td>\n",
       "      <td>18</td>\n",
       "      <td>50</td>\n",
       "      <td>26.479477</td>\n",
       "      <td>56.173820</td>\n",
       "      <td>82.106972</td>\n",
       "      <td>73.004196</td>\n",
       "      <td>186.634705</td>\n",
       "      <td>3.6</td>\n",
       "      <td>83.035919</td>\n",
       "      <td>69.054459</td>\n",
       "      <td>0.332400</td>\n",
       "    </tr>\n",
       "  </tbody>\n",
       "</table>\n",
       "</div>"
      ],
      "text/plain": [
       "   Year  Month  Day  Hour  Minutes        WTC        WRH        GHR  \\\n",
       "0  2018      1   19    18       30  26.243799  50.889774  71.416481   \n",
       "1  2018      1   19    18       35  26.641783  49.539795  77.177094   \n",
       "2  2018      1   19    18       40  26.654078  53.414265  78.373489   \n",
       "3  2018      1   19    18       45  26.439108  55.582245  78.022881   \n",
       "4  2018      1   19    18       50  26.479477  56.173820  82.106972   \n",
       "\n",
       "         DHR          WD  WDR        RGT        RDT  1A Trina_power  \n",
       "0  67.523544  302.882996  3.6  65.268631  59.278999        0.318600  \n",
       "1  71.776718  246.312622  3.6  72.546944  63.134579        0.328800  \n",
       "2  69.008316  305.089630  3.6  76.711456  65.430550        0.334200  \n",
       "3  67.560181  259.662933  3.6  80.445709  66.812790        0.333133  \n",
       "4  73.004196  186.634705  3.6  83.035919  69.054459        0.332400  "
      ]
     },
     "execution_count": 17,
     "metadata": {},
     "output_type": "execute_result"
    }
   ],
   "source": [
    "train.head()"
   ]
  },
  {
   "cell_type": "code",
   "execution_count": 18,
   "metadata": {},
   "outputs": [
    {
     "data": {
      "text/html": [
       "<div>\n",
       "<style scoped>\n",
       "    .dataframe tbody tr th:only-of-type {\n",
       "        vertical-align: middle;\n",
       "    }\n",
       "\n",
       "    .dataframe tbody tr th {\n",
       "        vertical-align: top;\n",
       "    }\n",
       "\n",
       "    .dataframe thead th {\n",
       "        text-align: right;\n",
       "    }\n",
       "</style>\n",
       "<table border=\"1\" class=\"dataframe\">\n",
       "  <thead>\n",
       "    <tr style=\"text-align: right;\">\n",
       "      <th></th>\n",
       "      <th>Year</th>\n",
       "      <th>Month</th>\n",
       "      <th>Day</th>\n",
       "      <th>Hour</th>\n",
       "      <th>Minutes</th>\n",
       "      <th>WTC</th>\n",
       "      <th>WRH</th>\n",
       "      <th>GHR</th>\n",
       "      <th>DHR</th>\n",
       "      <th>WD</th>\n",
       "      <th>WDR</th>\n",
       "      <th>RGT</th>\n",
       "      <th>RDT</th>\n",
       "      <th>1A Trina_power</th>\n",
       "    </tr>\n",
       "  </thead>\n",
       "  <tbody>\n",
       "    <tr>\n",
       "      <th>0</th>\n",
       "      <td>2020</td>\n",
       "      <td>1</td>\n",
       "      <td>1</td>\n",
       "      <td>0</td>\n",
       "      <td>0</td>\n",
       "      <td>29.685360</td>\n",
       "      <td>21.727171</td>\n",
       "      <td>1.360221</td>\n",
       "      <td>1.191879</td>\n",
       "      <td>33.216167</td>\n",
       "      <td>0.0</td>\n",
       "      <td>2.958199</td>\n",
       "      <td>0.524153</td>\n",
       "      <td>0.0</td>\n",
       "    </tr>\n",
       "    <tr>\n",
       "      <th>1</th>\n",
       "      <td>2020</td>\n",
       "      <td>1</td>\n",
       "      <td>1</td>\n",
       "      <td>0</td>\n",
       "      <td>5</td>\n",
       "      <td>29.559967</td>\n",
       "      <td>21.878902</td>\n",
       "      <td>1.532208</td>\n",
       "      <td>1.460944</td>\n",
       "      <td>33.254341</td>\n",
       "      <td>0.0</td>\n",
       "      <td>3.288470</td>\n",
       "      <td>0.764565</td>\n",
       "      <td>0.0</td>\n",
       "    </tr>\n",
       "    <tr>\n",
       "      <th>2</th>\n",
       "      <td>2020</td>\n",
       "      <td>1</td>\n",
       "      <td>1</td>\n",
       "      <td>0</td>\n",
       "      <td>10</td>\n",
       "      <td>29.530006</td>\n",
       "      <td>21.859453</td>\n",
       "      <td>1.186835</td>\n",
       "      <td>1.118219</td>\n",
       "      <td>33.302616</td>\n",
       "      <td>0.0</td>\n",
       "      <td>3.253541</td>\n",
       "      <td>0.725652</td>\n",
       "      <td>0.0</td>\n",
       "    </tr>\n",
       "    <tr>\n",
       "      <th>3</th>\n",
       "      <td>2020</td>\n",
       "      <td>1</td>\n",
       "      <td>1</td>\n",
       "      <td>0</td>\n",
       "      <td>15</td>\n",
       "      <td>29.474438</td>\n",
       "      <td>21.897285</td>\n",
       "      <td>1.017349</td>\n",
       "      <td>0.824890</td>\n",
       "      <td>33.337837</td>\n",
       "      <td>0.0</td>\n",
       "      <td>3.260514</td>\n",
       "      <td>0.706365</td>\n",
       "      <td>0.0</td>\n",
       "    </tr>\n",
       "    <tr>\n",
       "      <th>4</th>\n",
       "      <td>2020</td>\n",
       "      <td>1</td>\n",
       "      <td>1</td>\n",
       "      <td>0</td>\n",
       "      <td>20</td>\n",
       "      <td>29.365288</td>\n",
       "      <td>22.085625</td>\n",
       "      <td>1.323369</td>\n",
       "      <td>1.175776</td>\n",
       "      <td>33.375069</td>\n",
       "      <td>0.0</td>\n",
       "      <td>3.148183</td>\n",
       "      <td>0.694154</td>\n",
       "      <td>0.0</td>\n",
       "    </tr>\n",
       "  </tbody>\n",
       "</table>\n",
       "</div>"
      ],
      "text/plain": [
       "   Year  Month  Day  Hour  Minutes        WTC        WRH       GHR       DHR  \\\n",
       "0  2020      1    1     0        0  29.685360  21.727171  1.360221  1.191879   \n",
       "1  2020      1    1     0        5  29.559967  21.878902  1.532208  1.460944   \n",
       "2  2020      1    1     0       10  29.530006  21.859453  1.186835  1.118219   \n",
       "3  2020      1    1     0       15  29.474438  21.897285  1.017349  0.824890   \n",
       "4  2020      1    1     0       20  29.365288  22.085625  1.323369  1.175776   \n",
       "\n",
       "          WD  WDR       RGT       RDT  1A Trina_power  \n",
       "0  33.216167  0.0  2.958199  0.524153             0.0  \n",
       "1  33.254341  0.0  3.288470  0.764565             0.0  \n",
       "2  33.302616  0.0  3.253541  0.725652             0.0  \n",
       "3  33.337837  0.0  3.260514  0.706365             0.0  \n",
       "4  33.375069  0.0  3.148183  0.694154             0.0  "
      ]
     },
     "execution_count": 18,
     "metadata": {},
     "output_type": "execute_result"
    }
   ],
   "source": [
    "test.head()"
   ]
  },
  {
   "cell_type": "markdown",
   "metadata": {},
   "source": [
    "# keras模型训练"
   ]
  },
  {
   "cell_type": "markdown",
   "metadata": {},
   "source": [
    "准备数据"
   ]
  },
  {
   "cell_type": "code",
   "execution_count": 19,
   "metadata": {},
   "outputs": [
    {
     "name": "stdout",
     "output_type": "stream",
     "text": [
      "查看训练集\n",
      "    Year  Month  Day  Hour  Minutes        WTC        WRH        GHR  \\\n",
      "0  2018      1   19    18       30  26.243799  50.889774  71.416481   \n",
      "1  2018      1   19    18       35  26.641783  49.539795  77.177094   \n",
      "2  2018      1   19    18       40  26.654078  53.414265  78.373489   \n",
      "3  2018      1   19    18       45  26.439108  55.582245  78.022881   \n",
      "4  2018      1   19    18       50  26.479477  56.173820  82.106972   \n",
      "\n",
      "         DHR          WD  WDR        RGT        RDT  1A Trina_power  \n",
      "0  67.523544  302.882996  3.6  65.268631  59.278999        0.318600  \n",
      "1  71.776718  246.312622  3.6  72.546944  63.134579        0.328800  \n",
      "2  69.008316  305.089630  3.6  76.711456  65.430550        0.334200  \n",
      "3  67.560181  259.662933  3.6  80.445709  66.812790        0.333133  \n",
      "4  73.004196  186.634705  3.6  83.035919  69.054459        0.332400  \n",
      "查看测试集\n",
      "    Year  Month  Day  Hour  Minutes        WTC        WRH       GHR       DHR  \\\n",
      "0  2020      1    1     0        0  29.685360  21.727171  1.360221  1.191879   \n",
      "1  2020      1    1     0        5  29.559967  21.878902  1.532208  1.460944   \n",
      "2  2020      1    1     0       10  29.530006  21.859453  1.186835  1.118219   \n",
      "3  2020      1    1     0       15  29.474438  21.897285  1.017349  0.824890   \n",
      "4  2020      1    1     0       20  29.365288  22.085625  1.323369  1.175776   \n",
      "\n",
      "          WD  WDR       RGT       RDT  1A Trina_power  \n",
      "0  33.216167  0.0  2.958199  0.524153             0.0  \n",
      "1  33.254341  0.0  3.288470  0.764565             0.0  \n",
      "2  33.302616  0.0  3.253541  0.725652             0.0  \n",
      "3  33.337837  0.0  3.260514  0.706365             0.0  \n",
      "4  33.375069  0.0  3.148183  0.694154             0.0  \n"
     ]
    }
   ],
   "source": [
    "train1=train[['Year','Month','Day', 'Hour',\n",
    "       'Minutes','WTC', 'WRH', 'GHR', 'DHR', 'WD', 'WDR', 'RGT', 'RDT', '1A Trina_power']]\n",
    "print(\"查看训练集\\n\",train1.head())\n",
    "test1=test[['Year','Month','Day', 'Hour',\n",
    "       'Minutes','WTC', 'WRH', 'GHR', 'DHR', 'WD', 'WDR', 'RGT', 'RDT', '1A Trina_power']]\n",
    "print(\"查看测试集\\n\",test.head())"
   ]
  },
  {
   "cell_type": "code",
   "execution_count": 20,
   "metadata": {},
   "outputs": [],
   "source": [
    "train1 = train1.values\n",
    "train1 = train.astype('float32')     # 将整型变为float\n",
    "scaler = MinMaxScaler(feature_range=(0, 1)) # 数据处理，归一化至0~1之间\n",
    "train1 = scaler.fit_transform(train1)\n",
    "\n",
    "test1 = test1.values\n",
    "test1 = test1.astype('float32')     # 将整型变为float\n",
    "scaler = MinMaxScaler(feature_range=(0, 1)) # 数据处理，归一化至0~1之间\n",
    "test1 = scaler.fit_transform(test1)\n",
    "\n",
    "inds = np.arange(train1.shape[0])\n",
    "random.shuffle(inds)\n",
    "train1_inds = inds[0:int(train1.shape[0]*0.8)]\n",
    "eval1_inds = inds[int(train1.shape[0]*0.8):train1.shape[0]]\n",
    "\n",
    "\n",
    "train_x, train_y = train1[train1_inds,:-1], train1[train1_inds,-1:]\n",
    "eval_x,eval_y = train1[eval1_inds,:-1], train1[eval1_inds,-1:]\n",
    "test_x, test_y = test1[:, :-1], test1[:,-1:]\n",
    "\n",
    "\n",
    "# # 划分训练集和测试集\n",
    "# train_size = int(len(dataset) * 0.67)\n",
    "# test_size = len(dataset) - train_size\n",
    "# train, test = dataset[0:train_size,:], dataset[train_size:len(dataset),:]\n",
    "# # 创建测试集和训练集\n",
    "# look_back = 1\n",
    "# trainX, trainY = create_dataset(train,0)           #单步预测\n",
    "# testX, testY = create_dataset(test,0)\n",
    "    \n",
    "# # 调整输入数据的格式\n",
    "# trainX = numpy.reshape(trainX, (trainX.shape[0], look_back, trainX.shape[1]))       #（样本个数，1，输入的维度）\n",
    "# testX = numpy.reshape(testX, (testX.shape[0], look_back, testX.shape[1]))"
   ]
  },
  {
   "cell_type": "code",
   "execution_count": 21,
   "metadata": {
    "scrolled": true
   },
   "outputs": [
    {
     "name": "stdout",
     "output_type": "stream",
     "text": [
      "[[0.         0.         0.6        ... 0.05082968 0.20160824 0.03996861]\n",
      " [0.         0.         0.6        ... 0.05650019 0.21471684 0.0411343 ]\n",
      " [0.         0.         0.6        ... 0.05974475 0.22252293 0.04175143]\n",
      " ...\n",
      " [1.         1.         1.         ... 0.00221545 0.00174257 0.00355801]\n",
      " [1.         1.         1.         ... 0.00198068 0.00122578 0.00355801]\n",
      " [1.         1.         1.         ... 0.00217768 0.00139605 0.00355801]]\n"
     ]
    }
   ],
   "source": [
    "print(train1)"
   ]
  },
  {
   "cell_type": "code",
   "execution_count": 22,
   "metadata": {},
   "outputs": [
    {
     "name": "stdout",
     "output_type": "stream",
     "text": [
      "[[0.         0.36363636 0.3        ... 0.         0.60009651 0.25852902]\n",
      " [0.         0.72727273 0.06666667 ... 0.         0.7856327  0.33975685]\n",
      " [0.         0.90909091 0.36666667 ... 0.         0.0613633  0.17653534]\n",
      " ...\n",
      " [1.         0.09090909 0.3        ... 0.         0.00274023 0.00342102]\n",
      " [0.         1.         0.4        ... 0.15000001 0.00280233 0.00326332]\n",
      " [0.         0.72727273 0.63333333 ... 0.         0.00281399 0.00191538]]\n"
     ]
    }
   ],
   "source": [
    "print(train_x)"
   ]
  },
  {
   "cell_type": "code",
   "execution_count": 23,
   "metadata": {},
   "outputs": [
    {
     "name": "stdout",
     "output_type": "stream",
     "text": [
      "[[0.46304463]\n",
      " [0.46122381]\n",
      " [0.11948681]\n",
      " ...\n",
      " [0.00355801]\n",
      " [0.00355801]\n",
      " [0.00355801]]\n"
     ]
    }
   ],
   "source": [
    "print(train_y)"
   ]
  },
  {
   "cell_type": "code",
   "execution_count": 24,
   "metadata": {},
   "outputs": [
    {
     "name": "stdout",
     "output_type": "stream",
     "text": [
      "(113142, 13)\n",
      "(113142, 1)\n",
      "(26091, 13)\n",
      "(26091, 1)\n"
     ]
    }
   ],
   "source": [
    "print(train_x.shape)\n",
    "print(train_y.shape)\n",
    "print(test_x.shape)\n",
    "print(test_y.shape)"
   ]
  },
  {
   "cell_type": "markdown",
   "metadata": {},
   "source": [
    "# Model1"
   ]
  },
  {
   "cell_type": "code",
   "execution_count": 48,
   "metadata": {},
   "outputs": [
    {
     "name": "stdout",
     "output_type": "stream",
     "text": [
      "Train on 113142 samples, validate on 28286 samples\n",
      "Epoch 1/50\n",
      "113142/113142 [==============================] - 1s - loss: 0.0343 - mean_absolute_error: 0.1467 - val_loss: 0.0160 - val_mean_absolute_error: 0.1020\n",
      "Epoch 2/50\n",
      "113142/113142 [==============================] - 1s - loss: 0.0145 - mean_absolute_error: 0.0928 - val_loss: 0.0107 - val_mean_absolute_error: 0.0750\n",
      "Epoch 3/50\n",
      "113142/113142 [==============================] - 1s - loss: 0.0125 - mean_absolute_error: 0.0845 - val_loss: 0.0118 - val_mean_absolute_error: 0.0862\n",
      "Epoch 4/50\n",
      "113142/113142 [==============================] - 1s - loss: 0.0115 - mean_absolute_error: 0.0799 - val_loss: 0.0115 - val_mean_absolute_error: 0.0858\n",
      "Epoch 5/50\n",
      "113142/113142 [==============================] - 1s - loss: 0.0106 - mean_absolute_error: 0.0767 - val_loss: 0.0095 - val_mean_absolute_error: 0.0750\n",
      "Epoch 6/50\n",
      "113142/113142 [==============================] - 1s - loss: 0.0096 - mean_absolute_error: 0.0716 - val_loss: 0.0080 - val_mean_absolute_error: 0.0657\n",
      "Epoch 7/50\n",
      "113142/113142 [==============================] - 1s - loss: 0.0088 - mean_absolute_error: 0.0682 - val_loss: 0.0089 - val_mean_absolute_error: 0.0782\n",
      "Epoch 8/50\n",
      "113142/113142 [==============================] - 1s - loss: 0.0081 - mean_absolute_error: 0.0642 - val_loss: 0.0092 - val_mean_absolute_error: 0.0662\n",
      "Epoch 9/50\n",
      "113142/113142 [==============================] - 1s - loss: 0.0076 - mean_absolute_error: 0.0621 - val_loss: 0.0078 - val_mean_absolute_error: 0.0576\n",
      "Epoch 10/50\n",
      "113142/113142 [==============================] - 1s - loss: 0.0072 - mean_absolute_error: 0.0600 - val_loss: 0.0062 - val_mean_absolute_error: 0.0477\n",
      "Epoch 11/50\n",
      "113142/113142 [==============================] - 1s - loss: 0.0069 - mean_absolute_error: 0.0579 - val_loss: 0.0076 - val_mean_absolute_error: 0.0586\n",
      "Epoch 12/50\n",
      "113142/113142 [==============================] - 1s - loss: 0.0066 - mean_absolute_error: 0.0564 - val_loss: 0.0056 - val_mean_absolute_error: 0.0426\n",
      "Epoch 13/50\n",
      "113142/113142 [==============================] - 1s - loss: 0.0064 - mean_absolute_error: 0.0557 - val_loss: 0.0062 - val_mean_absolute_error: 0.0475\n",
      "Epoch 14/50\n",
      "113142/113142 [==============================] - 1s - loss: 0.0061 - mean_absolute_error: 0.0545 - val_loss: 0.0051 - val_mean_absolute_error: 0.0413\n",
      "Epoch 15/50\n",
      "113142/113142 [==============================] - 1s - loss: 0.0060 - mean_absolute_error: 0.0527 - val_loss: 0.0054 - val_mean_absolute_error: 0.04550.\n",
      "Epoch 16/50\n",
      "113142/113142 [==============================] - 1s - loss: 0.0058 - mean_absolute_error: 0.0521 - val_loss: 0.0068 - val_mean_absolute_error: 0.0567\n",
      "Epoch 17/50\n",
      "113142/113142 [==============================] - 1s - loss: 0.0057 - mean_absolute_error: 0.0514 - val_loss: 0.0057 - val_mean_absolute_error: 0.0503\n",
      "Epoch 18/50\n",
      "113142/113142 [==============================] - 1s - loss: 0.0056 - mean_absolute_error: 0.0507 - val_loss: 0.0063 - val_mean_absolute_error: 0.0518\n",
      "Epoch 19/50\n",
      "113142/113142 [==============================] - 1s - loss: 0.0054 - mean_absolute_error: 0.0487 - val_loss: 0.0085 - val_mean_absolute_error: 0.0786\n",
      "Epoch 20/50\n",
      "113142/113142 [==============================] - 1s - loss: 0.0053 - mean_absolute_error: 0.0493 - val_loss: 0.0053 - val_mean_absolute_error: 0.0517\n",
      "Epoch 21/50\n",
      "113142/113142 [==============================] - 1s - loss: 0.0052 - mean_absolute_error: 0.0488 - val_loss: 0.0070 - val_mean_absolute_error: 0.0666\n",
      "Epoch 22/50\n",
      "113142/113142 [==============================] - 1s - loss: 0.0052 - mean_absolute_error: 0.0486 - val_loss: 0.0054 - val_mean_absolute_error: 0.0530\n",
      "Epoch 23/50\n",
      "113142/113142 [==============================] - 1s - loss: 0.0050 - mean_absolute_error: 0.0464 - val_loss: 0.0059 - val_mean_absolute_error: 0.0606\n",
      "Epoch 24/50\n",
      "113142/113142 [==============================] - 1s - loss: 0.0050 - mean_absolute_error: 0.0470 - val_loss: 0.0047 - val_mean_absolute_error: 0.0482\n",
      "Epoch 25/50\n",
      "113142/113142 [==============================] - 1s - loss: 0.0049 - mean_absolute_error: 0.0464 - val_loss: 0.0042 - val_mean_absolute_error: 0.0369\n",
      "Epoch 26/50\n",
      "113142/113142 [==============================] - 1s - loss: 0.0048 - mean_absolute_error: 0.0455 - val_loss: 0.0047 - val_mean_absolute_error: 0.0408\n",
      "Epoch 27/50\n",
      "113142/113142 [==============================] - 1s - loss: 0.0047 - mean_absolute_error: 0.0453 - val_loss: 0.0050 - val_mean_absolute_error: 0.0449\n",
      "Epoch 28/50\n",
      "113142/113142 [==============================] - 1s - loss: 0.0046 - mean_absolute_error: 0.0439 - val_loss: 0.0042 - val_mean_absolute_error: 0.0413\n",
      "Epoch 29/50\n",
      "113142/113142 [==============================] - 1s - loss: 0.0046 - mean_absolute_error: 0.0438 - val_loss: 0.0049 - val_mean_absolute_error: 0.0510\n",
      "Epoch 30/50\n",
      "113142/113142 [==============================] - 1s - loss: 0.0046 - mean_absolute_error: 0.0438 - val_loss: 0.0060 - val_mean_absolute_error: 0.0594\n",
      "Epoch 31/50\n",
      "113142/113142 [==============================] - 1s - loss: 0.0045 - mean_absolute_error: 0.0431 - val_loss: 0.0044 - val_mean_absolute_error: 0.0458\n",
      "Epoch 32/50\n",
      "113142/113142 [==============================] - 1s - loss: 0.0044 - mean_absolute_error: 0.0429 - val_loss: 0.0063 - val_mean_absolute_error: 0.0640\n",
      "Epoch 33/50\n",
      "113142/113142 [==============================] - 1s - loss: 0.0044 - mean_absolute_error: 0.0428 - val_loss: 0.0040 - val_mean_absolute_error: 0.0356\n",
      "Epoch 34/50\n",
      "113142/113142 [==============================] - 1s - loss: 0.0043 - mean_absolute_error: 0.0416 - val_loss: 0.0050 - val_mean_absolute_error: 0.0463\n",
      "Epoch 35/50\n",
      "113142/113142 [==============================] - 1s - loss: 0.0043 - mean_absolute_error: 0.0424 - val_loss: 0.0038 - val_mean_absolute_error: 0.0345\n",
      "Epoch 36/50\n",
      "113142/113142 [==============================] - 1s - loss: 0.0043 - mean_absolute_error: 0.0415 - val_loss: 0.0051 - val_mean_absolute_error: 0.0520\n",
      "Epoch 37/50\n",
      "113142/113142 [==============================] - 1s - loss: 0.0042 - mean_absolute_error: 0.0411 - val_loss: 0.0038 - val_mean_absolute_error: 0.0335\n",
      "Epoch 38/50\n",
      "113142/113142 [==============================] - 1s - loss: 0.0042 - mean_absolute_error: 0.0411 - val_loss: 0.0041 - val_mean_absolute_error: 0.0413\n",
      "Epoch 39/50\n",
      "113142/113142 [==============================] - 1s - loss: 0.0042 - mean_absolute_error: 0.0408 - val_loss: 0.0039 - val_mean_absolute_error: 0.0395\n",
      "Epoch 40/50\n",
      "113142/113142 [==============================] - 1s - loss: 0.0041 - mean_absolute_error: 0.0405 - val_loss: 0.0044 - val_mean_absolute_error: 0.0486\n",
      "Epoch 41/50\n",
      "113142/113142 [==============================] - 1s - loss: 0.0041 - mean_absolute_error: 0.0397 - val_loss: 0.0037 - val_mean_absolute_error: 0.0331\n",
      "Epoch 42/50\n",
      "113142/113142 [==============================] - 1s - loss: 0.0041 - mean_absolute_error: 0.0403 - val_loss: 0.0046 - val_mean_absolute_error: 0.0430\n",
      "Epoch 43/50\n",
      "113142/113142 [==============================] - 1s - loss: 0.0041 - mean_absolute_error: 0.0401 - val_loss: 0.0039 - val_mean_absolute_error: 0.0386\n",
      "Epoch 44/50\n",
      "113142/113142 [==============================] - 1s - loss: 0.0040 - mean_absolute_error: 0.0397 - val_loss: 0.0048 - val_mean_absolute_error: 0.0500\n",
      "Epoch 45/50\n",
      "113142/113142 [==============================] - 1s - loss: 0.0040 - mean_absolute_error: 0.0391 - val_loss: 0.0050 - val_mean_absolute_error: 0.0533\n",
      "Epoch 46/50\n",
      "113142/113142 [==============================] - 1s - loss: 0.0040 - mean_absolute_error: 0.0389 - val_loss: 0.0045 - val_mean_absolute_error: 0.0480\n",
      "Epoch 47/50\n",
      "113142/113142 [==============================] - 1s - loss: 0.0039 - mean_absolute_error: 0.0390 - val_loss: 0.0037 - val_mean_absolute_error: 0.0356\n",
      "Epoch 48/50\n",
      "113142/113142 [==============================] - 1s - loss: 0.0039 - mean_absolute_error: 0.0387 - val_loss: 0.0040 - val_mean_absolute_error: 0.0387\n",
      "Epoch 49/50\n",
      "113142/113142 [==============================] - 1s - loss: 0.0039 - mean_absolute_error: 0.0385 - val_loss: 0.0041 - val_mean_absolute_error: 0.0398\n",
      "Epoch 50/50\n",
      "113142/113142 [==============================] - 1s - loss: 0.0038 - mean_absolute_error: 0.0385 - val_loss: 0.0035 - val_mean_absolute_error: 0.0323\n"
     ]
    }
   ],
   "source": [
    "model1 = Sequential()\n",
    "model1.add(Dense(units=64, input_shape = (13,),activation='softmax',name='layer1'))\n",
    "model1.add(Dense(units=64,name='layer2'))\n",
    "model1.add(Dense(units=16,name='layer3'))\n",
    "model1.add(Dense(units=8,name='layer4'))\n",
    "model1.add(Dense(units=1,name='layer5'))\n",
    "model1.compile(loss='mean_squared_error',\n",
    "              optimizer='rmsprop',\n",
    "              metrics=['mae'])\n",
    "history = model1.fit(x = train_x,y = train_y, validation_data = (eval_x,eval_y), epochs=50, batch_size=1000,verbose=1)\n",
    "######################################################################\n",
    "#######################################################################"
   ]
  },
  {
   "cell_type": "code",
   "execution_count": 50,
   "metadata": {},
   "outputs": [
    {
     "data": {
      "image/png": "[encoded data removed]",
      "text/plain": [
       "<Figure size 432x288 with 1 Axes>"
      ]
     },
     "metadata": {},
     "output_type": "display_data"
    }
   ],
   "source": [
    "# 绘制训练 & 验证的损失值\n",
    "plt.plot(history.history['loss'])\n",
    "plt.plot(history.history['val_loss'])\n",
    "plt.title('Model1 loss')\n",
    "plt.ylabel('Loss')\n",
    "plt.xlabel('Epoch')\n",
    "plt.legend(['Train', 'Test'], loc='upper left')\n",
    "plt.show()"
   ]
  },
  {
   "cell_type": "code",
   "execution_count": 27,
   "metadata": {
    "scrolled": false
   },
   "outputs": [],
   "source": [
    "# # 绘制训练 & 验证的准确率值\n",
    "# plt.plot(history.history['acc'])\n",
    "# plt.plot(history.history['val_acc'])\n",
    "# plt.title('Model accuracy')\n",
    "# plt.ylabel('Accuracy')\n",
    "# plt.xlabel('Epoch')\n",
    "# plt.legend(['Train', 'Test'], loc='upper left')\n",
    "# plt.show()"
   ]
  },
  {
   "cell_type": "markdown",
   "metadata": {},
   "source": [
    "#  Model2   Dense with activation"
   ]
  },
  {
   "cell_type": "code",
   "execution_count": 38,
   "metadata": {},
   "outputs": [
    {
     "name": "stdout",
     "output_type": "stream",
     "text": [
      "Train on 113142 samples, validate on 28286 samples\n",
      "Epoch 1/50\n",
      "113142/113142 [==============================] - 1s - loss: 0.3579 - mean_absolute_error: 0.3579 - val_loss: 0.2169 - val_mean_absolute_error: 0.2169\n",
      "Epoch 2/50\n",
      "113142/113142 [==============================] - 1s - loss: 0.2143 - mean_absolute_error: 0.2143 - val_loss: 0.2105 - val_mean_absolute_error: 0.2105\n",
      "Epoch 3/50\n",
      "113142/113142 [==============================] - 0s - loss: 0.1999 - mean_absolute_error: 0.1999 - val_loss: 0.1839 - val_mean_absolute_error: 0.1839\n",
      "Epoch 4/50\n",
      "113142/113142 [==============================] - 1s - loss: 0.1499 - mean_absolute_error: 0.1499 - val_loss: 0.1156 - val_mean_absolute_error: 0.1156\n",
      "Epoch 5/50\n",
      "113142/113142 [==============================] - 0s - loss: 0.0882 - mean_absolute_error: 0.0882 - val_loss: 0.0792 - val_mean_absolute_error: 0.0792\n",
      "Epoch 6/50\n",
      "113142/113142 [==============================] - 1s - loss: 0.0802 - mean_absolute_error: 0.0802 - val_loss: 0.0799 - val_mean_absolute_error: 0.0799\n",
      "Epoch 7/50\n",
      "113142/113142 [==============================] - 0s - loss: 0.0779 - mean_absolute_error: 0.0779 - val_loss: 0.0768 - val_mean_absolute_error: 0.0768\n",
      "Epoch 8/50\n",
      "113142/113142 [==============================] - 1s - loss: 0.0761 - mean_absolute_error: 0.0761 - val_loss: 0.0737 - val_mean_absolute_error: 0.0737\n",
      "Epoch 9/50\n",
      "113142/113142 [==============================] - 1s - loss: 0.0746 - mean_absolute_error: 0.0746 - val_loss: 0.0757 - val_mean_absolute_error: 0.0757\n",
      "Epoch 10/50\n",
      "113142/113142 [==============================] - 1s - loss: 0.0733 - mean_absolute_error: 0.0733 - val_loss: 0.0735 - val_mean_absolute_error: 0.0735\n",
      "Epoch 11/50\n",
      "113142/113142 [==============================] - 1s - loss: 0.0722 - mean_absolute_error: 0.0722 - val_loss: 0.0690 - val_mean_absolute_error: 0.0690\n",
      "Epoch 12/50\n",
      "113142/113142 [==============================] - 1s - loss: 0.0713 - mean_absolute_error: 0.0713 - val_loss: 0.0728 - val_mean_absolute_error: 0.0728\n",
      "Epoch 13/50\n",
      "113142/113142 [==============================] - 0s - loss: 0.0704 - mean_absolute_error: 0.0704 - val_loss: 0.0680 - val_mean_absolute_error: 0.0680\n",
      "Epoch 14/50\n",
      "113142/113142 [==============================] - 1s - loss: 0.0699 - mean_absolute_error: 0.0699 - val_loss: 0.0703 - val_mean_absolute_error: 0.0703\n",
      "Epoch 15/50\n",
      "113142/113142 [==============================] - 1s - loss: 0.0696 - mean_absolute_error: 0.0696 - val_loss: 0.0700 - val_mean_absolute_error: 0.0700\n",
      "Epoch 16/50\n",
      "113142/113142 [==============================] - 0s - loss: 0.0691 - mean_absolute_error: 0.0691 - val_loss: 0.0695 - val_mean_absolute_error: 0.0695\n",
      "Epoch 17/50\n",
      "113142/113142 [==============================] - 0s - loss: 0.0688 - mean_absolute_error: 0.0688 - val_loss: 0.0691 - val_mean_absolute_error: 0.0691\n",
      "Epoch 18/50\n",
      "113142/113142 [==============================] - 0s - loss: 0.0684 - mean_absolute_error: 0.0684 - val_loss: 0.0693 - val_mean_absolute_error: 0.0693\n",
      "Epoch 19/50\n",
      "113142/113142 [==============================] - 1s - loss: 0.0681 - mean_absolute_error: 0.0681 - val_loss: 0.0703 - val_mean_absolute_error: 0.0703\n",
      "Epoch 20/50\n",
      "113142/113142 [==============================] - 1s - loss: 0.0678 - mean_absolute_error: 0.0678 - val_loss: 0.0710 - val_mean_absolute_error: 0.0710\n",
      "Epoch 21/50\n",
      "113142/113142 [==============================] - 0s - loss: 0.0674 - mean_absolute_error: 0.0674 - val_loss: 0.0711 - val_mean_absolute_error: 0.0711\n",
      "Epoch 22/50\n",
      "113142/113142 [==============================] - 0s - loss: 0.0671 - mean_absolute_error: 0.0671 - val_loss: 0.0678 - val_mean_absolute_error: 0.0678\n",
      "Epoch 23/50\n",
      "113142/113142 [==============================] - 0s - loss: 0.0666 - mean_absolute_error: 0.0666 - val_loss: 0.0678 - val_mean_absolute_error: 0.0678\n",
      "Epoch 24/50\n",
      "113142/113142 [==============================] - 1s - loss: 0.0663 - mean_absolute_error: 0.0663 - val_loss: 0.0638 - val_mean_absolute_error: 0.0638\n",
      "Epoch 25/50\n",
      "113142/113142 [==============================] - 1s - loss: 0.0656 - mean_absolute_error: 0.0656 - val_loss: 0.0674 - val_mean_absolute_error: 0.0674\n",
      "Epoch 26/50\n",
      "113142/113142 [==============================] - 0s - loss: 0.0653 - mean_absolute_error: 0.0653 - val_loss: 0.0651 - val_mean_absolute_error: 0.0651\n",
      "Epoch 27/50\n",
      "113142/113142 [==============================] - 1s - loss: 0.0646 - mean_absolute_error: 0.0646 - val_loss: 0.0645 - val_mean_absolute_error: 0.0645\n",
      "Epoch 28/50\n",
      "113142/113142 [==============================] - 1s - loss: 0.0638 - mean_absolute_error: 0.0638 - val_loss: 0.0672 - val_mean_absolute_error: 0.0672\n",
      "Epoch 29/50\n",
      "113142/113142 [==============================] - 1s - loss: 0.0629 - mean_absolute_error: 0.0629 - val_loss: 0.0625 - val_mean_absolute_error: 0.0625\n",
      "Epoch 30/50\n",
      "113142/113142 [==============================] - 1s - loss: 0.0618 - mean_absolute_error: 0.0618 - val_loss: 0.0572 - val_mean_absolute_error: 0.0572\n",
      "Epoch 31/50\n",
      "113142/113142 [==============================] - 1s - loss: 0.0603 - mean_absolute_error: 0.0603 - val_loss: 0.0586 - val_mean_absolute_error: 0.0586\n",
      "Epoch 32/50\n",
      "113142/113142 [==============================] - 1s - loss: 0.0585 - mean_absolute_error: 0.0585 - val_loss: 0.0629 - val_mean_absolute_error: 0.0629\n",
      "Epoch 33/50\n",
      "113142/113142 [==============================] - 1s - loss: 0.0564 - mean_absolute_error: 0.0564 - val_loss: 0.0536 - val_mean_absolute_error: 0.0536\n",
      "Epoch 34/50\n",
      "113142/113142 [==============================] - 1s - loss: 0.0534 - mean_absolute_error: 0.0534 - val_loss: 0.0505 - val_mean_absolute_error: 0.0505\n",
      "Epoch 35/50\n",
      "113142/113142 [==============================] - 1s - loss: 0.0500 - mean_absolute_error: 0.0500 - val_loss: 0.0448 - val_mean_absolute_error: 0.0448\n",
      "Epoch 36/50\n",
      "113142/113142 [==============================] - 1s - loss: 0.0463 - mean_absolute_error: 0.0463 - val_loss: 0.0414 - val_mean_absolute_error: 0.0414\n",
      "Epoch 37/50\n",
      "113142/113142 [==============================] - 1s - loss: 0.0433 - mean_absolute_error: 0.0433 - val_loss: 0.0378 - val_mean_absolute_error: 0.0378\n",
      "Epoch 38/50\n",
      "113142/113142 [==============================] - 1s - loss: 0.0409 - mean_absolute_error: 0.0409 - val_loss: 0.0419 - val_mean_absolute_error: 0.0419\n",
      "Epoch 39/50\n",
      "113142/113142 [==============================] - 1s - loss: 0.0395 - mean_absolute_error: 0.0395 - val_loss: 0.0390 - val_mean_absolute_error: 0.0390\n",
      "Epoch 40/50\n",
      "113142/113142 [==============================] - 1s - loss: 0.0386 - mean_absolute_error: 0.0386 - val_loss: 0.0373 - val_mean_absolute_error: 0.0373\n",
      "Epoch 41/50\n",
      "113142/113142 [==============================] - 1s - loss: 0.0379 - mean_absolute_error: 0.0379 - val_loss: 0.0413 - val_mean_absolute_error: 0.0413\n",
      "Epoch 42/50\n",
      "113142/113142 [==============================] - 1s - loss: 0.0375 - mean_absolute_error: 0.0375 - val_loss: 0.0392 - val_mean_absolute_error: 0.0392\n",
      "Epoch 43/50\n",
      "113142/113142 [==============================] - 1s - loss: 0.0372 - mean_absolute_error: 0.0372 - val_loss: 0.0397 - val_mean_absolute_error: 0.0397\n",
      "Epoch 44/50\n",
      "113142/113142 [==============================] - 0s - loss: 0.0369 - mean_absolute_error: 0.0369 - val_loss: 0.0371 - val_mean_absolute_error: 0.0371\n",
      "Epoch 45/50\n",
      "113142/113142 [==============================] - 1s - loss: 0.0367 - mean_absolute_error: 0.0367 - val_loss: 0.0406 - val_mean_absolute_error: 0.0406\n",
      "Epoch 46/50\n",
      "113142/113142 [==============================] - 1s - loss: 0.0366 - mean_absolute_error: 0.0366 - val_loss: 0.0415 - val_mean_absolute_error: 0.0415\n",
      "Epoch 47/50\n",
      "113142/113142 [==============================] - 0s - loss: 0.0363 - mean_absolute_error: 0.0363 - val_loss: 0.0385 - val_mean_absolute_error: 0.0385\n",
      "Epoch 48/50\n",
      "113142/113142 [==============================] - 0s - loss: 0.0361 - mean_absolute_error: 0.0361 - val_loss: 0.0387 - val_mean_absolute_error: 0.0387\n",
      "Epoch 49/50\n",
      "113142/113142 [==============================] - 0s - loss: 0.0359 - mean_absolute_error: 0.0359 - val_loss: 0.0385 - val_mean_absolute_error: 0.0385\n",
      "Epoch 50/50\n",
      "113142/113142 [==============================] - 0s - loss: 0.0357 - mean_absolute_error: 0.0357 - val_loss: 0.0399 - val_mean_absolute_error: 0.0399\n"
     ]
    }
   ],
   "source": [
    "model2 = Sequential()\n",
    "model2.add(Dense(units=64, input_shape = (13,),activation='sigmoid',name='layer1'))\n",
    "model2.add(Dense(units=32, activation='sigmoid',name='layer2'))\n",
    "model2.add(Dense(units=16,name='layer3',activation='sigmoid'))\n",
    "model2.add(Dense(units=8,name='layer4',activation='sigmoid'))\n",
    "model2.add(Dense(units=1,name='layer5'))\n",
    "# model2.add(Dense(units=4,name='layer5',activation='sigmoid'))\n",
    "# model2.add(Dense(units=1,name='layer6'))\n",
    "model2.compile(loss='mean_absolute_error',\n",
    "              optimizer='rmsprop',\n",
    "              metrics=['mae'])\n",
    "history=model2.fit(x = train_x,y = train_y, validation_data = (eval_x,eval_y), epochs=50, batch_size=1000)\n",
    "\n",
    "#########################################################################\n"
   ]
  },
  {
   "cell_type": "code",
   "execution_count": 49,
   "metadata": {},
   "outputs": [
    {
     "data": {
      "image/png": "[encoded data removed]",
      "text/plain": [
       "<Figure size 432x288 with 1 Axes>"
      ]
     },
     "metadata": {},
     "output_type": "display_data"
    }
   ],
   "source": [
    "########################################################################\n",
    "# 绘制训练 & 验证的损失值\n",
    "plt.plot(history.history['loss'])\n",
    "plt.plot(history.history['val_loss'])\n",
    "plt.title('Model2 loss')\n",
    "plt.ylabel('Loss')\n",
    "plt.xlabel('Epoch')\n",
    "plt.legend(['Train', 'Test'], loc='upper left')\n",
    "plt.show()"
   ]
  },
  {
   "cell_type": "markdown",
   "metadata": {},
   "source": [
    "# dense_model3 with activation,bias"
   ]
  },
  {
   "cell_type": "code",
   "execution_count": 40,
   "metadata": {},
   "outputs": [
    {
     "name": "stdout",
     "output_type": "stream",
     "text": [
      "Train on 113142 samples, validate on 28286 samples\n",
      "Epoch 1/50\n",
      "113142/113142 [==============================] - 1s - loss: 0.2374 - mean_absolute_error: 0.2374 - val_loss: 0.2148 - val_mean_absolute_error: 0.2148\n",
      "Epoch 2/50\n",
      "113142/113142 [==============================] - 1s - loss: 0.2057 - mean_absolute_error: 0.2057 - val_loss: 0.1919 - val_mean_absolute_error: 0.1919\n",
      "Epoch 3/50\n",
      "113142/113142 [==============================] - 1s - loss: 0.1578 - mean_absolute_error: 0.1578 - val_loss: 0.1148 - val_mean_absolute_error: 0.1148\n",
      "Epoch 4/50\n",
      "113142/113142 [==============================] - 1s - loss: 0.0875 - mean_absolute_error: 0.0875 - val_loss: 0.0801 - val_mean_absolute_error: 0.0801\n",
      "Epoch 5/50\n",
      "113142/113142 [==============================] - 0s - loss: 0.0784 - mean_absolute_error: 0.0784 - val_loss: 0.0733 - val_mean_absolute_error: 0.0733\n",
      "Epoch 6/50\n",
      "113142/113142 [==============================] - 1s - loss: 0.0762 - mean_absolute_error: 0.0762 - val_loss: 0.0710 - val_mean_absolute_error: 0.0710\n",
      "Epoch 7/50\n",
      "113142/113142 [==============================] - 0s - loss: 0.0744 - mean_absolute_error: 0.0744 - val_loss: 0.0758 - val_mean_absolute_error: 0.0758\n",
      "Epoch 8/50\n",
      "113142/113142 [==============================] - 0s - loss: 0.0729 - mean_absolute_error: 0.0729 - val_loss: 0.0691 - val_mean_absolute_error: 0.0691\n",
      "Epoch 9/50\n",
      "113142/113142 [==============================] - 0s - loss: 0.0716 - mean_absolute_error: 0.0716 - val_loss: 0.0708 - val_mean_absolute_error: 0.0708\n",
      "Epoch 10/50\n",
      "113142/113142 [==============================] - 1s - loss: 0.0704 - mean_absolute_error: 0.0704 - val_loss: 0.0703 - val_mean_absolute_error: 0.0703\n",
      "Epoch 11/50\n",
      "113142/113142 [==============================] - 0s - loss: 0.0698 - mean_absolute_error: 0.0698 - val_loss: 0.0696 - val_mean_absolute_error: 0.0696\n",
      "Epoch 12/50\n",
      "113142/113142 [==============================] - 1s - loss: 0.0693 - mean_absolute_error: 0.0693 - val_loss: 0.0645 - val_mean_absolute_error: 0.0645\n",
      "Epoch 13/50\n",
      "113142/113142 [==============================] - 1s - loss: 0.0687 - mean_absolute_error: 0.0687 - val_loss: 0.0668 - val_mean_absolute_error: 0.0668\n",
      "Epoch 14/50\n",
      "113142/113142 [==============================] - 0s - loss: 0.0683 - mean_absolute_error: 0.0683 - val_loss: 0.0718 - val_mean_absolute_error: 0.0718\n",
      "Epoch 15/50\n",
      "113142/113142 [==============================] - 0s - loss: 0.0679 - mean_absolute_error: 0.0679 - val_loss: 0.0683 - val_mean_absolute_error: 0.0683\n",
      "Epoch 16/50\n",
      "113142/113142 [==============================] - 1s - loss: 0.0674 - mean_absolute_error: 0.0674 - val_loss: 0.0674 - val_mean_absolute_error: 0.0674\n",
      "Epoch 17/50\n",
      "113142/113142 [==============================] - 1s - loss: 0.0670 - mean_absolute_error: 0.0670 - val_loss: 0.0656 - val_mean_absolute_error: 0.0656\n",
      "Epoch 18/50\n",
      "113142/113142 [==============================] - 1s - loss: 0.0664 - mean_absolute_error: 0.0664 - val_loss: 0.0670 - val_mean_absolute_error: 0.0670\n",
      "Epoch 19/50\n",
      "113142/113142 [==============================] - 1s - loss: 0.0662 - mean_absolute_error: 0.0662 - val_loss: 0.0685 - val_mean_absolute_error: 0.0685\n",
      "Epoch 20/50\n",
      "113142/113142 [==============================] - 0s - loss: 0.0654 - mean_absolute_error: 0.0654 - val_loss: 0.0641 - val_mean_absolute_error: 0.0641\n",
      "Epoch 21/50\n",
      "113142/113142 [==============================] - 0s - loss: 0.0648 - mean_absolute_error: 0.0648 - val_loss: 0.0654 - val_mean_absolute_error: 0.0654\n",
      "Epoch 22/50\n",
      "113142/113142 [==============================] - 1s - loss: 0.0640 - mean_absolute_error: 0.0640 - val_loss: 0.0641 - val_mean_absolute_error: 0.0641\n",
      "Epoch 23/50\n",
      "113142/113142 [==============================] - 0s - loss: 0.0631 - mean_absolute_error: 0.0631 - val_loss: 0.0594 - val_mean_absolute_error: 0.0594\n",
      "Epoch 24/50\n",
      "113142/113142 [==============================] - 1s - loss: 0.0621 - mean_absolute_error: 0.0621 - val_loss: 0.0580 - val_mean_absolute_error: 0.0580\n",
      "Epoch 25/50\n",
      "113142/113142 [==============================] - 1s - loss: 0.0605 - mean_absolute_error: 0.0605 - val_loss: 0.0603 - val_mean_absolute_error: 0.0603\n",
      "Epoch 26/50\n",
      "113142/113142 [==============================] - 1s - loss: 0.0588 - mean_absolute_error: 0.0588 - val_loss: 0.0560 - val_mean_absolute_error: 0.0560\n",
      "Epoch 27/50\n",
      "113142/113142 [==============================] - 1s - loss: 0.0567 - mean_absolute_error: 0.0567 - val_loss: 0.0556 - val_mean_absolute_error: 0.0556\n",
      "Epoch 28/50\n",
      "113142/113142 [==============================] - 1s - loss: 0.0540 - mean_absolute_error: 0.0540 - val_loss: 0.0531 - val_mean_absolute_error: 0.0531\n",
      "Epoch 29/50\n",
      "113142/113142 [==============================] - 1s - loss: 0.0507 - mean_absolute_error: 0.0507 - val_loss: 0.0530 - val_mean_absolute_error: 0.0530\n",
      "Epoch 30/50\n",
      "113142/113142 [==============================] - 1s - loss: 0.0476 - mean_absolute_error: 0.0476 - val_loss: 0.0461 - val_mean_absolute_error: 0.0461\n",
      "Epoch 31/50\n",
      "113142/113142 [==============================] - 1s - loss: 0.0448 - mean_absolute_error: 0.0448 - val_loss: 0.0424 - val_mean_absolute_error: 0.0424\n",
      "Epoch 32/50\n",
      "113142/113142 [==============================] - 1s - loss: 0.0429 - mean_absolute_error: 0.0429 - val_loss: 0.0427 - val_mean_absolute_error: 0.0427\n",
      "Epoch 33/50\n",
      "113142/113142 [==============================] - 1s - loss: 0.0415 - mean_absolute_error: 0.0415 - val_loss: 0.0415 - val_mean_absolute_error: 0.0415\n",
      "Epoch 34/50\n",
      "113142/113142 [==============================] - 1s - loss: 0.0406 - mean_absolute_error: 0.0406 - val_loss: 0.0451 - val_mean_absolute_error: 0.0451\n",
      "Epoch 35/50\n",
      "113142/113142 [==============================] - 1s - loss: 0.0399 - mean_absolute_error: 0.0399 - val_loss: 0.0383 - val_mean_absolute_error: 0.0383\n",
      "Epoch 36/50\n",
      "113142/113142 [==============================] - 1s - loss: 0.0392 - mean_absolute_error: 0.0392 - val_loss: 0.0437 - val_mean_absolute_error: 0.0437\n",
      "Epoch 37/50\n",
      "113142/113142 [==============================] - 1s - loss: 0.0387 - mean_absolute_error: 0.0387 - val_loss: 0.0423 - val_mean_absolute_error: 0.0423\n",
      "Epoch 38/50\n",
      "113142/113142 [==============================] - 1s - loss: 0.0383 - mean_absolute_error: 0.0383 - val_loss: 0.0417 - val_mean_absolute_error: 0.0417\n",
      "Epoch 39/50\n",
      "113142/113142 [==============================] - 1s - loss: 0.0380 - mean_absolute_error: 0.0380 - val_loss: 0.0421 - val_mean_absolute_error: 0.0421\n",
      "Epoch 40/50\n",
      "113142/113142 [==============================] - 0s - loss: 0.0376 - mean_absolute_error: 0.0376 - val_loss: 0.0370 - val_mean_absolute_error: 0.0370\n",
      "Epoch 41/50\n",
      "113142/113142 [==============================] - 0s - loss: 0.0374 - mean_absolute_error: 0.0374 - val_loss: 0.0359 - val_mean_absolute_error: 0.0359\n",
      "Epoch 42/50\n",
      "113142/113142 [==============================] - 0s - loss: 0.0371 - mean_absolute_error: 0.0371 - val_loss: 0.0414 - val_mean_absolute_error: 0.0414\n",
      "Epoch 43/50\n",
      "113142/113142 [==============================] - 1s - loss: 0.0368 - mean_absolute_error: 0.0368 - val_loss: 0.0386 - val_mean_absolute_error: 0.0386\n",
      "Epoch 44/50\n",
      "113142/113142 [==============================] - 1s - loss: 0.0365 - mean_absolute_error: 0.0365 - val_loss: 0.0378 - val_mean_absolute_error: 0.0378\n",
      "Epoch 45/50\n",
      "113142/113142 [==============================] - 1s - loss: 0.0363 - mean_absolute_error: 0.0363 - val_loss: 0.0379 - val_mean_absolute_error: 0.0379\n",
      "Epoch 46/50\n",
      "113142/113142 [==============================] - 0s - loss: 0.0361 - mean_absolute_error: 0.0361 - val_loss: 0.0364 - val_mean_absolute_error: 0.0364\n",
      "Epoch 47/50\n",
      "113142/113142 [==============================] - 0s - loss: 0.0359 - mean_absolute_error: 0.0359 - val_loss: 0.0345 - val_mean_absolute_error: 0.0345\n",
      "Epoch 48/50\n",
      "113142/113142 [==============================] - 1s - loss: 0.0357 - mean_absolute_error: 0.0357 - val_loss: 0.0368 - val_mean_absolute_error: 0.0368\n",
      "Epoch 49/50\n",
      "113142/113142 [==============================] - 0s - loss: 0.0355 - mean_absolute_error: 0.0355 - val_loss: 0.0393 - val_mean_absolute_error: 0.0393\n",
      "Epoch 50/50\n",
      "113142/113142 [==============================] - 0s - loss: 0.0353 - mean_absolute_error: 0.0353 - val_loss: 0.0366 - val_mean_absolute_error: 0.0366\n"
     ]
    }
   ],
   "source": [
    "model3 = Sequential()\n",
    "model3.add(Dense(units=64, input_shape = (13,),activation='sigmoid',name='layer1',use_bias = True))\n",
    "model3.add(Dense(units=32,activation='sigmoid',name='layer2',use_bias = True))\n",
    "model3.add(Dense(units=16,name='layer3',activation='sigmoid',use_bias = True))\n",
    "model3.add(Dense(units=8,name='layer4',activation='sigmoid',use_bias = True))\n",
    "model3.add(Dense(units=1,name='layer5'))\n",
    "model3.compile(loss='mean_absolute_error',\n",
    "              optimizer='rmsprop',\n",
    "              metrics=['mae'])\n",
    "history=model3.fit(x = train_x,y = train_y, validation_data = (eval_x,eval_y), epochs=50, batch_size=1000)\n",
    "############################################################################################################"
   ]
  },
  {
   "cell_type": "code",
   "execution_count": 41,
   "metadata": {},
   "outputs": [
    {
     "data": {
      "image/png": "[encoded data removed]",
      "text/plain": [
       "<Figure size 432x288 with 1 Axes>"
      ]
     },
     "metadata": {},
     "output_type": "display_data"
    }
   ],
   "source": [
    "########################################################################\n",
    "# 绘制训练 & 验证的损失值\n",
    "plt.plot(history.history['loss'])\n",
    "plt.plot(history.history['val_loss'])\n",
    "plt.title('Model3 loss')\n",
    "plt.ylabel('Loss')\n",
    "plt.xlabel('Epoch')\n",
    "plt.legend(['Train', 'Test'], loc='upper left')\n",
    "plt.show()"
   ]
  },
  {
   "cell_type": "markdown",
   "metadata": {},
   "source": [
    "# 结果对比"
   ]
  },
  {
   "cell_type": "code",
   "execution_count": 51,
   "metadata": {
    "scrolled": true
   },
   "outputs": [
    {
     "name": "stdout",
     "output_type": "stream",
     "text": [
      "Model1 \n",
      "Train Score: 0.54 RMSE\n",
      "Test Score: 1.35 RMSE\n",
      "Model2 \n",
      "Train Score: 0.61 RMSE\n",
      "Test Score: 1.27 RMSE\n",
      "Model3 \n",
      "Train Score: 0.61 RMSE\n",
      "Test Score: 1.29 RMSE\n"
     ]
    }
   ],
   "source": [
    "################预测训练集和测试集####################\n",
    "######### 模型 1 #########\n",
    "trainPredictM1 = model1.predict(train_x)\n",
    "testPredictM1 = model1.predict(test_x)\n",
    "######### 模型 2 #########\n",
    "trainPredictM2 = model2.predict(train_x)\n",
    "testPredictM2 = model2.predict(test_x)\n",
    "######### 模型 3 ##########\n",
    "trainPredictM3 = model3.predict(train_x)\n",
    "testPredictM3 = model3.predict(test_x)\n",
    "\n",
    "############################## 反归一化 ##############################\n",
    "\n",
    "###################### 训练集反归一化 #######################\n",
    "######预测值 模型1 #######\n",
    "inv_trainPredict1 = concatenate((train_x[:,:],trainPredictM1), axis=1)\n",
    "inv_trainPredict1 = scaler.inverse_transform(inv_trainPredict1)\n",
    "trainPredictM1 = inv_trainPredict1[:,-1:]\n",
    "\n",
    "######预测值 模型2 #######\n",
    "inv_trainPredict2 = concatenate((train_x[:,:],trainPredictM2), axis=1)\n",
    "inv_trainPredict2 = scaler.inverse_transform(inv_trainPredict2)\n",
    "trainPredictM2 = inv_trainPredict2[:,-1:]\n",
    "\n",
    "######训练预测 模型3 #######\n",
    "inv_trainPredict3 = concatenate((train_x[:,:],trainPredictM3), axis=1)\n",
    "inv_trainPredict3 = scaler.inverse_transform(inv_trainPredict3)\n",
    "trainPredictM3 = inv_trainPredict3[:,-1:]\n",
    "\n",
    "###### 训练集真实值######\n",
    "train_y = train_y.reshape((len(train_y), 1))\n",
    "inv_train = concatenate((train_x[:,:],train_y), axis=1)\n",
    "inv_train = scaler.inverse_transform(inv_train)\n",
    "trainReal = inv_train[:,-1:]\n",
    "\n",
    "\n",
    "######################## 测试集反归一化 ########################\n",
    "###### 测试预测模型1 #######\n",
    "inv_testPredict1 = concatenate((test_x[:,:],testPredictM1), axis=1)\n",
    "inv_testPredict1 = scaler.inverse_transform(inv_testPredict1)\n",
    "testPredictM1 = inv_testPredict1[:,-1:]\n",
    "\n",
    "###### 测试预测模型2 #######\n",
    "inv_testPredict2 = concatenate((test_x[:,:],testPredictM2), axis=1)\n",
    "inv_testPredict2 = scaler.inverse_transform(inv_testPredict2)\n",
    "testPredictM2 = inv_testPredict2[:,-1:]\n",
    "\n",
    "###### 测试预测模型3 #######\n",
    "inv_testPredict3 = concatenate((test_x[:,:],testPredictM3), axis=1)\n",
    "inv_testPredict3 = scaler.inverse_transform(inv_testPredict3)\n",
    "testPredictM3 = inv_testPredict3[:,-1:]\n",
    "\n",
    "########测试集真实值############\n",
    "test_y = test_y.reshape((len(test_y), 1))\n",
    "inv_test = concatenate((test_x[:,:],test_y), axis=1)\n",
    "inv_test = scaler.inverse_transform(inv_test)\n",
    "testReal = inv_test[:,-1:]\n",
    "\n",
    "#################### 计算训练集和测试集的平均根方误差####################\n",
    "### 模型 1\n",
    "trainScoreM1 = math.sqrt(mean_squared_error(trainReal[:,0], trainPredictM1[:,0]))\n",
    "print('Model1 ')\n",
    "print('Train Score: %.2f RMSE' % (trainScoreM1))\n",
    "testScoreM1 = math.sqrt(mean_squared_error(testReal[:,0], testPredictM1[:,0]))\n",
    "print('Test Score: %.2f RMSE' % (testScoreM1))\n",
    "### 模型 2\n",
    "trainScoreM2 = math.sqrt(mean_squared_error(trainReal[:,0], trainPredictM2[:,0]))\n",
    "print('Model2 ')\n",
    "print('Train Score: %.2f RMSE' % (trainScoreM2))\n",
    "testScoreM2 = math.sqrt(mean_squared_error(testReal[:,0], testPredictM2[:,0]))\n",
    "print('Test Score: %.2f RMSE' % (testScoreM2))\n",
    "### 模型 3\n",
    "trainScoreM3 = math.sqrt(mean_squared_error(trainReal[:,0], trainPredictM3[:,0]))\n",
    "print('Model3 ')\n",
    "print('Train Score: %.2f RMSE' % (trainScoreM3))\n",
    "testScoreM3 = math.sqrt(mean_squared_error(testReal[:,0], testPredictM3[:,0]))\n",
    "print('Test Score: %.2f RMSE' % (testScoreM3))"
   ]
  },
  {
   "cell_type": "code",
   "execution_count": 53,
   "metadata": {},
   "outputs": [
    {
     "data": {
      "text/plain": [
       "<matplotlib.legend.Legend at 0x1431b344b00>"
      ]
     },
     "execution_count": 53,
     "metadata": {},
     "output_type": "execute_result"
    },
    {
     "data": {
      "image/png": "[encoded data removed]",
      "text/plain": [
       "<Figure size 432x288 with 1 Axes>"
      ]
     },
     "metadata": {},
     "output_type": "display_data"
    }
   ],
   "source": [
    "#训练集和测试集 预测结果保存\n",
    "predict_train_1A = pd.DataFrame(inv_train)\n",
    "predict_train_1A.columns = ['Year', 'Month', 'Day', 'Hour', 'Minutes', 'WTC', 'WRH', 'GHR', 'DHR',\n",
    "       'WD', 'WDR', 'RGT', 'RDT', '1A Trina_power']\n",
    "\n",
    "predict_train_1A['1A_model1_predict'] = trainPredictM1\n",
    "predict_train_1A['1A_model2_predict'] = trainPredictM2\n",
    "predict_train_1A['1A_model3_predict'] = trainPredictM3\n",
    "\n",
    "predict_train_1A.to_csv('../predict/predict_train_1A.csv',index=False)\n",
    "#真实值和预测值对比图\n",
    "plt.plot(trainReal,label='Real')\n",
    "plt.plot(trainPredictM1,label='M1Predicition')\n",
    "plt.plot(trainPredictM2,label='M2Predicition')\n",
    "plt.plot(trainPredictM3,label='M3Predicition')\n",
    "\n",
    "plt.title('Prediction train')\n",
    "plt.ylabel('Power')\n",
    "plt.xlabel('Time')\n",
    "# plt.plot(y_rr_,label='rr')\n",
    "# plt.plot(y_lasso_,label='lasso')\n",
    "plt.legend() "
   ]
  },
  {
   "cell_type": "code",
   "execution_count": 54,
   "metadata": {},
   "outputs": [
    {
     "data": {
      "text/plain": [
       "<matplotlib.legend.Legend at 0x1431b3b5390>"
      ]
     },
     "execution_count": 54,
     "metadata": {},
     "output_type": "execute_result"
    },
    {
     "data": {
      "image/png": "[encoded data removed]",
      "text/plain": [
       "<Figure size 432x288 with 1 Axes>"
      ]
     },
     "metadata": {},
     "output_type": "display_data"
    }
   ],
   "source": [
    "#训练集和测试集 预测结果保存\n",
    "predict_1A = pd.DataFrame(inv_test)\n",
    "predict_1A.columns = ['Year', 'Month', 'Day', 'Hour', 'Minutes', 'WTC', 'WRH', 'GHR', 'DHR',\n",
    "       'WD', 'WDR', 'RGT', 'RDT', '1A Trina_power']\n",
    "\n",
    "predict_1A['1A_model1_predict'] = testPredictM1\n",
    "predict_1A['1A_model2_predict'] = testPredictM2\n",
    "predict_1A['1A_model3_predict'] = testPredictM3\n",
    "\n",
    "predict_1A.to_csv('../predict/predict_1A.csv',index=False)\n",
    "#真实值和预测值对比图\n",
    "plt.plot(testReal,label='Real')\n",
    "plt.plot(testPredictM1,label='M1Predicition')\n",
    "plt.plot(testPredictM2,label='M2Predicition')\n",
    "plt.plot(testPredictM3,label='M3Predicition')\n",
    "\n",
    "plt.title('Prediction test')\n",
    "plt.ylabel('Power')\n",
    "plt.xlabel('Time')\n",
    "# plt.plot(y_rr_,label='rr')\n",
    "# plt.plot(y_lasso_,label='lasso')\n",
    "plt.legend() "
   ]
  },
  {
   "cell_type": "code",
   "execution_count": 44,
   "metadata": {},
   "outputs": [],
   "source": [
    "# mse_test=np.sum((test_y - testPredict)**2)/ len(test_y)\n",
    "# rmse_test=np.sqrt(mse_test)\n",
    "# print(\"MSE:\",mse_test)\n",
    "# print(\"RMSE:\",rmse_test)"
   ]
  },
  {
   "cell_type": "markdown",
   "metadata": {},
   "source": [
    "画出例如2020年1月20号的预测图"
   ]
  },
  {
   "cell_type": "code",
   "execution_count": 45,
   "metadata": {
    "scrolled": true
   },
   "outputs": [
    {
     "data": {
      "text/plain": [
       "Index(['Year', 'Month', 'Day', 'Hour', 'Minutes', 'WTC', 'WRH', 'GHR', 'DHR',\n",
       "       'WD', 'WDR', 'RGT', 'RDT', '1A Trina_power', '1A_model1_predict',\n",
       "       '1A_model2_predict', '1A_model3_predict'],\n",
       "      dtype='object')"
      ]
     },
     "execution_count": 45,
     "metadata": {},
     "output_type": "execute_result"
    }
   ],
   "source": [
    "predict_1A.columns"
   ]
  },
  {
   "cell_type": "code",
   "execution_count": 46,
   "metadata": {},
   "outputs": [],
   "source": [
    "# from scipy.interpolate import spline\n",
    " \n",
    "# # T = np.array([6, 7, 8, 9, 10, 11, 12])\n",
    "# T=Day0120['Hour']\n",
    "# T=T.values\n",
    "# # power = np.array([1.53E+03, 5.92E+02, 2.04E+02, 7.24E+01, 2.72E+01, 1.10E+01, 4.70E+00])\n",
    "# Real=Day0120.set_index('Hour', inplace=False)['1A Trina_power']\n",
    "# Real=Real.values\n",
    "# xnew = np.linspace(T.min(),T.max(),300) #300 represents number of points to make between T.min and T.max\n",
    " \n",
    "# power_smooth = spline(T,Real,xnew)\n",
    " \n",
    "# plt.plot(xnew,power_smooth)\n",
    "# plt.show()"
   ]
  },
  {
   "cell_type": "code",
   "execution_count": 47,
   "metadata": {},
   "outputs": [
    {
     "data": {
      "text/plain": [
       "<matplotlib.legend.Legend at 0x1431a435e10>"
      ]
     },
     "execution_count": 47,
     "metadata": {},
     "output_type": "execute_result"
    },
    {
     "data": {
      "image/png": "[encoded data removed]",
      "text/plain": [
       "<Figure size 432x288 with 1 Axes>"
      ]
     },
     "metadata": {},
     "output_type": "display_data"
    }
   ],
   "source": [
    "# from scipy.interpolate import spline\n",
    "predict_1A[[\"Year\",\"Month\",\"Day\",\"Hour\",\"Minutes\"]] = predict_1A[[\"Year\",\"Month\",\"Day\",\"Hour\",\"Minutes\"]].astype(\"int\")\n",
    "\n",
    "#real_power_day = train_1.groupby('day')\n",
    "# Day0120 = predict_1A[(predict_1A['Year'] == 2020) & (predict_1A['Month'] == 1) & (predict_1A['Day'] == 20)]\n",
    "# day200120 = predict_1A.loc[predict_1A['Year'] == '2020',predict_1A['Month'] == '1',predict_1A['day'] == '20',:]\n",
    "Day0120 = predict_1A.loc[(predict_1A['Year'] == 2020) & (predict_1A['Month'] == 1) & (predict_1A['Day'] == 20),:]\n",
    "#real_power_day.set_index('time', inplace=False)\n",
    "Real=Day0120.set_index('Hour', inplace=False)['1A Trina_power']\n",
    "M1Predict=Day0120.set_index('Hour', inplace=False)['1A_model1_predict']\n",
    "M2Predict=Day0120.set_index('Hour', inplace=False)['1A_model2_predict']\n",
    "M3Predict=Day0120.set_index('Hour', inplace=False)['1A_model3_predict']\n",
    "\n",
    "fig = plt.figure()\n",
    "plt.plot(Real,label='Real')\n",
    "plt.plot(M1Predict,label='M1Predicition')\n",
    "plt.plot(M2Predict,label='M2Predicition')\n",
    "plt.plot(M3Predict,label='M3Predicition')\n",
    "\n",
    "plt.title('Prediction 2020-1-20')\n",
    "plt.ylabel('Power')\n",
    "plt.xlabel('Time')\n",
    "# plt.legend(['Train', 'Test'], loc='upper left')\n",
    "plt.legend()\n",
    "#ax = fig.add_subplot(1,1,1)\n",
    "#ax.plot(real_power_day_)\n",
    "# real_power_day_.plot()\n",
    "#real_power_day_.set_axis(['00:15:00','06:15:00','12:15:00','18:15:00'])\n",
    "#real_power_day_"
   ]
  },
  {
   "cell_type": "code",
   "execution_count": null,
   "metadata": {},
   "outputs": [],
   "source": []
  },
  {
   "cell_type": "code",
   "execution_count": null,
   "metadata": {},
   "outputs": [],
   "source": []
  }
 ],
 "metadata": {
  "kernelspec": {
   "display_name": "Python 3",
   "language": "python",
   "name": "python3"
  },
  "language_info": {
   "codemirror_mode": {
    "name": "ipython",
    "version": 3
   },
   "file_extension": ".py",
   "mimetype": "text/x-python",
   "name": "python",
   "nbconvert_exporter": "python",
   "pygments_lexer": "ipython3",
   "version": "3.6.5"
  }
 },
 "nbformat": 4,
 "nbformat_minor": 2
}
