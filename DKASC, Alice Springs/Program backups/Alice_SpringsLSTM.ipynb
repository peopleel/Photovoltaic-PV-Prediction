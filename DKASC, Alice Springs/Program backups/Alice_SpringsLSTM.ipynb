{
 "cells": [
  {
   "cell_type": "markdown",
   "metadata": {},
   "source": [
    "# DKASC_爱丽丝泉_LSTM"
   ]
  },
  {
   "cell_type": "code",
   "execution_count": 1,
   "metadata": {},
   "outputs": [
    {
     "name": "stderr",
     "output_type": "stream",
     "text": [
      "C:\\ProgramData\\Anaconda3\\lib\\site-packages\\tensorflow\\python\\framework\\dtypes.py:469: FutureWarning: Passing (type, 1) or '1type' as a synonym of type is deprecated; in a future version of numpy, it will be understood as (type, (1,)) / '(1,)type'.\n",
      "  _np_qint8 = np.dtype([(\"qint8\", np.int8, 1)])\n",
      "C:\\ProgramData\\Anaconda3\\lib\\site-packages\\tensorflow\\python\\framework\\dtypes.py:470: FutureWarning: Passing (type, 1) or '1type' as a synonym of type is deprecated; in a future version of numpy, it will be understood as (type, (1,)) / '(1,)type'.\n",
      "  _np_quint8 = np.dtype([(\"quint8\", np.uint8, 1)])\n",
      "C:\\ProgramData\\Anaconda3\\lib\\site-packages\\tensorflow\\python\\framework\\dtypes.py:471: FutureWarning: Passing (type, 1) or '1type' as a synonym of type is deprecated; in a future version of numpy, it will be understood as (type, (1,)) / '(1,)type'.\n",
      "  _np_qint16 = np.dtype([(\"qint16\", np.int16, 1)])\n",
      "C:\\ProgramData\\Anaconda3\\lib\\site-packages\\tensorflow\\python\\framework\\dtypes.py:472: FutureWarning: Passing (type, 1) or '1type' as a synonym of type is deprecated; in a future version of numpy, it will be understood as (type, (1,)) / '(1,)type'.\n",
      "  _np_quint16 = np.dtype([(\"quint16\", np.uint16, 1)])\n",
      "C:\\ProgramData\\Anaconda3\\lib\\site-packages\\tensorflow\\python\\framework\\dtypes.py:473: FutureWarning: Passing (type, 1) or '1type' as a synonym of type is deprecated; in a future version of numpy, it will be understood as (type, (1,)) / '(1,)type'.\n",
      "  _np_qint32 = np.dtype([(\"qint32\", np.int32, 1)])\n",
      "C:\\ProgramData\\Anaconda3\\lib\\site-packages\\tensorflow\\python\\framework\\dtypes.py:476: FutureWarning: Passing (type, 1) or '1type' as a synonym of type is deprecated; in a future version of numpy, it will be understood as (type, (1,)) / '(1,)type'.\n",
      "  np_resource = np.dtype([(\"resource\", np.ubyte, 1)])\n",
      "C:\\ProgramData\\Anaconda3\\lib\\site-packages\\h5py\\__init__.py:36: FutureWarning: Conversion of the second argument of issubdtype from `float` to `np.floating` is deprecated. In future, it will be treated as `np.float64 == np.dtype(float).type`.\n",
      "  from ._conv import register_converters as _register_converters\n",
      "Using TensorFlow backend.\n"
     ]
    }
   ],
   "source": [
    "import os\n",
    "import random\n",
    "import pandas as pd\n",
    "import numpy as np\n",
    "import matplotlib.pyplot as plt\n",
    "import math\n",
    "import tensorflow as tf\n",
    "import keras\n",
    "import catboost as cb\n",
    "from pandas import read_csv\n",
    "from math import sqrt\n",
    "from numpy import concatenate\n",
    "from keras.models import Sequential\n",
    "from keras.layers import Dense\n",
    "from keras.layers import Dropout\n",
    "from keras.layers import LSTM\n",
    "from sklearn.preprocessing import MinMaxScaler\n",
    "from sklearn.metrics import mean_squared_error\n",
    "from keras.layers.core import Dense, Activation, Dropout\n",
    "%matplotlib inline"
   ]
  },
  {
   "cell_type": "code",
   "execution_count": 2,
   "metadata": {},
   "outputs": [],
   "source": [
    "import os\n",
    "os.environ[\"CUDA_VISIBLE_DEVICES\"] = \"0\"\n",
    "config = tf.ConfigProto(allow_soft_placement = True)\n",
    "gpu_options = tf.GPUOptions(per_process_gpu_memory_fraction = 0.5)\n",
    "config.gpu_options.allow_growth = True\n",
    "sess0 = tf.InteractiveSession(config = config)"
   ]
  },
  {
   "cell_type": "code",
   "execution_count": 3,
   "metadata": {},
   "outputs": [
    {
     "name": "stdout",
     "output_type": "stream",
     "text": [
      "E:\\Research Project\\DKASC, Alice Springs\n"
     ]
    }
   ],
   "source": [
    "print(os.getcwd()) # 打印当前工作目录"
   ]
  },
  {
   "cell_type": "code",
   "execution_count": 4,
   "metadata": {},
   "outputs": [
    {
     "data": {
      "text/plain": [
       "['.ipynb_checkpoints',\n",
       " '101-Site_DKA-WeatherStation',\n",
       " '96-Site_DKA-MasterMeter1',\n",
       " 'Alice_SpringsLSTM.ipynb',\n",
       " 'Alice_SpringsSVM.ipynb',\n",
       " 'Alice_Springs_2016-2020',\n",
       " 'Alice_Springs数据集筛选提取.ipynb',\n",
       " 'Alice_Springs深度神经网络-WDWDR.ipynb',\n",
       " 'Alice_Springs深度神经网络.ipynb',\n",
       " 'Dataset',\n",
       " 'Predict',\n",
       " 'Program backups',\n",
       " 'temp',\n",
       " '笔记.ipynb']"
      ]
     },
     "execution_count": 4,
     "metadata": {},
     "output_type": "execute_result"
    }
   ],
   "source": [
    "os.listdir(os.getcwd())"
   ]
  },
  {
   "cell_type": "code",
   "execution_count": 5,
   "metadata": {},
   "outputs": [],
   "source": [
    "os.chdir(\"./Dataset/\")"
   ]
  },
  {
   "cell_type": "code",
   "execution_count": 6,
   "metadata": {},
   "outputs": [
    {
     "data": {
      "text/plain": [
       "['testdata.csv',\n",
       " 'test_1A.csv',\n",
       " 'traindata.csv',\n",
       " 'train_1A.csv',\n",
       " '测试集8个站点.csv',\n",
       " '训练集8个站点.csv']"
      ]
     },
     "execution_count": 6,
     "metadata": {},
     "output_type": "execute_result"
    }
   ],
   "source": [
    "os.listdir()"
   ]
  },
  {
   "cell_type": "code",
   "execution_count": 7,
   "metadata": {},
   "outputs": [],
   "source": [
    "train = pd.read_csv('train_1A.csv')\n",
    "test = pd.read_csv('test_1A.csv')"
   ]
  },
  {
   "cell_type": "code",
   "execution_count": 8,
   "metadata": {},
   "outputs": [
    {
     "name": "stdout",
     "output_type": "stream",
     "text": [
      "(141428, 14)\n",
      "(26091, 14)\n"
     ]
    }
   ],
   "source": [
    "#查看输入数据维度\n",
    "print(train.shape)\n",
    "print(test.shape)"
   ]
  },
  {
   "cell_type": "code",
   "execution_count": 9,
   "metadata": {
    "scrolled": true
   },
   "outputs": [
    {
     "data": {
      "text/html": [
       "<div>\n",
       "<style scoped>\n",
       "    .dataframe tbody tr th:only-of-type {\n",
       "        vertical-align: middle;\n",
       "    }\n",
       "\n",
       "    .dataframe tbody tr th {\n",
       "        vertical-align: top;\n",
       "    }\n",
       "\n",
       "    .dataframe thead th {\n",
       "        text-align: right;\n",
       "    }\n",
       "</style>\n",
       "<table border=\"1\" class=\"dataframe\">\n",
       "  <thead>\n",
       "    <tr style=\"text-align: right;\">\n",
       "      <th></th>\n",
       "      <th>Year</th>\n",
       "      <th>Month</th>\n",
       "      <th>Day</th>\n",
       "      <th>Hour</th>\n",
       "      <th>Minutes</th>\n",
       "      <th>WTC</th>\n",
       "      <th>WRH</th>\n",
       "      <th>GHR</th>\n",
       "      <th>DHR</th>\n",
       "      <th>WD</th>\n",
       "      <th>WDR</th>\n",
       "      <th>RGT</th>\n",
       "      <th>RDT</th>\n",
       "      <th>1A Trina_power</th>\n",
       "    </tr>\n",
       "  </thead>\n",
       "  <tbody>\n",
       "    <tr>\n",
       "      <th>0</th>\n",
       "      <td>2018</td>\n",
       "      <td>1</td>\n",
       "      <td>19</td>\n",
       "      <td>18</td>\n",
       "      <td>30</td>\n",
       "      <td>26.243799</td>\n",
       "      <td>50.889774</td>\n",
       "      <td>71.416481</td>\n",
       "      <td>67.523544</td>\n",
       "      <td>302.882996</td>\n",
       "      <td>3.6</td>\n",
       "      <td>65.268631</td>\n",
       "      <td>59.278999</td>\n",
       "      <td>0.318600</td>\n",
       "    </tr>\n",
       "    <tr>\n",
       "      <th>1</th>\n",
       "      <td>2018</td>\n",
       "      <td>1</td>\n",
       "      <td>19</td>\n",
       "      <td>18</td>\n",
       "      <td>35</td>\n",
       "      <td>26.641783</td>\n",
       "      <td>49.539795</td>\n",
       "      <td>77.177094</td>\n",
       "      <td>71.776718</td>\n",
       "      <td>246.312622</td>\n",
       "      <td>3.6</td>\n",
       "      <td>72.546944</td>\n",
       "      <td>63.134579</td>\n",
       "      <td>0.328800</td>\n",
       "    </tr>\n",
       "    <tr>\n",
       "      <th>2</th>\n",
       "      <td>2018</td>\n",
       "      <td>1</td>\n",
       "      <td>19</td>\n",
       "      <td>18</td>\n",
       "      <td>40</td>\n",
       "      <td>26.654078</td>\n",
       "      <td>53.414265</td>\n",
       "      <td>78.373489</td>\n",
       "      <td>69.008316</td>\n",
       "      <td>305.089630</td>\n",
       "      <td>3.6</td>\n",
       "      <td>76.711456</td>\n",
       "      <td>65.430550</td>\n",
       "      <td>0.334200</td>\n",
       "    </tr>\n",
       "    <tr>\n",
       "      <th>3</th>\n",
       "      <td>2018</td>\n",
       "      <td>1</td>\n",
       "      <td>19</td>\n",
       "      <td>18</td>\n",
       "      <td>45</td>\n",
       "      <td>26.439108</td>\n",
       "      <td>55.582245</td>\n",
       "      <td>78.022881</td>\n",
       "      <td>67.560181</td>\n",
       "      <td>259.662933</td>\n",
       "      <td>3.6</td>\n",
       "      <td>80.445709</td>\n",
       "      <td>66.812790</td>\n",
       "      <td>0.333133</td>\n",
       "    </tr>\n",
       "    <tr>\n",
       "      <th>4</th>\n",
       "      <td>2018</td>\n",
       "      <td>1</td>\n",
       "      <td>19</td>\n",
       "      <td>18</td>\n",
       "      <td>50</td>\n",
       "      <td>26.479477</td>\n",
       "      <td>56.173820</td>\n",
       "      <td>82.106972</td>\n",
       "      <td>73.004196</td>\n",
       "      <td>186.634705</td>\n",
       "      <td>3.6</td>\n",
       "      <td>83.035919</td>\n",
       "      <td>69.054459</td>\n",
       "      <td>0.332400</td>\n",
       "    </tr>\n",
       "  </tbody>\n",
       "</table>\n",
       "</div>"
      ],
      "text/plain": [
       "   Year  Month  Day  Hour  Minutes        WTC        WRH        GHR  \\\n",
       "0  2018      1   19    18       30  26.243799  50.889774  71.416481   \n",
       "1  2018      1   19    18       35  26.641783  49.539795  77.177094   \n",
       "2  2018      1   19    18       40  26.654078  53.414265  78.373489   \n",
       "3  2018      1   19    18       45  26.439108  55.582245  78.022881   \n",
       "4  2018      1   19    18       50  26.479477  56.173820  82.106972   \n",
       "\n",
       "         DHR          WD  WDR        RGT        RDT  1A Trina_power  \n",
       "0  67.523544  302.882996  3.6  65.268631  59.278999        0.318600  \n",
       "1  71.776718  246.312622  3.6  72.546944  63.134579        0.328800  \n",
       "2  69.008316  305.089630  3.6  76.711456  65.430550        0.334200  \n",
       "3  67.560181  259.662933  3.6  80.445709  66.812790        0.333133  \n",
       "4  73.004196  186.634705  3.6  83.035919  69.054459        0.332400  "
      ]
     },
     "execution_count": 9,
     "metadata": {},
     "output_type": "execute_result"
    }
   ],
   "source": [
    "train.head(5)"
   ]
  },
  {
   "cell_type": "code",
   "execution_count": 10,
   "metadata": {},
   "outputs": [
    {
     "data": {
      "text/html": [
       "<div>\n",
       "<style scoped>\n",
       "    .dataframe tbody tr th:only-of-type {\n",
       "        vertical-align: middle;\n",
       "    }\n",
       "\n",
       "    .dataframe tbody tr th {\n",
       "        vertical-align: top;\n",
       "    }\n",
       "\n",
       "    .dataframe thead th {\n",
       "        text-align: right;\n",
       "    }\n",
       "</style>\n",
       "<table border=\"1\" class=\"dataframe\">\n",
       "  <thead>\n",
       "    <tr style=\"text-align: right;\">\n",
       "      <th></th>\n",
       "      <th>Year</th>\n",
       "      <th>Month</th>\n",
       "      <th>Day</th>\n",
       "      <th>Hour</th>\n",
       "      <th>Minutes</th>\n",
       "      <th>WTC</th>\n",
       "      <th>WRH</th>\n",
       "      <th>GHR</th>\n",
       "      <th>DHR</th>\n",
       "      <th>WD</th>\n",
       "      <th>WDR</th>\n",
       "      <th>RGT</th>\n",
       "      <th>RDT</th>\n",
       "      <th>1A Trina_power</th>\n",
       "    </tr>\n",
       "  </thead>\n",
       "  <tbody>\n",
       "    <tr>\n",
       "      <th>0</th>\n",
       "      <td>2020</td>\n",
       "      <td>1</td>\n",
       "      <td>1</td>\n",
       "      <td>0</td>\n",
       "      <td>0</td>\n",
       "      <td>29.685360</td>\n",
       "      <td>21.727171</td>\n",
       "      <td>1.360221</td>\n",
       "      <td>1.191879</td>\n",
       "      <td>33.216167</td>\n",
       "      <td>0.0</td>\n",
       "      <td>2.958199</td>\n",
       "      <td>0.524153</td>\n",
       "      <td>0.0</td>\n",
       "    </tr>\n",
       "    <tr>\n",
       "      <th>1</th>\n",
       "      <td>2020</td>\n",
       "      <td>1</td>\n",
       "      <td>1</td>\n",
       "      <td>0</td>\n",
       "      <td>5</td>\n",
       "      <td>29.559967</td>\n",
       "      <td>21.878902</td>\n",
       "      <td>1.532208</td>\n",
       "      <td>1.460944</td>\n",
       "      <td>33.254341</td>\n",
       "      <td>0.0</td>\n",
       "      <td>3.288470</td>\n",
       "      <td>0.764565</td>\n",
       "      <td>0.0</td>\n",
       "    </tr>\n",
       "    <tr>\n",
       "      <th>2</th>\n",
       "      <td>2020</td>\n",
       "      <td>1</td>\n",
       "      <td>1</td>\n",
       "      <td>0</td>\n",
       "      <td>10</td>\n",
       "      <td>29.530006</td>\n",
       "      <td>21.859453</td>\n",
       "      <td>1.186835</td>\n",
       "      <td>1.118219</td>\n",
       "      <td>33.302616</td>\n",
       "      <td>0.0</td>\n",
       "      <td>3.253541</td>\n",
       "      <td>0.725652</td>\n",
       "      <td>0.0</td>\n",
       "    </tr>\n",
       "    <tr>\n",
       "      <th>3</th>\n",
       "      <td>2020</td>\n",
       "      <td>1</td>\n",
       "      <td>1</td>\n",
       "      <td>0</td>\n",
       "      <td>15</td>\n",
       "      <td>29.474438</td>\n",
       "      <td>21.897285</td>\n",
       "      <td>1.017349</td>\n",
       "      <td>0.824890</td>\n",
       "      <td>33.337837</td>\n",
       "      <td>0.0</td>\n",
       "      <td>3.260514</td>\n",
       "      <td>0.706365</td>\n",
       "      <td>0.0</td>\n",
       "    </tr>\n",
       "    <tr>\n",
       "      <th>4</th>\n",
       "      <td>2020</td>\n",
       "      <td>1</td>\n",
       "      <td>1</td>\n",
       "      <td>0</td>\n",
       "      <td>20</td>\n",
       "      <td>29.365288</td>\n",
       "      <td>22.085625</td>\n",
       "      <td>1.323369</td>\n",
       "      <td>1.175776</td>\n",
       "      <td>33.375069</td>\n",
       "      <td>0.0</td>\n",
       "      <td>3.148183</td>\n",
       "      <td>0.694154</td>\n",
       "      <td>0.0</td>\n",
       "    </tr>\n",
       "  </tbody>\n",
       "</table>\n",
       "</div>"
      ],
      "text/plain": [
       "   Year  Month  Day  Hour  Minutes        WTC        WRH       GHR       DHR  \\\n",
       "0  2020      1    1     0        0  29.685360  21.727171  1.360221  1.191879   \n",
       "1  2020      1    1     0        5  29.559967  21.878902  1.532208  1.460944   \n",
       "2  2020      1    1     0       10  29.530006  21.859453  1.186835  1.118219   \n",
       "3  2020      1    1     0       15  29.474438  21.897285  1.017349  0.824890   \n",
       "4  2020      1    1     0       20  29.365288  22.085625  1.323369  1.175776   \n",
       "\n",
       "          WD  WDR       RGT       RDT  1A Trina_power  \n",
       "0  33.216167  0.0  2.958199  0.524153             0.0  \n",
       "1  33.254341  0.0  3.288470  0.764565             0.0  \n",
       "2  33.302616  0.0  3.253541  0.725652             0.0  \n",
       "3  33.337837  0.0  3.260514  0.706365             0.0  \n",
       "4  33.375069  0.0  3.148183  0.694154             0.0  "
      ]
     },
     "execution_count": 10,
     "metadata": {},
     "output_type": "execute_result"
    }
   ],
   "source": [
    "test.head(5)"
   ]
  },
  {
   "cell_type": "markdown",
   "metadata": {},
   "source": [
    "# 数据预处理训练集去异常值"
   ]
  },
  {
   "cell_type": "code",
   "execution_count": 11,
   "metadata": {},
   "outputs": [
    {
     "data": {
      "text/plain": [
       "Year              0\n",
       "Month             0\n",
       "Day               0\n",
       "Hour              0\n",
       "Minutes           0\n",
       "WTC               0\n",
       "WRH               0\n",
       "GHR               0\n",
       "DHR               0\n",
       "WD                0\n",
       "WDR               0\n",
       "RGT               0\n",
       "RDT               0\n",
       "1A Trina_power    0\n",
       "dtype: int64"
      ]
     },
     "execution_count": 11,
     "metadata": {},
     "output_type": "execute_result"
    }
   ],
   "source": [
    "#使用df.isnull().sum()来获得与行数None和NaN值。\n",
    "train.isnull().sum()"
   ]
  },
  {
   "cell_type": "code",
   "execution_count": 12,
   "metadata": {},
   "outputs": [
    {
     "data": {
      "text/plain": [
       "Year              0\n",
       "Month             0\n",
       "Day               0\n",
       "Hour              0\n",
       "Minutes           0\n",
       "WTC               0\n",
       "WRH               0\n",
       "GHR               0\n",
       "DHR               0\n",
       "WD                0\n",
       "WDR               0\n",
       "RGT               0\n",
       "RDT               0\n",
       "1A Trina_power    0\n",
       "dtype: int64"
      ]
     },
     "execution_count": 12,
     "metadata": {},
     "output_type": "execute_result"
    }
   ],
   "source": [
    "test.isnull().sum()"
   ]
  },
  {
   "cell_type": "code",
   "execution_count": 13,
   "metadata": {},
   "outputs": [],
   "source": [
    "# #训练集去掉全是空值的行和列    #axis=0, how='any', thresh=None, subset=None, inplace=False)\n",
    "# # detectioncolumns=['WTC', 'WRH', 'GHR', 'DHR', 'WD', 'WDR', 'RGT', 'RDT']\n",
    "# # for i in detectioncolumns:\n",
    "# train.dropna(axis=\"index\",how='any' , inplace=True)  #删除掉全是空值的行\n",
    "# # train.dropna(axis=\"columns\", how='all', inplace=True)  #删除掉全是空值的列\n",
    "\n",
    "\n",
    "# test.dropna(axis=\"index\", how='any', inplace=True)  #删除掉全是空值的行\n",
    "# # test.dropna(axis=\"columns\", how='all', inplace=True)  #删除掉全是空值的列"
   ]
  },
  {
   "cell_type": "code",
   "execution_count": 14,
   "metadata": {},
   "outputs": [],
   "source": [
    "# #填补缺失值为均值\n",
    "# #train.ffill({\"RGT\":train['RGT'].mean()})\n",
    "# detectioncolumns=['WTC', 'WRH', 'GHR', 'DHR', 'WD', 'WDR', 'RGT', 'RDT']\n",
    "# for i in detectioncolumns:\n",
    "#     replace_NA=train[i].mean()\n",
    "#     train[i].fillna(replace_NA,inplace=True)\n",
    "# #去除测试集空值\n",
    "# for i in detectioncolumns:\n",
    "#     replace_NA=test[i].mean()\n",
    "#     test[i].fillna(replace_NA,inplace=True)\n"
   ]
  },
  {
   "cell_type": "code",
   "execution_count": 15,
   "metadata": {},
   "outputs": [
    {
     "name": "stdout",
     "output_type": "stream",
     "text": [
      "查看训练集\n",
      "    Year  Month  Day  Hour  Minutes        WTC        WRH        GHR  \\\n",
      "0  2018      1   19    18       30  26.243799  50.889774  71.416481   \n",
      "1  2018      1   19    18       35  26.641783  49.539795  77.177094   \n",
      "2  2018      1   19    18       40  26.654078  53.414265  78.373489   \n",
      "3  2018      1   19    18       45  26.439108  55.582245  78.022881   \n",
      "4  2018      1   19    18       50  26.479477  56.173820  82.106972   \n",
      "\n",
      "         DHR        RGT        RDT  1A Trina_power  \n",
      "0  67.523544  65.268631  59.278999        0.318600  \n",
      "1  71.776718  72.546944  63.134579        0.328800  \n",
      "2  69.008316  76.711456  65.430550        0.334200  \n",
      "3  67.560181  80.445709  66.812790        0.333133  \n",
      "4  73.004196  83.035919  69.054459        0.332400  \n",
      "查看测试集\n",
      "    Year  Month  Day  Hour  Minutes        WTC        WRH       GHR       DHR  \\\n",
      "0  2020      1    1     0        0  29.685360  21.727171  1.360221  1.191879   \n",
      "1  2020      1    1     0        5  29.559967  21.878902  1.532208  1.460944   \n",
      "2  2020      1    1     0       10  29.530006  21.859453  1.186835  1.118219   \n",
      "3  2020      1    1     0       15  29.474438  21.897285  1.017349  0.824890   \n",
      "4  2020      1    1     0       20  29.365288  22.085625  1.323369  1.175776   \n",
      "\n",
      "        RGT       RDT  1A Trina_power  \n",
      "0  2.958199  0.524153             0.0  \n",
      "1  3.288470  0.764565             0.0  \n",
      "2  3.253541  0.725652             0.0  \n",
      "3  3.260514  0.706365             0.0  \n",
      "4  3.148183  0.694154             0.0  \n"
     ]
    }
   ],
   "source": [
    "#去除 WD，WDR 特征\n",
    "train=train[['Year','Month','Day', 'Hour',\n",
    "       'Minutes','WTC', 'WRH', 'GHR', 'DHR', 'RGT', 'RDT', '1A Trina_power']]\n",
    "print(\"查看训练集\\n\",train.head())\n",
    "test=test[['Year','Month','Day', 'Hour',\n",
    "       'Minutes','WTC', 'WRH', 'GHR', 'DHR','RGT', 'RDT', '1A Trina_power']]\n",
    "print(\"查看测试集\\n\",test.head())"
   ]
  },
  {
   "cell_type": "code",
   "execution_count": 16,
   "metadata": {},
   "outputs": [
    {
     "data": {
      "text/plain": [
       "Index(['Year', 'Month', 'Day', 'Hour', 'Minutes', 'WTC', 'WRH', 'GHR', 'DHR',\n",
       "       'RGT', 'RDT', '1A Trina_power'],\n",
       "      dtype='object')"
      ]
     },
     "execution_count": 16,
     "metadata": {},
     "output_type": "execute_result"
    }
   ],
   "source": [
    "train.columns"
   ]
  },
  {
   "cell_type": "code",
   "execution_count": 17,
   "metadata": {},
   "outputs": [
    {
     "data": {
      "text/plain": [
       "Index(['Year', 'Month', 'Day', 'Hour', 'Minutes', 'WTC', 'WRH', 'GHR', 'DHR',\n",
       "       'RGT', 'RDT', '1A Trina_power'],\n",
       "      dtype='object')"
      ]
     },
     "execution_count": 17,
     "metadata": {},
     "output_type": "execute_result"
    }
   ],
   "source": [
    "test.columns"
   ]
  },
  {
   "cell_type": "code",
   "execution_count": 18,
   "metadata": {
    "scrolled": true
   },
   "outputs": [
    {
     "data": {
      "text/html": [
       "<div>\n",
       "<style scoped>\n",
       "    .dataframe tbody tr th:only-of-type {\n",
       "        vertical-align: middle;\n",
       "    }\n",
       "\n",
       "    .dataframe tbody tr th {\n",
       "        vertical-align: top;\n",
       "    }\n",
       "\n",
       "    .dataframe thead th {\n",
       "        text-align: right;\n",
       "    }\n",
       "</style>\n",
       "<table border=\"1\" class=\"dataframe\">\n",
       "  <thead>\n",
       "    <tr style=\"text-align: right;\">\n",
       "      <th></th>\n",
       "      <th>Year</th>\n",
       "      <th>Month</th>\n",
       "      <th>Day</th>\n",
       "      <th>Hour</th>\n",
       "      <th>Minutes</th>\n",
       "      <th>WTC</th>\n",
       "      <th>WRH</th>\n",
       "      <th>GHR</th>\n",
       "      <th>DHR</th>\n",
       "      <th>RGT</th>\n",
       "      <th>RDT</th>\n",
       "      <th>1A Trina_power</th>\n",
       "    </tr>\n",
       "  </thead>\n",
       "  <tbody>\n",
       "    <tr>\n",
       "      <th>0</th>\n",
       "      <td>2018</td>\n",
       "      <td>1</td>\n",
       "      <td>19</td>\n",
       "      <td>18</td>\n",
       "      <td>30</td>\n",
       "      <td>26.243799</td>\n",
       "      <td>50.889774</td>\n",
       "      <td>71.416481</td>\n",
       "      <td>67.523544</td>\n",
       "      <td>65.268631</td>\n",
       "      <td>59.278999</td>\n",
       "      <td>0.318600</td>\n",
       "    </tr>\n",
       "    <tr>\n",
       "      <th>1</th>\n",
       "      <td>2018</td>\n",
       "      <td>1</td>\n",
       "      <td>19</td>\n",
       "      <td>18</td>\n",
       "      <td>35</td>\n",
       "      <td>26.641783</td>\n",
       "      <td>49.539795</td>\n",
       "      <td>77.177094</td>\n",
       "      <td>71.776718</td>\n",
       "      <td>72.546944</td>\n",
       "      <td>63.134579</td>\n",
       "      <td>0.328800</td>\n",
       "    </tr>\n",
       "    <tr>\n",
       "      <th>2</th>\n",
       "      <td>2018</td>\n",
       "      <td>1</td>\n",
       "      <td>19</td>\n",
       "      <td>18</td>\n",
       "      <td>40</td>\n",
       "      <td>26.654078</td>\n",
       "      <td>53.414265</td>\n",
       "      <td>78.373489</td>\n",
       "      <td>69.008316</td>\n",
       "      <td>76.711456</td>\n",
       "      <td>65.430550</td>\n",
       "      <td>0.334200</td>\n",
       "    </tr>\n",
       "    <tr>\n",
       "      <th>3</th>\n",
       "      <td>2018</td>\n",
       "      <td>1</td>\n",
       "      <td>19</td>\n",
       "      <td>18</td>\n",
       "      <td>45</td>\n",
       "      <td>26.439108</td>\n",
       "      <td>55.582245</td>\n",
       "      <td>78.022881</td>\n",
       "      <td>67.560181</td>\n",
       "      <td>80.445709</td>\n",
       "      <td>66.812790</td>\n",
       "      <td>0.333133</td>\n",
       "    </tr>\n",
       "    <tr>\n",
       "      <th>4</th>\n",
       "      <td>2018</td>\n",
       "      <td>1</td>\n",
       "      <td>19</td>\n",
       "      <td>18</td>\n",
       "      <td>50</td>\n",
       "      <td>26.479477</td>\n",
       "      <td>56.173820</td>\n",
       "      <td>82.106972</td>\n",
       "      <td>73.004196</td>\n",
       "      <td>83.035919</td>\n",
       "      <td>69.054459</td>\n",
       "      <td>0.332400</td>\n",
       "    </tr>\n",
       "  </tbody>\n",
       "</table>\n",
       "</div>"
      ],
      "text/plain": [
       "   Year  Month  Day  Hour  Minutes        WTC        WRH        GHR  \\\n",
       "0  2018      1   19    18       30  26.243799  50.889774  71.416481   \n",
       "1  2018      1   19    18       35  26.641783  49.539795  77.177094   \n",
       "2  2018      1   19    18       40  26.654078  53.414265  78.373489   \n",
       "3  2018      1   19    18       45  26.439108  55.582245  78.022881   \n",
       "4  2018      1   19    18       50  26.479477  56.173820  82.106972   \n",
       "\n",
       "         DHR        RGT        RDT  1A Trina_power  \n",
       "0  67.523544  65.268631  59.278999        0.318600  \n",
       "1  71.776718  72.546944  63.134579        0.328800  \n",
       "2  69.008316  76.711456  65.430550        0.334200  \n",
       "3  67.560181  80.445709  66.812790        0.333133  \n",
       "4  73.004196  83.035919  69.054459        0.332400  "
      ]
     },
     "execution_count": 18,
     "metadata": {},
     "output_type": "execute_result"
    }
   ],
   "source": [
    "train.head()"
   ]
  },
  {
   "cell_type": "code",
   "execution_count": 19,
   "metadata": {},
   "outputs": [
    {
     "data": {
      "text/html": [
       "<div>\n",
       "<style scoped>\n",
       "    .dataframe tbody tr th:only-of-type {\n",
       "        vertical-align: middle;\n",
       "    }\n",
       "\n",
       "    .dataframe tbody tr th {\n",
       "        vertical-align: top;\n",
       "    }\n",
       "\n",
       "    .dataframe thead th {\n",
       "        text-align: right;\n",
       "    }\n",
       "</style>\n",
       "<table border=\"1\" class=\"dataframe\">\n",
       "  <thead>\n",
       "    <tr style=\"text-align: right;\">\n",
       "      <th></th>\n",
       "      <th>Year</th>\n",
       "      <th>Month</th>\n",
       "      <th>Day</th>\n",
       "      <th>Hour</th>\n",
       "      <th>Minutes</th>\n",
       "      <th>WTC</th>\n",
       "      <th>WRH</th>\n",
       "      <th>GHR</th>\n",
       "      <th>DHR</th>\n",
       "      <th>RGT</th>\n",
       "      <th>RDT</th>\n",
       "      <th>1A Trina_power</th>\n",
       "    </tr>\n",
       "  </thead>\n",
       "  <tbody>\n",
       "    <tr>\n",
       "      <th>0</th>\n",
       "      <td>2020</td>\n",
       "      <td>1</td>\n",
       "      <td>1</td>\n",
       "      <td>0</td>\n",
       "      <td>0</td>\n",
       "      <td>29.685360</td>\n",
       "      <td>21.727171</td>\n",
       "      <td>1.360221</td>\n",
       "      <td>1.191879</td>\n",
       "      <td>2.958199</td>\n",
       "      <td>0.524153</td>\n",
       "      <td>0.0</td>\n",
       "    </tr>\n",
       "    <tr>\n",
       "      <th>1</th>\n",
       "      <td>2020</td>\n",
       "      <td>1</td>\n",
       "      <td>1</td>\n",
       "      <td>0</td>\n",
       "      <td>5</td>\n",
       "      <td>29.559967</td>\n",
       "      <td>21.878902</td>\n",
       "      <td>1.532208</td>\n",
       "      <td>1.460944</td>\n",
       "      <td>3.288470</td>\n",
       "      <td>0.764565</td>\n",
       "      <td>0.0</td>\n",
       "    </tr>\n",
       "    <tr>\n",
       "      <th>2</th>\n",
       "      <td>2020</td>\n",
       "      <td>1</td>\n",
       "      <td>1</td>\n",
       "      <td>0</td>\n",
       "      <td>10</td>\n",
       "      <td>29.530006</td>\n",
       "      <td>21.859453</td>\n",
       "      <td>1.186835</td>\n",
       "      <td>1.118219</td>\n",
       "      <td>3.253541</td>\n",
       "      <td>0.725652</td>\n",
       "      <td>0.0</td>\n",
       "    </tr>\n",
       "    <tr>\n",
       "      <th>3</th>\n",
       "      <td>2020</td>\n",
       "      <td>1</td>\n",
       "      <td>1</td>\n",
       "      <td>0</td>\n",
       "      <td>15</td>\n",
       "      <td>29.474438</td>\n",
       "      <td>21.897285</td>\n",
       "      <td>1.017349</td>\n",
       "      <td>0.824890</td>\n",
       "      <td>3.260514</td>\n",
       "      <td>0.706365</td>\n",
       "      <td>0.0</td>\n",
       "    </tr>\n",
       "    <tr>\n",
       "      <th>4</th>\n",
       "      <td>2020</td>\n",
       "      <td>1</td>\n",
       "      <td>1</td>\n",
       "      <td>0</td>\n",
       "      <td>20</td>\n",
       "      <td>29.365288</td>\n",
       "      <td>22.085625</td>\n",
       "      <td>1.323369</td>\n",
       "      <td>1.175776</td>\n",
       "      <td>3.148183</td>\n",
       "      <td>0.694154</td>\n",
       "      <td>0.0</td>\n",
       "    </tr>\n",
       "  </tbody>\n",
       "</table>\n",
       "</div>"
      ],
      "text/plain": [
       "   Year  Month  Day  Hour  Minutes        WTC        WRH       GHR       DHR  \\\n",
       "0  2020      1    1     0        0  29.685360  21.727171  1.360221  1.191879   \n",
       "1  2020      1    1     0        5  29.559967  21.878902  1.532208  1.460944   \n",
       "2  2020      1    1     0       10  29.530006  21.859453  1.186835  1.118219   \n",
       "3  2020      1    1     0       15  29.474438  21.897285  1.017349  0.824890   \n",
       "4  2020      1    1     0       20  29.365288  22.085625  1.323369  1.175776   \n",
       "\n",
       "        RGT       RDT  1A Trina_power  \n",
       "0  2.958199  0.524153             0.0  \n",
       "1  3.288470  0.764565             0.0  \n",
       "2  3.253541  0.725652             0.0  \n",
       "3  3.260514  0.706365             0.0  \n",
       "4  3.148183  0.694154             0.0  "
      ]
     },
     "execution_count": 19,
     "metadata": {},
     "output_type": "execute_result"
    }
   ],
   "source": [
    "test.head()"
   ]
  },
  {
   "cell_type": "markdown",
   "metadata": {},
   "source": [
    "构建序列"
   ]
  },
  {
   "cell_type": "code",
   "execution_count": 20,
   "metadata": {},
   "outputs": [
    {
     "data": {
      "text/plain": [
       "12"
      ]
     },
     "execution_count": 20,
     "metadata": {},
     "output_type": "execute_result"
    }
   ],
   "source": [
    "train.shape[1]"
   ]
  },
  {
   "cell_type": "code",
   "execution_count": 21,
   "metadata": {},
   "outputs": [
    {
     "name": "stdout",
     "output_type": "stream",
     "text": [
      "['Year', 'Month', 'Day', 'Hour', 'Minutes', 'WTC', 'WRH', 'GHR', 'DHR', 'RGT', 'RDT', '1A Trina_power']\n"
     ]
    }
   ],
   "source": [
    "print(list(train))"
   ]
  },
  {
   "cell_type": "markdown",
   "metadata": {},
   "source": [
    "# 构建序列模型"
   ]
  },
  {
   "cell_type": "code",
   "execution_count": 22,
   "metadata": {},
   "outputs": [],
   "source": [
    "# convert series to supervised learning\n",
    "def series_to_supervised(data, n_in=1, n_out=1, dropnan=True):\n",
    "#     n_vars = 1 if type(data) is list else data.shape[1]\n",
    "    n_vars = list(data)\n",
    "    df = pd.DataFrame(data)\n",
    "    cols, names = list(), list()\n",
    "    # input sequence (t-n, ... t-1)\n",
    "    for i in range(n_in, 0, -1):\n",
    "        cols.append(df.shift(i))\n",
    "        names += [('%s(t-%d)' % (j, i)) for j in n_vars]\n",
    "    # forecast sequence (t, t+1, ... t+n)\n",
    "    for i in range(0, n_out):\n",
    "        cols.append(df.shift(-i))\n",
    "        if i == 0:\n",
    "            names += [('%s(t)' % (j) )for j in n_vars]\n",
    "        else:\n",
    "            names += [('%s(t+%d)' % (j, i)) for j in n_vars]\n",
    "    # put it all together\n",
    "    agg = pd.concat(cols, axis=1)\n",
    "    agg.columns = names\n",
    "    # drop rows with NaN values\n",
    "    if dropnan:\n",
    "        agg.dropna(inplace=True)\n",
    "    return agg"
   ]
  },
  {
   "cell_type": "code",
   "execution_count": 23,
   "metadata": {},
   "outputs": [],
   "source": [
    "train1 = series_to_supervised(train,1,1)\n",
    "test1 = series_to_supervised(test,1,1)"
   ]
  },
  {
   "cell_type": "code",
   "execution_count": 24,
   "metadata": {},
   "outputs": [
    {
     "data": {
      "text/plain": [
       "Index(['Year(t-1)', 'Month(t-1)', 'Day(t-1)', 'Hour(t-1)', 'Minutes(t-1)',\n",
       "       'WTC(t-1)', 'WRH(t-1)', 'GHR(t-1)', 'DHR(t-1)', 'RGT(t-1)', 'RDT(t-1)',\n",
       "       '1A Trina_power(t-1)', 'Year(t)', 'Month(t)', 'Day(t)', 'Hour(t)',\n",
       "       'Minutes(t)', 'WTC(t)', 'WRH(t)', 'GHR(t)', 'DHR(t)', 'RGT(t)',\n",
       "       'RDT(t)', '1A Trina_power(t)'],\n",
       "      dtype='object')"
      ]
     },
     "execution_count": 24,
     "metadata": {},
     "output_type": "execute_result"
    }
   ],
   "source": [
    "train1.columns"
   ]
  },
  {
   "cell_type": "code",
   "execution_count": 25,
   "metadata": {},
   "outputs": [
    {
     "data": {
      "text/plain": [
       "Index(['Year(t-1)', 'Month(t-1)', 'Day(t-1)', 'Hour(t-1)', 'Minutes(t-1)',\n",
       "       'WTC(t-1)', 'WRH(t-1)', 'GHR(t-1)', 'DHR(t-1)', 'RGT(t-1)', 'RDT(t-1)',\n",
       "       '1A Trina_power(t-1)', 'Year(t)', 'Month(t)', 'Day(t)', 'Hour(t)',\n",
       "       'Minutes(t)', 'WTC(t)', 'WRH(t)', 'GHR(t)', 'DHR(t)', 'RGT(t)',\n",
       "       'RDT(t)', '1A Trina_power(t)'],\n",
       "      dtype='object')"
      ]
     },
     "execution_count": 25,
     "metadata": {},
     "output_type": "execute_result"
    }
   ],
   "source": [
    "test1.columns"
   ]
  },
  {
   "cell_type": "code",
   "execution_count": 26,
   "metadata": {},
   "outputs": [],
   "source": [
    "train1.drop(train1.columns[[0,12]],axis=1,inplace=True)\n",
    "\n",
    "test1.drop(test1.columns[[0,12]],axis=1,inplace=True)"
   ]
  },
  {
   "cell_type": "markdown",
   "metadata": {},
   "source": [
    "归一化"
   ]
  },
  {
   "cell_type": "code",
   "execution_count": 27,
   "metadata": {},
   "outputs": [
    {
     "name": "stdout",
     "output_type": "stream",
     "text": [
      "(113141, 1, 21) (113141, 1) (28286, 1, 21) (28286, 1) (26090, 1, 21) (26090, 1)\n"
     ]
    }
   ],
   "source": [
    "train1 = train1.values\n",
    "train1 = train1.astype('float32')     # 将整型变为float\n",
    "scaler = MinMaxScaler(feature_range=(0, 1)) # 数据处理，归一化至0~1之间\n",
    "train1 = scaler.fit_transform(train1)\n",
    "\n",
    "test1 = test1.values\n",
    "test1 = test1.astype('float32')     # 将整型变为float\n",
    "scaler = MinMaxScaler(feature_range=(0, 1)) # 数据处理，归一化至0~1之间\n",
    "test1 = scaler.fit_transform(test1)\n",
    "\n",
    "inds = np.arange(train1.shape[0])\n",
    "train1_inds = inds[0:int(train1.shape[0]*0.8)]\n",
    "eval1_inds = inds[int(train1.shape[0]*0.8):train1.shape[0]]\n",
    "\n",
    "\n",
    "train_X, train_y = train1[train1_inds,:-1], train1[train1_inds,-1:]\n",
    "eval_X,eval_y = train1[eval1_inds,:-1], train1[eval1_inds,-1:]\n",
    "test_X, test_y = test1[:, :-1], test1[:,-1:]\n",
    "\n",
    "# reshape input to be 3D [samples, timesteps, features]\n",
    "train_X = train_X.reshape((train_X.shape[0], 1, train_X.shape[1]))\n",
    "eval_X = eval_X.reshape((eval_X.shape[0],1,eval_X.shape[1]))\n",
    "test_X = test_X.reshape((test_X.shape[0], 1, test_X.shape[1]))\n",
    "print(train_X.shape, train_y.shape,eval_X.shape,eval_y.shape, test_X.shape, test_y.shape)"
   ]
  },
  {
   "cell_type": "code",
   "execution_count": 28,
   "metadata": {
    "scrolled": true
   },
   "outputs": [
    {
     "name": "stdout",
     "output_type": "stream",
     "text": [
      "[[0.         0.6        0.7826087  ... 0.05650019 0.21471684 0.0411343 ]\n",
      " [0.         0.6        0.7826087  ... 0.05974475 0.22252293 0.04175143]\n",
      " [0.         0.6        0.7826087  ... 0.0626541  0.22722241 0.04162953]\n",
      " ...\n",
      " [1.         1.0000001  1.         ... 0.00221545 0.00174257 0.00355801]\n",
      " [1.         1.0000001  1.         ... 0.00198068 0.00122578 0.00355801]\n",
      " [1.         1.0000001  1.         ... 0.00217768 0.00139605 0.00355801]]\n"
     ]
    }
   ],
   "source": [
    "print(train1)"
   ]
  },
  {
   "cell_type": "code",
   "execution_count": 29,
   "metadata": {},
   "outputs": [
    {
     "name": "stdout",
     "output_type": "stream",
     "text": [
      "[[[0.         0.6        0.7826087  ... 0.25558963 0.05650019 0.21471684]]\n",
      "\n",
      " [[0.         0.6        0.7826087  ... 0.24573164 0.05974475 0.22252293]]\n",
      "\n",
      " [[0.         0.6        0.7826087  ... 0.24057497 0.0626541  0.22722241]]\n",
      "\n",
      " ...\n",
      "\n",
      " [[0.27272728 0.26666668 0.9130435  ... 0.00807928 0.00288026 0.0033492 ]]\n",
      "\n",
      " [[0.27272728 0.26666668 0.9130435  ... 0.00600753 0.00263039 0.00251978]]\n",
      "\n",
      " [[0.27272728 0.26666668 0.9130435  ... 0.00304714 0.00241778 0.00170415]]]\n"
     ]
    }
   ],
   "source": [
    "print(train_X)"
   ]
  },
  {
   "cell_type": "code",
   "execution_count": 30,
   "metadata": {},
   "outputs": [
    {
     "name": "stdout",
     "output_type": "stream",
     "text": [
      "[[0.0411343 ]\n",
      " [0.04175143]\n",
      " [0.04162953]\n",
      " ...\n",
      " [0.00355801]\n",
      " [0.00355801]\n",
      " [0.00355801]]\n"
     ]
    }
   ],
   "source": [
    "print(train_y)"
   ]
  },
  {
   "cell_type": "markdown",
   "metadata": {},
   "source": [
    "# LSTM model1"
   ]
  },
  {
   "cell_type": "code",
   "execution_count": 31,
   "metadata": {},
   "outputs": [
    {
     "name": "stdout",
     "output_type": "stream",
     "text": [
      "Train on 113141 samples, validate on 26090 samples\n",
      "Epoch 1/50\n",
      "19s - loss: 0.0302 - val_loss: 0.0325\n",
      "Epoch 2/50\n",
      "18s - loss: 0.0166 - val_loss: 0.0235\n",
      "Epoch 3/50\n",
      "17s - loss: 0.0154 - val_loss: 0.0204\n",
      "Epoch 4/50\n",
      "17s - loss: 0.0150 - val_loss: 0.0190\n",
      "Epoch 5/50\n",
      "17s - loss: 0.0147 - val_loss: 0.0179\n",
      "Epoch 6/50\n",
      "17s - loss: 0.0142 - val_loss: 0.0182\n",
      "Epoch 7/50\n",
      "17s - loss: 0.0141 - val_loss: 0.0163\n",
      "Epoch 8/50\n",
      "17s - loss: 0.0138 - val_loss: 0.0168\n",
      "Epoch 9/50\n",
      "17s - loss: 0.0134 - val_loss: 0.0174\n",
      "Epoch 10/50\n",
      "20s - loss: 0.0133 - val_loss: 0.0161\n",
      "Epoch 11/50\n",
      "17s - loss: 0.0127 - val_loss: 0.0152\n",
      "Epoch 12/50\n",
      "17s - loss: 0.0128 - val_loss: 0.0170\n",
      "Epoch 13/50\n",
      "17s - loss: 0.0127 - val_loss: 0.0149\n",
      "Epoch 14/50\n",
      "18s - loss: 0.0132 - val_loss: 0.0170\n",
      "Epoch 15/50\n",
      "17s - loss: 0.0122 - val_loss: 0.0157\n",
      "Epoch 16/50\n",
      "18s - loss: 0.0121 - val_loss: 0.0151\n",
      "Epoch 17/50\n",
      "18s - loss: 0.0122 - val_loss: 0.0150\n",
      "Epoch 18/50\n",
      "17s - loss: 0.0120 - val_loss: 0.0135\n",
      "Epoch 19/50\n",
      "17s - loss: 0.0118 - val_loss: 0.0151\n",
      "Epoch 20/50\n",
      "17s - loss: 0.0116 - val_loss: 0.0177\n",
      "Epoch 21/50\n",
      "18s - loss: 0.0116 - val_loss: 0.0158\n",
      "Epoch 22/50\n",
      "17s - loss: 0.0117 - val_loss: 0.0136\n",
      "Epoch 23/50\n",
      "17s - loss: 0.0118 - val_loss: 0.0157\n",
      "Epoch 24/50\n",
      "17s - loss: 0.0114 - val_loss: 0.0162\n",
      "Epoch 25/50\n",
      "17s - loss: 0.0115 - val_loss: 0.0130\n",
      "Epoch 26/50\n",
      "17s - loss: 0.0116 - val_loss: 0.0137\n",
      "Epoch 27/50\n",
      "17s - loss: 0.0114 - val_loss: 0.0141\n",
      "Epoch 28/50\n",
      "17s - loss: 0.0114 - val_loss: 0.0135\n",
      "Epoch 29/50\n",
      "17s - loss: 0.0118 - val_loss: 0.0128\n",
      "Epoch 30/50\n",
      "17s - loss: 0.0112 - val_loss: 0.0154\n",
      "Epoch 31/50\n",
      "18s - loss: 0.0111 - val_loss: 0.0146\n",
      "Epoch 32/50\n",
      "17s - loss: 0.0112 - val_loss: 0.0155\n",
      "Epoch 33/50\n",
      "17s - loss: 0.0112 - val_loss: 0.0131\n",
      "Epoch 34/50\n",
      "18s - loss: 0.0111 - val_loss: 0.0133\n",
      "Epoch 35/50\n",
      "17s - loss: 0.0108 - val_loss: 0.0117\n",
      "Epoch 36/50\n",
      "17s - loss: 0.0110 - val_loss: 0.0137\n",
      "Epoch 37/50\n",
      "18s - loss: 0.0110 - val_loss: 0.0139\n",
      "Epoch 38/50\n",
      "18s - loss: 0.0109 - val_loss: 0.0146\n",
      "Epoch 39/50\n",
      "18s - loss: 0.0109 - val_loss: 0.0173\n",
      "Epoch 40/50\n",
      "18s - loss: 0.0108 - val_loss: 0.0139\n",
      "Epoch 41/50\n",
      "18s - loss: 0.0106 - val_loss: 0.0133\n",
      "Epoch 42/50\n",
      "17s - loss: 0.0109 - val_loss: 0.0120\n",
      "Epoch 43/50\n",
      "18s - loss: 0.0106 - val_loss: 0.0129\n",
      "Epoch 44/50\n",
      "17s - loss: 0.0107 - val_loss: 0.0135\n",
      "Epoch 45/50\n",
      "17s - loss: 0.0106 - val_loss: 0.0135\n",
      "Epoch 46/50\n",
      "17s - loss: 0.0107 - val_loss: 0.0123\n",
      "Epoch 47/50\n",
      "18s - loss: 0.0106 - val_loss: 0.0137\n",
      "Epoch 48/50\n",
      "18s - loss: 0.0107 - val_loss: 0.0117\n",
      "Epoch 49/50\n",
      "18s - loss: 0.0105 - val_loss: 0.0122\n",
      "Epoch 50/50\n",
      "18s - loss: 0.0106 - val_loss: 0.0110\n"
     ]
    }
   ],
   "source": [
    "# design network\n",
    "model = Sequential()\n",
    "model.add(LSTM(50, input_shape=(train_X.shape[1], train_X.shape[2])))\n",
    "model.add(Dense(1))\n",
    "model.compile(loss='mae', optimizer='adam')\n",
    "# fit network\n",
    "history = model.fit(train_X, train_y, epochs=50, batch_size=72, validation_data=(test_X, test_y), verbose=2, shuffle=False)\n",
    "# # plot history\n",
    "# pyplot.plot(history.history['loss'], label='train')\n",
    "# pyplot.plot(history.history['val_loss'], label='test')\n",
    "# pyplot.legend()\n",
    "# pyplot.show()"
   ]
  },
  {
   "cell_type": "code",
   "execution_count": 32,
   "metadata": {},
   "outputs": [],
   "source": [
    "model1 = model"
   ]
  },
  {
   "cell_type": "markdown",
   "metadata": {},
   "source": [
    "#  LSTM Model2"
   ]
  },
  {
   "cell_type": "code",
   "execution_count": 33,
   "metadata": {},
   "outputs": [
    {
     "name": "stdout",
     "output_type": "stream",
     "text": [
      "Train on 113141 samples, validate on 28286 samples\n",
      "Epoch 1/50\n",
      "39s - loss: 0.0340 - val_loss: 0.0210\n",
      "Epoch 2/50\n",
      "37s - loss: 0.0204 - val_loss: 0.0221\n",
      "Epoch 3/50\n",
      "36s - loss: 0.0179 - val_loss: 0.0221\n",
      "Epoch 4/50\n",
      "36s - loss: 0.0155 - val_loss: 0.0242\n",
      "Epoch 5/50\n",
      "38s - loss: 0.0148 - val_loss: 0.0212\n",
      "Epoch 6/50\n",
      "37s - loss: 0.0142 - val_loss: 0.0212\n",
      "Epoch 7/50\n",
      "37s - loss: 0.0136 - val_loss: 0.0196\n",
      "Epoch 8/50\n",
      "37s - loss: 0.0134 - val_loss: 0.0197\n",
      "Epoch 9/50\n",
      "37s - loss: 0.0129 - val_loss: 0.0213\n",
      "Epoch 10/50\n",
      "37s - loss: 0.0127 - val_loss: 0.0224\n",
      "Epoch 11/50\n",
      "37s - loss: 0.0125 - val_loss: 0.0216\n",
      "Epoch 12/50\n",
      "38s - loss: 0.0123 - val_loss: 0.0206\n",
      "Epoch 13/50\n",
      "37s - loss: 0.0122 - val_loss: 0.0175\n",
      "Epoch 14/50\n",
      "37s - loss: 0.0119 - val_loss: 0.0217\n",
      "Epoch 15/50\n",
      "37s - loss: 0.0118 - val_loss: 0.0199\n",
      "Epoch 16/50\n",
      "37s - loss: 0.0117 - val_loss: 0.0222\n",
      "Epoch 17/50\n",
      "37s - loss: 0.0113 - val_loss: 0.0229\n",
      "Epoch 18/50\n",
      "38s - loss: 0.0119 - val_loss: 0.0215\n",
      "Epoch 19/50\n",
      "37s - loss: 0.0114 - val_loss: 0.0236\n",
      "Epoch 20/50\n",
      "37s - loss: 0.0114 - val_loss: 0.0236\n",
      "Epoch 21/50\n",
      "38s - loss: 0.0113 - val_loss: 0.0227\n",
      "Epoch 22/50\n",
      "37s - loss: 0.0114 - val_loss: 0.0206\n",
      "Epoch 23/50\n",
      "37s - loss: 0.0111 - val_loss: 0.0234\n",
      "Epoch 24/50\n",
      "37s - loss: 0.0108 - val_loss: 0.0219\n",
      "Epoch 25/50\n",
      "37s - loss: 0.0111 - val_loss: 0.0202\n",
      "Epoch 26/50\n",
      "37s - loss: 0.0110 - val_loss: 0.0217\n",
      "Epoch 27/50\n",
      "37s - loss: 0.0109 - val_loss: 0.0227\n",
      "Epoch 28/50\n",
      "37s - loss: 0.0108 - val_loss: 0.0221\n",
      "Epoch 29/50\n",
      "37s - loss: 0.0107 - val_loss: 0.0214\n",
      "Epoch 30/50\n",
      "37s - loss: 0.0108 - val_loss: 0.0233\n",
      "Epoch 31/50\n",
      "37s - loss: 0.0109 - val_loss: 0.0229\n",
      "Epoch 32/50\n",
      "37s - loss: 0.0105 - val_loss: 0.0243\n",
      "Epoch 33/50\n",
      "37s - loss: 0.0107 - val_loss: 0.0220\n",
      "Epoch 34/50\n",
      "37s - loss: 0.0106 - val_loss: 0.0209\n",
      "Epoch 35/50\n",
      "38s - loss: 0.0103 - val_loss: 0.0219\n",
      "Epoch 36/50\n",
      "37s - loss: 0.0106 - val_loss: 0.0213\n",
      "Epoch 37/50\n",
      "37s - loss: 0.0105 - val_loss: 0.0220\n",
      "Epoch 38/50\n",
      "37s - loss: 0.0105 - val_loss: 0.0215\n",
      "Epoch 39/50\n",
      "37s - loss: 0.0104 - val_loss: 0.0181\n",
      "Epoch 40/50\n",
      "37s - loss: 0.0104 - val_loss: 0.0215\n",
      "Epoch 41/50\n",
      "37s - loss: 0.0104 - val_loss: 0.0201\n",
      "Epoch 42/50\n",
      "38s - loss: 0.0104 - val_loss: 0.0202\n",
      "Epoch 43/50\n",
      "38s - loss: 0.0102 - val_loss: 0.0212\n",
      "Epoch 44/50\n",
      "37s - loss: 0.0103 - val_loss: 0.0195\n",
      "Epoch 45/50\n",
      "37s - loss: 0.0102 - val_loss: 0.0206\n",
      "Epoch 46/50\n",
      "37s - loss: 0.0101 - val_loss: 0.0202\n",
      "Epoch 47/50\n",
      "37s - loss: 0.0101 - val_loss: 0.0199\n",
      "Epoch 48/50\n",
      "38s - loss: 0.0101 - val_loss: 0.0194\n",
      "Epoch 49/50\n",
      "37s - loss: 0.0100 - val_loss: 0.0201\n",
      "Epoch 50/50\n",
      "37s - loss: 0.0099 - val_loss: 0.0190\n"
     ]
    }
   ],
   "source": [
    "# design network\n",
    "model = Sequential()\n",
    "model.add(LSTM(64, input_shape=(train_X.shape[1], train_X.shape[2]),return_sequences=True))\n",
    "model.add(LSTM(32,return_sequences=True))\n",
    "model.add(LSTM(16,return_sequences=False))\n",
    "model.add(Dense(units=1,activation='tanh'))\n",
    "\n",
    "# model.add(Dense(1))\n",
    "model.compile(loss='mae', optimizer='adam')\n",
    "# fit network\n",
    "history = model.fit(train_X, train_y, epochs=50, batch_size=72, validation_data=(eval_X, eval_y), verbose=2, shuffle=False)\n"
   ]
  },
  {
   "cell_type": "code",
   "execution_count": 34,
   "metadata": {},
   "outputs": [],
   "source": [
    "model2 = model"
   ]
  },
  {
   "cell_type": "code",
   "execution_count": 35,
   "metadata": {
    "scrolled": false
   },
   "outputs": [
    {
     "data": {
      "image/png": "[encoded data removed]",
      "text/plain": [
       "<Figure size 432x288 with 1 Axes>"
      ]
     },
     "metadata": {},
     "output_type": "display_data"
    }
   ],
   "source": [
    "# plot history\n",
    "plt.plot(history.history['loss'], label='train')\n",
    "plt.plot(history.history['val_loss'], label='eval')\n",
    "plt.legend()\n",
    "plt.show()"
   ]
  },
  {
   "cell_type": "code",
   "execution_count": 36,
   "metadata": {},
   "outputs": [],
   "source": [
    "def inv2(testPredictML,test_X,test_y):\n",
    "    # invert scaling for forecast\n",
    "    inv_testPredictML = concatenate((test_X[:,:],testPredictML), axis=1)\n",
    "    inv_testPredictML = scaler.inverse_transform(inv_testPredictML)\n",
    "    testPredictML = inv_testPredictML[:,-1:]\n",
    "    # invert scaling for actual\n",
    "    test_y = test_y.reshape((len(test_y), 1))\n",
    "    inv_test = concatenate((test_X[:,:],test_y), axis=1)\n",
    "    inv_test = scaler.inverse_transform(inv_test)\n",
    "    testReal = inv_test[:,-1:]\n",
    "    return testPredictML,testReal"
   ]
  },
  {
   "cell_type": "code",
   "execution_count": 37,
   "metadata": {},
   "outputs": [],
   "source": [
    "# make a prediction\n",
    "testPredictls1 = model1.predict(test_X)\n",
    "testPredictls2 = model2.predict(test_X)\n"
   ]
  },
  {
   "cell_type": "code",
   "execution_count": 38,
   "metadata": {},
   "outputs": [],
   "source": [
    "test_X = test_X.reshape((test_X.shape[0], test_X.shape[2]))\n",
    "\n",
    "testPredictls1,testReal = inv2(testPredictls1,test_X,test_y)\n",
    "testPredictls2,testReal = inv2(testPredictls2,test_X,test_y)"
   ]
  },
  {
   "cell_type": "code",
   "execution_count": 39,
   "metadata": {},
   "outputs": [
    {
     "name": "stdout",
     "output_type": "stream",
     "text": [
      "Test RMSE: 0.250\n"
     ]
    }
   ],
   "source": [
    "# calculate RMSE\n",
    "rmse = sqrt(mean_squared_error(testReal, testPredictls1))\n",
    "print('Test RMSE: %.3f' % rmse)"
   ]
  },
  {
   "cell_type": "code",
   "execution_count": 40,
   "metadata": {},
   "outputs": [
    {
     "name": "stdout",
     "output_type": "stream",
     "text": [
      "Test RMSE: 0.263\n"
     ]
    }
   ],
   "source": [
    "# calculate RMSE\n",
    "rmse = sqrt(mean_squared_error(testReal, testPredictls2))\n",
    "print('Test RMSE: %.3f' % rmse)"
   ]
  },
  {
   "cell_type": "code",
   "execution_count": null,
   "metadata": {},
   "outputs": [],
   "source": []
  },
  {
   "cell_type": "code",
   "execution_count": 41,
   "metadata": {},
   "outputs": [
    {
     "data": {
      "text/plain": [
       "<matplotlib.legend.Legend at 0x19a76f4def0>"
      ]
     },
     "execution_count": 41,
     "metadata": {},
     "output_type": "execute_result"
    },
    {
     "data": {
      "image/png": "[encoded data removed]",
      "text/plain": [
       "<Figure size 432x288 with 1 Axes>"
      ]
     },
     "metadata": {},
     "output_type": "display_data"
    }
   ],
   "source": [
    "#真实值和预测值对比图\n",
    "plt.plot(testReal,label='Real')\n",
    "plt.plot(testPredictls1,label='ls1Predicition')\n",
    "plt.plot(testPredictls2,label='ls2Predicition')\n",
    "# plt.plot(testPredictM3,label='M3Predicition')\n",
    "\n",
    "plt.title('Prediction test')\n",
    "plt.ylabel('Power')\n",
    "plt.xlabel('Time')\n",
    "# plt.plot(y_rr_,label='rr')\n",
    "# plt.plot(y_lasso_,label='lasso')\n",
    "plt.legend()  "
   ]
  },
  {
   "cell_type": "code",
   "execution_count": null,
   "metadata": {},
   "outputs": [],
   "source": []
  },
  {
   "cell_type": "code",
   "execution_count": null,
   "metadata": {},
   "outputs": [],
   "source": []
  },
  {
   "cell_type": "code",
   "execution_count": null,
   "metadata": {},
   "outputs": [],
   "source": []
  },
  {
   "cell_type": "code",
   "execution_count": 42,
   "metadata": {},
   "outputs": [
    {
     "ename": "ValueError",
     "evalue": "Error when checking : expected lstm_2_input to have 3 dimensions, but got array with shape (26090, 21)",
     "output_type": "error",
     "traceback": [
      "\u001b[1;31m---------------------------------------------------------------------------\u001b[0m",
      "\u001b[1;31mValueError\u001b[0m                                Traceback (most recent call last)",
      "\u001b[1;32m<ipython-input-42-2243fa13119e>\u001b[0m in \u001b[0;36m<module>\u001b[1;34m()\u001b[0m\n\u001b[0;32m      1\u001b[0m \u001b[1;31m# make a prediction\u001b[0m\u001b[1;33m\u001b[0m\u001b[1;33m\u001b[0m\u001b[0m\n\u001b[1;32m----> 2\u001b[1;33m \u001b[0myhat\u001b[0m \u001b[1;33m=\u001b[0m \u001b[0mmodel\u001b[0m\u001b[1;33m.\u001b[0m\u001b[0mpredict\u001b[0m\u001b[1;33m(\u001b[0m\u001b[0mtest_X\u001b[0m\u001b[1;33m)\u001b[0m\u001b[1;33m\u001b[0m\u001b[0m\n\u001b[0m\u001b[0;32m      3\u001b[0m \u001b[0mtest_X\u001b[0m \u001b[1;33m=\u001b[0m \u001b[0mtest_X\u001b[0m\u001b[1;33m.\u001b[0m\u001b[0mreshape\u001b[0m\u001b[1;33m(\u001b[0m\u001b[1;33m(\u001b[0m\u001b[0mtest_X\u001b[0m\u001b[1;33m.\u001b[0m\u001b[0mshape\u001b[0m\u001b[1;33m[\u001b[0m\u001b[1;36m0\u001b[0m\u001b[1;33m]\u001b[0m\u001b[1;33m,\u001b[0m \u001b[0mtest_X\u001b[0m\u001b[1;33m.\u001b[0m\u001b[0mshape\u001b[0m\u001b[1;33m[\u001b[0m\u001b[1;36m2\u001b[0m\u001b[1;33m]\u001b[0m\u001b[1;33m)\u001b[0m\u001b[1;33m)\u001b[0m\u001b[1;33m\u001b[0m\u001b[0m\n\u001b[0;32m      4\u001b[0m \u001b[1;31m# invert scaling for forecast\u001b[0m\u001b[1;33m\u001b[0m\u001b[1;33m\u001b[0m\u001b[0m\n\u001b[0;32m      5\u001b[0m \u001b[0minv_yhat\u001b[0m \u001b[1;33m=\u001b[0m \u001b[0mconcatenate\u001b[0m\u001b[1;33m(\u001b[0m\u001b[1;33m(\u001b[0m\u001b[0myhat\u001b[0m\u001b[1;33m,\u001b[0m \u001b[0mtest_X\u001b[0m\u001b[1;33m[\u001b[0m\u001b[1;33m:\u001b[0m\u001b[1;33m,\u001b[0m \u001b[1;36m1\u001b[0m\u001b[1;33m:\u001b[0m\u001b[1;33m]\u001b[0m\u001b[1;33m)\u001b[0m\u001b[1;33m,\u001b[0m \u001b[0maxis\u001b[0m\u001b[1;33m=\u001b[0m\u001b[1;36m1\u001b[0m\u001b[1;33m)\u001b[0m\u001b[1;33m\u001b[0m\u001b[0m\n",
      "\u001b[1;32mC:\\ProgramData\\Anaconda3\\lib\\site-packages\\keras\\models.py\u001b[0m in \u001b[0;36mpredict\u001b[1;34m(self, x, batch_size, verbose)\u001b[0m\n\u001b[0;32m    911\u001b[0m         \u001b[1;32mif\u001b[0m \u001b[1;32mnot\u001b[0m \u001b[0mself\u001b[0m\u001b[1;33m.\u001b[0m\u001b[0mbuilt\u001b[0m\u001b[1;33m:\u001b[0m\u001b[1;33m\u001b[0m\u001b[0m\n\u001b[0;32m    912\u001b[0m             \u001b[0mself\u001b[0m\u001b[1;33m.\u001b[0m\u001b[0mbuild\u001b[0m\u001b[1;33m(\u001b[0m\u001b[1;33m)\u001b[0m\u001b[1;33m\u001b[0m\u001b[0m\n\u001b[1;32m--> 913\u001b[1;33m         \u001b[1;32mreturn\u001b[0m \u001b[0mself\u001b[0m\u001b[1;33m.\u001b[0m\u001b[0mmodel\u001b[0m\u001b[1;33m.\u001b[0m\u001b[0mpredict\u001b[0m\u001b[1;33m(\u001b[0m\u001b[0mx\u001b[0m\u001b[1;33m,\u001b[0m \u001b[0mbatch_size\u001b[0m\u001b[1;33m=\u001b[0m\u001b[0mbatch_size\u001b[0m\u001b[1;33m,\u001b[0m \u001b[0mverbose\u001b[0m\u001b[1;33m=\u001b[0m\u001b[0mverbose\u001b[0m\u001b[1;33m)\u001b[0m\u001b[1;33m\u001b[0m\u001b[0m\n\u001b[0m\u001b[0;32m    914\u001b[0m \u001b[1;33m\u001b[0m\u001b[0m\n\u001b[0;32m    915\u001b[0m     \u001b[1;32mdef\u001b[0m \u001b[0mpredict_on_batch\u001b[0m\u001b[1;33m(\u001b[0m\u001b[0mself\u001b[0m\u001b[1;33m,\u001b[0m \u001b[0mx\u001b[0m\u001b[1;33m)\u001b[0m\u001b[1;33m:\u001b[0m\u001b[1;33m\u001b[0m\u001b[0m\n",
      "\u001b[1;32mC:\\ProgramData\\Anaconda3\\lib\\site-packages\\keras\\engine\\training.py\u001b[0m in \u001b[0;36mpredict\u001b[1;34m(self, x, batch_size, verbose, steps)\u001b[0m\n\u001b[0;32m   1693\u001b[0m         x = _standardize_input_data(x, self._feed_input_names,\n\u001b[0;32m   1694\u001b[0m                                     \u001b[0mself\u001b[0m\u001b[1;33m.\u001b[0m\u001b[0m_feed_input_shapes\u001b[0m\u001b[1;33m,\u001b[0m\u001b[1;33m\u001b[0m\u001b[0m\n\u001b[1;32m-> 1695\u001b[1;33m                                     check_batch_axis=False)\n\u001b[0m\u001b[0;32m   1696\u001b[0m         \u001b[1;32mif\u001b[0m \u001b[0mself\u001b[0m\u001b[1;33m.\u001b[0m\u001b[0mstateful\u001b[0m\u001b[1;33m:\u001b[0m\u001b[1;33m\u001b[0m\u001b[0m\n\u001b[0;32m   1697\u001b[0m             \u001b[1;32mif\u001b[0m \u001b[0mx\u001b[0m\u001b[1;33m[\u001b[0m\u001b[1;36m0\u001b[0m\u001b[1;33m]\u001b[0m\u001b[1;33m.\u001b[0m\u001b[0mshape\u001b[0m\u001b[1;33m[\u001b[0m\u001b[1;36m0\u001b[0m\u001b[1;33m]\u001b[0m \u001b[1;33m>\u001b[0m \u001b[0mbatch_size\u001b[0m \u001b[1;32mand\u001b[0m \u001b[0mx\u001b[0m\u001b[1;33m[\u001b[0m\u001b[1;36m0\u001b[0m\u001b[1;33m]\u001b[0m\u001b[1;33m.\u001b[0m\u001b[0mshape\u001b[0m\u001b[1;33m[\u001b[0m\u001b[1;36m0\u001b[0m\u001b[1;33m]\u001b[0m \u001b[1;33m%\u001b[0m \u001b[0mbatch_size\u001b[0m \u001b[1;33m!=\u001b[0m \u001b[1;36m0\u001b[0m\u001b[1;33m:\u001b[0m\u001b[1;33m\u001b[0m\u001b[0m\n",
      "\u001b[1;32mC:\\ProgramData\\Anaconda3\\lib\\site-packages\\keras\\engine\\training.py\u001b[0m in \u001b[0;36m_standardize_input_data\u001b[1;34m(data, names, shapes, check_batch_axis, exception_prefix)\u001b[0m\n\u001b[0;32m    130\u001b[0m                                  \u001b[1;34m' to have '\u001b[0m \u001b[1;33m+\u001b[0m \u001b[0mstr\u001b[0m\u001b[1;33m(\u001b[0m\u001b[0mlen\u001b[0m\u001b[1;33m(\u001b[0m\u001b[0mshapes\u001b[0m\u001b[1;33m[\u001b[0m\u001b[0mi\u001b[0m\u001b[1;33m]\u001b[0m\u001b[1;33m)\u001b[0m\u001b[1;33m)\u001b[0m \u001b[1;33m+\u001b[0m\u001b[1;33m\u001b[0m\u001b[0m\n\u001b[0;32m    131\u001b[0m                                  \u001b[1;34m' dimensions, but got array with shape '\u001b[0m \u001b[1;33m+\u001b[0m\u001b[1;33m\u001b[0m\u001b[0m\n\u001b[1;32m--> 132\u001b[1;33m                                  str(array.shape))\n\u001b[0m\u001b[0;32m    133\u001b[0m             \u001b[1;32mfor\u001b[0m \u001b[0mj\u001b[0m\u001b[1;33m,\u001b[0m \u001b[1;33m(\u001b[0m\u001b[0mdim\u001b[0m\u001b[1;33m,\u001b[0m \u001b[0mref_dim\u001b[0m\u001b[1;33m)\u001b[0m \u001b[1;32min\u001b[0m \u001b[0menumerate\u001b[0m\u001b[1;33m(\u001b[0m\u001b[0mzip\u001b[0m\u001b[1;33m(\u001b[0m\u001b[0marray\u001b[0m\u001b[1;33m.\u001b[0m\u001b[0mshape\u001b[0m\u001b[1;33m,\u001b[0m \u001b[0mshapes\u001b[0m\u001b[1;33m[\u001b[0m\u001b[0mi\u001b[0m\u001b[1;33m]\u001b[0m\u001b[1;33m)\u001b[0m\u001b[1;33m)\u001b[0m\u001b[1;33m:\u001b[0m\u001b[1;33m\u001b[0m\u001b[0m\n\u001b[0;32m    134\u001b[0m                 \u001b[1;32mif\u001b[0m \u001b[1;32mnot\u001b[0m \u001b[0mj\u001b[0m \u001b[1;32mand\u001b[0m \u001b[1;32mnot\u001b[0m \u001b[0mcheck_batch_axis\u001b[0m\u001b[1;33m:\u001b[0m\u001b[1;33m\u001b[0m\u001b[0m\n",
      "\u001b[1;31mValueError\u001b[0m: Error when checking : expected lstm_2_input to have 3 dimensions, but got array with shape (26090, 21)"
     ]
    }
   ],
   "source": [
    "# make a prediction\n",
    "yhat = model.predict(test_X)\n",
    "test_X = test_X.reshape((test_X.shape[0], test_X.shape[2]))\n",
    "# invert scaling for forecast\n",
    "inv_yhat = concatenate((yhat, test_X[:, 1:]), axis=1)\n",
    "inv_yhat = scaler.inverse_transform(inv_yhat)\n",
    "inv_yhat = inv_yhat[:,0]\n",
    "# invert scaling for actual\n",
    "test_y = test_y.reshape((len(test_y), 1))\n",
    "inv_y = concatenate((test_y, test_X[:, 1:]), axis=1)\n",
    "inv_y = scaler.inverse_transform(inv_y)\n",
    "inv_y = inv_y[:,0]\n",
    "# calculate RMSE\n",
    "rmse = sqrt(mean_squared_error(inv_y, inv_yhat))\n",
    "print('Test RMSE: %.3f' % rmse)"
   ]
  },
  {
   "cell_type": "code",
   "execution_count": null,
   "metadata": {},
   "outputs": [],
   "source": []
  },
  {
   "cell_type": "markdown",
   "metadata": {},
   "source": [
    "# dense_model3 with activation,bias"
   ]
  },
  {
   "cell_type": "code",
   "execution_count": null,
   "metadata": {},
   "outputs": [],
   "source": [
    "model3 = Sequential()\n",
    "model3.add(Dense(units=64, input_shape = (13,),activation='sigmoid',name='layer1',use_bias = True))\n",
    "model3.add(Dense(units=32,activation='sigmoid',name='layer2',use_bias = True))\n",
    "model3.add(Dense(units=16,name='layer3',activation='sigmoid',use_bias = True))\n",
    "model3.add(Dense(units=8,name='layer4',activation='sigmoid',use_bias = True))\n",
    "model3.add(Dense(units=1,name='layer5'))\n",
    "model3.compile(loss='mean_absolute_error',\n",
    "              optimizer='rmsprop',\n",
    "              metrics=['mae'])\n",
    "history=model3.fit(x = train_x,y = train_y, validation_data = (eval_x,eval_y), epochs=50, batch_size=1000)\n",
    "############################################################################################################"
   ]
  },
  {
   "cell_type": "code",
   "execution_count": null,
   "metadata": {},
   "outputs": [],
   "source": [
    "########################################################################\n",
    "# 绘制训练 & 验证的损失值\n",
    "plt.plot(history.history['loss'])\n",
    "plt.plot(history.history['val_loss'])\n",
    "plt.title('Model3 loss')\n",
    "plt.ylabel('Loss')\n",
    "plt.xlabel('Epoch')\n",
    "plt.legend(['Train', 'Test'], loc='upper left')\n",
    "plt.show()"
   ]
  },
  {
   "cell_type": "markdown",
   "metadata": {},
   "source": [
    "# 结果对比"
   ]
  },
  {
   "cell_type": "code",
   "execution_count": null,
   "metadata": {
    "scrolled": true
   },
   "outputs": [],
   "source": [
    "################预测训练集和测试集####################\n",
    "######### 模型 1 #########\n",
    "trainPredictM1 = model1.predict(train_x)\n",
    "testPredictM1 = model1.predict(test_x)\n",
    "######### 模型 2 #########\n",
    "trainPredictM2 = model2.predict(train_x)\n",
    "testPredictM2 = model2.predict(test_x)\n",
    "######### 模型 3 ##########\n",
    "trainPredictM3 = model3.predict(train_x)\n",
    "testPredictM3 = model3.predict(test_x)\n",
    "\n",
    "############################## 反归一化 ##############################\n",
    "\n",
    "###################### 训练集反归一化 #######################\n",
    "######预测值 模型1 #######\n",
    "inv_trainPredict1 = concatenate((train_x[:,:],trainPredictM1), axis=1)\n",
    "inv_trainPredict1 = scaler.inverse_transform(inv_trainPredict1)\n",
    "trainPredictM1 = inv_trainPredict1[:,-1:]\n",
    "\n",
    "######预测值 模型2 #######\n",
    "inv_trainPredict2 = concatenate((train_x[:,:],trainPredictM2), axis=1)\n",
    "inv_trainPredict2 = scaler.inverse_transform(inv_trainPredict2)\n",
    "trainPredictM2 = inv_trainPredict2[:,-1:]\n",
    "\n",
    "######训练预测 模型3 #######\n",
    "inv_trainPredict3 = concatenate((train_x[:,:],trainPredictM3), axis=1)\n",
    "inv_trainPredict3 = scaler.inverse_transform(inv_trainPredict3)\n",
    "trainPredictM3 = inv_trainPredict3[:,-1:]\n",
    "\n",
    "###### 训练集真实值######\n",
    "train_y = train_y.reshape((len(train_y), 1))\n",
    "inv_train = concatenate((train_x[:,:],train_y), axis=1)\n",
    "inv_train = scaler.inverse_transform(inv_train)\n",
    "trainReal = inv_train[:,-1:]\n",
    "\n",
    "\n",
    "######################## 测试集反归一化 ########################\n",
    "###### 测试预测模型1 #######\n",
    "inv_testPredict1 = concatenate((test_x[:,:],testPredictM1), axis=1)\n",
    "inv_testPredict1 = scaler.inverse_transform(inv_testPredict1)\n",
    "testPredictM1 = inv_testPredict1[:,-1:]\n",
    "\n",
    "###### 测试预测模型2 #######\n",
    "inv_testPredict2 = concatenate((test_x[:,:],testPredictM2), axis=1)\n",
    "inv_testPredict2 = scaler.inverse_transform(inv_testPredict2)\n",
    "testPredictM2 = inv_testPredict2[:,-1:]\n",
    "\n",
    "###### 测试预测模型3 #######\n",
    "inv_testPredict3 = concatenate((test_x[:,:],testPredictM3), axis=1)\n",
    "inv_testPredict3 = scaler.inverse_transform(inv_testPredict3)\n",
    "testPredictM3 = inv_testPredict3[:,-1:]\n",
    "\n",
    "########测试集真实值############\n",
    "test_y = test_y.reshape((len(test_y), 1))\n",
    "inv_test = concatenate((test_x[:,:],test_y), axis=1)\n",
    "inv_test = scaler.inverse_transform(inv_test)\n",
    "testReal = inv_test[:,-1:]\n",
    "\n",
    "#################### 计算训练集和测试集的平均根方误差####################\n",
    "### 模型 1\n",
    "trainScoreM1 = math.sqrt(mean_squared_error(trainReal[:,0], trainPredictM1[:,0]))\n",
    "print('Model1 ')\n",
    "print('Train Score: %.2f RMSE' % (trainScoreM1))\n",
    "testScoreM1 = math.sqrt(mean_squared_error(testReal[:,0], testPredictM1[:,0]))\n",
    "print('Test Score: %.2f RMSE' % (testScoreM1))\n",
    "### 模型 2\n",
    "trainScoreM2 = math.sqrt(mean_squared_error(trainReal[:,0], trainPredictM2[:,0]))\n",
    "print('Model2 ')\n",
    "print('Train Score: %.2f RMSE' % (trainScoreM2))\n",
    "testScoreM2 = math.sqrt(mean_squared_error(testReal[:,0], testPredictM2[:,0]))\n",
    "print('Test Score: %.2f RMSE' % (testScoreM2))\n",
    "### 模型 3\n",
    "trainScoreM3 = math.sqrt(mean_squared_error(trainReal[:,0], trainPredictM3[:,0]))\n",
    "print('Model3 ')\n",
    "print('Train Score: %.2f RMSE' % (trainScoreM3))\n",
    "testScoreM3 = math.sqrt(mean_squared_error(testReal[:,0], testPredictM3[:,0]))\n",
    "print('Test Score: %.2f RMSE' % (testScoreM3))"
   ]
  },
  {
   "cell_type": "code",
   "execution_count": null,
   "metadata": {},
   "outputs": [],
   "source": [
    "#训练集和测试集 预测结果保存\n",
    "predict_train_1A = pd.DataFrame(inv_train)\n",
    "predict_train_1A.columns = ['Year', 'Month', 'Day', 'Hour', 'Minutes', 'WTC', 'WRH', 'GHR', 'DHR',\n",
    "       'WD', 'WDR', 'RGT', 'RDT', '1A Trina_power']\n",
    "\n",
    "predict_train_1A['1A_model1_predict'] = trainPredictM1\n",
    "predict_train_1A['1A_model2_predict'] = trainPredictM2\n",
    "predict_train_1A['1A_model3_predict'] = trainPredictM3\n",
    "\n",
    "predict_train_1A.to_csv('../predict/predict_train_1A.csv',index=False)\n",
    "#真实值和预测值对比图\n",
    "plt.plot(trainReal,label='Real')\n",
    "plt.plot(trainPredictM1,label='M1Predicition')\n",
    "plt.plot(trainPredictM2,label='M2Predicition')\n",
    "plt.plot(trainPredictM3,label='M3Predicition')\n",
    "\n",
    "plt.title('Prediction train')\n",
    "plt.ylabel('Power')\n",
    "plt.xlabel('Time')\n",
    "# plt.plot(y_rr_,label='rr')\n",
    "# plt.plot(y_lasso_,label='lasso')\n",
    "plt.legend() "
   ]
  },
  {
   "cell_type": "code",
   "execution_count": null,
   "metadata": {},
   "outputs": [],
   "source": [
    "#训练集和测试集 预测结果保存\n",
    "predict_1A = pd.DataFrame(inv_test)\n",
    "predict_1A.columns = ['Year', 'Month', 'Day', 'Hour', 'Minutes', 'WTC', 'WRH', 'GHR', 'DHR',\n",
    "       'WD', 'WDR', 'RGT', 'RDT', '1A Trina_power']\n",
    "\n",
    "predict_1A['1A_model1_predict'] = testPredictM1\n",
    "predict_1A['1A_model2_predict'] = testPredictM2\n",
    "predict_1A['1A_model3_predict'] = testPredictM3\n",
    "\n",
    "predict_1A.to_csv('../predict/predict_1A.csv',index=False)\n",
    "#真实值和预测值对比图\n",
    "plt.plot(testReal,label='Real')\n",
    "plt.plot(testPredictM1,label='M1Predicition')\n",
    "plt.plot(testPredictM2,label='M2Predicition')\n",
    "plt.plot(testPredictM3,label='M3Predicition')\n",
    "\n",
    "plt.title('Prediction test')\n",
    "plt.ylabel('Power')\n",
    "plt.xlabel('Time')\n",
    "# plt.plot(y_rr_,label='rr')\n",
    "# plt.plot(y_lasso_,label='lasso')\n",
    "plt.legend() "
   ]
  },
  {
   "cell_type": "code",
   "execution_count": null,
   "metadata": {},
   "outputs": [],
   "source": [
    "# mse_test=np.sum((test_y - testPredict)**2)/ len(test_y)\n",
    "# rmse_test=np.sqrt(mse_test)\n",
    "# print(\"MSE:\",mse_test)\n",
    "# print(\"RMSE:\",rmse_test)"
   ]
  },
  {
   "cell_type": "markdown",
   "metadata": {},
   "source": [
    "画出例如2020年1月20号的预测图"
   ]
  },
  {
   "cell_type": "code",
   "execution_count": null,
   "metadata": {
    "scrolled": true
   },
   "outputs": [],
   "source": [
    "predict_1A.columns"
   ]
  },
  {
   "cell_type": "code",
   "execution_count": null,
   "metadata": {},
   "outputs": [],
   "source": [
    "# from scipy.interpolate import spline\n",
    "predict_1A[[\"Year\",\"Month\",\"Day\",\"Hour\",\"Minutes\"]] = predict_1A[[\"Year\",\"Month\",\"Day\",\"Hour\",\"Minutes\"]].astype(\"int\")\n",
    "\n",
    "#real_power_day = train_1.groupby('day')\n",
    "# Day0120 = predict_1A[(predict_1A['Year'] == 2020) & (predict_1A['Month'] == 1) & (predict_1A['Day'] == 20)]\n",
    "# day200120 = predict_1A.loc[predict_1A['Year'] == '2020',predict_1A['Month'] == '1',predict_1A['day'] == '20',:]\n",
    "Day0120 = predict_1A.loc[(predict_1A['Year'] == 2020) & (predict_1A['Month'] == 1) & (predict_1A['Day'] == 20),:]\n",
    "#real_power_day.set_index('time', inplace=False)\n",
    "Real=Day0120.set_index('Hour', inplace=False)['1A Trina_power']\n",
    "M1Predict=Day0120.set_index('Hour', inplace=False)['1A_model1_predict']\n",
    "M2Predict=Day0120.set_index('Hour', inplace=False)['1A_model2_predict']\n",
    "M3Predict=Day0120.set_index('Hour', inplace=False)['1A_model3_predict']\n",
    "\n",
    "fig = plt.figure()\n",
    "plt.plot(Real,label='Real')\n",
    "plt.plot(M1Predict,label='M1Predicition')\n",
    "plt.plot(M2Predict,label='M2Predicition')\n",
    "plt.plot(M3Predict,label='M3Predicition')\n",
    "\n",
    "plt.title('Prediction 2020-1-20')\n",
    "plt.ylabel('Power')\n",
    "plt.xlabel('Time')\n",
    "# plt.legend(['Train', 'Test'], loc='upper left')\n",
    "plt.legend()\n",
    "#ax = fig.add_subplot(1,1,1)\n",
    "#ax.plot(real_power_day_)\n",
    "# real_power_day_.plot()\n",
    "#real_power_day_.set_axis(['00:15:00','06:15:00','12:15:00','18:15:00'])\n",
    "#real_power_day_"
   ]
  },
  {
   "cell_type": "code",
   "execution_count": null,
   "metadata": {},
   "outputs": [],
   "source": []
  },
  {
   "cell_type": "code",
   "execution_count": null,
   "metadata": {},
   "outputs": [],
   "source": []
  }
 ],
 "metadata": {
  "kernelspec": {
   "display_name": "Python 3",
   "language": "python",
   "name": "python3"
  },
  "language_info": {
   "codemirror_mode": {
    "name": "ipython",
    "version": 3
   },
   "file_extension": ".py",
   "mimetype": "text/x-python",
   "name": "python",
   "nbconvert_exporter": "python",
   "pygments_lexer": "ipython3",
   "version": "3.6.5"
  }
 },
 "nbformat": 4,
 "nbformat_minor": 2
}
