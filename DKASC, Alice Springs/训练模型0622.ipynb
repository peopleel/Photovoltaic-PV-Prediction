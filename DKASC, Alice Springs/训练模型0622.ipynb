{
 "cells": [
  {
   "cell_type": "markdown",
   "metadata": {},
   "source": [
    "# DKASC_Alice_Springs SVM BP DNN LSTM-WDWDR"
   ]
  },
  {
   "cell_type": "code",
   "execution_count": 1,
   "metadata": {},
   "outputs": [
    {
     "name": "stderr",
     "output_type": "stream",
     "text": [
      "C:\\ProgramData\\Anaconda3\\lib\\site-packages\\tensorflow\\python\\framework\\dtypes.py:469: FutureWarning: Passing (type, 1) or '1type' as a synonym of type is deprecated; in a future version of numpy, it will be understood as (type, (1,)) / '(1,)type'.\n",
      "  _np_qint8 = np.dtype([(\"qint8\", np.int8, 1)])\n",
      "C:\\ProgramData\\Anaconda3\\lib\\site-packages\\tensorflow\\python\\framework\\dtypes.py:470: FutureWarning: Passing (type, 1) or '1type' as a synonym of type is deprecated; in a future version of numpy, it will be understood as (type, (1,)) / '(1,)type'.\n",
      "  _np_quint8 = np.dtype([(\"quint8\", np.uint8, 1)])\n",
      "C:\\ProgramData\\Anaconda3\\lib\\site-packages\\tensorflow\\python\\framework\\dtypes.py:471: FutureWarning: Passing (type, 1) or '1type' as a synonym of type is deprecated; in a future version of numpy, it will be understood as (type, (1,)) / '(1,)type'.\n",
      "  _np_qint16 = np.dtype([(\"qint16\", np.int16, 1)])\n",
      "C:\\ProgramData\\Anaconda3\\lib\\site-packages\\tensorflow\\python\\framework\\dtypes.py:472: FutureWarning: Passing (type, 1) or '1type' as a synonym of type is deprecated; in a future version of numpy, it will be understood as (type, (1,)) / '(1,)type'.\n",
      "  _np_quint16 = np.dtype([(\"quint16\", np.uint16, 1)])\n",
      "C:\\ProgramData\\Anaconda3\\lib\\site-packages\\tensorflow\\python\\framework\\dtypes.py:473: FutureWarning: Passing (type, 1) or '1type' as a synonym of type is deprecated; in a future version of numpy, it will be understood as (type, (1,)) / '(1,)type'.\n",
      "  _np_qint32 = np.dtype([(\"qint32\", np.int32, 1)])\n",
      "C:\\ProgramData\\Anaconda3\\lib\\site-packages\\tensorflow\\python\\framework\\dtypes.py:476: FutureWarning: Passing (type, 1) or '1type' as a synonym of type is deprecated; in a future version of numpy, it will be understood as (type, (1,)) / '(1,)type'.\n",
      "  np_resource = np.dtype([(\"resource\", np.ubyte, 1)])\n",
      "C:\\ProgramData\\Anaconda3\\lib\\site-packages\\h5py\\__init__.py:36: FutureWarning: Conversion of the second argument of issubdtype from `float` to `np.floating` is deprecated. In future, it will be treated as `np.float64 == np.dtype(float).type`.\n",
      "  from ._conv import register_converters as _register_converters\n",
      "Using TensorFlow backend.\n"
     ]
    }
   ],
   "source": [
    "import os\n",
    "import random\n",
    "import pandas as pd\n",
    "import numpy as np\n",
    "import matplotlib.pyplot as plt\n",
    "import math\n",
    "import tensorflow as tf\n",
    "import keras\n",
    "import catboost as cb\n",
    "from pandas import read_csv\n",
    "from math import sqrt\n",
    "from numpy import concatenate\n",
    "from keras.models import Sequential\n",
    "from keras.layers import Dense\n",
    "from keras.layers import Dropout\n",
    "from keras.layers import LSTM\n",
    "from sklearn.preprocessing import MinMaxScaler\n",
    "from sklearn.metrics import mean_squared_error\n",
    "from sklearn import metrics\n",
    "from sklearn import svm\n",
    "from keras.layers.core import Dense, Activation, Dropout\n",
    "from sklearn.externals import joblib\n",
    "%matplotlib inline"
   ]
  },
  {
   "cell_type": "code",
   "execution_count": 2,
   "metadata": {},
   "outputs": [],
   "source": [
    "import os\n",
    "os.environ[\"CUDA_VISIBLE_DEVICES\"] = \"0\"\n",
    "config = tf.ConfigProto(allow_soft_placement = True)\n",
    "gpu_options = tf.GPUOptions(per_process_gpu_memory_fraction = 0.5)\n",
    "config.gpu_options.allow_growth = True\n",
    "sess0 = tf.InteractiveSession(config = config)"
   ]
  },
  {
   "cell_type": "code",
   "execution_count": 3,
   "metadata": {},
   "outputs": [
    {
     "name": "stdout",
     "output_type": "stream",
     "text": [
      "E:\\Research Project\\DKASC, Alice Springs\n"
     ]
    }
   ],
   "source": [
    "print(os.getcwd()) # 打印当前工作目录"
   ]
  },
  {
   "cell_type": "code",
   "execution_count": 4,
   "metadata": {},
   "outputs": [
    {
     "data": {
      "text/plain": [
       "['.idea',\n",
       " '.ipynb_checkpoints',\n",
       " '101-Site_DKA-WeatherStation',\n",
       " '96-Site_DKA-MasterMeter1',\n",
       " 'Alice_SpringsLSTM.ipynb',\n",
       " 'Alice_SpringsWPD-LSTM.ipynb',\n",
       " 'Alice_Springs_2016-2020',\n",
       " 'Alice_Springs数据集筛选提取.ipynb',\n",
       " 'Dataset',\n",
       " 'logs',\n",
       " 'picture',\n",
       " 'Predict',\n",
       " 'Program backups',\n",
       " 'temp',\n",
       " 'test1-8_SVM&BP&DNN&LSTM.ipynb',\n",
       " 'venv',\n",
       " 'WPD.ipynb',\n",
       " '画图.ipynb',\n",
       " '相关性分析图.py',\n",
       " '笔记.ipynb',\n",
       " '训练SVM&BP&DNN&LSTM.ipynb']"
      ]
     },
     "execution_count": 4,
     "metadata": {},
     "output_type": "execute_result"
    }
   ],
   "source": [
    "os.listdir(os.getcwd())"
   ]
  },
  {
   "cell_type": "code",
   "execution_count": 5,
   "metadata": {},
   "outputs": [],
   "source": [
    "os.chdir(\"./Dataset/\")"
   ]
  },
  {
   "cell_type": "code",
   "execution_count": 6,
   "metadata": {},
   "outputs": [
    {
     "data": {
      "text/plain": [
       "['test',\n",
       " 'testdata.csv',\n",
       " 'test_1A.csv',\n",
       " 'train',\n",
       " 'traindata.csv',\n",
       " 'train_1A.csv',\n",
       " '测试集8个站点.csv',\n",
       " '训练集8个站点.csv']"
      ]
     },
     "execution_count": 6,
     "metadata": {},
     "output_type": "execute_result"
    }
   ],
   "source": [
    "os.listdir()"
   ]
  },
  {
   "cell_type": "code",
   "execution_count": 7,
   "metadata": {},
   "outputs": [],
   "source": [
    "train = pd.read_csv('train_1A.csv')\n",
    "test = pd.read_csv('test_1A.csv')"
   ]
  },
  {
   "cell_type": "code",
   "execution_count": 8,
   "metadata": {},
   "outputs": [
    {
     "name": "stdout",
     "output_type": "stream",
     "text": [
      "(141428, 15)\n",
      "(26091, 15)\n"
     ]
    }
   ],
   "source": [
    "#查看输入数据维度\n",
    "print(train.shape)\n",
    "print(test.shape)"
   ]
  },
  {
   "cell_type": "code",
   "execution_count": 9,
   "metadata": {
    "scrolled": true
   },
   "outputs": [
    {
     "data": {
      "text/html": [
       "<div>\n",
       "<style scoped>\n",
       "    .dataframe tbody tr th:only-of-type {\n",
       "        vertical-align: middle;\n",
       "    }\n",
       "\n",
       "    .dataframe tbody tr th {\n",
       "        vertical-align: top;\n",
       "    }\n",
       "\n",
       "    .dataframe thead th {\n",
       "        text-align: right;\n",
       "    }\n",
       "</style>\n",
       "<table border=\"1\" class=\"dataframe\">\n",
       "  <thead>\n",
       "    <tr style=\"text-align: right;\">\n",
       "      <th></th>\n",
       "      <th>Timestamp</th>\n",
       "      <th>Year</th>\n",
       "      <th>Month</th>\n",
       "      <th>Day</th>\n",
       "      <th>Hour</th>\n",
       "      <th>Minutes</th>\n",
       "      <th>WTC</th>\n",
       "      <th>WRH</th>\n",
       "      <th>GHR</th>\n",
       "      <th>DHR</th>\n",
       "      <th>WD</th>\n",
       "      <th>WDR</th>\n",
       "      <th>RGT</th>\n",
       "      <th>RDT</th>\n",
       "      <th>1A Trina_power</th>\n",
       "    </tr>\n",
       "  </thead>\n",
       "  <tbody>\n",
       "    <tr>\n",
       "      <th>0</th>\n",
       "      <td>2018/1/19 18:30</td>\n",
       "      <td>2018</td>\n",
       "      <td>1</td>\n",
       "      <td>19</td>\n",
       "      <td>18</td>\n",
       "      <td>30</td>\n",
       "      <td>26.243799</td>\n",
       "      <td>50.889774</td>\n",
       "      <td>71.416481</td>\n",
       "      <td>67.523544</td>\n",
       "      <td>302.882996</td>\n",
       "      <td>3.6</td>\n",
       "      <td>65.268631</td>\n",
       "      <td>59.278999</td>\n",
       "      <td>0.318600</td>\n",
       "    </tr>\n",
       "    <tr>\n",
       "      <th>1</th>\n",
       "      <td>2018/1/19 18:35</td>\n",
       "      <td>2018</td>\n",
       "      <td>1</td>\n",
       "      <td>19</td>\n",
       "      <td>18</td>\n",
       "      <td>35</td>\n",
       "      <td>26.641783</td>\n",
       "      <td>49.539795</td>\n",
       "      <td>77.177094</td>\n",
       "      <td>71.776718</td>\n",
       "      <td>246.312622</td>\n",
       "      <td>3.6</td>\n",
       "      <td>72.546944</td>\n",
       "      <td>63.134579</td>\n",
       "      <td>0.328800</td>\n",
       "    </tr>\n",
       "    <tr>\n",
       "      <th>2</th>\n",
       "      <td>2018/1/19 18:40</td>\n",
       "      <td>2018</td>\n",
       "      <td>1</td>\n",
       "      <td>19</td>\n",
       "      <td>18</td>\n",
       "      <td>40</td>\n",
       "      <td>26.654078</td>\n",
       "      <td>53.414265</td>\n",
       "      <td>78.373489</td>\n",
       "      <td>69.008316</td>\n",
       "      <td>305.089630</td>\n",
       "      <td>3.6</td>\n",
       "      <td>76.711456</td>\n",
       "      <td>65.430550</td>\n",
       "      <td>0.334200</td>\n",
       "    </tr>\n",
       "    <tr>\n",
       "      <th>3</th>\n",
       "      <td>2018/1/19 18:45</td>\n",
       "      <td>2018</td>\n",
       "      <td>1</td>\n",
       "      <td>19</td>\n",
       "      <td>18</td>\n",
       "      <td>45</td>\n",
       "      <td>26.439108</td>\n",
       "      <td>55.582245</td>\n",
       "      <td>78.022881</td>\n",
       "      <td>67.560181</td>\n",
       "      <td>259.662933</td>\n",
       "      <td>3.6</td>\n",
       "      <td>80.445709</td>\n",
       "      <td>66.812790</td>\n",
       "      <td>0.333133</td>\n",
       "    </tr>\n",
       "    <tr>\n",
       "      <th>4</th>\n",
       "      <td>2018/1/19 18:50</td>\n",
       "      <td>2018</td>\n",
       "      <td>1</td>\n",
       "      <td>19</td>\n",
       "      <td>18</td>\n",
       "      <td>50</td>\n",
       "      <td>26.479477</td>\n",
       "      <td>56.173820</td>\n",
       "      <td>82.106972</td>\n",
       "      <td>73.004196</td>\n",
       "      <td>186.634705</td>\n",
       "      <td>3.6</td>\n",
       "      <td>83.035919</td>\n",
       "      <td>69.054459</td>\n",
       "      <td>0.332400</td>\n",
       "    </tr>\n",
       "  </tbody>\n",
       "</table>\n",
       "</div>"
      ],
      "text/plain": [
       "         Timestamp  Year  Month  Day  Hour  Minutes        WTC        WRH  \\\n",
       "0  2018/1/19 18:30  2018      1   19    18       30  26.243799  50.889774   \n",
       "1  2018/1/19 18:35  2018      1   19    18       35  26.641783  49.539795   \n",
       "2  2018/1/19 18:40  2018      1   19    18       40  26.654078  53.414265   \n",
       "3  2018/1/19 18:45  2018      1   19    18       45  26.439108  55.582245   \n",
       "4  2018/1/19 18:50  2018      1   19    18       50  26.479477  56.173820   \n",
       "\n",
       "         GHR        DHR          WD  WDR        RGT        RDT  1A Trina_power  \n",
       "0  71.416481  67.523544  302.882996  3.6  65.268631  59.278999        0.318600  \n",
       "1  77.177094  71.776718  246.312622  3.6  72.546944  63.134579        0.328800  \n",
       "2  78.373489  69.008316  305.089630  3.6  76.711456  65.430550        0.334200  \n",
       "3  78.022881  67.560181  259.662933  3.6  80.445709  66.812790        0.333133  \n",
       "4  82.106972  73.004196  186.634705  3.6  83.035919  69.054459        0.332400  "
      ]
     },
     "execution_count": 9,
     "metadata": {},
     "output_type": "execute_result"
    }
   ],
   "source": [
    "train.head(5)"
   ]
  },
  {
   "cell_type": "code",
   "execution_count": 10,
   "metadata": {},
   "outputs": [
    {
     "data": {
      "text/html": [
       "<div>\n",
       "<style scoped>\n",
       "    .dataframe tbody tr th:only-of-type {\n",
       "        vertical-align: middle;\n",
       "    }\n",
       "\n",
       "    .dataframe tbody tr th {\n",
       "        vertical-align: top;\n",
       "    }\n",
       "\n",
       "    .dataframe thead th {\n",
       "        text-align: right;\n",
       "    }\n",
       "</style>\n",
       "<table border=\"1\" class=\"dataframe\">\n",
       "  <thead>\n",
       "    <tr style=\"text-align: right;\">\n",
       "      <th></th>\n",
       "      <th>Timestamp</th>\n",
       "      <th>Year</th>\n",
       "      <th>Month</th>\n",
       "      <th>Day</th>\n",
       "      <th>Hour</th>\n",
       "      <th>Minutes</th>\n",
       "      <th>WTC</th>\n",
       "      <th>WRH</th>\n",
       "      <th>GHR</th>\n",
       "      <th>DHR</th>\n",
       "      <th>WD</th>\n",
       "      <th>WDR</th>\n",
       "      <th>RGT</th>\n",
       "      <th>RDT</th>\n",
       "      <th>1A Trina_power</th>\n",
       "    </tr>\n",
       "  </thead>\n",
       "  <tbody>\n",
       "    <tr>\n",
       "      <th>0</th>\n",
       "      <td>2020/1/1 0:00</td>\n",
       "      <td>2020</td>\n",
       "      <td>1</td>\n",
       "      <td>1</td>\n",
       "      <td>0</td>\n",
       "      <td>0</td>\n",
       "      <td>29.685360</td>\n",
       "      <td>21.727171</td>\n",
       "      <td>1.360221</td>\n",
       "      <td>1.191879</td>\n",
       "      <td>33.216167</td>\n",
       "      <td>0.0</td>\n",
       "      <td>2.958199</td>\n",
       "      <td>0.524153</td>\n",
       "      <td>0.0</td>\n",
       "    </tr>\n",
       "    <tr>\n",
       "      <th>1</th>\n",
       "      <td>2020/1/1 0:05</td>\n",
       "      <td>2020</td>\n",
       "      <td>1</td>\n",
       "      <td>1</td>\n",
       "      <td>0</td>\n",
       "      <td>5</td>\n",
       "      <td>29.559967</td>\n",
       "      <td>21.878902</td>\n",
       "      <td>1.532208</td>\n",
       "      <td>1.460944</td>\n",
       "      <td>33.254341</td>\n",
       "      <td>0.0</td>\n",
       "      <td>3.288470</td>\n",
       "      <td>0.764565</td>\n",
       "      <td>0.0</td>\n",
       "    </tr>\n",
       "    <tr>\n",
       "      <th>2</th>\n",
       "      <td>2020/1/1 0:10</td>\n",
       "      <td>2020</td>\n",
       "      <td>1</td>\n",
       "      <td>1</td>\n",
       "      <td>0</td>\n",
       "      <td>10</td>\n",
       "      <td>29.530006</td>\n",
       "      <td>21.859453</td>\n",
       "      <td>1.186835</td>\n",
       "      <td>1.118219</td>\n",
       "      <td>33.302616</td>\n",
       "      <td>0.0</td>\n",
       "      <td>3.253541</td>\n",
       "      <td>0.725652</td>\n",
       "      <td>0.0</td>\n",
       "    </tr>\n",
       "    <tr>\n",
       "      <th>3</th>\n",
       "      <td>2020/1/1 0:15</td>\n",
       "      <td>2020</td>\n",
       "      <td>1</td>\n",
       "      <td>1</td>\n",
       "      <td>0</td>\n",
       "      <td>15</td>\n",
       "      <td>29.474438</td>\n",
       "      <td>21.897285</td>\n",
       "      <td>1.017349</td>\n",
       "      <td>0.824890</td>\n",
       "      <td>33.337837</td>\n",
       "      <td>0.0</td>\n",
       "      <td>3.260514</td>\n",
       "      <td>0.706365</td>\n",
       "      <td>0.0</td>\n",
       "    </tr>\n",
       "    <tr>\n",
       "      <th>4</th>\n",
       "      <td>2020/1/1 0:20</td>\n",
       "      <td>2020</td>\n",
       "      <td>1</td>\n",
       "      <td>1</td>\n",
       "      <td>0</td>\n",
       "      <td>20</td>\n",
       "      <td>29.365288</td>\n",
       "      <td>22.085625</td>\n",
       "      <td>1.323369</td>\n",
       "      <td>1.175776</td>\n",
       "      <td>33.375069</td>\n",
       "      <td>0.0</td>\n",
       "      <td>3.148183</td>\n",
       "      <td>0.694154</td>\n",
       "      <td>0.0</td>\n",
       "    </tr>\n",
       "  </tbody>\n",
       "</table>\n",
       "</div>"
      ],
      "text/plain": [
       "       Timestamp  Year  Month  Day  Hour  Minutes        WTC        WRH  \\\n",
       "0  2020/1/1 0:00  2020      1    1     0        0  29.685360  21.727171   \n",
       "1  2020/1/1 0:05  2020      1    1     0        5  29.559967  21.878902   \n",
       "2  2020/1/1 0:10  2020      1    1     0       10  29.530006  21.859453   \n",
       "3  2020/1/1 0:15  2020      1    1     0       15  29.474438  21.897285   \n",
       "4  2020/1/1 0:20  2020      1    1     0       20  29.365288  22.085625   \n",
       "\n",
       "        GHR       DHR         WD  WDR       RGT       RDT  1A Trina_power  \n",
       "0  1.360221  1.191879  33.216167  0.0  2.958199  0.524153             0.0  \n",
       "1  1.532208  1.460944  33.254341  0.0  3.288470  0.764565             0.0  \n",
       "2  1.186835  1.118219  33.302616  0.0  3.253541  0.725652             0.0  \n",
       "3  1.017349  0.824890  33.337837  0.0  3.260514  0.706365             0.0  \n",
       "4  1.323369  1.175776  33.375069  0.0  3.148183  0.694154             0.0  "
      ]
     },
     "execution_count": 10,
     "metadata": {},
     "output_type": "execute_result"
    }
   ],
   "source": [
    "test.head(5)"
   ]
  },
  {
   "cell_type": "markdown",
   "metadata": {},
   "source": [
    "# 数据预处理训练集去异常值"
   ]
  },
  {
   "cell_type": "code",
   "execution_count": 11,
   "metadata": {},
   "outputs": [
    {
     "data": {
      "text/plain": [
       "Timestamp         0\n",
       "Year              0\n",
       "Month             0\n",
       "Day               0\n",
       "Hour              0\n",
       "Minutes           0\n",
       "WTC               0\n",
       "WRH               0\n",
       "GHR               0\n",
       "DHR               0\n",
       "WD                0\n",
       "WDR               0\n",
       "RGT               0\n",
       "RDT               0\n",
       "1A Trina_power    0\n",
       "dtype: int64"
      ]
     },
     "execution_count": 11,
     "metadata": {},
     "output_type": "execute_result"
    }
   ],
   "source": [
    "#使用df.isnull().sum()来获得与行数None和NaN值。\n",
    "train.isnull().sum()"
   ]
  },
  {
   "cell_type": "code",
   "execution_count": 12,
   "metadata": {},
   "outputs": [
    {
     "data": {
      "text/plain": [
       "Timestamp         0\n",
       "Year              0\n",
       "Month             0\n",
       "Day               0\n",
       "Hour              0\n",
       "Minutes           0\n",
       "WTC               0\n",
       "WRH               0\n",
       "GHR               0\n",
       "DHR               0\n",
       "WD                0\n",
       "WDR               0\n",
       "RGT               0\n",
       "RDT               0\n",
       "1A Trina_power    0\n",
       "dtype: int64"
      ]
     },
     "execution_count": 12,
     "metadata": {},
     "output_type": "execute_result"
    }
   ],
   "source": [
    "test.isnull().sum()"
   ]
  },
  {
   "cell_type": "code",
   "execution_count": 13,
   "metadata": {},
   "outputs": [],
   "source": [
    "# #训练集去掉全是空值的行和列    #axis=0, how='any', thresh=None, subset=None, inplace=False)\n",
    "# # detectioncolumns=['WTC', 'WRH', 'GHR', 'DHR', 'WD', 'WDR', 'RGT', 'RDT']\n",
    "# # for i in detectioncolumns:\n",
    "# train.dropna(axis=\"index\",how='any' , inplace=True)  #删除掉全是空值的行\n",
    "# # train.dropna(axis=\"columns\", how='all', inplace=True)  #删除掉全是空值的列\n",
    "\n",
    "\n",
    "# test.dropna(axis=\"index\", how='any', inplace=True)  #删除掉全是空值的行\n",
    "# # test.dropna(axis=\"columns\", how='all', inplace=True)  #删除掉全是空值的列"
   ]
  },
  {
   "cell_type": "code",
   "execution_count": 14,
   "metadata": {},
   "outputs": [],
   "source": [
    "# #填补缺失值为均值\n",
    "# #train.ffill({\"RGT\":train['RGT'].mean()})\n",
    "# detectioncolumns=['WTC', 'WRH', 'GHR', 'DHR', 'WD', 'WDR', 'RGT', 'RDT']\n",
    "# for i in detectioncolumns:\n",
    "#     replace_NA=train[i].mean()\n",
    "#     train[i].fillna(replace_NA,inplace=True)\n",
    "# #去除测试集空值\n",
    "# for i in detectioncolumns:\n",
    "#     replace_NA=test[i].mean()\n",
    "#     test[i].fillna(replace_NA,inplace=True)\n"
   ]
  },
  {
   "cell_type": "code",
   "execution_count": 15,
   "metadata": {},
   "outputs": [
    {
     "data": {
      "text/plain": [
       "Index(['Timestamp', 'Year', 'Month', 'Day', 'Hour', 'Minutes', 'WTC', 'WRH',\n",
       "       'GHR', 'DHR', 'WD', 'WDR', 'RGT', 'RDT', '1A Trina_power'],\n",
       "      dtype='object')"
      ]
     },
     "execution_count": 15,
     "metadata": {},
     "output_type": "execute_result"
    }
   ],
   "source": [
    "train.columns"
   ]
  },
  {
   "cell_type": "code",
   "execution_count": 16,
   "metadata": {},
   "outputs": [
    {
     "data": {
      "text/plain": [
       "Index(['Timestamp', 'Year', 'Month', 'Day', 'Hour', 'Minutes', 'WTC', 'WRH',\n",
       "       'GHR', 'DHR', 'WD', 'WDR', 'RGT', 'RDT', '1A Trina_power'],\n",
       "      dtype='object')"
      ]
     },
     "execution_count": 16,
     "metadata": {},
     "output_type": "execute_result"
    }
   ],
   "source": [
    "test.columns"
   ]
  },
  {
   "cell_type": "code",
   "execution_count": 17,
   "metadata": {},
   "outputs": [
    {
     "data": {
      "text/html": [
       "<div>\n",
       "<style scoped>\n",
       "    .dataframe tbody tr th:only-of-type {\n",
       "        vertical-align: middle;\n",
       "    }\n",
       "\n",
       "    .dataframe tbody tr th {\n",
       "        vertical-align: top;\n",
       "    }\n",
       "\n",
       "    .dataframe thead th {\n",
       "        text-align: right;\n",
       "    }\n",
       "</style>\n",
       "<table border=\"1\" class=\"dataframe\">\n",
       "  <thead>\n",
       "    <tr style=\"text-align: right;\">\n",
       "      <th></th>\n",
       "      <th>Timestamp</th>\n",
       "      <th>Year</th>\n",
       "      <th>Month</th>\n",
       "      <th>Day</th>\n",
       "      <th>Hour</th>\n",
       "      <th>Minutes</th>\n",
       "      <th>WTC</th>\n",
       "      <th>WRH</th>\n",
       "      <th>GHR</th>\n",
       "      <th>DHR</th>\n",
       "      <th>WD</th>\n",
       "      <th>WDR</th>\n",
       "      <th>RGT</th>\n",
       "      <th>RDT</th>\n",
       "      <th>1A Trina_power</th>\n",
       "    </tr>\n",
       "  </thead>\n",
       "  <tbody>\n",
       "    <tr>\n",
       "      <th>0</th>\n",
       "      <td>2018/1/19 18:30</td>\n",
       "      <td>2018</td>\n",
       "      <td>1</td>\n",
       "      <td>19</td>\n",
       "      <td>18</td>\n",
       "      <td>30</td>\n",
       "      <td>26.243799</td>\n",
       "      <td>50.889774</td>\n",
       "      <td>71.416481</td>\n",
       "      <td>67.523544</td>\n",
       "      <td>302.882996</td>\n",
       "      <td>3.6</td>\n",
       "      <td>65.268631</td>\n",
       "      <td>59.278999</td>\n",
       "      <td>0.318600</td>\n",
       "    </tr>\n",
       "    <tr>\n",
       "      <th>1</th>\n",
       "      <td>2018/1/19 18:35</td>\n",
       "      <td>2018</td>\n",
       "      <td>1</td>\n",
       "      <td>19</td>\n",
       "      <td>18</td>\n",
       "      <td>35</td>\n",
       "      <td>26.641783</td>\n",
       "      <td>49.539795</td>\n",
       "      <td>77.177094</td>\n",
       "      <td>71.776718</td>\n",
       "      <td>246.312622</td>\n",
       "      <td>3.6</td>\n",
       "      <td>72.546944</td>\n",
       "      <td>63.134579</td>\n",
       "      <td>0.328800</td>\n",
       "    </tr>\n",
       "    <tr>\n",
       "      <th>2</th>\n",
       "      <td>2018/1/19 18:40</td>\n",
       "      <td>2018</td>\n",
       "      <td>1</td>\n",
       "      <td>19</td>\n",
       "      <td>18</td>\n",
       "      <td>40</td>\n",
       "      <td>26.654078</td>\n",
       "      <td>53.414265</td>\n",
       "      <td>78.373489</td>\n",
       "      <td>69.008316</td>\n",
       "      <td>305.089630</td>\n",
       "      <td>3.6</td>\n",
       "      <td>76.711456</td>\n",
       "      <td>65.430550</td>\n",
       "      <td>0.334200</td>\n",
       "    </tr>\n",
       "    <tr>\n",
       "      <th>3</th>\n",
       "      <td>2018/1/19 18:45</td>\n",
       "      <td>2018</td>\n",
       "      <td>1</td>\n",
       "      <td>19</td>\n",
       "      <td>18</td>\n",
       "      <td>45</td>\n",
       "      <td>26.439108</td>\n",
       "      <td>55.582245</td>\n",
       "      <td>78.022881</td>\n",
       "      <td>67.560181</td>\n",
       "      <td>259.662933</td>\n",
       "      <td>3.6</td>\n",
       "      <td>80.445709</td>\n",
       "      <td>66.812790</td>\n",
       "      <td>0.333133</td>\n",
       "    </tr>\n",
       "    <tr>\n",
       "      <th>4</th>\n",
       "      <td>2018/1/19 18:50</td>\n",
       "      <td>2018</td>\n",
       "      <td>1</td>\n",
       "      <td>19</td>\n",
       "      <td>18</td>\n",
       "      <td>50</td>\n",
       "      <td>26.479477</td>\n",
       "      <td>56.173820</td>\n",
       "      <td>82.106972</td>\n",
       "      <td>73.004196</td>\n",
       "      <td>186.634705</td>\n",
       "      <td>3.6</td>\n",
       "      <td>83.035919</td>\n",
       "      <td>69.054459</td>\n",
       "      <td>0.332400</td>\n",
       "    </tr>\n",
       "  </tbody>\n",
       "</table>\n",
       "</div>"
      ],
      "text/plain": [
       "         Timestamp  Year  Month  Day  Hour  Minutes        WTC        WRH  \\\n",
       "0  2018/1/19 18:30  2018      1   19    18       30  26.243799  50.889774   \n",
       "1  2018/1/19 18:35  2018      1   19    18       35  26.641783  49.539795   \n",
       "2  2018/1/19 18:40  2018      1   19    18       40  26.654078  53.414265   \n",
       "3  2018/1/19 18:45  2018      1   19    18       45  26.439108  55.582245   \n",
       "4  2018/1/19 18:50  2018      1   19    18       50  26.479477  56.173820   \n",
       "\n",
       "         GHR        DHR          WD  WDR        RGT        RDT  1A Trina_power  \n",
       "0  71.416481  67.523544  302.882996  3.6  65.268631  59.278999        0.318600  \n",
       "1  77.177094  71.776718  246.312622  3.6  72.546944  63.134579        0.328800  \n",
       "2  78.373489  69.008316  305.089630  3.6  76.711456  65.430550        0.334200  \n",
       "3  78.022881  67.560181  259.662933  3.6  80.445709  66.812790        0.333133  \n",
       "4  82.106972  73.004196  186.634705  3.6  83.035919  69.054459        0.332400  "
      ]
     },
     "execution_count": 17,
     "metadata": {},
     "output_type": "execute_result"
    }
   ],
   "source": [
    "train.head()"
   ]
  },
  {
   "cell_type": "code",
   "execution_count": 18,
   "metadata": {},
   "outputs": [
    {
     "data": {
      "text/html": [
       "<div>\n",
       "<style scoped>\n",
       "    .dataframe tbody tr th:only-of-type {\n",
       "        vertical-align: middle;\n",
       "    }\n",
       "\n",
       "    .dataframe tbody tr th {\n",
       "        vertical-align: top;\n",
       "    }\n",
       "\n",
       "    .dataframe thead th {\n",
       "        text-align: right;\n",
       "    }\n",
       "</style>\n",
       "<table border=\"1\" class=\"dataframe\">\n",
       "  <thead>\n",
       "    <tr style=\"text-align: right;\">\n",
       "      <th></th>\n",
       "      <th>Timestamp</th>\n",
       "      <th>Year</th>\n",
       "      <th>Month</th>\n",
       "      <th>Day</th>\n",
       "      <th>Hour</th>\n",
       "      <th>Minutes</th>\n",
       "      <th>WTC</th>\n",
       "      <th>WRH</th>\n",
       "      <th>GHR</th>\n",
       "      <th>DHR</th>\n",
       "      <th>WD</th>\n",
       "      <th>WDR</th>\n",
       "      <th>RGT</th>\n",
       "      <th>RDT</th>\n",
       "      <th>1A Trina_power</th>\n",
       "    </tr>\n",
       "  </thead>\n",
       "  <tbody>\n",
       "    <tr>\n",
       "      <th>0</th>\n",
       "      <td>2020/1/1 0:00</td>\n",
       "      <td>2020</td>\n",
       "      <td>1</td>\n",
       "      <td>1</td>\n",
       "      <td>0</td>\n",
       "      <td>0</td>\n",
       "      <td>29.685360</td>\n",
       "      <td>21.727171</td>\n",
       "      <td>1.360221</td>\n",
       "      <td>1.191879</td>\n",
       "      <td>33.216167</td>\n",
       "      <td>0.0</td>\n",
       "      <td>2.958199</td>\n",
       "      <td>0.524153</td>\n",
       "      <td>0.0</td>\n",
       "    </tr>\n",
       "    <tr>\n",
       "      <th>1</th>\n",
       "      <td>2020/1/1 0:05</td>\n",
       "      <td>2020</td>\n",
       "      <td>1</td>\n",
       "      <td>1</td>\n",
       "      <td>0</td>\n",
       "      <td>5</td>\n",
       "      <td>29.559967</td>\n",
       "      <td>21.878902</td>\n",
       "      <td>1.532208</td>\n",
       "      <td>1.460944</td>\n",
       "      <td>33.254341</td>\n",
       "      <td>0.0</td>\n",
       "      <td>3.288470</td>\n",
       "      <td>0.764565</td>\n",
       "      <td>0.0</td>\n",
       "    </tr>\n",
       "    <tr>\n",
       "      <th>2</th>\n",
       "      <td>2020/1/1 0:10</td>\n",
       "      <td>2020</td>\n",
       "      <td>1</td>\n",
       "      <td>1</td>\n",
       "      <td>0</td>\n",
       "      <td>10</td>\n",
       "      <td>29.530006</td>\n",
       "      <td>21.859453</td>\n",
       "      <td>1.186835</td>\n",
       "      <td>1.118219</td>\n",
       "      <td>33.302616</td>\n",
       "      <td>0.0</td>\n",
       "      <td>3.253541</td>\n",
       "      <td>0.725652</td>\n",
       "      <td>0.0</td>\n",
       "    </tr>\n",
       "    <tr>\n",
       "      <th>3</th>\n",
       "      <td>2020/1/1 0:15</td>\n",
       "      <td>2020</td>\n",
       "      <td>1</td>\n",
       "      <td>1</td>\n",
       "      <td>0</td>\n",
       "      <td>15</td>\n",
       "      <td>29.474438</td>\n",
       "      <td>21.897285</td>\n",
       "      <td>1.017349</td>\n",
       "      <td>0.824890</td>\n",
       "      <td>33.337837</td>\n",
       "      <td>0.0</td>\n",
       "      <td>3.260514</td>\n",
       "      <td>0.706365</td>\n",
       "      <td>0.0</td>\n",
       "    </tr>\n",
       "    <tr>\n",
       "      <th>4</th>\n",
       "      <td>2020/1/1 0:20</td>\n",
       "      <td>2020</td>\n",
       "      <td>1</td>\n",
       "      <td>1</td>\n",
       "      <td>0</td>\n",
       "      <td>20</td>\n",
       "      <td>29.365288</td>\n",
       "      <td>22.085625</td>\n",
       "      <td>1.323369</td>\n",
       "      <td>1.175776</td>\n",
       "      <td>33.375069</td>\n",
       "      <td>0.0</td>\n",
       "      <td>3.148183</td>\n",
       "      <td>0.694154</td>\n",
       "      <td>0.0</td>\n",
       "    </tr>\n",
       "  </tbody>\n",
       "</table>\n",
       "</div>"
      ],
      "text/plain": [
       "       Timestamp  Year  Month  Day  Hour  Minutes        WTC        WRH  \\\n",
       "0  2020/1/1 0:00  2020      1    1     0        0  29.685360  21.727171   \n",
       "1  2020/1/1 0:05  2020      1    1     0        5  29.559967  21.878902   \n",
       "2  2020/1/1 0:10  2020      1    1     0       10  29.530006  21.859453   \n",
       "3  2020/1/1 0:15  2020      1    1     0       15  29.474438  21.897285   \n",
       "4  2020/1/1 0:20  2020      1    1     0       20  29.365288  22.085625   \n",
       "\n",
       "        GHR       DHR         WD  WDR       RGT       RDT  1A Trina_power  \n",
       "0  1.360221  1.191879  33.216167  0.0  2.958199  0.524153             0.0  \n",
       "1  1.532208  1.460944  33.254341  0.0  3.288470  0.764565             0.0  \n",
       "2  1.186835  1.118219  33.302616  0.0  3.253541  0.725652             0.0  \n",
       "3  1.017349  0.824890  33.337837  0.0  3.260514  0.706365             0.0  \n",
       "4  1.323369  1.175776  33.375069  0.0  3.148183  0.694154             0.0  "
      ]
     },
     "execution_count": 18,
     "metadata": {},
     "output_type": "execute_result"
    }
   ],
   "source": [
    "test.head()"
   ]
  },
  {
   "cell_type": "markdown",
   "metadata": {},
   "source": [
    "# keras模型训练"
   ]
  },
  {
   "cell_type": "markdown",
   "metadata": {},
   "source": [
    "准备数据"
   ]
  },
  {
   "cell_type": "code",
   "execution_count": 19,
   "metadata": {
    "scrolled": false
   },
   "outputs": [
    {
     "name": "stdout",
     "output_type": "stream",
     "text": [
      "查看训练集\n",
      "    Year  Month  Day  Hour  Minutes        WTC        WRH        GHR  \\\n",
      "0  2018      1   19    18       30  26.243799  50.889774  71.416481   \n",
      "1  2018      1   19    18       35  26.641783  49.539795  77.177094   \n",
      "2  2018      1   19    18       40  26.654078  53.414265  78.373489   \n",
      "3  2018      1   19    18       45  26.439108  55.582245  78.022881   \n",
      "4  2018      1   19    18       50  26.479477  56.173820  82.106972   \n",
      "\n",
      "         DHR        RGT        RDT  1A Trina_power  \n",
      "0  67.523544  65.268631  59.278999        0.318600  \n",
      "1  71.776718  72.546944  63.134579        0.328800  \n",
      "2  69.008316  76.711456  65.430550        0.334200  \n",
      "3  67.560181  80.445709  66.812790        0.333133  \n",
      "4  73.004196  83.035919  69.054459        0.332400  \n",
      "查看测试集\n",
      "        Timestamp  Year  Month  Day  Hour  Minutes        WTC        WRH  \\\n",
      "0  2020/1/1 0:00  2020      1    1     0        0  29.685360  21.727171   \n",
      "1  2020/1/1 0:05  2020      1    1     0        5  29.559967  21.878902   \n",
      "2  2020/1/1 0:10  2020      1    1     0       10  29.530006  21.859453   \n",
      "3  2020/1/1 0:15  2020      1    1     0       15  29.474438  21.897285   \n",
      "4  2020/1/1 0:20  2020      1    1     0       20  29.365288  22.085625   \n",
      "\n",
      "        GHR       DHR         WD  WDR       RGT       RDT  1A Trina_power  \n",
      "0  1.360221  1.191879  33.216167  0.0  2.958199  0.524153             0.0  \n",
      "1  1.532208  1.460944  33.254341  0.0  3.288470  0.764565             0.0  \n",
      "2  1.186835  1.118219  33.302616  0.0  3.253541  0.725652             0.0  \n",
      "3  1.017349  0.824890  33.337837  0.0  3.260514  0.706365             0.0  \n",
      "4  1.323369  1.175776  33.375069  0.0  3.148183  0.694154             0.0  \n"
     ]
    }
   ],
   "source": [
    "# train1=train[['Year','Month','Day', 'Hour',\n",
    "#        'Minutes','WTC', 'WRH', 'GHR', 'DHR', 'WD', 'WDR', 'RGT', 'RDT', '1A Trina_power']]\n",
    "# print(\"查看训练集\\n\",train1.head())\n",
    "# test1=test[['Year','Month','Day', 'Hour',\n",
    "#        'Minutes','WTC', 'WRH', 'GHR', 'DHR', 'WD', 'WDR', 'RGT', 'RDT', '1A Trina_power']]\n",
    "# print(\"查看测试集\\n\",test.head())\n",
    "############\n",
    "#去除 WD，WDR 特征\n",
    "train1=train[['Year','Month','Day', 'Hour',\n",
    "       'Minutes','WTC', 'WRH', 'GHR', 'DHR', 'RGT', 'RDT', '1A Trina_power']]\n",
    "print(\"查看训练集\\n\",train1.head())\n",
    "test1=test[['Year','Month','Day', 'Hour',\n",
    "       'Minutes','WTC', 'WRH', 'GHR', 'DHR','RGT', 'RDT', '1A Trina_power']]\n",
    "print(\"查看测试集\\n\",test.head())\n"
   ]
  },
  {
   "cell_type": "markdown",
   "metadata": {},
   "source": [
    "# 构建序列"
   ]
  },
  {
   "cell_type": "code",
   "execution_count": 20,
   "metadata": {},
   "outputs": [],
   "source": [
    "# convert series to supervised learning\n",
    "def series_to_supervised(data, n_in=1, n_out=1, dropnan=True):\n",
    "#     n_vars = 1 if type(data) is list else data.shape[1]\n",
    "    n_vars = list(data)\n",
    "    df = pd.DataFrame(data)\n",
    "    cols, names = list(), list()\n",
    "    # input sequence (t-n, ... t-1)\n",
    "    for i in range(n_in, 0, -1):\n",
    "        cols.append(df.shift(i))\n",
    "        names += [('%s(t-%d)' % (j, i)) for j in n_vars]\n",
    "    # forecast sequence (t, t+1, ... t+n)\n",
    "    for i in range(0, n_out):\n",
    "        cols.append(df.shift(-i))\n",
    "        if i == 0:\n",
    "            names += [('%s(t)' % (j) )for j in n_vars]\n",
    "        else:\n",
    "            names += [('%s(t+%d)' % (j, i)) for j in n_vars]\n",
    "    # put it all together\n",
    "    agg = pd.concat(cols, axis=1)\n",
    "    agg.columns = names\n",
    "    # drop rows with NaN values\n",
    "    if dropnan:\n",
    "        agg.dropna(inplace=True)\n",
    "    return agg"
   ]
  },
  {
   "cell_type": "code",
   "execution_count": 21,
   "metadata": {},
   "outputs": [],
   "source": [
    "train1 = series_to_supervised(train,1,2)\n",
    "test1 = series_to_supervised(test,1,2)"
   ]
  },
  {
   "cell_type": "code",
   "execution_count": 22,
   "metadata": {},
   "outputs": [],
   "source": [
    "# Timestamp = "
   ]
  },
  {
   "cell_type": "code",
   "execution_count": 23,
   "metadata": {},
   "outputs": [
    {
     "data": {
      "text/plain": [
       "Index(['Timestamp(t-1)', 'Year(t-1)', 'Month(t-1)', 'Day(t-1)', 'Hour(t-1)',\n",
       "       'Minutes(t-1)', 'WTC(t-1)', 'WRH(t-1)', 'GHR(t-1)', 'DHR(t-1)',\n",
       "       'WD(t-1)', 'WDR(t-1)', 'RGT(t-1)', 'RDT(t-1)', '1A Trina_power(t-1)',\n",
       "       'Timestamp(t)', 'Year(t)', 'Month(t)', 'Day(t)', 'Hour(t)',\n",
       "       'Minutes(t)', 'WTC(t)', 'WRH(t)', 'GHR(t)', 'DHR(t)', 'WD(t)', 'WDR(t)',\n",
       "       'RGT(t)', 'RDT(t)', '1A Trina_power(t)', 'Timestamp(t+1)', 'Year(t+1)',\n",
       "       'Month(t+1)', 'Day(t+1)', 'Hour(t+1)', 'Minutes(t+1)', 'WTC(t+1)',\n",
       "       'WRH(t+1)', 'GHR(t+1)', 'DHR(t+1)', 'WD(t+1)', 'WDR(t+1)', 'RGT(t+1)',\n",
       "       'RDT(t+1)', '1A Trina_power(t+1)'],\n",
       "      dtype='object')"
      ]
     },
     "execution_count": 23,
     "metadata": {},
     "output_type": "execute_result"
    }
   ],
   "source": [
    "train1.columns"
   ]
  },
  {
   "cell_type": "code",
   "execution_count": 24,
   "metadata": {},
   "outputs": [
    {
     "data": {
      "text/plain": [
       "Index(['Timestamp(t-1)', 'Year(t-1)', 'Month(t-1)', 'Day(t-1)', 'Hour(t-1)',\n",
       "       'Minutes(t-1)', 'WTC(t-1)', 'WRH(t-1)', 'GHR(t-1)', 'DHR(t-1)',\n",
       "       'WD(t-1)', 'WDR(t-1)', 'RGT(t-1)', 'RDT(t-1)', '1A Trina_power(t-1)',\n",
       "       'Timestamp(t)', 'Year(t)', 'Month(t)', 'Day(t)', 'Hour(t)',\n",
       "       'Minutes(t)', 'WTC(t)', 'WRH(t)', 'GHR(t)', 'DHR(t)', 'WD(t)', 'WDR(t)',\n",
       "       'RGT(t)', 'RDT(t)', '1A Trina_power(t)', 'Timestamp(t+1)', 'Year(t+1)',\n",
       "       'Month(t+1)', 'Day(t+1)', 'Hour(t+1)', 'Minutes(t+1)', 'WTC(t+1)',\n",
       "       'WRH(t+1)', 'GHR(t+1)', 'DHR(t+1)', 'WD(t+1)', 'WDR(t+1)', 'RGT(t+1)',\n",
       "       'RDT(t+1)', '1A Trina_power(t+1)'],\n",
       "      dtype='object')"
      ]
     },
     "execution_count": 24,
     "metadata": {},
     "output_type": "execute_result"
    }
   ],
   "source": [
    "test1.columns"
   ]
  },
  {
   "cell_type": "code",
   "execution_count": 25,
   "metadata": {},
   "outputs": [],
   "source": [
    "train1.drop(train1.columns[[0,1,15,16,17,18,19,20,21,22,23,24,25,26,27,28,30,31,32,33,34,35,36,37,38,39,40,41,42,43]],axis=1,inplace=True)\n",
    "\n",
    "test1.drop(test1.columns[[0,1,15,16,17,18,19,20,21,22,23,24,25,26,27,28,30,31,32,33,34,35,36,37,38,39,40,41,42,43]],axis=1,inplace=True)"
   ]
  },
  {
   "cell_type": "code",
   "execution_count": 26,
   "metadata": {},
   "outputs": [
    {
     "data": {
      "text/plain": [
       "Index(['Month(t-1)', 'Day(t-1)', 'Hour(t-1)', 'Minutes(t-1)', 'WTC(t-1)',\n",
       "       'WRH(t-1)', 'GHR(t-1)', 'DHR(t-1)', 'WD(t-1)', 'WDR(t-1)', 'RGT(t-1)',\n",
       "       'RDT(t-1)', '1A Trina_power(t-1)', '1A Trina_power(t)',\n",
       "       '1A Trina_power(t+1)'],\n",
       "      dtype='object')"
      ]
     },
     "execution_count": 26,
     "metadata": {},
     "output_type": "execute_result"
    }
   ],
   "source": [
    "train1.columns"
   ]
  },
  {
   "cell_type": "code",
   "execution_count": 27,
   "metadata": {},
   "outputs": [
    {
     "name": "stdout",
     "output_type": "stream",
     "text": [
      "(113140, 14) (113140, 1) (28286, 14) (28286, 1) (26089, 14) (26089, 1)\n",
      "(113140, 1, 14) (113140, 1) (28286, 1, 14) (28286, 1) (26089, 1, 14) (26089, 1)\n"
     ]
    }
   ],
   "source": [
    "train1 = train1.values\n",
    "train1 = train1.astype('float32')     # 将整型变为float\n",
    "scaler = MinMaxScaler(feature_range=(0, 1)) # 数据处理，归一化至0~1之间\n",
    "train1 = scaler.fit_transform(train1)\n",
    "\n",
    "test1 = test1.values\n",
    "test1 = test1.astype('float32')     # 将整型变为float\n",
    "scaler = MinMaxScaler(feature_range=(0, 1)) # 数据处理，归一化至0~1之间\n",
    "test1 = scaler.fit_transform(test1)\n",
    "\n",
    "inds = np.arange(train1.shape[0])\n",
    "train1_inds = inds[0:int(train1.shape[0]*0.8)]\n",
    "eval1_inds = inds[int(train1.shape[0]*0.8):train1.shape[0]]\n",
    "\n",
    "\n",
    "train_X, train_y = train1[train1_inds,:-1], train1[train1_inds,-1:]\n",
    "eval_X,eval_y = train1[eval1_inds,:-1], train1[eval1_inds,-1:]\n",
    "test_X, test_y = test1[:, :-1], test1[:,-1:]\n",
    "\n",
    "# reshape input to be 3D [samples, timesteps, features]\n",
    "train_Xl = train_X.reshape((train_X.shape[0], 1, train_X.shape[1]))\n",
    "eval_Xl = eval_X.reshape((eval_X.shape[0],1,eval_X.shape[1]))\n",
    "test_Xl = test_X.reshape((test_X.shape[0], 1, test_X.shape[1]))\n",
    "print(train_X.shape, train_y.shape,eval_X.shape,eval_y.shape, test_X.shape, test_y.shape)\n",
    "print(train_Xl.shape, train_y.shape,eval_Xl.shape,eval_y.shape, test_Xl.shape, test_y.shape)"
   ]
  },
  {
   "cell_type": "markdown",
   "metadata": {},
   "source": [
    "# 归一化数据"
   ]
  },
  {
   "cell_type": "code",
   "execution_count": 28,
   "metadata": {},
   "outputs": [],
   "source": [
    "# train1 = train1.values\n",
    "# train1 = train1.astype('float32')     # 将整型变为float\n",
    "# scaler = MinMaxScaler(feature_range=(0, 1)) # 数据处理，归一化至0~1之间\n",
    "# train1 = scaler.fit_transform(train1)\n",
    "\n",
    "# test1 = test1.values\n",
    "# test1 = test1.astype('float32')     # 将整型变为float\n",
    "# scaler = MinMaxScaler(feature_range=(0, 1)) # 数据处理，归一化至0~1之间\n",
    "# test1 = scaler.fit_transform(test1)\n",
    "\n",
    "# inds = np.arange(train1.shape[0])\n",
    "# # random.shuffle(inds)\n",
    "# train1_inds = inds[0:int(train1.shape[0]*0.8)]\n",
    "# eval1_inds = inds[int(train1.shape[0]*0.8):train1.shape[0]]\n",
    "\n",
    "# train_X, train_y = train1[train1_inds,1:-1], train1[train1_inds,-1:]\n",
    "# #############\n",
    "# train_year =train1[train1_inds,0:1]\n",
    "# ##############\n",
    "# eval_x,eval_y = train1[eval1_inds,1:-1], train1[eval1_inds,-1:]\n",
    "# test_X, test_y = test1[:,1:-1], test1[:,-1:]\n",
    "# ##############\n",
    "# test_year = test1[:,0:1]\n",
    "##############"
   ]
  },
  {
   "cell_type": "code",
   "execution_count": 29,
   "metadata": {},
   "outputs": [
    {
     "data": {
      "text/plain": [
       "array([[0.00330724],\n",
       "       [0.00330724],\n",
       "       [0.00330724],\n",
       "       ...,\n",
       "       [0.00330724],\n",
       "       [0.00330724],\n",
       "       [0.00330724]], dtype=float32)"
      ]
     },
     "execution_count": 29,
     "metadata": {},
     "output_type": "execute_result"
    }
   ],
   "source": [
    "test_y"
   ]
  },
  {
   "cell_type": "code",
   "execution_count": 30,
   "metadata": {
    "scrolled": true
   },
   "outputs": [
    {
     "name": "stdout",
     "output_type": "stream",
     "text": [
      "[[0.         0.6        0.7826087  ... 0.03996861 0.0411343  0.04175143]\n",
      " [0.         0.6        0.7826087  ... 0.0411343  0.04175143 0.04162953]\n",
      " [0.         0.6        0.7826087  ... 0.04175143 0.04162953 0.04154572]\n",
      " ...\n",
      " [1.         1.0000001  1.         ... 0.00355801 0.00355801 0.00355801]\n",
      " [1.         1.0000001  1.         ... 0.00355801 0.00355801 0.00355801]\n",
      " [1.         1.0000001  1.         ... 0.00355801 0.00355801 0.00355801]]\n"
     ]
    }
   ],
   "source": [
    "print(train1)"
   ]
  },
  {
   "cell_type": "code",
   "execution_count": 31,
   "metadata": {},
   "outputs": [
    {
     "name": "stdout",
     "output_type": "stream",
     "text": [
      "[[0.         0.6        0.7826087  ... 0.20160824 0.03996861 0.0411343 ]\n",
      " [0.         0.6        0.7826087  ... 0.21471684 0.0411343  0.04175143]\n",
      " [0.         0.6        0.7826087  ... 0.22252293 0.04175143 0.04162953]\n",
      " ...\n",
      " [0.27272728 0.26666668 0.9130435  ... 0.00528525 0.00355801 0.00355801]\n",
      " [0.27272728 0.26666668 0.9130435  ... 0.00463772 0.00355801 0.00355801]\n",
      " [0.27272728 0.26666668 0.9130435  ... 0.0033492  0.00355801 0.00355801]]\n"
     ]
    }
   ],
   "source": [
    "print(train_X)"
   ]
  },
  {
   "cell_type": "code",
   "execution_count": 32,
   "metadata": {},
   "outputs": [
    {
     "name": "stdout",
     "output_type": "stream",
     "text": [
      "[[0.04175143]\n",
      " [0.04162953]\n",
      " [0.04154572]\n",
      " ...\n",
      " [0.00355801]\n",
      " [0.00355801]\n",
      " [0.00355801]]\n"
     ]
    }
   ],
   "source": [
    "print(train_y)"
   ]
  },
  {
   "cell_type": "code",
   "execution_count": 33,
   "metadata": {},
   "outputs": [],
   "source": [
    "# print(train_year)"
   ]
  },
  {
   "cell_type": "code",
   "execution_count": 34,
   "metadata": {},
   "outputs": [
    {
     "name": "stdout",
     "output_type": "stream",
     "text": [
      "(113140, 14) (113140, 1) (26089, 14) (26089, 1)\n"
     ]
    }
   ],
   "source": [
    "print(train_X.shape,train_y.shape,test_X.shape,test_y.shape)"
   ]
  },
  {
   "cell_type": "markdown",
   "metadata": {},
   "source": [
    "# SVM model"
   ]
  },
  {
   "cell_type": "code",
   "execution_count": 95,
   "metadata": {},
   "outputs": [
    {
     "name": "stderr",
     "output_type": "stream",
     "text": [
      "C:\\ProgramData\\Anaconda3\\lib\\site-packages\\sklearn\\utils\\validation.py:578: DataConversionWarning: A column-vector y was passed when a 1d array was expected. Please change the shape of y to (n_samples, ), for example using ravel().\n",
      "  y = column_or_1d(y, warn=True)\n"
     ]
    },
    {
     "data": {
      "text/plain": [
       "SVR(C=1, cache_size=200, coef0=0.0, degree=5, epsilon=0.1, gamma='auto',\n",
       "  kernel='rbf', max_iter=-1, shrinking=True, tol=0.0001, verbose=False)"
      ]
     },
     "execution_count": 95,
     "metadata": {},
     "output_type": "execute_result"
    }
   ],
   "source": [
    "model=svm.SVR(C=1, cache_size=200, coef0=0.0, degree=5, epsilon=0.1, gamma='auto',\n",
    "  kernel='rbf', max_iter=-1, shrinking=True, tol=0.0001, verbose=False)\n",
    "model.fit(train_X, train_y)"
   ]
  },
  {
   "cell_type": "code",
   "execution_count": 96,
   "metadata": {},
   "outputs": [
    {
     "data": {
      "text/plain": [
       "['../logs/modelsvm.m']"
      ]
     },
     "execution_count": 96,
     "metadata": {},
     "output_type": "execute_result"
    }
   ],
   "source": [
    "#模型保存\n",
    "modelsvm = model\n",
    "joblib.dump(modelsvm, \"../logs/modelsvm.m\")"
   ]
  },
  {
   "cell_type": "code",
   "execution_count": 86,
   "metadata": {},
   "outputs": [],
   "source": [
    "# #模型读取\n",
    "# clf = joblib.load(\"train_model.m\")\n",
    "# clf.predit([0,0]) #此处test_X为特征集"
   ]
  },
  {
   "cell_type": "code",
   "execution_count": 87,
   "metadata": {},
   "outputs": [],
   "source": [
    "# testPredictSVM=modelsvm.predict(test_X)\n",
    "# print(testPredictSVM.shape())\n",
    "# testPredictSVM=testPredictSVM[:, np.newaxis]\n",
    "# print(testPredictSVM.shape())"
   ]
  },
  {
   "cell_type": "markdown",
   "metadata": {},
   "source": [
    "# BP model"
   ]
  },
  {
   "cell_type": "code",
   "execution_count": 100,
   "metadata": {},
   "outputs": [
    {
     "name": "stderr",
     "output_type": "stream",
     "text": [
      "C:\\ProgramData\\Anaconda3\\lib\\site-packages\\ipykernel_launcher.py:2: UserWarning: Update your `Dense` call to the Keras 2 API: `Dense(64, input_shape=(14,), activation=\"sigmoid\", kernel_initializer=\"uniform\")`\n",
      "  \n"
     ]
    },
    {
     "name": "stdout",
     "output_type": "stream",
     "text": [
      "Train on 113140 samples, validate on 28286 samples\n",
      "Epoch 1/50\n",
      "113140/113140 [==============================] - 1s - loss: 0.2191 - mean_absolute_error: 0.2191 - val_loss: 0.2009 - val_mean_absolute_error: 0.2009\n",
      "Epoch 2/50\n",
      "113140/113140 [==============================] - 1s - loss: 0.1079 - mean_absolute_error: 0.1079 - val_loss: 0.0778 - val_mean_absolute_error: 0.0778\n",
      "Epoch 3/50\n",
      "113140/113140 [==============================] - 1s - loss: 0.0624 - mean_absolute_error: 0.0624 - val_loss: 0.0602 - val_mean_absolute_error: 0.0602\n",
      "Epoch 4/50\n",
      "113140/113140 [==============================] - 1s - loss: 0.0528 - mean_absolute_error: 0.0528 - val_loss: 0.0453 - val_mean_absolute_error: 0.0453\n",
      "Epoch 5/50\n",
      "113140/113140 [==============================] - 1s - loss: 0.0458 - mean_absolute_error: 0.0458 - val_loss: 0.0407 - val_mean_absolute_error: 0.0407\n",
      "Epoch 6/50\n",
      "113140/113140 [==============================] - 1s - loss: 0.0414 - mean_absolute_error: 0.0414 - val_loss: 0.0429 - val_mean_absolute_error: 0.0429\n",
      "Epoch 7/50\n",
      "113140/113140 [==============================] - 1s - loss: 0.0393 - mean_absolute_error: 0.0393 - val_loss: 0.0438 - val_mean_absolute_error: 0.0438\n",
      "Epoch 8/50\n",
      "113140/113140 [==============================] - 1s - loss: 0.0383 - mean_absolute_error: 0.0383 - val_loss: 0.0437 - val_mean_absolute_error: 0.0437\n",
      "Epoch 9/50\n",
      "113140/113140 [==============================] - 1s - loss: 0.0376 - mean_absolute_error: 0.0376 - val_loss: 0.0464 - val_mean_absolute_error: 0.0464\n",
      "Epoch 10/50\n",
      "113140/113140 [==============================] - 1s - loss: 0.0369 - mean_absolute_error: 0.0369 - val_loss: 0.0483 - val_mean_absolute_error: 0.0483\n",
      "Epoch 11/50\n",
      "113140/113140 [==============================] - 1s - loss: 0.0362 - mean_absolute_error: 0.0362 - val_loss: 0.0462 - val_mean_absolute_error: 0.0462\n",
      "Epoch 12/50\n",
      "113140/113140 [==============================] - 1s - loss: 0.0353 - mean_absolute_error: 0.0353 - val_loss: 0.0448 - val_mean_absolute_error: 0.0448\n",
      "Epoch 13/50\n",
      "113140/113140 [==============================] - 1s - loss: 0.0342 - mean_absolute_error: 0.0342 - val_loss: 0.0416 - val_mean_absolute_error: 0.0416\n",
      "Epoch 14/50\n",
      "113140/113140 [==============================] - 1s - loss: 0.0329 - mean_absolute_error: 0.0329 - val_loss: 0.0384 - val_mean_absolute_error: 0.0384\n",
      "Epoch 15/50\n",
      "113140/113140 [==============================] - 1s - loss: 0.0314 - mean_absolute_error: 0.0314 - val_loss: 0.0359 - val_mean_absolute_error: 0.0359\n",
      "Epoch 16/50\n",
      "113140/113140 [==============================] - 1s - loss: 0.0300 - mean_absolute_error: 0.0300 - val_loss: 0.0343 - val_mean_absolute_error: 0.0343\n",
      "Epoch 17/50\n",
      "113140/113140 [==============================] - 1s - loss: 0.0286 - mean_absolute_error: 0.0286 - val_loss: 0.0308 - val_mean_absolute_error: 0.0308\n",
      "Epoch 18/50\n",
      "113140/113140 [==============================] - 1s - loss: 0.0275 - mean_absolute_error: 0.0275 - val_loss: 0.0300 - val_mean_absolute_error: 0.0300\n",
      "Epoch 19/50\n",
      "113140/113140 [==============================] - 1s - loss: 0.0266 - mean_absolute_error: 0.0266 - val_loss: 0.0307 - val_mean_absolute_error: 0.0307\n",
      "Epoch 20/50\n",
      "113140/113140 [==============================] - 1s - loss: 0.0258 - mean_absolute_error: 0.0258 - val_loss: 0.0291 - val_mean_absolute_error: 0.0291\n",
      "Epoch 21/50\n",
      "113140/113140 [==============================] - 1s - loss: 0.0252 - mean_absolute_error: 0.0252 - val_loss: 0.0295 - val_mean_absolute_error: 0.0295\n",
      "Epoch 22/50\n",
      "113140/113140 [==============================] - 1s - loss: 0.0247 - mean_absolute_error: 0.0247 - val_loss: 0.0301 - val_mean_absolute_error: 0.0301\n",
      "Epoch 23/50\n",
      "113140/113140 [==============================] - 1s - loss: 0.0242 - mean_absolute_error: 0.0242 - val_loss: 0.0289 - val_mean_absolute_error: 0.0289\n",
      "Epoch 24/50\n",
      "113140/113140 [==============================] - 1s - loss: 0.0238 - mean_absolute_error: 0.0238 - val_loss: 0.0277 - val_mean_absolute_error: 0.0277\n",
      "Epoch 25/50\n",
      "113140/113140 [==============================] - 1s - loss: 0.0234 - mean_absolute_error: 0.0234 - val_loss: 0.0279 - val_mean_absolute_error: 0.0279\n",
      "Epoch 26/50\n",
      "113140/113140 [==============================] - 1s - loss: 0.0231 - mean_absolute_error: 0.0231 - val_loss: 0.0270 - val_mean_absolute_error: 0.0270\n",
      "Epoch 27/50\n",
      "113140/113140 [==============================] - 1s - loss: 0.0227 - mean_absolute_error: 0.0227 - val_loss: 0.0270 - val_mean_absolute_error: 0.0270\n",
      "Epoch 28/50\n",
      "113140/113140 [==============================] - 1s - loss: 0.0224 - mean_absolute_error: 0.0224 - val_loss: 0.0268 - val_mean_absolute_error: 0.0268\n",
      "Epoch 29/50\n",
      "113140/113140 [==============================] - 1s - loss: 0.0221 - mean_absolute_error: 0.0221 - val_loss: 0.0272 - val_mean_absolute_error: 0.0272\n",
      "Epoch 30/50\n",
      "113140/113140 [==============================] - 1s - loss: 0.0218 - mean_absolute_error: 0.0218 - val_loss: 0.0262 - val_mean_absolute_error: 0.0262\n",
      "Epoch 31/50\n",
      "113140/113140 [==============================] - 1s - loss: 0.0215 - mean_absolute_error: 0.0215 - val_loss: 0.0256 - val_mean_absolute_error: 0.0256\n",
      "Epoch 32/50\n",
      "113140/113140 [==============================] - 1s - loss: 0.0212 - mean_absolute_error: 0.0212 - val_loss: 0.0264 - val_mean_absolute_error: 0.0264\n",
      "Epoch 33/50\n",
      "113140/113140 [==============================] - 1s - loss: 0.0210 - mean_absolute_error: 0.0210 - val_loss: 0.0250 - val_mean_absolute_error: 0.0250\n",
      "Epoch 34/50\n",
      "113140/113140 [==============================] - 1s - loss: 0.0207 - mean_absolute_error: 0.0207 - val_loss: 0.0252 - val_mean_absolute_error: 0.0252\n",
      "Epoch 35/50\n",
      "113140/113140 [==============================] - 1s - loss: 0.0204 - mean_absolute_error: 0.0204 - val_loss: 0.0243 - val_mean_absolute_error: 0.0243\n",
      "Epoch 36/50\n",
      "113140/113140 [==============================] - 1s - loss: 0.0201 - mean_absolute_error: 0.0201 - val_loss: 0.0240 - val_mean_absolute_error: 0.0240\n",
      "Epoch 37/50\n",
      "113140/113140 [==============================] - 1s - loss: 0.0198 - mean_absolute_error: 0.0198 - val_loss: 0.0247 - val_mean_absolute_error: 0.0247\n",
      "Epoch 38/50\n",
      "113140/113140 [==============================] - 1s - loss: 0.0196 - mean_absolute_error: 0.0196 - val_loss: 0.0237 - val_mean_absolute_error: 0.0237\n",
      "Epoch 39/50\n",
      "113140/113140 [==============================] - 1s - loss: 0.0193 - mean_absolute_error: 0.0193 - val_loss: 0.0232 - val_mean_absolute_error: 0.0232\n",
      "Epoch 40/50\n",
      "113140/113140 [==============================] - 1s - loss: 0.0191 - mean_absolute_error: 0.0191 - val_loss: 0.0229 - val_mean_absolute_error: 0.0229\n",
      "Epoch 41/50\n",
      "113140/113140 [==============================] - 1s - loss: 0.0189 - mean_absolute_error: 0.0189 - val_loss: 0.0226 - val_mean_absolute_error: 0.0226\n",
      "Epoch 42/50\n",
      "113140/113140 [==============================] - 1s - loss: 0.0186 - mean_absolute_error: 0.0186 - val_loss: 0.0223 - val_mean_absolute_error: 0.0223\n",
      "Epoch 43/50\n",
      "113140/113140 [==============================] - 1s - loss: 0.0184 - mean_absolute_error: 0.0184 - val_loss: 0.0226 - val_mean_absolute_error: 0.0226\n",
      "Epoch 44/50\n",
      "113140/113140 [==============================] - 1s - loss: 0.0182 - mean_absolute_error: 0.0182 - val_loss: 0.0226 - val_mean_absolute_error: 0.0226\n",
      "Epoch 45/50\n",
      "113140/113140 [==============================] - 1s - loss: 0.0180 - mean_absolute_error: 0.0180 - val_loss: 0.0216 - val_mean_absolute_error: 0.0216\n",
      "Epoch 46/50\n",
      "113140/113140 [==============================] - 1s - loss: 0.0179 - mean_absolute_error: 0.0179 - val_loss: 0.0214 - val_mean_absolute_error: 0.0214\n",
      "Epoch 47/50\n",
      "113140/113140 [==============================] - 1s - loss: 0.0177 - mean_absolute_error: 0.0177 - val_loss: 0.0212 - val_mean_absolute_error: 0.0212\n",
      "Epoch 48/50\n",
      "113140/113140 [==============================] - 1s - loss: 0.0176 - mean_absolute_error: 0.0176 - val_loss: 0.0213 - val_mean_absolute_error: 0.0213\n",
      "Epoch 49/50\n",
      "113140/113140 [==============================] - 1s - loss: 0.0174 - mean_absolute_error: 0.0174 - val_loss: 0.0218 - val_mean_absolute_error: 0.0218\n",
      "Epoch 50/50\n",
      "113140/113140 [==============================] - 1s - loss: 0.0173 - mean_absolute_error: 0.0173 - val_loss: 0.0212 - val_mean_absolute_error: 0.0212\n"
     ]
    },
    {
     "name": "stdout",
     "output_type": "stream",
     "text": [
      "25632/26089 [============================>.] - ETA: 0s"
     ]
    },
    {
     "data": {
      "text/plain": [
       "[0.020529992653935167, 0.020529992653935167]"
      ]
     },
     "execution_count": 100,
     "metadata": {},
     "output_type": "execute_result"
    }
   ],
   "source": [
    "model=Sequential() #初始化模型\n",
    "model.add(Dense(64,input_shape = (14,),activation='sigmoid',init='uniform')) #添加一个隐含层，注：只是第一个隐含层需指定input_dim\n",
    "model.add(Dense(1,activation='sigmoid')) #添加输出层\n",
    "model.compile(loss='mean_absolute_error', optimizer='rmsprop', metrics=['mae'])  # 编译，指定目标函数与优化方法\n",
    "# model4.fit(train_X,train_y ) # 模型训练\n",
    "history=model.fit(x = train_X,y = train_y, validation_data = (eval_X,eval_y), epochs=50, batch_size=1000)\n",
    "model.evaluate(test_X,test_y) #模型测试"
   ]
  },
  {
   "cell_type": "code",
   "execution_count": 101,
   "metadata": {},
   "outputs": [],
   "source": [
    "#模型保存\n",
    "modelbp = model\n",
    "modelbp.save('../logs/modelbp.h5')  "
   ]
  },
  {
   "cell_type": "code",
   "execution_count": 102,
   "metadata": {},
   "outputs": [],
   "source": [
    "# #模型加载\n",
    "# modelbp = load_model('../logs/modelbp.h5') "
   ]
  },
  {
   "cell_type": "markdown",
   "metadata": {},
   "source": [
    "# DNN model"
   ]
  },
  {
   "cell_type": "code",
   "execution_count": 105,
   "metadata": {
    "scrolled": false
   },
   "outputs": [
    {
     "name": "stdout",
     "output_type": "stream",
     "text": [
      "Train on 113140 samples, validate on 28286 samples\n",
      "Epoch 1/50\n",
      "113140/113140 [==============================] - 1s - loss: 0.2853 - mean_absolute_error: 0.2853 - val_loss: 0.2922 - val_mean_absolute_error: 0.2922\n",
      "Epoch 2/50\n",
      "113140/113140 [==============================] - 1s - loss: 0.2279 - mean_absolute_error: 0.2279 - val_loss: 0.2686 - val_mean_absolute_error: 0.2686\n",
      "Epoch 3/50\n",
      "113140/113140 [==============================] - 1s - loss: 0.2027 - mean_absolute_error: 0.2027 - val_loss: 0.2173 - val_mean_absolute_error: 0.2173\n",
      "Epoch 4/50\n",
      "113140/113140 [==============================] - 1s - loss: 0.1228 - mean_absolute_error: 0.1228 - val_loss: 0.1309 - val_mean_absolute_error: 0.1309\n",
      "Epoch 5/50\n",
      "113140/113140 [==============================] - 1s - loss: 0.0752 - mean_absolute_error: 0.0752 - val_loss: 0.1080 - val_mean_absolute_error: 0.1080\n",
      "Epoch 6/50\n",
      "113140/113140 [==============================] - 1s - loss: 0.0607 - mean_absolute_error: 0.0607 - val_loss: 0.0957 - val_mean_absolute_error: 0.0957\n",
      "Epoch 7/50\n",
      "113140/113140 [==============================] - 1s - loss: 0.0522 - mean_absolute_error: 0.0522 - val_loss: 0.0844 - val_mean_absolute_error: 0.0844\n",
      "Epoch 8/50\n",
      "113140/113140 [==============================] - 1s - loss: 0.0460 - mean_absolute_error: 0.0460 - val_loss: 0.0771 - val_mean_absolute_error: 0.0771\n",
      "Epoch 9/50\n",
      "113140/113140 [==============================] - 1s - loss: 0.0398 - mean_absolute_error: 0.0398 - val_loss: 0.0608 - val_mean_absolute_error: 0.0608\n",
      "Epoch 10/50\n",
      "113140/113140 [==============================] - 1s - loss: 0.0334 - mean_absolute_error: 0.0334 - val_loss: 0.0460 - val_mean_absolute_error: 0.0460\n",
      "Epoch 11/50\n",
      "113140/113140 [==============================] - 1s - loss: 0.0285 - mean_absolute_error: 0.0285 - val_loss: 0.0355 - val_mean_absolute_error: 0.0355\n",
      "Epoch 12/50\n",
      "113140/113140 [==============================] - 1s - loss: 0.0255 - mean_absolute_error: 0.0255 - val_loss: 0.0317 - val_mean_absolute_error: 0.0317\n",
      "Epoch 13/50\n",
      "113140/113140 [==============================] - 1s - loss: 0.0234 - mean_absolute_error: 0.0234 - val_loss: 0.0295 - val_mean_absolute_error: 0.0295\n",
      "Epoch 14/50\n",
      "113140/113140 [==============================] - 1s - loss: 0.0220 - mean_absolute_error: 0.0220 - val_loss: 0.0258 - val_mean_absolute_error: 0.0258\n",
      "Epoch 15/50\n",
      "113140/113140 [==============================] - 1s - loss: 0.0208 - mean_absolute_error: 0.0208 - val_loss: 0.0243 - val_mean_absolute_error: 0.0243\n",
      "Epoch 16/50\n",
      "113140/113140 [==============================] - 1s - loss: 0.0199 - mean_absolute_error: 0.0199 - val_loss: 0.0228 - val_mean_absolute_error: 0.0228\n",
      "Epoch 17/50\n",
      "113140/113140 [==============================] - 1s - loss: 0.0190 - mean_absolute_error: 0.0190 - val_loss: 0.0225 - val_mean_absolute_error: 0.0225\n",
      "Epoch 18/50\n",
      "113140/113140 [==============================] - 1s - loss: 0.0184 - mean_absolute_error: 0.0184 - val_loss: 0.0217 - val_mean_absolute_error: 0.0217\n",
      "Epoch 19/50\n",
      "113140/113140 [==============================] - 1s - loss: 0.0179 - mean_absolute_error: 0.0179 - val_loss: 0.0202 - val_mean_absolute_error: 0.0202\n",
      "Epoch 20/50\n",
      "113140/113140 [==============================] - 1s - loss: 0.0175 - mean_absolute_error: 0.0175 - val_loss: 0.0197 - val_mean_absolute_error: 0.0197\n",
      "Epoch 21/50\n",
      "113140/113140 [==============================] - 1s - loss: 0.0171 - mean_absolute_error: 0.0171 - val_loss: 0.0197 - val_mean_absolute_error: 0.0197\n",
      "Epoch 22/50\n",
      "113140/113140 [==============================] - 1s - loss: 0.0168 - mean_absolute_error: 0.0168 - val_loss: 0.0191 - val_mean_absolute_error: 0.0191\n",
      "Epoch 23/50\n",
      "113140/113140 [==============================] - 1s - loss: 0.0166 - mean_absolute_error: 0.0166 - val_loss: 0.0188 - val_mean_absolute_error: 0.0188\n",
      "Epoch 24/50\n",
      "113140/113140 [==============================] - 1s - loss: 0.0165 - mean_absolute_error: 0.0165 - val_loss: 0.0188 - val_mean_absolute_error: 0.0188\n",
      "Epoch 25/50\n",
      "113140/113140 [==============================] - 1s - loss: 0.0163 - mean_absolute_error: 0.0163 - val_loss: 0.0182 - val_mean_absolute_error: 0.0182\n",
      "Epoch 26/50\n",
      "113140/113140 [==============================] - 1s - loss: 0.0162 - mean_absolute_error: 0.0162 - val_loss: 0.0181 - val_mean_absolute_error: 0.0181\n",
      "Epoch 27/50\n",
      "113140/113140 [==============================] - 1s - loss: 0.0161 - mean_absolute_error: 0.0161 - val_loss: 0.0189 - val_mean_absolute_error: 0.0189\n",
      "Epoch 28/50\n",
      "113140/113140 [==============================] - 1s - loss: 0.0159 - mean_absolute_error: 0.0159 - val_loss: 0.0195 - val_mean_absolute_error: 0.0195\n",
      "Epoch 29/50\n",
      "113140/113140 [==============================] - 1s - loss: 0.0159 - mean_absolute_error: 0.0159 - val_loss: 0.0180 - val_mean_absolute_error: 0.0180\n",
      "Epoch 30/50\n",
      "113140/113140 [==============================] - 1s - loss: 0.0158 - mean_absolute_error: 0.0158 - val_loss: 0.0184 - val_mean_absolute_error: 0.0184\n",
      "Epoch 31/50\n",
      "113140/113140 [==============================] - 1s - loss: 0.0157 - mean_absolute_error: 0.0157 - val_loss: 0.0186 - val_mean_absolute_error: 0.0186\n",
      "Epoch 32/50\n",
      "113140/113140 [==============================] - 1s - loss: 0.0156 - mean_absolute_error: 0.0156 - val_loss: 0.0180 - val_mean_absolute_error: 0.0180\n",
      "Epoch 33/50\n",
      "113140/113140 [==============================] - 1s - loss: 0.0156 - mean_absolute_error: 0.0156 - val_loss: 0.0174 - val_mean_absolute_error: 0.0174\n",
      "Epoch 34/50\n",
      "113140/113140 [==============================] - 1s - loss: 0.0155 - mean_absolute_error: 0.0155 - val_loss: 0.0182 - val_mean_absolute_error: 0.0182\n",
      "Epoch 35/50\n",
      "113140/113140 [==============================] - 1s - loss: 0.0154 - mean_absolute_error: 0.0154 - val_loss: 0.0180 - val_mean_absolute_error: 0.0180\n",
      "Epoch 36/50\n",
      "113140/113140 [==============================] - 1s - loss: 0.0154 - mean_absolute_error: 0.0154 - val_loss: 0.0170 - val_mean_absolute_error: 0.0170\n",
      "Epoch 37/50\n",
      "113140/113140 [==============================] - 1s - loss: 0.0153 - mean_absolute_error: 0.0153 - val_loss: 0.0182 - val_mean_absolute_error: 0.0182\n",
      "Epoch 38/50\n",
      "113140/113140 [==============================] - 1s - loss: 0.0153 - mean_absolute_error: 0.0153 - val_loss: 0.0183 - val_mean_absolute_error: 0.0183\n",
      "Epoch 39/50\n",
      "113140/113140 [==============================] - 1s - loss: 0.0152 - mean_absolute_error: 0.0152 - val_loss: 0.0177 - val_mean_absolute_error: 0.0177\n",
      "Epoch 40/50\n",
      "113140/113140 [==============================] - 1s - loss: 0.0152 - mean_absolute_error: 0.0152 - val_loss: 0.0183 - val_mean_absolute_error: 0.0183\n",
      "Epoch 41/50\n",
      "113140/113140 [==============================] - 1s - loss: 0.0151 - mean_absolute_error: 0.0151 - val_loss: 0.0183 - val_mean_absolute_error: 0.0183\n",
      "Epoch 42/50\n",
      "113140/113140 [==============================] - 1s - loss: 0.0151 - mean_absolute_error: 0.0151 - val_loss: 0.0171 - val_mean_absolute_error: 0.0171\n",
      "Epoch 43/50\n",
      "113140/113140 [==============================] - 1s - loss: 0.0150 - mean_absolute_error: 0.0150 - val_loss: 0.0181 - val_mean_absolute_error: 0.0181\n",
      "Epoch 44/50\n",
      "113140/113140 [==============================] - 1s - loss: 0.0150 - mean_absolute_error: 0.0150 - val_loss: 0.0172 - val_mean_absolute_error: 0.0172\n",
      "Epoch 45/50\n",
      "113140/113140 [==============================] - 1s - loss: 0.0150 - mean_absolute_error: 0.0150 - val_loss: 0.0167 - val_mean_absolute_error: 0.0167\n",
      "Epoch 46/50\n",
      "113140/113140 [==============================] - 1s - loss: 0.0149 - mean_absolute_error: 0.0149 - val_loss: 0.0171 - val_mean_absolute_error: 0.0171\n",
      "Epoch 47/50\n",
      "113140/113140 [==============================] - 1s - loss: 0.0149 - mean_absolute_error: 0.0149 - val_loss: 0.0187 - val_mean_absolute_error: 0.0187\n",
      "Epoch 48/50\n",
      "113140/113140 [==============================] - 1s - loss: 0.0149 - mean_absolute_error: 0.0149 - val_loss: 0.0165 - val_mean_absolute_error: 0.0165\n",
      "Epoch 49/50\n",
      "113140/113140 [==============================] - 1s - loss: 0.0148 - mean_absolute_error: 0.0148 - val_loss: 0.0166 - val_mean_absolute_error: 0.0166\n",
      "Epoch 50/50\n",
      "113140/113140 [==============================] - 1s - loss: 0.0148 - mean_absolute_error: 0.0148 - val_loss: 0.0168 - val_mean_absolute_error: 0.0168\n"
     ]
    }
   ],
   "source": [
    "model = Sequential()\n",
    "model.add(Dense(units=64, input_shape = (14,),activation='sigmoid',name='layer1',use_bias = True))\n",
    "model.add(Dense(units=32,activation='sigmoid',name='layer2',use_bias = True))\n",
    "model.add(Dense(units=16,name='layer3',activation='sigmoid',use_bias = True))\n",
    "model.add(Dense(units=8,name='layer4',activation='sigmoid',use_bias = True))\n",
    "model.add(Dense(units=1,name='layer5',activation='sigmoid'))\n",
    "model.compile(loss='mean_absolute_error',\n",
    "              optimizer='rmsprop',\n",
    "              metrics=['mae'])\n",
    "history=model.fit(x = train_X,y = train_y, validation_data = (eval_X,eval_y), epochs=50, batch_size=1000)\n",
    "############################################################################################################"
   ]
  },
  {
   "cell_type": "code",
   "execution_count": 106,
   "metadata": {
    "scrolled": true
   },
   "outputs": [
    {
     "data": {
      "image/png": "[encoded data removed]",
      "text/plain": [
       "<Figure size 432x288 with 1 Axes>"
      ]
     },
     "metadata": {},
     "output_type": "display_data"
    }
   ],
   "source": [
    "########################################################################\n",
    "# 绘制训练 & 验证的损失值\n",
    "plt.plot(history.history['loss'])\n",
    "plt.plot(history.history['val_loss'])\n",
    "plt.title('DNN loss')\n",
    "plt.ylabel('Loss')\n",
    "plt.xlabel('Epoch')\n",
    "plt.legend(['Train', 'Test'], loc='upper left')\n",
    "plt.show()"
   ]
  },
  {
   "cell_type": "code",
   "execution_count": 107,
   "metadata": {},
   "outputs": [],
   "source": [
    "#模型保存\n",
    "modeldnn = model\n",
    "modeldnn.save('../logs/modeldnn.h5')  \n"
   ]
  },
  {
   "cell_type": "code",
   "execution_count": 45,
   "metadata": {},
   "outputs": [],
   "source": [
    "# #模型加载\n",
    "# modeldnn = load_model('../logs/modeldnn.h5') "
   ]
  },
  {
   "cell_type": "markdown",
   "metadata": {},
   "source": [
    "# LSTM model"
   ]
  },
  {
   "cell_type": "code",
   "execution_count": 46,
   "metadata": {},
   "outputs": [
    {
     "name": "stdout",
     "output_type": "stream",
     "text": [
      "Train on 113140 samples, validate on 28286 samples\n",
      "Epoch 1/50\n",
      "23s - loss: 0.0257 - val_loss: 0.0231\n",
      "Epoch 2/50\n",
      "22s - loss: 0.0166 - val_loss: 0.0221\n",
      "Epoch 3/50\n",
      "23s - loss: 0.0157 - val_loss: 0.0196\n",
      "Epoch 4/50\n",
      "22s - loss: 0.0153 - val_loss: 0.0187\n",
      "Epoch 5/50\n",
      "24s - loss: 0.0148 - val_loss: 0.0195\n",
      "Epoch 6/50\n",
      "26s - loss: 0.0149 - val_loss: 0.0194\n",
      "Epoch 7/50\n",
      "26s - loss: 0.0144 - val_loss: 0.0170\n",
      "Epoch 8/50\n",
      "26s - loss: 0.0144 - val_loss: 0.0167\n",
      "Epoch 9/50\n",
      "25s - loss: 0.0143 - val_loss: 0.0165\n",
      "Epoch 10/50\n",
      "26s - loss: 0.0137 - val_loss: 0.0184\n",
      "Epoch 11/50\n",
      "28s - loss: 0.0133 - val_loss: 0.0163\n",
      "Epoch 12/50\n",
      "26s - loss: 0.0135 - val_loss: 0.0174\n",
      "Epoch 13/50\n",
      "26s - loss: 0.0135 - val_loss: 0.0171\n",
      "Epoch 14/50\n",
      "25s - loss: 0.0136 - val_loss: 0.0173\n",
      "Epoch 15/50\n",
      "26s - loss: 0.0133 - val_loss: 0.0165\n",
      "Epoch 16/50\n",
      "26s - loss: 0.0133 - val_loss: 0.0157\n",
      "Epoch 17/50\n",
      "26s - loss: 0.0133 - val_loss: 0.0157\n",
      "Epoch 18/50\n",
      "26s - loss: 0.0132 - val_loss: 0.0163\n",
      "Epoch 19/50\n",
      "26s - loss: 0.0131 - val_loss: 0.0200\n",
      "Epoch 20/50\n",
      "26s - loss: 0.0131 - val_loss: 0.0154\n",
      "Epoch 21/50\n",
      "26s - loss: 0.0129 - val_loss: 0.0155\n",
      "Epoch 22/50\n",
      "26s - loss: 0.0129 - val_loss: 0.0150\n",
      "Epoch 23/50\n",
      "26s - loss: 0.0128 - val_loss: 0.0150\n",
      "Epoch 24/50\n",
      "26s - loss: 0.0128 - val_loss: 0.0151\n",
      "Epoch 25/50\n",
      "26s - loss: 0.0130 - val_loss: 0.0168\n",
      "Epoch 26/50\n",
      "26s - loss: 0.0127 - val_loss: 0.0148\n",
      "Epoch 27/50\n",
      "26s - loss: 0.0126 - val_loss: 0.0160\n",
      "Epoch 28/50\n",
      "26s - loss: 0.0128 - val_loss: 0.0152\n",
      "Epoch 29/50\n",
      "26s - loss: 0.0125 - val_loss: 0.0161\n",
      "Epoch 30/50\n",
      "26s - loss: 0.0126 - val_loss: 0.0153\n",
      "Epoch 31/50\n",
      "26s - loss: 0.0127 - val_loss: 0.0172\n",
      "Epoch 32/50\n",
      "27s - loss: 0.0125 - val_loss: 0.0149\n",
      "Epoch 33/50\n",
      "26s - loss: 0.0125 - val_loss: 0.0146\n",
      "Epoch 34/50\n",
      "26s - loss: 0.0124 - val_loss: 0.0141\n",
      "Epoch 35/50\n",
      "26s - loss: 0.0124 - val_loss: 0.0156\n",
      "Epoch 36/50\n",
      "26s - loss: 0.0123 - val_loss: 0.0155\n",
      "Epoch 37/50\n",
      "26s - loss: 0.0123 - val_loss: 0.0160\n",
      "Epoch 38/50\n",
      "26s - loss: 0.0123 - val_loss: 0.0152\n",
      "Epoch 39/50\n",
      "26s - loss: 0.0123 - val_loss: 0.0163\n",
      "Epoch 40/50\n",
      "26s - loss: 0.0124 - val_loss: 0.0151\n",
      "Epoch 41/50\n",
      "26s - loss: 0.0124 - val_loss: 0.0154\n",
      "Epoch 42/50\n",
      "26s - loss: 0.0122 - val_loss: 0.0147\n",
      "Epoch 43/50\n",
      "26s - loss: 0.0122 - val_loss: 0.0150\n",
      "Epoch 44/50\n",
      "26s - loss: 0.0123 - val_loss: 0.0160\n",
      "Epoch 45/50\n",
      "26s - loss: 0.0123 - val_loss: 0.0163\n",
      "Epoch 46/50\n",
      "26s - loss: 0.0122 - val_loss: 0.0152\n",
      "Epoch 47/50\n",
      "27s - loss: 0.0123 - val_loss: 0.0157\n",
      "Epoch 48/50\n",
      "26s - loss: 0.0121 - val_loss: 0.0149\n",
      "Epoch 49/50\n",
      "26s - loss: 0.0120 - val_loss: 0.0145\n",
      "Epoch 50/50\n",
      "26s - loss: 0.0120 - val_loss: 0.0151\n"
     ]
    }
   ],
   "source": [
    "# design network\n",
    "model = Sequential()\n",
    "model.add(LSTM(50, input_shape=(train_Xl.shape[1], train_Xl.shape[2])))\n",
    "model.add(Dense(1))\n",
    "model.compile(loss='mae', optimizer='adam')\n",
    "# fit network\n",
    "history = model.fit(train_Xl, train_y, epochs=50, batch_size=72, validation_data=(eval_Xl, eval_y), verbose=2, shuffle=False)\n"
   ]
  },
  {
   "cell_type": "code",
   "execution_count": 47,
   "metadata": {},
   "outputs": [],
   "source": [
    "#模型保存\n",
    "modellstm = model\n",
    "modellstm.save('../logs/modellstm.h5')  \n"
   ]
  },
  {
   "cell_type": "code",
   "execution_count": 48,
   "metadata": {},
   "outputs": [],
   "source": [
    "# #模型加载\n",
    "# modellstm = load_model('../logs/modellstm.h5') "
   ]
  },
  {
   "cell_type": "code",
   "execution_count": 49,
   "metadata": {},
   "outputs": [
    {
     "data": {
      "image/png": "[encoded data removed]",
      "text/plain": [
       "<Figure size 432x288 with 1 Axes>"
      ]
     },
     "metadata": {},
     "output_type": "display_data"
    }
   ],
   "source": [
    "# plot history\n",
    "plt.plot(history.history['loss'], label='train')\n",
    "plt.plot(history.history['val_loss'], label='eval')\n",
    "plt.legend()\n",
    "plt.show()"
   ]
  },
  {
   "cell_type": "code",
   "execution_count": 50,
   "metadata": {},
   "outputs": [],
   "source": [
    "# def inv2(testPredictML,test_X,test_y):\n",
    "#     # invert scaling for forecast\n",
    "#     inv_testPredictML = concatenate((test_X[:,:],testPredictML), axis=1)\n",
    "#     inv_testPredictML = scaler.inverse_transform(inv_testPredictML)\n",
    "#     testPredictML = inv_testPredictML[:,-1:]\n",
    "#     # invert scaling for actual\n",
    "#     test_y = test_y.reshape((len(test_y), 1))\n",
    "#     inv_test = concatenate((test_X[:,:],test_y), axis=1)\n",
    "#     inv_test = scaler.inverse_transform(inv_test)\n",
    "#     testReal = inv_test[:,-1:]\n",
    "#     return testPredictML,testReal"
   ]
  },
  {
   "cell_type": "code",
   "execution_count": 51,
   "metadata": {},
   "outputs": [],
   "source": [
    "def inv(testPredictML,test_X,test_y):\n",
    "    # invert scaling for forecast\n",
    "    inv_testPredictML = concatenate((test_X[:,:],testPredictML), axis=1)\n",
    "    inv_testPredictML = scaler.inverse_transform(inv_testPredictML)\n",
    "    testPredictML = inv_testPredictML[:,-1:]\n",
    "    # invert scaling for actual\n",
    "    test_y = test_y.reshape((len(test_y), 1))\n",
    "    inv_test = concatenate((test_X[:,:],test_y), axis=1)\n",
    "    inv_test = scaler.inverse_transform(inv_test)\n",
    "    testReal = inv_test[:,-1:]\n",
    "    return testPredictML,testReal,inv_test"
   ]
  },
  {
   "cell_type": "code",
   "execution_count": 52,
   "metadata": {},
   "outputs": [],
   "source": [
    "# # make a prediction\n",
    "# testPredictls1 = model1.predict(test_X)\n",
    "# testPredictls2 = model2.predict(test_X)\n"
   ]
  },
  {
   "cell_type": "code",
   "execution_count": 53,
   "metadata": {},
   "outputs": [],
   "source": [
    "# test_X = test_X.reshape((test_X.shape[0], test_X.shape[2]))\n",
    "\n",
    "# testPredictls1,testReal = inv2(testPredictls1,test_X,test_y)\n",
    "# testPredictls2,testReal = inv2(testPredictls2,test_X,test_y)"
   ]
  },
  {
   "cell_type": "code",
   "execution_count": 54,
   "metadata": {},
   "outputs": [],
   "source": [
    "# # calculate RMSE\n",
    "# rmse = sqrt(mean_squared_error(testReal, testPredictls1))\n",
    "# print('Test RMSE: %.3f' % rmse)"
   ]
  },
  {
   "cell_type": "code",
   "execution_count": 55,
   "metadata": {},
   "outputs": [],
   "source": [
    "# #真实值和预测值对比图\n",
    "# plt.plot(testReal,label='Real')\n",
    "# plt.plot(testPredictls1,label='ls1Predicition')\n",
    "# plt.plot(testPredictls2,label='ls2Predicition')\n",
    "# # plt.plot(testPredictM3,label='M3Predicition')\n",
    "\n",
    "# plt.title('Prediction test')\n",
    "# plt.ylabel('Power')\n",
    "# plt.xlabel('Time')\n",
    "# # plt.plot(y_rr_,label='rr')\n",
    "# # plt.plot(y_lasso_,label='lasso')\n",
    "# plt.legend() "
   ]
  },
  {
   "cell_type": "markdown",
   "metadata": {},
   "source": [
    "# 结果对比"
   ]
  },
  {
   "cell_type": "code",
   "execution_count": 110,
   "metadata": {},
   "outputs": [],
   "source": [
    "#反归一化##\n",
    "def inv00(pred,A_year,A_X,A_y):\n",
    "    ######训练集#######\n",
    "    inv_pred = concatenate((A_year[:,:],A_X[:,:],pred), axis=1)\n",
    "    inv_pred = scaler.inverse_transform(inv_pred)\n",
    "    pred = inv_pred[:,-1:]\n",
    "    ###### 训练集真实值######\n",
    "    A_y = A_y.reshape((len(A_y), 1))\n",
    "    inv_A = concatenate((A_year[:,:],A_X[:,:],A_y), axis=1)\n",
    "    inv_A = scaler.inverse_transform(inv_A)\n",
    "    AReal = inv_A[:,-1:]\n",
    "    return pred,AReal,inv_A   "
   ]
  },
  {
   "cell_type": "code",
   "execution_count": 111,
   "metadata": {},
   "outputs": [],
   "source": [
    "def mape(y_true, y_pred):\n",
    "    return np.mean(np.abs((y_pred - y_true) / y_true)) * 100\n",
    "\n",
    "def smape(y_true, y_pred):\n",
    "    return 2.0 * np.mean(np.abs(y_pred - y_true) / (np.abs(y_pred) + np.abs(y_true))) * 100"
   ]
  },
  {
   "cell_type": "markdown",
   "metadata": {},
   "source": [
    "# svm"
   ]
  },
  {
   "cell_type": "code",
   "execution_count": 112,
   "metadata": {},
   "outputs": [],
   "source": [
    "svm_pred = modelsvm.predict(test_X)\n",
    "svm_pred = svm_pred[:, np.newaxis]\n",
    "svm_pred,y_true,inv_test=inv(svm_pred,test_X,test_y)"
   ]
  },
  {
   "cell_type": "code",
   "execution_count": 113,
   "metadata": {},
   "outputs": [
    {
     "name": "stderr",
     "output_type": "stream",
     "text": [
      "C:\\ProgramData\\Anaconda3\\lib\\site-packages\\ipykernel_launcher.py:2: RuntimeWarning: divide by zero encountered in true_divide\n",
      "  \n"
     ]
    }
   ],
   "source": [
    "svm_mse = metrics.mean_squared_error(y_true, svm_pred)\n",
    "# svm_rmse = math.sqrt(mean_squared_error(y_true[:,0], svm_pred[:,0]))\n",
    "svm_rmse = math.sqrt(mean_squared_error(y_true, svm_pred))\n",
    "svm_mae = metrics.mean_absolute_error(y_true, svm_pred)\n",
    "svm_mape = mape(y_true, svm_pred)\n",
    "svm_smape = smape(y_true, svm_pred)"
   ]
  },
  {
   "cell_type": "code",
   "execution_count": 114,
   "metadata": {},
   "outputs": [
    {
     "name": "stdout",
     "output_type": "stream",
     "text": [
      "0.6890419349888691 0.8300854986017219 0.7126201644299399 inf 115.76966650334823\n"
     ]
    }
   ],
   "source": [
    "print(svm_mse,svm_rmse,svm_mae,svm_mape,svm_smape)"
   ]
  },
  {
   "cell_type": "markdown",
   "metadata": {},
   "source": [
    "# bp"
   ]
  },
  {
   "cell_type": "code",
   "execution_count": 115,
   "metadata": {},
   "outputs": [
    {
     "name": "stderr",
     "output_type": "stream",
     "text": [
      "C:\\ProgramData\\Anaconda3\\lib\\site-packages\\ipykernel_launcher.py:2: RuntimeWarning: divide by zero encountered in true_divide\n",
      "  \n"
     ]
    }
   ],
   "source": [
    "bp_pred = modelbp.predict(test_X)\n",
    "bp_pred,y_true,inv_test=inv(bp_pred,test_X,test_y)\n",
    "\n",
    "bp_mse = metrics.mean_squared_error(y_true, bp_pred)\n",
    "bp_rmse = math.sqrt(mean_squared_error(y_true[:,0], bp_pred[:,0]))\n",
    "bp_mae = metrics.mean_absolute_error(y_true, bp_pred)\n",
    "bp_mape = mape(y_true, bp_pred)\n",
    "bp_smape = smape(y_true, bp_pred)"
   ]
  },
  {
   "cell_type": "code",
   "execution_count": 116,
   "metadata": {},
   "outputs": [
    {
     "name": "stdout",
     "output_type": "stream",
     "text": [
      "0.21191181 0.4603388017804492 0.1870556 inf 110.4724645614624\n"
     ]
    }
   ],
   "source": [
    "print(bp_mse,bp_rmse,bp_mae,bp_mape,bp_smape)"
   ]
  },
  {
   "cell_type": "markdown",
   "metadata": {},
   "source": [
    "# dnn"
   ]
  },
  {
   "cell_type": "code",
   "execution_count": 117,
   "metadata": {},
   "outputs": [
    {
     "name": "stderr",
     "output_type": "stream",
     "text": [
      "C:\\ProgramData\\Anaconda3\\lib\\site-packages\\ipykernel_launcher.py:2: RuntimeWarning: divide by zero encountered in true_divide\n",
      "  \n"
     ]
    }
   ],
   "source": [
    "dnn_pred = modeldnn.predict(test_X)\n",
    "# dnn_pred,y_true,inv_test=inv(dnn_pred,test_year,test_X,test_y)\n",
    "dnn_pred,y_true,inv_test=inv(dnn_pred,test_X,test_y)\n",
    "\n",
    "dnn_mse = metrics.mean_squared_error(y_true, dnn_pred)\n",
    "dnn_rmse = math.sqrt(mean_squared_error(y_true[:,0], dnn_pred[:,0]))\n",
    "dnn_mae = metrics.mean_absolute_error(y_true, dnn_pred)\n",
    "dnn_mape = mape(y_true, dnn_pred)\n",
    "dnn_smape = smape(y_true, dnn_pred)"
   ]
  },
  {
   "cell_type": "code",
   "execution_count": 118,
   "metadata": {
    "scrolled": false
   },
   "outputs": [
    {
     "name": "stdout",
     "output_type": "stream",
     "text": [
      "0.18314503 0.4279544734349317 0.15583023 inf 110.53445339202881\n"
     ]
    }
   ],
   "source": [
    "print(dnn_mse,dnn_rmse,dnn_mae,dnn_mape,dnn_smape)"
   ]
  },
  {
   "cell_type": "markdown",
   "metadata": {},
   "source": [
    "# LSTM\n"
   ]
  },
  {
   "cell_type": "code",
   "execution_count": 119,
   "metadata": {},
   "outputs": [
    {
     "name": "stderr",
     "output_type": "stream",
     "text": [
      "C:\\ProgramData\\Anaconda3\\lib\\site-packages\\ipykernel_launcher.py:2: RuntimeWarning: divide by zero encountered in true_divide\n",
      "  \n"
     ]
    }
   ],
   "source": [
    "# make a prediction\n",
    "lstm_pred = modellstm.predict(test_Xl)\n",
    "# test_X = test_X.reshape((test_X.shape[0], test_X.shape[2]))\n",
    "lstm_pred,y_true,inv_test=inv(lstm_pred,test_X,test_y)\n",
    "lstm_mse = metrics.mean_squared_error(y_true, lstm_pred)\n",
    "lstm_rmse = math.sqrt(mean_squared_error(y_true[:,0], lstm_pred[:,0]))\n",
    "lstm_mae = metrics.mean_absolute_error(y_true, lstm_pred)\n",
    "lstm_mape = mape(y_true, lstm_pred)\n",
    "lstm_smape = smape(y_true, lstm_pred)\n"
   ]
  },
  {
   "cell_type": "code",
   "execution_count": 120,
   "metadata": {},
   "outputs": [
    {
     "name": "stdout",
     "output_type": "stream",
     "text": [
      "0.16199374 0.40248446179838515 0.1399691 inf 105.76659440994263\n"
     ]
    }
   ],
   "source": [
    "print(lstm_mse,lstm_rmse,lstm_mae,lstm_mape,lstm_smape)"
   ]
  },
  {
   "cell_type": "markdown",
   "metadata": {},
   "source": [
    "# 评价指标"
   ]
  },
  {
   "cell_type": "code",
   "execution_count": 121,
   "metadata": {},
   "outputs": [],
   "source": [
    "#评价指标\n",
    "evaluate = pd.DataFrame(columns=['Test','SVM','BP','DNN','LSTM'])"
   ]
  },
  {
   "cell_type": "code",
   "execution_count": 122,
   "metadata": {},
   "outputs": [],
   "source": [
    "evaluate['Test']=['MSE','RMSE','MAE','MAPE','SMAPE']\n",
    "evaluate=evaluate.set_index('Test',drop=True)"
   ]
  },
  {
   "cell_type": "code",
   "execution_count": 123,
   "metadata": {
    "scrolled": true
   },
   "outputs": [
    {
     "data": {
      "text/html": [
       "<div>\n",
       "<style scoped>\n",
       "    .dataframe tbody tr th:only-of-type {\n",
       "        vertical-align: middle;\n",
       "    }\n",
       "\n",
       "    .dataframe tbody tr th {\n",
       "        vertical-align: top;\n",
       "    }\n",
       "\n",
       "    .dataframe thead th {\n",
       "        text-align: right;\n",
       "    }\n",
       "</style>\n",
       "<table border=\"1\" class=\"dataframe\">\n",
       "  <thead>\n",
       "    <tr style=\"text-align: right;\">\n",
       "      <th></th>\n",
       "      <th>SVM</th>\n",
       "      <th>BP</th>\n",
       "      <th>DNN</th>\n",
       "      <th>LSTM</th>\n",
       "    </tr>\n",
       "    <tr>\n",
       "      <th>Test</th>\n",
       "      <th></th>\n",
       "      <th></th>\n",
       "      <th></th>\n",
       "      <th></th>\n",
       "    </tr>\n",
       "  </thead>\n",
       "  <tbody>\n",
       "    <tr>\n",
       "      <th>MSE</th>\n",
       "      <td>0.689042</td>\n",
       "      <td>0.211912</td>\n",
       "      <td>0.183145</td>\n",
       "      <td>0.161994</td>\n",
       "    </tr>\n",
       "    <tr>\n",
       "      <th>RMSE</th>\n",
       "      <td>0.830085</td>\n",
       "      <td>0.460339</td>\n",
       "      <td>0.427954</td>\n",
       "      <td>0.402484</td>\n",
       "    </tr>\n",
       "    <tr>\n",
       "      <th>MAE</th>\n",
       "      <td>0.712620</td>\n",
       "      <td>0.187056</td>\n",
       "      <td>0.155830</td>\n",
       "      <td>0.139969</td>\n",
       "    </tr>\n",
       "    <tr>\n",
       "      <th>MAPE</th>\n",
       "      <td>inf</td>\n",
       "      <td>inf</td>\n",
       "      <td>inf</td>\n",
       "      <td>inf</td>\n",
       "    </tr>\n",
       "    <tr>\n",
       "      <th>SMAPE</th>\n",
       "      <td>115.769667</td>\n",
       "      <td>110.472465</td>\n",
       "      <td>110.534453</td>\n",
       "      <td>105.766594</td>\n",
       "    </tr>\n",
       "  </tbody>\n",
       "</table>\n",
       "</div>"
      ],
      "text/plain": [
       "              SVM          BP         DNN        LSTM\n",
       "Test                                                 \n",
       "MSE      0.689042    0.211912    0.183145    0.161994\n",
       "RMSE     0.830085    0.460339    0.427954    0.402484\n",
       "MAE      0.712620    0.187056    0.155830    0.139969\n",
       "MAPE          inf         inf         inf         inf\n",
       "SMAPE  115.769667  110.472465  110.534453  105.766594"
      ]
     },
     "execution_count": 123,
     "metadata": {},
     "output_type": "execute_result"
    }
   ],
   "source": [
    "evaluate['SVM']=[svm_mse,svm_rmse,svm_mae,svm_mape ,svm_smape]\n",
    "evaluate['BP']=[bp_mse,bp_rmse,bp_mae,bp_mape ,bp_smape]\n",
    "evaluate['DNN']=[dnn_mse,dnn_rmse,dnn_mae,dnn_mape ,dnn_smape]\n",
    "evaluate['LSTM']=[lstm_mse,lstm_rmse,lstm_mae,lstm_mape,lstm_smape]\n",
    "evaluate"
   ]
  },
  {
   "cell_type": "markdown",
   "metadata": {},
   "source": [
    "# 保存预测结果并绘图"
   ]
  },
  {
   "cell_type": "code",
   "execution_count": 124,
   "metadata": {
    "scrolled": true
   },
   "outputs": [
    {
     "data": {
      "image/png": "[encoded data removed]",
      "text/plain": [
       "<Figure size 432x288 with 1 Axes>"
      ]
     },
     "metadata": {},
     "output_type": "display_data"
    }
   ],
   "source": [
    "# from pylab import *\n",
    "# mpl.rcParams['font.sans-serif'] = ['SimHei']\n",
    "#真实值和预测值对比图\n",
    "# plt.plot(y_true,'royalblue',label='Real')\n",
    "# plt.plot(svm_pred,'orange',label='SVM')\n",
    "plt.plot(y_true,'b',label='Real')\n",
    "plt.plot(svm_pred,'m',label='SVM')\n",
    "\n",
    "\n",
    "\n",
    "plt.title('Station 1')\n",
    "plt.ylabel('Power')\n",
    "plt.xlabel('Time')\n",
    "plt.legend()\n",
    "plt.savefig('../picture/SVM1.jpg')"
   ]
  },
  {
   "cell_type": "code",
   "execution_count": 125,
   "metadata": {},
   "outputs": [
    {
     "data": {
      "image/png": "[encoded data removed]",
      "text/plain": [
       "<Figure size 432x288 with 1 Axes>"
      ]
     },
     "metadata": {},
     "output_type": "display_data"
    }
   ],
   "source": [
    "#真实值和预测值对比图\n",
    "# plt.plot(y_true,'royalblue',label='Real')\n",
    "# plt.plot(bp_pred,'limegreen',label='BP')\n",
    "plt.plot(y_true,'b',label='Real')\n",
    "plt.plot(bp_pred,'g',label='BP')\n",
    "\n",
    "\n",
    "plt.title('Station 1')\n",
    "plt.ylabel('Power')\n",
    "plt.xlabel('Time')\n",
    "plt.legend()\n",
    "plt.savefig('../picture/BP1.jpg')"
   ]
  },
  {
   "cell_type": "code",
   "execution_count": 126,
   "metadata": {},
   "outputs": [
    {
     "data": {
      "image/png": "[encoded data removed]",
      "text/plain": [
       "<Figure size 432x288 with 1 Axes>"
      ]
     },
     "metadata": {},
     "output_type": "display_data"
    }
   ],
   "source": [
    "#真实值和预测值对比图\n",
    "# plt.plot(y_true,'royalblue',label='Real')\n",
    "# plt.plot(dnn_pred,'tomato',label='DNN')\n",
    "plt.plot(y_true,'b',label='Real')\n",
    "plt.plot(dnn_pred,'y',label='DNN')\n",
    "\n",
    "\n",
    "plt.title('Station 1')\n",
    "plt.ylabel('Power')\n",
    "plt.xlabel('Time')\n",
    "plt.legend()\n",
    "plt.savefig('../picture/DNN1.jpg')"
   ]
  },
  {
   "cell_type": "code",
   "execution_count": 127,
   "metadata": {},
   "outputs": [
    {
     "data": {
      "image/png": "[encoded data removed]",
      "text/plain": [
       "<Figure size 432x288 with 1 Axes>"
      ]
     },
     "metadata": {},
     "output_type": "display_data"
    }
   ],
   "source": [
    "#真实值和预测值对比图\n",
    "\n",
    "# plt.plot(lstm_pred,'orchid',label='LSTM')\n",
    "plt.plot(y_true,'b',label='Real')\n",
    "plt.plot(lstm_pred,'r',label='LSTM')\n",
    "\n",
    "plt.title('Station 1')\n",
    "plt.ylabel('Power')\n",
    "plt.xlabel('Time')\n",
    "plt.legend()\n",
    "plt.savefig('../picture/LSTM1.jpg')"
   ]
  },
  {
   "cell_type": "markdown",
   "metadata": {},
   "source": [
    "# 保存"
   ]
  },
  {
   "cell_type": "code",
   "execution_count": 128,
   "metadata": {
    "scrolled": true
   },
   "outputs": [
    {
     "data": {
      "image/png": "[encoded data removed]",
      "text/plain": [
       "<Figure size 432x288 with 1 Axes>"
      ]
     },
     "metadata": {},
     "output_type": "display_data"
    }
   ],
   "source": [
    "\n",
    "#真实值和预测值对比图\n",
    "plt.plot(y_true,'b',label='Real')\n",
    "plt.plot(svm_pred,'m',label='SVM')\n",
    "plt.plot(bp_pred,'g',label='BP')\n",
    "plt.plot(dnn_pred,'y',label='DNN')\n",
    "plt.plot(lstm_pred,'r',label='LSTM')\n",
    "\n",
    "plt.title('Station 1')\n",
    "plt.ylabel('Power')\n",
    "plt.xlabel('Time')\n",
    "plt.legend()\n",
    "plt.savefig('../picture/SVMLSTM1.jpg')\n",
    "\n",
    "#训练集和测试集 预测结果保存\n",
    "predict_ = pd.DataFrame(inv_test)\n",
    "# predict_.columns = ['Year', 'Month', 'Day', 'Hour', 'Minutes', 'WTC', 'WRH', 'GHR', 'DHR',\n",
    "#        'RGT', 'RDT', '1A Trina_power']\n",
    "predict_.columns = ['Month(t-1)', 'Day(t-1)', 'Hour(t-1)', 'Minutes(t-1)', 'WTC(t-1)',\n",
    "       'WRH(t-1)', 'GHR(t-1)', 'DHR(t-1)', 'WD(t-1)', 'WDR(t-1)', 'RGT(t-1)',\n",
    "       'RDT(t-1)', '1A Trina_power(t-1)', '1A Trina_power(t)',\n",
    "       '1A Trina_power(t+1)']\n",
    "predict_['SVM'] = svm_pred\n",
    "predict_['BP'] = bp_pred\n",
    "predict_['DNN'] = dnn_pred\n",
    "predict_['LSTM'] = lstm_pred\n",
    "predict_.to_csv('../predict/1Atest_pred_-WDWDR_svm&bp&dnn.csv',index=False)\n"
   ]
  },
  {
   "cell_type": "markdown",
   "metadata": {},
   "source": [
    "画出例如2020年1月20号的预测图"
   ]
  },
  {
   "cell_type": "code",
   "execution_count": 129,
   "metadata": {
    "scrolled": true
   },
   "outputs": [
    {
     "data": {
      "text/plain": [
       "Index(['Month(t-1)', 'Day(t-1)', 'Hour(t-1)', 'Minutes(t-1)', 'WTC(t-1)',\n",
       "       'WRH(t-1)', 'GHR(t-1)', 'DHR(t-1)', 'WD(t-1)', 'WDR(t-1)', 'RGT(t-1)',\n",
       "       'RDT(t-1)', '1A Trina_power(t-1)', '1A Trina_power(t)',\n",
       "       '1A Trina_power(t+1)', 'SVM', 'BP', 'DNN', 'LSTM'],\n",
       "      dtype='object')"
      ]
     },
     "execution_count": 129,
     "metadata": {},
     "output_type": "execute_result"
    }
   ],
   "source": [
    "predict_.columns"
   ]
  },
  {
   "cell_type": "code",
   "execution_count": 130,
   "metadata": {
    "scrolled": true
   },
   "outputs": [
    {
     "data": {
      "image/png": "[encoded data removed]",
      "text/plain": [
       "<Figure size 432x288 with 1 Axes>"
      ]
     },
     "metadata": {},
     "output_type": "display_data"
    }
   ],
   "source": [
    "# from scipy.interpolate import spline\n",
    "predict_[['Month(t-1)', 'Day(t-1)', 'Hour(t-1)', 'Minutes(t-1)']] = predict_[['Month(t-1)', 'Day(t-1)', 'Hour(t-1)', 'Minutes(t-1)']].astype(\"int\")\n",
    "\n",
    "# Day0120 = predict_.loc[(predict_['Year'] == 2020) & (predict_['Month'] == ) & (predict_['Day'] == 20),:]\n",
    "Day0120 = predict_.loc[(predict_['Month(t-1)'] == 2 ) & (predict_['Day(t-1)'] == 20),:]\n",
    "#real_power_day.set_index('time', inplace=False)\n",
    "Real=Day0120.set_index('Hour(t-1)', inplace=False)['1A Trina_power(t+1)']\n",
    "svm_pr=Day0120.set_index('Hour(t-1)', inplace=False)['SVM']\n",
    "bp_pr=Day0120.set_index('Hour(t-1)', inplace=False)['BP']\n",
    "dnn_pr=Day0120.set_index('Hour(t-1)', inplace=False)['DNN']\n",
    "lstm_pr=Day0120.set_index('Hour(t-1)', inplace=False)['LSTM']\n",
    "\n",
    "fig = plt.figure()\n",
    "plt.plot(Real,label='Real')\n",
    "plt.plot(svm_pr,label='SVM')\n",
    "plt.plot(bp_pr,label='BP')\n",
    "plt.plot(dnn_pr,label='DNN')\n",
    "plt.plot(lstm_pr,label='LSTM')\n",
    "\n",
    "plt.title('Prediction 2020-2-20')\n",
    "plt.ylabel('Power')\n",
    "plt.xlabel('Time')\n",
    "# plt.legend(['Train', 'Test'], loc='upper left')\n",
    "plt.legend()\n",
    "plt.savefig('../picture/2-20pred.jpg')\n",
    "#ax = fig.add_subplot(1,1,1)\n",
    "#ax.plot(real_power_day_)\n",
    "# real_power_day_.plot()\n",
    "#real_power_day_.set_axis(['00:15:00','06:15:00','12:15:00','18:15:00'])\n",
    "#real_power_day_"
   ]
  },
  {
   "cell_type": "markdown",
   "metadata": {},
   "source": [
    "# 2020 "
   ]
  },
  {
   "cell_type": "code",
   "execution_count": 77,
   "metadata": {},
   "outputs": [
    {
     "data": {
      "image/png": "[encoded data removed]",
      "text/plain": [
       "<Figure size 432x288 with 1 Axes>"
      ]
     },
     "metadata": {},
     "output_type": "display_data"
    }
   ],
   "source": [
    "# from scipy.interpolate import spline\n",
    "predict_[['Month(t-1)', 'Day(t-1)', 'Hour(t-1)', 'Minutes(t-1)']] = predict_[['Month(t-1)', 'Day(t-1)', 'Hour(t-1)', 'Minutes(t-1)']].astype(\"int\")\n",
    "\n",
    "# Day0120 = predict_.loc[(predict_['Year'] == 2020) & (predict_['Month'] == ) & (predict_['Day'] == 20),:]\n",
    "Day0120 = predict_.loc[(predict_['Month(t-1)'] == 3 ) & (predict_['Day(t-1)'] == 25),:]\n",
    "#real_power_day.set_index('time', inplace=False)\n",
    "Real=Day0120.set_index('Hour(t-1)', inplace=False)['1A Trina_power(t+1)']\n",
    "svm_pr=Day0120.set_index('Hour(t-1)', inplace=False)['SVM']\n",
    "bp_pr=Day0120.set_index('Hour(t-1)', inplace=False)['BP']\n",
    "dnn_pr=Day0120.set_index('Hour(t-1)', inplace=False)['DNN']\n",
    "lstm_pr=Day0120.set_index('Hour(t-1)', inplace=False)['LSTM']\n",
    "\n",
    "fig = plt.figure()\n",
    "plt.plot(Real,label='Real')\n",
    "plt.plot(svm_pr,label='SVM')\n",
    "plt.plot(bp_pr,label='BP')\n",
    "plt.plot(dnn_pr,label='DNN')\n",
    "plt.plot(lstm_pr,label='LSTM')\n",
    "\n",
    "plt.title('Prediction 2020-3-25')\n",
    "plt.ylabel('Power')\n",
    "plt.xlabel('Time')\n",
    "# plt.legend(['Train', 'Test'], loc='upper left')\n",
    "plt.legend()\n",
    "plt.savefig('../picture/3-25pred.jpg')\n",
    "#ax = fig.add_subplot(1,1,1)\n",
    "#ax.plot(real_power_day_)\n",
    "# real_power_day_.plot()\n",
    "#real_power_day_.set_axis(['00:15:00','06:15:00','12:15:00','18:15:00'])\n",
    "#real_power_day_"
   ]
  },
  {
   "cell_type": "code",
   "execution_count": null,
   "metadata": {},
   "outputs": [],
   "source": []
  },
  {
   "cell_type": "code",
   "execution_count": null,
   "metadata": {},
   "outputs": [],
   "source": []
  }
 ],
 "metadata": {
  "kernelspec": {
   "display_name": "Python 3",
   "language": "python",
   "name": "python3"
  },
  "language_info": {
   "codemirror_mode": {
    "name": "ipython",
    "version": 3
   },
   "file_extension": ".py",
   "mimetype": "text/x-python",
   "name": "python",
   "nbconvert_exporter": "python",
   "pygments_lexer": "ipython3",
   "version": "3.6.5"
  }
 },
 "nbformat": 4,
 "nbformat_minor": 2
}
