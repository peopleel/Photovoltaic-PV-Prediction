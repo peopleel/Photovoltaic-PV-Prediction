{
 "cells": [
  {
   "cell_type": "markdown",
   "metadata": {},
   "source": [
    "# 0703小波包批量分解重构数据集"
   ]
  },
  {
   "cell_type": "code",
   "execution_count": 1,
   "metadata": {
    "scrolled": true
   },
   "outputs": [
    {
     "name": "stderr",
     "output_type": "stream",
     "text": [
      "C:\\ProgramData\\Anaconda3\\lib\\site-packages\\h5py\\__init__.py:36: FutureWarning: Conversion of the second argument of issubdtype from `float` to `np.floating` is deprecated. In future, it will be treated as `np.float64 == np.dtype(float).type`.\n",
      "  from ._conv import register_converters as _register_converters\n",
      "Using TensorFlow backend.\n",
      "C:\\ProgramData\\Anaconda3\\lib\\site-packages\\tensorflow\\python\\framework\\dtypes.py:469: FutureWarning: Passing (type, 1) or '1type' as a synonym of type is deprecated; in a future version of numpy, it will be understood as (type, (1,)) / '(1,)type'.\n",
      "  _np_qint8 = np.dtype([(\"qint8\", np.int8, 1)])\n",
      "C:\\ProgramData\\Anaconda3\\lib\\site-packages\\tensorflow\\python\\framework\\dtypes.py:470: FutureWarning: Passing (type, 1) or '1type' as a synonym of type is deprecated; in a future version of numpy, it will be understood as (type, (1,)) / '(1,)type'.\n",
      "  _np_quint8 = np.dtype([(\"quint8\", np.uint8, 1)])\n",
      "C:\\ProgramData\\Anaconda3\\lib\\site-packages\\tensorflow\\python\\framework\\dtypes.py:471: FutureWarning: Passing (type, 1) or '1type' as a synonym of type is deprecated; in a future version of numpy, it will be understood as (type, (1,)) / '(1,)type'.\n",
      "  _np_qint16 = np.dtype([(\"qint16\", np.int16, 1)])\n",
      "C:\\ProgramData\\Anaconda3\\lib\\site-packages\\tensorflow\\python\\framework\\dtypes.py:472: FutureWarning: Passing (type, 1) or '1type' as a synonym of type is deprecated; in a future version of numpy, it will be understood as (type, (1,)) / '(1,)type'.\n",
      "  _np_quint16 = np.dtype([(\"quint16\", np.uint16, 1)])\n",
      "C:\\ProgramData\\Anaconda3\\lib\\site-packages\\tensorflow\\python\\framework\\dtypes.py:473: FutureWarning: Passing (type, 1) or '1type' as a synonym of type is deprecated; in a future version of numpy, it will be understood as (type, (1,)) / '(1,)type'.\n",
      "  _np_qint32 = np.dtype([(\"qint32\", np.int32, 1)])\n",
      "C:\\ProgramData\\Anaconda3\\lib\\site-packages\\tensorflow\\python\\framework\\dtypes.py:476: FutureWarning: Passing (type, 1) or '1type' as a synonym of type is deprecated; in a future version of numpy, it will be understood as (type, (1,)) / '(1,)type'.\n",
      "  np_resource = np.dtype([(\"resource\", np.ubyte, 1)])\n"
     ]
    }
   ],
   "source": [
    "import os\n",
    "import pandas as pd\n",
    "import numpy as np\n",
    "import matplotlib.pyplot as plt\n",
    "import math\n",
    "# import tensorflow as tf\n",
    "import keras\n",
    "import pywt    #小波包\n",
    "from pandas import read_csv\n",
    "from numpy import concatenate\n",
    "from sklearn.preprocessing import MinMaxScaler\n",
    "from sklearn.metrics import mean_squared_error"
   ]
  },
  {
   "cell_type": "code",
   "execution_count": 2,
   "metadata": {},
   "outputs": [
    {
     "name": "stdout",
     "output_type": "stream",
     "text": [
      "E:\\Research Project\\DKASC, Alice Springs\n"
     ]
    }
   ],
   "source": [
    "print(os.getcwd())"
   ]
  },
  {
   "cell_type": "code",
   "execution_count": 3,
   "metadata": {},
   "outputs": [
    {
     "data": {
      "text/plain": [
       "['.idea',\n",
       " '.ipynb_checkpoints',\n",
       " '101-Site_DKA-WeatherStation',\n",
       " '96-Site_DKA-MasterMeter1',\n",
       " 'Alice_Springs_2016-2020',\n",
       " 'Dataset',\n",
       " 'logs',\n",
       " 'picture',\n",
       " 'Predict',\n",
       " 'Program backups',\n",
       " 'temp',\n",
       " 'venv',\n",
       " '数据集_小波包分解重构数据.ipynb',\n",
       " '数据集_预处理_第二版0702.ipynb',\n",
       " '测试小波分解.ipynb',\n",
       " '测试模型0622.ipynb',\n",
       " '画图.ipynb',\n",
       " '笔记.ipynb',\n",
       " '训练模型0622.ipynb',\n",
       " '训练模型0702.ipynb',\n",
       " '训练模型0703 WPD.ipynb']"
      ]
     },
     "execution_count": 3,
     "metadata": {},
     "output_type": "execute_result"
    }
   ],
   "source": [
    "os.listdir(os.getcwd())"
   ]
  },
  {
   "cell_type": "code",
   "execution_count": 4,
   "metadata": {},
   "outputs": [],
   "source": [
    "os.chdir('./Dataset/train0702/')"
   ]
  },
  {
   "cell_type": "code",
   "execution_count": 5,
   "metadata": {},
   "outputs": [
    {
     "data": {
      "text/plain": [
       "['train_Station_1.csv',\n",
       " 'train_Station_2.csv',\n",
       " 'train_Station_3.csv',\n",
       " 'train_Station_4.csv',\n",
       " 'train_Station_5.csv',\n",
       " 'train_Station_6.csv',\n",
       " 'train_Station_7.csv',\n",
       " 'train_Station_8.csv',\n",
       " 'train_Station_9.csv']"
      ]
     },
     "execution_count": 5,
     "metadata": {},
     "output_type": "execute_result"
    }
   ],
   "source": [
    "os.listdir()"
   ]
  },
  {
   "cell_type": "code",
   "execution_count": 6,
   "metadata": {},
   "outputs": [],
   "source": [
    "file_chdir = os.getcwd()"
   ]
  },
  {
   "cell_type": "code",
   "execution_count": 7,
   "metadata": {},
   "outputs": [
    {
     "data": {
      "text/plain": [
       "'E:\\\\Research Project\\\\DKASC, Alice Springs\\\\Dataset\\\\train0702'"
      ]
     },
     "execution_count": 7,
     "metadata": {},
     "output_type": "execute_result"
    }
   ],
   "source": [
    "file_chdir"
   ]
  },
  {
   "cell_type": "code",
   "execution_count": 8,
   "metadata": {},
   "outputs": [],
   "source": [
    "filecsv_list = []\n",
    "for root,dirs,files in os.walk(file_chdir):\n",
    "    for file in files:\n",
    "        if os.path.splitext(file)[1] == '.csv':\n",
    "            filecsv_list.append(file)"
   ]
  },
  {
   "cell_type": "code",
   "execution_count": 9,
   "metadata": {},
   "outputs": [
    {
     "data": {
      "text/plain": [
       "['train_Station_1.csv',\n",
       " 'train_Station_2.csv',\n",
       " 'train_Station_3.csv',\n",
       " 'train_Station_4.csv',\n",
       " 'train_Station_5.csv',\n",
       " 'train_Station_6.csv',\n",
       " 'train_Station_7.csv',\n",
       " 'train_Station_8.csv',\n",
       " 'train_Station_9.csv']"
      ]
     },
     "execution_count": 9,
     "metadata": {},
     "output_type": "execute_result"
    }
   ],
   "source": [
    "filecsv_list"
   ]
  },
  {
   "cell_type": "code",
   "execution_count": 10,
   "metadata": {},
   "outputs": [],
   "source": [
    "for csv in filecsv_list:\n",
    "    tra=pd.read_csv(csv)\n",
    "\n",
    "    plotaa = list(tra.columns)\n",
    "    plotaa[len(plotaa)-1]\n",
    "    data = tra[plotaa[len(plotaa)-1]].values\n",
    "#     coeffs = pywt.wavedec(data, 'db3', level=3)\n",
    "#     cA3, cD3, cD2 ,cD1 = coeffs\n",
    "\n",
    "#     A3 = pywt.upcoef('a', pywt.upcoef('a', pywt.upcoef('a', cA3, 'db3',take=len(cD2)), 'db3',take=len(cD1)), 'db3',take=len(data))\n",
    "#     D3 = pywt.upcoef('a', pywt.upcoef('a', pywt.upcoef('d', cD3, 'db3',take=len(cD2)), 'db3',take=len(cD1)), 'db3',take=len(data))\n",
    "#     D2 = pywt.upcoef('a', pywt.upcoef('d', cD2, 'db3',take=len(cD1)), 'db3',take=len(data))\n",
    "#     D1 = pywt.upcoef('d', cD1, 'db3',take=len(data))\n",
    "\n",
    "#     tra.insert(tra.shape[1]-1,'D1',value= D1,allow_duplicates=True) \n",
    "#     tra.insert(tra.shape[1]-1,'D2',value= D2,allow_duplicates=True) \n",
    "#     tra.insert(tra.shape[1]-1,'D3',value= D3,allow_duplicates=True) \n",
    "#     tra.insert(tra.shape[1]-1,'A3',value= A3,allow_duplicates=True) \n",
    "    \n",
    "    (cA, cD) = pywt.dwt(data, 'db3')\n",
    "    A = pywt.upcoef('a', cA, 'db3', take=len(data)) \n",
    "    D = pywt.upcoef('d', cD, 'db3', take=len(data))\n",
    "    tra.insert(tra.shape[1]-1,'A',value= A,allow_duplicates=True) \n",
    "    tra.insert(tra.shape[1]-1,'D',value= D,allow_duplicates=True) \n",
    "    \n",
    "    filen = 'WPD_%s'% csv.strip('.csv')\n",
    "    tra.to_csv('../trainWPD/%s.csv' % filen,index=False)"
   ]
  },
  {
   "cell_type": "code",
   "execution_count": 11,
   "metadata": {},
   "outputs": [
    {
     "name": "stdout",
     "output_type": "stream",
     "text": [
      "E:\\Research Project\\DKASC, Alice Springs\\Dataset\\train0702\n"
     ]
    }
   ],
   "source": [
    "print(os.getcwd())"
   ]
  },
  {
   "cell_type": "code",
   "execution_count": 12,
   "metadata": {},
   "outputs": [],
   "source": [
    "os.chdir('../test0702/')"
   ]
  },
  {
   "cell_type": "code",
   "execution_count": 13,
   "metadata": {},
   "outputs": [
    {
     "data": {
      "text/plain": [
       "['test_Station_1.csv',\n",
       " 'test_Station_2.csv',\n",
       " 'test_Station_3.csv',\n",
       " 'test_Station_4.csv',\n",
       " 'test_Station_5.csv',\n",
       " 'test_Station_6.csv',\n",
       " 'test_Station_7.csv',\n",
       " 'test_Station_8.csv',\n",
       " 'test_Station_9.csv']"
      ]
     },
     "execution_count": 13,
     "metadata": {},
     "output_type": "execute_result"
    }
   ],
   "source": [
    "os.listdir()"
   ]
  },
  {
   "cell_type": "code",
   "execution_count": 14,
   "metadata": {},
   "outputs": [],
   "source": [
    "file_chdir = os.getcwd()"
   ]
  },
  {
   "cell_type": "code",
   "execution_count": 15,
   "metadata": {},
   "outputs": [
    {
     "data": {
      "text/plain": [
       "'E:\\\\Research Project\\\\DKASC, Alice Springs\\\\Dataset\\\\test0702'"
      ]
     },
     "execution_count": 15,
     "metadata": {},
     "output_type": "execute_result"
    }
   ],
   "source": [
    "file_chdir"
   ]
  },
  {
   "cell_type": "code",
   "execution_count": 16,
   "metadata": {},
   "outputs": [],
   "source": [
    "filecsv_list = []\n",
    "for root,dirs,files in os.walk(file_chdir):\n",
    "    for file in files:\n",
    "        if os.path.splitext(file)[1] == '.csv':\n",
    "            filecsv_list.append(file)"
   ]
  },
  {
   "cell_type": "code",
   "execution_count": 17,
   "metadata": {},
   "outputs": [
    {
     "data": {
      "text/plain": [
       "['test_Station_1.csv',\n",
       " 'test_Station_2.csv',\n",
       " 'test_Station_3.csv',\n",
       " 'test_Station_4.csv',\n",
       " 'test_Station_5.csv',\n",
       " 'test_Station_6.csv',\n",
       " 'test_Station_7.csv',\n",
       " 'test_Station_8.csv',\n",
       " 'test_Station_9.csv']"
      ]
     },
     "execution_count": 17,
     "metadata": {},
     "output_type": "execute_result"
    }
   ],
   "source": [
    "filecsv_list"
   ]
  },
  {
   "cell_type": "code",
   "execution_count": 18,
   "metadata": {},
   "outputs": [],
   "source": [
    "(cA, cD) = pywt.dwt(data, 'db3')"
   ]
  },
  {
   "cell_type": "code",
   "execution_count": 19,
   "metadata": {},
   "outputs": [],
   "source": [
    "for csv in filecsv_list:\n",
    "    tra=pd.read_csv(csv)\n",
    "\n",
    "    plotaa = list(tra.columns)\n",
    "    plotaa[len(plotaa)-1]\n",
    "    data = tra[plotaa[len(plotaa)-1]].values\n",
    "#     coeffs = pywt.wavedec(data, 'db3', level=3)\n",
    "#     cA3, cD3, cD2 ,cD1 = coeffs\n",
    "\n",
    "#     A3 = pywt.upcoef('a', pywt.upcoef('a', pywt.upcoef('a', cA3, 'db3',take=len(cD2)), 'db3',take=len(cD1)), 'db3',take=len(data))\n",
    "#     D3 = pywt.upcoef('a', pywt.upcoef('a', pywt.upcoef('d', cD3, 'db3',take=len(cD2)), 'db3',take=len(cD1)), 'db3',take=len(data))\n",
    "#     D2 = pywt.upcoef('a', pywt.upcoef('d', cD2, 'db3',take=len(cD1)), 'db3',take=len(data))\n",
    "#     D1 = pywt.upcoef('d', cD1, 'db3',take=len(data))\n",
    "\n",
    "#     tra.insert(tra.shape[1]-1,'D1',value= D1,allow_duplicates=True) \n",
    "#     tra.insert(tra.shape[1]-1,'D2',value= D2,allow_duplicates=True) \n",
    "#     tra.insert(tra.shape[1]-1,'D3',value= D3,allow_duplicates=True) \n",
    "#     tra.insert(tra.shape[1]-1,'A3',value= A3,allow_duplicates=True) \n",
    "    \n",
    "    (cA, cD) = pywt.dwt(data, 'db3')\n",
    "    A = pywt.upcoef('a', cA, 'db3', take=len(data)) \n",
    "    D = pywt.upcoef('d', cD, 'db3', take=len(data))\n",
    "    tra.insert(tra.shape[1]-1,'A',value= A,allow_duplicates=True) \n",
    "    tra.insert(tra.shape[1]-1,'D',value= D,allow_duplicates=True) \n",
    "    \n",
    "    filen = 'WPD_%s'% csv.strip('.csv')\n",
    "    tra.to_csv('../testWPD/%s.csv' % filen,index=False)"
   ]
  },
  {
   "cell_type": "code",
   "execution_count": 20,
   "metadata": {
    "scrolled": false
   },
   "outputs": [
    {
     "data": {
      "text/html": [
       "<div>\n",
       "<style scoped>\n",
       "    .dataframe tbody tr th:only-of-type {\n",
       "        vertical-align: middle;\n",
       "    }\n",
       "\n",
       "    .dataframe tbody tr th {\n",
       "        vertical-align: top;\n",
       "    }\n",
       "\n",
       "    .dataframe thead th {\n",
       "        text-align: right;\n",
       "    }\n",
       "</style>\n",
       "<table border=\"1\" class=\"dataframe\">\n",
       "  <thead>\n",
       "    <tr style=\"text-align: right;\">\n",
       "      <th></th>\n",
       "      <th>Timestamp</th>\n",
       "      <th>Year</th>\n",
       "      <th>Month</th>\n",
       "      <th>Day</th>\n",
       "      <th>Hour</th>\n",
       "      <th>Minutes</th>\n",
       "      <th>Temperature(°C)</th>\n",
       "      <th>Relative Humidity(%)</th>\n",
       "      <th>Wind Direction(Degrees)</th>\n",
       "      <th>Daily Rainfall(mm)</th>\n",
       "      <th>Global Horizontal Radiation(W/m²)</th>\n",
       "      <th>Diffuse Horizontal Radiation(W/m²)</th>\n",
       "      <th>A</th>\n",
       "      <th>D</th>\n",
       "      <th>Station_9</th>\n",
       "    </tr>\n",
       "  </thead>\n",
       "  <tbody>\n",
       "    <tr>\n",
       "      <th>0</th>\n",
       "      <td>2019/1/1 0:00</td>\n",
       "      <td>2019</td>\n",
       "      <td>1</td>\n",
       "      <td>1</td>\n",
       "      <td>0</td>\n",
       "      <td>0</td>\n",
       "      <td>30.020723</td>\n",
       "      <td>20.125513</td>\n",
       "      <td>32.21347</td>\n",
       "      <td>0.0</td>\n",
       "      <td>1.543787</td>\n",
       "      <td>1.349848</td>\n",
       "      <td>0.0</td>\n",
       "      <td>0.0</td>\n",
       "      <td>0.0</td>\n",
       "    </tr>\n",
       "  </tbody>\n",
       "</table>\n",
       "</div>"
      ],
      "text/plain": [
       "       Timestamp  Year  Month  Day  Hour  Minutes  Temperature(°C)  \\\n",
       "0  2019/1/1 0:00  2019      1    1     0        0        30.020723   \n",
       "\n",
       "   Relative Humidity(%)  Wind Direction(Degrees)  Daily Rainfall(mm)  \\\n",
       "0             20.125513                 32.21347                 0.0   \n",
       "\n",
       "   Global Horizontal Radiation(W/m²)  Diffuse Horizontal Radiation(W/m²)    A  \\\n",
       "0                           1.543787                            1.349848  0.0   \n",
       "\n",
       "     D  Station_9  \n",
       "0  0.0        0.0  "
      ]
     },
     "execution_count": 20,
     "metadata": {},
     "output_type": "execute_result"
    }
   ],
   "source": [
    "tra.head(1)"
   ]
  },
  {
   "cell_type": "code",
   "execution_count": 21,
   "metadata": {},
   "outputs": [
    {
     "data": {
      "text/html": [
       "<div>\n",
       "<style scoped>\n",
       "    .dataframe tbody tr th:only-of-type {\n",
       "        vertical-align: middle;\n",
       "    }\n",
       "\n",
       "    .dataframe tbody tr th {\n",
       "        vertical-align: top;\n",
       "    }\n",
       "\n",
       "    .dataframe thead th {\n",
       "        text-align: right;\n",
       "    }\n",
       "</style>\n",
       "<table border=\"1\" class=\"dataframe\">\n",
       "  <thead>\n",
       "    <tr style=\"text-align: right;\">\n",
       "      <th></th>\n",
       "      <th>Year</th>\n",
       "      <th>Month</th>\n",
       "      <th>Day</th>\n",
       "      <th>Hour</th>\n",
       "      <th>Minutes</th>\n",
       "      <th>Temperature(°C)</th>\n",
       "      <th>Relative Humidity(%)</th>\n",
       "      <th>Wind Direction(Degrees)</th>\n",
       "      <th>Daily Rainfall(mm)</th>\n",
       "      <th>Global Horizontal Radiation(W/m²)</th>\n",
       "      <th>Diffuse Horizontal Radiation(W/m²)</th>\n",
       "      <th>A</th>\n",
       "      <th>D</th>\n",
       "      <th>Station_9</th>\n",
       "    </tr>\n",
       "  </thead>\n",
       "  <tbody>\n",
       "    <tr>\n",
       "      <th>Year</th>\n",
       "      <td>NaN</td>\n",
       "      <td>NaN</td>\n",
       "      <td>NaN</td>\n",
       "      <td>NaN</td>\n",
       "      <td>NaN</td>\n",
       "      <td>NaN</td>\n",
       "      <td>NaN</td>\n",
       "      <td>NaN</td>\n",
       "      <td>NaN</td>\n",
       "      <td>NaN</td>\n",
       "      <td>NaN</td>\n",
       "      <td>NaN</td>\n",
       "      <td>NaN</td>\n",
       "      <td>NaN</td>\n",
       "    </tr>\n",
       "    <tr>\n",
       "      <th>Month</th>\n",
       "      <td>NaN</td>\n",
       "      <td>1.000000e+00</td>\n",
       "      <td>0.012516</td>\n",
       "      <td>-0.001307</td>\n",
       "      <td>0.000059</td>\n",
       "      <td>-0.089677</td>\n",
       "      <td>-0.126977</td>\n",
       "      <td>0.196439</td>\n",
       "      <td>-0.022474</td>\n",
       "      <td>0.016529</td>\n",
       "      <td>0.027530</td>\n",
       "      <td>-1.211966e-02</td>\n",
       "      <td>5.400341e-19</td>\n",
       "      <td>-0.012100</td>\n",
       "    </tr>\n",
       "    <tr>\n",
       "      <th>Day</th>\n",
       "      <td>NaN</td>\n",
       "      <td>1.251566e-02</td>\n",
       "      <td>1.000000</td>\n",
       "      <td>0.001135</td>\n",
       "      <td>0.000038</td>\n",
       "      <td>0.001549</td>\n",
       "      <td>0.040691</td>\n",
       "      <td>-0.005795</td>\n",
       "      <td>0.032094</td>\n",
       "      <td>-0.021430</td>\n",
       "      <td>0.060344</td>\n",
       "      <td>-1.700942e-02</td>\n",
       "      <td>-4.106950e-05</td>\n",
       "      <td>-0.016984</td>\n",
       "    </tr>\n",
       "    <tr>\n",
       "      <th>Hour</th>\n",
       "      <td>NaN</td>\n",
       "      <td>-1.307059e-03</td>\n",
       "      <td>0.001135</td>\n",
       "      <td>1.000000</td>\n",
       "      <td>-0.000062</td>\n",
       "      <td>0.281528</td>\n",
       "      <td>-0.303579</td>\n",
       "      <td>-0.214453</td>\n",
       "      <td>0.034298</td>\n",
       "      <td>0.063535</td>\n",
       "      <td>0.079994</td>\n",
       "      <td>7.083068e-02</td>\n",
       "      <td>4.788562e-05</td>\n",
       "      <td>0.070717</td>\n",
       "    </tr>\n",
       "    <tr>\n",
       "      <th>Minutes</th>\n",
       "      <td>NaN</td>\n",
       "      <td>5.880203e-05</td>\n",
       "      <td>0.000038</td>\n",
       "      <td>-0.000062</td>\n",
       "      <td>1.000000</td>\n",
       "      <td>0.000075</td>\n",
       "      <td>0.000022</td>\n",
       "      <td>-0.000133</td>\n",
       "      <td>0.001808</td>\n",
       "      <td>-0.000092</td>\n",
       "      <td>-0.000716</td>\n",
       "      <td>1.211908e-04</td>\n",
       "      <td>-2.908510e-03</td>\n",
       "      <td>-0.000046</td>\n",
       "    </tr>\n",
       "    <tr>\n",
       "      <th>Temperature(°C)</th>\n",
       "      <td>NaN</td>\n",
       "      <td>-8.967725e-02</td>\n",
       "      <td>0.001549</td>\n",
       "      <td>0.281528</td>\n",
       "      <td>0.000075</td>\n",
       "      <td>1.000000</td>\n",
       "      <td>-0.729951</td>\n",
       "      <td>-0.880595</td>\n",
       "      <td>-0.028779</td>\n",
       "      <td>0.484811</td>\n",
       "      <td>0.463912</td>\n",
       "      <td>4.531408e-01</td>\n",
       "      <td>9.353277e-04</td>\n",
       "      <td>0.452451</td>\n",
       "    </tr>\n",
       "    <tr>\n",
       "      <th>Relative Humidity(%)</th>\n",
       "      <td>NaN</td>\n",
       "      <td>-1.269769e-01</td>\n",
       "      <td>0.040691</td>\n",
       "      <td>-0.303579</td>\n",
       "      <td>0.000022</td>\n",
       "      <td>-0.729951</td>\n",
       "      <td>1.000000</td>\n",
       "      <td>0.582259</td>\n",
       "      <td>0.233975</td>\n",
       "      <td>-0.395939</td>\n",
       "      <td>-0.294355</td>\n",
       "      <td>-3.736610e-01</td>\n",
       "      <td>1.546730e-04</td>\n",
       "      <td>-0.373039</td>\n",
       "    </tr>\n",
       "    <tr>\n",
       "      <th>Wind Direction(Degrees)</th>\n",
       "      <td>NaN</td>\n",
       "      <td>1.964389e-01</td>\n",
       "      <td>-0.005795</td>\n",
       "      <td>-0.214453</td>\n",
       "      <td>-0.000133</td>\n",
       "      <td>-0.880595</td>\n",
       "      <td>0.582259</td>\n",
       "      <td>1.000000</td>\n",
       "      <td>-0.002829</td>\n",
       "      <td>-0.458919</td>\n",
       "      <td>-0.466567</td>\n",
       "      <td>-4.236910e-01</td>\n",
       "      <td>1.862564e-03</td>\n",
       "      <td>-0.422889</td>\n",
       "    </tr>\n",
       "    <tr>\n",
       "      <th>Daily Rainfall(mm)</th>\n",
       "      <td>NaN</td>\n",
       "      <td>-2.247419e-02</td>\n",
       "      <td>0.032094</td>\n",
       "      <td>0.034298</td>\n",
       "      <td>0.001808</td>\n",
       "      <td>-0.028779</td>\n",
       "      <td>0.233975</td>\n",
       "      <td>-0.002829</td>\n",
       "      <td>1.000000</td>\n",
       "      <td>-0.028995</td>\n",
       "      <td>-0.013541</td>\n",
       "      <td>-2.215820e-02</td>\n",
       "      <td>-1.056095e-06</td>\n",
       "      <td>-0.022122</td>\n",
       "    </tr>\n",
       "    <tr>\n",
       "      <th>Global Horizontal Radiation(W/m²)</th>\n",
       "      <td>NaN</td>\n",
       "      <td>1.652876e-02</td>\n",
       "      <td>-0.021430</td>\n",
       "      <td>0.063535</td>\n",
       "      <td>-0.000092</td>\n",
       "      <td>0.484811</td>\n",
       "      <td>-0.395939</td>\n",
       "      <td>-0.458919</td>\n",
       "      <td>-0.028995</td>\n",
       "      <td>1.000000</td>\n",
       "      <td>0.662977</td>\n",
       "      <td>9.893900e-01</td>\n",
       "      <td>4.896490e-02</td>\n",
       "      <td>0.990570</td>\n",
       "    </tr>\n",
       "    <tr>\n",
       "      <th>Diffuse Horizontal Radiation(W/m²)</th>\n",
       "      <td>NaN</td>\n",
       "      <td>2.753034e-02</td>\n",
       "      <td>0.060344</td>\n",
       "      <td>0.079994</td>\n",
       "      <td>-0.000716</td>\n",
       "      <td>0.463912</td>\n",
       "      <td>-0.294355</td>\n",
       "      <td>-0.466567</td>\n",
       "      <td>-0.013541</td>\n",
       "      <td>0.662977</td>\n",
       "      <td>1.000000</td>\n",
       "      <td>6.459854e-01</td>\n",
       "      <td>5.882729e-03</td>\n",
       "      <td>0.645262</td>\n",
       "    </tr>\n",
       "    <tr>\n",
       "      <th>A</th>\n",
       "      <td>NaN</td>\n",
       "      <td>-1.211966e-02</td>\n",
       "      <td>-0.017009</td>\n",
       "      <td>0.070831</td>\n",
       "      <td>0.000121</td>\n",
       "      <td>0.453141</td>\n",
       "      <td>-0.373661</td>\n",
       "      <td>-0.423691</td>\n",
       "      <td>-0.022158</td>\n",
       "      <td>0.989390</td>\n",
       "      <td>0.645985</td>\n",
       "      <td>1.000000e+00</td>\n",
       "      <td>-6.405257e-19</td>\n",
       "      <td>0.998359</td>\n",
       "    </tr>\n",
       "    <tr>\n",
       "      <th>D</th>\n",
       "      <td>NaN</td>\n",
       "      <td>5.400341e-19</td>\n",
       "      <td>-0.000041</td>\n",
       "      <td>0.000048</td>\n",
       "      <td>-0.002909</td>\n",
       "      <td>0.000935</td>\n",
       "      <td>0.000155</td>\n",
       "      <td>0.001863</td>\n",
       "      <td>-0.000001</td>\n",
       "      <td>0.048965</td>\n",
       "      <td>0.005883</td>\n",
       "      <td>-6.405257e-19</td>\n",
       "      <td>1.000000e+00</td>\n",
       "      <td>0.057257</td>\n",
       "    </tr>\n",
       "    <tr>\n",
       "      <th>Station_9</th>\n",
       "      <td>NaN</td>\n",
       "      <td>-1.209978e-02</td>\n",
       "      <td>-0.016984</td>\n",
       "      <td>0.070717</td>\n",
       "      <td>-0.000046</td>\n",
       "      <td>0.452451</td>\n",
       "      <td>-0.373039</td>\n",
       "      <td>-0.422889</td>\n",
       "      <td>-0.022122</td>\n",
       "      <td>0.990570</td>\n",
       "      <td>0.645262</td>\n",
       "      <td>9.983595e-01</td>\n",
       "      <td>5.725733e-02</td>\n",
       "      <td>1.000000</td>\n",
       "    </tr>\n",
       "  </tbody>\n",
       "</table>\n",
       "</div>"
      ],
      "text/plain": [
       "                                    Year         Month       Day      Hour  \\\n",
       "Year                                 NaN           NaN       NaN       NaN   \n",
       "Month                                NaN  1.000000e+00  0.012516 -0.001307   \n",
       "Day                                  NaN  1.251566e-02  1.000000  0.001135   \n",
       "Hour                                 NaN -1.307059e-03  0.001135  1.000000   \n",
       "Minutes                              NaN  5.880203e-05  0.000038 -0.000062   \n",
       "Temperature(°C)                      NaN -8.967725e-02  0.001549  0.281528   \n",
       "Relative Humidity(%)                 NaN -1.269769e-01  0.040691 -0.303579   \n",
       "Wind Direction(Degrees)              NaN  1.964389e-01 -0.005795 -0.214453   \n",
       "Daily Rainfall(mm)                   NaN -2.247419e-02  0.032094  0.034298   \n",
       "Global Horizontal Radiation(W/m²)    NaN  1.652876e-02 -0.021430  0.063535   \n",
       "Diffuse Horizontal Radiation(W/m²)   NaN  2.753034e-02  0.060344  0.079994   \n",
       "A                                    NaN -1.211966e-02 -0.017009  0.070831   \n",
       "D                                    NaN  5.400341e-19 -0.000041  0.000048   \n",
       "Station_9                            NaN -1.209978e-02 -0.016984  0.070717   \n",
       "\n",
       "                                     Minutes  Temperature(°C)  \\\n",
       "Year                                     NaN              NaN   \n",
       "Month                               0.000059        -0.089677   \n",
       "Day                                 0.000038         0.001549   \n",
       "Hour                               -0.000062         0.281528   \n",
       "Minutes                             1.000000         0.000075   \n",
       "Temperature(°C)                     0.000075         1.000000   \n",
       "Relative Humidity(%)                0.000022        -0.729951   \n",
       "Wind Direction(Degrees)            -0.000133        -0.880595   \n",
       "Daily Rainfall(mm)                  0.001808        -0.028779   \n",
       "Global Horizontal Radiation(W/m²)  -0.000092         0.484811   \n",
       "Diffuse Horizontal Radiation(W/m²) -0.000716         0.463912   \n",
       "A                                   0.000121         0.453141   \n",
       "D                                  -0.002909         0.000935   \n",
       "Station_9                          -0.000046         0.452451   \n",
       "\n",
       "                                    Relative Humidity(%)  \\\n",
       "Year                                                 NaN   \n",
       "Month                                          -0.126977   \n",
       "Day                                             0.040691   \n",
       "Hour                                           -0.303579   \n",
       "Minutes                                         0.000022   \n",
       "Temperature(°C)                                -0.729951   \n",
       "Relative Humidity(%)                            1.000000   \n",
       "Wind Direction(Degrees)                         0.582259   \n",
       "Daily Rainfall(mm)                              0.233975   \n",
       "Global Horizontal Radiation(W/m²)              -0.395939   \n",
       "Diffuse Horizontal Radiation(W/m²)             -0.294355   \n",
       "A                                              -0.373661   \n",
       "D                                               0.000155   \n",
       "Station_9                                      -0.373039   \n",
       "\n",
       "                                    Wind Direction(Degrees)  \\\n",
       "Year                                                    NaN   \n",
       "Month                                              0.196439   \n",
       "Day                                               -0.005795   \n",
       "Hour                                              -0.214453   \n",
       "Minutes                                           -0.000133   \n",
       "Temperature(°C)                                   -0.880595   \n",
       "Relative Humidity(%)                               0.582259   \n",
       "Wind Direction(Degrees)                            1.000000   \n",
       "Daily Rainfall(mm)                                -0.002829   \n",
       "Global Horizontal Radiation(W/m²)                 -0.458919   \n",
       "Diffuse Horizontal Radiation(W/m²)                -0.466567   \n",
       "A                                                 -0.423691   \n",
       "D                                                  0.001863   \n",
       "Station_9                                         -0.422889   \n",
       "\n",
       "                                    Daily Rainfall(mm)  \\\n",
       "Year                                               NaN   \n",
       "Month                                        -0.022474   \n",
       "Day                                           0.032094   \n",
       "Hour                                          0.034298   \n",
       "Minutes                                       0.001808   \n",
       "Temperature(°C)                              -0.028779   \n",
       "Relative Humidity(%)                          0.233975   \n",
       "Wind Direction(Degrees)                      -0.002829   \n",
       "Daily Rainfall(mm)                            1.000000   \n",
       "Global Horizontal Radiation(W/m²)            -0.028995   \n",
       "Diffuse Horizontal Radiation(W/m²)           -0.013541   \n",
       "A                                            -0.022158   \n",
       "D                                            -0.000001   \n",
       "Station_9                                    -0.022122   \n",
       "\n",
       "                                    Global Horizontal Radiation(W/m²)  \\\n",
       "Year                                                              NaN   \n",
       "Month                                                        0.016529   \n",
       "Day                                                         -0.021430   \n",
       "Hour                                                         0.063535   \n",
       "Minutes                                                     -0.000092   \n",
       "Temperature(°C)                                              0.484811   \n",
       "Relative Humidity(%)                                        -0.395939   \n",
       "Wind Direction(Degrees)                                     -0.458919   \n",
       "Daily Rainfall(mm)                                          -0.028995   \n",
       "Global Horizontal Radiation(W/m²)                            1.000000   \n",
       "Diffuse Horizontal Radiation(W/m²)                           0.662977   \n",
       "A                                                            0.989390   \n",
       "D                                                            0.048965   \n",
       "Station_9                                                    0.990570   \n",
       "\n",
       "                                    Diffuse Horizontal Radiation(W/m²)  \\\n",
       "Year                                                               NaN   \n",
       "Month                                                         0.027530   \n",
       "Day                                                           0.060344   \n",
       "Hour                                                          0.079994   \n",
       "Minutes                                                      -0.000716   \n",
       "Temperature(°C)                                               0.463912   \n",
       "Relative Humidity(%)                                         -0.294355   \n",
       "Wind Direction(Degrees)                                      -0.466567   \n",
       "Daily Rainfall(mm)                                           -0.013541   \n",
       "Global Horizontal Radiation(W/m²)                             0.662977   \n",
       "Diffuse Horizontal Radiation(W/m²)                            1.000000   \n",
       "A                                                             0.645985   \n",
       "D                                                             0.005883   \n",
       "Station_9                                                     0.645262   \n",
       "\n",
       "                                               A             D  Station_9  \n",
       "Year                                         NaN           NaN        NaN  \n",
       "Month                              -1.211966e-02  5.400341e-19  -0.012100  \n",
       "Day                                -1.700942e-02 -4.106950e-05  -0.016984  \n",
       "Hour                                7.083068e-02  4.788562e-05   0.070717  \n",
       "Minutes                             1.211908e-04 -2.908510e-03  -0.000046  \n",
       "Temperature(°C)                     4.531408e-01  9.353277e-04   0.452451  \n",
       "Relative Humidity(%)               -3.736610e-01  1.546730e-04  -0.373039  \n",
       "Wind Direction(Degrees)            -4.236910e-01  1.862564e-03  -0.422889  \n",
       "Daily Rainfall(mm)                 -2.215820e-02 -1.056095e-06  -0.022122  \n",
       "Global Horizontal Radiation(W/m²)   9.893900e-01  4.896490e-02   0.990570  \n",
       "Diffuse Horizontal Radiation(W/m²)  6.459854e-01  5.882729e-03   0.645262  \n",
       "A                                   1.000000e+00 -6.405257e-19   0.998359  \n",
       "D                                  -6.405257e-19  1.000000e+00   0.057257  \n",
       "Station_9                           9.983595e-01  5.725733e-02   1.000000  "
      ]
     },
     "execution_count": 21,
     "metadata": {},
     "output_type": "execute_result"
    }
   ],
   "source": [
    "tra.corr()"
   ]
  },
  {
   "cell_type": "code",
   "execution_count": 22,
   "metadata": {
    "scrolled": false
   },
   "outputs": [],
   "source": [
    "# plotaa = list(tra.columns)\n",
    "# plotaa.remove('Timestamp')\n",
    "# for i in plotaa:\n",
    "#     plt.figure()\n",
    "#     plt.plot(tra[i],'b',label= i)\n",
    "#     plt.title(i)\n",
    "#     plt.ylabel(i)\n",
    "#     plt.xlabel('Time')\n",
    "#     plt.legend()"
   ]
  },
  {
   "cell_type": "code",
   "execution_count": 23,
   "metadata": {},
   "outputs": [
    {
     "ename": "NameError",
     "evalue": "name 'cA3' is not defined",
     "output_type": "error",
     "traceback": [
      "\u001b[1;31m---------------------------------------------------------------------------\u001b[0m",
      "\u001b[1;31mNameError\u001b[0m                                 Traceback (most recent call last)",
      "\u001b[1;32m<ipython-input-23-b115962a360a>\u001b[0m in \u001b[0;36m<module>\u001b[1;34m()\u001b[0m\n\u001b[0;32m      2\u001b[0m \u001b[0mplt\u001b[0m\u001b[1;33m.\u001b[0m\u001b[0msubplot\u001b[0m\u001b[1;33m(\u001b[0m\u001b[1;36m4\u001b[0m\u001b[1;33m,\u001b[0m\u001b[1;36m1\u001b[0m\u001b[1;33m,\u001b[0m\u001b[1;36m1\u001b[0m\u001b[1;33m)\u001b[0m\u001b[1;33m\u001b[0m\u001b[0m\n\u001b[0;32m      3\u001b[0m \u001b[1;31m# plt.xticks([1,3,6,9,12])\u001b[0m\u001b[1;33m\u001b[0m\u001b[1;33m\u001b[0m\u001b[0m\n\u001b[1;32m----> 4\u001b[1;33m \u001b[0mplt\u001b[0m\u001b[1;33m.\u001b[0m\u001b[0mplot\u001b[0m\u001b[1;33m(\u001b[0m\u001b[0mcA3\u001b[0m\u001b[1;33m,\u001b[0m\u001b[1;34m'b'\u001b[0m\u001b[1;33m,\u001b[0m\u001b[0mlabel\u001b[0m\u001b[1;33m=\u001b[0m\u001b[1;34m'cA3'\u001b[0m\u001b[1;33m)\u001b[0m\u001b[1;33m\u001b[0m\u001b[0m\n\u001b[0m\u001b[0;32m      5\u001b[0m \u001b[0mplt\u001b[0m\u001b[1;33m.\u001b[0m\u001b[0mtitle\u001b[0m\u001b[1;33m(\u001b[0m\u001b[1;34m'cA3'\u001b[0m\u001b[1;33m)\u001b[0m\u001b[1;33m\u001b[0m\u001b[0m\n\u001b[0;32m      6\u001b[0m \u001b[0mplt\u001b[0m\u001b[1;33m.\u001b[0m\u001b[0mylabel\u001b[0m\u001b[1;33m(\u001b[0m\u001b[1;34m'Power(kW)'\u001b[0m\u001b[1;33m)\u001b[0m\u001b[1;33m\u001b[0m\u001b[0m\n",
      "\u001b[1;31mNameError\u001b[0m: name 'cA3' is not defined"
     ]
    },
    {
     "data": {
      "image/png": "[encoded data removed]",
      "text/plain": [
       "<Figure size 648x1008 with 1 Axes>"
      ]
     },
     "metadata": {},
     "output_type": "display_data"
    }
   ],
   "source": [
    "plt.figure(figsize=(9, 14))\n",
    "plt.subplot(4,1,1)\n",
    "# plt.xticks([1,3,6,9,12])\n",
    "plt.plot(cA3,'b',label='cA3')\n",
    "plt.title('cA3')\n",
    "plt.ylabel('Power(kW)')\n",
    "# plt.xlim((1, 12))\n",
    "\n",
    "plt.subplot(4,1,2)\n",
    "plt.plot(cD1,'b',label='cD1')\n",
    "plt.title('')\n",
    "plt.ylabel('Power(kW)')\n",
    "# plt.xlabel('Time')\n",
    "\n",
    "plt.subplot(4,1,3)\n",
    "plt.plot( cD2,'b',label='cD2')\n",
    "# plt.title('Day')\n",
    "plt.ylabel('Power(kW)')\n",
    "# plt.xlabel('Time')\n",
    "\n",
    "plt.subplot(4,1,4)\n",
    "plt.plot( cD3,'b',label='cD3')\n",
    "# plt.title('Day')\n",
    "plt.ylabel('Power(kW)')\n",
    "plt.xlabel('Time')\n",
    "plt.legend()\n",
    "# plt.legend()"
   ]
  },
  {
   "cell_type": "code",
   "execution_count": null,
   "metadata": {},
   "outputs": [],
   "source": [
    "from pylab import *\n",
    "plt.rcParams['font.sans-serif'] = ['SimHei']  #SimHei黑体\n",
    "plt.rcParams['axes.unicode_minus'] = False\n",
    "\n",
    "plt.figure(figsize=(13, 9))\n",
    "plt.subplot(5,1,1)\n",
    "plt.plot(data,'b',label='原始数据')\n",
    "plt.title('光伏发电功率序列',fontsize=\"16\")\n",
    "plt.ylabel('功率(kW)',fontsize=\"14\")\n",
    "# plt.xlabel('Time')\n",
    "plt.legend(loc=1,fontsize=\"14\")\n",
    "\n",
    "plt.subplot(5,1,2)\n",
    "# plt.xtiks([1,3,6,9,12])\n",
    "plt.plot(A3,'b',label='序列1')\n",
    "\n",
    "# plt.title('Year')\n",
    "plt.ylabel('功率(kW)',fontsize=\"14\")\n",
    "plt.legend(loc=1,fontsize=\"14\")\n",
    "# plt.xlim((1, 12))\n",
    "\n",
    "\n",
    "# plt.xlabel('Time')\n",
    "\n",
    "plt.subplot(5,1,3)\n",
    "plt.plot(D3,'b',label='序列2')\n",
    "# plt.title('Month')\n",
    "plt.ylabel('功率(kW)',fontsize=\"14\")\n",
    "plt.legend(loc=1,fontsize=\"14\")\n",
    "# plt.xlabel('Time')\n",
    "\n",
    "plt.subplot(5,1,4)\n",
    "plt.plot( D2,'b',label='序列3')\n",
    "# plt.title('Day')\n",
    "plt.ylabel('功率(kW)',fontsize=\"14\")\n",
    "plt.legend(loc=1,fontsize=\"14\")\n",
    "# plt.xlabel('Time')\n",
    "\n",
    "plt.subplot(5,1,5)\n",
    "plt.plot( D1,'b',label='序列4')\n",
    "# plt.title('Day')\n",
    "plt.ylabel('功率(kW)',fontsize=\"14\")\n",
    "plt.xlabel('时间序列',fontsize=\"14\")\n",
    "plt.legend(loc=1,fontsize=\"14\")\n",
    "# plt.legend()\n",
    "plt.savefig('../picture/小波分解重构.jpg',dpi=300)\n",
    "plt.savefig('../picture/小波分解重构.svg',format=\"svg\",dpi=300)"
   ]
  },
  {
   "cell_type": "code",
   "execution_count": null,
   "metadata": {},
   "outputs": [],
   "source": []
  }
 ],
 "metadata": {
  "kernelspec": {
   "display_name": "Python 3",
   "language": "python",
   "name": "python3"
  },
  "language_info": {
   "codemirror_mode": {
    "name": "ipython",
    "version": 3
   },
   "file_extension": ".py",
   "mimetype": "text/x-python",
   "name": "python",
   "nbconvert_exporter": "python",
   "pygments_lexer": "ipython3",
   "version": "3.6.5"
  }
 },
 "nbformat": 4,
 "nbformat_minor": 2
}
