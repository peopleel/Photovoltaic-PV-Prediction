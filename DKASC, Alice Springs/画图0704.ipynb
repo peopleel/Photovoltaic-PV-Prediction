{
 "cells": [
  {
   "cell_type": "markdown",
   "metadata": {},
   "source": [
    "#画图程序"
   ]
  },
  {
   "cell_type": "code",
   "execution_count": 1,
   "metadata": {},
   "outputs": [],
   "source": [
    "import os\n",
    "import pandas as pd\n",
    "import matplotlib.pyplot as plt\n",
    "import seaborn as sns\n",
    "import numpy as np\n",
    "import math\n",
    "from pandas import read_csv\n",
    "from sklearn.metrics import mean_squared_error\n",
    "from sklearn import metrics\n",
    "from math import sqrt\n",
    "from scipy.interpolate import spline"
   ]
  },
  {
   "cell_type": "code",
   "execution_count": 2,
   "metadata": {},
   "outputs": [
    {
     "name": "stdout",
     "output_type": "stream",
     "text": [
      "E:\\Research Project\\DKASC, Alice Springs\n"
     ]
    }
   ],
   "source": [
    "print(os.getcwd())"
   ]
  },
  {
   "cell_type": "code",
   "execution_count": 3,
   "metadata": {},
   "outputs": [
    {
     "data": {
      "text/plain": [
       "['.idea',\n",
       " '.ipynb_checkpoints',\n",
       " '101-Site_DKA-WeatherStation',\n",
       " '96-Site_DKA-MasterMeter1',\n",
       " 'Alice_Springs_2016-2020',\n",
       " 'CNN模型训练0809.ipynb',\n",
       " 'Dataset',\n",
       " 'logs',\n",
       " 'picture',\n",
       " 'Predict',\n",
       " 'Program backups',\n",
       " 'temp',\n",
       " 'venv',\n",
       " '异常值检验.ipynb',\n",
       " '数据集_小波包分解重构数据.ipynb',\n",
       " '数据集_预处理_第二版0702.ipynb',\n",
       " '测试小波分解.ipynb',\n",
       " '测试模型0622.ipynb',\n",
       " '测试模型0704.ipynb',\n",
       " '测试模型0704批量.ipynb',\n",
       " '测试模型小波包分解0704批量.ipynb',\n",
       " '画图.ipynb',\n",
       " '画图0704.ipynb',\n",
       " '相关性分析.ipynb',\n",
       " '笔记.ipynb',\n",
       " '训练模型0622.ipynb',\n",
       " '训练模型0702.ipynb',\n",
       " '训练模型0703 WPD.ipynb']"
      ]
     },
     "execution_count": 3,
     "metadata": {},
     "output_type": "execute_result"
    }
   ],
   "source": [
    "os.listdir(os.getcwd())"
   ]
  },
  {
   "cell_type": "code",
   "execution_count": 4,
   "metadata": {},
   "outputs": [
    {
     "data": {
      "text/plain": [
       "['1Atest_pred_-WDWDR_svm&bp&dnn.csv',\n",
       " 'keras_model1.csv',\n",
       " 'maetest0-8.csv',\n",
       " 'predict_1A-WDWDR.csv',\n",
       " 'predict_1A.csv',\n",
       " 'predict_1AM1.csv',\n",
       " 'predict_1AM2.csv',\n",
       " 'predict_1AM3.csv',\n",
       " 'predict_1A_model1.csv',\n",
       " 'predict_1A_model2.csv',\n",
       " 'predict_1A_model3.csv',\n",
       " 'predict_1B_model1.csv',\n",
       " 'predict_train_1A-WDWDR.csv',\n",
       " 'predict_train_1A.csv',\n",
       " 'rmsetest0-8.csv',\n",
       " 'Station_4_predict.csv',\n",
       " 'Station_4_Predict_四季.csv',\n",
       " 'Station_4_Predict_四季_改正.csv',\n",
       " 'Station_4_Predict_多指标.csv',\n",
       " 'WPD_Station_4_predict.csv',\n",
       " '九个站点评价.xlsx',\n",
       " '九个站点评价指标.csv',\n",
       " '九个站点评价指标WPD.csv',\n",
       " '站点4季节评价.xlsx']"
      ]
     },
     "execution_count": 4,
     "metadata": {},
     "output_type": "execute_result"
    }
   ],
   "source": [
    "os.chdir(\"./Predict/\")\n",
    "os.listdir(os.getcwd())"
   ]
  },
  {
   "cell_type": "code",
   "execution_count": 5,
   "metadata": {},
   "outputs": [],
   "source": [
    "predict_ = pd.read_csv('Station_4_predict.csv')\n",
    "predict_WPD= pd.read_csv('WPD_Station_4_predict.csv')"
   ]
  },
  {
   "cell_type": "code",
   "execution_count": 6,
   "metadata": {
    "scrolled": false
   },
   "outputs": [
    {
     "data": {
      "text/html": [
       "<div>\n",
       "<style scoped>\n",
       "    .dataframe tbody tr th:only-of-type {\n",
       "        vertical-align: middle;\n",
       "    }\n",
       "\n",
       "    .dataframe tbody tr th {\n",
       "        vertical-align: top;\n",
       "    }\n",
       "\n",
       "    .dataframe thead th {\n",
       "        text-align: right;\n",
       "    }\n",
       "</style>\n",
       "<table border=\"1\" class=\"dataframe\">\n",
       "  <thead>\n",
       "    <tr style=\"text-align: right;\">\n",
       "      <th></th>\n",
       "      <th>Month(t-12)</th>\n",
       "      <th>Day(t-12)</th>\n",
       "      <th>Hour(t-12)</th>\n",
       "      <th>Minutes(t-12)</th>\n",
       "      <th>Temperature(°C)(t-12)</th>\n",
       "      <th>Relative Humidity(%)(t-12)</th>\n",
       "      <th>Wind Direction(Degrees)(t-12)</th>\n",
       "      <th>Daily Rainfall(mm)(t-12)</th>\n",
       "      <th>Global Horizontal Radiation(W/m²)(t-12)</th>\n",
       "      <th>Diffuse Horizontal Radiation(W/m²)(t-12)</th>\n",
       "      <th>Station_4(t-12)</th>\n",
       "      <th>Station_4(t)</th>\n",
       "      <th>BP</th>\n",
       "      <th>DNN</th>\n",
       "      <th>LSTM</th>\n",
       "    </tr>\n",
       "  </thead>\n",
       "  <tbody>\n",
       "    <tr>\n",
       "      <th>0</th>\n",
       "      <td>1.0</td>\n",
       "      <td>1.0</td>\n",
       "      <td>0.0</td>\n",
       "      <td>0.000000</td>\n",
       "      <td>30.020725</td>\n",
       "      <td>20.125513</td>\n",
       "      <td>32.213470</td>\n",
       "      <td>0.0</td>\n",
       "      <td>1.543787</td>\n",
       "      <td>1.349848</td>\n",
       "      <td>0.000533</td>\n",
       "      <td>0.000067</td>\n",
       "      <td>-0.019865</td>\n",
       "      <td>-0.001145</td>\n",
       "      <td>-0.003218</td>\n",
       "    </tr>\n",
       "    <tr>\n",
       "      <th>1</th>\n",
       "      <td>1.0</td>\n",
       "      <td>1.0</td>\n",
       "      <td>0.0</td>\n",
       "      <td>5.000000</td>\n",
       "      <td>29.958654</td>\n",
       "      <td>20.040049</td>\n",
       "      <td>32.158790</td>\n",
       "      <td>0.0</td>\n",
       "      <td>1.373370</td>\n",
       "      <td>1.244123</td>\n",
       "      <td>0.000433</td>\n",
       "      <td>0.000067</td>\n",
       "      <td>-0.019865</td>\n",
       "      <td>-0.001145</td>\n",
       "      <td>-0.003215</td>\n",
       "    </tr>\n",
       "    <tr>\n",
       "      <th>2</th>\n",
       "      <td>1.0</td>\n",
       "      <td>1.0</td>\n",
       "      <td>0.0</td>\n",
       "      <td>10.000000</td>\n",
       "      <td>29.884493</td>\n",
       "      <td>20.013313</td>\n",
       "      <td>32.155807</td>\n",
       "      <td>0.0</td>\n",
       "      <td>1.142953</td>\n",
       "      <td>0.992849</td>\n",
       "      <td>0.000867</td>\n",
       "      <td>0.000200</td>\n",
       "      <td>-0.019864</td>\n",
       "      <td>-0.001144</td>\n",
       "      <td>-0.003228</td>\n",
       "    </tr>\n",
       "    <tr>\n",
       "      <th>3</th>\n",
       "      <td>1.0</td>\n",
       "      <td>1.0</td>\n",
       "      <td>0.0</td>\n",
       "      <td>14.999999</td>\n",
       "      <td>29.831553</td>\n",
       "      <td>20.068233</td>\n",
       "      <td>32.178555</td>\n",
       "      <td>0.0</td>\n",
       "      <td>0.709036</td>\n",
       "      <td>0.611533</td>\n",
       "      <td>0.000767</td>\n",
       "      <td>0.000200</td>\n",
       "      <td>-0.019864</td>\n",
       "      <td>-0.001143</td>\n",
       "      <td>-0.003321</td>\n",
       "    </tr>\n",
       "    <tr>\n",
       "      <th>4</th>\n",
       "      <td>1.0</td>\n",
       "      <td>1.0</td>\n",
       "      <td>0.0</td>\n",
       "      <td>20.000000</td>\n",
       "      <td>29.750330</td>\n",
       "      <td>20.086567</td>\n",
       "      <td>32.166214</td>\n",
       "      <td>0.0</td>\n",
       "      <td>1.058623</td>\n",
       "      <td>0.814599</td>\n",
       "      <td>0.000533</td>\n",
       "      <td>0.000400</td>\n",
       "      <td>-0.019863</td>\n",
       "      <td>-0.001146</td>\n",
       "      <td>-0.003203</td>\n",
       "    </tr>\n",
       "  </tbody>\n",
       "</table>\n",
       "</div>"
      ],
      "text/plain": [
       "   Month(t-12)  Day(t-12)  Hour(t-12)  Minutes(t-12)  Temperature(°C)(t-12)  \\\n",
       "0          1.0        1.0         0.0       0.000000              30.020725   \n",
       "1          1.0        1.0         0.0       5.000000              29.958654   \n",
       "2          1.0        1.0         0.0      10.000000              29.884493   \n",
       "3          1.0        1.0         0.0      14.999999              29.831553   \n",
       "4          1.0        1.0         0.0      20.000000              29.750330   \n",
       "\n",
       "   Relative Humidity(%)(t-12)  Wind Direction(Degrees)(t-12)  \\\n",
       "0                   20.125513                      32.213470   \n",
       "1                   20.040049                      32.158790   \n",
       "2                   20.013313                      32.155807   \n",
       "3                   20.068233                      32.178555   \n",
       "4                   20.086567                      32.166214   \n",
       "\n",
       "   Daily Rainfall(mm)(t-12)  Global Horizontal Radiation(W/m²)(t-12)  \\\n",
       "0                       0.0                                 1.543787   \n",
       "1                       0.0                                 1.373370   \n",
       "2                       0.0                                 1.142953   \n",
       "3                       0.0                                 0.709036   \n",
       "4                       0.0                                 1.058623   \n",
       "\n",
       "   Diffuse Horizontal Radiation(W/m²)(t-12)  Station_4(t-12)  Station_4(t)  \\\n",
       "0                                  1.349848         0.000533      0.000067   \n",
       "1                                  1.244123         0.000433      0.000067   \n",
       "2                                  0.992849         0.000867      0.000200   \n",
       "3                                  0.611533         0.000767      0.000200   \n",
       "4                                  0.814599         0.000533      0.000400   \n",
       "\n",
       "         BP       DNN      LSTM  \n",
       "0 -0.019865 -0.001145 -0.003218  \n",
       "1 -0.019865 -0.001145 -0.003215  \n",
       "2 -0.019864 -0.001144 -0.003228  \n",
       "3 -0.019864 -0.001143 -0.003321  \n",
       "4 -0.019863 -0.001146 -0.003203  "
      ]
     },
     "execution_count": 6,
     "metadata": {},
     "output_type": "execute_result"
    }
   ],
   "source": [
    "predict_.head()"
   ]
  },
  {
   "cell_type": "code",
   "execution_count": 7,
   "metadata": {},
   "outputs": [
    {
     "data": {
      "text/plain": [
       "Index(['Month(t-12)', 'Day(t-12)', 'Hour(t-12)', 'Minutes(t-12)',\n",
       "       'Temperature(°C)(t-12)', 'Relative Humidity(%)(t-12)',\n",
       "       'Wind Direction(Degrees)(t-12)', 'Daily Rainfall(mm)(t-12)',\n",
       "       'Global Horizontal Radiation(W/m²)(t-12)',\n",
       "       'Diffuse Horizontal Radiation(W/m²)(t-12)', 'Station_4(t-12)',\n",
       "       'Station_4(t)', 'BP', 'DNN', 'LSTM'],\n",
       "      dtype='object')"
      ]
     },
     "execution_count": 7,
     "metadata": {},
     "output_type": "execute_result"
    }
   ],
   "source": [
    "predict_.columns"
   ]
  },
  {
   "cell_type": "code",
   "execution_count": 8,
   "metadata": {},
   "outputs": [
    {
     "data": {
      "text/html": [
       "<div>\n",
       "<style scoped>\n",
       "    .dataframe tbody tr th:only-of-type {\n",
       "        vertical-align: middle;\n",
       "    }\n",
       "\n",
       "    .dataframe tbody tr th {\n",
       "        vertical-align: top;\n",
       "    }\n",
       "\n",
       "    .dataframe thead th {\n",
       "        text-align: right;\n",
       "    }\n",
       "</style>\n",
       "<table border=\"1\" class=\"dataframe\">\n",
       "  <thead>\n",
       "    <tr style=\"text-align: right;\">\n",
       "      <th></th>\n",
       "      <th>Month(t-12)</th>\n",
       "      <th>Day(t-12)</th>\n",
       "      <th>Hour(t-12)</th>\n",
       "      <th>Minutes(t-12)</th>\n",
       "      <th>Temperature(°C)(t-12)</th>\n",
       "      <th>Relative Humidity(%)(t-12)</th>\n",
       "      <th>Wind Direction(Degrees)(t-12)</th>\n",
       "      <th>Daily Rainfall(mm)(t-12)</th>\n",
       "      <th>Global Horizontal Radiation(W/m²)(t-12)</th>\n",
       "      <th>Diffuse Horizontal Radiation(W/m²)(t-12)</th>\n",
       "      <th>A(t-12)</th>\n",
       "      <th>D(t-12)</th>\n",
       "      <th>Station_4(t-12)</th>\n",
       "      <th>Station_4(t)</th>\n",
       "      <th>WPD_BP</th>\n",
       "      <th>WPD_DNN</th>\n",
       "      <th>WPD_LSTM</th>\n",
       "    </tr>\n",
       "  </thead>\n",
       "  <tbody>\n",
       "    <tr>\n",
       "      <th>0</th>\n",
       "      <td>1.0</td>\n",
       "      <td>1.0</td>\n",
       "      <td>0.0</td>\n",
       "      <td>0.000000</td>\n",
       "      <td>30.020725</td>\n",
       "      <td>20.125513</td>\n",
       "      <td>32.213470</td>\n",
       "      <td>0.0</td>\n",
       "      <td>1.543787</td>\n",
       "      <td>1.349848</td>\n",
       "      <td>0.000500</td>\n",
       "      <td>0.000033</td>\n",
       "      <td>0.000533</td>\n",
       "      <td>0.000067</td>\n",
       "      <td>-0.019867</td>\n",
       "      <td>-0.001382</td>\n",
       "      <td>-0.001917</td>\n",
       "    </tr>\n",
       "    <tr>\n",
       "      <th>1</th>\n",
       "      <td>1.0</td>\n",
       "      <td>1.0</td>\n",
       "      <td>0.0</td>\n",
       "      <td>5.000000</td>\n",
       "      <td>29.958654</td>\n",
       "      <td>20.040049</td>\n",
       "      <td>32.158790</td>\n",
       "      <td>0.0</td>\n",
       "      <td>1.373370</td>\n",
       "      <td>1.244123</td>\n",
       "      <td>0.000575</td>\n",
       "      <td>-0.000141</td>\n",
       "      <td>0.000433</td>\n",
       "      <td>0.000067</td>\n",
       "      <td>-0.019867</td>\n",
       "      <td>-0.001384</td>\n",
       "      <td>-0.001917</td>\n",
       "    </tr>\n",
       "    <tr>\n",
       "      <th>2</th>\n",
       "      <td>1.0</td>\n",
       "      <td>1.0</td>\n",
       "      <td>0.0</td>\n",
       "      <td>10.000000</td>\n",
       "      <td>29.884493</td>\n",
       "      <td>20.013313</td>\n",
       "      <td>32.155807</td>\n",
       "      <td>0.0</td>\n",
       "      <td>1.142953</td>\n",
       "      <td>0.992849</td>\n",
       "      <td>0.000654</td>\n",
       "      <td>0.000213</td>\n",
       "      <td>0.000867</td>\n",
       "      <td>0.000200</td>\n",
       "      <td>-0.019867</td>\n",
       "      <td>-0.001385</td>\n",
       "      <td>-0.001917</td>\n",
       "    </tr>\n",
       "    <tr>\n",
       "      <th>3</th>\n",
       "      <td>1.0</td>\n",
       "      <td>1.0</td>\n",
       "      <td>0.0</td>\n",
       "      <td>14.999999</td>\n",
       "      <td>29.831553</td>\n",
       "      <td>20.068233</td>\n",
       "      <td>32.178555</td>\n",
       "      <td>0.0</td>\n",
       "      <td>0.709036</td>\n",
       "      <td>0.611533</td>\n",
       "      <td>0.000776</td>\n",
       "      <td>-0.000009</td>\n",
       "      <td>0.000767</td>\n",
       "      <td>0.000200</td>\n",
       "      <td>-0.019867</td>\n",
       "      <td>-0.001386</td>\n",
       "      <td>-0.001917</td>\n",
       "    </tr>\n",
       "    <tr>\n",
       "      <th>4</th>\n",
       "      <td>1.0</td>\n",
       "      <td>1.0</td>\n",
       "      <td>0.0</td>\n",
       "      <td>20.000000</td>\n",
       "      <td>29.750330</td>\n",
       "      <td>20.086567</td>\n",
       "      <td>32.166214</td>\n",
       "      <td>0.0</td>\n",
       "      <td>1.058623</td>\n",
       "      <td>0.814599</td>\n",
       "      <td>0.000650</td>\n",
       "      <td>-0.000117</td>\n",
       "      <td>0.000533</td>\n",
       "      <td>0.000400</td>\n",
       "      <td>-0.019867</td>\n",
       "      <td>-0.001389</td>\n",
       "      <td>-0.001917</td>\n",
       "    </tr>\n",
       "  </tbody>\n",
       "</table>\n",
       "</div>"
      ],
      "text/plain": [
       "   Month(t-12)  Day(t-12)  Hour(t-12)  Minutes(t-12)  Temperature(°C)(t-12)  \\\n",
       "0          1.0        1.0         0.0       0.000000              30.020725   \n",
       "1          1.0        1.0         0.0       5.000000              29.958654   \n",
       "2          1.0        1.0         0.0      10.000000              29.884493   \n",
       "3          1.0        1.0         0.0      14.999999              29.831553   \n",
       "4          1.0        1.0         0.0      20.000000              29.750330   \n",
       "\n",
       "   Relative Humidity(%)(t-12)  Wind Direction(Degrees)(t-12)  \\\n",
       "0                   20.125513                      32.213470   \n",
       "1                   20.040049                      32.158790   \n",
       "2                   20.013313                      32.155807   \n",
       "3                   20.068233                      32.178555   \n",
       "4                   20.086567                      32.166214   \n",
       "\n",
       "   Daily Rainfall(mm)(t-12)  Global Horizontal Radiation(W/m²)(t-12)  \\\n",
       "0                       0.0                                 1.543787   \n",
       "1                       0.0                                 1.373370   \n",
       "2                       0.0                                 1.142953   \n",
       "3                       0.0                                 0.709036   \n",
       "4                       0.0                                 1.058623   \n",
       "\n",
       "   Diffuse Horizontal Radiation(W/m²)(t-12)   A(t-12)   D(t-12)  \\\n",
       "0                                  1.349848  0.000500  0.000033   \n",
       "1                                  1.244123  0.000575 -0.000141   \n",
       "2                                  0.992849  0.000654  0.000213   \n",
       "3                                  0.611533  0.000776 -0.000009   \n",
       "4                                  0.814599  0.000650 -0.000117   \n",
       "\n",
       "   Station_4(t-12)  Station_4(t)    WPD_BP   WPD_DNN  WPD_LSTM  \n",
       "0         0.000533      0.000067 -0.019867 -0.001382 -0.001917  \n",
       "1         0.000433      0.000067 -0.019867 -0.001384 -0.001917  \n",
       "2         0.000867      0.000200 -0.019867 -0.001385 -0.001917  \n",
       "3         0.000767      0.000200 -0.019867 -0.001386 -0.001917  \n",
       "4         0.000533      0.000400 -0.019867 -0.001389 -0.001917  "
      ]
     },
     "execution_count": 8,
     "metadata": {},
     "output_type": "execute_result"
    }
   ],
   "source": [
    "predict_WPD.head()"
   ]
  },
  {
   "cell_type": "code",
   "execution_count": 9,
   "metadata": {},
   "outputs": [
    {
     "data": {
      "text/plain": [
       "Index(['Month(t-12)', 'Day(t-12)', 'Hour(t-12)', 'Minutes(t-12)',\n",
       "       'Temperature(°C)(t-12)', 'Relative Humidity(%)(t-12)',\n",
       "       'Wind Direction(Degrees)(t-12)', 'Daily Rainfall(mm)(t-12)',\n",
       "       'Global Horizontal Radiation(W/m²)(t-12)',\n",
       "       'Diffuse Horizontal Radiation(W/m²)(t-12)', 'A(t-12)', 'D(t-12)',\n",
       "       'Station_4(t-12)', 'Station_4(t)', 'WPD_BP', 'WPD_DNN', 'WPD_LSTM'],\n",
       "      dtype='object')"
      ]
     },
     "execution_count": 9,
     "metadata": {},
     "output_type": "execute_result"
    }
   ],
   "source": [
    "predict_WPD.columns"
   ]
  },
  {
   "cell_type": "code",
   "execution_count": 10,
   "metadata": {},
   "outputs": [],
   "source": [
    "predict_['WPD_BP'] = predict_WPD['WPD_BP']"
   ]
  },
  {
   "cell_type": "code",
   "execution_count": 11,
   "metadata": {},
   "outputs": [],
   "source": [
    "predict_['WPD_DNN'] = predict_WPD['WPD_DNN']"
   ]
  },
  {
   "cell_type": "code",
   "execution_count": 12,
   "metadata": {},
   "outputs": [],
   "source": [
    "predict_['WPD_LSTM'] = predict_WPD['WPD_LSTM']"
   ]
  },
  {
   "cell_type": "code",
   "execution_count": 13,
   "metadata": {
    "scrolled": true
   },
   "outputs": [
    {
     "data": {
      "text/html": [
       "<div>\n",
       "<style scoped>\n",
       "    .dataframe tbody tr th:only-of-type {\n",
       "        vertical-align: middle;\n",
       "    }\n",
       "\n",
       "    .dataframe tbody tr th {\n",
       "        vertical-align: top;\n",
       "    }\n",
       "\n",
       "    .dataframe thead th {\n",
       "        text-align: right;\n",
       "    }\n",
       "</style>\n",
       "<table border=\"1\" class=\"dataframe\">\n",
       "  <thead>\n",
       "    <tr style=\"text-align: right;\">\n",
       "      <th></th>\n",
       "      <th>Month(t-12)</th>\n",
       "      <th>Day(t-12)</th>\n",
       "      <th>Hour(t-12)</th>\n",
       "      <th>Minutes(t-12)</th>\n",
       "      <th>Temperature(°C)(t-12)</th>\n",
       "      <th>Relative Humidity(%)(t-12)</th>\n",
       "      <th>Wind Direction(Degrees)(t-12)</th>\n",
       "      <th>Daily Rainfall(mm)(t-12)</th>\n",
       "      <th>Global Horizontal Radiation(W/m²)(t-12)</th>\n",
       "      <th>Diffuse Horizontal Radiation(W/m²)(t-12)</th>\n",
       "      <th>Station_4(t-12)</th>\n",
       "      <th>Station_4(t)</th>\n",
       "      <th>BP</th>\n",
       "      <th>DNN</th>\n",
       "      <th>LSTM</th>\n",
       "      <th>WPD_BP</th>\n",
       "      <th>WPD_DNN</th>\n",
       "      <th>WPD_LSTM</th>\n",
       "    </tr>\n",
       "  </thead>\n",
       "  <tbody>\n",
       "    <tr>\n",
       "      <th>0</th>\n",
       "      <td>1.0</td>\n",
       "      <td>1.0</td>\n",
       "      <td>0.0</td>\n",
       "      <td>0.000000</td>\n",
       "      <td>30.020725</td>\n",
       "      <td>20.125513</td>\n",
       "      <td>32.213470</td>\n",
       "      <td>0.0</td>\n",
       "      <td>1.543787</td>\n",
       "      <td>1.349848</td>\n",
       "      <td>0.000533</td>\n",
       "      <td>0.000067</td>\n",
       "      <td>-0.019865</td>\n",
       "      <td>-0.001145</td>\n",
       "      <td>-0.003218</td>\n",
       "      <td>-0.019867</td>\n",
       "      <td>-0.001382</td>\n",
       "      <td>-0.001917</td>\n",
       "    </tr>\n",
       "    <tr>\n",
       "      <th>1</th>\n",
       "      <td>1.0</td>\n",
       "      <td>1.0</td>\n",
       "      <td>0.0</td>\n",
       "      <td>5.000000</td>\n",
       "      <td>29.958654</td>\n",
       "      <td>20.040049</td>\n",
       "      <td>32.158790</td>\n",
       "      <td>0.0</td>\n",
       "      <td>1.373370</td>\n",
       "      <td>1.244123</td>\n",
       "      <td>0.000433</td>\n",
       "      <td>0.000067</td>\n",
       "      <td>-0.019865</td>\n",
       "      <td>-0.001145</td>\n",
       "      <td>-0.003215</td>\n",
       "      <td>-0.019867</td>\n",
       "      <td>-0.001384</td>\n",
       "      <td>-0.001917</td>\n",
       "    </tr>\n",
       "    <tr>\n",
       "      <th>2</th>\n",
       "      <td>1.0</td>\n",
       "      <td>1.0</td>\n",
       "      <td>0.0</td>\n",
       "      <td>10.000000</td>\n",
       "      <td>29.884493</td>\n",
       "      <td>20.013313</td>\n",
       "      <td>32.155807</td>\n",
       "      <td>0.0</td>\n",
       "      <td>1.142953</td>\n",
       "      <td>0.992849</td>\n",
       "      <td>0.000867</td>\n",
       "      <td>0.000200</td>\n",
       "      <td>-0.019864</td>\n",
       "      <td>-0.001144</td>\n",
       "      <td>-0.003228</td>\n",
       "      <td>-0.019867</td>\n",
       "      <td>-0.001385</td>\n",
       "      <td>-0.001917</td>\n",
       "    </tr>\n",
       "    <tr>\n",
       "      <th>3</th>\n",
       "      <td>1.0</td>\n",
       "      <td>1.0</td>\n",
       "      <td>0.0</td>\n",
       "      <td>14.999999</td>\n",
       "      <td>29.831553</td>\n",
       "      <td>20.068233</td>\n",
       "      <td>32.178555</td>\n",
       "      <td>0.0</td>\n",
       "      <td>0.709036</td>\n",
       "      <td>0.611533</td>\n",
       "      <td>0.000767</td>\n",
       "      <td>0.000200</td>\n",
       "      <td>-0.019864</td>\n",
       "      <td>-0.001143</td>\n",
       "      <td>-0.003321</td>\n",
       "      <td>-0.019867</td>\n",
       "      <td>-0.001386</td>\n",
       "      <td>-0.001917</td>\n",
       "    </tr>\n",
       "    <tr>\n",
       "      <th>4</th>\n",
       "      <td>1.0</td>\n",
       "      <td>1.0</td>\n",
       "      <td>0.0</td>\n",
       "      <td>20.000000</td>\n",
       "      <td>29.750330</td>\n",
       "      <td>20.086567</td>\n",
       "      <td>32.166214</td>\n",
       "      <td>0.0</td>\n",
       "      <td>1.058623</td>\n",
       "      <td>0.814599</td>\n",
       "      <td>0.000533</td>\n",
       "      <td>0.000400</td>\n",
       "      <td>-0.019863</td>\n",
       "      <td>-0.001146</td>\n",
       "      <td>-0.003203</td>\n",
       "      <td>-0.019867</td>\n",
       "      <td>-0.001389</td>\n",
       "      <td>-0.001917</td>\n",
       "    </tr>\n",
       "  </tbody>\n",
       "</table>\n",
       "</div>"
      ],
      "text/plain": [
       "   Month(t-12)  Day(t-12)  Hour(t-12)  Minutes(t-12)  Temperature(°C)(t-12)  \\\n",
       "0          1.0        1.0         0.0       0.000000              30.020725   \n",
       "1          1.0        1.0         0.0       5.000000              29.958654   \n",
       "2          1.0        1.0         0.0      10.000000              29.884493   \n",
       "3          1.0        1.0         0.0      14.999999              29.831553   \n",
       "4          1.0        1.0         0.0      20.000000              29.750330   \n",
       "\n",
       "   Relative Humidity(%)(t-12)  Wind Direction(Degrees)(t-12)  \\\n",
       "0                   20.125513                      32.213470   \n",
       "1                   20.040049                      32.158790   \n",
       "2                   20.013313                      32.155807   \n",
       "3                   20.068233                      32.178555   \n",
       "4                   20.086567                      32.166214   \n",
       "\n",
       "   Daily Rainfall(mm)(t-12)  Global Horizontal Radiation(W/m²)(t-12)  \\\n",
       "0                       0.0                                 1.543787   \n",
       "1                       0.0                                 1.373370   \n",
       "2                       0.0                                 1.142953   \n",
       "3                       0.0                                 0.709036   \n",
       "4                       0.0                                 1.058623   \n",
       "\n",
       "   Diffuse Horizontal Radiation(W/m²)(t-12)  Station_4(t-12)  Station_4(t)  \\\n",
       "0                                  1.349848         0.000533      0.000067   \n",
       "1                                  1.244123         0.000433      0.000067   \n",
       "2                                  0.992849         0.000867      0.000200   \n",
       "3                                  0.611533         0.000767      0.000200   \n",
       "4                                  0.814599         0.000533      0.000400   \n",
       "\n",
       "         BP       DNN      LSTM    WPD_BP   WPD_DNN  WPD_LSTM  \n",
       "0 -0.019865 -0.001145 -0.003218 -0.019867 -0.001382 -0.001917  \n",
       "1 -0.019865 -0.001145 -0.003215 -0.019867 -0.001384 -0.001917  \n",
       "2 -0.019864 -0.001144 -0.003228 -0.019867 -0.001385 -0.001917  \n",
       "3 -0.019864 -0.001143 -0.003321 -0.019867 -0.001386 -0.001917  \n",
       "4 -0.019863 -0.001146 -0.003203 -0.019867 -0.001389 -0.001917  "
      ]
     },
     "execution_count": 13,
     "metadata": {},
     "output_type": "execute_result"
    }
   ],
   "source": [
    "predict_.head()"
   ]
  },
  {
   "cell_type": "code",
   "execution_count": 14,
   "metadata": {},
   "outputs": [
    {
     "data": {
      "text/plain": [
       "Index(['Month(t-12)', 'Day(t-12)', 'Hour(t-12)', 'Minutes(t-12)',\n",
       "       'Temperature(°C)(t-12)', 'Relative Humidity(%)(t-12)',\n",
       "       'Wind Direction(Degrees)(t-12)', 'Daily Rainfall(mm)(t-12)',\n",
       "       'Global Horizontal Radiation(W/m²)(t-12)',\n",
       "       'Diffuse Horizontal Radiation(W/m²)(t-12)', 'Station_4(t-12)',\n",
       "       'Station_4(t)', 'BP', 'DNN', 'LSTM', 'WPD_BP', 'WPD_DNN', 'WPD_LSTM'],\n",
       "      dtype='object')"
      ]
     },
     "execution_count": 14,
     "metadata": {},
     "output_type": "execute_result"
    }
   ],
   "source": [
    "predict_.columns"
   ]
  },
  {
   "cell_type": "code",
   "execution_count": 15,
   "metadata": {},
   "outputs": [],
   "source": [
    "def mape(y_true, y_pred):\n",
    "    return np.mean(np.abs((y_pred - y_true) / y_true)) * 100\n",
    "\n",
    "def smape(y_true, y_pred):\n",
    "    return 2.0 * np.mean(np.abs(y_pred - y_true) / (np.abs(y_pred) + np.abs(y_true))) * 100\n"
   ]
  },
  {
   "cell_type": "code",
   "execution_count": 16,
   "metadata": {},
   "outputs": [
    {
     "data": {
      "text/plain": [
       "Index(['Month(t-12)', 'Day(t-12)', 'Hour(t-12)', 'Minutes(t-12)',\n",
       "       'Temperature(°C)(t-12)', 'Relative Humidity(%)(t-12)',\n",
       "       'Wind Direction(Degrees)(t-12)', 'Daily Rainfall(mm)(t-12)',\n",
       "       'Global Horizontal Radiation(W/m²)(t-12)',\n",
       "       'Diffuse Horizontal Radiation(W/m²)(t-12)', 'Station_4(t-12)',\n",
       "       'Station_4(t)', 'BP', 'DNN', 'LSTM', 'WPD_BP', 'WPD_DNN', 'WPD_LSTM'],\n",
       "      dtype='object')"
      ]
     },
     "execution_count": 16,
     "metadata": {},
     "output_type": "execute_result"
    }
   ],
   "source": [
    "predict_.columns"
   ]
  },
  {
   "cell_type": "code",
   "execution_count": 17,
   "metadata": {},
   "outputs": [
    {
     "data": {
      "text/plain": [
       "array([-0.00114537, -0.0011452 , -0.00114375, ..., -0.00130601,\n",
       "       -0.00130998, -0.00131393])"
      ]
     },
     "execution_count": 17,
     "metadata": {},
     "output_type": "execute_result"
    }
   ],
   "source": [
    "predict_['DNN'].values"
   ]
  },
  {
   "cell_type": "code",
   "execution_count": 18,
   "metadata": {},
   "outputs": [
    {
     "data": {
      "text/plain": [
       "array([6.6700990e-05, 6.6700990e-05, 2.0000075e-04, ..., 3.9999935e-04,\n",
       "       7.3333393e-04, 7.3333393e-04])"
      ]
     },
     "execution_count": 18,
     "metadata": {},
     "output_type": "execute_result"
    }
   ],
   "source": [
    "predict_['Station_4(t)'].values"
   ]
  },
  {
   "cell_type": "code",
   "execution_count": 19,
   "metadata": {},
   "outputs": [
    {
     "data": {
      "text/plain": [
       "array([-0.00321756, -0.00321501, -0.00322814, ..., -0.00535253,\n",
       "       -0.00537659, -0.00538563])"
      ]
     },
     "execution_count": 19,
     "metadata": {},
     "output_type": "execute_result"
    }
   ],
   "source": [
    "predict_[ 'LSTM'].values"
   ]
  },
  {
   "cell_type": "code",
   "execution_count": 20,
   "metadata": {},
   "outputs": [
    {
     "data": {
      "text/plain": [
       "array([-0.00191657, -0.00191657, -0.00191657, ..., -0.00291464,\n",
       "       -0.00291464, -0.00291464])"
      ]
     },
     "execution_count": 20,
     "metadata": {},
     "output_type": "execute_result"
    }
   ],
   "source": [
    "predict_['WPD_LSTM'].values"
   ]
  },
  {
   "cell_type": "code",
   "execution_count": 21,
   "metadata": {},
   "outputs": [
    {
     "name": "stderr",
     "output_type": "stream",
     "text": [
      "C:\\ProgramData\\Anaconda3\\lib\\site-packages\\ipykernel_launcher.py:2: RuntimeWarning: divide by zero encountered in true_divide\n",
      "  \n"
     ]
    }
   ],
   "source": [
    "dnn_mse = metrics.mean_squared_error(predict_['Station_4(t)'].values, predict_['DNN'].values)\n",
    "dnn_rmse = math.sqrt(mean_squared_error(predict_['Station_4(t)'].values, predict_['DNN'].values))\n",
    "dnn_mae = metrics.mean_absolute_error(predict_['Station_4(t)'].values, predict_['DNN'].values)\n",
    "dnn_mape = mape(predict_['Station_4(t)'].values, predict_['DNN'].values)\n",
    "dnn_smape = smape(predict_['Station_4(t)'].values, predict_['DNN'].values)\n",
    "\n",
    "lstm_mse = metrics.mean_squared_error(predict_['Station_4(t)'].values, predict_['LSTM'].values)\n",
    "lstm_rmse = math.sqrt(mean_squared_error(predict_['Station_4(t)'].values, predict_['LSTM'].values))\n",
    "lstm_mae = metrics.mean_absolute_error(predict_['Station_4(t)'].values, predict_['LSTM'].values)\n",
    "lstm_mape = mape(predict_['Station_4(t)'].values, predict_['LSTM'].values)\n",
    "lstm_smape = smape(predict_['Station_4(t)'].values, predict_['LSTM'].values)\n",
    "\n",
    "lstm_wpd_mse = metrics.mean_squared_error(predict_['Station_4(t)'].values, predict_['WPD_LSTM'].values)\n",
    "lstm_wpd_rmse = math.sqrt(mean_squared_error(predict_['Station_4(t)'].values, predict_['WPD_LSTM'].values))\n",
    "lstm_wpd_mae = metrics.mean_absolute_error(predict_['Station_4(t)'].values, predict_['WPD_LSTM'].values)\n",
    "lstm_wpd_mape = mape(predict_['Station_4(t)'].values, predict_['WPD_LSTM'].values)\n",
    "lstm_wpd_smape = smape(predict_['Station_4(t)'].values, predict_['WPD_LSTM'].values)"
   ]
  },
  {
   "cell_type": "code",
   "execution_count": 22,
   "metadata": {
    "scrolled": true
   },
   "outputs": [
    {
     "data": {
      "text/html": [
       "<div>\n",
       "<style scoped>\n",
       "    .dataframe tbody tr th:only-of-type {\n",
       "        vertical-align: middle;\n",
       "    }\n",
       "\n",
       "    .dataframe tbody tr th {\n",
       "        vertical-align: top;\n",
       "    }\n",
       "\n",
       "    .dataframe thead th {\n",
       "        text-align: right;\n",
       "    }\n",
       "</style>\n",
       "<table border=\"1\" class=\"dataframe\">\n",
       "  <thead>\n",
       "    <tr style=\"text-align: right;\">\n",
       "      <th></th>\n",
       "      <th>Test</th>\n",
       "      <th>DNN</th>\n",
       "      <th>LSTM</th>\n",
       "      <th>WPD-LSTM</th>\n",
       "    </tr>\n",
       "    <tr>\n",
       "      <th>Te</th>\n",
       "      <th></th>\n",
       "      <th></th>\n",
       "      <th></th>\n",
       "      <th></th>\n",
       "    </tr>\n",
       "  </thead>\n",
       "  <tbody>\n",
       "    <tr>\n",
       "      <th>MSE</th>\n",
       "      <td>NaN</td>\n",
       "      <td>0.075329</td>\n",
       "      <td>0.059574</td>\n",
       "      <td>0.061620</td>\n",
       "    </tr>\n",
       "    <tr>\n",
       "      <th>RMSE</th>\n",
       "      <td>NaN</td>\n",
       "      <td>0.274462</td>\n",
       "      <td>0.244077</td>\n",
       "      <td>0.248234</td>\n",
       "    </tr>\n",
       "    <tr>\n",
       "      <th>MAE</th>\n",
       "      <td>NaN</td>\n",
       "      <td>0.135832</td>\n",
       "      <td>0.103838</td>\n",
       "      <td>0.096585</td>\n",
       "    </tr>\n",
       "    <tr>\n",
       "      <th>MAPE</th>\n",
       "      <td>NaN</td>\n",
       "      <td>inf</td>\n",
       "      <td>inf</td>\n",
       "      <td>inf</td>\n",
       "    </tr>\n",
       "    <tr>\n",
       "      <th>SMAPE</th>\n",
       "      <td>NaN</td>\n",
       "      <td>114.448154</td>\n",
       "      <td>110.375325</td>\n",
       "      <td>111.514639</td>\n",
       "    </tr>\n",
       "  </tbody>\n",
       "</table>\n",
       "</div>"
      ],
      "text/plain": [
       "      Test         DNN        LSTM    WPD-LSTM\n",
       "Te                                            \n",
       "MSE    NaN    0.075329    0.059574    0.061620\n",
       "RMSE   NaN    0.274462    0.244077    0.248234\n",
       "MAE    NaN    0.135832    0.103838    0.096585\n",
       "MAPE   NaN         inf         inf         inf\n",
       "SMAPE  NaN  114.448154  110.375325  111.514639"
      ]
     },
     "execution_count": 22,
     "metadata": {},
     "output_type": "execute_result"
    }
   ],
   "source": [
    "evaluate = pd.DataFrame(columns=['Test','DNN','LSTM','WPD-LSTM'])\n",
    "evaluate['Te']=['MSE','RMSE','MAE','MAPE','SMAPE']\n",
    "evaluate=evaluate.set_index('Te',drop=True)\n",
    "\n",
    "evaluate['WPD-LSTM']=[dnn_mse,dnn_rmse,dnn_mae,dnn_mape ,dnn_smape]\n",
    "evaluate['LSTM']=[lstm_mse,lstm_rmse,lstm_mae,lstm_mape,lstm_smape]\n",
    "evaluate['DNN']=[lstm_wpd_mse,lstm_wpd_rmse,lstm_wpd_mae,lstm_wpd_mape ,lstm_wpd_smape]\n",
    "evaluate"
   ]
  },
  {
   "cell_type": "code",
   "execution_count": 23,
   "metadata": {},
   "outputs": [],
   "source": [
    "evaluate.to_csv('../predict/Station_4_Predict_多指标.csv',index=True)"
   ]
  },
  {
   "cell_type": "code",
   "execution_count": 24,
   "metadata": {},
   "outputs": [],
   "source": [
    "# 澳大利亚的春天是在9月～11月，夏季12月～2月，秋季3月～5月，冬季6月～8"
   ]
  },
  {
   "cell_type": "code",
   "execution_count": 25,
   "metadata": {},
   "outputs": [],
   "source": [
    "predict_[['Month(t-12)', 'Day(t-12)', 'Hour(t-12)', 'Minutes(t-12)']] = predict_[['Month(t-12)', 'Day(t-12)', 'Hour(t-12)', 'Minutes(t-12)']].astype(\"int\")\n",
    "\n",
    "# Day0120 = predict_.loc[(predict_['Year'] == 2020) & (predict_['Month'] == ) & (predict_['Day'] == 20),:]\n",
    "chun = predict_.loc[(predict_['Month(t-12)'] == 9 ) | (predict_['Month(t-12)'] == 10 )|(predict_['Month(t-12)'] == 11 ),:]\n",
    "xia = predict_.loc[(predict_['Month(t-12)'] == 12 ) | (predict_['Month(t-12)'] == 1 )|(predict_['Month(t-12)'] == 2 ),:]\n",
    "qiu = predict_.loc[(predict_['Month(t-12)'] == 3 ) | (predict_['Month(t-12)'] == 4 )|(predict_['Month(t-12)'] == 5 ),:]\n",
    "dong = predict_.loc[(predict_['Month(t-12)'] == 6 ) | (predict_['Month(t-12)'] == 7 )|(predict_['Month(t-12)'] == 8 ),:]"
   ]
  },
  {
   "cell_type": "markdown",
   "metadata": {},
   "source": [
    "# 春"
   ]
  },
  {
   "cell_type": "code",
   "execution_count": 26,
   "metadata": {},
   "outputs": [],
   "source": [
    "jijie = chun\n",
    "\n",
    "dnn_rmse = math.sqrt(mean_squared_error(jijie['Station_4(t)'].values, jijie['DNN'].values))\n",
    "dnn_mae = metrics.mean_absolute_error(jijie['Station_4(t)'].values, jijie['DNN'].values)\n",
    "\n",
    "lstm_rmse = math.sqrt(mean_squared_error(jijie['Station_4(t)'].values, jijie['LSTM'].values))\n",
    "lstm_mae = metrics.mean_absolute_error(jijie['Station_4(t)'].values, jijie['LSTM'].values)\n",
    "\n",
    "lstm_wpd_rmse = math.sqrt(mean_squared_error(jijie['Station_4(t)'].values, jijie['WPD_LSTM'].values))\n",
    "lstm_wpd_mae = metrics.mean_absolute_error(jijie['Station_4(t)'].values, jijie['WPD_LSTM'].values)\n",
    "\n",
    "chun_dnn_rmse = dnn_rmse\n",
    "chun_dnn_mae = dnn_mae\n",
    "chun_lstm_rmse = lstm_rmse\n",
    "chun_lstm_mae = lstm_mae\n",
    "chun_lstm_wpd_rmse = lstm_wpd_rmse\n",
    "chun_lstm_wpd_mae = lstm_wpd_mae"
   ]
  },
  {
   "cell_type": "markdown",
   "metadata": {},
   "source": [
    "# 夏"
   ]
  },
  {
   "cell_type": "code",
   "execution_count": 27,
   "metadata": {},
   "outputs": [],
   "source": [
    "jijie = xia\n",
    "\n",
    "dnn_rmse = math.sqrt(mean_squared_error(jijie['Station_4(t)'].values, jijie['DNN'].values))\n",
    "dnn_mae = metrics.mean_absolute_error(jijie['Station_4(t)'].values, jijie['DNN'].values)\n",
    "\n",
    "lstm_rmse = math.sqrt(mean_squared_error(jijie['Station_4(t)'].values, jijie['LSTM'].values))\n",
    "lstm_mae = metrics.mean_absolute_error(jijie['Station_4(t)'].values, jijie['LSTM'].values)\n",
    "\n",
    "lstm_wpd_rmse = math.sqrt(mean_squared_error(jijie['Station_4(t)'].values, jijie['WPD_LSTM'].values))\n",
    "lstm_wpd_mae = metrics.mean_absolute_error(jijie['Station_4(t)'].values, jijie['WPD_LSTM'].values)\n",
    "\n",
    "xia_dnn_rmse = dnn_rmse\n",
    "xia_dnn_mae = dnn_mae\n",
    "xia_lstm_rmse = lstm_rmse\n",
    "xia_lstm_mae = lstm_mae\n",
    "xia_lstm_wpd_rmse = lstm_wpd_rmse\n",
    "xia_lstm_wpd_mae = lstm_wpd_mae"
   ]
  },
  {
   "cell_type": "markdown",
   "metadata": {},
   "source": [
    "# 秋"
   ]
  },
  {
   "cell_type": "code",
   "execution_count": 28,
   "metadata": {},
   "outputs": [],
   "source": [
    "jijie = qiu\n",
    "\n",
    "dnn_rmse = math.sqrt(mean_squared_error(jijie['Station_4(t)'].values, jijie['DNN'].values))\n",
    "dnn_mae = metrics.mean_absolute_error(jijie['Station_4(t)'].values, jijie['DNN'].values)\n",
    "\n",
    "lstm_rmse = math.sqrt(mean_squared_error(jijie['Station_4(t)'].values, jijie['LSTM'].values))\n",
    "lstm_mae = metrics.mean_absolute_error(jijie['Station_4(t)'].values, jijie['LSTM'].values)\n",
    "\n",
    "lstm_wpd_rmse = math.sqrt(mean_squared_error(jijie['Station_4(t)'].values, jijie['WPD_LSTM'].values))\n",
    "lstm_wpd_mae = metrics.mean_absolute_error(jijie['Station_4(t)'].values, jijie['WPD_LSTM'].values)\n",
    "\n",
    "qiu_dnn_rmse = dnn_rmse\n",
    "qiu_dnn_mae = dnn_mae\n",
    "qiu_lstm_rmse = lstm_rmse\n",
    "qiu_lstm_mae = lstm_mae\n",
    "qiu_lstm_wpd_rmse = lstm_wpd_rmse\n",
    "qiu_lstm_wpd_mae = lstm_wpd_mae"
   ]
  },
  {
   "cell_type": "markdown",
   "metadata": {},
   "source": [
    "# 冬"
   ]
  },
  {
   "cell_type": "code",
   "execution_count": 29,
   "metadata": {},
   "outputs": [],
   "source": [
    "jijie = dong\n",
    "\n",
    "dnn_rmse = math.sqrt(mean_squared_error(jijie['Station_4(t)'].values, jijie['DNN'].values))\n",
    "dnn_mae = metrics.mean_absolute_error(jijie['Station_4(t)'].values, jijie['DNN'].values)\n",
    "\n",
    "lstm_rmse = math.sqrt(mean_squared_error(jijie['Station_4(t)'].values, jijie['LSTM'].values))\n",
    "lstm_mae = metrics.mean_absolute_error(jijie['Station_4(t)'].values, jijie['LSTM'].values)\n",
    "\n",
    "lstm_wpd_rmse = math.sqrt(mean_squared_error(jijie['Station_4(t)'].values, jijie['WPD_LSTM'].values))\n",
    "lstm_wpd_mae = metrics.mean_absolute_error(jijie['Station_4(t)'].values, jijie['WPD_LSTM'].values)\n",
    "\n",
    "dong_dnn_rmse = dnn_rmse\n",
    "dong_dnn_mae = dnn_mae\n",
    "dong_lstm_rmse = lstm_rmse\n",
    "dong_lstm_mae = lstm_mae\n",
    "dong_lstm_wpd_rmse = lstm_wpd_rmse\n",
    "dong_lstm_wpd_mae = lstm_wpd_mae"
   ]
  },
  {
   "cell_type": "code",
   "execution_count": 30,
   "metadata": {},
   "outputs": [],
   "source": [
    "jijie_evaluate = pd.DataFrame(columns=['评测指标','DNN','LSTM','WPD-LSTM'])\n",
    "jijie_evaluate['季节']=['春','春','夏','夏','秋','秋','冬','冬']\n",
    "jijie_evaluate=jijie_evaluate.set_index('季节',drop=True)\n",
    "jijie_evaluate['评测指标'] =['RMSE','MAE','RMSE','MAE','RMSE','MAE','RMSE','MAE']\n",
    "jijie_evaluate['WPD-LSTM']=[chun_dnn_rmse,chun_dnn_mae,xia_dnn_rmse,xia_dnn_mae,qiu_dnn_rmse,qiu_dnn_mae,dong_dnn_rmse,dong_dnn_mae]"
   ]
  },
  {
   "cell_type": "code",
   "execution_count": 31,
   "metadata": {},
   "outputs": [],
   "source": [
    "jijie_evaluate['LSTM']=[chun_lstm_rmse,chun_lstm_mae,xia_lstm_rmse,xia_lstm_mae,qiu_lstm_rmse,qiu_lstm_mae,dong_lstm_rmse,dong_lstm_mae]"
   ]
  },
  {
   "cell_type": "code",
   "execution_count": 32,
   "metadata": {
    "scrolled": true
   },
   "outputs": [
    {
     "data": {
      "text/html": [
       "<div>\n",
       "<style scoped>\n",
       "    .dataframe tbody tr th:only-of-type {\n",
       "        vertical-align: middle;\n",
       "    }\n",
       "\n",
       "    .dataframe tbody tr th {\n",
       "        vertical-align: top;\n",
       "    }\n",
       "\n",
       "    .dataframe thead th {\n",
       "        text-align: right;\n",
       "    }\n",
       "</style>\n",
       "<table border=\"1\" class=\"dataframe\">\n",
       "  <thead>\n",
       "    <tr style=\"text-align: right;\">\n",
       "      <th></th>\n",
       "      <th>评测指标</th>\n",
       "      <th>DNN</th>\n",
       "      <th>LSTM</th>\n",
       "      <th>WPD-LSTM</th>\n",
       "    </tr>\n",
       "    <tr>\n",
       "      <th>季节</th>\n",
       "      <th></th>\n",
       "      <th></th>\n",
       "      <th></th>\n",
       "      <th></th>\n",
       "    </tr>\n",
       "  </thead>\n",
       "  <tbody>\n",
       "    <tr>\n",
       "      <th>春</th>\n",
       "      <td>RMSE</td>\n",
       "      <td>0.308594</td>\n",
       "      <td>0.262744</td>\n",
       "      <td>0.263061</td>\n",
       "    </tr>\n",
       "    <tr>\n",
       "      <th>春</th>\n",
       "      <td>MAE</td>\n",
       "      <td>0.164496</td>\n",
       "      <td>0.116633</td>\n",
       "      <td>0.103330</td>\n",
       "    </tr>\n",
       "    <tr>\n",
       "      <th>夏</th>\n",
       "      <td>RMSE</td>\n",
       "      <td>0.313791</td>\n",
       "      <td>0.292109</td>\n",
       "      <td>0.302299</td>\n",
       "    </tr>\n",
       "    <tr>\n",
       "      <th>夏</th>\n",
       "      <td>MAE</td>\n",
       "      <td>0.155129</td>\n",
       "      <td>0.128013</td>\n",
       "      <td>0.120962</td>\n",
       "    </tr>\n",
       "    <tr>\n",
       "      <th>秋</th>\n",
       "      <td>RMSE</td>\n",
       "      <td>0.263111</td>\n",
       "      <td>0.226117</td>\n",
       "      <td>0.229357</td>\n",
       "    </tr>\n",
       "    <tr>\n",
       "      <th>秋</th>\n",
       "      <td>MAE</td>\n",
       "      <td>0.128860</td>\n",
       "      <td>0.098100</td>\n",
       "      <td>0.091778</td>\n",
       "    </tr>\n",
       "    <tr>\n",
       "      <th>冬</th>\n",
       "      <td>RMSE</td>\n",
       "      <td>0.201890</td>\n",
       "      <td>0.185063</td>\n",
       "      <td>0.186133</td>\n",
       "    </tr>\n",
       "    <tr>\n",
       "      <th>冬</th>\n",
       "      <td>MAE</td>\n",
       "      <td>0.097948</td>\n",
       "      <td>0.074328</td>\n",
       "      <td>0.071431</td>\n",
       "    </tr>\n",
       "  </tbody>\n",
       "</table>\n",
       "</div>"
      ],
      "text/plain": [
       "    评测指标       DNN      LSTM  WPD-LSTM\n",
       "季节                                    \n",
       "春   RMSE  0.308594  0.262744  0.263061\n",
       "春    MAE  0.164496  0.116633  0.103330\n",
       "夏   RMSE  0.313791  0.292109  0.302299\n",
       "夏    MAE  0.155129  0.128013  0.120962\n",
       "秋   RMSE  0.263111  0.226117  0.229357\n",
       "秋    MAE  0.128860  0.098100  0.091778\n",
       "冬   RMSE  0.201890  0.185063  0.186133\n",
       "冬    MAE  0.097948  0.074328  0.071431"
      ]
     },
     "execution_count": 32,
     "metadata": {},
     "output_type": "execute_result"
    }
   ],
   "source": [
    "jijie_evaluate['DNN']=[chun_lstm_wpd_rmse,chun_lstm_wpd_mae,xia_lstm_wpd_rmse,xia_lstm_wpd_mae,qiu_lstm_wpd_rmse,qiu_lstm_wpd_mae,dong_lstm_wpd_rmse,dong_lstm_wpd_mae]\n",
    "jijie_evaluate"
   ]
  },
  {
   "cell_type": "code",
   "execution_count": 33,
   "metadata": {},
   "outputs": [
    {
     "data": {
      "text/plain": [
       "0.10332992674118537"
      ]
     },
     "execution_count": 33,
     "metadata": {},
     "output_type": "execute_result"
    }
   ],
   "source": [
    "chun_dnn_mae"
   ]
  },
  {
   "cell_type": "code",
   "execution_count": 34,
   "metadata": {},
   "outputs": [
    {
     "data": {
      "text/plain": [
       "0.271846451951283"
      ]
     },
     "execution_count": 34,
     "metadata": {},
     "output_type": "execute_result"
    }
   ],
   "source": [
    "np.mean([chun_lstm_wpd_rmse,xia_lstm_wpd_rmse,qiu_lstm_wpd_rmse,dong_lstm_wpd_rmse])"
   ]
  },
  {
   "cell_type": "code",
   "execution_count": 35,
   "metadata": {},
   "outputs": [
    {
     "data": {
      "text/plain": [
       "0.24150825476314236"
      ]
     },
     "execution_count": 35,
     "metadata": {},
     "output_type": "execute_result"
    }
   ],
   "source": [
    "np.mean([chun_lstm_rmse,xia_lstm_rmse,qiu_lstm_rmse,dong_lstm_rmse])"
   ]
  },
  {
   "cell_type": "code",
   "execution_count": 36,
   "metadata": {},
   "outputs": [
    {
     "data": {
      "text/plain": [
       "0.24521245826899937"
      ]
     },
     "execution_count": 36,
     "metadata": {},
     "output_type": "execute_result"
    }
   ],
   "source": [
    " np.mean([chun_dnn_rmse,xia_dnn_rmse,qiu_dnn_rmse,dong_dnn_rmse])"
   ]
  },
  {
   "cell_type": "code",
   "execution_count": 37,
   "metadata": {},
   "outputs": [],
   "source": [
    "# jijie_evaluate.to_csv('../predict/Station_4_Predict_四季.csv',index=True)"
   ]
  },
  {
   "cell_type": "markdown",
   "metadata": {},
   "source": [
    "# 2019"
   ]
  },
  {
   "cell_type": "code",
   "execution_count": 56,
   "metadata": {
    "scrolled": true
   },
   "outputs": [],
   "source": [
    "\n",
    "predict_[['Month(t-12)', 'Day(t-12)', 'Hour(t-12)', 'Minutes(t-12)']] = predict_[['Month(t-12)', 'Day(t-12)', 'Hour(t-12)', 'Minutes(t-12)']].astype(\"int\")\n",
    "\n",
    "# Day0120 = predict_.loc[(predict_['Year'] == 2020) & (predict_['Month'] == ) & (predict_['Day'] == 20),:]\n",
    "Day0120 = predict_.loc[(predict_['Month(t-12)'] == 3 ) & (predict_['Day(t-12)'] == 24 ),:]\n",
    "#real_power_day.set_index('time', inplace=False)\n",
    "Real=Day0120.set_index('Hour(t-12)', inplace=False)['Station_4(t)']\n",
    "# svm_pr=Day0120.set_index('Hour(t-12)', inplace=False)['SVM']\n",
    "bp_pr=Day0120.set_index('Hour(t-12)', inplace=False)['BP']\n",
    "dnn_pr=Day0120.set_index('Hour(t-12)', inplace=False)['DNN']\n",
    "lstm_pr=Day0120.set_index('Hour(t-12)', inplace=False)['LSTM']\n",
    "\n",
    "bp_wpd=Day0120.set_index('Hour(t-12)', inplace=False)['WPD_BP']\n",
    "dnn_wpd=Day0120.set_index('Hour(t-12)', inplace=False)['WPD_DNN']\n",
    "lstm_wpd=Day0120.set_index('Hour(t-12)', inplace=False)['WPD_LSTM']"
   ]
  },
  {
   "cell_type": "code",
   "execution_count": 57,
   "metadata": {},
   "outputs": [
    {
     "data": {
      "text/plain": [
       "Hour(t-12)\n",
       "0    0.000433\n",
       "0    0.000333\n",
       "0    0.000667\n",
       "0    0.000400\n",
       "0    0.000467\n",
       "Name: Station_4(t), dtype: float64"
      ]
     },
     "execution_count": 57,
     "metadata": {},
     "output_type": "execute_result"
    }
   ],
   "source": [
    "Real.head()"
   ]
  },
  {
   "cell_type": "code",
   "execution_count": 58,
   "metadata": {},
   "outputs": [],
   "source": [
    "Real = Real.values\n",
    "# svm_pr = svm_pr.values\n",
    "bp_pr = bp_pr.values\n",
    "dnn_pr = dnn_pr.values\n",
    "lstm_pr = lstm_pr.values\n",
    "\n",
    "bp_wpd = bp_wpd.values\n",
    "dnn_wpd = dnn_wpd.values\n",
    "lstm_wpd = lstm_wpd.values"
   ]
  },
  {
   "cell_type": "code",
   "execution_count": 59,
   "metadata": {},
   "outputs": [],
   "source": [
    "# dnn_rmse = math.sqrt(mean_squared_error(jijie['Station_4(t)'].values, jijie['DNN'].values))\n",
    "# dnn_mae = metrics.mean_absolute_error(jijie['Station_4(t)'].values, jijie['DNN'].values)"
   ]
  },
  {
   "cell_type": "code",
   "execution_count": 60,
   "metadata": {},
   "outputs": [],
   "source": [
    "# #日RMSE\n",
    "# dnn_pr = math.sqrt(mean_squared_error(Real,dnn_pr))\n",
    "# lstm_pr = math.sqrt(mean_squared_error(Real,lstm_pr))\n",
    "# lstm_wpd = math.sqrt(mean_squared_error(Real,lstm_wpd))"
   ]
  },
  {
   "cell_type": "code",
   "execution_count": 54,
   "metadata": {},
   "outputs": [],
   "source": [
    "# #日MAE\n",
    "# dnn_pr = metrics.mean_absolute_error(Real,dnn_pr)\n",
    "# lstm_pr = metrics.mean_absolute_error(Real,lstm_pr)\n",
    "# lstm_wpd = metrics.mean_absolute_error(Real,lstm_wpd)"
   ]
  },
  {
   "cell_type": "code",
   "execution_count": 61,
   "metadata": {},
   "outputs": [
    {
     "data": {
      "image/png": "[encoded data removed]",
      "text/plain": [
       "<Figure size 648x432 with 1 Axes>"
      ]
     },
     "metadata": {},
     "output_type": "display_data"
    }
   ],
   "source": [
    "fig = plt.figure(figsize=(9,6))\n",
    "ax=fig.add_subplot(1,1,1)\n",
    "# 解决中文显示问题\n",
    "plt.rcParams['font.sans-serif'] = ['SimHei']  #SimHei黑体\n",
    "plt.rcParams['axes.unicode_minus'] = False\n",
    "\n",
    "plt.plot(Real,label='真实值',c='black',linestyle='-')\n",
    "# plt.plot(svm_pr,label='SVM模型',linestyle='--',marker = '+')\n",
    "plt.plot(bp_pr,label='BP模型',linestyle='--')\n",
    "plt.plot(dnn_pr,label='DNN模型',linestyle=':')\n",
    "plt.plot(lstm_pr,label='小波包LSTM',linestyle='-.')\n",
    "\n",
    "# x_labels=ax.set_xticklabels([\"one\",\"two\",\"three\",\"four\",\"five\"],rotation=30,fontsize=\"10\")\n",
    "x_labels=ax.set_xticklabels(['','00:00','04:00','8:00','12:00','16:00','20:00'],fontsize=\"13\")\n",
    "# ax.set_xticks(['00:00','06:00','12:00','18:00'])\n",
    "plt.ylabel('功率(kW)',fontsize=\"14\")\n",
    "plt.xlabel('时刻',fontsize=\"14\")\n",
    "# plt.xticks(['00:00','06:00','12:00','18:00'])\n",
    "# my_x_ticks=np.arange(0,24,4)\n",
    "# plt.xticks(my_x_ticks)\n",
    "# plt.legend(['Train', 'Test'], loc='upper left')\n",
    "plt.legend(fontsize=\"11\")\n",
    "plt.savefig('../picture/0324_09.jpg',dpi=300)\n",
    "plt.savefig('../picture/0324_09.svg',format=\"svg\",dpi=300)"
   ]
  },
  {
   "cell_type": "code",
   "execution_count": 44,
   "metadata": {},
   "outputs": [],
   "source": [
    "# #日MAE\n",
    "# dnn_pr = abs(Real-dnn_pr)/(Real+0.001)\n",
    "# lstm_pr = abs(Real-lstm_pr)/(Real+0.001)\n",
    "# lstm_wpd = abs(Real-lstm_wpd)/(Real+0.001)"
   ]
  },
  {
   "cell_type": "code",
   "execution_count": null,
   "metadata": {},
   "outputs": [],
   "source": [
    "# figsize=(12,12)\n",
    "fig = plt.figure(figsize=(6,4.5))\n",
    "ax=fig.add_subplot(1,1,1)\n",
    "# 解决中文显示问题\n",
    "plt.rcParams['font.sans-serif'] = ['SimHei']  #SimHei黑体\n",
    "plt.rcParams['axes.unicode_minus'] = False\n",
    "\n",
    "plt.plot(Real,label='Real',c='black',linestyle='-')\n",
    "# plt.plot(svm_pr,label='SVM模型',linestyle='--',marker = '+')\n",
    "# plt.plot(bp_pr,label='BP',c='black',linestyle='-.',marker = '+')\n",
    "plt.plot(lstm_pr,label='DNN',c='black',linestyle='--')\n",
    "plt.plot(dnn_wpd,label='LSTM',c='black',linestyle='-.')\n",
    "plt.plot(dnn_pr,label='WPD-LSTM',c='black',linestyle=':')\n",
    "# plt.plot(lstm_pr,label='DNN',linestyle='--')\n",
    "\n",
    "# plt.plot(bp_wpd,label='BP',linestyle='-.')\n",
    "# plt.plot(dnn_wpd,label='LSTM',c='black',linestyle=':')\n",
    "# plt.plot(lstm_wpd,label='WPD_DNN',linestyle='--')\n",
    "\n",
    "# x_labels=ax.set_xticklabels([\"one\",\"two\",\"three\",\"four\",\"five\"],rotation=30,fontsize=\"10\")\n",
    "x_labels=ax.set_xticklabels(['','00:00','04:00','8:00','12:00','16:00','20:00'],fontsize=\"13\")\n",
    "y_labels=ax.set_yticklabels(['','0.0','0.5','1.0','1.5','2.0','2.5','3.0','3.5','4.0'],fontsize=\"13\")\n",
    "# ax.set_xticks(['00:00','06:00','12:00','18:00'])\n",
    "plt.ylabel('功率(千瓦)',fontsize=\"13\")\n",
    "plt.xlabel('时刻',fontsize=\"13\")\n",
    "# plt.xticks(['00:00','06:00','12:00','18:00'])\n",
    "# my_x_ticks=np.arange(0,24,4)\n",
    "# plt.xticks(my_x_ticks)\n",
    "# plt.legend(['Train', 'Test'], loc='upper left')\n",
    "font1 = {'family' : 'Times New Roman',\n",
    "'weight' : 'normal',\n",
    "'size'   : 12,\n",
    "}\n",
    "plt.legend(prop=font1)\n",
    "plt.savefig('../picture/3.26晴0729.jpg',dpi=300)\n",
    "plt.savefig('../picture/3.26晴0729.svg',format=\"svg\",dpi=300)"
   ]
  },
  {
   "cell_type": "markdown",
   "metadata": {},
   "source": [
    "# 3月份"
   ]
  },
  {
   "cell_type": "code",
   "execution_count": null,
   "metadata": {
    "scrolled": true
   },
   "outputs": [],
   "source": [
    "\n",
    "predict_[['Month(t-12)', 'Day(t-12)', 'Hour(t-12)', 'Minutes(t-12)']] = predict_[['Month(t-12)', 'Day(t-12)', 'Hour(t-12)', 'Minutes(t-12)']].astype(\"int\")\n",
    "\n",
    "# month3 = predict_.loc[(predict_['Month(t-1)'] == 3) & ((predict_['Day(t-1)'] == 9)|(predict_['Day(t-1)'] == 10)\n",
    "#                         |(predict_['Day(t-1)'] == 11)|(predict_['Day(t-1)'] == 12)|(predict_['Day(t-1)'] == 13)|(predict_['Day(t-1)'] == 14)|(predict_['Day(t-1)'] == 15)),:]\n",
    "month3 = predict_.loc[(predict_['Month(t-12)'] == 3 ),:]\n",
    "#real_power_day.set_index('time', inplace=False)\n",
    "Real=month3.set_index('Hour(t-12)', inplace=False)['Station_4(t)']\n",
    "# svm_pr=month3.set_index('Hour(t-12)', inplace=False)['SVM']\n",
    "# bp_pr=month3.set_index('Hour(t-12)', inplace=False)['BP']\n",
    "# dnn_pr=month3.set_index('Hour(t-12)', inplace=False)['DNN']\n",
    "# lstm_pr=month3.set_index('Hour(t-12)', inplace=False)['LSTM']"
   ]
  },
  {
   "cell_type": "code",
   "execution_count": null,
   "metadata": {},
   "outputs": [],
   "source": [
    "Real.head(5)"
   ]
  },
  {
   "cell_type": "code",
   "execution_count": null,
   "metadata": {},
   "outputs": [],
   "source": [
    "Real = Real.values\n",
    "# svm_pr = svm_pr.values\n",
    "# bp_pr = bp_pr.values\n",
    "# dnn_pr = dnn_pr.values\n",
    "# lstm_pr = lstm_pr.values"
   ]
  },
  {
   "cell_type": "code",
   "execution_count": null,
   "metadata": {},
   "outputs": [],
   "source": [
    "# Real=Real[1]\n",
    "# R.shape"
   ]
  },
  {
   "cell_type": "code",
   "execution_count": null,
   "metadata": {},
   "outputs": [],
   "source": [
    "fig = plt.figure(figsize=(13,5))\n",
    "# figsize=(20,6)\n",
    "ax=fig.add_subplot(1,1,1)\n",
    "# 解决中文显示问题\n",
    "plt.rcParams['font.sans-serif'] = ['SimHei']  #SimHei黑体\n",
    "plt.rcParams['axes.unicode_minus'] = False\n",
    "\n",
    "plt.plot(Real,label='真实值',c='black',linestyle='-')\n",
    "# plt.plot(svm_pr,label='SVM模型',linestyle='--',marker = '+')\n",
    "# plt.plot(bp_pr,label='BP模型',linestyle='-.')\n",
    "# plt.plot(dnn_pr,label='DNN模型',linestyle=':')\n",
    "# plt.plot(lstm_pr,label='小波包LSTM',linestyle='--')\n",
    "\n",
    "# x_labels=ax.set_xticklabels([\"one\",\"two\",\"three\",\"four\",\"five\"],rotation=30,fontsize=\"10\")\n",
    "# x_labels=ax.set_xticklabels(['','9','10','','11','12','14','15','16','17','18'],fontsize=\"13\")\n",
    "x_labels=ax.set_xticklabels(['','1','8','15','22','29'],fontsize=\"13\")\n",
    "# ax.set_xticks(['00:00','06:00','12:00','18:00'])\n",
    "plt.ylabel('功率(kW)',fontsize=\"14\")\n",
    "plt.xlabel('日期',fontsize=\"14\")\n",
    "# plt.xticks(['00:00','06:00','12:00','18:00'])\n",
    "# my_x_ticks=np.arange(0,24,4)\n",
    "# plt.xticks(my_x_ticks)\n",
    "# plt.legend(['Train', 'Test'], loc='upper left')\n",
    "plt.legend(loc=1,fontsize=\"13\")\n",
    "# plt.savefig('../picture/predictmonth3.jpg',dpi=300)\n",
    "# plt.savefig('../picture/predictmonth3.svg',format=\"svg\",dpi=300)"
   ]
  },
  {
   "cell_type": "code",
   "execution_count": null,
   "metadata": {},
   "outputs": [],
   "source": []
  },
  {
   "cell_type": "code",
   "execution_count": null,
   "metadata": {},
   "outputs": [],
   "source": []
  }
 ],
 "metadata": {
  "kernelspec": {
   "display_name": "Python 3",
   "language": "python",
   "name": "python3"
  },
  "language_info": {
   "codemirror_mode": {
    "name": "ipython",
    "version": 3
   },
   "file_extension": ".py",
   "mimetype": "text/x-python",
   "name": "python",
   "nbconvert_exporter": "python",
   "pygments_lexer": "ipython3",
   "version": "3.6.5"
  }
 },
 "nbformat": 4,
 "nbformat_minor": 2
}
