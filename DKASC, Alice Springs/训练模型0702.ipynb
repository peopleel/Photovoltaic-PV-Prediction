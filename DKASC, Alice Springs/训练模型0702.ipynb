{
 "cells": [
  {
   "cell_type": "markdown",
   "metadata": {},
   "source": [
    "# DKASC_Alice多模型训练0702"
   ]
  },
  {
   "cell_type": "code",
   "execution_count": 1,
   "metadata": {},
   "outputs": [
    {
     "name": "stderr",
     "output_type": "stream",
     "text": [
      "C:\\ProgramData\\Anaconda3\\lib\\site-packages\\tensorflow\\python\\framework\\dtypes.py:469: FutureWarning: Passing (type, 1) or '1type' as a synonym of type is deprecated; in a future version of numpy, it will be understood as (type, (1,)) / '(1,)type'.\n",
      "  _np_qint8 = np.dtype([(\"qint8\", np.int8, 1)])\n",
      "C:\\ProgramData\\Anaconda3\\lib\\site-packages\\tensorflow\\python\\framework\\dtypes.py:470: FutureWarning: Passing (type, 1) or '1type' as a synonym of type is deprecated; in a future version of numpy, it will be understood as (type, (1,)) / '(1,)type'.\n",
      "  _np_quint8 = np.dtype([(\"quint8\", np.uint8, 1)])\n",
      "C:\\ProgramData\\Anaconda3\\lib\\site-packages\\tensorflow\\python\\framework\\dtypes.py:471: FutureWarning: Passing (type, 1) or '1type' as a synonym of type is deprecated; in a future version of numpy, it will be understood as (type, (1,)) / '(1,)type'.\n",
      "  _np_qint16 = np.dtype([(\"qint16\", np.int16, 1)])\n",
      "C:\\ProgramData\\Anaconda3\\lib\\site-packages\\tensorflow\\python\\framework\\dtypes.py:472: FutureWarning: Passing (type, 1) or '1type' as a synonym of type is deprecated; in a future version of numpy, it will be understood as (type, (1,)) / '(1,)type'.\n",
      "  _np_quint16 = np.dtype([(\"quint16\", np.uint16, 1)])\n",
      "C:\\ProgramData\\Anaconda3\\lib\\site-packages\\tensorflow\\python\\framework\\dtypes.py:473: FutureWarning: Passing (type, 1) or '1type' as a synonym of type is deprecated; in a future version of numpy, it will be understood as (type, (1,)) / '(1,)type'.\n",
      "  _np_qint32 = np.dtype([(\"qint32\", np.int32, 1)])\n",
      "C:\\ProgramData\\Anaconda3\\lib\\site-packages\\tensorflow\\python\\framework\\dtypes.py:476: FutureWarning: Passing (type, 1) or '1type' as a synonym of type is deprecated; in a future version of numpy, it will be understood as (type, (1,)) / '(1,)type'.\n",
      "  np_resource = np.dtype([(\"resource\", np.ubyte, 1)])\n",
      "C:\\ProgramData\\Anaconda3\\lib\\site-packages\\h5py\\__init__.py:36: FutureWarning: Conversion of the second argument of issubdtype from `float` to `np.floating` is deprecated. In future, it will be treated as `np.float64 == np.dtype(float).type`.\n",
      "  from ._conv import register_converters as _register_converters\n",
      "Using TensorFlow backend.\n"
     ]
    }
   ],
   "source": [
    "import os\n",
    "import random\n",
    "import pandas as pd\n",
    "import numpy as np\n",
    "import matplotlib.pyplot as plt\n",
    "import math\n",
    "import tensorflow as tf\n",
    "import keras\n",
    "import catboost as cb\n",
    "from pandas import read_csv\n",
    "from math import sqrt\n",
    "from numpy import concatenate\n",
    "from keras.models import Sequential\n",
    "from keras.layers import Dense\n",
    "from keras.layers import Dropout\n",
    "from keras.layers import LSTM\n",
    "from sklearn.preprocessing import MinMaxScaler\n",
    "from sklearn.metrics import mean_squared_error\n",
    "from sklearn import metrics\n",
    "from sklearn import svm\n",
    "from keras.layers.core import Dense, Activation, Dropout\n",
    "from sklearn.externals import joblib\n",
    "%matplotlib inline"
   ]
  },
  {
   "cell_type": "code",
   "execution_count": 2,
   "metadata": {},
   "outputs": [],
   "source": [
    "import os\n",
    "os.environ[\"CUDA_VISIBLE_DEVICES\"] = \"0\"\n",
    "config = tf.ConfigProto(allow_soft_placement = True)\n",
    "gpu_options = tf.GPUOptions(per_process_gpu_memory_fraction = 0.5)\n",
    "config.gpu_options.allow_growth = True\n",
    "sess0 = tf.InteractiveSession(config = config)"
   ]
  },
  {
   "cell_type": "code",
   "execution_count": 3,
   "metadata": {},
   "outputs": [
    {
     "name": "stdout",
     "output_type": "stream",
     "text": [
      "E:\\Research Project\\DKASC, Alice Springs\n"
     ]
    }
   ],
   "source": [
    "print(os.getcwd()) # 打印当前工作目录"
   ]
  },
  {
   "cell_type": "code",
   "execution_count": 4,
   "metadata": {},
   "outputs": [
    {
     "data": {
      "text/plain": [
       "['.idea',\n",
       " '.ipynb_checkpoints',\n",
       " '101-Site_DKA-WeatherStation',\n",
       " '96-Site_DKA-MasterMeter1',\n",
       " 'Alice_Springs_2016-2020',\n",
       " 'Dataset',\n",
       " 'logs',\n",
       " 'picture',\n",
       " 'Predict',\n",
       " 'Program backups',\n",
       " 'temp',\n",
       " 'venv',\n",
       " '数据集_小波包分解重构数据.ipynb',\n",
       " '数据集_预处理_第二版0702.ipynb',\n",
       " '测试小波分解.ipynb',\n",
       " '测试模型0622.ipynb',\n",
       " '画图.ipynb',\n",
       " '笔记.ipynb',\n",
       " '训练模型0622.ipynb',\n",
       " '训练模型0702.ipynb',\n",
       " '训练模型0703 WPD.ipynb']"
      ]
     },
     "execution_count": 4,
     "metadata": {},
     "output_type": "execute_result"
    }
   ],
   "source": [
    "os.listdir(os.getcwd())"
   ]
  },
  {
   "cell_type": "code",
   "execution_count": 5,
   "metadata": {},
   "outputs": [],
   "source": [
    "os.chdir(\"./Dataset\")"
   ]
  },
  {
   "cell_type": "code",
   "execution_count": 6,
   "metadata": {},
   "outputs": [
    {
     "data": {
      "text/plain": [
       "['DKA.Station_1-9.csv',\n",
       " 'NaN_DKA.Station.csv',\n",
       " 'raw_DKA.Station_1-9.csv',\n",
       " 'test',\n",
       " 'test0702',\n",
       " 'testdata.csv',\n",
       " 'testWPD',\n",
       " 'test_1A.csv',\n",
       " 'train',\n",
       " 'train0702',\n",
       " 'traindata.csv',\n",
       " 'trainWPD',\n",
       " 'train_1A.csv',\n",
       " '测试集8个站点.csv',\n",
       " '训练集8个站点.csv']"
      ]
     },
     "execution_count": 6,
     "metadata": {},
     "output_type": "execute_result"
    }
   ],
   "source": [
    "os.listdir()"
   ]
  },
  {
   "cell_type": "code",
   "execution_count": 7,
   "metadata": {},
   "outputs": [],
   "source": [
    "train = pd.read_csv('./train0702/train_Station_4.csv')\n",
    "test = pd.read_csv('./test0702/test_Station_4.csv')"
   ]
  },
  {
   "cell_type": "code",
   "execution_count": 8,
   "metadata": {},
   "outputs": [
    {
     "name": "stdout",
     "output_type": "stream",
     "text": [
      "(314843, 13)\n",
      "(102888, 13)\n"
     ]
    }
   ],
   "source": [
    "#查看输入数据维度\n",
    "print(train.shape)\n",
    "print(test.shape)"
   ]
  },
  {
   "cell_type": "code",
   "execution_count": 9,
   "metadata": {
    "scrolled": true
   },
   "outputs": [
    {
     "data": {
      "text/html": [
       "<div>\n",
       "<style scoped>\n",
       "    .dataframe tbody tr th:only-of-type {\n",
       "        vertical-align: middle;\n",
       "    }\n",
       "\n",
       "    .dataframe tbody tr th {\n",
       "        vertical-align: top;\n",
       "    }\n",
       "\n",
       "    .dataframe thead th {\n",
       "        text-align: right;\n",
       "    }\n",
       "</style>\n",
       "<table border=\"1\" class=\"dataframe\">\n",
       "  <thead>\n",
       "    <tr style=\"text-align: right;\">\n",
       "      <th></th>\n",
       "      <th>Timestamp</th>\n",
       "      <th>Year</th>\n",
       "      <th>Month</th>\n",
       "      <th>Day</th>\n",
       "      <th>Hour</th>\n",
       "      <th>Minutes</th>\n",
       "      <th>Temperature(°C)</th>\n",
       "      <th>Relative Humidity(%)</th>\n",
       "      <th>Wind Direction(Degrees)</th>\n",
       "      <th>Daily Rainfall(mm)</th>\n",
       "      <th>Global Horizontal Radiation(W/m²)</th>\n",
       "      <th>Diffuse Horizontal Radiation(W/m²)</th>\n",
       "      <th>Station_4</th>\n",
       "    </tr>\n",
       "  </thead>\n",
       "  <tbody>\n",
       "    <tr>\n",
       "      <th>0</th>\n",
       "      <td>2016/1/1 0:00</td>\n",
       "      <td>2016</td>\n",
       "      <td>1</td>\n",
       "      <td>1</td>\n",
       "      <td>0</td>\n",
       "      <td>0</td>\n",
       "      <td>17.176111</td>\n",
       "      <td>87.095665</td>\n",
       "      <td>186.941284</td>\n",
       "      <td>0.0</td>\n",
       "      <td>2.672255</td>\n",
       "      <td>1.103375</td>\n",
       "      <td>0.000400</td>\n",
       "    </tr>\n",
       "    <tr>\n",
       "      <th>1</th>\n",
       "      <td>2016/1/1 0:05</td>\n",
       "      <td>2016</td>\n",
       "      <td>1</td>\n",
       "      <td>1</td>\n",
       "      <td>0</td>\n",
       "      <td>5</td>\n",
       "      <td>17.133446</td>\n",
       "      <td>87.671669</td>\n",
       "      <td>191.876770</td>\n",
       "      <td>0.0</td>\n",
       "      <td>2.703700</td>\n",
       "      <td>1.152340</td>\n",
       "      <td>0.000400</td>\n",
       "    </tr>\n",
       "    <tr>\n",
       "      <th>2</th>\n",
       "      <td>2016/1/1 0:10</td>\n",
       "      <td>2016</td>\n",
       "      <td>1</td>\n",
       "      <td>1</td>\n",
       "      <td>0</td>\n",
       "      <td>10</td>\n",
       "      <td>17.084999</td>\n",
       "      <td>88.563240</td>\n",
       "      <td>188.268082</td>\n",
       "      <td>0.0</td>\n",
       "      <td>3.013785</td>\n",
       "      <td>1.566642</td>\n",
       "      <td>0.000533</td>\n",
       "    </tr>\n",
       "    <tr>\n",
       "      <th>3</th>\n",
       "      <td>2016/1/1 0:15</td>\n",
       "      <td>2016</td>\n",
       "      <td>1</td>\n",
       "      <td>1</td>\n",
       "      <td>0</td>\n",
       "      <td>15</td>\n",
       "      <td>16.955778</td>\n",
       "      <td>90.001663</td>\n",
       "      <td>197.727295</td>\n",
       "      <td>0.0</td>\n",
       "      <td>3.421924</td>\n",
       "      <td>1.707677</td>\n",
       "      <td>0.000067</td>\n",
       "    </tr>\n",
       "    <tr>\n",
       "      <th>4</th>\n",
       "      <td>2016/1/1 0:20</td>\n",
       "      <td>2016</td>\n",
       "      <td>1</td>\n",
       "      <td>1</td>\n",
       "      <td>0</td>\n",
       "      <td>20</td>\n",
       "      <td>16.854271</td>\n",
       "      <td>91.222733</td>\n",
       "      <td>193.704559</td>\n",
       "      <td>0.0</td>\n",
       "      <td>3.292158</td>\n",
       "      <td>1.746989</td>\n",
       "      <td>0.000600</td>\n",
       "    </tr>\n",
       "  </tbody>\n",
       "</table>\n",
       "</div>"
      ],
      "text/plain": [
       "       Timestamp  Year  Month  Day  Hour  Minutes  Temperature(°C)  \\\n",
       "0  2016/1/1 0:00  2016      1    1     0        0        17.176111   \n",
       "1  2016/1/1 0:05  2016      1    1     0        5        17.133446   \n",
       "2  2016/1/1 0:10  2016      1    1     0       10        17.084999   \n",
       "3  2016/1/1 0:15  2016      1    1     0       15        16.955778   \n",
       "4  2016/1/1 0:20  2016      1    1     0       20        16.854271   \n",
       "\n",
       "   Relative Humidity(%)  Wind Direction(Degrees)  Daily Rainfall(mm)  \\\n",
       "0             87.095665               186.941284                 0.0   \n",
       "1             87.671669               191.876770                 0.0   \n",
       "2             88.563240               188.268082                 0.0   \n",
       "3             90.001663               197.727295                 0.0   \n",
       "4             91.222733               193.704559                 0.0   \n",
       "\n",
       "   Global Horizontal Radiation(W/m²)  Diffuse Horizontal Radiation(W/m²)  \\\n",
       "0                           2.672255                            1.103375   \n",
       "1                           2.703700                            1.152340   \n",
       "2                           3.013785                            1.566642   \n",
       "3                           3.421924                            1.707677   \n",
       "4                           3.292158                            1.746989   \n",
       "\n",
       "   Station_4  \n",
       "0   0.000400  \n",
       "1   0.000400  \n",
       "2   0.000533  \n",
       "3   0.000067  \n",
       "4   0.000600  "
      ]
     },
     "execution_count": 9,
     "metadata": {},
     "output_type": "execute_result"
    }
   ],
   "source": [
    "train.head(5)"
   ]
  },
  {
   "cell_type": "code",
   "execution_count": 10,
   "metadata": {},
   "outputs": [
    {
     "data": {
      "text/html": [
       "<div>\n",
       "<style scoped>\n",
       "    .dataframe tbody tr th:only-of-type {\n",
       "        vertical-align: middle;\n",
       "    }\n",
       "\n",
       "    .dataframe tbody tr th {\n",
       "        vertical-align: top;\n",
       "    }\n",
       "\n",
       "    .dataframe thead th {\n",
       "        text-align: right;\n",
       "    }\n",
       "</style>\n",
       "<table border=\"1\" class=\"dataframe\">\n",
       "  <thead>\n",
       "    <tr style=\"text-align: right;\">\n",
       "      <th></th>\n",
       "      <th>Timestamp</th>\n",
       "      <th>Year</th>\n",
       "      <th>Month</th>\n",
       "      <th>Day</th>\n",
       "      <th>Hour</th>\n",
       "      <th>Minutes</th>\n",
       "      <th>Temperature(°C)</th>\n",
       "      <th>Relative Humidity(%)</th>\n",
       "      <th>Wind Direction(Degrees)</th>\n",
       "      <th>Daily Rainfall(mm)</th>\n",
       "      <th>Global Horizontal Radiation(W/m²)</th>\n",
       "      <th>Diffuse Horizontal Radiation(W/m²)</th>\n",
       "      <th>Station_4</th>\n",
       "    </tr>\n",
       "  </thead>\n",
       "  <tbody>\n",
       "    <tr>\n",
       "      <th>0</th>\n",
       "      <td>2019/1/1 0:00</td>\n",
       "      <td>2019</td>\n",
       "      <td>1</td>\n",
       "      <td>1</td>\n",
       "      <td>0</td>\n",
       "      <td>0</td>\n",
       "      <td>30.020723</td>\n",
       "      <td>20.125513</td>\n",
       "      <td>32.213470</td>\n",
       "      <td>0.0</td>\n",
       "      <td>1.543787</td>\n",
       "      <td>1.349848</td>\n",
       "      <td>0.000533</td>\n",
       "    </tr>\n",
       "    <tr>\n",
       "      <th>1</th>\n",
       "      <td>2019/1/1 0:05</td>\n",
       "      <td>2019</td>\n",
       "      <td>1</td>\n",
       "      <td>1</td>\n",
       "      <td>0</td>\n",
       "      <td>5</td>\n",
       "      <td>29.958653</td>\n",
       "      <td>20.040049</td>\n",
       "      <td>32.158791</td>\n",
       "      <td>0.0</td>\n",
       "      <td>1.373370</td>\n",
       "      <td>1.244123</td>\n",
       "      <td>0.000433</td>\n",
       "    </tr>\n",
       "    <tr>\n",
       "      <th>2</th>\n",
       "      <td>2019/1/1 0:10</td>\n",
       "      <td>2019</td>\n",
       "      <td>1</td>\n",
       "      <td>1</td>\n",
       "      <td>0</td>\n",
       "      <td>10</td>\n",
       "      <td>29.884491</td>\n",
       "      <td>20.013313</td>\n",
       "      <td>32.155808</td>\n",
       "      <td>0.0</td>\n",
       "      <td>1.142953</td>\n",
       "      <td>0.992849</td>\n",
       "      <td>0.000867</td>\n",
       "    </tr>\n",
       "    <tr>\n",
       "      <th>3</th>\n",
       "      <td>2019/1/1 0:15</td>\n",
       "      <td>2019</td>\n",
       "      <td>1</td>\n",
       "      <td>1</td>\n",
       "      <td>0</td>\n",
       "      <td>15</td>\n",
       "      <td>29.831554</td>\n",
       "      <td>20.068233</td>\n",
       "      <td>32.178555</td>\n",
       "      <td>0.0</td>\n",
       "      <td>0.709036</td>\n",
       "      <td>0.611533</td>\n",
       "      <td>0.000767</td>\n",
       "    </tr>\n",
       "    <tr>\n",
       "      <th>4</th>\n",
       "      <td>2019/1/1 0:20</td>\n",
       "      <td>2019</td>\n",
       "      <td>1</td>\n",
       "      <td>1</td>\n",
       "      <td>0</td>\n",
       "      <td>20</td>\n",
       "      <td>29.750330</td>\n",
       "      <td>20.086567</td>\n",
       "      <td>32.166214</td>\n",
       "      <td>0.0</td>\n",
       "      <td>1.058623</td>\n",
       "      <td>0.814599</td>\n",
       "      <td>0.000533</td>\n",
       "    </tr>\n",
       "  </tbody>\n",
       "</table>\n",
       "</div>"
      ],
      "text/plain": [
       "       Timestamp  Year  Month  Day  Hour  Minutes  Temperature(°C)  \\\n",
       "0  2019/1/1 0:00  2019      1    1     0        0        30.020723   \n",
       "1  2019/1/1 0:05  2019      1    1     0        5        29.958653   \n",
       "2  2019/1/1 0:10  2019      1    1     0       10        29.884491   \n",
       "3  2019/1/1 0:15  2019      1    1     0       15        29.831554   \n",
       "4  2019/1/1 0:20  2019      1    1     0       20        29.750330   \n",
       "\n",
       "   Relative Humidity(%)  Wind Direction(Degrees)  Daily Rainfall(mm)  \\\n",
       "0             20.125513                32.213470                 0.0   \n",
       "1             20.040049                32.158791                 0.0   \n",
       "2             20.013313                32.155808                 0.0   \n",
       "3             20.068233                32.178555                 0.0   \n",
       "4             20.086567                32.166214                 0.0   \n",
       "\n",
       "   Global Horizontal Radiation(W/m²)  Diffuse Horizontal Radiation(W/m²)  \\\n",
       "0                           1.543787                            1.349848   \n",
       "1                           1.373370                            1.244123   \n",
       "2                           1.142953                            0.992849   \n",
       "3                           0.709036                            0.611533   \n",
       "4                           1.058623                            0.814599   \n",
       "\n",
       "   Station_4  \n",
       "0   0.000533  \n",
       "1   0.000433  \n",
       "2   0.000867  \n",
       "3   0.000767  \n",
       "4   0.000533  "
      ]
     },
     "execution_count": 10,
     "metadata": {},
     "output_type": "execute_result"
    }
   ],
   "source": [
    "test.head(5)"
   ]
  },
  {
   "cell_type": "markdown",
   "metadata": {},
   "source": [
    "# 数据预处理训练集去异常值"
   ]
  },
  {
   "cell_type": "code",
   "execution_count": 11,
   "metadata": {},
   "outputs": [
    {
     "data": {
      "text/plain": [
       "Timestamp                             0\n",
       "Year                                  0\n",
       "Month                                 0\n",
       "Day                                   0\n",
       "Hour                                  0\n",
       "Minutes                               0\n",
       "Temperature(°C)                       0\n",
       "Relative Humidity(%)                  0\n",
       "Wind Direction(Degrees)               0\n",
       "Daily Rainfall(mm)                    0\n",
       "Global Horizontal Radiation(W/m²)     0\n",
       "Diffuse Horizontal Radiation(W/m²)    0\n",
       "Station_4                             0\n",
       "dtype: int64"
      ]
     },
     "execution_count": 11,
     "metadata": {},
     "output_type": "execute_result"
    }
   ],
   "source": [
    "#使用df.isnull().sum()来获得与行数None和NaN值。\n",
    "train.isnull().sum()"
   ]
  },
  {
   "cell_type": "code",
   "execution_count": 12,
   "metadata": {},
   "outputs": [
    {
     "data": {
      "text/plain": [
       "Timestamp                             0\n",
       "Year                                  0\n",
       "Month                                 0\n",
       "Day                                   0\n",
       "Hour                                  0\n",
       "Minutes                               0\n",
       "Temperature(°C)                       0\n",
       "Relative Humidity(%)                  0\n",
       "Wind Direction(Degrees)               0\n",
       "Daily Rainfall(mm)                    0\n",
       "Global Horizontal Radiation(W/m²)     0\n",
       "Diffuse Horizontal Radiation(W/m²)    0\n",
       "Station_4                             0\n",
       "dtype: int64"
      ]
     },
     "execution_count": 12,
     "metadata": {},
     "output_type": "execute_result"
    }
   ],
   "source": [
    "test.isnull().sum()"
   ]
  },
  {
   "cell_type": "code",
   "execution_count": 13,
   "metadata": {},
   "outputs": [
    {
     "data": {
      "text/plain": [
       "Index(['Timestamp', 'Year', 'Month', 'Day', 'Hour', 'Minutes',\n",
       "       'Temperature(°C)', 'Relative Humidity(%)', 'Wind Direction(Degrees)',\n",
       "       'Daily Rainfall(mm)', 'Global Horizontal Radiation(W/m²)',\n",
       "       'Diffuse Horizontal Radiation(W/m²)', 'Station_4'],\n",
       "      dtype='object')"
      ]
     },
     "execution_count": 13,
     "metadata": {},
     "output_type": "execute_result"
    }
   ],
   "source": [
    "train.columns"
   ]
  },
  {
   "cell_type": "code",
   "execution_count": 14,
   "metadata": {},
   "outputs": [
    {
     "data": {
      "text/plain": [
       "Index(['Timestamp', 'Year', 'Month', 'Day', 'Hour', 'Minutes',\n",
       "       'Temperature(°C)', 'Relative Humidity(%)', 'Wind Direction(Degrees)',\n",
       "       'Daily Rainfall(mm)', 'Global Horizontal Radiation(W/m²)',\n",
       "       'Diffuse Horizontal Radiation(W/m²)', 'Station_4'],\n",
       "      dtype='object')"
      ]
     },
     "execution_count": 14,
     "metadata": {},
     "output_type": "execute_result"
    }
   ],
   "source": [
    "test.columns"
   ]
  },
  {
   "cell_type": "code",
   "execution_count": 15,
   "metadata": {},
   "outputs": [
    {
     "data": {
      "text/html": [
       "<div>\n",
       "<style scoped>\n",
       "    .dataframe tbody tr th:only-of-type {\n",
       "        vertical-align: middle;\n",
       "    }\n",
       "\n",
       "    .dataframe tbody tr th {\n",
       "        vertical-align: top;\n",
       "    }\n",
       "\n",
       "    .dataframe thead th {\n",
       "        text-align: right;\n",
       "    }\n",
       "</style>\n",
       "<table border=\"1\" class=\"dataframe\">\n",
       "  <thead>\n",
       "    <tr style=\"text-align: right;\">\n",
       "      <th></th>\n",
       "      <th>Timestamp</th>\n",
       "      <th>Year</th>\n",
       "      <th>Month</th>\n",
       "      <th>Day</th>\n",
       "      <th>Hour</th>\n",
       "      <th>Minutes</th>\n",
       "      <th>Temperature(°C)</th>\n",
       "      <th>Relative Humidity(%)</th>\n",
       "      <th>Wind Direction(Degrees)</th>\n",
       "      <th>Daily Rainfall(mm)</th>\n",
       "      <th>Global Horizontal Radiation(W/m²)</th>\n",
       "      <th>Diffuse Horizontal Radiation(W/m²)</th>\n",
       "      <th>Station_4</th>\n",
       "    </tr>\n",
       "  </thead>\n",
       "  <tbody>\n",
       "    <tr>\n",
       "      <th>0</th>\n",
       "      <td>2016/1/1 0:00</td>\n",
       "      <td>2016</td>\n",
       "      <td>1</td>\n",
       "      <td>1</td>\n",
       "      <td>0</td>\n",
       "      <td>0</td>\n",
       "      <td>17.176111</td>\n",
       "      <td>87.095665</td>\n",
       "      <td>186.941284</td>\n",
       "      <td>0.0</td>\n",
       "      <td>2.672255</td>\n",
       "      <td>1.103375</td>\n",
       "      <td>0.000400</td>\n",
       "    </tr>\n",
       "    <tr>\n",
       "      <th>1</th>\n",
       "      <td>2016/1/1 0:05</td>\n",
       "      <td>2016</td>\n",
       "      <td>1</td>\n",
       "      <td>1</td>\n",
       "      <td>0</td>\n",
       "      <td>5</td>\n",
       "      <td>17.133446</td>\n",
       "      <td>87.671669</td>\n",
       "      <td>191.876770</td>\n",
       "      <td>0.0</td>\n",
       "      <td>2.703700</td>\n",
       "      <td>1.152340</td>\n",
       "      <td>0.000400</td>\n",
       "    </tr>\n",
       "    <tr>\n",
       "      <th>2</th>\n",
       "      <td>2016/1/1 0:10</td>\n",
       "      <td>2016</td>\n",
       "      <td>1</td>\n",
       "      <td>1</td>\n",
       "      <td>0</td>\n",
       "      <td>10</td>\n",
       "      <td>17.084999</td>\n",
       "      <td>88.563240</td>\n",
       "      <td>188.268082</td>\n",
       "      <td>0.0</td>\n",
       "      <td>3.013785</td>\n",
       "      <td>1.566642</td>\n",
       "      <td>0.000533</td>\n",
       "    </tr>\n",
       "    <tr>\n",
       "      <th>3</th>\n",
       "      <td>2016/1/1 0:15</td>\n",
       "      <td>2016</td>\n",
       "      <td>1</td>\n",
       "      <td>1</td>\n",
       "      <td>0</td>\n",
       "      <td>15</td>\n",
       "      <td>16.955778</td>\n",
       "      <td>90.001663</td>\n",
       "      <td>197.727295</td>\n",
       "      <td>0.0</td>\n",
       "      <td>3.421924</td>\n",
       "      <td>1.707677</td>\n",
       "      <td>0.000067</td>\n",
       "    </tr>\n",
       "    <tr>\n",
       "      <th>4</th>\n",
       "      <td>2016/1/1 0:20</td>\n",
       "      <td>2016</td>\n",
       "      <td>1</td>\n",
       "      <td>1</td>\n",
       "      <td>0</td>\n",
       "      <td>20</td>\n",
       "      <td>16.854271</td>\n",
       "      <td>91.222733</td>\n",
       "      <td>193.704559</td>\n",
       "      <td>0.0</td>\n",
       "      <td>3.292158</td>\n",
       "      <td>1.746989</td>\n",
       "      <td>0.000600</td>\n",
       "    </tr>\n",
       "  </tbody>\n",
       "</table>\n",
       "</div>"
      ],
      "text/plain": [
       "       Timestamp  Year  Month  Day  Hour  Minutes  Temperature(°C)  \\\n",
       "0  2016/1/1 0:00  2016      1    1     0        0        17.176111   \n",
       "1  2016/1/1 0:05  2016      1    1     0        5        17.133446   \n",
       "2  2016/1/1 0:10  2016      1    1     0       10        17.084999   \n",
       "3  2016/1/1 0:15  2016      1    1     0       15        16.955778   \n",
       "4  2016/1/1 0:20  2016      1    1     0       20        16.854271   \n",
       "\n",
       "   Relative Humidity(%)  Wind Direction(Degrees)  Daily Rainfall(mm)  \\\n",
       "0             87.095665               186.941284                 0.0   \n",
       "1             87.671669               191.876770                 0.0   \n",
       "2             88.563240               188.268082                 0.0   \n",
       "3             90.001663               197.727295                 0.0   \n",
       "4             91.222733               193.704559                 0.0   \n",
       "\n",
       "   Global Horizontal Radiation(W/m²)  Diffuse Horizontal Radiation(W/m²)  \\\n",
       "0                           2.672255                            1.103375   \n",
       "1                           2.703700                            1.152340   \n",
       "2                           3.013785                            1.566642   \n",
       "3                           3.421924                            1.707677   \n",
       "4                           3.292158                            1.746989   \n",
       "\n",
       "   Station_4  \n",
       "0   0.000400  \n",
       "1   0.000400  \n",
       "2   0.000533  \n",
       "3   0.000067  \n",
       "4   0.000600  "
      ]
     },
     "execution_count": 15,
     "metadata": {},
     "output_type": "execute_result"
    }
   ],
   "source": [
    "train.head()"
   ]
  },
  {
   "cell_type": "code",
   "execution_count": 16,
   "metadata": {},
   "outputs": [
    {
     "data": {
      "text/html": [
       "<div>\n",
       "<style scoped>\n",
       "    .dataframe tbody tr th:only-of-type {\n",
       "        vertical-align: middle;\n",
       "    }\n",
       "\n",
       "    .dataframe tbody tr th {\n",
       "        vertical-align: top;\n",
       "    }\n",
       "\n",
       "    .dataframe thead th {\n",
       "        text-align: right;\n",
       "    }\n",
       "</style>\n",
       "<table border=\"1\" class=\"dataframe\">\n",
       "  <thead>\n",
       "    <tr style=\"text-align: right;\">\n",
       "      <th></th>\n",
       "      <th>Timestamp</th>\n",
       "      <th>Year</th>\n",
       "      <th>Month</th>\n",
       "      <th>Day</th>\n",
       "      <th>Hour</th>\n",
       "      <th>Minutes</th>\n",
       "      <th>Temperature(°C)</th>\n",
       "      <th>Relative Humidity(%)</th>\n",
       "      <th>Wind Direction(Degrees)</th>\n",
       "      <th>Daily Rainfall(mm)</th>\n",
       "      <th>Global Horizontal Radiation(W/m²)</th>\n",
       "      <th>Diffuse Horizontal Radiation(W/m²)</th>\n",
       "      <th>Station_4</th>\n",
       "    </tr>\n",
       "  </thead>\n",
       "  <tbody>\n",
       "    <tr>\n",
       "      <th>0</th>\n",
       "      <td>2019/1/1 0:00</td>\n",
       "      <td>2019</td>\n",
       "      <td>1</td>\n",
       "      <td>1</td>\n",
       "      <td>0</td>\n",
       "      <td>0</td>\n",
       "      <td>30.020723</td>\n",
       "      <td>20.125513</td>\n",
       "      <td>32.213470</td>\n",
       "      <td>0.0</td>\n",
       "      <td>1.543787</td>\n",
       "      <td>1.349848</td>\n",
       "      <td>0.000533</td>\n",
       "    </tr>\n",
       "    <tr>\n",
       "      <th>1</th>\n",
       "      <td>2019/1/1 0:05</td>\n",
       "      <td>2019</td>\n",
       "      <td>1</td>\n",
       "      <td>1</td>\n",
       "      <td>0</td>\n",
       "      <td>5</td>\n",
       "      <td>29.958653</td>\n",
       "      <td>20.040049</td>\n",
       "      <td>32.158791</td>\n",
       "      <td>0.0</td>\n",
       "      <td>1.373370</td>\n",
       "      <td>1.244123</td>\n",
       "      <td>0.000433</td>\n",
       "    </tr>\n",
       "    <tr>\n",
       "      <th>2</th>\n",
       "      <td>2019/1/1 0:10</td>\n",
       "      <td>2019</td>\n",
       "      <td>1</td>\n",
       "      <td>1</td>\n",
       "      <td>0</td>\n",
       "      <td>10</td>\n",
       "      <td>29.884491</td>\n",
       "      <td>20.013313</td>\n",
       "      <td>32.155808</td>\n",
       "      <td>0.0</td>\n",
       "      <td>1.142953</td>\n",
       "      <td>0.992849</td>\n",
       "      <td>0.000867</td>\n",
       "    </tr>\n",
       "    <tr>\n",
       "      <th>3</th>\n",
       "      <td>2019/1/1 0:15</td>\n",
       "      <td>2019</td>\n",
       "      <td>1</td>\n",
       "      <td>1</td>\n",
       "      <td>0</td>\n",
       "      <td>15</td>\n",
       "      <td>29.831554</td>\n",
       "      <td>20.068233</td>\n",
       "      <td>32.178555</td>\n",
       "      <td>0.0</td>\n",
       "      <td>0.709036</td>\n",
       "      <td>0.611533</td>\n",
       "      <td>0.000767</td>\n",
       "    </tr>\n",
       "    <tr>\n",
       "      <th>4</th>\n",
       "      <td>2019/1/1 0:20</td>\n",
       "      <td>2019</td>\n",
       "      <td>1</td>\n",
       "      <td>1</td>\n",
       "      <td>0</td>\n",
       "      <td>20</td>\n",
       "      <td>29.750330</td>\n",
       "      <td>20.086567</td>\n",
       "      <td>32.166214</td>\n",
       "      <td>0.0</td>\n",
       "      <td>1.058623</td>\n",
       "      <td>0.814599</td>\n",
       "      <td>0.000533</td>\n",
       "    </tr>\n",
       "  </tbody>\n",
       "</table>\n",
       "</div>"
      ],
      "text/plain": [
       "       Timestamp  Year  Month  Day  Hour  Minutes  Temperature(°C)  \\\n",
       "0  2019/1/1 0:00  2019      1    1     0        0        30.020723   \n",
       "1  2019/1/1 0:05  2019      1    1     0        5        29.958653   \n",
       "2  2019/1/1 0:10  2019      1    1     0       10        29.884491   \n",
       "3  2019/1/1 0:15  2019      1    1     0       15        29.831554   \n",
       "4  2019/1/1 0:20  2019      1    1     0       20        29.750330   \n",
       "\n",
       "   Relative Humidity(%)  Wind Direction(Degrees)  Daily Rainfall(mm)  \\\n",
       "0             20.125513                32.213470                 0.0   \n",
       "1             20.040049                32.158791                 0.0   \n",
       "2             20.013313                32.155808                 0.0   \n",
       "3             20.068233                32.178555                 0.0   \n",
       "4             20.086567                32.166214                 0.0   \n",
       "\n",
       "   Global Horizontal Radiation(W/m²)  Diffuse Horizontal Radiation(W/m²)  \\\n",
       "0                           1.543787                            1.349848   \n",
       "1                           1.373370                            1.244123   \n",
       "2                           1.142953                            0.992849   \n",
       "3                           0.709036                            0.611533   \n",
       "4                           1.058623                            0.814599   \n",
       "\n",
       "   Station_4  \n",
       "0   0.000533  \n",
       "1   0.000433  \n",
       "2   0.000867  \n",
       "3   0.000767  \n",
       "4   0.000533  "
      ]
     },
     "execution_count": 16,
     "metadata": {},
     "output_type": "execute_result"
    }
   ],
   "source": [
    "test.head()"
   ]
  },
  {
   "cell_type": "markdown",
   "metadata": {},
   "source": [
    "# keras模型训练"
   ]
  },
  {
   "cell_type": "markdown",
   "metadata": {},
   "source": [
    "准备数据"
   ]
  },
  {
   "cell_type": "code",
   "execution_count": 17,
   "metadata": {},
   "outputs": [
    {
     "data": {
      "text/html": [
       "<div>\n",
       "<style scoped>\n",
       "    .dataframe tbody tr th:only-of-type {\n",
       "        vertical-align: middle;\n",
       "    }\n",
       "\n",
       "    .dataframe tbody tr th {\n",
       "        vertical-align: top;\n",
       "    }\n",
       "\n",
       "    .dataframe thead th {\n",
       "        text-align: right;\n",
       "    }\n",
       "</style>\n",
       "<table border=\"1\" class=\"dataframe\">\n",
       "  <thead>\n",
       "    <tr style=\"text-align: right;\">\n",
       "      <th></th>\n",
       "      <th>Year</th>\n",
       "      <th>Month</th>\n",
       "      <th>Day</th>\n",
       "      <th>Hour</th>\n",
       "      <th>Minutes</th>\n",
       "      <th>Temperature(°C)</th>\n",
       "      <th>Relative Humidity(%)</th>\n",
       "      <th>Wind Direction(Degrees)</th>\n",
       "      <th>Daily Rainfall(mm)</th>\n",
       "      <th>Global Horizontal Radiation(W/m²)</th>\n",
       "      <th>Diffuse Horizontal Radiation(W/m²)</th>\n",
       "      <th>Station_4</th>\n",
       "    </tr>\n",
       "  </thead>\n",
       "  <tbody>\n",
       "    <tr>\n",
       "      <th>Year</th>\n",
       "      <td>1.000000</td>\n",
       "      <td>0.000997</td>\n",
       "      <td>-0.001594</td>\n",
       "      <td>0.000271</td>\n",
       "      <td>-0.000018</td>\n",
       "      <td>0.039692</td>\n",
       "      <td>-0.142624</td>\n",
       "      <td>-0.306422</td>\n",
       "      <td>-0.014905</td>\n",
       "      <td>0.033324</td>\n",
       "      <td>-0.042472</td>\n",
       "      <td>0.007422</td>\n",
       "    </tr>\n",
       "    <tr>\n",
       "      <th>Month</th>\n",
       "      <td>0.000997</td>\n",
       "      <td>1.000000</td>\n",
       "      <td>0.010155</td>\n",
       "      <td>0.000246</td>\n",
       "      <td>-0.000024</td>\n",
       "      <td>-0.078508</td>\n",
       "      <td>-0.067525</td>\n",
       "      <td>-0.043320</td>\n",
       "      <td>0.024418</td>\n",
       "      <td>0.008511</td>\n",
       "      <td>0.019462</td>\n",
       "      <td>-0.009435</td>\n",
       "    </tr>\n",
       "    <tr>\n",
       "      <th>Day</th>\n",
       "      <td>-0.001594</td>\n",
       "      <td>0.010155</td>\n",
       "      <td>1.000000</td>\n",
       "      <td>0.000266</td>\n",
       "      <td>-0.000006</td>\n",
       "      <td>0.037173</td>\n",
       "      <td>-0.019835</td>\n",
       "      <td>-0.017119</td>\n",
       "      <td>0.027726</td>\n",
       "      <td>-0.006611</td>\n",
       "      <td>-0.000819</td>\n",
       "      <td>-0.002849</td>\n",
       "    </tr>\n",
       "    <tr>\n",
       "      <th>Hour</th>\n",
       "      <td>0.000271</td>\n",
       "      <td>0.000246</td>\n",
       "      <td>0.000266</td>\n",
       "      <td>1.000000</td>\n",
       "      <td>-0.000017</td>\n",
       "      <td>0.272605</td>\n",
       "      <td>-0.297760</td>\n",
       "      <td>-0.040612</td>\n",
       "      <td>0.075225</td>\n",
       "      <td>0.063334</td>\n",
       "      <td>0.070256</td>\n",
       "      <td>0.070728</td>\n",
       "    </tr>\n",
       "    <tr>\n",
       "      <th>Minutes</th>\n",
       "      <td>-0.000018</td>\n",
       "      <td>-0.000024</td>\n",
       "      <td>-0.000006</td>\n",
       "      <td>-0.000017</td>\n",
       "      <td>1.000000</td>\n",
       "      <td>0.000059</td>\n",
       "      <td>-0.000112</td>\n",
       "      <td>-0.000660</td>\n",
       "      <td>0.003149</td>\n",
       "      <td>0.000814</td>\n",
       "      <td>-0.001205</td>\n",
       "      <td>0.000270</td>\n",
       "    </tr>\n",
       "    <tr>\n",
       "      <th>Temperature(°C)</th>\n",
       "      <td>0.039692</td>\n",
       "      <td>-0.078508</td>\n",
       "      <td>0.037173</td>\n",
       "      <td>0.272605</td>\n",
       "      <td>0.000059</td>\n",
       "      <td>1.000000</td>\n",
       "      <td>-0.473446</td>\n",
       "      <td>0.159687</td>\n",
       "      <td>0.025735</td>\n",
       "      <td>0.499530</td>\n",
       "      <td>0.405993</td>\n",
       "      <td>0.419459</td>\n",
       "    </tr>\n",
       "    <tr>\n",
       "      <th>Relative Humidity(%)</th>\n",
       "      <td>-0.142624</td>\n",
       "      <td>-0.067525</td>\n",
       "      <td>-0.019835</td>\n",
       "      <td>-0.297760</td>\n",
       "      <td>-0.000112</td>\n",
       "      <td>-0.473446</td>\n",
       "      <td>1.000000</td>\n",
       "      <td>0.087882</td>\n",
       "      <td>0.217534</td>\n",
       "      <td>-0.409781</td>\n",
       "      <td>-0.178606</td>\n",
       "      <td>-0.405080</td>\n",
       "    </tr>\n",
       "    <tr>\n",
       "      <th>Wind Direction(Degrees)</th>\n",
       "      <td>-0.306422</td>\n",
       "      <td>-0.043320</td>\n",
       "      <td>-0.017119</td>\n",
       "      <td>-0.040612</td>\n",
       "      <td>-0.000660</td>\n",
       "      <td>0.159687</td>\n",
       "      <td>0.087882</td>\n",
       "      <td>1.000000</td>\n",
       "      <td>0.053352</td>\n",
       "      <td>0.002940</td>\n",
       "      <td>0.043017</td>\n",
       "      <td>-0.035399</td>\n",
       "    </tr>\n",
       "    <tr>\n",
       "      <th>Daily Rainfall(mm)</th>\n",
       "      <td>-0.014905</td>\n",
       "      <td>0.024418</td>\n",
       "      <td>0.027726</td>\n",
       "      <td>0.075225</td>\n",
       "      <td>0.003149</td>\n",
       "      <td>0.025735</td>\n",
       "      <td>0.217534</td>\n",
       "      <td>0.053352</td>\n",
       "      <td>1.000000</td>\n",
       "      <td>-0.032898</td>\n",
       "      <td>0.077250</td>\n",
       "      <td>-0.034166</td>\n",
       "    </tr>\n",
       "    <tr>\n",
       "      <th>Global Horizontal Radiation(W/m²)</th>\n",
       "      <td>0.033324</td>\n",
       "      <td>0.008511</td>\n",
       "      <td>-0.006611</td>\n",
       "      <td>0.063334</td>\n",
       "      <td>0.000814</td>\n",
       "      <td>0.499530</td>\n",
       "      <td>-0.409781</td>\n",
       "      <td>0.002940</td>\n",
       "      <td>-0.032898</td>\n",
       "      <td>1.000000</td>\n",
       "      <td>0.561071</td>\n",
       "      <td>0.966004</td>\n",
       "    </tr>\n",
       "    <tr>\n",
       "      <th>Diffuse Horizontal Radiation(W/m²)</th>\n",
       "      <td>-0.042472</td>\n",
       "      <td>0.019462</td>\n",
       "      <td>-0.000819</td>\n",
       "      <td>0.070256</td>\n",
       "      <td>-0.001205</td>\n",
       "      <td>0.405993</td>\n",
       "      <td>-0.178606</td>\n",
       "      <td>0.043017</td>\n",
       "      <td>0.077250</td>\n",
       "      <td>0.561071</td>\n",
       "      <td>1.000000</td>\n",
       "      <td>0.530123</td>\n",
       "    </tr>\n",
       "    <tr>\n",
       "      <th>Station_4</th>\n",
       "      <td>0.007422</td>\n",
       "      <td>-0.009435</td>\n",
       "      <td>-0.002849</td>\n",
       "      <td>0.070728</td>\n",
       "      <td>0.000270</td>\n",
       "      <td>0.419459</td>\n",
       "      <td>-0.405080</td>\n",
       "      <td>-0.035399</td>\n",
       "      <td>-0.034166</td>\n",
       "      <td>0.966004</td>\n",
       "      <td>0.530123</td>\n",
       "      <td>1.000000</td>\n",
       "    </tr>\n",
       "  </tbody>\n",
       "</table>\n",
       "</div>"
      ],
      "text/plain": [
       "                                        Year     Month       Day      Hour  \\\n",
       "Year                                1.000000  0.000997 -0.001594  0.000271   \n",
       "Month                               0.000997  1.000000  0.010155  0.000246   \n",
       "Day                                -0.001594  0.010155  1.000000  0.000266   \n",
       "Hour                                0.000271  0.000246  0.000266  1.000000   \n",
       "Minutes                            -0.000018 -0.000024 -0.000006 -0.000017   \n",
       "Temperature(°C)                     0.039692 -0.078508  0.037173  0.272605   \n",
       "Relative Humidity(%)               -0.142624 -0.067525 -0.019835 -0.297760   \n",
       "Wind Direction(Degrees)            -0.306422 -0.043320 -0.017119 -0.040612   \n",
       "Daily Rainfall(mm)                 -0.014905  0.024418  0.027726  0.075225   \n",
       "Global Horizontal Radiation(W/m²)   0.033324  0.008511 -0.006611  0.063334   \n",
       "Diffuse Horizontal Radiation(W/m²) -0.042472  0.019462 -0.000819  0.070256   \n",
       "Station_4                           0.007422 -0.009435 -0.002849  0.070728   \n",
       "\n",
       "                                     Minutes  Temperature(°C)  \\\n",
       "Year                               -0.000018         0.039692   \n",
       "Month                              -0.000024        -0.078508   \n",
       "Day                                -0.000006         0.037173   \n",
       "Hour                               -0.000017         0.272605   \n",
       "Minutes                             1.000000         0.000059   \n",
       "Temperature(°C)                     0.000059         1.000000   \n",
       "Relative Humidity(%)               -0.000112        -0.473446   \n",
       "Wind Direction(Degrees)            -0.000660         0.159687   \n",
       "Daily Rainfall(mm)                  0.003149         0.025735   \n",
       "Global Horizontal Radiation(W/m²)   0.000814         0.499530   \n",
       "Diffuse Horizontal Radiation(W/m²) -0.001205         0.405993   \n",
       "Station_4                           0.000270         0.419459   \n",
       "\n",
       "                                    Relative Humidity(%)  \\\n",
       "Year                                           -0.142624   \n",
       "Month                                          -0.067525   \n",
       "Day                                            -0.019835   \n",
       "Hour                                           -0.297760   \n",
       "Minutes                                        -0.000112   \n",
       "Temperature(°C)                                -0.473446   \n",
       "Relative Humidity(%)                            1.000000   \n",
       "Wind Direction(Degrees)                         0.087882   \n",
       "Daily Rainfall(mm)                              0.217534   \n",
       "Global Horizontal Radiation(W/m²)              -0.409781   \n",
       "Diffuse Horizontal Radiation(W/m²)             -0.178606   \n",
       "Station_4                                      -0.405080   \n",
       "\n",
       "                                    Wind Direction(Degrees)  \\\n",
       "Year                                              -0.306422   \n",
       "Month                                             -0.043320   \n",
       "Day                                               -0.017119   \n",
       "Hour                                              -0.040612   \n",
       "Minutes                                           -0.000660   \n",
       "Temperature(°C)                                    0.159687   \n",
       "Relative Humidity(%)                               0.087882   \n",
       "Wind Direction(Degrees)                            1.000000   \n",
       "Daily Rainfall(mm)                                 0.053352   \n",
       "Global Horizontal Radiation(W/m²)                  0.002940   \n",
       "Diffuse Horizontal Radiation(W/m²)                 0.043017   \n",
       "Station_4                                         -0.035399   \n",
       "\n",
       "                                    Daily Rainfall(mm)  \\\n",
       "Year                                         -0.014905   \n",
       "Month                                         0.024418   \n",
       "Day                                           0.027726   \n",
       "Hour                                          0.075225   \n",
       "Minutes                                       0.003149   \n",
       "Temperature(°C)                               0.025735   \n",
       "Relative Humidity(%)                          0.217534   \n",
       "Wind Direction(Degrees)                       0.053352   \n",
       "Daily Rainfall(mm)                            1.000000   \n",
       "Global Horizontal Radiation(W/m²)            -0.032898   \n",
       "Diffuse Horizontal Radiation(W/m²)            0.077250   \n",
       "Station_4                                    -0.034166   \n",
       "\n",
       "                                    Global Horizontal Radiation(W/m²)  \\\n",
       "Year                                                         0.033324   \n",
       "Month                                                        0.008511   \n",
       "Day                                                         -0.006611   \n",
       "Hour                                                         0.063334   \n",
       "Minutes                                                      0.000814   \n",
       "Temperature(°C)                                              0.499530   \n",
       "Relative Humidity(%)                                        -0.409781   \n",
       "Wind Direction(Degrees)                                      0.002940   \n",
       "Daily Rainfall(mm)                                          -0.032898   \n",
       "Global Horizontal Radiation(W/m²)                            1.000000   \n",
       "Diffuse Horizontal Radiation(W/m²)                           0.561071   \n",
       "Station_4                                                    0.966004   \n",
       "\n",
       "                                    Diffuse Horizontal Radiation(W/m²)  \\\n",
       "Year                                                         -0.042472   \n",
       "Month                                                         0.019462   \n",
       "Day                                                          -0.000819   \n",
       "Hour                                                          0.070256   \n",
       "Minutes                                                      -0.001205   \n",
       "Temperature(°C)                                               0.405993   \n",
       "Relative Humidity(%)                                         -0.178606   \n",
       "Wind Direction(Degrees)                                       0.043017   \n",
       "Daily Rainfall(mm)                                            0.077250   \n",
       "Global Horizontal Radiation(W/m²)                             0.561071   \n",
       "Diffuse Horizontal Radiation(W/m²)                            1.000000   \n",
       "Station_4                                                     0.530123   \n",
       "\n",
       "                                    Station_4  \n",
       "Year                                 0.007422  \n",
       "Month                               -0.009435  \n",
       "Day                                 -0.002849  \n",
       "Hour                                 0.070728  \n",
       "Minutes                              0.000270  \n",
       "Temperature(°C)                      0.419459  \n",
       "Relative Humidity(%)                -0.405080  \n",
       "Wind Direction(Degrees)             -0.035399  \n",
       "Daily Rainfall(mm)                  -0.034166  \n",
       "Global Horizontal Radiation(W/m²)    0.966004  \n",
       "Diffuse Horizontal Radiation(W/m²)   0.530123  \n",
       "Station_4                            1.000000  "
      ]
     },
     "execution_count": 17,
     "metadata": {},
     "output_type": "execute_result"
    }
   ],
   "source": [
    "train.corr()"
   ]
  },
  {
   "cell_type": "code",
   "execution_count": 18,
   "metadata": {},
   "outputs": [
    {
     "data": {
      "text/plain": [
       "Index(['Timestamp', 'Year', 'Month', 'Day', 'Hour', 'Minutes',\n",
       "       'Temperature(°C)', 'Relative Humidity(%)', 'Wind Direction(Degrees)',\n",
       "       'Daily Rainfall(mm)', 'Global Horizontal Radiation(W/m²)',\n",
       "       'Diffuse Horizontal Radiation(W/m²)', 'Station_4'],\n",
       "      dtype='object')"
      ]
     },
     "execution_count": 18,
     "metadata": {},
     "output_type": "execute_result"
    }
   ],
   "source": [
    "train.columns"
   ]
  },
  {
   "cell_type": "code",
   "execution_count": 19,
   "metadata": {
    "scrolled": false
   },
   "outputs": [],
   "source": [
    "# #去除 WD，WDR 特征\n",
    "# train1=train[['Temperature(°C)', 'Relative Humidity(%)', 'Wind Direction(Degrees)',\n",
    "#        'Daily Rainfall(mm)', 'Global Horizontal Radiation(W/m²)',\n",
    "#        'Diffuse Horizontal Radiation(W/m²)', 'Station_4']]\n",
    "# print(\"查看训练集\\n\",train1.head())\n",
    "# test1=test[['Temperature(°C)', 'Relative Humidity(%)', 'Wind Direction(Degrees)',\n",
    "#        'Daily Rainfall(mm)', 'Global Horizontal Radiation(W/m²)',\n",
    "#        'Diffuse Horizontal Radiation(W/m²)', 'Station_4']]\n",
    "# print(\"查看测试集\\n\",test.head())"
   ]
  },
  {
   "cell_type": "code",
   "execution_count": 20,
   "metadata": {},
   "outputs": [],
   "source": [
    "train1=train.drop(columns=['Timestamp','Year'])\n",
    "test1= test.drop(columns=['Timestamp','Year'])"
   ]
  },
  {
   "cell_type": "markdown",
   "metadata": {},
   "source": [
    "# 构建序列"
   ]
  },
  {
   "cell_type": "code",
   "execution_count": 21,
   "metadata": {},
   "outputs": [],
   "source": [
    "# convert series to supervised learning\n",
    "def series_to_supervised(data, n_in=1, n_out=1, dropnan=True):\n",
    "#     n_vars = 1 if type(data) is list else data.shape[1]\n",
    "    n_vars = list(data)\n",
    "    df = pd.DataFrame(data)\n",
    "    cols, names = list(), list()\n",
    "    # input sequence (t-n, ... t-1)\n",
    "    for i in range(n_in, 0, -1):\n",
    "        cols.append(df.shift(i))\n",
    "        names += [('%s(t-%d)' % (j, i)) for j in n_vars]\n",
    "    # forecast sequence (t, t+1, ... t+n)\n",
    "    for i in range(0, n_out):\n",
    "        cols.append(df.shift(-i))\n",
    "        if i == 0:\n",
    "            names += [('%s(t)' % (j) )for j in n_vars]\n",
    "        else:\n",
    "            names += [('%s(t+%d)' % (j, i)) for j in n_vars]\n",
    "    # put it all together\n",
    "    agg = pd.concat(cols, axis=1)\n",
    "    agg.columns = names\n",
    "    # drop rows with NaN values\n",
    "    if dropnan:\n",
    "        agg.dropna(inplace=True)\n",
    "    return agg"
   ]
  },
  {
   "cell_type": "code",
   "execution_count": 1,
   "metadata": {},
   "outputs": [
    {
     "ename": "NameError",
     "evalue": "name 'series_to_supervised' is not defined",
     "output_type": "error",
     "traceback": [
      "\u001b[1;31m---------------------------------------------------------------------------\u001b[0m",
      "\u001b[1;31mNameError\u001b[0m                                 Traceback (most recent call last)",
      "\u001b[1;32m<ipython-input-1-90a3313cfc19>\u001b[0m in \u001b[0;36m<module>\u001b[1;34m()\u001b[0m\n\u001b[1;32m----> 1\u001b[1;33m \u001b[0mtrain1\u001b[0m \u001b[1;33m=\u001b[0m \u001b[0mseries_to_supervised\u001b[0m\u001b[1;33m(\u001b[0m\u001b[0mtrain1\u001b[0m\u001b[1;33m,\u001b[0m\u001b[1;36m12\u001b[0m\u001b[1;33m,\u001b[0m\u001b[1;36m1\u001b[0m\u001b[1;33m)\u001b[0m\u001b[1;33m\u001b[0m\u001b[0m\n\u001b[0m\u001b[0;32m      2\u001b[0m \u001b[0mtest1\u001b[0m \u001b[1;33m=\u001b[0m \u001b[0mseries_to_supervised\u001b[0m\u001b[1;33m(\u001b[0m\u001b[0mtest1\u001b[0m\u001b[1;33m,\u001b[0m\u001b[1;36m12\u001b[0m\u001b[1;33m,\u001b[0m\u001b[1;36m1\u001b[0m\u001b[1;33m)\u001b[0m\u001b[1;33m\u001b[0m\u001b[0m\n",
      "\u001b[1;31mNameError\u001b[0m: name 'series_to_supervised' is not defined"
     ]
    }
   ],
   "source": [
    "train1 = series_to_supervised(train1,12,1)\n",
    "test1 = series_to_supervised(test1,12,1)"
   ]
  },
  {
   "cell_type": "code",
   "execution_count": 23,
   "metadata": {},
   "outputs": [],
   "source": [
    "# Timestamp = "
   ]
  },
  {
   "cell_type": "code",
   "execution_count": 24,
   "metadata": {},
   "outputs": [
    {
     "data": {
      "text/plain": [
       "Index(['Month(t-12)', 'Day(t-12)', 'Hour(t-12)', 'Minutes(t-12)',\n",
       "       'Temperature(°C)(t-12)', 'Relative Humidity(%)(t-12)',\n",
       "       'Wind Direction(Degrees)(t-12)', 'Daily Rainfall(mm)(t-12)',\n",
       "       'Global Horizontal Radiation(W/m²)(t-12)',\n",
       "       'Diffuse Horizontal Radiation(W/m²)(t-12)',\n",
       "       ...\n",
       "       'Day(t)', 'Hour(t)', 'Minutes(t)', 'Temperature(°C)(t)',\n",
       "       'Relative Humidity(%)(t)', 'Wind Direction(Degrees)(t)',\n",
       "       'Daily Rainfall(mm)(t)', 'Global Horizontal Radiation(W/m²)(t)',\n",
       "       'Diffuse Horizontal Radiation(W/m²)(t)', 'Station_4(t)'],\n",
       "      dtype='object', length=143)"
      ]
     },
     "execution_count": 24,
     "metadata": {},
     "output_type": "execute_result"
    }
   ],
   "source": [
    "train1.columns"
   ]
  },
  {
   "cell_type": "code",
   "execution_count": 25,
   "metadata": {},
   "outputs": [
    {
     "data": {
      "text/plain": [
       "Index(['Month(t-12)', 'Day(t-12)', 'Hour(t-12)', 'Minutes(t-12)',\n",
       "       'Temperature(°C)(t-12)', 'Relative Humidity(%)(t-12)',\n",
       "       'Wind Direction(Degrees)(t-12)', 'Daily Rainfall(mm)(t-12)',\n",
       "       'Global Horizontal Radiation(W/m²)(t-12)',\n",
       "       'Diffuse Horizontal Radiation(W/m²)(t-12)',\n",
       "       ...\n",
       "       'Day(t)', 'Hour(t)', 'Minutes(t)', 'Temperature(°C)(t)',\n",
       "       'Relative Humidity(%)(t)', 'Wind Direction(Degrees)(t)',\n",
       "       'Daily Rainfall(mm)(t)', 'Global Horizontal Radiation(W/m²)(t)',\n",
       "       'Diffuse Horizontal Radiation(W/m²)(t)', 'Station_4(t)'],\n",
       "      dtype='object', length=143)"
      ]
     },
     "execution_count": 25,
     "metadata": {},
     "output_type": "execute_result"
    }
   ],
   "source": [
    "test1.columns"
   ]
  },
  {
   "cell_type": "code",
   "execution_count": 26,
   "metadata": {},
   "outputs": [
    {
     "data": {
      "text/plain": [
       "(314831, 143)"
      ]
     },
     "execution_count": 26,
     "metadata": {},
     "output_type": "execute_result"
    }
   ],
   "source": [
    "train1.shape"
   ]
  },
  {
   "cell_type": "code",
   "execution_count": 27,
   "metadata": {
    "scrolled": true
   },
   "outputs": [],
   "source": [
    "train1.drop(train1.columns[11:142],axis=1,inplace=True)\n",
    "test1.drop(test1.columns[11:142],axis=1,inplace=True)"
   ]
  },
  {
   "cell_type": "code",
   "execution_count": 28,
   "metadata": {},
   "outputs": [
    {
     "data": {
      "text/plain": [
       "Index(['Month(t-12)', 'Day(t-12)', 'Hour(t-12)', 'Minutes(t-12)',\n",
       "       'Temperature(°C)(t-12)', 'Relative Humidity(%)(t-12)',\n",
       "       'Wind Direction(Degrees)(t-12)', 'Daily Rainfall(mm)(t-12)',\n",
       "       'Global Horizontal Radiation(W/m²)(t-12)',\n",
       "       'Diffuse Horizontal Radiation(W/m²)(t-12)', 'Station_4(t-12)',\n",
       "       'Station_4(t)'],\n",
       "      dtype='object')"
      ]
     },
     "execution_count": 28,
     "metadata": {},
     "output_type": "execute_result"
    }
   ],
   "source": [
    "train1.columns"
   ]
  },
  {
   "cell_type": "markdown",
   "metadata": {},
   "source": [
    "# 归一化数据"
   ]
  },
  {
   "cell_type": "code",
   "execution_count": 29,
   "metadata": {},
   "outputs": [
    {
     "name": "stdout",
     "output_type": "stream",
     "text": [
      "(251864, 11) (251864, 1) (62967, 11) (62967, 1) (102876, 11) (102876, 1)\n",
      "(251864, 1, 11) (251864, 1) (62967, 1, 11) (62967, 1) (102876, 1, 11) (102876, 1)\n"
     ]
    }
   ],
   "source": [
    "train1 = train1.values\n",
    "train1 = train1.astype('float32')     # 将整型变为float\n",
    "scaler = MinMaxScaler(feature_range=(0, 1)) # 数据处理，归一化至0~1之间\n",
    "train1 = scaler.fit_transform(train1)\n",
    "\n",
    "test1 = test1.values\n",
    "test1 = test1.astype('float32')     # 将整型变为float\n",
    "scaler = MinMaxScaler(feature_range=(0, 1)) # 数据处理，归一化至0~1之间\n",
    "test1 = scaler.fit_transform(test1)\n",
    "\n",
    "inds = np.arange(train1.shape[0])\n",
    "train1_inds = inds[0:int(train1.shape[0]*0.8)]\n",
    "eval1_inds = inds[int(train1.shape[0]*0.8):train1.shape[0]]\n",
    "\n",
    "\n",
    "train_X, train_y = train1[train1_inds,:-1], train1[train1_inds,-1:]\n",
    "eval_X,eval_y = train1[eval1_inds,:-1], train1[eval1_inds,-1:]\n",
    "test_X, test_y = test1[:, :-1], test1[:,-1:]\n",
    "\n",
    "# reshape input to be 3D [samples, timesteps, features]\n",
    "train_Xl = train_X.reshape((train_X.shape[0], 1, train_X.shape[1]))\n",
    "eval_Xl = eval_X.reshape((eval_X.shape[0],1,eval_X.shape[1]))\n",
    "test_Xl = test_X.reshape((test_X.shape[0], 1, test_X.shape[1]))\n",
    "print(train_X.shape, train_y.shape,eval_X.shape,eval_y.shape, test_X.shape, test_y.shape)\n",
    "print(train_Xl.shape, train_y.shape,eval_Xl.shape,eval_y.shape, test_Xl.shape, test_y.shape)"
   ]
  },
  {
   "cell_type": "code",
   "execution_count": 30,
   "metadata": {},
   "outputs": [
    {
     "data": {
      "text/plain": [
       "array([[0.00435867],\n",
       "       [0.00435867],\n",
       "       [0.00438782],\n",
       "       ...,\n",
       "       [0.00443155],\n",
       "       [0.00450444],\n",
       "       [0.00450444]], dtype=float32)"
      ]
     },
     "execution_count": 30,
     "metadata": {},
     "output_type": "execute_result"
    }
   ],
   "source": [
    "test_y"
   ]
  },
  {
   "cell_type": "code",
   "execution_count": 31,
   "metadata": {
    "scrolled": true
   },
   "outputs": [
    {
     "name": "stdout",
     "output_type": "stream",
     "text": [
      "[[0.         0.         0.         ... 0.00150637 0.00402196 0.00404842]\n",
      " [0.         0.         0.         ... 0.00157322 0.00402196 0.00398227]\n",
      " [0.         0.         0.         ... 0.00213884 0.00404842 0.00394258]\n",
      " ...\n",
      " [1.         1.0000001  0.95652175 ... 0.00177943 0.00402196 0.0040815 ]\n",
      " [1.         1.0000001  0.95652175 ... 0.00142781 0.00395582 0.00406165]\n",
      " [1.         1.0000001  0.95652175 ... 0.00135066 0.00402196 0.00402196]]\n"
     ]
    }
   ],
   "source": [
    "print(train1)"
   ]
  },
  {
   "cell_type": "code",
   "execution_count": 32,
   "metadata": {},
   "outputs": [
    {
     "name": "stdout",
     "output_type": "stream",
     "text": [
      "[[0.         0.         0.         ... 0.00171983 0.00150637 0.00402196]\n",
      " [0.         0.         0.         ... 0.00174007 0.00157322 0.00402196]\n",
      " [0.         0.         0.         ... 0.00193964 0.00213884 0.00404842]\n",
      " ...\n",
      " [0.36363637 0.8666667  0.17391305 ... 0.0010019  0.00143183 0.00394258]\n",
      " [0.36363637 0.8666667  0.17391305 ... 0.0009821  0.00158448 0.00388966]\n",
      " [0.36363637 0.8666667  0.17391305 ... 0.00102188 0.0014125  0.00394258]]\n"
     ]
    }
   ],
   "source": [
    "print(train_X)"
   ]
  },
  {
   "cell_type": "code",
   "execution_count": 33,
   "metadata": {},
   "outputs": [
    {
     "name": "stdout",
     "output_type": "stream",
     "text": [
      "[[0.00404842]\n",
      " [0.00398227]\n",
      " [0.00394258]\n",
      " ...\n",
      " [0.00396904]\n",
      " [0.0039955 ]\n",
      " [0.00416749]]\n"
     ]
    }
   ],
   "source": [
    "print(train_y)"
   ]
  },
  {
   "cell_type": "code",
   "execution_count": 34,
   "metadata": {},
   "outputs": [
    {
     "name": "stdout",
     "output_type": "stream",
     "text": [
      "(251864, 11) (251864, 1) (102876, 11) (102876, 1)\n"
     ]
    }
   ],
   "source": [
    "print(train_X.shape,train_y.shape,test_X.shape,test_y.shape)"
   ]
  },
  {
   "cell_type": "markdown",
   "metadata": {},
   "source": [
    "# SVM model"
   ]
  },
  {
   "cell_type": "code",
   "execution_count": 35,
   "metadata": {},
   "outputs": [],
   "source": [
    "# model=svm.SVR(C=1, cache_size=200, coef0=0.0, degree=5, epsilon=0.1, gamma='auto',\n",
    "#   kernel='rbf', max_iter=-1, shrinking=True, tol=0.0001, verbose=False)\n",
    "# model.fit(train_X, train_y)"
   ]
  },
  {
   "cell_type": "code",
   "execution_count": 36,
   "metadata": {},
   "outputs": [],
   "source": [
    "# #模型保存\n",
    "# modelsvm = model\n",
    "# joblib.dump(modelsvm, \"../logs/modelsvm.m\")"
   ]
  },
  {
   "cell_type": "code",
   "execution_count": 37,
   "metadata": {},
   "outputs": [],
   "source": [
    "# #模型读取\n",
    "# clf = joblib.load(\"train_model.m\")\n",
    "# clf.predit([0,0]) #此处test_X为特征集"
   ]
  },
  {
   "cell_type": "code",
   "execution_count": 38,
   "metadata": {},
   "outputs": [],
   "source": [
    "# testPredictSVM=modelsvm.predict(test_X)\n",
    "# print(testPredictSVM.shape())\n",
    "# testPredictSVM=testPredictSVM[:, np.newaxis]\n",
    "# print(testPredictSVM.shape())"
   ]
  },
  {
   "cell_type": "markdown",
   "metadata": {},
   "source": [
    "# BP model"
   ]
  },
  {
   "cell_type": "code",
   "execution_count": 39,
   "metadata": {},
   "outputs": [
    {
     "name": "stderr",
     "output_type": "stream",
     "text": [
      "C:\\ProgramData\\Anaconda3\\lib\\site-packages\\ipykernel_launcher.py:2: UserWarning: Update your `Dense` call to the Keras 2 API: `Dense(64, input_shape=(11,), activation=\"sigmoid\", kernel_initializer=\"uniform\")`\n",
      "  \n"
     ]
    },
    {
     "name": "stdout",
     "output_type": "stream",
     "text": [
      "Train on 251864 samples, validate on 62967 samples\n",
      "Epoch 1/100\n",
      "251864/251864 [==============================] - 2s - loss: 0.1894 - mean_absolute_error: 0.1894 - val_loss: 0.1471 - val_mean_absolute_error: 0.1471\n",
      "Epoch 2/100\n",
      "251864/251864 [==============================] - 1s - loss: 0.1034 - mean_absolute_error: 0.1034 - val_loss: 0.0801 - val_mean_absolute_error: 0.0801\n",
      "Epoch 3/100\n",
      "251864/251864 [==============================] - 1s - loss: 0.0738 - mean_absolute_error: 0.0738 - val_loss: 0.0680 - val_mean_absolute_error: 0.0680\n",
      "Epoch 4/100\n",
      "251864/251864 [==============================] - 1s - loss: 0.0699 - mean_absolute_error: 0.0699 - val_loss: 0.0637 - val_mean_absolute_error: 0.0637\n",
      "Epoch 5/100\n",
      "251864/251864 [==============================] - 2s - loss: 0.0688 - mean_absolute_error: 0.0688 - val_loss: 0.0626 - val_mean_absolute_error: 0.0626\n",
      "Epoch 6/100\n",
      "251864/251864 [==============================] - 2s - loss: 0.0682 - mean_absolute_error: 0.0682 - val_loss: 0.0612 - val_mean_absolute_error: 0.0612\n",
      "Epoch 7/100\n",
      "251864/251864 [==============================] - 1s - loss: 0.0677 - mean_absolute_error: 0.0677 - val_loss: 0.0615 - val_mean_absolute_error: 0.0615\n",
      "Epoch 8/100\n",
      "251864/251864 [==============================] - 1s - loss: 0.0672 - mean_absolute_error: 0.0672 - val_loss: 0.0613 - val_mean_absolute_error: 0.0613\n",
      "Epoch 9/100\n",
      "251864/251864 [==============================] - 2s - loss: 0.0665 - mean_absolute_error: 0.0665 - val_loss: 0.0603 - val_mean_absolute_error: 0.0603\n",
      "Epoch 10/100\n",
      "251864/251864 [==============================] - 1s - loss: 0.0654 - mean_absolute_error: 0.0654 - val_loss: 0.0591 - val_mean_absolute_error: 0.0591\n",
      "Epoch 11/100\n",
      "251864/251864 [==============================] - 1s - loss: 0.0638 - mean_absolute_error: 0.0638 - val_loss: 0.0567 - val_mean_absolute_error: 0.0567\n",
      "Epoch 12/100\n",
      "251864/251864 [==============================] - 1s - loss: 0.0615 - mean_absolute_error: 0.0615 - val_loss: 0.0538 - val_mean_absolute_error: 0.0538\n",
      "Epoch 13/100\n",
      "251864/251864 [==============================] - 1s - loss: 0.0587 - mean_absolute_error: 0.0587 - val_loss: 0.0513 - val_mean_absolute_error: 0.0513\n",
      "Epoch 14/100\n",
      "251864/251864 [==============================] - 1s - loss: 0.0556 - mean_absolute_error: 0.0556 - val_loss: 0.0481 - val_mean_absolute_error: 0.0481\n",
      "Epoch 15/100\n",
      "251864/251864 [==============================] - 1s - loss: 0.0524 - mean_absolute_error: 0.0524 - val_loss: 0.0449 - val_mean_absolute_error: 0.0449\n",
      "Epoch 16/100\n",
      "251864/251864 [==============================] - 1s - loss: 0.0493 - mean_absolute_error: 0.0493 - val_loss: 0.0419 - val_mean_absolute_error: 0.0419\n",
      "Epoch 17/100\n",
      "251864/251864 [==============================] - 1s - loss: 0.0466 - mean_absolute_error: 0.0466 - val_loss: 0.0392 - val_mean_absolute_error: 0.0392\n",
      "Epoch 18/100\n",
      "251864/251864 [==============================] - 1s - loss: 0.0444 - mean_absolute_error: 0.0444 - val_loss: 0.0368 - val_mean_absolute_error: 0.0368\n",
      "Epoch 19/100\n",
      "251864/251864 [==============================] - 1s - loss: 0.0426 - mean_absolute_error: 0.0426 - val_loss: 0.0351 - val_mean_absolute_error: 0.0351\n",
      "Epoch 20/100\n",
      "251864/251864 [==============================] - 1s - loss: 0.0412 - mean_absolute_error: 0.0412 - val_loss: 0.0336 - val_mean_absolute_error: 0.0336\n",
      "Epoch 21/100\n",
      "251864/251864 [==============================] - 1s - loss: 0.0401 - mean_absolute_error: 0.0401 - val_loss: 0.0330 - val_mean_absolute_error: 0.0330\n",
      "Epoch 22/100\n",
      "251864/251864 [==============================] - 1s - loss: 0.0391 - mean_absolute_error: 0.0391 - val_loss: 0.0309 - val_mean_absolute_error: 0.0309\n",
      "Epoch 23/100\n",
      "251864/251864 [==============================] - 1s - loss: 0.0384 - mean_absolute_error: 0.0384 - val_loss: 0.0306 - val_mean_absolute_error: 0.0306\n",
      "Epoch 24/100\n",
      "251864/251864 [==============================] - 1s - loss: 0.0377 - mean_absolute_error: 0.0377 - val_loss: 0.0298 - val_mean_absolute_error: 0.0298\n",
      "Epoch 25/100\n",
      "251864/251864 [==============================] - 1s - loss: 0.0370 - mean_absolute_error: 0.0370 - val_loss: 0.0285 - val_mean_absolute_error: 0.0285\n",
      "Epoch 26/100\n",
      "251864/251864 [==============================] - 1s - loss: 0.0364 - mean_absolute_error: 0.0364 - val_loss: 0.0288 - val_mean_absolute_error: 0.0288\n",
      "Epoch 27/100\n",
      "251864/251864 [==============================] - 1s - loss: 0.0359 - mean_absolute_error: 0.0359 - val_loss: 0.0276 - val_mean_absolute_error: 0.0276\n",
      "Epoch 28/100\n",
      "251864/251864 [==============================] - 1s - loss: 0.0354 - mean_absolute_error: 0.0354 - val_loss: 0.0273 - val_mean_absolute_error: 0.0273\n",
      "Epoch 29/100\n",
      "251864/251864 [==============================] - 1s - loss: 0.0349 - mean_absolute_error: 0.0349 - val_loss: 0.0266 - val_mean_absolute_error: 0.0266\n",
      "Epoch 30/100\n",
      "251864/251864 [==============================] - 1s - loss: 0.0345 - mean_absolute_error: 0.0345 - val_loss: 0.0264 - val_mean_absolute_error: 0.0264\n",
      "Epoch 31/100\n",
      "251864/251864 [==============================] - 1s - loss: 0.0342 - mean_absolute_error: 0.0342 - val_loss: 0.0257 - val_mean_absolute_error: 0.0257\n",
      "Epoch 32/100\n",
      "251864/251864 [==============================] - 1s - loss: 0.0338 - mean_absolute_error: 0.0338 - val_loss: 0.0255 - val_mean_absolute_error: 0.0255\n",
      "Epoch 33/100\n",
      "251864/251864 [==============================] - 1s - loss: 0.0335 - mean_absolute_error: 0.0335 - val_loss: 0.0255 - val_mean_absolute_error: 0.0255\n",
      "Epoch 34/100\n",
      "251864/251864 [==============================] - 1s - loss: 0.0333 - mean_absolute_error: 0.0333 - val_loss: 0.0249 - val_mean_absolute_error: 0.0249\n",
      "Epoch 35/100\n",
      "251864/251864 [==============================] - 1s - loss: 0.0330 - mean_absolute_error: 0.0330 - val_loss: 0.0255 - val_mean_absolute_error: 0.0255\n",
      "Epoch 36/100\n",
      "251864/251864 [==============================] - 2s - loss: 0.0328 - mean_absolute_error: 0.0328 - val_loss: 0.0249 - val_mean_absolute_error: 0.0249\n",
      "Epoch 37/100\n",
      "251864/251864 [==============================] - 2s - loss: 0.0326 - mean_absolute_error: 0.0326 - val_loss: 0.0250 - val_mean_absolute_error: 0.0250\n",
      "Epoch 38/100\n",
      "251864/251864 [==============================] - 2s - loss: 0.0325 - mean_absolute_error: 0.0325 - val_loss: 0.0243 - val_mean_absolute_error: 0.0243\n",
      "Epoch 39/100\n",
      "251864/251864 [==============================] - 2s - loss: 0.0323 - mean_absolute_error: 0.0323 - val_loss: 0.0242 - val_mean_absolute_error: 0.0242\n",
      "Epoch 40/100\n",
      "251864/251864 [==============================] - 2s - loss: 0.0322 - mean_absolute_error: 0.0322 - val_loss: 0.0246 - val_mean_absolute_error: 0.0246\n",
      "Epoch 41/100\n",
      "251864/251864 [==============================] - 2s - loss: 0.0321 - mean_absolute_error: 0.0321 - val_loss: 0.0242 - val_mean_absolute_error: 0.0242\n",
      "Epoch 42/100\n",
      "251864/251864 [==============================] - 2s - loss: 0.0319 - mean_absolute_error: 0.0319 - val_loss: 0.0243 - val_mean_absolute_error: 0.0243\n",
      "Epoch 43/100\n",
      "251864/251864 [==============================] - 2s - loss: 0.0318 - mean_absolute_error: 0.0318 - val_loss: 0.0238 - val_mean_absolute_error: 0.0238\n",
      "Epoch 44/100\n",
      "251864/251864 [==============================] - 2s - loss: 0.0317 - mean_absolute_error: 0.0317 - val_loss: 0.0237 - val_mean_absolute_error: 0.0237\n",
      "Epoch 45/100\n",
      "251864/251864 [==============================] - 1s - loss: 0.0317 - mean_absolute_error: 0.0317 - val_loss: 0.0243 - val_mean_absolute_error: 0.0243\n",
      "Epoch 46/100\n",
      "251864/251864 [==============================] - 1s - loss: 0.0316 - mean_absolute_error: 0.0316 - val_loss: 0.0236 - val_mean_absolute_error: 0.0236\n",
      "Epoch 47/100\n",
      "251864/251864 [==============================] - 1s - loss: 0.0315 - mean_absolute_error: 0.0315 - val_loss: 0.0236 - val_mean_absolute_error: 0.0236\n",
      "Epoch 48/100\n",
      "251864/251864 [==============================] - 1s - loss: 0.0314 - mean_absolute_error: 0.0314 - val_loss: 0.0235 - val_mean_absolute_error: 0.0235\n",
      "Epoch 49/100\n",
      "251864/251864 [==============================] - 1s - loss: 0.0314 - mean_absolute_error: 0.0314 - val_loss: 0.0242 - val_mean_absolute_error: 0.0242\n",
      "Epoch 50/100\n",
      "251864/251864 [==============================] - 1s - loss: 0.0313 - mean_absolute_error: 0.0313 - val_loss: 0.0235 - val_mean_absolute_error: 0.0235\n",
      "Epoch 51/100\n"
     ]
    },
    {
     "name": "stdout",
     "output_type": "stream",
     "text": [
      "251864/251864 [==============================] - 1s - loss: 0.0313 - mean_absolute_error: 0.0313 - val_loss: 0.0245 - val_mean_absolute_error: 0.0245\n",
      "Epoch 52/100\n",
      "251864/251864 [==============================] - 1s - loss: 0.0312 - mean_absolute_error: 0.0312 - val_loss: 0.0246 - val_mean_absolute_error: 0.0246\n",
      "Epoch 53/100\n",
      "251864/251864 [==============================] - 1s - loss: 0.0311 - mean_absolute_error: 0.0311 - val_loss: 0.0235 - val_mean_absolute_error: 0.0235\n",
      "Epoch 54/100\n",
      "251864/251864 [==============================] - 1s - loss: 0.0311 - mean_absolute_error: 0.0311 - val_loss: 0.0237 - val_mean_absolute_error: 0.0237\n",
      "Epoch 55/100\n",
      "251864/251864 [==============================] - 1s - loss: 0.0311 - mean_absolute_error: 0.0311 - val_loss: 0.0242 - val_mean_absolute_error: 0.0242\n",
      "Epoch 56/100\n",
      "251864/251864 [==============================] - 1s - loss: 0.0310 - mean_absolute_error: 0.0310 - val_loss: 0.0241 - val_mean_absolute_error: 0.0241\n",
      "Epoch 57/100\n",
      "251864/251864 [==============================] - 1s - loss: 0.0310 - mean_absolute_error: 0.0310 - val_loss: 0.0233 - val_mean_absolute_error: 0.0233\n",
      "Epoch 58/100\n",
      "251864/251864 [==============================] - 1s - loss: 0.0309 - mean_absolute_error: 0.0309 - val_loss: 0.0241 - val_mean_absolute_error: 0.0241\n",
      "Epoch 59/100\n",
      "251864/251864 [==============================] - 1s - loss: 0.0309 - mean_absolute_error: 0.0309 - val_loss: 0.0232 - val_mean_absolute_error: 0.0232\n",
      "Epoch 60/100\n",
      "251864/251864 [==============================] - 1s - loss: 0.0309 - mean_absolute_error: 0.0309 - val_loss: 0.0232 - val_mean_absolute_error: 0.0232\n",
      "Epoch 61/100\n",
      "251864/251864 [==============================] - 1s - loss: 0.0308 - mean_absolute_error: 0.0308 - val_loss: 0.0233 - val_mean_absolute_error: 0.0233\n",
      "Epoch 62/100\n",
      "251864/251864 [==============================] - 1s - loss: 0.0308 - mean_absolute_error: 0.0308 - val_loss: 0.0234 - val_mean_absolute_error: 0.0234\n",
      "Epoch 63/100\n",
      "251864/251864 [==============================] - 1s - loss: 0.0308 - mean_absolute_error: 0.0308 - val_loss: 0.0235 - val_mean_absolute_error: 0.0235\n",
      "Epoch 64/100\n",
      "251864/251864 [==============================] - 1s - loss: 0.0307 - mean_absolute_error: 0.0307 - val_loss: 0.0233 - val_mean_absolute_error: 0.0233\n",
      "Epoch 65/100\n",
      "251864/251864 [==============================] - 1s - loss: 0.0307 - mean_absolute_error: 0.0307 - val_loss: 0.0246 - val_mean_absolute_error: 0.0246\n",
      "Epoch 66/100\n",
      "251864/251864 [==============================] - 1s - loss: 0.0307 - mean_absolute_error: 0.0307 - val_loss: 0.0240 - val_mean_absolute_error: 0.0240\n",
      "Epoch 67/100\n",
      "251864/251864 [==============================] - 1s - loss: 0.0306 - mean_absolute_error: 0.0306 - val_loss: 0.0234 - val_mean_absolute_error: 0.0234\n",
      "Epoch 68/100\n",
      "251864/251864 [==============================] - 1s - loss: 0.0306 - mean_absolute_error: 0.0306 - val_loss: 0.0231 - val_mean_absolute_error: 0.0231\n",
      "Epoch 69/100\n",
      "251864/251864 [==============================] - 1s - loss: 0.0306 - mean_absolute_error: 0.0306 - val_loss: 0.0236 - val_mean_absolute_error: 0.0236\n",
      "Epoch 70/100\n",
      "251864/251864 [==============================] - 1s - loss: 0.0306 - mean_absolute_error: 0.0306 - val_loss: 0.0230 - val_mean_absolute_error: 0.0230\n",
      "Epoch 71/100\n",
      "251864/251864 [==============================] - 1s - loss: 0.0305 - mean_absolute_error: 0.0305 - val_loss: 0.0231 - val_mean_absolute_error: 0.0231\n",
      "Epoch 72/100\n",
      "251864/251864 [==============================] - 1s - loss: 0.0305 - mean_absolute_error: 0.0305 - val_loss: 0.0244 - val_mean_absolute_error: 0.0244\n",
      "Epoch 73/100\n",
      "251864/251864 [==============================] - 1s - loss: 0.0305 - mean_absolute_error: 0.0305 - val_loss: 0.0240 - val_mean_absolute_error: 0.0240\n",
      "Epoch 74/100\n",
      "251864/251864 [==============================] - 1s - loss: 0.0305 - mean_absolute_error: 0.0305 - val_loss: 0.0241 - val_mean_absolute_error: 0.0241\n",
      "Epoch 75/100\n",
      "251864/251864 [==============================] - 1s - loss: 0.0304 - mean_absolute_error: 0.0304 - val_loss: 0.0230 - val_mean_absolute_error: 0.0230\n",
      "Epoch 76/100\n",
      "251864/251864 [==============================] - 1s - loss: 0.0304 - mean_absolute_error: 0.0304 - val_loss: 0.0230 - val_mean_absolute_error: 0.0230\n",
      "Epoch 77/100\n",
      "251864/251864 [==============================] - 1s - loss: 0.0304 - mean_absolute_error: 0.0304 - val_loss: 0.0230 - val_mean_absolute_error: 0.0230\n",
      "Epoch 78/100\n",
      "251864/251864 [==============================] - 2s - loss: 0.0304 - mean_absolute_error: 0.0304 - val_loss: 0.0231 - val_mean_absolute_error: 0.0231\n",
      "Epoch 79/100\n",
      "251864/251864 [==============================] - 1s - loss: 0.0303 - mean_absolute_error: 0.0303 - val_loss: 0.0230 - val_mean_absolute_error: 0.0230\n",
      "Epoch 80/100\n",
      "251864/251864 [==============================] - 1s - loss: 0.0303 - mean_absolute_error: 0.0303 - val_loss: 0.0237 - val_mean_absolute_error: 0.0237\n",
      "Epoch 81/100\n",
      "251864/251864 [==============================] - 2s - loss: 0.0303 - mean_absolute_error: 0.0303 - val_loss: 0.0234 - val_mean_absolute_error: 0.0234\n",
      "Epoch 82/100\n",
      "251864/251864 [==============================] - 1s - loss: 0.0303 - mean_absolute_error: 0.0303 - val_loss: 0.0232 - val_mean_absolute_error: 0.0232\n",
      "Epoch 83/100\n",
      "251864/251864 [==============================] - 1s - loss: 0.0302 - mean_absolute_error: 0.0302 - val_loss: 0.0229 - val_mean_absolute_error: 0.0229\n",
      "Epoch 84/100\n",
      "251864/251864 [==============================] - 1s - loss: 0.0302 - mean_absolute_error: 0.0302 - val_loss: 0.0234 - val_mean_absolute_error: 0.0234\n",
      "Epoch 85/100\n",
      "251864/251864 [==============================] - 1s - loss: 0.0302 - mean_absolute_error: 0.0302 - val_loss: 0.0229 - val_mean_absolute_error: 0.0229\n",
      "Epoch 86/100\n",
      "251864/251864 [==============================] - 1s - loss: 0.0302 - mean_absolute_error: 0.0302 - val_loss: 0.0235 - val_mean_absolute_error: 0.0235\n",
      "Epoch 87/100\n",
      "251864/251864 [==============================] - 1s - loss: 0.0301 - mean_absolute_error: 0.0301 - val_loss: 0.0234 - val_mean_absolute_error: 0.0234\n",
      "Epoch 88/100\n",
      "251864/251864 [==============================] - 1s - loss: 0.0301 - mean_absolute_error: 0.0301 - val_loss: 0.0228 - val_mean_absolute_error: 0.0228\n",
      "Epoch 89/100\n",
      "251864/251864 [==============================] - 1s - loss: 0.0301 - mean_absolute_error: 0.0301 - val_loss: 0.0229 - val_mean_absolute_error: 0.0229\n",
      "Epoch 90/100\n",
      "251864/251864 [==============================] - 1s - loss: 0.0301 - mean_absolute_error: 0.0301 - val_loss: 0.0232 - val_mean_absolute_error: 0.0232\n",
      "Epoch 91/100\n",
      "251864/251864 [==============================] - 1s - loss: 0.0300 - mean_absolute_error: 0.0300 - val_loss: 0.0229 - val_mean_absolute_error: 0.0229\n",
      "Epoch 92/100\n",
      "251864/251864 [==============================] - 1s - loss: 0.0300 - mean_absolute_error: 0.0300 - val_loss: 0.0228 - val_mean_absolute_error: 0.0228\n",
      "Epoch 93/100\n",
      "251864/251864 [==============================] - 1s - loss: 0.0300 - mean_absolute_error: 0.0300 - val_loss: 0.0231 - val_mean_absolute_error: 0.0231\n",
      "Epoch 94/100\n",
      "251864/251864 [==============================] - 1s - loss: 0.0299 - mean_absolute_error: 0.0299 - val_loss: 0.0236 - val_mean_absolute_error: 0.0236\n",
      "Epoch 95/100\n",
      "251864/251864 [==============================] - 1s - loss: 0.0299 - mean_absolute_error: 0.0299 - val_loss: 0.0230 - val_mean_absolute_error: 0.0230\n",
      "Epoch 96/100\n",
      "251864/251864 [==============================] - 1s - loss: 0.0299 - mean_absolute_error: 0.0299 - val_loss: 0.0234 - val_mean_absolute_error: 0.0234\n",
      "Epoch 97/100\n",
      "251864/251864 [==============================] - 1s - loss: 0.0299 - mean_absolute_error: 0.0299 - val_loss: 0.0229 - val_mean_absolute_error: 0.0229\n",
      "Epoch 98/100\n",
      "251864/251864 [==============================] - 1s - loss: 0.0298 - mean_absolute_error: 0.0298 - val_loss: 0.0226 - val_mean_absolute_error: 0.0226\n",
      "Epoch 99/100\n",
      "251864/251864 [==============================] - 1s - loss: 0.0298 - mean_absolute_error: 0.0298 - val_loss: 0.0231 - val_mean_absolute_error: 0.0231\n",
      "Epoch 100/100\n",
      "251864/251864 [==============================] - 1s - loss: 0.0298 - mean_absolute_error: 0.0298 - val_loss: 0.0226 - val_mean_absolute_error: 0.0226\n",
      "102304/102876 [============================>.] - ETA: 0s"
     ]
    },
    {
     "data": {
      "text/plain": [
       "[0.026414444278617135, 0.026414444278617135]"
      ]
     },
     "execution_count": 39,
     "metadata": {},
     "output_type": "execute_result"
    }
   ],
   "source": [
    "model=Sequential() #初始化模型\n",
    "model.add(Dense(64,input_shape = (train_X.shape[1],),activation='sigmoid',init='uniform')) #添加一个隐含层，注：只是第一个隐含层需指定input_dim\n",
    "model.add(Dense(1,activation='sigmoid')) #添加输出层\n",
    "model.compile(loss='mean_absolute_error', optimizer='rmsprop', metrics=['mae'])  # 编译，指定目标函数与优化方法\n",
    "# model4.fit(train_X,train_y ) # 模型训练\n",
    "history=model.fit(x = train_X,y = train_y, validation_data = (eval_X,eval_y), epochs=100, batch_size=1000)\n",
    "model.evaluate(test_X,test_y) #模型测试"
   ]
  },
  {
   "cell_type": "code",
   "execution_count": 40,
   "metadata": {},
   "outputs": [],
   "source": [
    "#模型保存\n",
    "modelbp = model\n",
    "modelbp.save('../logs/BP0702.h5')  "
   ]
  },
  {
   "cell_type": "code",
   "execution_count": 41,
   "metadata": {},
   "outputs": [],
   "source": [
    "# #模型加载\n",
    "# modelbp = load_model('../logs/modelbp.h5') "
   ]
  },
  {
   "cell_type": "code",
   "execution_count": 42,
   "metadata": {},
   "outputs": [
    {
     "data": {
      "image/png": "[encoded data removed]",
      "text/plain": [
       "<Figure size 432x288 with 1 Axes>"
      ]
     },
     "metadata": {},
     "output_type": "display_data"
    }
   ],
   "source": [
    "plt.plot(history.history['loss'], label='train')\n",
    "plt.plot(history.history['val_loss'], label='eval')\n",
    "plt.legend()\n",
    "plt.show()"
   ]
  },
  {
   "cell_type": "markdown",
   "metadata": {},
   "source": [
    "# DNN model"
   ]
  },
  {
   "cell_type": "code",
   "execution_count": 173,
   "metadata": {
    "scrolled": false
   },
   "outputs": [
    {
     "name": "stdout",
     "output_type": "stream",
     "text": [
      "Train on 251864 samples, validate on 62967 samples\n",
      "Epoch 1/200\n",
      "251864/251864 [==============================] - 3s - loss: 0.2040 - mean_absolute_error: 0.2040 - val_loss: 0.1931 - val_mean_absolute_error: 0.1931\n",
      "Epoch 2/200\n",
      "251864/251864 [==============================] - 2s - loss: 0.1436 - mean_absolute_error: 0.1436 - val_loss: 0.0715 - val_mean_absolute_error: 0.0715\n",
      "Epoch 3/200\n",
      "251864/251864 [==============================] - 2s - loss: 0.0659 - mean_absolute_error: 0.0659 - val_loss: 0.0554 - val_mean_absolute_error: 0.0554\n",
      "Epoch 4/200\n",
      "251864/251864 [==============================] - 2s - loss: 0.0601 - mean_absolute_error: 0.0601 - val_loss: 0.0513 - val_mean_absolute_error: 0.0513\n",
      "Epoch 5/200\n",
      "251864/251864 [==============================] - 2s - loss: 0.0592 - mean_absolute_error: 0.0592 - val_loss: 0.0510 - val_mean_absolute_error: 0.0510\n",
      "Epoch 6/200\n",
      "251864/251864 [==============================] - 2s - loss: 0.0584 - mean_absolute_error: 0.0584 - val_loss: 0.0497 - val_mean_absolute_error: 0.0497\n",
      "Epoch 7/200\n",
      "251864/251864 [==============================] - 2s - loss: 0.0574 - mean_absolute_error: 0.0574 - val_loss: 0.0485 - val_mean_absolute_error: 0.0485\n",
      "Epoch 8/200\n",
      "251864/251864 [==============================] - 2s - loss: 0.0555 - mean_absolute_error: 0.0555 - val_loss: 0.0453 - val_mean_absolute_error: 0.0453\n",
      "Epoch 9/200\n",
      "251864/251864 [==============================] - 2s - loss: 0.0513 - mean_absolute_error: 0.0513 - val_loss: 0.0428 - val_mean_absolute_error: 0.0428\n",
      "Epoch 10/200\n",
      "251864/251864 [==============================] - 2s - loss: 0.0461 - mean_absolute_error: 0.0461 - val_loss: 0.0349 - val_mean_absolute_error: 0.0349\n",
      "Epoch 11/200\n",
      "251864/251864 [==============================] - 2s - loss: 0.0422 - mean_absolute_error: 0.0422 - val_loss: 0.0332 - val_mean_absolute_error: 0.0332\n",
      "Epoch 12/200\n",
      "251864/251864 [==============================] - 2s - loss: 0.0391 - mean_absolute_error: 0.0391 - val_loss: 0.0350 - val_mean_absolute_error: 0.0350\n",
      "Epoch 13/200\n",
      "251864/251864 [==============================] - 2s - loss: 0.0366 - mean_absolute_error: 0.0366 - val_loss: 0.0283 - val_mean_absolute_error: 0.0283\n",
      "Epoch 14/200\n",
      "251864/251864 [==============================] - 2s - loss: 0.0349 - mean_absolute_error: 0.0349 - val_loss: 0.0323 - val_mean_absolute_error: 0.0323\n",
      "Epoch 15/200\n",
      "251864/251864 [==============================] - 2s - loss: 0.0339 - mean_absolute_error: 0.0339 - val_loss: 0.0264 - val_mean_absolute_error: 0.0264\n",
      "Epoch 16/200\n",
      "251864/251864 [==============================] - 2s - loss: 0.0334 - mean_absolute_error: 0.0334 - val_loss: 0.0256 - val_mean_absolute_error: 0.0256\n",
      "Epoch 17/200\n",
      "251864/251864 [==============================] - 2s - loss: 0.0330 - mean_absolute_error: 0.0330 - val_loss: 0.0256 - val_mean_absolute_error: 0.0256\n",
      "Epoch 18/200\n",
      "251864/251864 [==============================] - 2s - loss: 0.0326 - mean_absolute_error: 0.0326 - val_loss: 0.0289 - val_mean_absolute_error: 0.0289\n",
      "Epoch 19/200\n",
      "251864/251864 [==============================] - 2s - loss: 0.0324 - mean_absolute_error: 0.0324 - val_loss: 0.0290 - val_mean_absolute_error: 0.0290\n",
      "Epoch 20/200\n",
      "251864/251864 [==============================] - 2s - loss: 0.0322 - mean_absolute_error: 0.0322 - val_loss: 0.0273 - val_mean_absolute_error: 0.0273\n",
      "Epoch 21/200\n",
      "251864/251864 [==============================] - 2s - loss: 0.0320 - mean_absolute_error: 0.0320 - val_loss: 0.0259 - val_mean_absolute_error: 0.0259\n",
      "Epoch 22/200\n",
      "251864/251864 [==============================] - 2s - loss: 0.0319 - mean_absolute_error: 0.0319 - val_loss: 0.0238 - val_mean_absolute_error: 0.0238\n",
      "Epoch 23/200\n",
      "251864/251864 [==============================] - 2s - loss: 0.0318 - mean_absolute_error: 0.0318 - val_loss: 0.0255 - val_mean_absolute_error: 0.0255\n",
      "Epoch 24/200\n",
      "251864/251864 [==============================] - 2s - loss: 0.0316 - mean_absolute_error: 0.0316 - val_loss: 0.0276 - val_mean_absolute_error: 0.0276\n",
      "Epoch 25/200\n",
      "251864/251864 [==============================] - 2s - loss: 0.0315 - mean_absolute_error: 0.0315 - val_loss: 0.0261 - val_mean_absolute_error: 0.0261\n",
      "Epoch 26/200\n",
      "251864/251864 [==============================] - 2s - loss: 0.0314 - mean_absolute_error: 0.0314 - val_loss: 0.0232 - val_mean_absolute_error: 0.0232\n",
      "Epoch 27/200\n",
      "251864/251864 [==============================] - 2s - loss: 0.0314 - mean_absolute_error: 0.0314 - val_loss: 0.0231 - val_mean_absolute_error: 0.0231\n",
      "Epoch 28/200\n",
      "251864/251864 [==============================] - 2s - loss: 0.0312 - mean_absolute_error: 0.0312 - val_loss: 0.0248 - val_mean_absolute_error: 0.0248\n",
      "Epoch 29/200\n",
      "251864/251864 [==============================] - 2s - loss: 0.0311 - mean_absolute_error: 0.0311 - val_loss: 0.0261 - val_mean_absolute_error: 0.0261\n",
      "Epoch 30/200\n",
      "251864/251864 [==============================] - 2s - loss: 0.0310 - mean_absolute_error: 0.0310 - val_loss: 0.0258 - val_mean_absolute_error: 0.0258\n",
      "Epoch 31/200\n",
      "251864/251864 [==============================] - 2s - loss: 0.0309 - mean_absolute_error: 0.0309 - val_loss: 0.0248 - val_mean_absolute_error: 0.0248\n",
      "Epoch 32/200\n",
      "251864/251864 [==============================] - 2s - loss: 0.0308 - mean_absolute_error: 0.0308 - val_loss: 0.0267 - val_mean_absolute_error: 0.0267\n",
      "Epoch 33/200\n",
      "251864/251864 [==============================] - 2s - loss: 0.0308 - mean_absolute_error: 0.0308 - val_loss: 0.0248 - val_mean_absolute_error: 0.0248\n",
      "Epoch 34/200\n",
      "251864/251864 [==============================] - 2s - loss: 0.0307 - mean_absolute_error: 0.0307 - val_loss: 0.0257 - val_mean_absolute_error: 0.0257\n",
      "Epoch 35/200\n",
      "251864/251864 [==============================] - 2s - loss: 0.0306 - mean_absolute_error: 0.0306 - val_loss: 0.0261 - val_mean_absolute_error: 0.0261\n",
      "Epoch 36/200\n",
      "251864/251864 [==============================] - 2s - loss: 0.0305 - mean_absolute_error: 0.0305 - val_loss: 0.0229 - val_mean_absolute_error: 0.0229\n",
      "Epoch 37/200\n",
      "251864/251864 [==============================] - 2s - loss: 0.0304 - mean_absolute_error: 0.0304 - val_loss: 0.0257 - val_mean_absolute_error: 0.0257\n",
      "Epoch 38/200\n",
      "251864/251864 [==============================] - 2s - loss: 0.0304 - mean_absolute_error: 0.0304 - val_loss: 0.0230 - val_mean_absolute_error: 0.0230\n",
      "Epoch 39/200\n",
      "251864/251864 [==============================] - 2s - loss: 0.0303 - mean_absolute_error: 0.0303 - val_loss: 0.0225 - val_mean_absolute_error: 0.0225\n",
      "Epoch 40/200\n",
      "251864/251864 [==============================] - 2s - loss: 0.0302 - mean_absolute_error: 0.0302 - val_loss: 0.0220 - val_mean_absolute_error: 0.0220\n",
      "Epoch 41/200\n",
      "251864/251864 [==============================] - 2s - loss: 0.0301 - mean_absolute_error: 0.0301 - val_loss: 0.0245 - val_mean_absolute_error: 0.0245\n",
      "Epoch 42/200\n",
      "251864/251864 [==============================] - 2s - loss: 0.0301 - mean_absolute_error: 0.0301 - val_loss: 0.0243 - val_mean_absolute_error: 0.0243\n",
      "Epoch 43/200\n",
      "251864/251864 [==============================] - 2s - loss: 0.0299 - mean_absolute_error: 0.0299 - val_loss: 0.0225 - val_mean_absolute_error: 0.0225\n",
      "Epoch 44/200\n",
      "251864/251864 [==============================] - 2s - loss: 0.0299 - mean_absolute_error: 0.0299 - val_loss: 0.0271 - val_mean_absolute_error: 0.0271\n",
      "Epoch 45/200\n",
      "251864/251864 [==============================] - 2s - loss: 0.0298 - mean_absolute_error: 0.0298 - val_loss: 0.0220 - val_mean_absolute_error: 0.0220\n",
      "Epoch 46/200\n",
      "251864/251864 [==============================] - 2s - loss: 0.0298 - mean_absolute_error: 0.0298 - val_loss: 0.0216 - val_mean_absolute_error: 0.0216\n",
      "Epoch 47/200\n",
      "251864/251864 [==============================] - 2s - loss: 0.0297 - mean_absolute_error: 0.0297 - val_loss: 0.0223 - val_mean_absolute_error: 0.0223\n",
      "Epoch 48/200\n",
      "251864/251864 [==============================] - 2s - loss: 0.0296 - mean_absolute_error: 0.0296 - val_loss: 0.0259 - val_mean_absolute_error: 0.0259\n",
      "Epoch 49/200\n",
      "251864/251864 [==============================] - 2s - loss: 0.0295 - mean_absolute_error: 0.0295 - val_loss: 0.0232 - val_mean_absolute_error: 0.0232: 1s - loss: 0.0294\n",
      "Epoch 50/200\n",
      "251864/251864 [==============================] - 2s - loss: 0.0295 - mean_absolute_error: 0.0295 - val_loss: 0.0213 - val_mean_absolute_error: 0.0213\n",
      "Epoch 51/200\n",
      "251864/251864 [==============================] - 2s - loss: 0.0294 - mean_absolute_error: 0.0294 - val_loss: 0.0237 - val_mean_absolute_error: 0.0237\n",
      "Epoch 52/200\n",
      "251864/251864 [==============================] - 2s - loss: 0.0293 - mean_absolute_error: 0.0293 - val_loss: 0.0221 - val_mean_absolute_error: 0.0221\n",
      "Epoch 53/200\n",
      "251864/251864 [==============================] - 2s - loss: 0.0293 - mean_absolute_error: 0.0293 - val_loss: 0.0223 - val_mean_absolute_error: 0.0223\n",
      "Epoch 54/200\n",
      "251864/251864 [==============================] - 2s - loss: 0.0292 - mean_absolute_error: 0.0292 - val_loss: 0.0213 - val_mean_absolute_error: 0.0213\n",
      "Epoch 55/200\n",
      "251864/251864 [==============================] - 2s - loss: 0.0291 - mean_absolute_error: 0.0291 - val_loss: 0.0211 - val_mean_absolute_error: 0.0211\n",
      "Epoch 56/200\n",
      "251864/251864 [==============================] - 2s - loss: 0.0291 - mean_absolute_error: 0.0291 - val_loss: 0.0243 - val_mean_absolute_error: 0.0243\n",
      "Epoch 57/200\n",
      "251864/251864 [==============================] - 2s - loss: 0.0290 - mean_absolute_error: 0.0290 - val_loss: 0.0236 - val_mean_absolute_error: 0.0236\n",
      "Epoch 58/200\n",
      "251864/251864 [==============================] - 2s - loss: 0.0289 - mean_absolute_error: 0.0289 - val_loss: 0.0209 - val_mean_absolute_error: 0.0209\n",
      "Epoch 59/200\n",
      "251864/251864 [==============================] - 2s - loss: 0.0288 - mean_absolute_error: 0.0288 - val_loss: 0.0222 - val_mean_absolute_error: 0.0222\n",
      "Epoch 60/200\n",
      "251864/251864 [==============================] - 2s - loss: 0.0287 - mean_absolute_error: 0.0287 - val_loss: 0.0245 - val_mean_absolute_error: 0.0245\n",
      "Epoch 61/200\n",
      "251864/251864 [==============================] - 2s - loss: 0.0287 - mean_absolute_error: 0.0287 - val_loss: 0.0211 - val_mean_absolute_error: 0.0211\n",
      "Epoch 62/200\n",
      "251864/251864 [==============================] - 2s - loss: 0.0286 - mean_absolute_error: 0.0286 - val_loss: 0.0234 - val_mean_absolute_error: 0.0234\n",
      "Epoch 63/200\n",
      "251864/251864 [==============================] - 2s - loss: 0.0286 - mean_absolute_error: 0.0286 - val_loss: 0.0233 - val_mean_absolute_error: 0.0233\n",
      "Epoch 64/200\n",
      "251864/251864 [==============================] - 2s - loss: 0.0285 - mean_absolute_error: 0.0285 - val_loss: 0.0252 - val_mean_absolute_error: 0.0252\n",
      "Epoch 65/200\n",
      "251864/251864 [==============================] - 2s - loss: 0.0284 - mean_absolute_error: 0.0284 - val_loss: 0.0220 - val_mean_absolute_error: 0.0220\n",
      "Epoch 66/200\n",
      "251864/251864 [==============================] - 2s - loss: 0.0284 - mean_absolute_error: 0.0284 - val_loss: 0.0227 - val_mean_absolute_error: 0.0227\n",
      "Epoch 67/200\n",
      "251864/251864 [==============================] - 2s - loss: 0.0283 - mean_absolute_error: 0.0283 - val_loss: 0.0225 - val_mean_absolute_error: 0.0225\n",
      "Epoch 68/200\n",
      "251864/251864 [==============================] - 2s - loss: 0.0282 - mean_absolute_error: 0.0282 - val_loss: 0.0205 - val_mean_absolute_error: 0.0205\n",
      "Epoch 69/200\n",
      "251864/251864 [==============================] - 2s - loss: 0.0281 - mean_absolute_error: 0.0281 - val_loss: 0.0209 - val_mean_absolute_error: 0.0209\n",
      "Epoch 70/200\n",
      "251864/251864 [==============================] - 2s - loss: 0.0281 - mean_absolute_error: 0.0281 - val_loss: 0.0209 - val_mean_absolute_error: 0.0209\n",
      "Epoch 71/200\n",
      "251864/251864 [==============================] - 2s - loss: 0.0280 - mean_absolute_error: 0.0280 - val_loss: 0.0206 - val_mean_absolute_error: 0.0206\n",
      "Epoch 72/200\n",
      "251864/251864 [==============================] - 2s - loss: 0.0279 - mean_absolute_error: 0.0279 - val_loss: 0.0217 - val_mean_absolute_error: 0.0217\n",
      "Epoch 73/200\n",
      "251864/251864 [==============================] - 2s - loss: 0.0279 - mean_absolute_error: 0.0279 - val_loss: 0.0217 - val_mean_absolute_error: 0.0217\n",
      "Epoch 74/200\n",
      "251864/251864 [==============================] - 2s - loss: 0.0278 - mean_absolute_error: 0.0278 - val_loss: 0.0213 - val_mean_absolute_error: 0.0213\n",
      "Epoch 75/200\n",
      "251864/251864 [==============================] - 2s - loss: 0.0277 - mean_absolute_error: 0.0277 - val_loss: 0.0216 - val_mean_absolute_error: 0.0216\n",
      "Epoch 76/200\n",
      "251864/251864 [==============================] - 2s - loss: 0.0277 - mean_absolute_error: 0.0277 - val_loss: 0.0209 - val_mean_absolute_error: 0.0209\n",
      "Epoch 77/200\n",
      "251864/251864 [==============================] - 2s - loss: 0.0276 - mean_absolute_error: 0.0276 - val_loss: 0.0213 - val_mean_absolute_error: 0.0213\n",
      "Epoch 78/200\n",
      "251864/251864 [==============================] - 2s - loss: 0.0275 - mean_absolute_error: 0.0275 - val_loss: 0.0205 - val_mean_absolute_error: 0.0205\n",
      "Epoch 79/200\n",
      "251864/251864 [==============================] - 2s - loss: 0.0275 - mean_absolute_error: 0.0275 - val_loss: 0.0214 - val_mean_absolute_error: 0.0214\n",
      "Epoch 80/200\n",
      "251864/251864 [==============================] - 2s - loss: 0.0274 - mean_absolute_error: 0.0274 - val_loss: 0.0211 - val_mean_absolute_error: 0.0211\n",
      "Epoch 81/200\n",
      "251864/251864 [==============================] - 2s - loss: 0.0274 - mean_absolute_error: 0.0274 - val_loss: 0.0207 - val_mean_absolute_error: 0.0207\n",
      "Epoch 82/200\n",
      "251864/251864 [==============================] - 2s - loss: 0.0273 - mean_absolute_error: 0.0273 - val_loss: 0.0203 - val_mean_absolute_error: 0.0203\n",
      "Epoch 83/200\n",
      "251864/251864 [==============================] - 2s - loss: 0.0272 - mean_absolute_error: 0.0272 - val_loss: 0.0228 - val_mean_absolute_error: 0.0228\n",
      "Epoch 84/200\n",
      "251864/251864 [==============================] - 2s - loss: 0.0272 - mean_absolute_error: 0.0272 - val_loss: 0.0219 - val_mean_absolute_error: 0.0219\n",
      "Epoch 85/200\n",
      "251864/251864 [==============================] - 2s - loss: 0.0271 - mean_absolute_error: 0.0271 - val_loss: 0.0218 - val_mean_absolute_error: 0.0218\n",
      "Epoch 86/200\n",
      "251864/251864 [==============================] - 2s - loss: 0.0271 - mean_absolute_error: 0.0271 - val_loss: 0.0204 - val_mean_absolute_error: 0.0204\n",
      "Epoch 87/200\n",
      "251864/251864 [==============================] - 2s - loss: 0.0270 - mean_absolute_error: 0.0270 - val_loss: 0.0210 - val_mean_absolute_error: 0.0210\n",
      "Epoch 88/200\n",
      "251864/251864 [==============================] - 2s - loss: 0.0269 - mean_absolute_error: 0.0269 - val_loss: 0.0218 - val_mean_absolute_error: 0.0218\n",
      "Epoch 89/200\n",
      "251864/251864 [==============================] - 2s - loss: 0.0269 - mean_absolute_error: 0.0269 - val_loss: 0.0203 - val_mean_absolute_error: 0.0203\n",
      "Epoch 90/200\n",
      "251864/251864 [==============================] - 2s - loss: 0.0269 - mean_absolute_error: 0.0269 - val_loss: 0.0206 - val_mean_absolute_error: 0.0206\n",
      "Epoch 91/200\n",
      "251864/251864 [==============================] - 2s - loss: 0.0268 - mean_absolute_error: 0.0268 - val_loss: 0.0204 - val_mean_absolute_error: 0.0204\n",
      "Epoch 92/200\n",
      "251864/251864 [==============================] - 2s - loss: 0.0268 - mean_absolute_error: 0.0268 - val_loss: 0.0197 - val_mean_absolute_error: 0.0197\n",
      "Epoch 93/200\n",
      "251864/251864 [==============================] - 2s - loss: 0.0267 - mean_absolute_error: 0.0267 - val_loss: 0.0202 - val_mean_absolute_error: 0.0202\n",
      "Epoch 94/200\n",
      "251864/251864 [==============================] - 2s - loss: 0.0267 - mean_absolute_error: 0.0267 - val_loss: 0.0196 - val_mean_absolute_error: 0.0196\n",
      "Epoch 95/200\n",
      "251864/251864 [==============================] - 2s - loss: 0.0267 - mean_absolute_error: 0.0267 - val_loss: 0.0195 - val_mean_absolute_error: 0.0195\n",
      "Epoch 96/200\n",
      "251864/251864 [==============================] - 2s - loss: 0.0266 - mean_absolute_error: 0.0266 - val_loss: 0.0200 - val_mean_absolute_error: 0.0200\n",
      "Epoch 97/200\n",
      "251864/251864 [==============================] - 2s - loss: 0.0266 - mean_absolute_error: 0.0266 - val_loss: 0.0196 - val_mean_absolute_error: 0.0196\n",
      "Epoch 98/200\n",
      "251864/251864 [==============================] - 2s - loss: 0.0265 - mean_absolute_error: 0.0265 - val_loss: 0.0196 - val_mean_absolute_error: 0.0196\n",
      "Epoch 99/200\n",
      "251864/251864 [==============================] - 2s - loss: 0.0265 - mean_absolute_error: 0.0265 - val_loss: 0.0198 - val_mean_absolute_error: 0.0198\n",
      "Epoch 100/200\n"
     ]
    },
    {
     "name": "stdout",
     "output_type": "stream",
     "text": [
      "251864/251864 [==============================] - 2s - loss: 0.0264 - mean_absolute_error: 0.0264 - val_loss: 0.0216 - val_mean_absolute_error: 0.0216\n",
      "Epoch 101/200\n",
      "251864/251864 [==============================] - 2s - loss: 0.0264 - mean_absolute_error: 0.0264 - val_loss: 0.0191 - val_mean_absolute_error: 0.0191\n",
      "Epoch 102/200\n",
      "251864/251864 [==============================] - 2s - loss: 0.0264 - mean_absolute_error: 0.0264 - val_loss: 0.0211 - val_mean_absolute_error: 0.0211\n",
      "Epoch 103/200\n",
      "251864/251864 [==============================] - 2s - loss: 0.0264 - mean_absolute_error: 0.0264 - val_loss: 0.0194 - val_mean_absolute_error: 0.0194\n",
      "Epoch 104/200\n",
      "251864/251864 [==============================] - 2s - loss: 0.0263 - mean_absolute_error: 0.0263 - val_loss: 0.0190 - val_mean_absolute_error: 0.0190\n",
      "Epoch 105/200\n",
      "251864/251864 [==============================] - 2s - loss: 0.0263 - mean_absolute_error: 0.0263 - val_loss: 0.0196 - val_mean_absolute_error: 0.0196\n",
      "Epoch 106/200\n",
      "251864/251864 [==============================] - 2s - loss: 0.0263 - mean_absolute_error: 0.0263 - val_loss: 0.0194 - val_mean_absolute_error: 0.0194\n",
      "Epoch 107/200\n",
      "251864/251864 [==============================] - 2s - loss: 0.0262 - mean_absolute_error: 0.0262 - val_loss: 0.0192 - val_mean_absolute_error: 0.0192\n",
      "Epoch 108/200\n",
      "251864/251864 [==============================] - 2s - loss: 0.0262 - mean_absolute_error: 0.0262 - val_loss: 0.0196 - val_mean_absolute_error: 0.0196\n",
      "Epoch 109/200\n",
      "251864/251864 [==============================] - 2s - loss: 0.0262 - mean_absolute_error: 0.0262 - val_loss: 0.0188 - val_mean_absolute_error: 0.0188\n",
      "Epoch 110/200\n",
      "251864/251864 [==============================] - 2s - loss: 0.0262 - mean_absolute_error: 0.0262 - val_loss: 0.0208 - val_mean_absolute_error: 0.0208\n",
      "Epoch 111/200\n",
      "251864/251864 [==============================] - 2s - loss: 0.0261 - mean_absolute_error: 0.0261 - val_loss: 0.0198 - val_mean_absolute_error: 0.0198\n",
      "Epoch 112/200\n",
      "251864/251864 [==============================] - 2s - loss: 0.0261 - mean_absolute_error: 0.0261 - val_loss: 0.0191 - val_mean_absolute_error: 0.0191\n",
      "Epoch 113/200\n",
      "251864/251864 [==============================] - 2s - loss: 0.0261 - mean_absolute_error: 0.0261 - val_loss: 0.0188 - val_mean_absolute_error: 0.0188\n",
      "Epoch 114/200\n",
      "251864/251864 [==============================] - 2s - loss: 0.0261 - mean_absolute_error: 0.0261 - val_loss: 0.0194 - val_mean_absolute_error: 0.0194\n",
      "Epoch 115/200\n",
      "251864/251864 [==============================] - 2s - loss: 0.0261 - mean_absolute_error: 0.0261 - val_loss: 0.0202 - val_mean_absolute_error: 0.0202\n",
      "Epoch 116/200\n",
      "251864/251864 [==============================] - 2s - loss: 0.0260 - mean_absolute_error: 0.0260 - val_loss: 0.0203 - val_mean_absolute_error: 0.0203\n",
      "Epoch 117/200\n",
      "251864/251864 [==============================] - 2s - loss: 0.0260 - mean_absolute_error: 0.0260 - val_loss: 0.0192 - val_mean_absolute_error: 0.0192\n",
      "Epoch 118/200\n",
      "251864/251864 [==============================] - 2s - loss: 0.0260 - mean_absolute_error: 0.0260 - val_loss: 0.0193 - val_mean_absolute_error: 0.0193\n",
      "Epoch 119/200\n",
      "251864/251864 [==============================] - 2s - loss: 0.0260 - mean_absolute_error: 0.0260 - val_loss: 0.0201 - val_mean_absolute_error: 0.0201\n",
      "Epoch 120/200\n",
      "251864/251864 [==============================] - 2s - loss: 0.0260 - mean_absolute_error: 0.0260 - val_loss: 0.0193 - val_mean_absolute_error: 0.0193\n",
      "Epoch 121/200\n",
      "251864/251864 [==============================] - 2s - loss: 0.0259 - mean_absolute_error: 0.0259 - val_loss: 0.0190 - val_mean_absolute_error: 0.0190\n",
      "Epoch 122/200\n",
      "251864/251864 [==============================] - 2s - loss: 0.0259 - mean_absolute_error: 0.0259 - val_loss: 0.0196 - val_mean_absolute_error: 0.0196\n",
      "Epoch 123/200\n",
      "251864/251864 [==============================] - 2s - loss: 0.0259 - mean_absolute_error: 0.0259 - val_loss: 0.0201 - val_mean_absolute_error: 0.0201\n",
      "Epoch 124/200\n",
      "251864/251864 [==============================] - 2s - loss: 0.0259 - mean_absolute_error: 0.0259 - val_loss: 0.0194 - val_mean_absolute_error: 0.0194\n",
      "Epoch 125/200\n",
      "251864/251864 [==============================] - 2s - loss: 0.0258 - mean_absolute_error: 0.0258 - val_loss: 0.0198 - val_mean_absolute_error: 0.0198\n",
      "Epoch 126/200\n",
      "251864/251864 [==============================] - 2s - loss: 0.0258 - mean_absolute_error: 0.0258 - val_loss: 0.0190 - val_mean_absolute_error: 0.0190\n",
      "Epoch 127/200\n",
      "251864/251864 [==============================] - 2s - loss: 0.0258 - mean_absolute_error: 0.0258 - val_loss: 0.0195 - val_mean_absolute_error: 0.0195\n",
      "Epoch 128/200\n",
      "251864/251864 [==============================] - 2s - loss: 0.0258 - mean_absolute_error: 0.0258 - val_loss: 0.0193 - val_mean_absolute_error: 0.0193\n",
      "Epoch 129/200\n",
      "251864/251864 [==============================] - 2s - loss: 0.0258 - mean_absolute_error: 0.0258 - val_loss: 0.0197 - val_mean_absolute_error: 0.0197\n",
      "Epoch 130/200\n",
      "251864/251864 [==============================] - 2s - loss: 0.0258 - mean_absolute_error: 0.0258 - val_loss: 0.0192 - val_mean_absolute_error: 0.0192\n",
      "Epoch 131/200\n",
      "251864/251864 [==============================] - 2s - loss: 0.0257 - mean_absolute_error: 0.0257 - val_loss: 0.0191 - val_mean_absolute_error: 0.0191\n",
      "Epoch 132/200\n",
      "251864/251864 [==============================] - 2s - loss: 0.0257 - mean_absolute_error: 0.0257 - val_loss: 0.0198 - val_mean_absolute_error: 0.0198\n",
      "Epoch 133/200\n",
      "251864/251864 [==============================] - 2s - loss: 0.0257 - mean_absolute_error: 0.0257 - val_loss: 0.0189 - val_mean_absolute_error: 0.0189\n",
      "Epoch 134/200\n",
      "251864/251864 [==============================] - 2s - loss: 0.0257 - mean_absolute_error: 0.0257 - val_loss: 0.0198 - val_mean_absolute_error: 0.0198\n",
      "Epoch 135/200\n",
      "251864/251864 [==============================] - 2s - loss: 0.0257 - mean_absolute_error: 0.0257 - val_loss: 0.0190 - val_mean_absolute_error: 0.0190\n",
      "Epoch 136/200\n",
      "251864/251864 [==============================] - 2s - loss: 0.0257 - mean_absolute_error: 0.0257 - val_loss: 0.0186 - val_mean_absolute_error: 0.0186\n",
      "Epoch 137/200\n",
      "251864/251864 [==============================] - 2s - loss: 0.0256 - mean_absolute_error: 0.0256 - val_loss: 0.0206 - val_mean_absolute_error: 0.0206\n",
      "Epoch 138/200\n",
      "251864/251864 [==============================] - 2s - loss: 0.0256 - mean_absolute_error: 0.0256 - val_loss: 0.0186 - val_mean_absolute_error: 0.0186\n",
      "Epoch 139/200\n",
      "251864/251864 [==============================] - 2s - loss: 0.0256 - mean_absolute_error: 0.0256 - val_loss: 0.0188 - val_mean_absolute_error: 0.0188\n",
      "Epoch 140/200\n",
      "251864/251864 [==============================] - 2s - loss: 0.0256 - mean_absolute_error: 0.0256 - val_loss: 0.0190 - val_mean_absolute_error: 0.0190\n",
      "Epoch 141/200\n",
      "251864/251864 [==============================] - 2s - loss: 0.0256 - mean_absolute_error: 0.0256 - val_loss: 0.0190 - val_mean_absolute_error: 0.0190\n",
      "Epoch 142/200\n",
      "251864/251864 [==============================] - 2s - loss: 0.0256 - mean_absolute_error: 0.0256 - val_loss: 0.0194 - val_mean_absolute_error: 0.0194\n",
      "Epoch 143/200\n",
      "251864/251864 [==============================] - 2s - loss: 0.0255 - mean_absolute_error: 0.0255 - val_loss: 0.0210 - val_mean_absolute_error: 0.0210\n",
      "Epoch 144/200\n",
      "251864/251864 [==============================] - 2s - loss: 0.0255 - mean_absolute_error: 0.0255 - val_loss: 0.0188 - val_mean_absolute_error: 0.0188\n",
      "Epoch 145/200\n",
      "251864/251864 [==============================] - 2s - loss: 0.0255 - mean_absolute_error: 0.0255 - val_loss: 0.0191 - val_mean_absolute_error: 0.0191\n",
      "Epoch 146/200\n",
      "251864/251864 [==============================] - 2s - loss: 0.0255 - mean_absolute_error: 0.0255 - val_loss: 0.0203 - val_mean_absolute_error: 0.0203\n",
      "Epoch 147/200\n",
      "251864/251864 [==============================] - 2s - loss: 0.0255 - mean_absolute_error: 0.0255 - val_loss: 0.0200 - val_mean_absolute_error: 0.0200\n",
      "Epoch 148/200\n",
      "251864/251864 [==============================] - 2s - loss: 0.0255 - mean_absolute_error: 0.0255 - val_loss: 0.0192 - val_mean_absolute_error: 0.0192\n",
      "Epoch 149/200\n",
      "251864/251864 [==============================] - 2s - loss: 0.0255 - mean_absolute_error: 0.0255 - val_loss: 0.0190 - val_mean_absolute_error: 0.0190\n",
      "Epoch 150/200\n"
     ]
    },
    {
     "name": "stdout",
     "output_type": "stream",
     "text": [
      "251864/251864 [==============================] - 2s - loss: 0.0254 - mean_absolute_error: 0.0254 - val_loss: 0.0206 - val_mean_absolute_error: 0.0206\n",
      "Epoch 151/200\n",
      "251864/251864 [==============================] - 2s - loss: 0.0254 - mean_absolute_error: 0.0254 - val_loss: 0.0196 - val_mean_absolute_error: 0.0196\n",
      "Epoch 152/200\n",
      "251864/251864 [==============================] - 2s - loss: 0.0254 - mean_absolute_error: 0.0254 - val_loss: 0.0188 - val_mean_absolute_error: 0.0188\n",
      "Epoch 153/200\n",
      "251864/251864 [==============================] - 2s - loss: 0.0254 - mean_absolute_error: 0.0254 - val_loss: 0.0186 - val_mean_absolute_error: 0.0186\n",
      "Epoch 154/200\n",
      "251864/251864 [==============================] - 2s - loss: 0.0254 - mean_absolute_error: 0.0254 - val_loss: 0.0188 - val_mean_absolute_error: 0.0188\n",
      "Epoch 155/200\n",
      "251864/251864 [==============================] - 2s - loss: 0.0254 - mean_absolute_error: 0.0254 - val_loss: 0.0208 - val_mean_absolute_error: 0.0208\n",
      "Epoch 156/200\n",
      "251864/251864 [==============================] - 2s - loss: 0.0254 - mean_absolute_error: 0.0254 - val_loss: 0.0184 - val_mean_absolute_error: 0.0184\n",
      "Epoch 157/200\n",
      "251864/251864 [==============================] - 2s - loss: 0.0253 - mean_absolute_error: 0.0253 - val_loss: 0.0199 - val_mean_absolute_error: 0.0199\n",
      "Epoch 158/200\n",
      "251864/251864 [==============================] - 2s - loss: 0.0253 - mean_absolute_error: 0.0253 - val_loss: 0.0185 - val_mean_absolute_error: 0.0185\n",
      "Epoch 159/200\n",
      "251864/251864 [==============================] - 2s - loss: 0.0253 - mean_absolute_error: 0.0253 - val_loss: 0.0190 - val_mean_absolute_error: 0.0190\n",
      "Epoch 160/200\n",
      "251864/251864 [==============================] - 2s - loss: 0.0253 - mean_absolute_error: 0.0253 - val_loss: 0.0187 - val_mean_absolute_error: 0.0187\n",
      "Epoch 161/200\n",
      "251864/251864 [==============================] - 2s - loss: 0.0253 - mean_absolute_error: 0.0253 - val_loss: 0.0187 - val_mean_absolute_error: 0.0187\n",
      "Epoch 162/200\n",
      "251864/251864 [==============================] - 2s - loss: 0.0253 - mean_absolute_error: 0.0253 - val_loss: 0.0189 - val_mean_absolute_error: 0.0189\n",
      "Epoch 163/200\n",
      "251864/251864 [==============================] - 2s - loss: 0.0253 - mean_absolute_error: 0.0253 - val_loss: 0.0192 - val_mean_absolute_error: 0.0192\n",
      "Epoch 164/200\n",
      "251864/251864 [==============================] - 2s - loss: 0.0253 - mean_absolute_error: 0.0253 - val_loss: 0.0188 - val_mean_absolute_error: 0.0188\n",
      "Epoch 165/200\n",
      "251864/251864 [==============================] - 2s - loss: 0.0252 - mean_absolute_error: 0.0252 - val_loss: 0.0189 - val_mean_absolute_error: 0.0189\n",
      "Epoch 166/200\n",
      "251864/251864 [==============================] - 2s - loss: 0.0252 - mean_absolute_error: 0.0252 - val_loss: 0.0190 - val_mean_absolute_error: 0.0190\n",
      "Epoch 167/200\n",
      "251864/251864 [==============================] - 2s - loss: 0.0252 - mean_absolute_error: 0.0252 - val_loss: 0.0187 - val_mean_absolute_error: 0.0187\n",
      "Epoch 168/200\n",
      "251864/251864 [==============================] - 2s - loss: 0.0252 - mean_absolute_error: 0.0252 - val_loss: 0.0188 - val_mean_absolute_error: 0.0188\n",
      "Epoch 169/200\n",
      "251864/251864 [==============================] - 2s - loss: 0.0252 - mean_absolute_error: 0.0252 - val_loss: 0.0192 - val_mean_absolute_error: 0.0192\n",
      "Epoch 170/200\n",
      "251864/251864 [==============================] - 2s - loss: 0.0252 - mean_absolute_error: 0.0252 - val_loss: 0.0182 - val_mean_absolute_error: 0.0182\n",
      "Epoch 171/200\n",
      "251864/251864 [==============================] - 2s - loss: 0.0252 - mean_absolute_error: 0.0252 - val_loss: 0.0189 - val_mean_absolute_error: 0.0189\n",
      "Epoch 172/200\n",
      "251864/251864 [==============================] - 2s - loss: 0.0251 - mean_absolute_error: 0.0251 - val_loss: 0.0186 - val_mean_absolute_error: 0.0186\n",
      "Epoch 173/200\n",
      "251864/251864 [==============================] - 2s - loss: 0.0251 - mean_absolute_error: 0.0251 - val_loss: 0.0185 - val_mean_absolute_error: 0.0185\n",
      "Epoch 174/200\n",
      "251864/251864 [==============================] - 2s - loss: 0.0251 - mean_absolute_error: 0.0251 - val_loss: 0.0184 - val_mean_absolute_error: 0.0184\n",
      "Epoch 175/200\n",
      "251864/251864 [==============================] - 2s - loss: 0.0251 - mean_absolute_error: 0.0251 - val_loss: 0.0189 - val_mean_absolute_error: 0.0189\n",
      "Epoch 176/200\n",
      "251864/251864 [==============================] - 2s - loss: 0.0251 - mean_absolute_error: 0.0251 - val_loss: 0.0194 - val_mean_absolute_error: 0.0194\n",
      "Epoch 177/200\n",
      "251864/251864 [==============================] - 2s - loss: 0.0251 - mean_absolute_error: 0.0251 - val_loss: 0.0186 - val_mean_absolute_error: 0.0186\n",
      "Epoch 178/200\n",
      "251864/251864 [==============================] - 2s - loss: 0.0251 - mean_absolute_error: 0.0251 - val_loss: 0.0190 - val_mean_absolute_error: 0.0190\n",
      "Epoch 179/200\n",
      "251864/251864 [==============================] - 2s - loss: 0.0251 - mean_absolute_error: 0.0251 - val_loss: 0.0185 - val_mean_absolute_error: 0.0185\n",
      "Epoch 180/200\n",
      "251864/251864 [==============================] - 2s - loss: 0.0250 - mean_absolute_error: 0.0250 - val_loss: 0.0184 - val_mean_absolute_error: 0.0184\n",
      "Epoch 181/200\n",
      "251864/251864 [==============================] - 2s - loss: 0.0250 - mean_absolute_error: 0.0250 - val_loss: 0.0184 - val_mean_absolute_error: 0.0184\n",
      "Epoch 182/200\n",
      "251864/251864 [==============================] - 2s - loss: 0.0250 - mean_absolute_error: 0.0250 - val_loss: 0.0193 - val_mean_absolute_error: 0.0193\n",
      "Epoch 183/200\n",
      "251864/251864 [==============================] - 2s - loss: 0.0250 - mean_absolute_error: 0.0250 - val_loss: 0.0187 - val_mean_absolute_error: 0.0187\n",
      "Epoch 184/200\n",
      "251864/251864 [==============================] - 2s - loss: 0.0250 - mean_absolute_error: 0.0250 - val_loss: 0.0197 - val_mean_absolute_error: 0.0197\n",
      "Epoch 185/200\n",
      "251864/251864 [==============================] - 2s - loss: 0.0250 - mean_absolute_error: 0.0250 - val_loss: 0.0183 - val_mean_absolute_error: 0.0183\n",
      "Epoch 186/200\n",
      "251864/251864 [==============================] - 2s - loss: 0.0250 - mean_absolute_error: 0.0250 - val_loss: 0.0182 - val_mean_absolute_error: 0.0182\n",
      "Epoch 187/200\n",
      "251864/251864 [==============================] - 2s - loss: 0.0250 - mean_absolute_error: 0.0250 - val_loss: 0.0182 - val_mean_absolute_error: 0.0182\n",
      "Epoch 188/200\n",
      "251864/251864 [==============================] - 2s - loss: 0.0250 - mean_absolute_error: 0.0250 - val_loss: 0.0188 - val_mean_absolute_error: 0.0188\n",
      "Epoch 189/200\n",
      "251864/251864 [==============================] - 2s - loss: 0.0249 - mean_absolute_error: 0.0249 - val_loss: 0.0192 - val_mean_absolute_error: 0.0192\n",
      "Epoch 190/200\n",
      "251864/251864 [==============================] - 2s - loss: 0.0249 - mean_absolute_error: 0.0249 - val_loss: 0.0188 - val_mean_absolute_error: 0.0188\n",
      "Epoch 191/200\n",
      "251864/251864 [==============================] - 2s - loss: 0.0249 - mean_absolute_error: 0.0249 - val_loss: 0.0184 - val_mean_absolute_error: 0.0184\n",
      "Epoch 192/200\n",
      "251864/251864 [==============================] - 2s - loss: 0.0249 - mean_absolute_error: 0.0249 - val_loss: 0.0183 - val_mean_absolute_error: 0.0183\n",
      "Epoch 193/200\n",
      "251864/251864 [==============================] - 2s - loss: 0.0249 - mean_absolute_error: 0.0249 - val_loss: 0.0181 - val_mean_absolute_error: 0.0181\n",
      "Epoch 194/200\n",
      "251864/251864 [==============================] - 2s - loss: 0.0249 - mean_absolute_error: 0.0249 - val_loss: 0.0185 - val_mean_absolute_error: 0.0185\n",
      "Epoch 195/200\n",
      "251864/251864 [==============================] - 2s - loss: 0.0249 - mean_absolute_error: 0.0249 - val_loss: 0.0184 - val_mean_absolute_error: 0.0184\n",
      "Epoch 196/200\n",
      "251864/251864 [==============================] - 2s - loss: 0.0249 - mean_absolute_error: 0.0249 - val_loss: 0.0184 - val_mean_absolute_error: 0.0184\n",
      "Epoch 197/200\n",
      "251864/251864 [==============================] - 2s - loss: 0.0248 - mean_absolute_error: 0.0248 - val_loss: 0.0184 - val_mean_absolute_error: 0.0184\n",
      "Epoch 198/200\n",
      "251864/251864 [==============================] - 2s - loss: 0.0248 - mean_absolute_error: 0.0248 - val_loss: 0.0199 - val_mean_absolute_error: 0.0199\n",
      "Epoch 199/200\n",
      "251864/251864 [==============================] - 2s - loss: 0.0249 - mean_absolute_error: 0.0249 - val_loss: 0.0184 - val_mean_absolute_error: 0.0184\n",
      "Epoch 200/200\n"
     ]
    },
    {
     "name": "stdout",
     "output_type": "stream",
     "text": [
      "251864/251864 [==============================] - 2s - loss: 0.0248 - mean_absolute_error: 0.0248 - val_loss: 0.0194 - val_mean_absolute_error: 0.0194\n"
     ]
    }
   ],
   "source": [
    "model = Sequential()\n",
    "model.add(Dense(units=64, input_shape = (train_X.shape[1],),activation='sigmoid',name='layer1',use_bias = False))\n",
    "model.add(Dense(units=32,activation='sigmoid',name='layer2',use_bias = True))\n",
    "model.add(Dense(units=16,name='layer3',activation='sigmoid',use_bias = True))\n",
    "# model.add(Dense(units=8,name='layer4',activation='sigmoid',use_bias = True))\n",
    "model.add(Dense(units=1,name='layer5',activation='sigmoid'))\n",
    "model.compile(loss='mean_absolute_error',\n",
    "              optimizer='rmsprop',\n",
    "              metrics=['mae'])\n",
    "history=model.fit(x = train_X,y = train_y, validation_data = (eval_X,eval_y), epochs=200, batch_size=1000)\n",
    "############################################################################################################"
   ]
  },
  {
   "cell_type": "code",
   "execution_count": 174,
   "metadata": {
    "scrolled": true
   },
   "outputs": [
    {
     "data": {
      "image/png": "[encoded data removed]",
      "text/plain": [
       "<Figure size 432x288 with 1 Axes>"
      ]
     },
     "metadata": {},
     "output_type": "display_data"
    }
   ],
   "source": [
    "########################################################################\n",
    "# 绘制训练 & 验证的损失值\n",
    "plt.plot(history.history['loss'])\n",
    "plt.plot(history.history['val_loss'])\n",
    "plt.title('DNN loss')\n",
    "plt.ylabel('Loss')\n",
    "plt.xlabel('Epoch')\n",
    "plt.legend(['Train', 'Test'], loc='upper left')\n",
    "plt.show()"
   ]
  },
  {
   "cell_type": "code",
   "execution_count": 175,
   "metadata": {},
   "outputs": [],
   "source": [
    "#模型保存\n",
    "modeldnn = model\n",
    "modeldnn.save('../logs/DNN0702.h5')  \n"
   ]
  },
  {
   "cell_type": "code",
   "execution_count": 99,
   "metadata": {},
   "outputs": [],
   "source": [
    "# #模型加载\n",
    "# modeldnn = load_model('../logs/modeldnn.h5') "
   ]
  },
  {
   "cell_type": "markdown",
   "metadata": {},
   "source": [
    "# LSTM model"
   ]
  },
  {
   "cell_type": "code",
   "execution_count": 149,
   "metadata": {},
   "outputs": [
    {
     "name": "stdout",
     "output_type": "stream",
     "text": [
      "Train on 251864 samples, validate on 62967 samples\n",
      "Epoch 1/200\n",
      "8s - loss: 0.1105 - val_loss: 0.0744\n",
      "Epoch 2/200\n",
      "6s - loss: 0.0685 - val_loss: 0.0687\n",
      "Epoch 3/200\n",
      "6s - loss: 0.0635 - val_loss: 0.0595\n",
      "Epoch 4/200\n",
      "6s - loss: 0.0571 - val_loss: 0.0462\n",
      "Epoch 5/200\n",
      "6s - loss: 0.0483 - val_loss: 0.0414\n",
      "Epoch 6/200\n",
      "6s - loss: 0.0434 - val_loss: 0.0345\n",
      "Epoch 7/200\n",
      "6s - loss: 0.0405 - val_loss: 0.0313\n",
      "Epoch 8/200\n",
      "7s - loss: 0.0380 - val_loss: 0.0312\n",
      "Epoch 9/200\n",
      "6s - loss: 0.0372 - val_loss: 0.0303\n",
      "Epoch 10/200\n",
      "6s - loss: 0.0357 - val_loss: 0.0289\n",
      "Epoch 11/200\n",
      "6s - loss: 0.0343 - val_loss: 0.0289\n",
      "Epoch 12/200\n",
      "6s - loss: 0.0339 - val_loss: 0.0280\n",
      "Epoch 13/200\n",
      "6s - loss: 0.0333 - val_loss: 0.0282\n",
      "Epoch 14/200\n",
      "6s - loss: 0.0334 - val_loss: 0.0284\n",
      "Epoch 15/200\n",
      "6s - loss: 0.0331 - val_loss: 0.0288\n",
      "Epoch 16/200\n",
      "6s - loss: 0.0327 - val_loss: 0.0267\n",
      "Epoch 17/200\n",
      "7s - loss: 0.0326 - val_loss: 0.0272\n",
      "Epoch 18/200\n",
      "7s - loss: 0.0325 - val_loss: 0.0260\n",
      "Epoch 19/200\n",
      "7s - loss: 0.0321 - val_loss: 0.0271\n",
      "Epoch 20/200\n",
      "6s - loss: 0.0321 - val_loss: 0.0254\n",
      "Epoch 21/200\n",
      "6s - loss: 0.0319 - val_loss: 0.0262\n",
      "Epoch 22/200\n",
      "6s - loss: 0.0319 - val_loss: 0.0255\n",
      "Epoch 23/200\n",
      "6s - loss: 0.0314 - val_loss: 0.0289\n",
      "Epoch 24/200\n",
      "7s - loss: 0.0318 - val_loss: 0.0280\n",
      "Epoch 25/200\n",
      "6s - loss: 0.0319 - val_loss: 0.0263\n",
      "Epoch 26/200\n",
      "6s - loss: 0.0315 - val_loss: 0.0252\n",
      "Epoch 27/200\n",
      "6s - loss: 0.0309 - val_loss: 0.0289\n",
      "Epoch 28/200\n",
      "6s - loss: 0.0314 - val_loss: 0.0258\n",
      "Epoch 29/200\n",
      "6s - loss: 0.0312 - val_loss: 0.0246\n",
      "Epoch 30/200\n",
      "6s - loss: 0.0308 - val_loss: 0.0240\n",
      "Epoch 31/200\n",
      "6s - loss: 0.0307 - val_loss: 0.0259\n",
      "Epoch 32/200\n",
      "6s - loss: 0.0308 - val_loss: 0.0246\n",
      "Epoch 33/200\n",
      "6s - loss: 0.0307 - val_loss: 0.0247\n",
      "Epoch 34/200\n",
      "6s - loss: 0.0307 - val_loss: 0.0241\n",
      "Epoch 35/200\n",
      "6s - loss: 0.0303 - val_loss: 0.0232\n",
      "Epoch 36/200\n",
      "6s - loss: 0.0303 - val_loss: 0.0235\n",
      "Epoch 37/200\n",
      "6s - loss: 0.0302 - val_loss: 0.0242\n",
      "Epoch 38/200\n",
      "6s - loss: 0.0302 - val_loss: 0.0231\n",
      "Epoch 39/200\n",
      "6s - loss: 0.0297 - val_loss: 0.0237\n",
      "Epoch 40/200\n",
      "6s - loss: 0.0302 - val_loss: 0.0235\n",
      "Epoch 41/200\n",
      "6s - loss: 0.0297 - val_loss: 0.0242\n",
      "Epoch 42/200\n",
      "6s - loss: 0.0300 - val_loss: 0.0239\n",
      "Epoch 43/200\n",
      "6s - loss: 0.0300 - val_loss: 0.0225\n",
      "Epoch 44/200\n",
      "6s - loss: 0.0299 - val_loss: 0.0230\n",
      "Epoch 45/200\n",
      "6s - loss: 0.0293 - val_loss: 0.0238\n",
      "Epoch 46/200\n",
      "6s - loss: 0.0295 - val_loss: 0.0233\n",
      "Epoch 47/200\n",
      "6s - loss: 0.0292 - val_loss: 0.0227\n",
      "Epoch 48/200\n",
      "6s - loss: 0.0289 - val_loss: 0.0225\n",
      "Epoch 49/200\n",
      "6s - loss: 0.0289 - val_loss: 0.0223\n",
      "Epoch 50/200\n",
      "6s - loss: 0.0292 - val_loss: 0.0237\n",
      "Epoch 51/200\n",
      "6s - loss: 0.0293 - val_loss: 0.0220\n",
      "Epoch 52/200\n",
      "7s - loss: 0.0292 - val_loss: 0.0245\n",
      "Epoch 53/200\n",
      "7s - loss: 0.0289 - val_loss: 0.0232\n",
      "Epoch 54/200\n",
      "7s - loss: 0.0286 - val_loss: 0.0222\n",
      "Epoch 55/200\n",
      "6s - loss: 0.0290 - val_loss: 0.0221\n",
      "Epoch 56/200\n",
      "6s - loss: 0.0288 - val_loss: 0.0218\n",
      "Epoch 57/200\n",
      "6s - loss: 0.0284 - val_loss: 0.0227\n",
      "Epoch 58/200\n",
      "6s - loss: 0.0286 - val_loss: 0.0210\n",
      "Epoch 59/200\n",
      "6s - loss: 0.0287 - val_loss: 0.0234\n",
      "Epoch 60/200\n",
      "6s - loss: 0.0286 - val_loss: 0.0222\n",
      "Epoch 61/200\n",
      "6s - loss: 0.0287 - val_loss: 0.0209\n",
      "Epoch 62/200\n",
      "6s - loss: 0.0286 - val_loss: 0.0232\n",
      "Epoch 63/200\n",
      "6s - loss: 0.0284 - val_loss: 0.0213\n",
      "Epoch 64/200\n",
      "6s - loss: 0.0286 - val_loss: 0.0214\n",
      "Epoch 65/200\n",
      "6s - loss: 0.0283 - val_loss: 0.0213\n",
      "Epoch 66/200\n",
      "6s - loss: 0.0280 - val_loss: 0.0208\n",
      "Epoch 67/200\n",
      "6s - loss: 0.0278 - val_loss: 0.0212\n",
      "Epoch 68/200\n",
      "6s - loss: 0.0278 - val_loss: 0.0215\n",
      "Epoch 69/200\n",
      "6s - loss: 0.0282 - val_loss: 0.0232\n",
      "Epoch 70/200\n",
      "6s - loss: 0.0284 - val_loss: 0.0205\n",
      "Epoch 71/200\n",
      "6s - loss: 0.0280 - val_loss: 0.0215\n",
      "Epoch 72/200\n",
      "6s - loss: 0.0278 - val_loss: 0.0207\n",
      "Epoch 73/200\n",
      "6s - loss: 0.0277 - val_loss: 0.0208\n",
      "Epoch 74/200\n",
      "6s - loss: 0.0279 - val_loss: 0.0212\n",
      "Epoch 75/200\n",
      "6s - loss: 0.0281 - val_loss: 0.0204\n",
      "Epoch 76/200\n",
      "6s - loss: 0.0276 - val_loss: 0.0205\n",
      "Epoch 77/200\n",
      "6s - loss: 0.0279 - val_loss: 0.0205\n",
      "Epoch 78/200\n",
      "6s - loss: 0.0279 - val_loss: 0.0213\n",
      "Epoch 79/200\n",
      "6s - loss: 0.0277 - val_loss: 0.0204\n",
      "Epoch 80/200\n",
      "6s - loss: 0.0277 - val_loss: 0.0214\n",
      "Epoch 81/200\n",
      "6s - loss: 0.0276 - val_loss: 0.0205\n",
      "Epoch 82/200\n",
      "6s - loss: 0.0275 - val_loss: 0.0207\n",
      "Epoch 83/200\n",
      "6s - loss: 0.0275 - val_loss: 0.0203\n",
      "Epoch 84/200\n",
      "6s - loss: 0.0274 - val_loss: 0.0202\n",
      "Epoch 85/200\n",
      "6s - loss: 0.0275 - val_loss: 0.0207\n",
      "Epoch 86/200\n",
      "6s - loss: 0.0274 - val_loss: 0.0204\n",
      "Epoch 87/200\n",
      "6s - loss: 0.0273 - val_loss: 0.0203\n",
      "Epoch 88/200\n",
      "6s - loss: 0.0273 - val_loss: 0.0202\n",
      "Epoch 89/200\n",
      "6s - loss: 0.0273 - val_loss: 0.0200\n",
      "Epoch 90/200\n",
      "6s - loss: 0.0272 - val_loss: 0.0200\n",
      "Epoch 91/200\n",
      "6s - loss: 0.0272 - val_loss: 0.0200\n",
      "Epoch 92/200\n",
      "6s - loss: 0.0271 - val_loss: 0.0199\n",
      "Epoch 93/200\n",
      "6s - loss: 0.0272 - val_loss: 0.0199\n",
      "Epoch 94/200\n",
      "6s - loss: 0.0270 - val_loss: 0.0198\n",
      "Epoch 95/200\n",
      "6s - loss: 0.0270 - val_loss: 0.0198\n",
      "Epoch 96/200\n",
      "6s - loss: 0.0269 - val_loss: 0.0199\n",
      "Epoch 97/200\n",
      "6s - loss: 0.0269 - val_loss: 0.0197\n",
      "Epoch 98/200\n",
      "7s - loss: 0.0269 - val_loss: 0.0197\n",
      "Epoch 99/200\n",
      "6s - loss: 0.0267 - val_loss: 0.0196\n",
      "Epoch 100/200\n",
      "6s - loss: 0.0267 - val_loss: 0.0196\n",
      "Epoch 101/200\n",
      "6s - loss: 0.0266 - val_loss: 0.0195\n",
      "Epoch 102/200\n",
      "6s - loss: 0.0266 - val_loss: 0.0195\n",
      "Epoch 103/200\n",
      "6s - loss: 0.0266 - val_loss: 0.0194\n",
      "Epoch 104/200\n",
      "6s - loss: 0.0266 - val_loss: 0.0193\n",
      "Epoch 105/200\n",
      "6s - loss: 0.0265 - val_loss: 0.0193\n",
      "Epoch 106/200\n",
      "6s - loss: 0.0265 - val_loss: 0.0193\n",
      "Epoch 107/200\n",
      "6s - loss: 0.0265 - val_loss: 0.0193\n",
      "Epoch 108/200\n",
      "6s - loss: 0.0265 - val_loss: 0.0193\n",
      "Epoch 109/200\n",
      "6s - loss: 0.0264 - val_loss: 0.0193\n",
      "Epoch 110/200\n",
      "6s - loss: 0.0264 - val_loss: 0.0192\n",
      "Epoch 111/200\n",
      "6s - loss: 0.0264 - val_loss: 0.0194\n",
      "Epoch 112/200\n",
      "6s - loss: 0.0263 - val_loss: 0.0192\n",
      "Epoch 113/200\n",
      "6s - loss: 0.0262 - val_loss: 0.0191\n",
      "Epoch 114/200\n",
      "6s - loss: 0.0262 - val_loss: 0.0191\n",
      "Epoch 115/200\n",
      "6s - loss: 0.0262 - val_loss: 0.0192\n",
      "Epoch 116/200\n",
      "6s - loss: 0.0261 - val_loss: 0.0192\n",
      "Epoch 117/200\n",
      "6s - loss: 0.0262 - val_loss: 0.0191\n",
      "Epoch 118/200\n",
      "6s - loss: 0.0261 - val_loss: 0.0191\n",
      "Epoch 119/200\n",
      "6s - loss: 0.0261 - val_loss: 0.0190\n",
      "Epoch 120/200\n",
      "6s - loss: 0.0261 - val_loss: 0.0190\n",
      "Epoch 121/200\n",
      "6s - loss: 0.0261 - val_loss: 0.0190\n",
      "Epoch 122/200\n",
      "6s - loss: 0.0261 - val_loss: 0.0191\n",
      "Epoch 123/200\n",
      "6s - loss: 0.0260 - val_loss: 0.0189\n",
      "Epoch 124/200\n",
      "6s - loss: 0.0261 - val_loss: 0.0190\n",
      "Epoch 125/200\n",
      "6s - loss: 0.0260 - val_loss: 0.0190\n",
      "Epoch 126/200\n",
      "6s - loss: 0.0260 - val_loss: 0.0189\n",
      "Epoch 127/200\n",
      "6s - loss: 0.0259 - val_loss: 0.0190\n",
      "Epoch 128/200\n",
      "6s - loss: 0.0259 - val_loss: 0.0190\n",
      "Epoch 129/200\n",
      "6s - loss: 0.0257 - val_loss: 0.0189\n",
      "Epoch 130/200\n",
      "6s - loss: 0.0258 - val_loss: 0.0189\n",
      "Epoch 131/200\n",
      "6s - loss: 0.0257 - val_loss: 0.0188\n",
      "Epoch 132/200\n",
      "6s - loss: 0.0258 - val_loss: 0.0188\n",
      "Epoch 133/200\n",
      "6s - loss: 0.0258 - val_loss: 0.0189\n",
      "Epoch 134/200\n",
      "6s - loss: 0.0258 - val_loss: 0.0189\n",
      "Epoch 135/200\n",
      "6s - loss: 0.0257 - val_loss: 0.0188\n",
      "Epoch 136/200\n",
      "6s - loss: 0.0256 - val_loss: 0.0188\n",
      "Epoch 137/200\n",
      "6s - loss: 0.0256 - val_loss: 0.0188\n",
      "Epoch 138/200\n",
      "6s - loss: 0.0257 - val_loss: 0.0188\n",
      "Epoch 139/200\n",
      "6s - loss: 0.0256 - val_loss: 0.0188\n",
      "Epoch 140/200\n",
      "6s - loss: 0.0257 - val_loss: 0.0188\n",
      "Epoch 141/200\n",
      "6s - loss: 0.0256 - val_loss: 0.0188\n",
      "Epoch 142/200\n",
      "6s - loss: 0.0256 - val_loss: 0.0188\n",
      "Epoch 143/200\n",
      "6s - loss: 0.0255 - val_loss: 0.0187\n",
      "Epoch 144/200\n",
      "6s - loss: 0.0255 - val_loss: 0.0187\n",
      "Epoch 145/200\n",
      "6s - loss: 0.0254 - val_loss: 0.0187\n",
      "Epoch 146/200\n",
      "6s - loss: 0.0255 - val_loss: 0.0187\n",
      "Epoch 147/200\n",
      "6s - loss: 0.0254 - val_loss: 0.0186\n",
      "Epoch 148/200\n",
      "6s - loss: 0.0254 - val_loss: 0.0186\n",
      "Epoch 149/200\n",
      "6s - loss: 0.0253 - val_loss: 0.0187\n",
      "Epoch 150/200\n",
      "6s - loss: 0.0253 - val_loss: 0.0185\n",
      "Epoch 151/200\n",
      "6s - loss: 0.0254 - val_loss: 0.0186\n",
      "Epoch 152/200\n",
      "6s - loss: 0.0252 - val_loss: 0.0185\n",
      "Epoch 153/200\n",
      "7s - loss: 0.0252 - val_loss: 0.0184\n",
      "Epoch 154/200\n",
      "7s - loss: 0.0252 - val_loss: 0.0184\n",
      "Epoch 155/200\n",
      "7s - loss: 0.0251 - val_loss: 0.0183\n",
      "Epoch 156/200\n",
      "6s - loss: 0.0251 - val_loss: 0.0183\n",
      "Epoch 157/200\n",
      "6s - loss: 0.0250 - val_loss: 0.0183\n",
      "Epoch 158/200\n",
      "6s - loss: 0.0250 - val_loss: 0.0184\n",
      "Epoch 159/200\n",
      "6s - loss: 0.0250 - val_loss: 0.0184\n",
      "Epoch 160/200\n",
      "7s - loss: 0.0250 - val_loss: 0.0183\n",
      "Epoch 161/200\n",
      "6s - loss: 0.0249 - val_loss: 0.0184\n",
      "Epoch 162/200\n",
      "6s - loss: 0.0248 - val_loss: 0.0185\n",
      "Epoch 163/200\n"
     ]
    },
    {
     "name": "stdout",
     "output_type": "stream",
     "text": [
      "6s - loss: 0.0248 - val_loss: 0.0184\n",
      "Epoch 164/200\n",
      "6s - loss: 0.0248 - val_loss: 0.0184\n",
      "Epoch 165/200\n",
      "7s - loss: 0.0248 - val_loss: 0.0186\n",
      "Epoch 166/200\n",
      "6s - loss: 0.0247 - val_loss: 0.0186\n",
      "Epoch 167/200\n",
      "6s - loss: 0.0247 - val_loss: 0.0186\n",
      "Epoch 168/200\n",
      "7s - loss: 0.0247 - val_loss: 0.0189\n",
      "Epoch 169/200\n",
      "6s - loss: 0.0247 - val_loss: 0.0189\n",
      "Epoch 170/200\n",
      "6s - loss: 0.0246 - val_loss: 0.0190\n",
      "Epoch 171/200\n",
      "6s - loss: 0.0246 - val_loss: 0.0191\n",
      "Epoch 172/200\n",
      "6s - loss: 0.0246 - val_loss: 0.0192\n",
      "Epoch 173/200\n",
      "6s - loss: 0.0247 - val_loss: 0.0191\n",
      "Epoch 174/200\n",
      "6s - loss: 0.0246 - val_loss: 0.0195\n",
      "Epoch 175/200\n",
      "6s - loss: 0.0246 - val_loss: 0.0196\n",
      "Epoch 176/200\n",
      "6s - loss: 0.0246 - val_loss: 0.0194\n",
      "Epoch 177/200\n",
      "6s - loss: 0.0247 - val_loss: 0.0195\n",
      "Epoch 178/200\n",
      "6s - loss: 0.0246 - val_loss: 0.0195\n",
      "Epoch 179/200\n",
      "6s - loss: 0.0246 - val_loss: 0.0195\n",
      "Epoch 180/200\n",
      "6s - loss: 0.0245 - val_loss: 0.0196\n",
      "Epoch 181/200\n",
      "6s - loss: 0.0245 - val_loss: 0.0198\n",
      "Epoch 182/200\n",
      "6s - loss: 0.0245 - val_loss: 0.0197\n",
      "Epoch 183/200\n",
      "6s - loss: 0.0246 - val_loss: 0.0199\n",
      "Epoch 184/200\n",
      "6s - loss: 0.0245 - val_loss: 0.0197\n",
      "Epoch 185/200\n",
      "6s - loss: 0.0245 - val_loss: 0.0197\n",
      "Epoch 186/200\n",
      "6s - loss: 0.0245 - val_loss: 0.0198\n",
      "Epoch 187/200\n",
      "6s - loss: 0.0244 - val_loss: 0.0197\n",
      "Epoch 188/200\n",
      "6s - loss: 0.0244 - val_loss: 0.0196\n",
      "Epoch 189/200\n",
      "6s - loss: 0.0244 - val_loss: 0.0198\n",
      "Epoch 190/200\n",
      "6s - loss: 0.0243 - val_loss: 0.0198\n",
      "Epoch 191/200\n",
      "6s - loss: 0.0244 - val_loss: 0.0199\n",
      "Epoch 192/200\n",
      "6s - loss: 0.0244 - val_loss: 0.0200\n",
      "Epoch 193/200\n",
      "6s - loss: 0.0244 - val_loss: 0.0198\n",
      "Epoch 194/200\n",
      "6s - loss: 0.0244 - val_loss: 0.0199\n",
      "Epoch 195/200\n",
      "6s - loss: 0.0244 - val_loss: 0.0198\n",
      "Epoch 196/200\n",
      "6s - loss: 0.0245 - val_loss: 0.0198\n",
      "Epoch 197/200\n",
      "6s - loss: 0.0244 - val_loss: 0.0195\n",
      "Epoch 198/200\n",
      "6s - loss: 0.0244 - val_loss: 0.0197\n",
      "Epoch 199/200\n",
      "6s - loss: 0.0244 - val_loss: 0.0195\n",
      "Epoch 200/200\n",
      "6s - loss: 0.0244 - val_loss: 0.0196\n"
     ]
    }
   ],
   "source": [
    "# design network\n",
    "model = Sequential()\n",
    "model.add(LSTM(64, input_shape=(train_Xl.shape[1], train_Xl.shape[2]),return_sequences=True))\n",
    "model.add(LSTM(32,return_sequences=True,use_bias = True))\n",
    "model.add(LSTM(16,return_sequences=False,use_bias = True))\n",
    "model.add(Dense(1))\n",
    "\n",
    "# model.add(LSTM(64, input_shape=(train_Xl.shape[1], train_Xl.shape[2]),return_sequences=True))\n",
    "# model.add(LSTM(32,return_sequences=True))\n",
    "# model.add(LSTM(16,return_sequences=False))\n",
    "# model.add(Dense(units=1,activation='tanh'))\n",
    "\n",
    "model.compile(loss='mae', optimizer='adam')\n",
    "# fit network\n",
    "# history = model.fit(train_Xl, train_y, epochs=5, batch_size = 64, validation_data=(eval_Xl, eval_y), verbose=2, shuffle=False)\n",
    "history = model.fit(train_Xl, train_y, epochs=200, batch_size = 1000, validation_data=(eval_Xl, eval_y), verbose=2, shuffle=False)"
   ]
  },
  {
   "cell_type": "code",
   "execution_count": 150,
   "metadata": {},
   "outputs": [],
   "source": [
    "#模型保存\n",
    "modellstm = model\n",
    "modellstm.save('../logs/LSTM0702.h5')  "
   ]
  },
  {
   "cell_type": "code",
   "execution_count": 151,
   "metadata": {},
   "outputs": [],
   "source": [
    "# #模型加载\n",
    "# modellstm = load_model('../logs/modellstm.h5') "
   ]
  },
  {
   "cell_type": "code",
   "execution_count": 152,
   "metadata": {},
   "outputs": [
    {
     "data": {
      "image/png": "[encoded data removed]",
      "text/plain": [
       "<Figure size 432x288 with 1 Axes>"
      ]
     },
     "metadata": {},
     "output_type": "display_data"
    }
   ],
   "source": [
    "# plot history\n",
    "plt.plot(history.history['loss'], label='train')\n",
    "plt.plot(history.history['val_loss'], label='eval')\n",
    "plt.legend()\n",
    "plt.show()"
   ]
  },
  {
   "cell_type": "code",
   "execution_count": 153,
   "metadata": {},
   "outputs": [],
   "source": [
    "# def inv2(testPredictML,test_X,test_y):\n",
    "#     # invert scaling for forecast\n",
    "#     inv_testPredictML = concatenate((test_X[:,:],testPredictML), axis=1)\n",
    "#     inv_testPredictML = scaler.inverse_transform(inv_testPredictML)\n",
    "#     testPredictML = inv_testPredictML[:,-1:]\n",
    "#     # invert scaling for actual\n",
    "#     test_y = test_y.reshape((len(test_y), 1))\n",
    "#     inv_test = concatenate((test_X[:,:],test_y), axis=1)\n",
    "#     inv_test = scaler.inverse_transform(inv_test)\n",
    "#     testReal = inv_test[:,-1:]\n",
    "#     return testPredictML,testReal"
   ]
  },
  {
   "cell_type": "code",
   "execution_count": 176,
   "metadata": {},
   "outputs": [],
   "source": [
    "def inv(testPredictML,test_X,test_y):\n",
    "    # invert scaling for forecast\n",
    "    inv_testPredictML = concatenate((test_X[:,:],testPredictML), axis=1)\n",
    "    inv_testPredictML = scaler.inverse_transform(inv_testPredictML)\n",
    "    testPredictML = inv_testPredictML[:,-1:]\n",
    "    # invert scaling for actual\n",
    "    test_y = test_y.reshape((len(test_y), 1))\n",
    "    inv_test = concatenate((test_X[:,:],test_y), axis=1)\n",
    "    inv_test = scaler.inverse_transform(inv_test)\n",
    "    testReal = inv_test[:,-1:]\n",
    "    return testPredictML,testReal,inv_test"
   ]
  },
  {
   "cell_type": "code",
   "execution_count": 177,
   "metadata": {},
   "outputs": [],
   "source": [
    "# # make a prediction\n",
    "# testPredictls1 = model1.predict(test_X)\n",
    "# testPredictls2 = model2.predict(test_X)\n"
   ]
  },
  {
   "cell_type": "code",
   "execution_count": 178,
   "metadata": {},
   "outputs": [],
   "source": [
    "# test_X = test_X.reshape((test_X.shape[0], test_X.shape[2]))\n",
    "\n",
    "# testPredictls1,testReal = inv2(testPredictls1,test_X,test_y)\n",
    "# testPredictls2,testReal = inv2(testPredictls2,test_X,test_y)"
   ]
  },
  {
   "cell_type": "code",
   "execution_count": 179,
   "metadata": {},
   "outputs": [],
   "source": [
    "# # calculate RMSE\n",
    "# rmse = sqrt(mean_squared_error(testReal, testPredictls1))\n",
    "# print('Test RMSE: %.3f' % rmse)"
   ]
  },
  {
   "cell_type": "code",
   "execution_count": 180,
   "metadata": {},
   "outputs": [],
   "source": [
    "# #真实值和预测值对比图\n",
    "# plt.plot(testReal,label='Real')\n",
    "# plt.plot(testPredictls1,label='ls1Predicition')\n",
    "# plt.plot(testPredictls2,label='ls2Predicition')\n",
    "# # plt.plot(testPredictM3,label='M3Predicition')\n",
    "\n",
    "# plt.title('Prediction test')\n",
    "# plt.ylabel('Power')\n",
    "# plt.xlabel('Time')\n",
    "# # plt.plot(y_rr_,label='rr')\n",
    "# # plt.plot(y_lasso_,label='lasso')\n",
    "# plt.legend() "
   ]
  },
  {
   "cell_type": "markdown",
   "metadata": {},
   "source": [
    "# 结果对比"
   ]
  },
  {
   "cell_type": "code",
   "execution_count": 181,
   "metadata": {},
   "outputs": [],
   "source": [
    "#反归一化##\n",
    "def inv00(pred,A_year,A_X,A_y):\n",
    "    ######训练集#######\n",
    "    inv_pred = concatenate((A_year[:,:],A_X[:,:],pred), axis=1)\n",
    "    inv_pred = scaler.inverse_transform(inv_pred)\n",
    "    pred = inv_pred[:,-1:]\n",
    "    ###### 训练集真实值######\n",
    "    A_y = A_y.reshape((len(A_y), 1))\n",
    "    inv_A = concatenate((A_year[:,:],A_X[:,:],A_y), axis=1)\n",
    "    inv_A = scaler.inverse_transform(inv_A)\n",
    "    AReal = inv_A[:,-1:]\n",
    "    return pred,AReal,inv_A   "
   ]
  },
  {
   "cell_type": "code",
   "execution_count": 182,
   "metadata": {},
   "outputs": [],
   "source": [
    "def mape(y_true, y_pred):\n",
    "    return np.mean(np.abs((y_pred - y_true) / y_true)) * 100\n",
    "\n",
    "def smape(y_true, y_pred):\n",
    "    return 2.0 * np.mean(np.abs(y_pred - y_true) / (np.abs(y_pred) + np.abs(y_true))) * 100"
   ]
  },
  {
   "cell_type": "markdown",
   "metadata": {},
   "source": [
    "# svm"
   ]
  },
  {
   "cell_type": "code",
   "execution_count": 183,
   "metadata": {},
   "outputs": [],
   "source": [
    "# svm_pred = modelsvm.predict(test_X)\n",
    "# svm_pred = svm_pred[:, np.newaxis]\n",
    "# svm_pred,y_true,inv_test=inv(svm_pred,test_X,test_y)"
   ]
  },
  {
   "cell_type": "code",
   "execution_count": 184,
   "metadata": {},
   "outputs": [],
   "source": [
    "# svm_mse = metrics.mean_squared_error(y_true, svm_pred)\n",
    "# # svm_rmse = math.sqrt(mean_squared_error(y_true[:,0], svm_pred[:,0]))\n",
    "# svm_rmse = math.sqrt(mean_squared_error(y_true, svm_pred))\n",
    "# svm_mae = metrics.mean_absolute_error(y_true, svm_pred)\n",
    "# svm_mape = mape(y_true, svm_pred)\n",
    "# svm_smape = smape(y_true, svm_pred)"
   ]
  },
  {
   "cell_type": "code",
   "execution_count": 185,
   "metadata": {},
   "outputs": [],
   "source": [
    "# print(svm_mse,svm_rmse,svm_mae,svm_mape,svm_smape)"
   ]
  },
  {
   "cell_type": "markdown",
   "metadata": {},
   "source": [
    "# bp"
   ]
  },
  {
   "cell_type": "code",
   "execution_count": 186,
   "metadata": {},
   "outputs": [
    {
     "name": "stderr",
     "output_type": "stream",
     "text": [
      "C:\\ProgramData\\Anaconda3\\lib\\site-packages\\ipykernel_launcher.py:2: RuntimeWarning: divide by zero encountered in true_divide\n",
      "  \n"
     ]
    }
   ],
   "source": [
    "bp_pred = modelbp.predict(test_X)\n",
    "bp_pred,y_true,inv_test=inv(bp_pred,test_X,test_y)\n",
    "\n",
    "bp_mse = metrics.mean_squared_error(y_true, bp_pred)\n",
    "bp_rmse = math.sqrt(mean_squared_error(y_true[:,0], bp_pred[:,0]))\n",
    "bp_mae = metrics.mean_absolute_error(y_true, bp_pred)\n",
    "bp_mape = mape(y_true, bp_pred)\n",
    "bp_smape = smape(y_true, bp_pred)"
   ]
  },
  {
   "cell_type": "code",
   "execution_count": 187,
   "metadata": {},
   "outputs": [
    {
     "name": "stdout",
     "output_type": "stream",
     "text": [
      "0.07620603 0.27605439402671406 0.1208003 inf 113.29879760742188\n"
     ]
    }
   ],
   "source": [
    "print(bp_mse,bp_rmse,bp_mae,bp_mape,bp_smape)"
   ]
  },
  {
   "cell_type": "markdown",
   "metadata": {},
   "source": [
    "# dnn"
   ]
  },
  {
   "cell_type": "code",
   "execution_count": 188,
   "metadata": {},
   "outputs": [
    {
     "name": "stderr",
     "output_type": "stream",
     "text": [
      "C:\\ProgramData\\Anaconda3\\lib\\site-packages\\ipykernel_launcher.py:2: RuntimeWarning: divide by zero encountered in true_divide\n",
      "  \n"
     ]
    }
   ],
   "source": [
    "dnn_pred = modeldnn.predict(test_X)\n",
    "# dnn_pred,y_true,inv_test=inv(dnn_pred,test_year,test_X,test_y)\n",
    "dnn_pred,y_true,inv_test=inv(dnn_pred,test_X,test_y)\n",
    "\n",
    "dnn_mse = metrics.mean_squared_error(y_true, dnn_pred)\n",
    "dnn_rmse = math.sqrt(mean_squared_error(y_true[:,0], dnn_pred[:,0]))\n",
    "dnn_mae = metrics.mean_absolute_error(y_true, dnn_pred)\n",
    "dnn_mape = mape(y_true, dnn_pred)\n",
    "dnn_smape = smape(y_true, dnn_pred)"
   ]
  },
  {
   "cell_type": "code",
   "execution_count": 189,
   "metadata": {
    "scrolled": false
   },
   "outputs": [
    {
     "name": "stdout",
     "output_type": "stream",
     "text": [
      "0.061620045 0.24823385235158804 0.09658542 inf 111.5146279335022\n"
     ]
    }
   ],
   "source": [
    "print(dnn_mse,dnn_rmse,dnn_mae,dnn_mape,dnn_smape)"
   ]
  },
  {
   "cell_type": "markdown",
   "metadata": {},
   "source": [
    "# LSTM\n"
   ]
  },
  {
   "cell_type": "code",
   "execution_count": 190,
   "metadata": {},
   "outputs": [
    {
     "name": "stderr",
     "output_type": "stream",
     "text": [
      "C:\\ProgramData\\Anaconda3\\lib\\site-packages\\ipykernel_launcher.py:2: RuntimeWarning: divide by zero encountered in true_divide\n",
      "  \n"
     ]
    }
   ],
   "source": [
    "# make a prediction\n",
    "lstm_pred = modellstm.predict(test_Xl)\n",
    "# test_X = test_X.reshape((test_X.shape[0], test_X.shape[2]))\n",
    "lstm_pred,y_true,inv_test=inv(lstm_pred,test_X,test_y)\n",
    "lstm_mse = metrics.mean_squared_error(y_true, lstm_pred)\n",
    "lstm_rmse = math.sqrt(mean_squared_error(y_true[:,0], lstm_pred[:,0]))\n",
    "lstm_mae = metrics.mean_absolute_error(y_true, lstm_pred)\n",
    "lstm_mape = mape(y_true, lstm_pred)\n",
    "lstm_smape = smape(y_true, lstm_pred)\n"
   ]
  },
  {
   "cell_type": "code",
   "execution_count": 191,
   "metadata": {},
   "outputs": [
    {
     "name": "stdout",
     "output_type": "stream",
     "text": [
      "0.059573565 0.24407696466162176 0.10383811 inf 110.37533283233643\n"
     ]
    }
   ],
   "source": [
    "print(lstm_mse,lstm_rmse,lstm_mae,lstm_mape,lstm_smape)"
   ]
  },
  {
   "cell_type": "markdown",
   "metadata": {},
   "source": [
    "# 评价指标"
   ]
  },
  {
   "cell_type": "code",
   "execution_count": 192,
   "metadata": {},
   "outputs": [],
   "source": [
    "#评价指标\n",
    "# evaluate = pd.DataFrame(columns=['Test','SVM','BP','DNN','LSTM'])\n",
    "evaluate = pd.DataFrame(columns=['Test','BP','DNN','LSTM'])"
   ]
  },
  {
   "cell_type": "code",
   "execution_count": 193,
   "metadata": {},
   "outputs": [],
   "source": [
    "evaluate['Test']=['MSE','RMSE','MAE','MAPE','SMAPE']\n",
    "evaluate=evaluate.set_index('Test',drop=True)"
   ]
  },
  {
   "cell_type": "code",
   "execution_count": 194,
   "metadata": {
    "scrolled": true
   },
   "outputs": [
    {
     "data": {
      "text/html": [
       "<div>\n",
       "<style scoped>\n",
       "    .dataframe tbody tr th:only-of-type {\n",
       "        vertical-align: middle;\n",
       "    }\n",
       "\n",
       "    .dataframe tbody tr th {\n",
       "        vertical-align: top;\n",
       "    }\n",
       "\n",
       "    .dataframe thead th {\n",
       "        text-align: right;\n",
       "    }\n",
       "</style>\n",
       "<table border=\"1\" class=\"dataframe\">\n",
       "  <thead>\n",
       "    <tr style=\"text-align: right;\">\n",
       "      <th></th>\n",
       "      <th>BP</th>\n",
       "      <th>DNN</th>\n",
       "      <th>LSTM</th>\n",
       "    </tr>\n",
       "    <tr>\n",
       "      <th>Test</th>\n",
       "      <th></th>\n",
       "      <th></th>\n",
       "      <th></th>\n",
       "    </tr>\n",
       "  </thead>\n",
       "  <tbody>\n",
       "    <tr>\n",
       "      <th>MSE</th>\n",
       "      <td>0.076206</td>\n",
       "      <td>0.061620</td>\n",
       "      <td>0.059574</td>\n",
       "    </tr>\n",
       "    <tr>\n",
       "      <th>RMSE</th>\n",
       "      <td>0.276054</td>\n",
       "      <td>0.248234</td>\n",
       "      <td>0.244077</td>\n",
       "    </tr>\n",
       "    <tr>\n",
       "      <th>MAE</th>\n",
       "      <td>0.120800</td>\n",
       "      <td>0.096585</td>\n",
       "      <td>0.103838</td>\n",
       "    </tr>\n",
       "    <tr>\n",
       "      <th>MAPE</th>\n",
       "      <td>inf</td>\n",
       "      <td>inf</td>\n",
       "      <td>inf</td>\n",
       "    </tr>\n",
       "    <tr>\n",
       "      <th>SMAPE</th>\n",
       "      <td>113.298798</td>\n",
       "      <td>111.514628</td>\n",
       "      <td>110.375333</td>\n",
       "    </tr>\n",
       "  </tbody>\n",
       "</table>\n",
       "</div>"
      ],
      "text/plain": [
       "               BP         DNN        LSTM\n",
       "Test                                     \n",
       "MSE      0.076206    0.061620    0.059574\n",
       "RMSE     0.276054    0.248234    0.244077\n",
       "MAE      0.120800    0.096585    0.103838\n",
       "MAPE          inf         inf         inf\n",
       "SMAPE  113.298798  111.514628  110.375333"
      ]
     },
     "execution_count": 194,
     "metadata": {},
     "output_type": "execute_result"
    }
   ],
   "source": [
    "# evaluate['SVM']=[svm_mse,svm_rmse,svm_mae,svm_mape ,svm_smape]\n",
    "evaluate['BP']=[bp_mse,bp_rmse,bp_mae,bp_mape ,bp_smape]\n",
    "evaluate['DNN']=[dnn_mse,dnn_rmse,dnn_mae,dnn_mape ,dnn_smape]\n",
    "evaluate['LSTM']=[lstm_mse,lstm_rmse,lstm_mae,lstm_mape,lstm_smape]\n",
    "evaluate"
   ]
  },
  {
   "cell_type": "markdown",
   "metadata": {},
   "source": [
    "# 保存预测结果并绘图"
   ]
  },
  {
   "cell_type": "code",
   "execution_count": null,
   "metadata": {
    "scrolled": true
   },
   "outputs": [],
   "source": [
    "# # from pylab import *\n",
    "# # mpl.rcParams['font.sans-serif'] = ['SimHei']\n",
    "# #真实值和预测值对比图\n",
    "# # plt.plot(y_true,'royalblue',label='Real')\n",
    "# # plt.plot(svm_pred,'orange',label='SVM')\n",
    "# plt.plot(y_true,'b',label='Real')\n",
    "# plt.plot(svm_pred,'m',label='SVM')\n",
    "\n",
    "\n",
    "\n",
    "# plt.title('Station 1')\n",
    "# plt.ylabel('Power')\n",
    "# plt.xlabel('Time')\n",
    "# plt.legend()\n",
    "# plt.savefig('../picture/SVM1.jpg')"
   ]
  },
  {
   "cell_type": "code",
   "execution_count": 195,
   "metadata": {},
   "outputs": [
    {
     "data": {
      "image/png": "[encoded data removed]",
      "text/plain": [
       "<Figure size 432x288 with 1 Axes>"
      ]
     },
     "metadata": {},
     "output_type": "display_data"
    }
   ],
   "source": [
    "#真实值和预测值对比图\n",
    "# plt.plot(y_true,'royalblue',label='Real')\n",
    "# plt.plot(bp_pred,'limegreen',label='BP')\n",
    "plt.plot(y_true,'b',label='Real')\n",
    "plt.plot(bp_pred,'g',label='BP')\n",
    "\n",
    "\n",
    "plt.title('Station 1')\n",
    "plt.ylabel('Power')\n",
    "plt.xlabel('Time')\n",
    "plt.legend()\n",
    "plt.savefig('../picture/BP0702.jpg')"
   ]
  },
  {
   "cell_type": "code",
   "execution_count": 196,
   "metadata": {},
   "outputs": [
    {
     "data": {
      "image/png": "[encoded data removed]",
      "text/plain": [
       "<Figure size 432x288 with 1 Axes>"
      ]
     },
     "metadata": {},
     "output_type": "display_data"
    }
   ],
   "source": [
    "#真实值和预测值对比图\n",
    "# plt.plot(y_true,'royalblue',label='Real')\n",
    "# plt.plot(dnn_pred,'tomato',label='DNN')\n",
    "plt.plot(y_true,'b',label='Real')\n",
    "plt.plot(dnn_pred,'y',label='DNN')\n",
    "\n",
    "\n",
    "plt.title('Station 1')\n",
    "plt.ylabel('Power')\n",
    "plt.xlabel('Time')\n",
    "plt.legend()\n",
    "plt.savefig('../picture/DNN0702.jpg')"
   ]
  },
  {
   "cell_type": "code",
   "execution_count": 197,
   "metadata": {},
   "outputs": [
    {
     "data": {
      "image/png": "[encoded data removed]",
      "text/plain": [
       "<Figure size 432x288 with 1 Axes>"
      ]
     },
     "metadata": {},
     "output_type": "display_data"
    }
   ],
   "source": [
    "#真实值和预测值对比图\n",
    "\n",
    "# plt.plot(lstm_pred,'orchid',label='LSTM')\n",
    "plt.plot(y_true,'b',label='Real')\n",
    "plt.plot(lstm_pred,'r',label='LSTM')\n",
    "\n",
    "plt.title('Station 1')\n",
    "plt.ylabel('Power')\n",
    "plt.xlabel('Time')\n",
    "plt.legend()\n",
    "plt.savefig('../picture/LSTM0702.jpg')"
   ]
  },
  {
   "cell_type": "markdown",
   "metadata": {},
   "source": [
    "# 保存"
   ]
  },
  {
   "cell_type": "code",
   "execution_count": 201,
   "metadata": {
    "scrolled": true
   },
   "outputs": [
    {
     "ename": "AttributeError",
     "evalue": "'numpy.ndarray' object has no attribute 'head'",
     "output_type": "error",
     "traceback": [
      "\u001b[1;31m---------------------------------------------------------------------------\u001b[0m",
      "\u001b[1;31mAttributeError\u001b[0m                            Traceback (most recent call last)",
      "\u001b[1;32m<ipython-input-201-fc17aca849c8>\u001b[0m in \u001b[0;36m<module>\u001b[1;34m()\u001b[0m\n\u001b[1;32m----> 1\u001b[1;33m \u001b[0mtest1\u001b[0m\u001b[1;33m.\u001b[0m\u001b[0mhead\u001b[0m\u001b[1;33m(\u001b[0m\u001b[1;33m)\u001b[0m\u001b[1;33m\u001b[0m\u001b[0m\n\u001b[0m",
      "\u001b[1;31mAttributeError\u001b[0m: 'numpy.ndarray' object has no attribute 'head'"
     ]
    }
   ],
   "source": [
    "# test1.head()"
   ]
  },
  {
   "cell_type": "code",
   "execution_count": 204,
   "metadata": {},
   "outputs": [
    {
     "data": {
      "text/plain": [
       "Index(['Timestamp', 'Year', 'Month', 'Day', 'Hour', 'Minutes',\n",
       "       'Temperature(°C)', 'Relative Humidity(%)', 'Wind Direction(Degrees)',\n",
       "       'Daily Rainfall(mm)', 'Global Horizontal Radiation(W/m²)',\n",
       "       'Diffuse Horizontal Radiation(W/m²)', 'Station_4'],\n",
       "      dtype='object')"
      ]
     },
     "execution_count": 204,
     "metadata": {},
     "output_type": "execute_result"
    }
   ],
   "source": [
    "test.columns"
   ]
  },
  {
   "cell_type": "code",
   "execution_count": 205,
   "metadata": {
    "scrolled": true
   },
   "outputs": [
    {
     "data": {
      "image/png": "[encoded data removed]",
      "text/plain": [
       "<Figure size 432x288 with 1 Axes>"
      ]
     },
     "metadata": {},
     "output_type": "display_data"
    }
   ],
   "source": [
    "\n",
    "#真实值和预测值对比图\n",
    "plt.plot(y_true,'b',label='Real')\n",
    "# plt.plot(svm_pred,'m',label='SVM')\n",
    "plt.plot(bp_pred,'g',label='BP')\n",
    "plt.plot(dnn_pred,'y',label='DNN')\n",
    "plt.plot(lstm_pred,'r',label='LSTM')\n",
    "\n",
    "plt.title('Station 4')\n",
    "plt.ylabel('Power')\n",
    "plt.xlabel('Time')\n",
    "plt.legend()\n",
    "plt.savefig('../picture/SVMLSTM1.jpg')\n",
    "\n",
    "#训练集和测试集 预测结果保存\n",
    "predict_ = pd.DataFrame(inv_test)\n",
    "# predict_.columns = ['Year', 'Month', 'Day', 'Hour', 'Minutes', 'WTC', 'WRH', 'GHR', 'DHR',\n",
    "#        'RGT', 'RDT', '1A Trina_power']\n",
    "predict_.columns = ['Month(t-12)', 'Day(t-12)', 'Hour(t-12)', 'Minutes(t-12)',\n",
    "       'Temperature(°C)(t-12)', 'Relative Humidity(%)(t-12)',\n",
    "       'Wind Direction(Degrees)(t-12)', 'Daily Rainfall(mm)(t-12)',\n",
    "       'Global Horizontal Radiation(W/m²)(t-12)',\n",
    "       'Diffuse Horizontal Radiation(W/m²)(t-12)', 'Station_4(t-12)',\n",
    "       'Station_4(t)']\n",
    "# predict_['SVM'] = svm_pred\n",
    "predict_['BP'] = bp_pred\n",
    "predict_['DNN'] = dnn_pred\n",
    "predict_['LSTM'] = lstm_pred\n",
    "predict_.to_csv('../predict/Station_4_predict.csv',index=False)\n"
   ]
  },
  {
   "cell_type": "markdown",
   "metadata": {},
   "source": [
    "画出例如2020年1月20号的预测图"
   ]
  },
  {
   "cell_type": "code",
   "execution_count": null,
   "metadata": {
    "scrolled": true
   },
   "outputs": [],
   "source": [
    "predict_.columns"
   ]
  },
  {
   "cell_type": "code",
   "execution_count": null,
   "metadata": {
    "scrolled": true
   },
   "outputs": [],
   "source": [
    "# from scipy.interpolate import spline\n",
    "predict_[['Month(t-1)', 'Day(t-1)', 'Hour(t-1)', 'Minutes(t-1)']] = predict_[['Month(t-1)', 'Day(t-1)', 'Hour(t-1)', 'Minutes(t-1)']].astype(\"int\")\n",
    "\n",
    "# Day0120 = predict_.loc[(predict_['Year'] == 2020) & (predict_['Month'] == ) & (predict_['Day'] == 20),:]\n",
    "Day0120 = predict_.loc[(predict_['Month(t-1)'] == 2 ) & (predict_['Day(t-1)'] == 20),:]\n",
    "#real_power_day.set_index('time', inplace=False)\n",
    "Real=Day0120.set_index('Hour(t-1)', inplace=False)['1A Trina_power(t+1)']\n",
    "svm_pr=Day0120.set_index('Hour(t-1)', inplace=False)['SVM']\n",
    "bp_pr=Day0120.set_index('Hour(t-1)', inplace=False)['BP']\n",
    "dnn_pr=Day0120.set_index('Hour(t-1)', inplace=False)['DNN']\n",
    "lstm_pr=Day0120.set_index('Hour(t-1)', inplace=False)['LSTM']\n",
    "\n",
    "fig = plt.figure()\n",
    "plt.plot(Real,label='Real')\n",
    "plt.plot(svm_pr,label='SVM')\n",
    "plt.plot(bp_pr,label='BP')\n",
    "plt.plot(dnn_pr,label='DNN')\n",
    "plt.plot(lstm_pr,label='LSTM')\n",
    "\n",
    "plt.title('Prediction 2020-2-20')\n",
    "plt.ylabel('Power')\n",
    "plt.xlabel('Time')\n",
    "# plt.legend(['Train', 'Test'], loc='upper left')\n",
    "plt.legend()\n",
    "plt.savefig('../picture/2-20pred.jpg')\n",
    "#ax = fig.add_subplot(1,1,1)\n",
    "#ax.plot(real_power_day_)\n",
    "# real_power_day_.plot()\n",
    "#real_power_day_.set_axis(['00:15:00','06:15:00','12:15:00','18:15:00'])\n",
    "#real_power_day_"
   ]
  },
  {
   "cell_type": "markdown",
   "metadata": {},
   "source": [
    "# 2020 "
   ]
  },
  {
   "cell_type": "code",
   "execution_count": null,
   "metadata": {},
   "outputs": [],
   "source": [
    "# from scipy.interpolate import spline\n",
    "predict_[['Month(t-1)', 'Day(t-1)', 'Hour(t-1)', 'Minutes(t-1)']] = predict_[['Month(t-1)', 'Day(t-1)', 'Hour(t-1)', 'Minutes(t-1)']].astype(\"int\")\n",
    "\n",
    "# Day0120 = predict_.loc[(predict_['Year'] == 2020) & (predict_['Month'] == ) & (predict_['Day'] == 20),:]\n",
    "Day0120 = predict_.loc[(predict_['Month(t-1)'] == 3 ) & (predict_['Day(t-1)'] == 25),:]\n",
    "#real_power_day.set_index('time', inplace=False)\n",
    "Real=Day0120.set_index('Hour(t-1)', inplace=False)['1A Trina_power(t+1)']\n",
    "svm_pr=Day0120.set_index('Hour(t-1)', inplace=False)['SVM']\n",
    "bp_pr=Day0120.set_index('Hour(t-1)', inplace=False)['BP']\n",
    "dnn_pr=Day0120.set_index('Hour(t-1)', inplace=False)['DNN']\n",
    "lstm_pr=Day0120.set_index('Hour(t-1)', inplace=False)['LSTM']\n",
    "\n",
    "fig = plt.figure()\n",
    "plt.plot(Real,label='Real')\n",
    "plt.plot(svm_pr,label='SVM')\n",
    "plt.plot(bp_pr,label='BP')\n",
    "plt.plot(dnn_pr,label='DNN')\n",
    "plt.plot(lstm_pr,label='LSTM')\n",
    "\n",
    "plt.title('Prediction 2020-3-25')\n",
    "plt.ylabel('Power')\n",
    "plt.xlabel('Time')\n",
    "# plt.legend(['Train', 'Test'], loc='upper left')\n",
    "plt.legend()\n",
    "plt.savefig('../picture/3-25pred.jpg')\n",
    "#ax = fig.add_subplot(1,1,1)\n",
    "#ax.plot(real_power_day_)\n",
    "# real_power_day_.plot()\n",
    "#real_power_day_.set_axis(['00:15:00','06:15:00','12:15:00','18:15:00'])\n",
    "#real_power_day_"
   ]
  },
  {
   "cell_type": "code",
   "execution_count": null,
   "metadata": {},
   "outputs": [],
   "source": []
  },
  {
   "cell_type": "code",
   "execution_count": null,
   "metadata": {},
   "outputs": [],
   "source": []
  }
 ],
 "metadata": {
  "kernelspec": {
   "display_name": "Python 3",
   "language": "python",
   "name": "python3"
  },
  "language_info": {
   "codemirror_mode": {
    "name": "ipython",
    "version": 3
   },
   "file_extension": ".py",
   "mimetype": "text/x-python",
   "name": "python",
   "nbconvert_exporter": "python",
   "pygments_lexer": "ipython3",
   "version": "3.6.5"
  }
 },
 "nbformat": 4,
 "nbformat_minor": 2
}
